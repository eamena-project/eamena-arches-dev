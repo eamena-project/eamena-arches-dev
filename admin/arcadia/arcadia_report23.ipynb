{
  "nbformat": 4,
  "nbformat_minor": 0,
  "metadata": {
    "colab": {
      "provenance": []
    },
    "kernelspec": {
      "name": "python3",
      "display_name": "Python 3"
    },
    "language_info": {
      "name": "python"
    }
  },
  "cells": [
    {
      "cell_type": "markdown",
      "source": [
        "# Arcadia report 2023"
      ],
      "metadata": {
        "id": "LUdXWeHrZm8G"
      }
    },
    {
      "cell_type": "code",
      "execution_count": 1,
      "metadata": {
        "colab": {
          "base_uri": "https://localhost:8080/",
          "height": 622
        },
        "id": "jLAcs9MEZeIX",
        "outputId": "212060c3-ce8d-455f-ca1f-5ee69c073e8d"
      },
      "outputs": [
        {
          "output_type": "execute_result",
          "data": {
            "text/plain": [
              "<IPython.lib.display.IFrame at 0x79290a6111b0>"
            ],
            "text/html": [
              "\n",
              "        <iframe\n",
              "            width=\"1000\"\n",
              "            height=\"600\"\n",
              "            src=\"https://mareastats.drashsmith.com/\"\n",
              "            frameborder=\"0\"\n",
              "            allowfullscreen\n",
              "            \n",
              "        ></iframe>\n",
              "        "
            ]
          },
          "metadata": {},
          "execution_count": 1
        }
      ],
      "source": [
        "from IPython.display import IFrame\n",
        "IFrame('https://mareastats.drashsmith.com/', width=1000, height=600)"
      ]
    }
  ]
}