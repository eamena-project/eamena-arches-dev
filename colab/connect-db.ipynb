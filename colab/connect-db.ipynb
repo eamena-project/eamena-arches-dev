{
 "cells": [
  {
   "cell_type": "code",
   "execution_count": 22,
   "metadata": {},
   "outputs": [],
   "source": [
    "import psycopg2 as pg\n",
    "import pandas as pd"
   ]
  },
  {
   "cell_type": "markdown",
   "metadata": {},
   "source": [
    "Set up the database connection parameters. You'll need to provide the database name, user, password, host, and port:"
   ]
  },
  {
   "cell_type": "code",
   "execution_count": 3,
   "metadata": {},
   "outputs": [],
   "source": [
    "dbname = \"eamena\"\n",
    "user = \"eamenar\"\n",
    "password = \"eamenar\"\n",
    "host = \"52.50.27.140\"\n",
    "port = \"5432\""
   ]
  },
  {
   "cell_type": "markdown",
   "metadata": {},
   "source": [
    "Establish a connection to the database using the psycopg2.connect() function:"
   ]
  },
  {
   "cell_type": "code",
   "execution_count": 23,
   "metadata": {},
   "outputs": [
    {
     "name": "stdout",
     "output_type": "stream",
     "text": [
      "Connection established successfully!\n"
     ]
    }
   ],
   "source": [
    "try:\n",
    "    connection = pg.connect(\n",
    "        dbname=dbname,\n",
    "        user=user,\n",
    "        password=password,\n",
    "        host=host,\n",
    "        port=port\n",
    "    )\n",
    "    print(\"Connection established successfully!\")\n",
    "except pg.Error as e:\n",
    "    print(f\"Error: {e}\")"
   ]
  },
  {
   "cell_type": "markdown",
   "metadata": {},
   "source": [
    "Create a cursor object to interact with the database and execute SQL queries using the cursor. For example, you can execute a simple query like this:"
   ]
  },
  {
   "cell_type": "code",
   "execution_count": 24,
   "metadata": {},
   "outputs": [
    {
     "name": "stdout",
     "output_type": "stream",
     "text": [
      "                                grid_id  nb_hp   grid_num\n",
      "0  36997a90-8e1c-4693-9738-1af1b428a07c      5  E34N31-13\n",
      "1  9786a8b2-4f69-46c9-a0b0-656c26e5f908     78  E34N31-14\n",
      "2  8b54b4d1-2077-4594-b3e6-59b5c9bbf3ae     21  E34N31-42\n",
      "3  be51ee3c-d2aa-4244-ae69-f93cca04a690    118  E35N31-31\n",
      "4  09107442-c267-44cb-806f-d66ea5d2d70b      1  E34N31-12\n",
      "5  c4e8738c-c3a5-4aba-a3f5-31f3890150e0     20  E34N31-32\n",
      "6  c077f029-3185-4177-bac5-81f14846595f      7  E34N32-22\n",
      "7  ab1ffdfe-2e6e-4502-8080-ba2d705af546    231  E35N31-34\n",
      "8  5274cb77-b93b-465c-9323-7e5deda2d01c     86  E35N32-12\n",
      "9  db704a72-ddf0-4139-963c-2eb5cccb3b0e     20  E34N31-24\n"
     ]
    },
    {
     "name": "stderr",
     "output_type": "stream",
     "text": [
      "C:\\Users\\Thomas Huet\\AppData\\Local\\Temp\\ipykernel_15972\\3594355094.py:4: UserWarning: pandas only supports SQLAlchemy connectable (engine/connection) or database string URI or sqlite3 DBAPI2 connection. Other DBAPI2 objects are not tested. Please consider using SQLAlchemy.\n",
      "  my_table = pd.read_sql(\"SELECT * FROM nb_hp_by_gs LIMIT 10;\", connection)\n"
     ]
    }
   ],
   "source": [
    "my_table = pd.read_sql(\"SELECT * FROM nb_hp_by_gs LIMIT 10;\", connection)\n",
    "print(my_table)"
   ]
  }
 ],
 "metadata": {
  "kernelspec": {
   "display_name": "Python 3",
   "language": "python",
   "name": "python3"
  },
  "language_info": {
   "codemirror_mode": {
    "name": "ipython",
    "version": 3
   },
   "file_extension": ".py",
   "mimetype": "text/x-python",
   "name": "python",
   "nbconvert_exporter": "python",
   "pygments_lexer": "ipython3",
   "version": "3.11.2"
  },
  "orig_nbformat": 4
 },
 "nbformat": 4,
 "nbformat_minor": 2
}
