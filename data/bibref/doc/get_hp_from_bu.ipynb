{
 "cells": [
  {
   "cell_type": "markdown",
   "metadata": {},
   "source": [
    "Collect the EAMENA IDs and UUIDs from the `Al_Idris_LT_LXV-.xlsx.json.json` BU summary"
   ]
  },
  {
   "cell_type": "markdown",
   "metadata": {},
   "source": [
    "Load `Al_Idris_LT_LXV-.xlsx.json.json`"
   ]
  },
  {
   "cell_type": "code",
   "execution_count": null,
   "metadata": {},
   "outputs": [],
   "source": [
    "import requests\n",
    "import json\n",
    "import pandas as pd\n",
    "\n",
    "\n",
    "github_url = f'https://raw.githubusercontent.com/eamena-project/eamena-arches-dev/main/data/bibref/doc/Al_Idris_LT_LXV-.xlsx.json.json'\n",
    "try:\n",
    "    response = requests.get(github_url)\n",
    "    response.raise_for_status()  # Check for HTTP errors\n",
    "    json_data = response.json()\n",
    "except requests.exceptions.RequestException as e:\n",
    "    print(\"Error:\", e)"
   ]
  },
  {
   "cell_type": "markdown",
   "metadata": {},
   "source": [
    "Plot `Al_Idris_LT_LXV-.xlsx.json.json` as a table"
   ]
  },
  {
   "cell_type": "code",
   "execution_count": 16,
   "metadata": {},
   "outputs": [
    {
     "name": "stdout",
     "output_type": "stream",
     "text": [
      "| eaid           | uuid                                 |\n",
      "|:---------------|:-------------------------------------|\n",
      "| EAMENA-0235318 | 3e696e02-953e-40f8-b204-c4aaadd75cfe |\n",
      "| EAMENA-0235318 | 3f7081d5-00ec-40f0-9699-13417db88c0d |\n",
      "| EAMENA-0235318 | 96087c97-3344-467b-8dbe-7719f8fecb9b |\n",
      "| EAMENA-0235318 | 91763d12-0a37-45ec-ade7-d242878c0b56 |\n",
      "| EAMENA-0235318 | 6c3499d0-2793-490a-a351-399c468159f3 |\n",
      "| EAMENA-0235318 | 2e23a3dc-420c-4032-bce0-689a8117270a |\n",
      "| EAMENA-0235318 | e8e4780d-d99e-45b6-9119-e39d135a5ddf |\n",
      "| EAMENA-0235318 | d056bd14-2efc-4e4e-aedd-d8754720a752 |\n",
      "| EAMENA-0235318 | 8f055899-ddce-42fb-ae9c-1179254f8227 |\n",
      "| EAMENA-0235318 | cae6c336-ccd8-4aa1-a0c7-e333411e07fd |\n",
      "| EAMENA-0235318 | a98b3e36-f773-49ae-b32d-1f1897f2e1fc |\n",
      "| EAMENA-0235318 | 749dcb7e-eb0e-42a0-b288-6cb1987f08b7 |\n",
      "| EAMENA-0235318 | bea5cdd6-140b-4437-9d10-d053e9a2f147 |\n",
      "| EAMENA-0235318 | 747e792b-b1ec-4633-b55c-dd2885d5fba2 |\n",
      "| EAMENA-0235318 | 4348d214-af03-446a-b1cf-c468223b7111 |\n",
      "| EAMENA-0235318 | ac3ecbcb-e267-4a81-91d8-3e9dbec71e21 |\n",
      "| EAMENA-0235318 | 263a73c9-2197-4939-90f7-0e8b399698f4 |\n",
      "| EAMENA-0235318 | f8d5f862-4c0b-4f2b-ad92-c8bab0477129 |\n",
      "| EAMENA-0235318 | f4da224f-8b0b-41fa-981d-be1d33fe9647 |\n",
      "| EAMENA-0235318 | 78f5123f-1216-4537-acca-61b6440b231b |\n",
      "| EAMENA-0235318 | b2a4cc23-49dc-4e77-9dea-31e5d372d538 |\n",
      "| EAMENA-0235318 | 882cdf8b-5f47-4d5e-ac9e-daf7bb4338cb |\n",
      "| EAMENA-0235318 | 690de0c3-398d-41d7-8e78-d3d97bddadad |\n",
      "| EAMENA-0235318 | a234a53c-928e-4064-bc44-8ed5493432f4 |\n",
      "| EAMENA-0235318 | deae6089-57cb-4be8-97bb-243f1123c1bc |\n",
      "| EAMENA-0235318 | b2fa00be-f8ad-444b-ab94-795a78bd0b88 |\n",
      "| EAMENA-0235318 | a34bf9ac-5b5b-4869-bc9f-a75c88974761 |\n",
      "| EAMENA-0235318 | 1e48148b-e3ec-4f54-b33a-4716c2d3bbfd |\n",
      "| EAMENA-0235318 | 95fc4eac-aa97-4198-a4a6-f63bb2c2dcff |\n",
      "| EAMENA-0235318 | 3466798a-3277-4f63-b12d-c44b2b3c7b7c |\n",
      "| EAMENA-0235318 | 6d1f027f-19ea-4b34-a0fb-8de1d85a46a0 |\n",
      "| EAMENA-0235318 | c2bb9890-5f4f-4121-8cbf-a99888b13516 |\n",
      "| EAMENA-0235318 | c58f3edd-10e3-4b55-b314-166aaa9bba05 |\n",
      "| EAMENA-0235318 | 046f0c28-d7e9-4f3c-af1f-ce321eccc0d8 |\n",
      "| EAMENA-0235318 | 2d6cf443-503d-4aa4-b2d2-168fc06e10d3 |\n",
      "| EAMENA-0235318 | 92480efe-38d9-40b6-9a5f-8a473e4b7318 |\n",
      "| EAMENA-0235318 | b7815e5d-156b-47b9-903a-ecade2e933e0 |\n",
      "| EAMENA-0235318 | 36082c3c-30d8-444c-86cf-89abcd18cf23 |\n",
      "| EAMENA-0235318 | faf7bed9-e647-4d0e-832e-2d047f3b21df |\n",
      "| EAMENA-0235318 | eef45ffa-6bf8-4990-a246-a5b341ab6d6b |\n",
      "| EAMENA-0235318 | f8a94a17-065b-4f09-ac6c-bad12b2fc34f |\n",
      "| EAMENA-0235318 | 61870218-0848-4a77-8d64-e19fbe6f783c |\n",
      "| EAMENA-0235318 | 70e2e0a6-0751-4c4c-9573-cd0a1504c00e |\n",
      "| EAMENA-0235318 | 15aa2129-bd6a-4839-be38-1793e18763e8 |\n",
      "| EAMENA-0235318 | 7fbf4aec-a7ee-4400-ae6e-7ae4e8f3276a |\n",
      "| EAMENA-0235318 | d8aee43f-27e7-4e5c-a719-f71a38987da2 |\n",
      "| EAMENA-0235318 | 62c0f75b-6a1e-4b85-8771-1e62399b5843 |\n",
      "| EAMENA-0235318 | a7bd99fb-4b39-4dab-993e-d186004e213a |\n",
      "| EAMENA-0235318 | 49f9e8e9-f624-423f-85fd-8a2ec3093080 |\n",
      "| EAMENA-0235318 | 8b0dc6b7-50d8-40b4-a863-52447ca17be7 |\n",
      "| EAMENA-0235318 | 5b3017e3-0640-4be6-a85d-412f4eb933fa |\n",
      "| EAMENA-0235318 | 1fb2c50c-ddd7-4160-b01c-d6cbb1c8ddb9 |\n",
      "| EAMENA-0235318 | d6b987f6-3892-479d-a6a3-02e9984a01e0 |\n",
      "| EAMENA-0235318 | a1d7b201-a7ca-4f6f-8b5c-6545fadf45e7 |\n",
      "| EAMENA-0235318 | 92498f5e-4b77-4b99-85ed-7f3a6b95bd5b |\n",
      "| EAMENA-0235318 | f0c4da86-19ff-428b-bc3a-14ba3167c467 |\n",
      "| EAMENA-0235318 | 074c98c8-50fa-46b7-9674-7c85744ad73d |\n",
      "| EAMENA-0235318 | 4fcc6a11-d61b-42ff-93b4-28e9d1020892 |\n",
      "| EAMENA-0235318 | 276dda8c-3efb-4a93-aa8e-594d85d996b5 |\n",
      "| EAMENA-0235318 | 8cc6ff9c-618c-45c6-a23e-283200134c28 |\n",
      "| EAMENA-0235318 | b2657be5-ecd0-4066-b333-fdf867910107 |\n",
      "| EAMENA-0235318 | a74e3545-583e-4cfd-81e5-07ebff543a7f |\n",
      "| EAMENA-0235318 | 534e12a4-929a-4ddb-bd89-31cee574b6d8 |\n",
      "| EAMENA-0235318 | b9e0ca81-1360-47fd-975c-0301122b5f26 |\n",
      "| EAMENA-0235318 | 0ecb2ced-4d35-46f5-95c0-278eb9208bfe |\n",
      "| EAMENA-0235318 | a0513c8e-65a2-440d-98f0-a29a21f7c814 |\n",
      "| EAMENA-0235318 | d7d5fcb4-30f2-4401-8d87-b882cfc6d01a |\n",
      "| EAMENA-0235318 | a461813a-af9d-44e2-b1ae-0d00b5380742 |\n",
      "| EAMENA-0235318 | 3233014a-1e26-4a12-872d-0b7400fd9e18 |\n",
      "| EAMENA-0235318 | 5c4976ab-6b7f-4401-81b7-58f3ead21a05 |\n",
      "| EAMENA-0235318 | 099949d0-a6ca-4633-ba92-5bcff658baa7 |\n",
      "| EAMENA-0235318 | 4de500ca-694c-4d95-933c-c769acbf306c |\n",
      "| EAMENA-0235318 | eb7388a3-5923-4aed-a110-a7135e78a6e8 |\n",
      "| EAMENA-0235318 | 85fc91b4-4291-468c-ab2f-3ff925b1fbdb |\n",
      "| EAMENA-0235318 | 43683cea-51da-402b-81c7-3814f2cd4f3c |\n",
      "| EAMENA-0235318 | 354a17c8-393f-4a55-9d47-d2499bbb2ff5 |\n",
      "| EAMENA-0235318 | 1971a477-dec7-46ff-a35e-6666b5af8f8d |\n",
      "| EAMENA-0235318 | a2dbc9a4-77af-4dbd-ace2-94fb0c3f3a1b |\n",
      "| EAMENA-0235318 | 808582f4-cf35-407e-a784-449c221c6358 |\n"
     ]
    }
   ],
   "source": [
    "df = pd.DataFrame(columns=['eaid', 'uuid'])\n",
    "for i in range(len(json_data)):  # Example loop, replace with your actual loop\n",
    "    data_row = {'eaid': json_data[0]['eamenaid']['en']['value'], 'uuid': json_data[i]['uuid']} \n",
    "    df.loc[i] = data_row\n",
    "print(df.to_markdown(index=False))"
   ]
  }
 ],
 "metadata": {
  "kernelspec": {
   "display_name": "Python 3",
   "language": "python",
   "name": "python3"
  },
  "language_info": {
   "codemirror_mode": {
    "name": "ipython",
    "version": 3
   },
   "file_extension": ".py",
   "mimetype": "text/x-python",
   "name": "python",
   "nbconvert_exporter": "python",
   "pygments_lexer": "ipython3",
   "version": "3.11.2"
  }
 },
 "nbformat": 4,
 "nbformat_minor": 2
}
