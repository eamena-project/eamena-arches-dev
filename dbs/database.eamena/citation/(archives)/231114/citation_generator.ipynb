{
  "cells": [
    {
      "cell_type": "markdown",
      "metadata": {
        "id": "MzTk1nnC1ECB"
      },
      "source": [
        "# POST an EAMENA dataset on Zenodo\n",
        "\n",
        "Post an EAMENA dataset on Zenodo from an EAMENA Search URL (ex: Sistan dataset, caravanserais, etc.)\n",
        "\n",
        "---\n",
        "\n",
        "documentation: https://developers.zenodo.org/#quickstart-upload"
      ]
    },
    {
      "cell_type": "markdown",
      "metadata": {
        "id": "hQk_yZYU1ECF"
      },
      "source": [
        "## Libraries"
      ]
    },
    {
      "cell_type": "code",
      "execution_count": 1,
      "metadata": {
        "id": "TkebKuTO1ECG"
      },
      "outputs": [],
      "source": [
        "import os\n",
        "import requests\n",
        "import json\n",
        "import zipfile\n",
        "import pandas as pd\n",
        "import numpy as np\n",
        "\n",
        "# needed to export as JSON\n",
        "class NpEncoder(json.JSONEncoder):\n",
        "    def default(self, obj):\n",
        "        if isinstance(obj, np.integer):\n",
        "            return int(obj)\n",
        "        if isinstance(obj, np.floating):\n",
        "            return float(obj)\n",
        "        if isinstance(obj, np.ndarray):\n",
        "            return obj.tolist()\n",
        "        return json.JSONEncoder.default(self, obj)"
      ]
    },
    {
      "cell_type": "markdown",
      "metadata": {
        "id": "I0zazD5F1ECI"
      },
      "source": [
        "## Your dataset"
      ]
    },
    {
      "cell_type": "markdown",
      "metadata": {
        "id": "MX4zepoc1ECJ"
      },
      "source": [
        "### Variables/metadata fields\n"
      ]
    },
    {
      "cell_type": "markdown",
      "metadata": {
        "id": "QD--o6ig1ECJ"
      },
      "source": [
        "Search URL. This GeoJSON url comes from a Search query on HP (example: [Sistan](https://github.com/eamena-project/eamena-arches-dev/blob/main/projects/sistan/README.md#dataset)).\n",
        "\n",
        "---\n",
        "\n",
        "documentation: [GeoJSON URL](https://github.com/eamena-project/eamenaR/blob/ed96039aa9e98697311b9bbdf5eaf3f6e0c36597/README.md#exported-files)"
      ]
    },
    {
      "cell_type": "code",
      "execution_count": 2,
      "metadata": {
        "id": "gdyjAfCA1ECJ"
      },
      "outputs": [],
      "source": [
        "GEOJSON_URL = r\"https://database.eamena.org/api/search/export_results?paging-filter=1&tiles=true&format=geojson&reportlink=false&precision=6&total=326&language=en&advanced-search=%5B%7B%22op%22%3A%22and%22%2C%2234cfea78-c2c0-11ea-9026-02e7594ce0a0%22%3A%7B%22op%22%3A%22~%22%2C%22lang%22%3A%22en%22%2C%22val%22%3A%22Sistan%22%7D%2C%2234cfea87-c2c0-11ea-9026-02e7594ce0a0%22%3A%7B%22op%22%3A%22%22%2C%22val%22%3A%22%22%7D%7D%2C%7B%22op%22%3A%22or%22%2C%2234cfea69-c2c0-11ea-9026-02e7594ce0a0%22%3A%7B%22op%22%3A%22%22%2C%22val%22%3A%22%22%7D%2C%2234cfea73-c2c0-11ea-9026-02e7594ce0a0%22%3A%7B%22op%22%3A%22%22%2C%22val%22%3A%22%22%7D%2C%2234cfea43-c2c0-11ea-9026-02e7594ce0a0%22%3A%7B%22op%22%3A%22%22%2C%22val%22%3A%224ed99706-2d90-449a-9a70-700fc5326fb1%22%7D%2C%2234cfea5d-c2c0-11ea-9026-02e7594ce0a0%22%3A%7B%22op%22%3A%22%22%2C%22val%22%3A%22%22%7D%2C%2234cfea95-c2c0-11ea-9026-02e7594ce0a0%22%3A%7B%22op%22%3A%22~%22%2C%22lang%22%3A%22en%22%2C%22val%22%3A%22%22%7D%7D%5D&resource-type-filter=%5B%7B%22graphid%22%3A%2234cfe98e-c2c0-11ea-9026-02e7594ce0a0%22%2C%22name%22%3A%22Heritage%20Place%22%2C%22inverted%22%3Afalse%7D%5D&map-filter=%7B%22type%22%3A%22FeatureCollection%22%2C%22features%22%3A%5B%7B%22id%22%3A%22e84886109295dcb2d515f9ab792832bf%22%2C%22type%22%3A%22Feature%22%2C%22properties%22%3A%7B%22buffer%22%3A%7B%22width%22%3A10%2C%22unit%22%3A%22m%22%7D%2C%22inverted%22%3Afalse%7D%2C%22geometry%22%3A%7B%22coordinates%22%3A%5B%5B%5B61.5629662657594%2C31.341070427554456%5D%2C%5B61.39269902363566%2C31.226740239181964%5D%2C%5B61.52316353383432%2C30.977760218239922%5D%2C%5B61.773036239808164%2C30.92940344148805%5D%2C%5B61.89244443558445%2C31.037461248216815%5D%2C%5B61.933352798951745%2C31.22484931983834%5D%2C%5B61.5629662657594%2C31.341070427554456%5D%5D%5D%2C%22type%22%3A%22Polygon%22%7D%7D%5D%7D\""
      ]
    },
    {
      "cell_type": "markdown",
      "metadata": {
        "id": "vWgZdjHF1ECK"
      },
      "source": [
        "Adapt these metadata to your dataset"
      ]
    },
    {
      "cell_type": "code",
      "execution_count": 29,
      "metadata": {
        "id": "gcIifq3D1ECK"
      },
      "outputs": [],
      "source": [
        "FILENAME = \"data5\" # this is also the title in metadata\n",
        "UPLOAD_TYPE = 'dataset'\n",
        "DESCRIPTION = 'This is my first upload'\n",
        "CREATORS_NAMES = \"EAMENA database\"\n",
        "CREATORS_AFFILIATION = \"University of Oxford, University of Southampton\"\n",
        "LICENSE = 'cc-by'\n",
        "KEYWORDS = ['Sistan','EAMENA']\n",
        "# gather in a dictionary\n",
        "metadata = {\n",
        "     'metadata': {\n",
        "         'title': FILENAME,\n",
        "         'upload_type': UPLOAD_TYPE,\n",
        "         'description': DESCRIPTION,\n",
        "         'creators': [{'name': CREATORS_NAMES,\n",
        "                       'affiliation': CREATORS_AFFILIATION}],\n",
        "         'license': LICENSE,\n",
        "         'keywords': KEYWORDS\n",
        "     }\n",
        " }"
      ]
    },
    {
      "cell_type": "markdown",
      "metadata": {
        "id": "jsC3IsJP1ECL"
      },
      "source": [
        "ℹ️ see the [list of Zenodo metadata](https://github.com/eamena-project/eamena-arches-dev/tree/main/data/bibref#metadata)"
      ]
    },
    {
      "cell_type": "markdown",
      "metadata": {
        "id": "XjRwGIjD1ECL"
      },
      "source": [
        "### Query the databae\n",
        "\n",
        "Query the database API using the `GEOJSON_URL` URL selection. Create the 'data' JSON"
      ]
    },
    {
      "cell_type": "code",
      "execution_count": 30,
      "metadata": {
        "id": "0aM1G-jX1ECM"
      },
      "outputs": [],
      "source": [
        "resp = requests.get(GEOJSON_URL)\n",
        "data = resp.json()"
      ]
    },
    {
      "cell_type": "markdown",
      "metadata": {
        "id": "l8DtBARI1ECM"
      },
      "source": [
        "- If you are running this script on your local machine, uncomment/run the following code chunk"
      ]
    },
    {
      "cell_type": "code",
      "execution_count": null,
      "metadata": {
        "id": "9CPvoELo1ECN"
      },
      "outputs": [],
      "source": [
        "# run only in local, change also paths\n",
        "mydir = \"C:\\\\Rprojects\\\\eamena-arches-dev\\\\dev\\\\citations\"\n",
        "os.chdir(mydir)\n",
        "os.chdir(os.getcwd() + \"/exports\")\n",
        "from pathlib import Path\n",
        "Path(os.getcwd() + \"/\" + FILENAME).mkdir(parents = True, exist_ok = True)\n",
        "os.chdir(os.getcwd() + \"/\" + FILENAME)"
      ]
    },
    {
      "cell_type": "markdown",
      "metadata": {
        "id": "NgOA1g0O1ECN"
      },
      "source": [
        "### Data output\n",
        "\n",
        "Write JSON and ZIP locally"
      ]
    },
    {
      "cell_type": "code",
      "execution_count": 32,
      "metadata": {
        "id": "GwKAawtt1ECN",
        "outputId": "c4c2aa28-b17e-46e1-ddf5-ea7cf0a61801",
        "colab": {
          "base_uri": "https://localhost:8080/"
        }
      },
      "outputs": [
        {
          "output_type": "stream",
          "name": "stdout",
          "text": [
            "data5.geojson has been exported in /content\n",
            "data5.zip has been exported in /content\n"
          ]
        }
      ],
      "source": [
        "\n",
        "# JSON file name and ZIP file\n",
        "json_file_name = FILENAME + \".geojson\"\n",
        "zip_file_name = FILENAME + \".zip\"\n",
        "\n",
        "# Create the JSON file and write the data to it\n",
        "json_string = json.dumps(data, cls = NpEncoder)\n",
        "json_string = json.loads(json_string)\n",
        "with open(json_file_name, 'w') as json_file:\n",
        "\tjson.dump(json_string, json_file, indent=4)\n",
        "\tprint(json_file_name + \" has been exported in \" + os.getcwd())\n",
        "\n",
        "# Create a ZIP file and add the JSON file to it\n",
        "with zipfile.ZipFile(zip_file_name, \"w\", zipfile.ZIP_DEFLATED) as zipf:\n",
        "    zipf.write(json_file_name)\n",
        "    print(zip_file_name + \" has been exported in \" + os.getcwd())"
      ]
    },
    {
      "cell_type": "markdown",
      "metadata": {
        "id": "v_9sLvAP1ECP"
      },
      "source": [
        "ℹ️ Further data can be created and files added into the ZIP"
      ]
    },
    {
      "cell_type": "markdown",
      "metadata": {
        "id": "mpIW_Kjc1ECQ"
      },
      "source": [
        "## Zenodo"
      ]
    },
    {
      "cell_type": "markdown",
      "metadata": {
        "id": "KwpR1O3U1ECQ"
      },
      "source": [
        "### Creates an empty bucket"
      ]
    },
    {
      "cell_type": "markdown",
      "metadata": {
        "id": "dDPzc8RJ1ECQ"
      },
      "source": [
        "Paste your `ACCESS_TOKEN` (see Zenodo documentation [here](https://zenodo.org/account/settings/applications/tokens))"
      ]
    },
    {
      "cell_type": "code",
      "execution_count": 33,
      "metadata": {
        "id": "7NQxMbOb1ECR"
      },
      "outputs": [],
      "source": [
        "ACCESS_TOKEN = ''"
      ]
    },
    {
      "cell_type": "markdown",
      "metadata": {
        "id": "Eoy0Nwzi1ECR"
      },
      "source": [
        "Choose one of selected Zenodo deposit:\n",
        "* Zenodo (`ZENODO_URL = 'https://zenodo.org/api/deposit/depositions'`)`\n",
        "* Zenodo sanbox for tests (`ZENODO_URL = 'https://sandbox.zenodo.org/api/deposit/depositions'`)"
      ]
    },
    {
      "cell_type": "code",
      "execution_count": 34,
      "metadata": {
        "id": "AQzjsVHb1ECR"
      },
      "outputs": [],
      "source": [
        "ZENODO_URL = 'https://sandbox.zenodo.org/api/deposit/depositions'"
      ]
    },
    {
      "cell_type": "markdown",
      "metadata": {
        "id": "xF-6r44U1ECS"
      },
      "source": [
        "Create the bucket"
      ]
    },
    {
      "cell_type": "code",
      "execution_count": 35,
      "metadata": {
        "id": "PG9M7hbS1ECS",
        "outputId": "ed9750ba-6a8d-4ca1-ee5d-a59fde576605",
        "colab": {
          "base_uri": "https://localhost:8080/"
        }
      },
      "outputs": [
        {
          "output_type": "stream",
          "name": "stdout",
          "text": [
            "The deposition_id is: 10004658\n"
          ]
        }
      ],
      "source": [
        "params = {'access_token': ACCESS_TOKEN}\n",
        "r = requests.post(ZENODO_URL,\n",
        "                   params=params,\n",
        "                   json={})\n",
        "r.status_code\n",
        "r.json()\n",
        "# collect the deposition id\n",
        "deposition_id = r.json()['id']\n",
        "print(\"The deposition_id is: \" + str(deposition_id))"
      ]
    },
    {
      "cell_type": "markdown",
      "metadata": {
        "id": "56DBWvwt1ECT"
      },
      "source": [
        "### Add data"
      ]
    },
    {
      "cell_type": "code",
      "execution_count": 36,
      "metadata": {
        "id": "UmjxPQkA1ECT",
        "outputId": "ac8fb89e-d4fa-480a-acf5-b485f6bd6cff",
        "colab": {
          "base_uri": "https://localhost:8080/"
        }
      },
      "outputs": [
        {
          "output_type": "execute_result",
          "data": {
            "text/plain": [
              "{'created': '2023-11-13T14:23:41.890489+00:00',\n",
              " 'updated': '2023-11-13T14:23:42.781859+00:00',\n",
              " 'version_id': 'c9a3ed44-805c-475f-ac3d-8df7b1df0679',\n",
              " 'key': 'data5.zip',\n",
              " 'size': 55881,\n",
              " 'mimetype': 'application/zip',\n",
              " 'checksum': 'md5:5ce84ec90f58a5dbf4e8f76baefbdcd8',\n",
              " 'is_head': True,\n",
              " 'delete_marker': False,\n",
              " 'links': {'self': 'https://sandbox.zenodo.org/api/files/7b3eb1ef-8835-4641-9b71-d42f8723251a/data5.zip',\n",
              "  'version': 'https://sandbox.zenodo.org/api/files/7b3eb1ef-8835-4641-9b71-d42f8723251a/data5.zip?versionId=c9a3ed44-805c-475f-ac3d-8df7b1df0679',\n",
              "  'uploads': 'https://sandbox.zenodo.org/api/files/7b3eb1ef-8835-4641-9b71-d42f8723251a/data5.zip?uploads'}}"
            ]
          },
          "metadata": {},
          "execution_count": 36
        }
      ],
      "source": [
        "bucket_url = r.json()[\"links\"][\"bucket\"]\n",
        "with open(zip_file_name, \"rb\") as fp:\n",
        "    r = requests.put(\n",
        "        \"%s/%s\" % (bucket_url, zip_file_name),\n",
        "        data = fp,\n",
        "        params = params,\n",
        "    )\n",
        "r.json()"
      ]
    },
    {
      "cell_type": "markdown",
      "metadata": {
        "id": "FXr2wQ741ECU"
      },
      "source": [
        "### Add metadata"
      ]
    },
    {
      "cell_type": "code",
      "execution_count": 37,
      "metadata": {
        "id": "zviDtU4m1ECV",
        "outputId": "5d191a76-000b-45e4-b014-9e4ced5ea487",
        "colab": {
          "base_uri": "https://localhost:8080/"
        }
      },
      "outputs": [
        {
          "output_type": "execute_result",
          "data": {
            "text/plain": [
              "200"
            ]
          },
          "metadata": {},
          "execution_count": 37
        }
      ],
      "source": [
        "r = requests.put('%s/%s' % (ZENODO_URL, deposition_id),\n",
        "                  params = {'access_token': ACCESS_TOKEN},\n",
        "                  data = json.dumps(metadata)) # ,\n",
        "                  # headers = headers)\n",
        "r.status_code\n",
        "# 200"
      ]
    },
    {
      "cell_type": "markdown",
      "metadata": {
        "id": "e05pPpaq1ECV"
      },
      "source": [
        "### Publish"
      ]
    },
    {
      "cell_type": "code",
      "execution_count": 38,
      "metadata": {
        "id": "dML7NsW91ECV",
        "outputId": "83d24a1b-f82e-4853-e819-8d5a552bbc70",
        "colab": {
          "base_uri": "https://localhost:8080/"
        }
      },
      "outputs": [
        {
          "output_type": "execute_result",
          "data": {
            "text/plain": [
              "202"
            ]
          },
          "metadata": {},
          "execution_count": 38
        }
      ],
      "source": [
        "r = requests.post('%s/%s/actions/publish' % (ZENODO_URL, deposition_id),\n",
        "                      params={'access_token': ACCESS_TOKEN} )\n",
        "r.status_code\n",
        "# 504"
      ]
    },
    {
      "cell_type": "markdown",
      "metadata": {
        "id": "Y4y8wgql1ECW"
      },
      "source": [
        "### Check\n",
        "\n",
        "Have a look at the last deposit (`r.json()[0]`)"
      ]
    },
    {
      "cell_type": "code",
      "execution_count": 39,
      "metadata": {
        "id": "suKrJTou1ECW",
        "outputId": "26859d83-badc-4931-c403-714cabb43aed",
        "colab": {
          "base_uri": "https://localhost:8080/"
        }
      },
      "outputs": [
        {
          "output_type": "execute_result",
          "data": {
            "text/plain": [
              "{'created': '2023-11-13T14:23:53.413048+00:00',\n",
              " 'modified': '2023-11-13T14:23:54.698111+00:00',\n",
              " 'id': 10004658,\n",
              " 'conceptrecid': '10004657',\n",
              " 'doi': '10.5072/zenodo.10004658',\n",
              " 'conceptdoi': '10.5072/zenodo.10004657',\n",
              " 'doi_url': 'https://doi.org/10.5072/zenodo.10004658',\n",
              " 'metadata': {'title': 'data5',\n",
              "  'doi': '10.5072/zenodo.10004658',\n",
              "  'publication_date': '2023-11-13',\n",
              "  'description': 'This is my first upload',\n",
              "  'access_right': 'open',\n",
              "  'creators': [{'name': 'EAMENA database',\n",
              "    'affiliation': 'University of Oxford, University of Southampton'}],\n",
              "  'keywords': ['Sistan', 'EAMENA'],\n",
              "  'license': 'cc-by-4.0',\n",
              "  'imprint_publisher': 'Zenodo',\n",
              "  'upload_type': 'dataset',\n",
              "  'prereserve_doi': {'doi': '10.5281/zenodo.10004658', 'recid': 10004658}},\n",
              " 'title': 'data5',\n",
              " 'links': {'self': 'https://sandbox.zenodo.org/api/records/10004658',\n",
              "  'html': 'https://sandbox.zenodo.org/records/10004658',\n",
              "  'doi': 'https://doi.org/10.5072/zenodo.10004658',\n",
              "  'parent_doi': 'https://sandbox.zenodo.org/doi/10.5072/zenodo.10004657',\n",
              "  'badge': 'https://sandbox.zenodo.org/badge/doi/10.5072%2Fzenodo.10004658.svg',\n",
              "  'conceptbadge': 'https://sandbox.zenodo.org/badge/doi/10.5072%2Fzenodo.10004657.svg',\n",
              "  'files': 'https://sandbox.zenodo.org/api/records/10004658/files',\n",
              "  'latest_draft': 'https://sandbox.zenodo.org/api/deposit/depositions/10004658',\n",
              "  'latest_draft_html': 'https://sandbox.zenodo.org/deposit/10004658',\n",
              "  'publish': 'https://sandbox.zenodo.org/api/deposit/depositions/10004658/actions/publish',\n",
              "  'edit': 'https://sandbox.zenodo.org/api/deposit/depositions/10004658/actions/edit',\n",
              "  'discard': 'https://sandbox.zenodo.org/api/deposit/depositions/10004658/actions/discard',\n",
              "  'newversion': 'https://sandbox.zenodo.org/api/deposit/depositions/10004658/actions/newversion',\n",
              "  'registerconceptdoi': 'https://sandbox.zenodo.org/api/deposit/depositions/10004658/actions/registerconceptdoi',\n",
              "  'record': 'https://sandbox.zenodo.org/api/records/10004658',\n",
              "  'record_html': 'https://sandbox.zenodo.org/record/10004658',\n",
              "  'latest': 'https://sandbox.zenodo.org/api/records/10004658/versions/latest',\n",
              "  'latest_html': 'https://sandbox.zenodo.org/record/10004658/versions/latest'},\n",
              " 'record_id': 10004658,\n",
              " 'owner': 605854,\n",
              " 'files': [{'id': '9e425dfd-2af4-48d4-b1c9-b02d36579875',\n",
              "   'filename': 'data5.zip',\n",
              "   'filesize': 55881,\n",
              "   'checksum': '5ce84ec90f58a5dbf4e8f76baefbdcd8',\n",
              "   'links': {'self': 'https://sandbox.zenodo.org/api/records/10004658/files/9e425dfd-2af4-48d4-b1c9-b02d36579875',\n",
              "    'download': 'https://sandbox.zenodo.org/api/records/10004658/draft/files/data5.zip/content'}}],\n",
              " 'state': 'done',\n",
              " 'submitted': True}"
            ]
          },
          "metadata": {},
          "execution_count": 39
        }
      ],
      "source": [
        "r = requests.get(ZENODO_URL,\n",
        "                  params={'access_token': ACCESS_TOKEN})\n",
        "r.status_code\n",
        "# 200\n",
        "r.json()[0]"
      ]
    },
    {
      "cell_type": "markdown",
      "metadata": {
        "id": "Q8_MW9xD1ECW"
      },
      "source": [
        "ℹ️ The Zenodo link to the record is recorded in `r.json()[0]['links']['html']`"
      ]
    },
    {
      "cell_type": "code",
      "source": [
        "!pip install jupyter_contrib_nbextensions"
      ],
      "metadata": {
        "id": "C-ldcmnYJE4v",
        "outputId": "2cbeb17d-249c-4047-b4df-4aa501804496",
        "colab": {
          "base_uri": "https://localhost:8080/"
        }
      },
      "execution_count": 45,
      "outputs": [
        {
          "output_type": "stream",
          "name": "stdout",
          "text": [
            "Collecting jupyter_contrib_nbextensions\n",
            "  Downloading jupyter_contrib_nbextensions-0.7.0.tar.gz (23.5 MB)\n",
            "\u001b[2K     \u001b[90m━━━━━━━━━━━━━━━━━━━━━━━━━━━━━━━━━━━━━━━━\u001b[0m \u001b[32m23.5/23.5 MB\u001b[0m \u001b[31m35.0 MB/s\u001b[0m eta \u001b[36m0:00:00\u001b[0m\n",
            "\u001b[?25h  Preparing metadata (setup.py) ... \u001b[?25l\u001b[?25hdone\n",
            "Requirement already satisfied: ipython_genutils in /usr/local/lib/python3.10/dist-packages (from jupyter_contrib_nbextensions) (0.2.0)\n",
            "Collecting jupyter_contrib_core>=0.3.3 (from jupyter_contrib_nbextensions)\n",
            "  Downloading jupyter_contrib_core-0.4.2.tar.gz (17 kB)\n",
            "  Preparing metadata (setup.py) ... \u001b[?25l\u001b[?25hdone\n",
            "Requirement already satisfied: jupyter_core in /usr/local/lib/python3.10/dist-packages (from jupyter_contrib_nbextensions) (5.5.0)\n",
            "Collecting jupyter_highlight_selected_word>=0.1.1 (from jupyter_contrib_nbextensions)\n",
            "  Downloading jupyter_highlight_selected_word-0.2.0-py2.py3-none-any.whl (11 kB)\n",
            "Collecting jupyter_nbextensions_configurator>=0.4.0 (from jupyter_contrib_nbextensions)\n",
            "  Downloading jupyter_nbextensions_configurator-0.6.3-py2.py3-none-any.whl (466 kB)\n",
            "\u001b[2K     \u001b[90m━━━━━━━━━━━━━━━━━━━━━━━━━━━━━━━━━━━━━━━━\u001b[0m \u001b[32m466.9/466.9 kB\u001b[0m \u001b[31m36.2 MB/s\u001b[0m eta \u001b[36m0:00:00\u001b[0m\n",
            "\u001b[?25hRequirement already satisfied: nbconvert>=6.0 in /usr/local/lib/python3.10/dist-packages (from jupyter_contrib_nbextensions) (6.5.4)\n",
            "Requirement already satisfied: notebook>=6.0 in /usr/local/lib/python3.10/dist-packages (from jupyter_contrib_nbextensions) (6.5.5)\n",
            "Requirement already satisfied: tornado in /usr/local/lib/python3.10/dist-packages (from jupyter_contrib_nbextensions) (6.3.2)\n",
            "Requirement already satisfied: traitlets>=4.1 in /usr/local/lib/python3.10/dist-packages (from jupyter_contrib_nbextensions) (5.7.1)\n",
            "Requirement already satisfied: lxml in /usr/local/lib/python3.10/dist-packages (from jupyter_contrib_nbextensions) (4.9.3)\n",
            "Requirement already satisfied: setuptools in /usr/local/lib/python3.10/dist-packages (from jupyter_contrib_core>=0.3.3->jupyter_contrib_nbextensions) (67.7.2)\n",
            "Requirement already satisfied: pyyaml in /usr/local/lib/python3.10/dist-packages (from jupyter_nbextensions_configurator>=0.4.0->jupyter_contrib_nbextensions) (6.0.1)\n",
            "Requirement already satisfied: beautifulsoup4 in /usr/local/lib/python3.10/dist-packages (from nbconvert>=6.0->jupyter_contrib_nbextensions) (4.11.2)\n",
            "Requirement already satisfied: bleach in /usr/local/lib/python3.10/dist-packages (from nbconvert>=6.0->jupyter_contrib_nbextensions) (6.1.0)\n",
            "Requirement already satisfied: defusedxml in /usr/local/lib/python3.10/dist-packages (from nbconvert>=6.0->jupyter_contrib_nbextensions) (0.7.1)\n",
            "Requirement already satisfied: entrypoints>=0.2.2 in /usr/local/lib/python3.10/dist-packages (from nbconvert>=6.0->jupyter_contrib_nbextensions) (0.4)\n",
            "Requirement already satisfied: jinja2>=3.0 in /usr/local/lib/python3.10/dist-packages (from nbconvert>=6.0->jupyter_contrib_nbextensions) (3.1.2)\n",
            "Requirement already satisfied: jupyterlab-pygments in /usr/local/lib/python3.10/dist-packages (from nbconvert>=6.0->jupyter_contrib_nbextensions) (0.2.2)\n",
            "Requirement already satisfied: MarkupSafe>=2.0 in /usr/local/lib/python3.10/dist-packages (from nbconvert>=6.0->jupyter_contrib_nbextensions) (2.1.3)\n",
            "Requirement already satisfied: mistune<2,>=0.8.1 in /usr/local/lib/python3.10/dist-packages (from nbconvert>=6.0->jupyter_contrib_nbextensions) (0.8.4)\n",
            "Requirement already satisfied: nbclient>=0.5.0 in /usr/local/lib/python3.10/dist-packages (from nbconvert>=6.0->jupyter_contrib_nbextensions) (0.9.0)\n",
            "Requirement already satisfied: nbformat>=5.1 in /usr/local/lib/python3.10/dist-packages (from nbconvert>=6.0->jupyter_contrib_nbextensions) (5.9.2)\n",
            "Requirement already satisfied: packaging in /usr/local/lib/python3.10/dist-packages (from nbconvert>=6.0->jupyter_contrib_nbextensions) (23.2)\n",
            "Requirement already satisfied: pandocfilters>=1.4.1 in /usr/local/lib/python3.10/dist-packages (from nbconvert>=6.0->jupyter_contrib_nbextensions) (1.5.0)\n",
            "Requirement already satisfied: pygments>=2.4.1 in /usr/local/lib/python3.10/dist-packages (from nbconvert>=6.0->jupyter_contrib_nbextensions) (2.16.1)\n",
            "Requirement already satisfied: tinycss2 in /usr/local/lib/python3.10/dist-packages (from nbconvert>=6.0->jupyter_contrib_nbextensions) (1.2.1)\n",
            "Requirement already satisfied: platformdirs>=2.5 in /usr/local/lib/python3.10/dist-packages (from jupyter_core->jupyter_contrib_nbextensions) (3.11.0)\n",
            "Requirement already satisfied: pyzmq<25,>=17 in /usr/local/lib/python3.10/dist-packages (from notebook>=6.0->jupyter_contrib_nbextensions) (23.2.1)\n",
            "Requirement already satisfied: argon2-cffi in /usr/local/lib/python3.10/dist-packages (from notebook>=6.0->jupyter_contrib_nbextensions) (23.1.0)\n",
            "Requirement already satisfied: jupyter-client<8,>=5.3.4 in /usr/local/lib/python3.10/dist-packages (from notebook>=6.0->jupyter_contrib_nbextensions) (6.1.12)\n",
            "Requirement already satisfied: nest-asyncio>=1.5 in /usr/local/lib/python3.10/dist-packages (from notebook>=6.0->jupyter_contrib_nbextensions) (1.5.8)\n",
            "Requirement already satisfied: ipykernel in /usr/local/lib/python3.10/dist-packages (from notebook>=6.0->jupyter_contrib_nbextensions) (5.5.6)\n",
            "Requirement already satisfied: Send2Trash>=1.8.0 in /usr/local/lib/python3.10/dist-packages (from notebook>=6.0->jupyter_contrib_nbextensions) (1.8.2)\n",
            "Requirement already satisfied: terminado>=0.8.3 in /usr/local/lib/python3.10/dist-packages (from notebook>=6.0->jupyter_contrib_nbextensions) (0.17.1)\n",
            "Requirement already satisfied: prometheus-client in /usr/local/lib/python3.10/dist-packages (from notebook>=6.0->jupyter_contrib_nbextensions) (0.18.0)\n",
            "Requirement already satisfied: nbclassic>=0.4.7 in /usr/local/lib/python3.10/dist-packages (from notebook>=6.0->jupyter_contrib_nbextensions) (1.0.0)\n",
            "Requirement already satisfied: python-dateutil>=2.1 in /usr/local/lib/python3.10/dist-packages (from jupyter-client<8,>=5.3.4->notebook>=6.0->jupyter_contrib_nbextensions) (2.8.2)\n",
            "Requirement already satisfied: jupyter-server>=1.8 in /usr/local/lib/python3.10/dist-packages (from nbclassic>=0.4.7->notebook>=6.0->jupyter_contrib_nbextensions) (1.24.0)\n",
            "Requirement already satisfied: notebook-shim>=0.2.3 in /usr/local/lib/python3.10/dist-packages (from nbclassic>=0.4.7->notebook>=6.0->jupyter_contrib_nbextensions) (0.2.3)\n",
            "Requirement already satisfied: fastjsonschema in /usr/local/lib/python3.10/dist-packages (from nbformat>=5.1->nbconvert>=6.0->jupyter_contrib_nbextensions) (2.18.1)\n",
            "Requirement already satisfied: jsonschema>=2.6 in /usr/local/lib/python3.10/dist-packages (from nbformat>=5.1->nbconvert>=6.0->jupyter_contrib_nbextensions) (4.19.2)\n",
            "Requirement already satisfied: ptyprocess in /usr/local/lib/python3.10/dist-packages (from terminado>=0.8.3->notebook>=6.0->jupyter_contrib_nbextensions) (0.7.0)\n",
            "Requirement already satisfied: argon2-cffi-bindings in /usr/local/lib/python3.10/dist-packages (from argon2-cffi->notebook>=6.0->jupyter_contrib_nbextensions) (21.2.0)\n",
            "Requirement already satisfied: soupsieve>1.2 in /usr/local/lib/python3.10/dist-packages (from beautifulsoup4->nbconvert>=6.0->jupyter_contrib_nbextensions) (2.5)\n",
            "Requirement already satisfied: six>=1.9.0 in /usr/local/lib/python3.10/dist-packages (from bleach->nbconvert>=6.0->jupyter_contrib_nbextensions) (1.16.0)\n",
            "Requirement already satisfied: webencodings in /usr/local/lib/python3.10/dist-packages (from bleach->nbconvert>=6.0->jupyter_contrib_nbextensions) (0.5.1)\n",
            "Requirement already satisfied: ipython>=5.0.0 in /usr/local/lib/python3.10/dist-packages (from ipykernel->notebook>=6.0->jupyter_contrib_nbextensions) (7.34.0)\n",
            "Collecting jedi>=0.16 (from ipython>=5.0.0->ipykernel->notebook>=6.0->jupyter_contrib_nbextensions)\n",
            "  Downloading jedi-0.19.1-py2.py3-none-any.whl (1.6 MB)\n",
            "\u001b[2K     \u001b[90m━━━━━━━━━━━━━━━━━━━━━━━━━━━━━━━━━━━━━━━━\u001b[0m \u001b[32m1.6/1.6 MB\u001b[0m \u001b[31m56.1 MB/s\u001b[0m eta \u001b[36m0:00:00\u001b[0m\n",
            "\u001b[?25hRequirement already satisfied: decorator in /usr/local/lib/python3.10/dist-packages (from ipython>=5.0.0->ipykernel->notebook>=6.0->jupyter_contrib_nbextensions) (4.4.2)\n",
            "Requirement already satisfied: pickleshare in /usr/local/lib/python3.10/dist-packages (from ipython>=5.0.0->ipykernel->notebook>=6.0->jupyter_contrib_nbextensions) (0.7.5)\n",
            "Requirement already satisfied: prompt-toolkit!=3.0.0,!=3.0.1,<3.1.0,>=2.0.0 in /usr/local/lib/python3.10/dist-packages (from ipython>=5.0.0->ipykernel->notebook>=6.0->jupyter_contrib_nbextensions) (3.0.39)\n",
            "Requirement already satisfied: backcall in /usr/local/lib/python3.10/dist-packages (from ipython>=5.0.0->ipykernel->notebook>=6.0->jupyter_contrib_nbextensions) (0.2.0)\n",
            "Requirement already satisfied: matplotlib-inline in /usr/local/lib/python3.10/dist-packages (from ipython>=5.0.0->ipykernel->notebook>=6.0->jupyter_contrib_nbextensions) (0.1.6)\n",
            "Requirement already satisfied: pexpect>4.3 in /usr/local/lib/python3.10/dist-packages (from ipython>=5.0.0->ipykernel->notebook>=6.0->jupyter_contrib_nbextensions) (4.8.0)\n",
            "Requirement already satisfied: attrs>=22.2.0 in /usr/local/lib/python3.10/dist-packages (from jsonschema>=2.6->nbformat>=5.1->nbconvert>=6.0->jupyter_contrib_nbextensions) (23.1.0)\n",
            "Requirement already satisfied: jsonschema-specifications>=2023.03.6 in /usr/local/lib/python3.10/dist-packages (from jsonschema>=2.6->nbformat>=5.1->nbconvert>=6.0->jupyter_contrib_nbextensions) (2023.7.1)\n",
            "Requirement already satisfied: referencing>=0.28.4 in /usr/local/lib/python3.10/dist-packages (from jsonschema>=2.6->nbformat>=5.1->nbconvert>=6.0->jupyter_contrib_nbextensions) (0.30.2)\n",
            "Requirement already satisfied: rpds-py>=0.7.1 in /usr/local/lib/python3.10/dist-packages (from jsonschema>=2.6->nbformat>=5.1->nbconvert>=6.0->jupyter_contrib_nbextensions) (0.12.0)\n",
            "Requirement already satisfied: anyio<4,>=3.1.0 in /usr/local/lib/python3.10/dist-packages (from jupyter-server>=1.8->nbclassic>=0.4.7->notebook>=6.0->jupyter_contrib_nbextensions) (3.7.1)\n",
            "Requirement already satisfied: websocket-client in /usr/local/lib/python3.10/dist-packages (from jupyter-server>=1.8->nbclassic>=0.4.7->notebook>=6.0->jupyter_contrib_nbextensions) (1.6.4)\n",
            "Requirement already satisfied: cffi>=1.0.1 in /usr/local/lib/python3.10/dist-packages (from argon2-cffi-bindings->argon2-cffi->notebook>=6.0->jupyter_contrib_nbextensions) (1.16.0)\n",
            "Requirement already satisfied: idna>=2.8 in /usr/local/lib/python3.10/dist-packages (from anyio<4,>=3.1.0->jupyter-server>=1.8->nbclassic>=0.4.7->notebook>=6.0->jupyter_contrib_nbextensions) (3.4)\n",
            "Requirement already satisfied: sniffio>=1.1 in /usr/local/lib/python3.10/dist-packages (from anyio<4,>=3.1.0->jupyter-server>=1.8->nbclassic>=0.4.7->notebook>=6.0->jupyter_contrib_nbextensions) (1.3.0)\n",
            "Requirement already satisfied: exceptiongroup in /usr/local/lib/python3.10/dist-packages (from anyio<4,>=3.1.0->jupyter-server>=1.8->nbclassic>=0.4.7->notebook>=6.0->jupyter_contrib_nbextensions) (1.1.3)\n",
            "Requirement already satisfied: pycparser in /usr/local/lib/python3.10/dist-packages (from cffi>=1.0.1->argon2-cffi-bindings->argon2-cffi->notebook>=6.0->jupyter_contrib_nbextensions) (2.21)\n",
            "Requirement already satisfied: parso<0.9.0,>=0.8.3 in /usr/local/lib/python3.10/dist-packages (from jedi>=0.16->ipython>=5.0.0->ipykernel->notebook>=6.0->jupyter_contrib_nbextensions) (0.8.3)\n",
            "Requirement already satisfied: wcwidth in /usr/local/lib/python3.10/dist-packages (from prompt-toolkit!=3.0.0,!=3.0.1,<3.1.0,>=2.0.0->ipython>=5.0.0->ipykernel->notebook>=6.0->jupyter_contrib_nbextensions) (0.2.9)\n",
            "Building wheels for collected packages: jupyter_contrib_nbextensions, jupyter_contrib_core\n",
            "  Building wheel for jupyter_contrib_nbextensions (setup.py) ... \u001b[?25l\u001b[?25hdone\n",
            "  Created wheel for jupyter_contrib_nbextensions: filename=jupyter_contrib_nbextensions-0.7.0-py2.py3-none-any.whl size=23428780 sha256=6479691846491a4b76d4f5723a92b4639482b1630d87c6277023ff54ffa8b78e\n",
            "  Stored in directory: /root/.cache/pip/wheels/ea/cc/7d/99ef154f984726b1201c0f72cfe9c9d7c5132c1a2ae4d8677f\n",
            "  Building wheel for jupyter_contrib_core (setup.py) ... \u001b[?25l\u001b[?25hdone\n",
            "  Created wheel for jupyter_contrib_core: filename=jupyter_contrib_core-0.4.2-py2.py3-none-any.whl size=17483 sha256=98dfd54d531c4a6f0615cd8ab09b61e6080f49036815dc2cded6075fbd0145e2\n",
            "  Stored in directory: /root/.cache/pip/wheels/a9/52/88/e0643cdfd68f0562087918c37dd583378648dbc3df68b907f7\n",
            "Successfully built jupyter_contrib_nbextensions jupyter_contrib_core\n",
            "Installing collected packages: jupyter_highlight_selected_word, jedi, jupyter_contrib_core, jupyter_nbextensions_configurator, jupyter_contrib_nbextensions\n",
            "Successfully installed jedi-0.19.1 jupyter_contrib_core-0.4.2 jupyter_contrib_nbextensions-0.7.0 jupyter_highlight_selected_word-0.2.0 jupyter_nbextensions_configurator-0.6.3\n"
          ]
        }
      ]
    },
    {
      "cell_type": "code",
      "source": [
        "# show badge\n",
        "from IPython.display import Markdown as md\n",
        "badge = r.json()[0]['links']['badge']\n",
        "md(\"![]({})\".format(badge))"
      ],
      "metadata": {
        "id": "z83UDjZ0H-qQ",
        "outputId": "286f9cf6-58e6-4b5c-dd07-499cfd340247",
        "colab": {
          "base_uri": "https://localhost:8080/",
          "height": 53
        }
      },
      "execution_count": 48,
      "outputs": [
        {
          "output_type": "execute_result",
          "data": {
            "text/plain": [
              "<IPython.core.display.Markdown object>"
            ],
            "text/markdown": "my badge ![](https://sandbox.zenodo.org/badge/doi/10.5072%2Fzenodo.10004658.svg)"
          },
          "metadata": {},
          "execution_count": 48
        }
      ]
    },
    {
      "cell_type": "code",
      "execution_count": 40,
      "metadata": {
        "id": "-AonJwBc1ECX",
        "outputId": "4937075b-f360-4182-f3c0-e0bfe4cb001b",
        "colab": {
          "base_uri": "https://localhost:8080/",
          "height": 36
        }
      },
      "outputs": [
        {
          "output_type": "execute_result",
          "data": {
            "text/plain": [
              "'https://sandbox.zenodo.org/records/10004658'"
            ],
            "application/vnd.google.colaboratory.intrinsic+json": {
              "type": "string"
            }
          },
          "metadata": {},
          "execution_count": 40
        }
      ],
      "source": [
        "r.json()[0]['links']['html']"
      ]
    },
    {
      "cell_type": "markdown",
      "metadata": {
        "id": "49dOJjSr1ECX"
      },
      "source": [
        "ℹ️ Its DOI is `r.json()[0]['doi_url']`"
      ]
    },
    {
      "cell_type": "code",
      "execution_count": 41,
      "metadata": {
        "id": "UyAr8oxd1ECX",
        "outputId": "dc85232e-b247-4d68-8c33-992a8764d17d",
        "colab": {
          "base_uri": "https://localhost:8080/",
          "height": 36
        }
      },
      "outputs": [
        {
          "output_type": "execute_result",
          "data": {
            "text/plain": [
              "'https://doi.org/10.5072/zenodo.10004658'"
            ],
            "application/vnd.google.colaboratory.intrinsic+json": {
              "type": "string"
            }
          },
          "metadata": {},
          "execution_count": 41
        }
      ],
      "source": [
        "r.json()[0]['doi_url']"
      ]
    }
  ],
  "metadata": {
    "kernelspec": {
      "display_name": "Python 3",
      "language": "python",
      "name": "python3"
    },
    "language_info": {
      "codemirror_mode": {
        "name": "ipython",
        "version": 3
      },
      "file_extension": ".py",
      "mimetype": "text/x-python",
      "name": "python",
      "nbconvert_exporter": "python",
      "pygments_lexer": "ipython3",
      "version": "3.11.2"
    },
    "colab": {
      "provenance": []
    }
  },
  "nbformat": 4,
  "nbformat_minor": 0
}