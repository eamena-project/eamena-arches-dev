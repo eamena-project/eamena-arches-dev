{
  "cells": [
    {
      "cell_type": "markdown",
      "source": [
        "# Export a GeoJSON URL to a GeoJSON file"
      ],
      "metadata": {
        "id": "bIG_C0A0DQzd"
      }
    },
    {
      "cell_type": "code",
      "source": [
        "# @title librairies and classes\n",
        "import json\n",
        "import requests\n",
        "from google.colab import files\n",
        "\n",
        "# needed to export as JSON\n",
        "class NpEncoder(json.JSONEncoder):\n",
        "    def default(self, obj):\n",
        "        if isinstance(obj, np.integer):\n",
        "            return int(obj)\n",
        "        if isinstance(obj, np.floating):\n",
        "            return float(obj)\n",
        "        if isinstance(obj, np.ndarray):\n",
        "            return obj.tolist()\n",
        "        return json.JSONEncoder.default(self, obj)"
      ],
      "metadata": {
        "cellView": "form",
        "id": "tANQ_BqmDXlp"
      },
      "execution_count": 3,
      "outputs": []
    },
    {
      "cell_type": "markdown",
      "source": [
        "Paste the GeoJSON URL (input) and select a filename for the output (`.geojson`)"
      ],
      "metadata": {
        "id": "Cgs9LiFVDib4"
      }
    },
    {
      "cell_type": "code",
      "source": [
        "GEOJSON_URL = \"https://database.eamena.org/api/search/export_results?paging-filter=1&tiles=true&format=geojson&reportlink=false&precision=6&total=25&resource-type-filter=%5B%7B%22graphid%22%3A%2277d18973-7428-11ea-b4d0-02e7594ce0a0%22%2C%22name%22%3A%22Grid%20Square%22%2C%22inverted%22%3Afalse%7D%5D&map-filter=%7B%22type%22%3A%22FeatureCollection%22%2C%22features%22%3A%5B%7B%22type%22%3A%22Feature%22%2C%22properties%22%3A%7B%22id%22%3A1%2C%22buffer%22%3A%7B%22width%22%3A%221%22%2C%22unit%22%3A%22m%22%7D%2C%22inverted%22%3Afalse%7D%2C%22geometry%22%3A%7B%22type%22%3A%22MultiPolygon%22%2C%22coordinates%22%3A%5B%5B%5B%5B61.9185199386503%2C31.434624233128837%5D%2C%5B61.93140337423312%2C31.176955521472394%5D%2C%5B62.17296779141103%2C31.164072085889572%5D%2C%5B62.195513803680974%2C30.829102760736195%5D%2C%5B61.91207822085889%2C30.829102760736195%5D%2C%5B61.92496165644171%2C30.587538343558283%5D%2C%5B61.396740797546%2C30.593980061349694%5D%2C%5B61.40318251533741%2C30.316986196319018%5D%2C%5B60.797661042944775%2C30.320207055214723%5D%2C%5B60.810544478527596%2C30.68094325153374%5D%2C%5B61.07465490797545%2C30.68094325153374%5D%2C%5B61.06821319018404%2C31.083550613496932%5D%2C%5B60.82342791411042%2C31.089992331288343%5D%2C%5B60.80732361963189%2C31.312231595092026%5D%2C%5B60.54643404907974%2C31.318673312883437%5D%2C%5B60.53355061349692%2C31.437845092024542%5D%2C%5B61.9185199386503%2C31.434624233128837%5D%5D%5D%5D%7D%7D%5D%7D\"\n",
        "FILENAME = \"my_new_test.geojson\""
      ],
      "metadata": {
        "id": "gkAIaqg_Dz3c"
      },
      "execution_count": 4,
      "outputs": []
    },
    {
      "cell_type": "code",
      "execution_count": 5,
      "metadata": {
        "cellView": "form",
        "id": "na0Msd9gCoC2"
      },
      "outputs": [],
      "source": [
        "# @title Run the REST API GET\n",
        "resp = requests.get(GEOJSON_URL)\n",
        "data = resp.json()\n",
        "json_string = json.dumps(data, cls = NpEncoder)\n",
        "json_string = json.loads(json_string)\n",
        "with open(FILENAME, 'w') as json_file:\n",
        "  json.dump(json_string, json_file, indent=4)"
      ]
    },
    {
      "cell_type": "code",
      "execution_count": 6,
      "metadata": {
        "cellView": "form",
        "id": "MAHcy-ABCoC5",
        "outputId": "5f053ec4-7fb4-4659-be39-59543ffde040",
        "colab": {
          "base_uri": "https://localhost:8080/",
          "height": 17
        }
      },
      "outputs": [
        {
          "output_type": "display_data",
          "data": {
            "text/plain": [
              "<IPython.core.display.Javascript object>"
            ],
            "application/javascript": [
              "\n",
              "    async function download(id, filename, size) {\n",
              "      if (!google.colab.kernel.accessAllowed) {\n",
              "        return;\n",
              "      }\n",
              "      const div = document.createElement('div');\n",
              "      const label = document.createElement('label');\n",
              "      label.textContent = `Downloading \"${filename}\": `;\n",
              "      div.appendChild(label);\n",
              "      const progress = document.createElement('progress');\n",
              "      progress.max = size;\n",
              "      div.appendChild(progress);\n",
              "      document.body.appendChild(div);\n",
              "\n",
              "      const buffers = [];\n",
              "      let downloaded = 0;\n",
              "\n",
              "      const channel = await google.colab.kernel.comms.open(id);\n",
              "      // Send a message to notify the kernel that we're ready.\n",
              "      channel.send({})\n",
              "\n",
              "      for await (const message of channel.messages) {\n",
              "        // Send a message to notify the kernel that we're ready.\n",
              "        channel.send({})\n",
              "        if (message.buffers) {\n",
              "          for (const buffer of message.buffers) {\n",
              "            buffers.push(buffer);\n",
              "            downloaded += buffer.byteLength;\n",
              "            progress.value = downloaded;\n",
              "          }\n",
              "        }\n",
              "      }\n",
              "      const blob = new Blob(buffers, {type: 'application/binary'});\n",
              "      const a = document.createElement('a');\n",
              "      a.href = window.URL.createObjectURL(blob);\n",
              "      a.download = filename;\n",
              "      div.appendChild(a);\n",
              "      a.click();\n",
              "      div.remove();\n",
              "    }\n",
              "  "
            ]
          },
          "metadata": {}
        },
        {
          "output_type": "display_data",
          "data": {
            "text/plain": [
              "<IPython.core.display.Javascript object>"
            ],
            "application/javascript": [
              "download(\"download_f45a22c8-f220-4677-8817-32793ddd9224\", \"my_new_test.geojson\", 22761)"
            ]
          },
          "metadata": {}
        }
      ],
      "source": [
        "# @title Download on your computer\n",
        "files.download(FILENAME)"
      ]
    }
  ],
  "metadata": {
    "kernelspec": {
      "display_name": "Python 3",
      "language": "python",
      "name": "python3"
    },
    "language_info": {
      "name": "python",
      "version": "3.11.2"
    },
    "colab": {
      "provenance": []
    }
  },
  "nbformat": 4,
  "nbformat_minor": 0
}