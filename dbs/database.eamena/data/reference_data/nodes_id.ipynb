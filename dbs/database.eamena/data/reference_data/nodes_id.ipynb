{
  "cells": [
    {
      "cell_type": "markdown",
      "metadata": {
        "id": "ijpkNlGv-E4u"
      },
      "source": [
        "# Collect nodes' names and UUIDs from resource models"
      ]
    },
    {
      "cell_type": "markdown",
      "metadata": {
        "id": "1lXUeX-f-E4x"
      },
      "source": [
        "Load librairies"
      ]
    },
    {
      "cell_type": "code",
      "execution_count": 1,
      "metadata": {
        "id": "gyqbWdn1-E4z"
      },
      "outputs": [],
      "source": [
        "import os\n",
        "import requests\n",
        "import json\n",
        "import pandas as pd\n",
        "import re\n",
        "from google.colab import files"
      ]
    },
    {
      "cell_type": "markdown",
      "metadata": {
        "id": "UOcLR4J1-E43"
      },
      "source": [
        "Select an RM"
      ]
    },
    {
      "cell_type": "code",
      "execution_count": 2,
      "metadata": {
        "id": "lE04fvYC-E44"
      },
      "outputs": [],
      "source": [
        "url = \"https://raw.githubusercontent.com/eamena-project/eamena/master/eamena/pkg/graphs/resource_models/Information%20Resource.json\""
      ]
    },
    {
      "cell_type": "markdown",
      "metadata": {
        "id": "d8WXDwiD-E44"
      },
      "source": [
        "Collect the data and export it as a new TSV file"
      ]
    },
    {
      "cell_type": "code",
      "source": [
        "# pattern = r'achp-project/(.*?)/main'\n",
        "# project = re.search(pattern, url)\n",
        "# project_name = project.group(1) + \"-rm-nodes.tsv\"\n",
        "# print(project_name)"
      ],
      "metadata": {
        "id": "oOowNbdy-_Cl"
      },
      "execution_count": null,
      "outputs": []
    },
    {
      "cell_type": "markdown",
      "source": [
        "Collect"
      ],
      "metadata": {
        "id": "VH3SPmbU_UOE"
      }
    },
    {
      "cell_type": "code",
      "execution_count": 12,
      "metadata": {
        "id": "JaxbieVp-E45"
      },
      "outputs": [],
      "source": [
        "response = requests.get(url)\n",
        "graph_data = json.loads(response.text)\n",
        "root_node_id = graph_data['graph'][0]['root']['nodeid']\n",
        "df_nodes = pd.DataFrame(columns=['level3', 'uuid'])\n",
        "for i in range(1, len(graph_data['graph'][0]['nodes'])):\n",
        "    new_row = [graph_data['graph'][0]['nodes'][i]['name'], graph_data['graph'][0]['nodes'][i]['nodeid']]\n",
        "    df_nodes.loc[i] = new_row"
      ]
    },
    {
      "cell_type": "code",
      "source": [
        "df_nodes"
      ],
      "metadata": {
        "id": "4SB0wjOv_KV3"
      },
      "execution_count": null,
      "outputs": []
    },
    {
      "cell_type": "code",
      "source": [
        "# outDir = os.path.dirname(os.path.realpath(__file__)) + '\\\\'\n",
        "outDir = '/content/'\n",
        "file_path = outDir + \"ir-uuids-readonly.tsv\"\n",
        "# print(file_path)\n",
        "df_nodes.to_csv(file_path, sep='\\t', index=False)\n",
        "print(df_nodes.to_markdown())"
      ],
      "metadata": {
        "id": "_h4guFF-_HpF",
        "outputId": "aeca97b0-2d8b-4683-dd06-e63577c70653",
        "colab": {
          "base_uri": "https://localhost:8080/"
        }
      },
      "execution_count": 14,
      "outputs": [
        {
          "output_type": "stream",
          "name": "stdout",
          "text": [
            "|    | level3                                      | uuid                                 |\n",
            "|---:|:--------------------------------------------|:-------------------------------------|\n",
            "|  1 | Information Resource Type                   | 0800e7a9-5250-11ea-a3f7-02e7594ce0a0 |\n",
            "|  2 | Information Carrier                         | 09b9c67f-5250-11ea-a3f7-02e7594ce0a0 |\n",
            "|  3 | Information Carrier Format Type             | 09b9c682-5250-11ea-a3f7-02e7594ce0a0 |\n",
            "|  4 | Related Site                                | 11da5279-80a5-11ea-a6a6-02e7594ce0a0 |\n",
            "|  5 | Relationship from Date                      | 11da527d-80a5-11ea-a6a6-02e7594ce0a0 |\n",
            "|  6 | Relationship Comments                       | 11da527e-80a5-11ea-a6a6-02e7594ce0a0 |\n",
            "|  7 | Relationship to Date                        | 11da527f-80a5-11ea-a6a6-02e7594ce0a0 |\n",
            "|  8 | Place of publication                        | 14e4ffc3-5251-11ea-a3f7-02e7594ce0a0 |\n",
            "|  9 | Biblio Place Appellation                    | 14e4ffc6-5251-11ea-a3f7-02e7594ce0a0 |\n",
            "| 10 | Creator Appellation                         | 22877ce5-52f2-11ea-a3f7-02e7594ce0a0 |\n",
            "| 11 | Figure                                      | 33721083-5252-11ea-a3f7-02e7594ce0a0 |\n",
            "| 12 | Catalogue ID                                | 341f9905-5253-11ea-a3f7-02e7594ce0a0 |\n",
            "| 13 | Shared Data Source Creator Appellation      | 349cac15-52f8-11ea-a3f7-02e7594ce0a0 |\n",
            "| 14 | Information Resource                        | 35b99cb6-379a-11ea-9989-06f597a7d5ce |\n",
            "| 15 | Pages                                       | 363f4abf-5252-11ea-a3f7-02e7594ce0a0 |\n",
            "| 16 | Publisher                                   | 39bf3871-5252-11ea-a3f7-02e7594ce0a0 |\n",
            "| 17 | Publisher Appellation                       | 39bf3874-5252-11ea-a3f7-02e7594ce0a0 |\n",
            "| 18 | Title                                       | 3d0dfc7f-5251-11ea-a3f7-02e7594ce0a0 |\n",
            "| 19 | Acquisition Assignment                      | 3d7ddeb7-5253-11ea-a3f7-02e7594ce0a0 |\n",
            "| 20 | Imagery Sensor Type                         | 3d7ddeba-5253-11ea-a3f7-02e7594ce0a0 |\n",
            "| 21 | Imagery Platform Type                       | 3d7ddebb-5253-11ea-a3f7-02e7594ce0a0 |\n",
            "| 22 | Imagery Camera Sensor Resolution Type       | 3d7ddebc-5253-11ea-a3f7-02e7594ce0a0 |\n",
            "| 23 | Imagery Camera Sensor Type                  | 3d7ddebd-5253-11ea-a3f7-02e7594ce0a0 |\n",
            "| 24 | Imagery Bands Type                          | 3d7ddec2-5253-11ea-a3f7-02e7594ce0a0 |\n",
            "| 25 | Time-span Resource Creation Event           | 3de4f413-52f7-11ea-a3f7-02e7594ce0a0 |\n",
            "| 26 | Date of Creation                            | 3de4f416-52f7-11ea-a3f7-02e7594ce0a0 |\n",
            "| 27 | Time-span Resource Acquisition Event        | 4077fafd-5253-11ea-a3f7-02e7594ce0a0 |\n",
            "| 28 | Date of Acquisition                         | 4077fb00-5253-11ea-a3f7-02e7594ce0a0 |\n",
            "| 29 | Right Description                           | 47ecc2cd-5253-11ea-a3f7-02e7594ce0a0 |\n",
            "| 30 | Right Type                                  | 47ecc2d0-5253-11ea-a3f7-02e7594ce0a0 |\n",
            "| 31 | Bibliography                                | 49c2fb32-5250-11ea-a3f7-02e7594ce0a0 |\n",
            "| 32 | INFORMATION ID                              | 4c403a80-8a3d-11ea-a6a6-02e7594ce0a0 |\n",
            "| 33 | Date of Publication                         | 4eaf16fd-5251-11ea-a3f7-02e7594ce0a0 |\n",
            "| 34 | Time-span Publication Event                 | 4eaf1700-5251-11ea-a3f7-02e7594ce0a0 |\n",
            "| 35 | Source                                      | 4f95a75d-52f1-11ea-a3f7-02e7594ce0a0 |\n",
            "| 36 | Source Appellation                          | 4f95a760-52f1-11ea-a3f7-02e7594ce0a0 |\n",
            "| 37 | Resource Type                               | 54c62e2e-524f-11ea-a3f7-02e7594ce0a0 |\n",
            "| 38 | Geometric Place Expression                  | 587447d2-b0c2-11ea-9b1f-02e7594ce0a0 |\n",
            "| 39 | Location                                    | 587447d5-b0c2-11ea-9b1f-02e7594ce0a0 |\n",
            "| 40 | Grid ID                                     | 587447dd-b0c2-11ea-9b1f-02e7594ce0a0 |\n",
            "| 41 | Address                                     | 587447df-b0c2-11ea-9b1f-02e7594ce0a0 |\n",
            "| 42 | Country Type                                | 587447e2-b0c2-11ea-9b1f-02e7594ce0a0 |\n",
            "| 43 | Modern Country Territory                    | 587447e7-b0c2-11ea-9b1f-02e7594ce0a0 |\n",
            "| 44 | Shared Data                                 | 641b3858-52f7-11ea-a3f7-02e7594ce0a0 |\n",
            "| 45 | Volume                                      | 6a5d14c7-5251-11ea-a3f7-02e7594ce0a0 |\n",
            "| 46 | Author                                      | 6c0d426a-c5aa-11ea-9026-02e7594ce0a0 |\n",
            "| 47 | URL                                         | 7f41dcde-518c-11ea-a3f7-02e7594ce0a0 |\n",
            "| 48 | Cartography                                 | 8439ef28-52f5-11ea-a3f7-02e7594ce0a0 |\n",
            "| 49 | Imagery Sampled Resolution Type             | 8ab38e85-52f2-11ea-a3f7-02e7594ce0a0 |\n",
            "| 50 | Processing Type                             | 8e38fc39-52f2-11ea-a3f7-02e7594ce0a0 |\n",
            "| 51 | Imagery                                     | 90181f02-5252-11ea-a3f7-02e7594ce0a0 |\n",
            "| 52 | Issues                                      | 99e55b37-5251-11ea-a3f7-02e7594ce0a0 |\n",
            "| 53 | Restricted Access Record Designation        | 9fb54d2d-c6a6-11ea-a292-02e7594ce0a0 |\n",
            "| 54 | Editor                                      | a5994993-5251-11ea-a3f7-02e7594ce0a0 |\n",
            "| 55 | Related Detailed Condition Assessment       | aa018e31-8098-11ea-a6a6-02e7594ce0a0 |\n",
            "| 56 | Resource Relationships                      | aa018e34-8098-11ea-a6a6-02e7594ce0a0 |\n",
            "| 57 | Relationship Comments                       | aa018e42-8098-11ea-a6a6-02e7594ce0a0 |\n",
            "| 58 | Source                                      | aa8a789b-5251-11ea-a3f7-02e7594ce0a0 |\n",
            "| 59 | Source Appellation                          | aa8a789e-5251-11ea-a3f7-02e7594ce0a0 |\n",
            "| 60 | Description                                 | b528b064-5189-11ea-a3f7-02e7594ce0a0 |\n",
            "| 61 | Time-span Mapping Publication Event         | bf22c079-52f1-11ea-a3f7-02e7594ce0a0 |\n",
            "| 62 | Date of File                                | bf22c07c-52f1-11ea-a3f7-02e7594ce0a0 |\n",
            "| 63 | File Upload                                 | c712066a-8094-11ea-a6a6-02e7594ce0a0 |\n",
            "| 64 | URL Access Date                             | d25a68cc-5228-11ea-a3f7-02e7594ce0a0 |\n",
            "| 65 | Tile Square Appellation                     | d2c1d525-52f6-11ea-a3f7-02e7594ce0a0 |\n",
            "| 66 | Tile Sqaure Details                         | d4afc9d7-52f6-11ea-a3f7-02e7594ce0a0 |\n",
            "| 67 | Projection Type                             | d7b3f06d-52f6-11ea-a3f7-02e7594ce0a0 |\n",
            "| 68 | Series Type                                 | e48c6f2d-52f5-11ea-a3f7-02e7594ce0a0 |\n",
            "| 69 | Scale Type                                  | e7884aa3-52f5-11ea-a3f7-02e7594ce0a0 |\n",
            "| 70 | Editor Appellation                          | eaad4114-c5ab-11ea-9026-02e7594ce0a0 |\n",
            "| 71 | Edition                                     | edecaffb-52f5-11ea-a3f7-02e7594ce0a0 |\n",
            "| 72 | Shared Data Source Sharer                   | f2322125-52f7-11ea-a3f7-02e7594ce0a0 |\n",
            "| 73 | Shared Data Source Affiliation              | f2322128-52f7-11ea-a3f7-02e7594ce0a0 |\n",
            "| 74 | Shared Data Source Appellation              | f2322129-52f7-11ea-a3f7-02e7594ce0a0 |\n",
            "| 75 | Creator Appellation                         | f3124fb3-52f5-11ea-a3f7-02e7594ce0a0 |\n",
            "| 76 | Time-span Shared Data Source Creation Event | f3ef77bf-52f7-11ea-a3f7-02e7594ce0a0 |\n",
            "| 77 | Shared Data Source Date of Creation         | f3ef77c2-52f7-11ea-a3f7-02e7594ce0a0 |\n",
            "| 78 | Map Source Type                             | f7cc2731-52f5-11ea-a3f7-02e7594ce0a0 |\n",
            "| 79 | Place of publication                        | ff7ee06d-52f5-11ea-a3f7-02e7594ce0a0 |\n",
            "| 80 | Biblio Place Appellation                    | ff7ee070-52f5-11ea-a3f7-02e7594ce0a0 |\n",
            "| 81 | Map Place Appellation                       | ff7ee071-52f5-11ea-a3f7-02e7594ce0a0 |\n"
          ]
        }
      ]
    },
    {
      "cell_type": "markdown",
      "metadata": {
        "id": "1sJITyZa-E46"
      },
      "source": [
        "Download it"
      ]
    },
    {
      "cell_type": "code",
      "execution_count": 15,
      "metadata": {
        "id": "1YA2cFQt-E47",
        "outputId": "72907e0b-a856-46b6-e31d-b3b740168578",
        "colab": {
          "base_uri": "https://localhost:8080/",
          "height": 17
        }
      },
      "outputs": [
        {
          "output_type": "display_data",
          "data": {
            "text/plain": [
              "<IPython.core.display.Javascript object>"
            ],
            "application/javascript": [
              "\n",
              "    async function download(id, filename, size) {\n",
              "      if (!google.colab.kernel.accessAllowed) {\n",
              "        return;\n",
              "      }\n",
              "      const div = document.createElement('div');\n",
              "      const label = document.createElement('label');\n",
              "      label.textContent = `Downloading \"${filename}\": `;\n",
              "      div.appendChild(label);\n",
              "      const progress = document.createElement('progress');\n",
              "      progress.max = size;\n",
              "      div.appendChild(progress);\n",
              "      document.body.appendChild(div);\n",
              "\n",
              "      const buffers = [];\n",
              "      let downloaded = 0;\n",
              "\n",
              "      const channel = await google.colab.kernel.comms.open(id);\n",
              "      // Send a message to notify the kernel that we're ready.\n",
              "      channel.send({})\n",
              "\n",
              "      for await (const message of channel.messages) {\n",
              "        // Send a message to notify the kernel that we're ready.\n",
              "        channel.send({})\n",
              "        if (message.buffers) {\n",
              "          for (const buffer of message.buffers) {\n",
              "            buffers.push(buffer);\n",
              "            downloaded += buffer.byteLength;\n",
              "            progress.value = downloaded;\n",
              "          }\n",
              "        }\n",
              "      }\n",
              "      const blob = new Blob(buffers, {type: 'application/binary'});\n",
              "      const a = document.createElement('a');\n",
              "      a.href = window.URL.createObjectURL(blob);\n",
              "      a.download = filename;\n",
              "      div.appendChild(a);\n",
              "      a.click();\n",
              "      div.remove();\n",
              "    }\n",
              "  "
            ]
          },
          "metadata": {}
        },
        {
          "output_type": "display_data",
          "data": {
            "text/plain": [
              "<IPython.core.display.Javascript object>"
            ],
            "application/javascript": [
              "download(\"download_c82fe94b-a347-49db-966e-22321e3fc5e6\", \"ir_uuids_readonly.tsv\", 4581)"
            ]
          },
          "metadata": {}
        }
      ],
      "source": [
        "files.download(file_path)"
      ]
    }
  ],
  "metadata": {
    "kernelspec": {
      "display_name": "Python 3",
      "language": "python",
      "name": "python3"
    },
    "language_info": {
      "codemirror_mode": {
        "name": "ipython",
        "version": 3
      },
      "file_extension": ".py",
      "mimetype": "text/x-python",
      "name": "python",
      "nbconvert_exporter": "python",
      "pygments_lexer": "ipython3",
      "version": "3.11.2"
    },
    "orig_nbformat": 4,
    "colab": {
      "provenance": []
    }
  },
  "nbformat": 4,
  "nbformat_minor": 0
}