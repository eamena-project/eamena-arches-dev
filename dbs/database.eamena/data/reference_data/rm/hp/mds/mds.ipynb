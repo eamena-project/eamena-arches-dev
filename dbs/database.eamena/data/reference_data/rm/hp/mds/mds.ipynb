{
  "cells": [
    {
      "cell_type": "code",
      "execution_count": null,
      "metadata": {
        "cellView": "form",
        "id": "5YeIQZlIcQen"
      },
      "outputs": [],
      "source": [
        "# @title Minimum Data Standard (MDS) Heritage Places assessment\n",
        "# Python packages\n",
        "import pandas as pd\n",
        "import numpy as np\n",
        "import requests\n",
        "import ipywidgets as widgets\n",
        "from IPython.display import display\n",
        "import plotly.express as px\n",
        "import math\n",
        "import plotly.graph_objects as go\n",
        "from plotly.subplots import make_subplots\n",
        "# EAMENA functions\n",
        "!rm /content/eamena-functions -R &> /dev/nulll # silent\n",
        "!git clone https://github.com/eamena-project/eamena-functions.git &> /dev/null # silent\n",
        "%cd /content/eamena-functions\n",
        "# from mds import mds\n",
        "from zenodo import zenodo as zn\n",
        "import business_data as bdata\n",
        "import reference_data as rdata\n",
        "# MDS references\n",
        "df_listed = rdata.hp_mds_template()\n",
        "df_mds = rdata.hp_mds_template_levels()\n",
        "# GeoJSON URL user input and management\n",
        "user_input_url = input(\"Please enter the GeoJSON URL and press Enter: \")\n",
        "GEOJSON_URL = user_input_url\n",
        "hps = bdata.db_query(GEOJSON_URL)\n",
        "selected_hp = bdata.hp_list(hps)\n",
        "dict_hps = rdata.hp_dict(hps, selected_hp, df_listed)\n",
        "# print(f\"first of {len(selected_hp)} HPs: \" + str(selected_hp[:5]))\n",
        "rdata.hp_plot_spidergraphs(dict_hps, df_mds)"
      ]
    },
    {
      "cell_type": "markdown",
      "metadata": {
        "id": "06QV1BfucSvE"
      },
      "source": [
        "## Help and documentation\n",
        "\n",
        "Click on the 'run' button of the upper cell (circled in green). It will trigger a box where to paste the GeoJSON URL\n",
        "\n",
        "<p align=\"center\">\n",
        "  <img alt=\"img-name\" src=\"https://raw.githubusercontent.com/eamena-project/eamena-arches-dev/main/dbs/database.eamena/data/reference_data/rm/hp/mds/img/documentation_run_button.png\" width=\"150\">\n",
        "</p>\n",
        "\n",
        "### How to read the output\n",
        "\n",
        "The graph will represent an array of spider graphs with hover messages\n",
        "\n",
        "<p align=\"center\">\n",
        "  <img alt=\"img-name\" src=\"https://raw.githubusercontent.com/eamena-project/eamena-arches-dev/main/dbs/database.eamena/data/reference_data/rm/hp/mds/img/documentation_schema.png\" width=\"800\">\n",
        "</p>\n",
        "\n",
        "\n",
        "* Documentation is also available on the [EAMENA GitHub](https://github.com/eamena-project/eamena-arches-dev/tree/main/dbs/database.eamena/data#mds)\n",
        "\n",
        "* You can try with this GeoJSON URL (will return a dozen of Heritage Places) doing a copy/paste:\n",
        "\n",
        "```\n",
        "https://database.eamena.org/api/search/export_results?paging-filter=1&tiles=true&format=geojson&reportlink=false&precision=6&total=12&term-filter=%5B%7B%22context%22%3A%22%22%2C%22context_label%22%3A%22Heritage%20Place%20-%20Resource%20Name%22%2C%22id%22%3A0%2C%22text%22%3A%22NQT0%22%2C%22type%22%3A%22term%22%2C%22value%22%3A%22NQT0%22%2C%22inverted%22%3Afalse%7D%5D&language=*&resource-type-filter=%5B%7B%22graphid%22%3A%2234cfe98e-c2c0-11ea-9026-02e7594ce0a0%22%2C%22name%22%3A%22Heritage%20Place%22%2C%22inverted%22%3Afalse%7D%5D\n",
        "```"
      ]
    }
  ],
  "metadata": {
    "colab": {
      "provenance": []
    },
    "kernelspec": {
      "display_name": "Python 3",
      "name": "python3"
    },
    "language_info": {
      "name": "python"
    }
  },
  "nbformat": 4,
  "nbformat_minor": 0
}
