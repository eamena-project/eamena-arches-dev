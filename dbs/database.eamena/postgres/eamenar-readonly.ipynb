{
  "cells": [
    {
      "cell_type": "markdown",
      "metadata": {
        "id": "Kkt9-y2H772g"
      },
      "source": [
        "# Read-only Postgres user"
      ]
    },
    {
      "cell_type": "markdown",
      "metadata": {
        "id": "xYFkGnrD7_cD"
      },
      "source": [
        "Creating a read-only Postgres user to be able to query the database backend\n"
      ]
    },
    {
      "cell_type": "code",
      "execution_count": 2,
      "metadata": {
        "id": "q_Q4J2Hg7VCF"
      },
      "outputs": [],
      "source": [
        "import psycopg2 as pg\n",
        "from psycopg2 import sql, errors\n",
        "import pandas as pd"
      ]
    },
    {
      "cell_type": "markdown",
      "metadata": {
        "id": "gYHssXCB7VCH"
      },
      "source": [
        "Pg connection parameters"
      ]
    },
    {
      "cell_type": "code",
      "execution_count": 3,
      "metadata": {
        "id": "V5aUQEvG7VCI"
      },
      "outputs": [],
      "source": [
        "conn_params = {\n",
        "    'dbname': \"eamena\",\n",
        "    'user': \"eamenar_temp\",\n",
        "    'password': \"\",\n",
        "    'host': \"52.50.27.140\",\n",
        "    'port': \"5432\"\n",
        "}"
      ]
    },
    {
      "cell_type": "markdown",
      "metadata": {
        "id": "vsmTROnW7VCI"
      },
      "source": [
        "Connect the DB"
      ]
    },
    {
      "cell_type": "code",
      "execution_count": 4,
      "metadata": {
        "colab": {
          "base_uri": "https://localhost:8080/"
        },
        "id": "jP2A-oar7VCJ",
        "outputId": "fd15fa7e-4d33-4fa2-94c8-9ed7edd99007"
      },
      "outputs": [
        {
          "name": "stdout",
          "output_type": "stream",
          "text": [
            "Connection established successfully!\n"
          ]
        }
      ],
      "source": [
        "try:\n",
        "    connection = pg.connect(**conn_params)\n",
        "    cursor = connection.cursor()\n",
        "    print(\"Connection established successfully!\")\n",
        "except pg.Error as e:\n",
        "    print(f\"Error: {e}\")"
      ]
    },
    {
      "cell_type": "markdown",
      "metadata": {
        "id": "jdL78MAU8K1y"
      },
      "source": [
        "## Tests"
      ]
    },
    {
      "cell_type": "markdown",
      "metadata": {
        "id": "alqxUk8CZOAc"
      },
      "source": [
        "After granting `SELECT` permission (i.e. read-only) on the single view `nb_hp_by_gs` to `eamenar_temp` user (see: [User permissions](https://github.com/eamena-project/eamena-arches-dev/tree/main/dbs/database.eamena/postgres/queries#user-permissions))"
      ]
    },
    {
      "cell_type": "markdown",
      "metadata": {
        "id": "qeTGdJcA8RRD"
      },
      "source": [
        "### ✅ Read the authorised View"
      ]
    },
    {
      "cell_type": "markdown",
      "metadata": {
        "id": "aN88N_UWZEbx"
      },
      "source": [
        "Try to remove the authorised view (possible)"
      ]
    },
    {
      "cell_type": "code",
      "execution_count": 5,
      "metadata": {
        "colab": {
          "base_uri": "https://localhost:8080/",
          "height": 399
        },
        "id": "FLWt-3Yn7VCK",
        "outputId": "4cd9f5e6-80de-4fe0-e870-9b5b965ff5c0"
      },
      "outputs": [
        {
          "name": "stderr",
          "output_type": "stream",
          "text": [
            "<ipython-input-5-0e5b0a5ecf5b>:1: UserWarning: pandas only supports SQLAlchemy connectable (engine/connection) or database string URI or sqlite3 DBAPI2 connection. Other DBAPI2 objects are not tested. Please consider using SQLAlchemy.\n",
            "  pd.read_sql(\"SELECT * FROM nb_hp_by_gs LIMIT 10;\", connection)\n"
          ]
        },
        {
          "data": {
            "application/vnd.google.colaboratory.intrinsic+json": {
              "summary": "{\n  \"name\": \"pd\",\n  \"rows\": 10,\n  \"fields\": [\n    {\n      \"column\": \"grid_id\",\n      \"properties\": {\n        \"dtype\": \"string\",\n        \"num_unique_values\": 10,\n        \"samples\": [\n          \"5274cb77-b93b-465c-9323-7e5deda2d01c\",\n          \"9786a8b2-4f69-46c9-a0b0-656c26e5f908\",\n          \"c4e8738c-c3a5-4aba-a3f5-31f3890150e0\"\n        ],\n        \"semantic_type\": \"\",\n        \"description\": \"\"\n      }\n    },\n    {\n      \"column\": \"nb_hp\",\n      \"properties\": {\n        \"dtype\": \"number\",\n        \"std\": 72,\n        \"min\": 1,\n        \"max\": 231,\n        \"num_unique_values\": 9,\n        \"samples\": [\n          231,\n          78,\n          20\n        ],\n        \"semantic_type\": \"\",\n        \"description\": \"\"\n      }\n    },\n    {\n      \"column\": \"grid_num\",\n      \"properties\": {\n        \"dtype\": \"string\",\n        \"num_unique_values\": 10,\n        \"samples\": [\n          \"E35N32-12\",\n          \"E34N31-14\",\n          \"E34N31-32\"\n        ],\n        \"semantic_type\": \"\",\n        \"description\": \"\"\n      }\n    }\n  ]\n}",
              "type": "dataframe"
            },
            "text/html": [
              "\n",
              "  <div id=\"df-7f2631ea-f11c-4f72-a37c-822474cd4ba9\" class=\"colab-df-container\">\n",
              "    <div>\n",
              "<style scoped>\n",
              "    .dataframe tbody tr th:only-of-type {\n",
              "        vertical-align: middle;\n",
              "    }\n",
              "\n",
              "    .dataframe tbody tr th {\n",
              "        vertical-align: top;\n",
              "    }\n",
              "\n",
              "    .dataframe thead th {\n",
              "        text-align: right;\n",
              "    }\n",
              "</style>\n",
              "<table border=\"1\" class=\"dataframe\">\n",
              "  <thead>\n",
              "    <tr style=\"text-align: right;\">\n",
              "      <th></th>\n",
              "      <th>grid_id</th>\n",
              "      <th>nb_hp</th>\n",
              "      <th>grid_num</th>\n",
              "    </tr>\n",
              "  </thead>\n",
              "  <tbody>\n",
              "    <tr>\n",
              "      <th>0</th>\n",
              "      <td>36997a90-8e1c-4693-9738-1af1b428a07c</td>\n",
              "      <td>5</td>\n",
              "      <td>E34N31-13</td>\n",
              "    </tr>\n",
              "    <tr>\n",
              "      <th>1</th>\n",
              "      <td>9786a8b2-4f69-46c9-a0b0-656c26e5f908</td>\n",
              "      <td>78</td>\n",
              "      <td>E34N31-14</td>\n",
              "    </tr>\n",
              "    <tr>\n",
              "      <th>2</th>\n",
              "      <td>8b54b4d1-2077-4594-b3e6-59b5c9bbf3ae</td>\n",
              "      <td>21</td>\n",
              "      <td>E34N31-42</td>\n",
              "    </tr>\n",
              "    <tr>\n",
              "      <th>3</th>\n",
              "      <td>be51ee3c-d2aa-4244-ae69-f93cca04a690</td>\n",
              "      <td>118</td>\n",
              "      <td>E35N31-31</td>\n",
              "    </tr>\n",
              "    <tr>\n",
              "      <th>4</th>\n",
              "      <td>09107442-c267-44cb-806f-d66ea5d2d70b</td>\n",
              "      <td>1</td>\n",
              "      <td>E34N31-12</td>\n",
              "    </tr>\n",
              "    <tr>\n",
              "      <th>5</th>\n",
              "      <td>c4e8738c-c3a5-4aba-a3f5-31f3890150e0</td>\n",
              "      <td>20</td>\n",
              "      <td>E34N31-32</td>\n",
              "    </tr>\n",
              "    <tr>\n",
              "      <th>6</th>\n",
              "      <td>c077f029-3185-4177-bac5-81f14846595f</td>\n",
              "      <td>7</td>\n",
              "      <td>E34N32-22</td>\n",
              "    </tr>\n",
              "    <tr>\n",
              "      <th>7</th>\n",
              "      <td>ab1ffdfe-2e6e-4502-8080-ba2d705af546</td>\n",
              "      <td>231</td>\n",
              "      <td>E35N31-34</td>\n",
              "    </tr>\n",
              "    <tr>\n",
              "      <th>8</th>\n",
              "      <td>5274cb77-b93b-465c-9323-7e5deda2d01c</td>\n",
              "      <td>86</td>\n",
              "      <td>E35N32-12</td>\n",
              "    </tr>\n",
              "    <tr>\n",
              "      <th>9</th>\n",
              "      <td>db704a72-ddf0-4139-963c-2eb5cccb3b0e</td>\n",
              "      <td>20</td>\n",
              "      <td>E34N31-24</td>\n",
              "    </tr>\n",
              "  </tbody>\n",
              "</table>\n",
              "</div>\n",
              "    <div class=\"colab-df-buttons\">\n",
              "\n",
              "  <div class=\"colab-df-container\">\n",
              "    <button class=\"colab-df-convert\" onclick=\"convertToInteractive('df-7f2631ea-f11c-4f72-a37c-822474cd4ba9')\"\n",
              "            title=\"Convert this dataframe to an interactive table.\"\n",
              "            style=\"display:none;\">\n",
              "\n",
              "  <svg xmlns=\"http://www.w3.org/2000/svg\" height=\"24px\" viewBox=\"0 -960 960 960\">\n",
              "    <path d=\"M120-120v-720h720v720H120Zm60-500h600v-160H180v160Zm220 220h160v-160H400v160Zm0 220h160v-160H400v160ZM180-400h160v-160H180v160Zm440 0h160v-160H620v160ZM180-180h160v-160H180v160Zm440 0h160v-160H620v160Z\"/>\n",
              "  </svg>\n",
              "    </button>\n",
              "\n",
              "  <style>\n",
              "    .colab-df-container {\n",
              "      display:flex;\n",
              "      gap: 12px;\n",
              "    }\n",
              "\n",
              "    .colab-df-convert {\n",
              "      background-color: #E8F0FE;\n",
              "      border: none;\n",
              "      border-radius: 50%;\n",
              "      cursor: pointer;\n",
              "      display: none;\n",
              "      fill: #1967D2;\n",
              "      height: 32px;\n",
              "      padding: 0 0 0 0;\n",
              "      width: 32px;\n",
              "    }\n",
              "\n",
              "    .colab-df-convert:hover {\n",
              "      background-color: #E2EBFA;\n",
              "      box-shadow: 0px 1px 2px rgba(60, 64, 67, 0.3), 0px 1px 3px 1px rgba(60, 64, 67, 0.15);\n",
              "      fill: #174EA6;\n",
              "    }\n",
              "\n",
              "    .colab-df-buttons div {\n",
              "      margin-bottom: 4px;\n",
              "    }\n",
              "\n",
              "    [theme=dark] .colab-df-convert {\n",
              "      background-color: #3B4455;\n",
              "      fill: #D2E3FC;\n",
              "    }\n",
              "\n",
              "    [theme=dark] .colab-df-convert:hover {\n",
              "      background-color: #434B5C;\n",
              "      box-shadow: 0px 1px 3px 1px rgba(0, 0, 0, 0.15);\n",
              "      filter: drop-shadow(0px 1px 2px rgba(0, 0, 0, 0.3));\n",
              "      fill: #FFFFFF;\n",
              "    }\n",
              "  </style>\n",
              "\n",
              "    <script>\n",
              "      const buttonEl =\n",
              "        document.querySelector('#df-7f2631ea-f11c-4f72-a37c-822474cd4ba9 button.colab-df-convert');\n",
              "      buttonEl.style.display =\n",
              "        google.colab.kernel.accessAllowed ? 'block' : 'none';\n",
              "\n",
              "      async function convertToInteractive(key) {\n",
              "        const element = document.querySelector('#df-7f2631ea-f11c-4f72-a37c-822474cd4ba9');\n",
              "        const dataTable =\n",
              "          await google.colab.kernel.invokeFunction('convertToInteractive',\n",
              "                                                    [key], {});\n",
              "        if (!dataTable) return;\n",
              "\n",
              "        const docLinkHtml = 'Like what you see? Visit the ' +\n",
              "          '<a target=\"_blank\" href=https://colab.research.google.com/notebooks/data_table.ipynb>data table notebook</a>'\n",
              "          + ' to learn more about interactive tables.';\n",
              "        element.innerHTML = '';\n",
              "        dataTable['output_type'] = 'display_data';\n",
              "        await google.colab.output.renderOutput(dataTable, element);\n",
              "        const docLink = document.createElement('div');\n",
              "        docLink.innerHTML = docLinkHtml;\n",
              "        element.appendChild(docLink);\n",
              "      }\n",
              "    </script>\n",
              "  </div>\n",
              "\n",
              "\n",
              "<div id=\"df-5b64e8b7-26af-42a4-998b-dff8d6302017\">\n",
              "  <button class=\"colab-df-quickchart\" onclick=\"quickchart('df-5b64e8b7-26af-42a4-998b-dff8d6302017')\"\n",
              "            title=\"Suggest charts\"\n",
              "            style=\"display:none;\">\n",
              "\n",
              "<svg xmlns=\"http://www.w3.org/2000/svg\" height=\"24px\"viewBox=\"0 0 24 24\"\n",
              "     width=\"24px\">\n",
              "    <g>\n",
              "        <path d=\"M19 3H5c-1.1 0-2 .9-2 2v14c0 1.1.9 2 2 2h14c1.1 0 2-.9 2-2V5c0-1.1-.9-2-2-2zM9 17H7v-7h2v7zm4 0h-2V7h2v10zm4 0h-2v-4h2v4z\"/>\n",
              "    </g>\n",
              "</svg>\n",
              "  </button>\n",
              "\n",
              "<style>\n",
              "  .colab-df-quickchart {\n",
              "      --bg-color: #E8F0FE;\n",
              "      --fill-color: #1967D2;\n",
              "      --hover-bg-color: #E2EBFA;\n",
              "      --hover-fill-color: #174EA6;\n",
              "      --disabled-fill-color: #AAA;\n",
              "      --disabled-bg-color: #DDD;\n",
              "  }\n",
              "\n",
              "  [theme=dark] .colab-df-quickchart {\n",
              "      --bg-color: #3B4455;\n",
              "      --fill-color: #D2E3FC;\n",
              "      --hover-bg-color: #434B5C;\n",
              "      --hover-fill-color: #FFFFFF;\n",
              "      --disabled-bg-color: #3B4455;\n",
              "      --disabled-fill-color: #666;\n",
              "  }\n",
              "\n",
              "  .colab-df-quickchart {\n",
              "    background-color: var(--bg-color);\n",
              "    border: none;\n",
              "    border-radius: 50%;\n",
              "    cursor: pointer;\n",
              "    display: none;\n",
              "    fill: var(--fill-color);\n",
              "    height: 32px;\n",
              "    padding: 0;\n",
              "    width: 32px;\n",
              "  }\n",
              "\n",
              "  .colab-df-quickchart:hover {\n",
              "    background-color: var(--hover-bg-color);\n",
              "    box-shadow: 0 1px 2px rgba(60, 64, 67, 0.3), 0 1px 3px 1px rgba(60, 64, 67, 0.15);\n",
              "    fill: var(--button-hover-fill-color);\n",
              "  }\n",
              "\n",
              "  .colab-df-quickchart-complete:disabled,\n",
              "  .colab-df-quickchart-complete:disabled:hover {\n",
              "    background-color: var(--disabled-bg-color);\n",
              "    fill: var(--disabled-fill-color);\n",
              "    box-shadow: none;\n",
              "  }\n",
              "\n",
              "  .colab-df-spinner {\n",
              "    border: 2px solid var(--fill-color);\n",
              "    border-color: transparent;\n",
              "    border-bottom-color: var(--fill-color);\n",
              "    animation:\n",
              "      spin 1s steps(1) infinite;\n",
              "  }\n",
              "\n",
              "  @keyframes spin {\n",
              "    0% {\n",
              "      border-color: transparent;\n",
              "      border-bottom-color: var(--fill-color);\n",
              "      border-left-color: var(--fill-color);\n",
              "    }\n",
              "    20% {\n",
              "      border-color: transparent;\n",
              "      border-left-color: var(--fill-color);\n",
              "      border-top-color: var(--fill-color);\n",
              "    }\n",
              "    30% {\n",
              "      border-color: transparent;\n",
              "      border-left-color: var(--fill-color);\n",
              "      border-top-color: var(--fill-color);\n",
              "      border-right-color: var(--fill-color);\n",
              "    }\n",
              "    40% {\n",
              "      border-color: transparent;\n",
              "      border-right-color: var(--fill-color);\n",
              "      border-top-color: var(--fill-color);\n",
              "    }\n",
              "    60% {\n",
              "      border-color: transparent;\n",
              "      border-right-color: var(--fill-color);\n",
              "    }\n",
              "    80% {\n",
              "      border-color: transparent;\n",
              "      border-right-color: var(--fill-color);\n",
              "      border-bottom-color: var(--fill-color);\n",
              "    }\n",
              "    90% {\n",
              "      border-color: transparent;\n",
              "      border-bottom-color: var(--fill-color);\n",
              "    }\n",
              "  }\n",
              "</style>\n",
              "\n",
              "  <script>\n",
              "    async function quickchart(key) {\n",
              "      const quickchartButtonEl =\n",
              "        document.querySelector('#' + key + ' button');\n",
              "      quickchartButtonEl.disabled = true;  // To prevent multiple clicks.\n",
              "      quickchartButtonEl.classList.add('colab-df-spinner');\n",
              "      try {\n",
              "        const charts = await google.colab.kernel.invokeFunction(\n",
              "            'suggestCharts', [key], {});\n",
              "      } catch (error) {\n",
              "        console.error('Error during call to suggestCharts:', error);\n",
              "      }\n",
              "      quickchartButtonEl.classList.remove('colab-df-spinner');\n",
              "      quickchartButtonEl.classList.add('colab-df-quickchart-complete');\n",
              "    }\n",
              "    (() => {\n",
              "      let quickchartButtonEl =\n",
              "        document.querySelector('#df-5b64e8b7-26af-42a4-998b-dff8d6302017 button');\n",
              "      quickchartButtonEl.style.display =\n",
              "        google.colab.kernel.accessAllowed ? 'block' : 'none';\n",
              "    })();\n",
              "  </script>\n",
              "</div>\n",
              "    </div>\n",
              "  </div>\n"
            ],
            "text/plain": [
              "                                grid_id  nb_hp   grid_num\n",
              "0  36997a90-8e1c-4693-9738-1af1b428a07c      5  E34N31-13\n",
              "1  9786a8b2-4f69-46c9-a0b0-656c26e5f908     78  E34N31-14\n",
              "2  8b54b4d1-2077-4594-b3e6-59b5c9bbf3ae     21  E34N31-42\n",
              "3  be51ee3c-d2aa-4244-ae69-f93cca04a690    118  E35N31-31\n",
              "4  09107442-c267-44cb-806f-d66ea5d2d70b      1  E34N31-12\n",
              "5  c4e8738c-c3a5-4aba-a3f5-31f3890150e0     20  E34N31-32\n",
              "6  c077f029-3185-4177-bac5-81f14846595f      7  E34N32-22\n",
              "7  ab1ffdfe-2e6e-4502-8080-ba2d705af546    231  E35N31-34\n",
              "8  5274cb77-b93b-465c-9323-7e5deda2d01c     86  E35N32-12\n",
              "9  db704a72-ddf0-4139-963c-2eb5cccb3b0e     20  E34N31-24"
            ]
          },
          "execution_count": 5,
          "metadata": {},
          "output_type": "execute_result"
        }
      ],
      "source": [
        "pd.read_sql(\"SELECT * FROM nb_hp_by_gs LIMIT 10;\", connection)"
      ]
    },
    {
      "cell_type": "markdown",
      "metadata": {
        "id": "YSAVnrKxRX78"
      },
      "source": [
        "### ❌ Read another View"
      ]
    },
    {
      "cell_type": "markdown",
      "metadata": {
        "id": "x3wKZ9ioY_IV"
      },
      "source": [
        "Try to read another View (impossible)"
      ]
    },
    {
      "cell_type": "code",
      "execution_count": 6,
      "metadata": {
        "colab": {
          "base_uri": "https://localhost:8080/"
        },
        "id": "zvIw4Ww8RcTz",
        "outputId": "421e4278-7493-4981-da30-56f981be00c5"
      },
      "outputs": [
        {
          "name": "stdout",
          "output_type": "stream",
          "text": [
            "Insufficient privileges to perform this operation :)\n",
            "Error message: Execution failed on sql 'SELECT * FROM nb_hp_by_gs_temp LIMIT 10;': permission denied for view nb_hp_by_gs_temp\n",
            "\n"
          ]
        },
        {
          "name": "stderr",
          "output_type": "stream",
          "text": [
            "<ipython-input-6-0007a05c2a23>:2: UserWarning: pandas only supports SQLAlchemy connectable (engine/connection) or database string URI or sqlite3 DBAPI2 connection. Other DBAPI2 objects are not tested. Please consider using SQLAlchemy.\n",
            "  pd.read_sql(\"SELECT * FROM nb_hp_by_gs_temp LIMIT 10;\", connection)\n"
          ]
        }
      ],
      "source": [
        "try:\n",
        "  pd.read_sql(\"SELECT * FROM nb_hp_by_gs_temp LIMIT 10;\", connection)\n",
        "  print(\"Table can be read :(\")\n",
        "except pd.io.sql.DatabaseError as e:\n",
        "    print(\"Insufficient privileges to perform this operation :)\")\n",
        "    print(f\"Error message: {e}\")"
      ]
    },
    {
      "cell_type": "markdown",
      "metadata": {
        "id": "EH3j_qVJLqhj"
      },
      "source": [
        "### ❌ Read a Table"
      ]
    },
    {
      "cell_type": "markdown",
      "metadata": {
        "id": "kIJz-eMkY8q3"
      },
      "source": [
        "Try to read a table (impossible)"
      ]
    },
    {
      "cell_type": "code",
      "execution_count": 7,
      "metadata": {
        "colab": {
          "base_uri": "https://localhost:8080/"
        },
        "id": "3fwiVlUjLveO",
        "outputId": "7e46e401-f444-4e62-cf7d-6520a398a44d"
      },
      "outputs": [
        {
          "name": "stdout",
          "output_type": "stream",
          "text": [
            "Insufficient privileges to perform this operation :)\n",
            "Error message: permission denied for table auth_group_temp\n",
            "\n"
          ]
        }
      ],
      "source": [
        "connection = pg.connect(**conn_params)\n",
        "cursor = connection.cursor()\n",
        "sqll = sql.SQL(\"SELECT * FROM auth_group_temp LIMIT 10\")\n",
        "try:\n",
        "  cursor.execute(sqll)\n",
        "  connection.commit()\n",
        "  print(\"Table can be read :(\")\n",
        "except errors.InsufficientPrivilege as e:\n",
        "    print(\"Insufficient privileges to perform this operation :)\")\n",
        "    print(f\"Error message: {e}\")"
      ]
    },
    {
      "cell_type": "markdown",
      "metadata": {
        "id": "51m93yih8UEy"
      },
      "source": [
        "### ❌ Delete a Table"
      ]
    },
    {
      "cell_type": "markdown",
      "metadata": {
        "id": "4KaBYtoiFPge"
      },
      "source": [
        "Try to remove a table (impossible)"
      ]
    },
    {
      "cell_type": "code",
      "execution_count": 8,
      "metadata": {
        "colab": {
          "base_uri": "https://localhost:8080/"
        },
        "id": "vE8hZOf78eI_",
        "outputId": "ee5d7bbc-2d05-48d8-e4d5-c439b332e1e9"
      },
      "outputs": [
        {
          "name": "stdout",
          "output_type": "stream",
          "text": [
            "Insufficient privileges to perform this operation :)\n",
            "Error message: must be owner of table auth_group_temp\n",
            "\n"
          ]
        }
      ],
      "source": [
        "connection = pg.connect(**conn_params)\n",
        "cursor = connection.cursor()\n",
        "sqll = sql.SQL(\"DROP TABLE IF EXISTS auth_group_temp\")\n",
        "try:\n",
        "  cursor.execute(sqll)\n",
        "  connection.commit()\n",
        "  print(\"Table has been dropped :(\")\n",
        "except errors.InsufficientPrivilege as e:\n",
        "    print(\"Insufficient privileges to perform this operation :)\")\n",
        "    print(f\"Error message: {e}\")"
      ]
    },
    {
      "cell_type": "markdown",
      "metadata": {
        "id": "whJ4WDLaLZVV"
      },
      "source": [
        "### Close connection"
      ]
    },
    {
      "cell_type": "code",
      "execution_count": 9,
      "metadata": {
        "id": "0mg5u1A_Lc7a"
      },
      "outputs": [],
      "source": [
        "cursor.close()\n",
        "connection.close()"
      ]
    },
    {
      "cell_type": "markdown",
      "metadata": {
        "id": "XUaRkyLYUY-3"
      },
      "source": [
        "## Documentation\n",
        "\n",
        "- [User permissions](https://github.com/eamena-project/eamena-arches-dev/tree/main/dbs/database.eamena/postgres/queries#user-permissions)"
      ]
    }
  ],
  "metadata": {
    "colab": {
      "provenance": []
    },
    "kernelspec": {
      "display_name": "Python 3",
      "language": "python",
      "name": "python3"
    },
    "language_info": {
      "codemirror_mode": {
        "name": "ipython",
        "version": 3
      },
      "file_extension": ".py",
      "mimetype": "text/x-python",
      "name": "python",
      "nbconvert_exporter": "python",
      "pygments_lexer": "ipython3",
      "version": "3.11.2"
    },
    "orig_nbformat": 4
  },
  "nbformat": 4,
  "nbformat_minor": 0
}
