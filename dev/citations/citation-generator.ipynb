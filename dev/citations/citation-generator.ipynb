{
 "cells": [
  {
   "cell_type": "markdown",
   "metadata": {},
   "source": [
    "# POST an EAMENA dataset on Zenodo\n",
    "\n",
    "Post an EAMENA dataset on Zenodo from an EAMENA Search URL (ex: Sistan dataset, caravanserais, etc.)\n",
    "\n",
    "---\n",
    "\n",
    "documentation: https://developers.zenodo.org/#quickstart-upload"
   ]
  },
  {
   "cell_type": "markdown",
   "metadata": {},
   "source": [
    "## Libraries"
   ]
  },
  {
   "cell_type": "code",
   "execution_count": 1,
   "metadata": {},
   "outputs": [],
   "source": [
    "import os\n",
    "import requests\n",
    "import json\n",
    "import zipfile\n",
    "import pandas as pd\n",
    "import numpy as np\n",
    "\n",
    "# needed to export as JSON\n",
    "class NpEncoder(json.JSONEncoder):\n",
    "    def default(self, obj):\n",
    "        if isinstance(obj, np.integer):\n",
    "            return int(obj)\n",
    "        if isinstance(obj, np.floating):\n",
    "            return float(obj)\n",
    "        if isinstance(obj, np.ndarray):\n",
    "            return obj.tolist()\n",
    "        return json.JSONEncoder.default(self, obj)"
   ]
  },
  {
   "cell_type": "markdown",
   "metadata": {},
   "source": [
    "## Variables/metadata fields\n"
   ]
  },
  {
   "cell_type": "markdown",
   "metadata": {},
   "source": [
    "Search URL. This GeoJSON url comes from a Search query on HP (example: [Sistan](https://github.com/eamena-project/eamena-arches-dev/blob/main/projects/sistan/README.md#dataset)).\n",
    "\n",
    "---\n",
    "\n",
    "documentation: [GeoJSON URL](https://github.com/eamena-project/eamenaR/blob/ed96039aa9e98697311b9bbdf5eaf3f6e0c36597/README.md#exported-files)"
   ]
  },
  {
   "cell_type": "code",
   "execution_count": null,
   "metadata": {},
   "outputs": [],
   "source": [
    "GEOJSON_URL = r\"https://database.eamena.org/api/search/export_results?paging-filter=1&tiles=true&format=geojson&reportlink=false&precision=6&total=326&language=en&advanced-search=%5B%7B%22op%22%3A%22and%22%2C%2234cfea78-c2c0-11ea-9026-02e7594ce0a0%22%3A%7B%22op%22%3A%22~%22%2C%22lang%22%3A%22en%22%2C%22val%22%3A%22Sistan%22%7D%2C%2234cfea87-c2c0-11ea-9026-02e7594ce0a0%22%3A%7B%22op%22%3A%22%22%2C%22val%22%3A%22%22%7D%7D%2C%7B%22op%22%3A%22or%22%2C%2234cfea69-c2c0-11ea-9026-02e7594ce0a0%22%3A%7B%22op%22%3A%22%22%2C%22val%22%3A%22%22%7D%2C%2234cfea73-c2c0-11ea-9026-02e7594ce0a0%22%3A%7B%22op%22%3A%22%22%2C%22val%22%3A%22%22%7D%2C%2234cfea43-c2c0-11ea-9026-02e7594ce0a0%22%3A%7B%22op%22%3A%22%22%2C%22val%22%3A%224ed99706-2d90-449a-9a70-700fc5326fb1%22%7D%2C%2234cfea5d-c2c0-11ea-9026-02e7594ce0a0%22%3A%7B%22op%22%3A%22%22%2C%22val%22%3A%22%22%7D%2C%2234cfea95-c2c0-11ea-9026-02e7594ce0a0%22%3A%7B%22op%22%3A%22~%22%2C%22lang%22%3A%22en%22%2C%22val%22%3A%22%22%7D%7D%5D&resource-type-filter=%5B%7B%22graphid%22%3A%2234cfe98e-c2c0-11ea-9026-02e7594ce0a0%22%2C%22name%22%3A%22Heritage%20Place%22%2C%22inverted%22%3Afalse%7D%5D&map-filter=%7B%22type%22%3A%22FeatureCollection%22%2C%22features%22%3A%5B%7B%22id%22%3A%22e84886109295dcb2d515f9ab792832bf%22%2C%22type%22%3A%22Feature%22%2C%22properties%22%3A%7B%22buffer%22%3A%7B%22width%22%3A10%2C%22unit%22%3A%22m%22%7D%2C%22inverted%22%3Afalse%7D%2C%22geometry%22%3A%7B%22coordinates%22%3A%5B%5B%5B61.5629662657594%2C31.341070427554456%5D%2C%5B61.39269902363566%2C31.226740239181964%5D%2C%5B61.52316353383432%2C30.977760218239922%5D%2C%5B61.773036239808164%2C30.92940344148805%5D%2C%5B61.89244443558445%2C31.037461248216815%5D%2C%5B61.933352798951745%2C31.22484931983834%5D%2C%5B61.5629662657594%2C31.341070427554456%5D%5D%5D%2C%22type%22%3A%22Polygon%22%7D%7D%5D%7D\""
   ]
  },
  {
   "cell_type": "markdown",
   "metadata": {},
   "source": [
    "Adapt these metadata to your dataset"
   ]
  },
  {
   "cell_type": "code",
   "execution_count": 2,
   "metadata": {},
   "outputs": [],
   "source": [
    "FILENAME = \"data2\" # this is also the title in metadata\n",
    "UPLOAD_TYPE = 'dataset'\n",
    "DESCRIPTION = 'This is my first upload'\n",
    "CREATORS_NAMES = \"EAMENA database\"\n",
    "CREATORS_AFFILIATION = \"University of Oxford, University of Southampton\"\n",
    "# gather in a dictionary\n",
    "metadata = {\n",
    "     'metadata': {\n",
    "         'title': FILENAME,\n",
    "         'upload_type': UPLOAD_TYPE,\n",
    "         'description': DESCRIPTION,\n",
    "         'creators': [{'name': CREATORS_NAMES,\n",
    "                       'affiliation': CREATORS_AFFILIATION}]\n",
    "     } \n",
    " }"
   ]
  },
  {
   "cell_type": "markdown",
   "metadata": {},
   "source": [
    "ℹ️ see the [list of Zenodo metadata](https://github.com/eamena-project/eamena-arches-dev/tree/main/data/bibref#metadata)"
   ]
  },
  {
   "cell_type": "markdown",
   "metadata": {},
   "source": [
    "Query the database API using the `GEOJSON_URL` URL selection. Create the 'data' JSON "
   ]
  },
  {
   "cell_type": "code",
   "execution_count": 3,
   "metadata": {},
   "outputs": [],
   "source": [
    "resp = requests.get(GEOJSON_URL)\n",
    "data = resp.json()"
   ]
  },
  {
   "cell_type": "markdown",
   "metadata": {},
   "source": [
    "- If you are running this script on your local machine, uncomment/run the following code chunk\n",
    "- If you are running this script, comment/not run the following code chunk"
   ]
  },
  {
   "cell_type": "code",
   "execution_count": null,
   "metadata": {},
   "outputs": [],
   "source": [
    "# run only in local, change also paths\n",
    "mydir = \"C:\\\\Rprojects\\\\eamena-arches-dev\\\\dev\\\\citations\"\n",
    "os.chdir(mydir)\n",
    "os.chdir(os.getcwd() + \"/exports\")\n",
    "from pathlib import Path\n",
    "Path(os.getcwd() + \"/\" + FILENAME).mkdir(parents = True, exist_ok = True)\n",
    "os.chdir(os.getcwd() + \"/\" + FILENAME)"
   ]
  },
  {
   "cell_type": "markdown",
   "metadata": {},
   "source": [
    "Write JSON and ZIP locally"
   ]
  },
  {
   "cell_type": "code",
   "execution_count": 4,
   "metadata": {},
   "outputs": [
    {
     "name": "stdout",
     "output_type": "stream",
     "text": [
      "data2.geojson has been exported in C:\\Rprojects\\eamena-arches-dev\\dev\\citations\\exports\\data2\n",
      "data2.zip has been exported in C:\\Rprojects\\eamena-arches-dev\\dev\\citations\\exports\\data2\n"
     ]
    }
   ],
   "source": [
    "\n",
    "# JSON file name and ZIP file\n",
    "json_file_name = FILENAME + \".geojson\"\n",
    "zip_file_name = FILENAME + \".zip\"\n",
    "\n",
    "# Create the JSON file and write the data to it\n",
    "json_string = json.dumps(data, cls = NpEncoder)\n",
    "json_string = json.loads(json_string)\n",
    "with open(json_file_name, 'w') as json_file:\n",
    "\tjson.dump(json_string, json_file, indent=4)\n",
    "\tprint(json_file_name + \" has been exported in \" + os.getcwd())\n",
    "\n",
    "# Create a ZIP file and add the JSON file to it\n",
    "with zipfile.ZipFile(zip_file_name, \"w\", zipfile.ZIP_DEFLATED) as zipf:\n",
    "    zipf.write(json_file_name)\n",
    "    print(zip_file_name + \" has been exported in \" + os.getcwd())"
   ]
  },
  {
   "cell_type": "markdown",
   "metadata": {},
   "source": [
    "ℹ️ Further data can be created and files added into the ZIP"
   ]
  },
  {
   "cell_type": "markdown",
   "metadata": {},
   "source": [
    "## Creates an empty bucket"
   ]
  },
  {
   "cell_type": "markdown",
   "metadata": {},
   "source": [
    "Paste your `ACCESS_TOKEN` (see Zenodo documentation [here](https://zenodo.org/account/settings/applications/tokens)) "
   ]
  },
  {
   "cell_type": "code",
   "execution_count": null,
   "metadata": {},
   "outputs": [],
   "source": [
    "ACCESS_TOKEN = ''"
   ]
  },
  {
   "cell_type": "markdown",
   "metadata": {},
   "source": [
    "Choose one of selected Zenodo deposit:\n",
    "* Zenodo (`ZENODO_URL = 'https://zenodo.org/api/deposit/depositions'`)`\n",
    "* Zenodo sanbox for tests (`ZENODO_URL = 'https://sandbox.zenodo.org/api/deposit/depositions'`)"
   ]
  },
  {
   "cell_type": "code",
   "execution_count": 5,
   "metadata": {},
   "outputs": [],
   "source": [
    "ZENODO_URL = 'https://zenodo.org/api/deposit/depositions'"
   ]
  },
  {
   "cell_type": "markdown",
   "metadata": {},
   "source": [
    "Create the bucket"
   ]
  },
  {
   "cell_type": "code",
   "execution_count": 7,
   "metadata": {},
   "outputs": [
    {
     "name": "stdout",
     "output_type": "stream",
     "text": [
      "The deposition_id is: 10005137\n"
     ]
    }
   ],
   "source": [
    "params = {'access_token': ACCESS_TOKEN}\n",
    "r = requests.post(ZENODO_URL,\n",
    "                   params=params,\n",
    "                   json={})\n",
    "r.status_code\n",
    "r.json()\n",
    "# collect the deposition id\n",
    "deposition_id = r.json()['id']\n",
    "print(\"The deposition_id is: \" + str(deposition_id))"
   ]
  },
  {
   "cell_type": "markdown",
   "metadata": {},
   "source": [
    "## Add data"
   ]
  },
  {
   "cell_type": "code",
   "execution_count": 8,
   "metadata": {},
   "outputs": [
    {
     "data": {
      "text/plain": [
       "{'created': '2023-10-15T17:51:29.487660+00:00',\n",
       " 'updated': '2023-10-15T17:51:29.654828+00:00',\n",
       " 'version_id': '96cf79e7-518e-46cc-a960-66579f727df2',\n",
       " 'key': 'data2.zip',\n",
       " 'size': 59915,\n",
       " 'mimetype': 'application/zip',\n",
       " 'checksum': 'md5:cc95bcfd80f9794359e3e2129aed5f04',\n",
       " 'is_head': True,\n",
       " 'delete_marker': False,\n",
       " 'links': {'self': 'https://zenodo.org/api/files/acbad2b1-e1c0-4282-9f3c-2302e66505f0/files/data2.zip',\n",
       "  'version': 'https://zenodo.org/api/files/acbad2b1-e1c0-4282-9f3c-2302e66505f0/files/data2.zip?versionId=96cf79e7-518e-46cc-a960-66579f727df2',\n",
       "  'uploads': 'https://zenodo.org/api/files/acbad2b1-e1c0-4282-9f3c-2302e66505f0/files/data2.zip?uploads'}}"
      ]
     },
     "execution_count": 8,
     "metadata": {},
     "output_type": "execute_result"
    }
   ],
   "source": [
    "bucket_url = r.json()[\"links\"][\"bucket\"]\n",
    "with open(zip_file_name, \"rb\") as fp:\n",
    "    r = requests.put(\n",
    "        \"%s/%s\" % (bucket_url, zip_file_name),\n",
    "        data = fp,\n",
    "        params = params,\n",
    "    )\n",
    "r.json()"
   ]
  },
  {
   "cell_type": "markdown",
   "metadata": {},
   "source": [
    "## Add metadata"
   ]
  },
  {
   "cell_type": "code",
   "execution_count": 16,
   "metadata": {},
   "outputs": [
    {
     "data": {
      "text/plain": [
       "200"
      ]
     },
     "execution_count": 16,
     "metadata": {},
     "output_type": "execute_result"
    }
   ],
   "source": [
    "r = requests.put('%s/%s' % (ZENODO_URL, deposition_id),\n",
    "                  params = {'access_token': ACCESS_TOKEN}, \n",
    "                  data = json.dumps(metadata)) # ,\n",
    "                  # headers = headers)\n",
    "r.status_code\n",
    "# 200"
   ]
  },
  {
   "cell_type": "markdown",
   "metadata": {},
   "source": [
    "## Publish"
   ]
  },
  {
   "cell_type": "code",
   "execution_count": 17,
   "metadata": {},
   "outputs": [
    {
     "data": {
      "text/plain": [
       "202"
      ]
     },
     "execution_count": 17,
     "metadata": {},
     "output_type": "execute_result"
    }
   ],
   "source": [
    "r = requests.post('%s/%s/actions/publish' % (ZENODO_URL, deposition_id),\n",
    "                      params={'access_token': ACCESS_TOKEN} )\n",
    "r.status_code\n",
    "# 504"
   ]
  },
  {
   "cell_type": "markdown",
   "metadata": {},
   "source": [
    "## Check\n",
    "\n",
    "Have a look at the last deposit (`r.json()[0]`)"
   ]
  },
  {
   "cell_type": "code",
   "execution_count": 18,
   "metadata": {},
   "outputs": [
    {
     "data": {
      "text/plain": [
       "{'created': '2023-10-15T18:00:17.756651+00:00',\n",
       " 'modified': '2023-10-15T18:00:17.954547+00:00',\n",
       " 'id': 10005137,\n",
       " 'conceptrecid': '10005136',\n",
       " 'doi': '10.5281/zenodo.10005137',\n",
       " 'conceptdoi': '10.5281/zenodo.10005136',\n",
       " 'doi_url': 'https://doi.org/10.5281/zenodo.10005137',\n",
       " 'metadata': {'title': 'data2',\n",
       "  'doi': '10.5281/zenodo.10005137',\n",
       "  'publication_date': '2023-10-15',\n",
       "  'description': 'This is my first upload',\n",
       "  'access_right': 'open',\n",
       "  'creators': [{'name': 'EAMENA database',\n",
       "    'affiliation': 'University of Oxford, University of Southampton'}],\n",
       "  'license': 'cc-zero',\n",
       "  'imprint_publisher': 'Zenodo',\n",
       "  'upload_type': 'dataset',\n",
       "  'prereserve_doi': {'doi': '10.5281/zenodo.10005137', 'recid': 10005137}},\n",
       " 'title': 'data2',\n",
       " 'links': {'self': 'https://zenodo.org/api/records/10005137',\n",
       "  'html': 'https://zenodo.org/records/10005137',\n",
       "  'doi': 'https://doi.org/10.5281/zenodo.10005137',\n",
       "  'parent_doi': 'https://zenodo.org/doi/10.5281/zenodo.10005136',\n",
       "  'badge': 'https://zenodo.org/badge/doi/10.5281%2Fzenodo.10005137.svg',\n",
       "  'conceptbadge': 'https://zenodo.org/badge/doi/10.5281%2Fzenodo.10005136.svg',\n",
       "  'files': 'https://zenodo.org/api/records/10005137/files',\n",
       "  'bucket': 'https://zenodo.org/api/files/',\n",
       "  'latest_draft': 'https://zenodo.org/api/deposit/depositions/10005137',\n",
       "  'latest_draft_html': 'https://zenodo.org/deposit/10005137',\n",
       "  'publish': 'https://zenodo.org/api/deposit/depositions/10005137/actions/publish',\n",
       "  'edit': 'https://zenodo.org/api/deposit/depositions/10005137/actions/edit',\n",
       "  'discard': 'https://zenodo.org/api/deposit/depositions/10005137/actions/discard',\n",
       "  'newversion': 'https://zenodo.org/api/deposit/depositions/10005137/actions/newversion',\n",
       "  'registerconceptdoi': 'https://zenodo.org/api/deposit/depositions/10005137/actions/registerconceptdoi',\n",
       "  'record': 'https://zenodo.org/api/records/10005137',\n",
       "  'record_html': 'https://zenodo.org/record/10005137',\n",
       "  'latest': 'https://zenodo.org/api/records/10005137/versions/latest',\n",
       "  'latest_html': 'https://zenodo.org/record/10005137/versions/latest'},\n",
       " 'record_id': 10005137,\n",
       " 'owner': 1001393,\n",
       " 'files': [{'id': '6f12edbf-9372-4011-b4f8-cf395e0ef3d1',\n",
       "   'filename': 'data2.zip',\n",
       "   'filesize': 59915,\n",
       "   'checksum': 'cc95bcfd80f9794359e3e2129aed5f04',\n",
       "   'links': {'self': 'https://zenodo.org/api/records/10005137/files/6f12edbf-9372-4011-b4f8-cf395e0ef3d1',\n",
       "    'download': 'https://zenodo.org/api/files//data2.zip'}}],\n",
       " 'state': 'done',\n",
       " 'submitted': True}"
      ]
     },
     "execution_count": 18,
     "metadata": {},
     "output_type": "execute_result"
    }
   ],
   "source": [
    "r = requests.get(ZENODO_URL,\n",
    "                  params={'access_token': ACCESS_TOKEN})\n",
    "r.status_code\n",
    "# 200\n",
    "r.json()[0]"
   ]
  },
  {
   "cell_type": "markdown",
   "metadata": {},
   "source": [
    "ℹ️ The Zenodo link to the record is recorded in `r.json()[0]['links']['html']`"
   ]
  },
  {
   "cell_type": "code",
   "execution_count": 19,
   "metadata": {},
   "outputs": [
    {
     "data": {
      "text/plain": [
       "'https://zenodo.org/records/10005137'"
      ]
     },
     "execution_count": 19,
     "metadata": {},
     "output_type": "execute_result"
    }
   ],
   "source": [
    "r.json()[0]['links']['html']"
   ]
  },
  {
   "cell_type": "markdown",
   "metadata": {},
   "source": [
    "ℹ️ Its DOI is `r.json()[0]['doi_url']`"
   ]
  },
  {
   "cell_type": "code",
   "execution_count": null,
   "metadata": {},
   "outputs": [],
   "source": [
    "r.json()[0]['doi_url']"
   ]
  }
 ],
 "metadata": {
  "kernelspec": {
   "display_name": "Python 3",
   "language": "python",
   "name": "python3"
  },
  "language_info": {
   "codemirror_mode": {
    "name": "ipython",
    "version": 3
   },
   "file_extension": ".py",
   "mimetype": "text/x-python",
   "name": "python",
   "nbconvert_exporter": "python",
   "pygments_lexer": "ipython3",
   "version": "3.11.2"
  }
 },
 "nbformat": 4,
 "nbformat_minor": 2
}
