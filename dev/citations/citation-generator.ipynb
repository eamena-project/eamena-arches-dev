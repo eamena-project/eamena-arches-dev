{
 "cells": [
  {
   "cell_type": "markdown",
   "metadata": {},
   "source": [
    "# POST an EAMENA dataset on Zenodo\n",
    "\n",
    "Post an EAMENA datset on Zenodo sandbox (~~https://zenodo.org/~~, https://sandbox.zenodo.org) from an EAMENA Search URL (ex: Sistan dataset)\n",
    "\n",
    "---\n",
    "\n",
    "documentation: https://developers.zenodo.org/#quickstart-upload"
   ]
  },
  {
   "cell_type": "markdown",
   "metadata": {},
   "source": [
    "## Libraries"
   ]
  },
  {
   "cell_type": "code",
   "execution_count": 1,
   "metadata": {},
   "outputs": [],
   "source": [
    "import os\n",
    "import requests\n",
    "import json\n",
    "import zipfile\n",
    "import pandas as pd\n",
    "import numpy as np\n",
    "\n",
    "# needed to export as JSON\n",
    "class NpEncoder(json.JSONEncoder):\n",
    "    def default(self, obj):\n",
    "        if isinstance(obj, np.integer):\n",
    "            return int(obj)\n",
    "        if isinstance(obj, np.floating):\n",
    "            return float(obj)\n",
    "        if isinstance(obj, np.ndarray):\n",
    "            return obj.tolist()\n",
    "        return json.JSONEncoder.default(self, obj)"
   ]
  },
  {
   "cell_type": "markdown",
   "metadata": {},
   "source": [
    "## Variables/metadata fields\n",
    "\n",
    "Adapt these metadata to your dataset"
   ]
  },
  {
   "cell_type": "code",
   "execution_count": 4,
   "metadata": {},
   "outputs": [],
   "source": [
    "# data/filename\n",
    "FILENAME = \"data2\" # this is also the title\n",
    "GEOJSON_URL = r\"https://database.eamena.org/api/search/export_results?paging-filter=1&tiles=true&format=geojson&reportlink=false&precision=6&total=326&language=en&advanced-search=%5B%7B%22op%22%3A%22and%22%2C%2234cfea78-c2c0-11ea-9026-02e7594ce0a0%22%3A%7B%22op%22%3A%22~%22%2C%22lang%22%3A%22en%22%2C%22val%22%3A%22Sistan%22%7D%2C%2234cfea87-c2c0-11ea-9026-02e7594ce0a0%22%3A%7B%22op%22%3A%22%22%2C%22val%22%3A%22%22%7D%7D%2C%7B%22op%22%3A%22or%22%2C%2234cfea69-c2c0-11ea-9026-02e7594ce0a0%22%3A%7B%22op%22%3A%22%22%2C%22val%22%3A%22%22%7D%2C%2234cfea73-c2c0-11ea-9026-02e7594ce0a0%22%3A%7B%22op%22%3A%22%22%2C%22val%22%3A%22%22%7D%2C%2234cfea43-c2c0-11ea-9026-02e7594ce0a0%22%3A%7B%22op%22%3A%22%22%2C%22val%22%3A%224ed99706-2d90-449a-9a70-700fc5326fb1%22%7D%2C%2234cfea5d-c2c0-11ea-9026-02e7594ce0a0%22%3A%7B%22op%22%3A%22%22%2C%22val%22%3A%22%22%7D%2C%2234cfea95-c2c0-11ea-9026-02e7594ce0a0%22%3A%7B%22op%22%3A%22~%22%2C%22lang%22%3A%22en%22%2C%22val%22%3A%22%22%7D%7D%5D&resource-type-filter=%5B%7B%22graphid%22%3A%2234cfe98e-c2c0-11ea-9026-02e7594ce0a0%22%2C%22name%22%3A%22Heritage%20Place%22%2C%22inverted%22%3Afalse%7D%5D&map-filter=%7B%22type%22%3A%22FeatureCollection%22%2C%22features%22%3A%5B%7B%22id%22%3A%22e84886109295dcb2d515f9ab792832bf%22%2C%22type%22%3A%22Feature%22%2C%22properties%22%3A%7B%22buffer%22%3A%7B%22width%22%3A10%2C%22unit%22%3A%22m%22%7D%2C%22inverted%22%3Afalse%7D%2C%22geometry%22%3A%7B%22coordinates%22%3A%5B%5B%5B61.5629662657594%2C31.341070427554456%5D%2C%5B61.39269902363566%2C31.226740239181964%5D%2C%5B61.52316353383432%2C30.977760218239922%5D%2C%5B61.773036239808164%2C30.92940344148805%5D%2C%5B61.89244443558445%2C31.037461248216815%5D%2C%5B61.933352798951745%2C31.22484931983834%5D%2C%5B61.5629662657594%2C31.341070427554456%5D%5D%5D%2C%22type%22%3A%22Polygon%22%7D%7D%5D%7D\"\n",
    "# Zenodo metadata\n",
    "UPLOAD_TYPE = 'dataset'\n",
    "DESCRIPTION = 'This is my first upload'\n",
    "CREATORS_NAMES = \"EAMENA database\"\n",
    "CREATORS_AFFILIATION = \"University of Oxford, University of Southampton\""
   ]
  },
  {
   "cell_type": "markdown",
   "metadata": {},
   "source": [
    "Request the databse using the `GEOJSON_URL` URL selection. This GeoJSON url comes from a Search query on HP, see: https://github.com/eamena-project/eamena-arches-dev/blob/main/projects/sistan/README.md#dataset. Create the 'data' JSON"
   ]
  },
  {
   "cell_type": "code",
   "execution_count": 3,
   "metadata": {},
   "outputs": [],
   "source": [
    "resp = requests.get(GEOJSON_URL)\n",
    "data = resp.json()"
   ]
  },
  {
   "cell_type": "markdown",
   "metadata": {},
   "source": [
    "Write JSON, ZIP, etc., in your Dir folder"
   ]
  },
  {
   "cell_type": "markdown",
   "metadata": {},
   "source": [
    "If you are running this script on your local machine, uncomment the first lines"
   ]
  },
  {
   "cell_type": "code",
   "execution_count": 5,
   "metadata": {},
   "outputs": [
    {
     "name": "stdout",
     "output_type": "stream",
     "text": [
      "data2.geojson has been exported in C:\\Rprojects\\eamena-arches-dev\\dev\\citations\\exports\\data2\n",
      "data2.zip has been exported in C:\\Rprojects\\eamena-arches-dev\\dev\\citations\\exports\\data2\n"
     ]
    }
   ],
   "source": [
    "# mydir = \"C:\\\\Rprojects\\\\eamena-arches-dev\\\\dev\\\\citations\"\n",
    "# os.chdir(mydir)\n",
    "# os.chdir(os.getcwd() + \"/exports\")\n",
    "# from pathlib import Path\n",
    "# Path(os.getcwd() + \"/\" + FILENAME).mkdir(parents = True, exist_ok = True)\n",
    "# os.chdir(os.getcwd() + \"/\" + FILENAME)\n",
    "\n",
    "# JSON file name and ZIP file\n",
    "json_file_name = FILENAME + \".geojson\"\n",
    "zip_file_name = FILENAME + \".zip\"\n",
    "\n",
    "# Create the JSON file and write the data to it\n",
    "json_string = json.dumps(data, cls = NpEncoder)\n",
    "json_string = json.loads(json_string)\n",
    "with open(json_file_name, 'w') as json_file:\n",
    "\tjson.dump(json_string, json_file, indent=4)\n",
    "\tprint(json_file_name + \" has been exported in \" + os.getcwd())\n",
    "\n",
    "# Create a ZIP file and add the JSON file to it\n",
    "with zipfile.ZipFile(zip_file_name, \"w\", zipfile.ZIP_DEFLATED) as zipf:\n",
    "    zipf.write(json_file_name)\n",
    "    print(zip_file_name + \" has been exported in \" + os.getcwd())\n",
    "\n"
   ]
  },
  {
   "cell_type": "markdown",
   "metadata": {},
   "source": [
    "ℹ️ Further data can be created and files added into the ZIP"
   ]
  },
  {
   "cell_type": "markdown",
   "metadata": {},
   "source": [
    "## Creates an empty bucket"
   ]
  },
  {
   "cell_type": "markdown",
   "metadata": {},
   "source": [
    "Provide the secret `ACCESS_TOKEN` of the Zenodo account as a string here below"
   ]
  },
  {
   "cell_type": "code",
   "execution_count": null,
   "metadata": {},
   "outputs": [],
   "source": [
    "ACCESS_TOKEN = ''"
   ]
  },
  {
   "cell_type": "markdown",
   "metadata": {},
   "source": [
    "Create the bucket"
   ]
  },
  {
   "cell_type": "code",
   "execution_count": 10,
   "metadata": {},
   "outputs": [
    {
     "name": "stdout",
     "output_type": "stream",
     "text": [
      "The deposition_id is: 10000737\n"
     ]
    }
   ],
   "source": [
    "params = {'access_token': ACCESS_TOKEN}\n",
    "r = requests.post('https://sandbox.zenodo.org/api/deposit/depositions',\n",
    "                   params=params,\n",
    "                   json={})\n",
    "r.status_code\n",
    "r.json()\n",
    "# collect the deposition id\n",
    "deposition_id = r.json()['id']\n",
    "print(\"The deposition_id is: \" + str(deposition_id))"
   ]
  },
  {
   "cell_type": "markdown",
   "metadata": {},
   "source": [
    "## Add data"
   ]
  },
  {
   "cell_type": "code",
   "execution_count": 11,
   "metadata": {},
   "outputs": [
    {
     "data": {
      "text/plain": [
       "{'created': '2023-10-15T10:21:32.304612+00:00',\n",
       " 'updated': '2023-10-15T10:21:33.798183+00:00',\n",
       " 'version_id': 'e5100fed-2a8d-4d02-8fe8-8a847f968f4e',\n",
       " 'key': 'data2.zip',\n",
       " 'size': 59915,\n",
       " 'mimetype': 'application/zip',\n",
       " 'checksum': 'md5:2f6ac1e147d45716a489aa9f9c19fc79',\n",
       " 'is_head': True,\n",
       " 'delete_marker': False,\n",
       " 'links': {'self': 'https://zenodo-rdm-qa.web.cern.ch/api/files/c89e4186-7803-4a8b-ac18-16d5aff46d37/files/data2.zip',\n",
       "  'version': 'https://zenodo-rdm-qa.web.cern.ch/api/files/c89e4186-7803-4a8b-ac18-16d5aff46d37/files/data2.zip?versionId=e5100fed-2a8d-4d02-8fe8-8a847f968f4e',\n",
       "  'uploads': 'https://zenodo-rdm-qa.web.cern.ch/api/files/c89e4186-7803-4a8b-ac18-16d5aff46d37/files/data2.zip?uploads'}}"
      ]
     },
     "execution_count": 11,
     "metadata": {},
     "output_type": "execute_result"
    }
   ],
   "source": [
    "bucket_url = r.json()[\"links\"][\"bucket\"]\n",
    "with open(zip_file_name, \"rb\") as fp:\n",
    "    r = requests.put(\n",
    "        \"%s/%s\" % (bucket_url, zip_file_name),\n",
    "        data = fp,\n",
    "        params = params,\n",
    "    )\n",
    "r.json()"
   ]
  },
  {
   "cell_type": "markdown",
   "metadata": {},
   "source": [
    "## Add metadata"
   ]
  },
  {
   "cell_type": "code",
   "execution_count": 12,
   "metadata": {},
   "outputs": [
    {
     "data": {
      "text/plain": [
       "200"
      ]
     },
     "execution_count": 12,
     "metadata": {},
     "output_type": "execute_result"
    }
   ],
   "source": [
    "data = {\n",
    "     'metadata': {\n",
    "         'title': FILENAME,\n",
    "         'upload_type': UPLOAD_TYPE,\n",
    "         'description': DESCRIPTION,\n",
    "         'creators': [{'name': CREATORS_NAMES,\n",
    "                       'affiliation': CREATORS_AFFILIATION}]\n",
    "     } \n",
    " }\n",
    "r = requests.put('https://sandbox.zenodo.org/api/deposit/depositions/%s' % deposition_id,\n",
    "                  params = {'access_token': ACCESS_TOKEN}, \n",
    "                  data = json.dumps(data)) # ,\n",
    "                  # headers = headers)\n",
    "r.status_code\n",
    "# 200"
   ]
  },
  {
   "cell_type": "markdown",
   "metadata": {},
   "source": [
    "## Publish"
   ]
  },
  {
   "cell_type": "code",
   "execution_count": 13,
   "metadata": {},
   "outputs": [
    {
     "data": {
      "text/plain": [
       "504"
      ]
     },
     "execution_count": 13,
     "metadata": {},
     "output_type": "execute_result"
    }
   ],
   "source": [
    "r = requests.post('https://sandbox.zenodo.org/api/deposit/depositions/%s/actions/publish' % deposition_id,\n",
    "                      params={'access_token': ACCESS_TOKEN} )\n",
    "r.status_code\n",
    "# 504"
   ]
  },
  {
   "cell_type": "markdown",
   "metadata": {},
   "source": [
    "## Check\n",
    "\n",
    "Have a look at the last deposit (`r.json()[0]`)"
   ]
  },
  {
   "cell_type": "code",
   "execution_count": 14,
   "metadata": {},
   "outputs": [
    {
     "data": {
      "text/plain": [
       "[{'created': '2023-10-15T10:22:23.131953+00:00',\n",
       "  'modified': '2023-10-15T10:22:23.841097+00:00',\n",
       "  'id': 10000737,\n",
       "  'conceptrecid': '10000736',\n",
       "  'doi': '10.5281/zenodo.10000737',\n",
       "  'conceptdoi': '10.5281/zenodo.10000736',\n",
       "  'doi_url': 'https://doi.org/10.5281/zenodo.10000737',\n",
       "  'metadata': {'title': 'data2',\n",
       "   'doi': '10.5281/zenodo.10000737',\n",
       "   'publication_date': '2023-10-15',\n",
       "   'description': 'This is my first upload',\n",
       "   'access_right': 'open',\n",
       "   'creators': [{'name': 'EAMENA database',\n",
       "     'affiliation': 'University of Oxford, University of Southampton'}],\n",
       "   'license': 'cc-zero',\n",
       "   'imprint_publisher': 'Zenodo',\n",
       "   'upload_type': 'dataset',\n",
       "   'prereserve_doi': {'doi': '10.5281/zenodo.10000737', 'recid': 10000737}},\n",
       "  'title': 'data2',\n",
       "  'links': {'self': 'https://zenodo-rdm-qa.web.cern.ch/api/records/10000737',\n",
       "   'html': 'https://zenodo-rdm-qa.web.cern.ch/records/10000737',\n",
       "   'doi': 'https://doi.org/10.5281/zenodo.10000737',\n",
       "   'parent_doi': 'https://zenodo-rdm-qa.web.cern.ch/doi/10.5281/zenodo.10000736',\n",
       "   'badge': 'https://zenodo-rdm-qa.web.cern.ch/badge/doi/10.5281%2Fzenodo.10000737.svg',\n",
       "   'conceptbadge': 'https://zenodo-rdm-qa.web.cern.ch/badge/doi/10.5281%2Fzenodo.10000736.svg',\n",
       "   'files': 'https://zenodo-rdm-qa.web.cern.ch/api/records/10000737/files',\n",
       "   'bucket': 'https://zenodo-rdm-qa.web.cern.ch/api/files/',\n",
       "   'latest_draft': 'https://zenodo-rdm-qa.web.cern.ch/api/deposit/depositions/10000737',\n",
       "   'latest_draft_html': 'https://zenodo-rdm-qa.web.cern.ch/deposit/10000737',\n",
       "   'publish': 'https://zenodo-rdm-qa.web.cern.ch/api/deposit/depositions/10000737/actions/publish',\n",
       "   'edit': 'https://zenodo-rdm-qa.web.cern.ch/api/deposit/depositions/10000737/actions/edit',\n",
       "   'discard': 'https://zenodo-rdm-qa.web.cern.ch/api/deposit/depositions/10000737/actions/discard',\n",
       "   'newversion': 'https://zenodo-rdm-qa.web.cern.ch/api/deposit/depositions/10000737/actions/newversion',\n",
       "   'registerconceptdoi': 'https://zenodo-rdm-qa.web.cern.ch/api/deposit/depositions/10000737/actions/registerconceptdoi',\n",
       "   'record': 'https://zenodo-rdm-qa.web.cern.ch/api/records/10000737',\n",
       "   'record_html': 'https://zenodo-rdm-qa.web.cern.ch/record/10000737',\n",
       "   'latest': 'https://zenodo-rdm-qa.web.cern.ch/api/records/10000737/versions/latest',\n",
       "   'latest_html': 'https://zenodo-rdm-qa.web.cern.ch/record/10000737/versions/latest'},\n",
       "  'record_id': 10000737,\n",
       "  'owner': 171795,\n",
       "  'files': [{'id': '07205fd1-75ba-472e-b907-c5a89a07e50b',\n",
       "    'filename': 'data2.zip',\n",
       "    'filesize': 59915,\n",
       "    'checksum': '2f6ac1e147d45716a489aa9f9c19fc79',\n",
       "    'links': {'self': 'https://zenodo-rdm-qa.web.cern.ch/api/records/10000737/files/07205fd1-75ba-472e-b907-c5a89a07e50b',\n",
       "     'download': 'https://zenodo-rdm-qa.web.cern.ch/api/files//data2.zip'}}],\n",
       "  'state': 'done',\n",
       "  'submitted': True},\n",
       " {'created': '2023-10-15T10:21:11.258130+00:00',\n",
       "  'modified': '2023-10-15T10:21:12.068248+00:00',\n",
       "  'id': 10000735,\n",
       "  'conceptrecid': '10000734',\n",
       "  'metadata': {'access_right': 'open',\n",
       "   'prereserve_doi': {'doi': '10.5281/zenodo.10000735', 'recid': 10000735}},\n",
       "  'title': '',\n",
       "  'links': {'self': 'https://zenodo-rdm-qa.web.cern.ch/api/records/10000735',\n",
       "   'html': 'https://zenodo-rdm-qa.web.cern.ch/records/10000735',\n",
       "   'badge': 'https://zenodo-rdm-qa.web.cern.ch/badge/doi/.svg',\n",
       "   'files': 'https://zenodo-rdm-qa.web.cern.ch/api/records/10000735/files',\n",
       "   'bucket': 'https://zenodo-rdm-qa.web.cern.ch/api/files/',\n",
       "   'latest_draft': 'https://zenodo-rdm-qa.web.cern.ch/api/deposit/depositions/10000735',\n",
       "   'latest_draft_html': 'https://zenodo-rdm-qa.web.cern.ch/deposit/10000735',\n",
       "   'publish': 'https://zenodo-rdm-qa.web.cern.ch/api/deposit/depositions/10000735/actions/publish',\n",
       "   'edit': 'https://zenodo-rdm-qa.web.cern.ch/api/deposit/depositions/10000735/actions/edit',\n",
       "   'discard': 'https://zenodo-rdm-qa.web.cern.ch/api/deposit/depositions/10000735/actions/discard',\n",
       "   'newversion': 'https://zenodo-rdm-qa.web.cern.ch/api/deposit/depositions/10000735/actions/newversion',\n",
       "   'registerconceptdoi': 'https://zenodo-rdm-qa.web.cern.ch/api/deposit/depositions/10000735/actions/registerconceptdoi'},\n",
       "  'record_id': 10000735,\n",
       "  'owner': 171795,\n",
       "  'files': [],\n",
       "  'state': 'unsubmitted',\n",
       "  'submitted': False},\n",
       " {'created': '2023-10-15T10:20:55.635290+00:00',\n",
       "  'modified': '2023-10-15T10:20:56.298528+00:00',\n",
       "  'id': 10000733,\n",
       "  'conceptrecid': '10000732',\n",
       "  'metadata': {'access_right': 'open',\n",
       "   'prereserve_doi': {'doi': '10.5281/zenodo.10000733', 'recid': 10000733}},\n",
       "  'title': '',\n",
       "  'links': {'self': 'https://zenodo-rdm-qa.web.cern.ch/api/records/10000733',\n",
       "   'html': 'https://zenodo-rdm-qa.web.cern.ch/records/10000733',\n",
       "   'badge': 'https://zenodo-rdm-qa.web.cern.ch/badge/doi/.svg',\n",
       "   'files': 'https://zenodo-rdm-qa.web.cern.ch/api/records/10000733/files',\n",
       "   'bucket': 'https://zenodo-rdm-qa.web.cern.ch/api/files/',\n",
       "   'latest_draft': 'https://zenodo-rdm-qa.web.cern.ch/api/deposit/depositions/10000733',\n",
       "   'latest_draft_html': 'https://zenodo-rdm-qa.web.cern.ch/deposit/10000733',\n",
       "   'publish': 'https://zenodo-rdm-qa.web.cern.ch/api/deposit/depositions/10000733/actions/publish',\n",
       "   'edit': 'https://zenodo-rdm-qa.web.cern.ch/api/deposit/depositions/10000733/actions/edit',\n",
       "   'discard': 'https://zenodo-rdm-qa.web.cern.ch/api/deposit/depositions/10000733/actions/discard',\n",
       "   'newversion': 'https://zenodo-rdm-qa.web.cern.ch/api/deposit/depositions/10000733/actions/newversion',\n",
       "   'registerconceptdoi': 'https://zenodo-rdm-qa.web.cern.ch/api/deposit/depositions/10000733/actions/registerconceptdoi'},\n",
       "  'record_id': 10000733,\n",
       "  'owner': 171795,\n",
       "  'files': [],\n",
       "  'state': 'unsubmitted',\n",
       "  'submitted': False},\n",
       " {'created': '2023-10-15T10:20:21.590614+00:00',\n",
       "  'modified': '2023-10-15T10:20:22.772092+00:00',\n",
       "  'id': 10000731,\n",
       "  'conceptrecid': '10000730',\n",
       "  'metadata': {'access_right': 'open',\n",
       "   'prereserve_doi': {'doi': '10.5281/zenodo.10000731', 'recid': 10000731}},\n",
       "  'title': '',\n",
       "  'links': {'self': 'https://zenodo-rdm-qa.web.cern.ch/api/records/10000731',\n",
       "   'html': 'https://zenodo-rdm-qa.web.cern.ch/records/10000731',\n",
       "   'badge': 'https://zenodo-rdm-qa.web.cern.ch/badge/doi/.svg',\n",
       "   'files': 'https://zenodo-rdm-qa.web.cern.ch/api/records/10000731/files',\n",
       "   'bucket': 'https://zenodo-rdm-qa.web.cern.ch/api/files/',\n",
       "   'latest_draft': 'https://zenodo-rdm-qa.web.cern.ch/api/deposit/depositions/10000731',\n",
       "   'latest_draft_html': 'https://zenodo-rdm-qa.web.cern.ch/deposit/10000731',\n",
       "   'publish': 'https://zenodo-rdm-qa.web.cern.ch/api/deposit/depositions/10000731/actions/publish',\n",
       "   'edit': 'https://zenodo-rdm-qa.web.cern.ch/api/deposit/depositions/10000731/actions/edit',\n",
       "   'discard': 'https://zenodo-rdm-qa.web.cern.ch/api/deposit/depositions/10000731/actions/discard',\n",
       "   'newversion': 'https://zenodo-rdm-qa.web.cern.ch/api/deposit/depositions/10000731/actions/newversion',\n",
       "   'registerconceptdoi': 'https://zenodo-rdm-qa.web.cern.ch/api/deposit/depositions/10000731/actions/registerconceptdoi'},\n",
       "  'record_id': 10000731,\n",
       "  'owner': 171795,\n",
       "  'files': [],\n",
       "  'state': 'unsubmitted',\n",
       "  'submitted': False},\n",
       " {'created': '2023-10-15T10:19:30.533650+00:00',\n",
       "  'modified': '2023-10-15T10:19:31.352339+00:00',\n",
       "  'id': 10000729,\n",
       "  'conceptrecid': '10000728',\n",
       "  'metadata': {'access_right': 'open',\n",
       "   'prereserve_doi': {'doi': '10.5281/zenodo.10000729', 'recid': 10000729}},\n",
       "  'title': '',\n",
       "  'links': {'self': 'https://zenodo-rdm-qa.web.cern.ch/api/records/10000729',\n",
       "   'html': 'https://zenodo-rdm-qa.web.cern.ch/records/10000729',\n",
       "   'badge': 'https://zenodo-rdm-qa.web.cern.ch/badge/doi/.svg',\n",
       "   'files': 'https://zenodo-rdm-qa.web.cern.ch/api/records/10000729/files',\n",
       "   'bucket': 'https://zenodo-rdm-qa.web.cern.ch/api/files/',\n",
       "   'latest_draft': 'https://zenodo-rdm-qa.web.cern.ch/api/deposit/depositions/10000729',\n",
       "   'latest_draft_html': 'https://zenodo-rdm-qa.web.cern.ch/deposit/10000729',\n",
       "   'publish': 'https://zenodo-rdm-qa.web.cern.ch/api/deposit/depositions/10000729/actions/publish',\n",
       "   'edit': 'https://zenodo-rdm-qa.web.cern.ch/api/deposit/depositions/10000729/actions/edit',\n",
       "   'discard': 'https://zenodo-rdm-qa.web.cern.ch/api/deposit/depositions/10000729/actions/discard',\n",
       "   'newversion': 'https://zenodo-rdm-qa.web.cern.ch/api/deposit/depositions/10000729/actions/newversion',\n",
       "   'registerconceptdoi': 'https://zenodo-rdm-qa.web.cern.ch/api/deposit/depositions/10000729/actions/registerconceptdoi'},\n",
       "  'record_id': 10000729,\n",
       "  'owner': 171795,\n",
       "  'files': [],\n",
       "  'state': 'unsubmitted',\n",
       "  'submitted': False},\n",
       " {'created': '2023-10-15T09:37:49.377360+00:00',\n",
       "  'modified': '2023-10-15T09:37:52.074391+00:00',\n",
       "  'id': 10000723,\n",
       "  'conceptrecid': '10000722',\n",
       "  'doi': '10.5281/zenodo.10000723',\n",
       "  'conceptdoi': '10.5281/zenodo.10000722',\n",
       "  'doi_url': 'https://doi.org/10.5281/zenodo.10000723',\n",
       "  'metadata': {'title': 'data1',\n",
       "   'doi': '10.5281/zenodo.10000723',\n",
       "   'publication_date': '2023-10-15',\n",
       "   'description': 'This is my first upload',\n",
       "   'access_right': 'open',\n",
       "   'creators': [{'name': 'EAMENA database',\n",
       "     'affiliation': 'University of Oxford, University of Southampton'}],\n",
       "   'license': 'cc-zero',\n",
       "   'imprint_publisher': 'Zenodo',\n",
       "   'upload_type': 'dataset',\n",
       "   'prereserve_doi': {'doi': '10.5281/zenodo.10000723', 'recid': 10000723}},\n",
       "  'title': 'data1',\n",
       "  'links': {'self': 'https://zenodo-rdm-qa.web.cern.ch/api/records/10000723',\n",
       "   'html': 'https://zenodo-rdm-qa.web.cern.ch/records/10000723',\n",
       "   'doi': 'https://doi.org/10.5281/zenodo.10000723',\n",
       "   'parent_doi': 'https://zenodo-rdm-qa.web.cern.ch/doi/10.5281/zenodo.10000722',\n",
       "   'badge': 'https://zenodo-rdm-qa.web.cern.ch/badge/doi/10.5281%2Fzenodo.10000723.svg',\n",
       "   'conceptbadge': 'https://zenodo-rdm-qa.web.cern.ch/badge/doi/10.5281%2Fzenodo.10000722.svg',\n",
       "   'files': 'https://zenodo-rdm-qa.web.cern.ch/api/records/10000723/files',\n",
       "   'bucket': 'https://zenodo-rdm-qa.web.cern.ch/api/files/',\n",
       "   'latest_draft': 'https://zenodo-rdm-qa.web.cern.ch/api/deposit/depositions/10000723',\n",
       "   'latest_draft_html': 'https://zenodo-rdm-qa.web.cern.ch/deposit/10000723',\n",
       "   'publish': 'https://zenodo-rdm-qa.web.cern.ch/api/deposit/depositions/10000723/actions/publish',\n",
       "   'edit': 'https://zenodo-rdm-qa.web.cern.ch/api/deposit/depositions/10000723/actions/edit',\n",
       "   'discard': 'https://zenodo-rdm-qa.web.cern.ch/api/deposit/depositions/10000723/actions/discard',\n",
       "   'newversion': 'https://zenodo-rdm-qa.web.cern.ch/api/deposit/depositions/10000723/actions/newversion',\n",
       "   'registerconceptdoi': 'https://zenodo-rdm-qa.web.cern.ch/api/deposit/depositions/10000723/actions/registerconceptdoi',\n",
       "   'record': 'https://zenodo-rdm-qa.web.cern.ch/api/records/10000723',\n",
       "   'record_html': 'https://zenodo-rdm-qa.web.cern.ch/record/10000723',\n",
       "   'latest': 'https://zenodo-rdm-qa.web.cern.ch/api/records/10000723/versions/latest',\n",
       "   'latest_html': 'https://zenodo-rdm-qa.web.cern.ch/record/10000723/versions/latest'},\n",
       "  'record_id': 10000723,\n",
       "  'owner': 171795,\n",
       "  'files': [{'id': 'dd2bfb59-9c6a-4748-a16e-b2935d109afb',\n",
       "    'filename': 'data1.zip',\n",
       "    'filesize': 59915,\n",
       "    'checksum': '4ec22f7570645aaac86b2e5a47697fc6',\n",
       "    'links': {'self': 'https://zenodo-rdm-qa.web.cern.ch/api/records/10000723/files/dd2bfb59-9c6a-4748-a16e-b2935d109afb',\n",
       "     'download': 'https://zenodo-rdm-qa.web.cern.ch/api/files//data1.zip'}}],\n",
       "  'state': 'done',\n",
       "  'submitted': True},\n",
       " {'created': '2023-10-15T08:52:26.270121+00:00',\n",
       "  'modified': '2023-10-15T08:52:27.047579+00:00',\n",
       "  'id': 10000719,\n",
       "  'conceptrecid': '10000718',\n",
       "  'metadata': {'access_right': 'open',\n",
       "   'prereserve_doi': {'doi': '10.5281/zenodo.10000719', 'recid': 10000719}},\n",
       "  'title': '',\n",
       "  'links': {'self': 'https://zenodo-rdm-qa.web.cern.ch/api/records/10000719',\n",
       "   'html': 'https://zenodo-rdm-qa.web.cern.ch/records/10000719',\n",
       "   'badge': 'https://zenodo-rdm-qa.web.cern.ch/badge/doi/.svg',\n",
       "   'files': 'https://zenodo-rdm-qa.web.cern.ch/api/records/10000719/files',\n",
       "   'bucket': 'https://zenodo-rdm-qa.web.cern.ch/api/files/',\n",
       "   'latest_draft': 'https://zenodo-rdm-qa.web.cern.ch/api/deposit/depositions/10000719',\n",
       "   'latest_draft_html': 'https://zenodo-rdm-qa.web.cern.ch/deposit/10000719',\n",
       "   'publish': 'https://zenodo-rdm-qa.web.cern.ch/api/deposit/depositions/10000719/actions/publish',\n",
       "   'edit': 'https://zenodo-rdm-qa.web.cern.ch/api/deposit/depositions/10000719/actions/edit',\n",
       "   'discard': 'https://zenodo-rdm-qa.web.cern.ch/api/deposit/depositions/10000719/actions/discard',\n",
       "   'newversion': 'https://zenodo-rdm-qa.web.cern.ch/api/deposit/depositions/10000719/actions/newversion',\n",
       "   'registerconceptdoi': 'https://zenodo-rdm-qa.web.cern.ch/api/deposit/depositions/10000719/actions/registerconceptdoi'},\n",
       "  'record_id': 10000719,\n",
       "  'owner': 171795,\n",
       "  'files': [],\n",
       "  'state': 'unsubmitted',\n",
       "  'submitted': False},\n",
       " {'created': '2023-10-13T18:41:38.387812+00:00',\n",
       "  'modified': '2023-10-13T18:41:40.354834+00:00',\n",
       "  'id': 10000603,\n",
       "  'conceptrecid': '10000602',\n",
       "  'metadata': {'access_right': 'open',\n",
       "   'prereserve_doi': {'doi': '10.5281/zenodo.10000603', 'recid': 10000603}},\n",
       "  'title': '',\n",
       "  'links': {'self': 'https://zenodo-rdm-qa.web.cern.ch/api/records/10000603',\n",
       "   'html': 'https://zenodo-rdm-qa.web.cern.ch/records/10000603',\n",
       "   'badge': 'https://zenodo-rdm-qa.web.cern.ch/badge/doi/.svg',\n",
       "   'files': 'https://zenodo-rdm-qa.web.cern.ch/api/records/10000603/files',\n",
       "   'bucket': 'https://zenodo-rdm-qa.web.cern.ch/api/files/',\n",
       "   'latest_draft': 'https://zenodo-rdm-qa.web.cern.ch/api/deposit/depositions/10000603',\n",
       "   'latest_draft_html': 'https://zenodo-rdm-qa.web.cern.ch/deposit/10000603',\n",
       "   'publish': 'https://zenodo-rdm-qa.web.cern.ch/api/deposit/depositions/10000603/actions/publish',\n",
       "   'edit': 'https://zenodo-rdm-qa.web.cern.ch/api/deposit/depositions/10000603/actions/edit',\n",
       "   'discard': 'https://zenodo-rdm-qa.web.cern.ch/api/deposit/depositions/10000603/actions/discard',\n",
       "   'newversion': 'https://zenodo-rdm-qa.web.cern.ch/api/deposit/depositions/10000603/actions/newversion',\n",
       "   'registerconceptdoi': 'https://zenodo-rdm-qa.web.cern.ch/api/deposit/depositions/10000603/actions/registerconceptdoi'},\n",
       "  'record_id': 10000603,\n",
       "  'owner': 171795,\n",
       "  'files': [],\n",
       "  'state': 'unsubmitted',\n",
       "  'submitted': False},\n",
       " {'created': '2022-08-03T16:40:00.334625+00:00',\n",
       "  'modified': '2022-08-03T16:57:09.660258+00:00',\n",
       "  'id': 6958900,\n",
       "  'conceptrecid': '6850735',\n",
       "  'conceptdoi': '10.5281/zenodo.6850735',\n",
       "  'metadata': {'title': 'zoometh/zoowork: v1.0.1',\n",
       "   'publication_date': '2022-08-03',\n",
       "   'description': '<ul>\\n\\t<li>Add new authors</li>\\n\\t<li>Complete the function documentation</li>\\n\\t<li>Fix a bug on <code>zoo_legend</code> option <code>worksheets = c(&quot;taxon_types&quot;)</code></li>\\n</ul>',\n",
       "   'access_right': 'open',\n",
       "   'creators': [{'name': 'Huet, Thomas',\n",
       "     'affiliation': 'University of Oxford',\n",
       "     'orcid': '0000-0002-1112-6122'},\n",
       "    {'name': 'Nieto-Espinet, Ariadna',\n",
       "     'affiliation': 'Universitat de Lleida',\n",
       "     'orcid': '0000-0001-6038-995X'},\n",
       "    {'name': 'Trentacoste, Angela',\n",
       "     'affiliation': 'Institut für Ur- und Frühgeschichte, Christian-Albrechts-Universität zu Kiel',\n",
       "     'orcid': '0000-0001-7096-5252'},\n",
       "    {'name': 'Guimarães, Silvia',\n",
       "     'affiliation': 'IMF-CSIC',\n",
       "     'orcid': '0000-0002-3778-3315'},\n",
       "    {'name': 'Valenzuela-Lamas, Silvia',\n",
       "     'affiliation': 'IMF-CSIC',\n",
       "     'orcid': '0000-0001-9886-0372'}],\n",
       "   'contributors': [],\n",
       "   'keywords': ['statistical analysis', 'archaeozoology', 'R package'],\n",
       "   'related_identifiers': [{'identifier': 'https://github.com/zoometh/zoowork/tree/v1.0.1.0',\n",
       "     'relation': 'isSupplementTo',\n",
       "     'scheme': 'url'}],\n",
       "   'license': 'cc-by-4.0',\n",
       "   'communities': [{'identifier': 'zenodo'}],\n",
       "   'upload_type': 'software',\n",
       "   'prereserve_doi': {'doi': '10.5281/zenodo.6958900', 'recid': 6958900}},\n",
       "  'title': 'zoometh/zoowork: v1.0.1',\n",
       "  'links': {'self': 'https://zenodo-rdm-qa.web.cern.ch/api/records/6958900',\n",
       "   'html': 'https://zenodo-rdm-qa.web.cern.ch/records/6958900',\n",
       "   'parent_doi': 'https://zenodo-rdm-qa.web.cern.ch/doi/10.5281/zenodo.6850735',\n",
       "   'badge': 'https://zenodo-rdm-qa.web.cern.ch/badge/doi/.svg',\n",
       "   'conceptbadge': 'https://zenodo-rdm-qa.web.cern.ch/badge/doi/10.5281%2Fzenodo.6850735.svg',\n",
       "   'files': 'https://zenodo-rdm-qa.web.cern.ch/api/records/6958900/files',\n",
       "   'bucket': 'https://zenodo-rdm-qa.web.cern.ch/api/files/',\n",
       "   'latest_draft': 'https://zenodo-rdm-qa.web.cern.ch/api/deposit/depositions/6958900',\n",
       "   'latest_draft_html': 'https://zenodo-rdm-qa.web.cern.ch/deposit/6958900',\n",
       "   'publish': 'https://zenodo-rdm-qa.web.cern.ch/api/deposit/depositions/6958900/actions/publish',\n",
       "   'edit': 'https://zenodo-rdm-qa.web.cern.ch/api/deposit/depositions/6958900/actions/edit',\n",
       "   'discard': 'https://zenodo-rdm-qa.web.cern.ch/api/deposit/depositions/6958900/actions/discard',\n",
       "   'newversion': 'https://zenodo-rdm-qa.web.cern.ch/api/deposit/depositions/6958900/actions/newversion',\n",
       "   'registerconceptdoi': 'https://zenodo-rdm-qa.web.cern.ch/api/deposit/depositions/6958900/actions/registerconceptdoi'},\n",
       "  'record_id': 6958900,\n",
       "  'owner': 171795,\n",
       "  'files': [],\n",
       "  'state': 'unsubmitted',\n",
       "  'submitted': False},\n",
       " {'created': '2021-05-17T12:39:21.138367+00:00',\n",
       "  'modified': '2022-09-24T16:37:12.107617+00:00',\n",
       "  'id': 4767529,\n",
       "  'conceptrecid': '4767528',\n",
       "  'conceptdoi': '10.5281/zenodo.4767528',\n",
       "  'metadata': {'title': 'Analysis of Prehistoric Iconography with the R package iconr',\n",
       "   'publication_date': '2021-05-17',\n",
       "   'description': '<p>The R package &#39;iconr&#39; is grounded in graph theory and spatial analysis to offer concepts and functions for modeling Prehistoric iconographic compositions and preparing for further analysis (clustering, typology tree, Harris diagram, etc.). The package purpose is to contribute to cross-cultural comparison through a greater normalization of quantitative analysis</p>',\n",
       "   'access_right': 'open',\n",
       "   'creators': [{'name': 'Huet, Thomas',\n",
       "     'affiliation': 'LabEx ARCHIMEDE, ANR-11-LABX-0032-01',\n",
       "     'orcid': '0000-0002-1112-6122'},\n",
       "    {'name': 'M. Pozo, Jose',\n",
       "     'affiliation': 'Independent Researcher',\n",
       "     'orcid': '0000-0002-0759-3510'},\n",
       "    {'name': 'Alexander, Craig',\n",
       "     'affiliation': 'Independent Researcher',\n",
       "     'orcid': '0000-0001-7539-6415'}],\n",
       "   'contributors': [],\n",
       "   'keywords': ['Iconography, Semiotic, Prehistory, Archaeology, Graph Theory, GIS'],\n",
       "   'language': 'eng',\n",
       "   'license': 'cc-by-4.0',\n",
       "   'communities': [{'identifier': 'zenodo'}],\n",
       "   'notes': 'CRAN v. 0.1.0 at https://cran.r-project.org/web/packages/iconr/index.html',\n",
       "   'upload_type': 'software',\n",
       "   'prereserve_doi': {'doi': '10.5281/zenodo.4767529', 'recid': 4767529}},\n",
       "  'title': 'Analysis of Prehistoric Iconography with the R package iconr',\n",
       "  'links': {'self': 'https://zenodo-rdm-qa.web.cern.ch/api/records/4767529',\n",
       "   'html': 'https://zenodo-rdm-qa.web.cern.ch/records/4767529',\n",
       "   'parent_doi': 'https://zenodo-rdm-qa.web.cern.ch/doi/10.5281/zenodo.4767528',\n",
       "   'badge': 'https://zenodo-rdm-qa.web.cern.ch/badge/doi/.svg',\n",
       "   'conceptbadge': 'https://zenodo-rdm-qa.web.cern.ch/badge/doi/10.5281%2Fzenodo.4767528.svg',\n",
       "   'files': 'https://zenodo-rdm-qa.web.cern.ch/api/records/4767529/files',\n",
       "   'bucket': 'https://zenodo-rdm-qa.web.cern.ch/api/files/',\n",
       "   'latest_draft': 'https://zenodo-rdm-qa.web.cern.ch/api/deposit/depositions/4767529',\n",
       "   'latest_draft_html': 'https://zenodo-rdm-qa.web.cern.ch/deposit/4767529',\n",
       "   'publish': 'https://zenodo-rdm-qa.web.cern.ch/api/deposit/depositions/4767529/actions/publish',\n",
       "   'edit': 'https://zenodo-rdm-qa.web.cern.ch/api/deposit/depositions/4767529/actions/edit',\n",
       "   'discard': 'https://zenodo-rdm-qa.web.cern.ch/api/deposit/depositions/4767529/actions/discard',\n",
       "   'newversion': 'https://zenodo-rdm-qa.web.cern.ch/api/deposit/depositions/4767529/actions/newversion',\n",
       "   'registerconceptdoi': 'https://zenodo-rdm-qa.web.cern.ch/api/deposit/depositions/4767529/actions/registerconceptdoi'},\n",
       "  'record_id': 4767529,\n",
       "  'owner': 171795,\n",
       "  'files': [],\n",
       "  'state': 'unsubmitted',\n",
       "  'submitted': False},\n",
       " {'created': '2021-03-06T11:02:26.573147+00:00',\n",
       "  'modified': '2021-03-06T11:09:26.871881+00:00',\n",
       "  'id': 4587171,\n",
       "  'conceptrecid': '4582713',\n",
       "  'conceptdoi': '10.5281/zenodo.4582713',\n",
       "  'metadata': {'title': 'zoometh/Rdev: test',\n",
       "   'publication_date': '2021-03-04',\n",
       "   'description': '<p>first test version + new version</p>',\n",
       "   'access_right': 'open',\n",
       "   'creators': [{'name': 'Huet, Thomas', 'affiliation': 'LabEx ARCHIMEDE'}],\n",
       "   'contributors': [],\n",
       "   'related_identifiers': [{'identifier': 'https://github.com/zoometh/Rdev/tree/0.0.1',\n",
       "     'relation': 'isSupplementTo',\n",
       "     'scheme': 'url'}],\n",
       "   'license': 'other-open',\n",
       "   'communities': [{'identifier': 'zenodo'}, {'identifier': 'ecfunded'}],\n",
       "   'upload_type': 'software',\n",
       "   'prereserve_doi': {'doi': '10.5281/zenodo.4587171', 'recid': 4587171}},\n",
       "  'title': 'zoometh/Rdev: test',\n",
       "  'links': {'self': 'https://zenodo-rdm-qa.web.cern.ch/api/records/4587171',\n",
       "   'html': 'https://zenodo-rdm-qa.web.cern.ch/records/4587171',\n",
       "   'parent_doi': 'https://zenodo-rdm-qa.web.cern.ch/doi/10.5281/zenodo.4582713',\n",
       "   'badge': 'https://zenodo-rdm-qa.web.cern.ch/badge/doi/.svg',\n",
       "   'conceptbadge': 'https://zenodo-rdm-qa.web.cern.ch/badge/doi/10.5281%2Fzenodo.4582713.svg',\n",
       "   'files': 'https://zenodo-rdm-qa.web.cern.ch/api/records/4587171/files',\n",
       "   'bucket': 'https://zenodo-rdm-qa.web.cern.ch/api/files/',\n",
       "   'latest_draft': 'https://zenodo-rdm-qa.web.cern.ch/api/deposit/depositions/4587171',\n",
       "   'latest_draft_html': 'https://zenodo-rdm-qa.web.cern.ch/deposit/4587171',\n",
       "   'publish': 'https://zenodo-rdm-qa.web.cern.ch/api/deposit/depositions/4587171/actions/publish',\n",
       "   'edit': 'https://zenodo-rdm-qa.web.cern.ch/api/deposit/depositions/4587171/actions/edit',\n",
       "   'discard': 'https://zenodo-rdm-qa.web.cern.ch/api/deposit/depositions/4587171/actions/discard',\n",
       "   'newversion': 'https://zenodo-rdm-qa.web.cern.ch/api/deposit/depositions/4587171/actions/newversion',\n",
       "   'registerconceptdoi': 'https://zenodo-rdm-qa.web.cern.ch/api/deposit/depositions/4587171/actions/registerconceptdoi'},\n",
       "  'record_id': 4587171,\n",
       "  'owner': 171795,\n",
       "  'files': [],\n",
       "  'state': 'unsubmitted',\n",
       "  'submitted': False},\n",
       " {'created': '2020-12-10T20:37:35.003041+00:00',\n",
       "  'modified': '2020-12-10T20:37:39.584365+00:00',\n",
       "  'id': 4315328,\n",
       "  'conceptrecid': '4315327',\n",
       "  'conceptdoi': '10.5281/zenodo.4315327',\n",
       "  'metadata': {'title': 'zoometh/golasecca: Golasecca-net',\n",
       "   'publication_date': '2020-12-10',\n",
       "   'description': '<p>A presentation of a network study</p>',\n",
       "   'access_right': 'open',\n",
       "   'creators': [{'name': 'Huet, Thomas', 'affiliation': 'LABEX ARCHIMEDE'}],\n",
       "   'contributors': [],\n",
       "   'related_identifiers': [{'identifier': 'https://github.com/zoometh/golasecca/tree/v1.0.0',\n",
       "     'relation': 'isSupplementTo',\n",
       "     'scheme': 'url'}],\n",
       "   'license': 'other-open',\n",
       "   'communities': [{'identifier': 'zenodo'}],\n",
       "   'upload_type': 'software',\n",
       "   'prereserve_doi': {'doi': '10.5281/zenodo.4315328', 'recid': 4315328}},\n",
       "  'title': 'zoometh/golasecca: Golasecca-net',\n",
       "  'links': {'self': 'https://zenodo-rdm-qa.web.cern.ch/api/records/4315328',\n",
       "   'html': 'https://zenodo-rdm-qa.web.cern.ch/records/4315328',\n",
       "   'parent_doi': 'https://zenodo-rdm-qa.web.cern.ch/doi/10.5281/zenodo.4315327',\n",
       "   'badge': 'https://zenodo-rdm-qa.web.cern.ch/badge/doi/.svg',\n",
       "   'conceptbadge': 'https://zenodo-rdm-qa.web.cern.ch/badge/doi/10.5281%2Fzenodo.4315327.svg',\n",
       "   'files': 'https://zenodo-rdm-qa.web.cern.ch/api/records/4315328/files',\n",
       "   'bucket': 'https://zenodo-rdm-qa.web.cern.ch/api/files/',\n",
       "   'latest_draft': 'https://zenodo-rdm-qa.web.cern.ch/api/deposit/depositions/4315328',\n",
       "   'latest_draft_html': 'https://zenodo-rdm-qa.web.cern.ch/deposit/4315328',\n",
       "   'publish': 'https://zenodo-rdm-qa.web.cern.ch/api/deposit/depositions/4315328/actions/publish',\n",
       "   'edit': 'https://zenodo-rdm-qa.web.cern.ch/api/deposit/depositions/4315328/actions/edit',\n",
       "   'discard': 'https://zenodo-rdm-qa.web.cern.ch/api/deposit/depositions/4315328/actions/discard',\n",
       "   'newversion': 'https://zenodo-rdm-qa.web.cern.ch/api/deposit/depositions/4315328/actions/newversion',\n",
       "   'registerconceptdoi': 'https://zenodo-rdm-qa.web.cern.ch/api/deposit/depositions/4315328/actions/registerconceptdoi'},\n",
       "  'record_id': 4315328,\n",
       "  'owner': 171795,\n",
       "  'files': [],\n",
       "  'state': 'unsubmitted',\n",
       "  'submitted': False}]"
      ]
     },
     "execution_count": 14,
     "metadata": {},
     "output_type": "execute_result"
    }
   ],
   "source": [
    "r = requests.get('https://sandbox.zenodo.org/api/deposit/depositions',\n",
    "                  params={'access_token': ACCESS_TOKEN})\n",
    "r.status_code\n",
    "# 200\n",
    "r.json()[0]"
   ]
  },
  {
   "cell_type": "markdown",
   "metadata": {},
   "source": [
    "ℹ️ The Zenodo link to the record is recorded in `r.json()[0]['links']['html']`"
   ]
  },
  {
   "cell_type": "code",
   "execution_count": null,
   "metadata": {},
   "outputs": [],
   "source": [
    "zen_url = r.json()[0]['links']['html']\n",
    "zen_url"
   ]
  }
 ],
 "metadata": {
  "kernelspec": {
   "display_name": "Python 3",
   "language": "python",
   "name": "python3"
  },
  "language_info": {
   "codemirror_mode": {
    "name": "ipython",
    "version": 3
   },
   "file_extension": ".py",
   "mimetype": "text/x-python",
   "name": "python",
   "nbconvert_exporter": "python",
   "pygments_lexer": "ipython3",
   "version": "3.11.2"
  }
 },
 "nbformat": 4,
 "nbformat_minor": 2
}
