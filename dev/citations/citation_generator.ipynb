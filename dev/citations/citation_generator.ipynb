{
  "cells": [
    {
      "cell_type": "markdown",
      "metadata": {
        "id": "MzTk1nnC1ECB"
      },
      "source": [
        "# POST an EAMENA dataset on Zenodo\n",
        "\n",
        "Post an EAMENA dataset on Zenodo from an EAMENA GeoJSON URL using the Zenodo API. See also the documentation in GitHub [README](https://github.com/eamena-project/eamena-arches-dev/blob/main/data/bibref/README.md) file\n",
        "\n",
        "---\n",
        "\n",
        "Zenodo documentation: https://developers.zenodo.org/#quickstart-upload"
      ]
    },
    {
      "cell_type": "markdown",
      "metadata": {
        "id": "hQk_yZYU1ECF"
      },
      "source": [
        "## Functions and Libraries"
      ]
    },
    {
      "cell_type": "code",
      "execution_count": 2,
      "metadata": {
        "id": "TkebKuTO1ECG",
        "colab": {
          "base_uri": "https://localhost:8080/"
        },
        "outputId": "b8a750a3-decd-423e-9599-d0bf5e79aeed"
      },
      "outputs": [
        {
          "output_type": "stream",
          "name": "stdout",
          "text": [
            "rm: cannot remove 'eamena-functions': No such file or directory\n",
            "Cloning into 'eamena-functions'...\n",
            "remote: Enumerating objects: 226, done.\u001b[K\n",
            "remote: Counting objects: 100% (16/16), done.\u001b[K\n",
            "remote: Compressing objects: 100% (8/8), done.\u001b[K\n",
            "remote: Total 226 (delta 6), reused 13 (delta 4), pack-reused 210\u001b[K\n",
            "Receiving objects: 100% (226/226), 48.15 KiB | 1.30 MiB/s, done.\n",
            "Resolving deltas: 100% (129/129), done.\n",
            "/content/eamena-functions/zenodo\n",
            "Collecting sickle\n",
            "  Downloading Sickle-0.7.0-py3-none-any.whl (12 kB)\n",
            "Requirement already satisfied: requests>=1.1.0 in /usr/local/lib/python3.10/dist-packages (from sickle) (2.31.0)\n",
            "Requirement already satisfied: lxml>=3.2.3 in /usr/local/lib/python3.10/dist-packages (from sickle) (4.9.3)\n",
            "Requirement already satisfied: charset-normalizer<4,>=2 in /usr/local/lib/python3.10/dist-packages (from requests>=1.1.0->sickle) (3.3.2)\n",
            "Requirement already satisfied: idna<4,>=2.5 in /usr/local/lib/python3.10/dist-packages (from requests>=1.1.0->sickle) (3.4)\n",
            "Requirement already satisfied: urllib3<3,>=1.21.1 in /usr/local/lib/python3.10/dist-packages (from requests>=1.1.0->sickle) (2.0.7)\n",
            "Requirement already satisfied: certifi>=2017.4.17 in /usr/local/lib/python3.10/dist-packages (from requests>=1.1.0->sickle) (2023.7.22)\n",
            "Installing collected packages: sickle\n",
            "Successfully installed sickle-0.7.0\n"
          ]
        }
      ],
      "source": [
        "!rm eamena-functions -R\n",
        "!git clone https://github.com/eamena-project/eamena-functions.git\n",
        "%cd /content/eamena-functions/zenodo\n",
        "import zenodo as zn\n",
        "\n",
        "import os\n",
        "import requests\n",
        "import json\n",
        "import zipfile\n",
        "import pandas as pd\n",
        "import numpy as np\n",
        "!pip install sickle\n",
        "import sickle\n",
        "\n",
        "# needed to export as JSON\n",
        "class NpEncoder(json.JSONEncoder):\n",
        "    def default(self, obj):\n",
        "        if isinstance(obj, np.integer):\n",
        "            return int(obj)\n",
        "        if isinstance(obj, np.floating):\n",
        "            return float(obj)\n",
        "        if isinstance(obj, np.ndarray):\n",
        "            return obj.tolist()\n",
        "        return json.JSONEncoder.default(self, obj)"
      ]
    },
    {
      "cell_type": "markdown",
      "source": [
        "### Query EAMENA DB\n",
        "\n",
        "Query the database API using the `GEOJSON_URL` URL selection. Creates a GeoJSON data."
      ],
      "metadata": {
        "id": "ECIIL9zGsmqd"
      }
    },
    {
      "cell_type": "code",
      "execution_count": 3,
      "metadata": {
        "id": "gdyjAfCA1ECJ"
      },
      "outputs": [],
      "source": [
        "# GEOJSON_URL = r\"https://database.eamena.org/api/search/export_results?paging-filter=1&tiles=true&format=geojson&reportlink=false&precision=6&total=326&language=en&advanced-search=%5B%7B%22op%22%3A%22and%22%2C%2234cfea78-c2c0-11ea-9026-02e7594ce0a0%22%3A%7B%22op%22%3A%22~%22%2C%22lang%22%3A%22en%22%2C%22val%22%3A%22Sistan%22%7D%2C%2234cfea87-c2c0-11ea-9026-02e7594ce0a0%22%3A%7B%22op%22%3A%22%22%2C%22val%22%3A%22%22%7D%7D%2C%7B%22op%22%3A%22or%22%2C%2234cfea69-c2c0-11ea-9026-02e7594ce0a0%22%3A%7B%22op%22%3A%22%22%2C%22val%22%3A%22%22%7D%2C%2234cfea73-c2c0-11ea-9026-02e7594ce0a0%22%3A%7B%22op%22%3A%22%22%2C%22val%22%3A%22%22%7D%2C%2234cfea43-c2c0-11ea-9026-02e7594ce0a0%22%3A%7B%22op%22%3A%22%22%2C%22val%22%3A%224ed99706-2d90-449a-9a70-700fc5326fb1%22%7D%2C%2234cfea5d-c2c0-11ea-9026-02e7594ce0a0%22%3A%7B%22op%22%3A%22%22%2C%22val%22%3A%22%22%7D%2C%2234cfea95-c2c0-11ea-9026-02e7594ce0a0%22%3A%7B%22op%22%3A%22~%22%2C%22lang%22%3A%22en%22%2C%22val%22%3A%22%22%7D%7D%5D&resource-type-filter=%5B%7B%22graphid%22%3A%2234cfe98e-c2c0-11ea-9026-02e7594ce0a0%22%2C%22name%22%3A%22Heritage%20Place%22%2C%22inverted%22%3Afalse%7D%5D&map-filter=%7B%22type%22%3A%22FeatureCollection%22%2C%22features%22%3A%5B%7B%22id%22%3A%22e84886109295dcb2d515f9ab792832bf%22%2C%22type%22%3A%22Feature%22%2C%22properties%22%3A%7B%22buffer%22%3A%7B%22width%22%3A10%2C%22unit%22%3A%22m%22%7D%2C%22inverted%22%3Afalse%7D%2C%22geometry%22%3A%7B%22coordinates%22%3A%5B%5B%5B61.5629662657594%2C31.341070427554456%5D%2C%5B61.39269902363566%2C31.226740239181964%5D%2C%5B61.52316353383432%2C30.977760218239922%5D%2C%5B61.773036239808164%2C30.92940344148805%5D%2C%5B61.89244443558445%2C31.037461248216815%5D%2C%5B61.933352798951745%2C31.22484931983834%5D%2C%5B61.5629662657594%2C31.341070427554456%5D%5D%5D%2C%22type%22%3A%22Polygon%22%7D%7D%5D%7D\"\n",
        "GEOJSON_URL = \"https://database.eamena.org/api/search/export_results?paging-filter=1&tiles=true&format=geojson&reportlink=false&precision=6&total=307&advanced-search=%5B%7B%22op%22%3A%22and%22%2C%2234cfea78-c2c0-11ea-9026-02e7594ce0a0%22%3A%7B%22op%22%3A%22~%22%2C%22lang%22%3A%22en%22%2C%22val%22%3A%22Sistan%22%7D%2C%2234cfea87-c2c0-11ea-9026-02e7594ce0a0%22%3A%7B%22op%22%3A%22%22%2C%22val%22%3A%22e6e6abc5-3470-45c0-880e-8b29959672d2%22%7D%7D%2C%7B%22op%22%3A%22or%22%2C%2234cfea69-c2c0-11ea-9026-02e7594ce0a0%22%3A%7B%22op%22%3A%22%22%2C%22val%22%3A%22%22%7D%2C%2234cfea73-c2c0-11ea-9026-02e7594ce0a0%22%3A%7B%22op%22%3A%22%22%2C%22val%22%3A%22%22%7D%2C%2234cfea43-c2c0-11ea-9026-02e7594ce0a0%22%3A%7B%22op%22%3A%22%22%2C%22val%22%3A%224ed99706-2d90-449a-9a70-700fc5326fb1%22%7D%2C%2234cfea5d-c2c0-11ea-9026-02e7594ce0a0%22%3A%7B%22op%22%3A%22%22%2C%22val%22%3A%22%22%7D%2C%2234cfea95-c2c0-11ea-9026-02e7594ce0a0%22%3A%7B%22op%22%3A%22~%22%2C%22lang%22%3A%22en%22%2C%22val%22%3A%22%22%7D%7D%5D&resource-type-filter=%5B%7B%22graphid%22%3A%2234cfe98e-c2c0-11ea-9026-02e7594ce0a0%22%2C%22name%22%3A%22Heritage%20Place%22%2C%22inverted%22%3Afalse%7D%5D&map-filter=%7B%22type%22%3A%22FeatureCollection%22%2C%22features%22%3A%5B%7B%22id%22%3A%22ae42a8fbd96c8f995719a2688f2fad87%22%2C%22type%22%3A%22Feature%22%2C%22properties%22%3A%7B%22buffer%22%3A%7B%22width%22%3A0%2C%22unit%22%3A%22m%22%7D%2C%22inverted%22%3Afalse%7D%2C%22geometry%22%3A%7B%22coordinates%22%3A%5B%5B%5B61.6012854423829%2C31.200317996554716%5D%2C%5B61.43021147281084%2C31.09323453208181%5D%2C%5B61.59265954771092%2C31.014768151044933%5D%2C%5B61.759781654852475%2C30.9118316755916%5D%2C%5B62.03615110465293%2C31.065294359669124%5D%2C%5B61.76357322781999%2C31.32515741066436%5D%2C%5B61.73211151793541%2C31.294427967038885%5D%2C%5B61.68254540589061%2C31.26085644276789%5D%2C%5B61.6012854423829%2C31.200317996554716%5D%5D%5D%2C%22type%22%3A%22Polygon%22%7D%7D%5D%7D\"\n",
        "resp = requests.get(GEOJSON_URL)\n",
        "data = resp.json()"
      ]
    },
    {
      "cell_type": "markdown",
      "metadata": {
        "id": "vWgZdjHF1ECK"
      },
      "source": [
        "### Generate metadata from the GeoJSON data\n",
        "\n",
        "Expect for *free text* fields, metadata is collected from the GeoJSON file (see [eamena-functions](https://github.com/eamena-project/eamena-functions/blob/main/zenodo/zenodo.py))\n",
        "---\n",
        "See [Zenodo metadata](https://developers.zenodo.org/#depositions) list (under 'Deposit metadata' chapter)"
      ]
    },
    {
      "cell_type": "code",
      "source": [
        "TITLE = \"Once again .. This is the title of my Zenodo deposit\" # free text\n",
        "DESCRIPTION = \"Once again .. This is the description of my Zenodo deposit\" # free tex\n",
        "\n",
        "metadata = {\n",
        "     'metadata': {\n",
        "         'title': TITLE,\n",
        "         'description': DESCRIPTION,\n",
        "         'upload_type': 'dataset',\n",
        "         'license': 'cc-by',\n",
        "         'subjects': [{\"term\": \"Cultural property\", \"identifier\": \"https://id.loc.gov/authorities/subjects/sh97000183.html\", \"scheme\": \"url\"}],\n",
        "         'method': 'EAMENA data entry methodology',\n",
        "         'creators': [{'name': \"EAMENA database\",\n",
        "                       'affiliation': \"University of Oxford, University of Southampton\"}],\n",
        "         'contributors': zn.zenodo_contributors(data),\n",
        "         'keywords': zn.zenodo_keywords(data),\n",
        "         'dates': zn.zenodo_dates(data),\n",
        "         'related_identifiers': zn.zenodo_related_identifiers(),\n",
        "     }\n",
        " }\n",
        "\n",
        "print(json.dumps(metadata, indent=4))"
      ],
      "metadata": {
        "id": "qRCJ_4cysh-M",
        "outputId": "805002c1-149e-4ea0-f4d1-9127a5883287",
        "colab": {
          "base_uri": "https://localhost:8080/"
        }
      },
      "execution_count": 22,
      "outputs": [
        {
          "output_type": "stream",
          "name": "stdout",
          "text": [
            "{\n",
            "    \"metadata\": {\n",
            "        \"title\": \"Once again .. This is the title of my Zenodo deposit\",\n",
            "        \"description\": \"Once again .. This is the description of my Zenodo deposit\",\n",
            "        \"upload_type\": \"dataset\",\n",
            "        \"license\": \"cc-by\",\n",
            "        \"subjects\": [\n",
            "            {\n",
            "                \"term\": \"Cultural property\",\n",
            "                \"identifier\": \"https://id.loc.gov/authorities/subjects/sh97000183.html\",\n",
            "                \"scheme\": \"url\"\n",
            "            }\n",
            "        ],\n",
            "        \"method\": \"EAMENA data entry methodology\",\n",
            "        \"creators\": [\n",
            "            {\n",
            "                \"name\": \"EAMENA database\",\n",
            "                \"affiliation\": \"University of Oxford, University of Southampton\"\n",
            "            }\n",
            "        ],\n",
            "        \"contributors\": [\n",
            "            {\n",
            "                \"name\": \"Bijan Rouhani\",\n",
            "                \"type\": \"DataCollector\"\n",
            "            },\n",
            "            {\n",
            "                \"name\": \"Danlei Zhou\",\n",
            "                \"type\": \"DataCollector\"\n",
            "            },\n",
            "            {\n",
            "                \"name\": \"Yasaman Nabati Mazloumi\",\n",
            "                \"type\": \"DataCollector\"\n",
            "            }\n",
            "        ],\n",
            "        \"keywords\": [\n",
            "            \"EAMENA\",\n",
            "            \"MaREA\",\n",
            "            \"Iran (Islamic Republic of)\",\n",
            "            \"Afghanistan\",\n",
            "            \"Islamic (Iran)\",\n",
            "            \"Contemporary Islamic (MENA)\",\n",
            "            \"Classical/Pre-Islamic (Levant/Mesopotamia/Iran/Northern Arabia)\"\n",
            "        ],\n",
            "        \"dates\": [\n",
            "            {\n",
            "                \"type\": \"created\",\n",
            "                \"start\": \"2012-01-01\",\n",
            "                \"end\": \"2023-09-18\"\n",
            "            }\n",
            "        ],\n",
            "        \"related_identifiers\": [\n",
            "            {\n",
            "                \"relation\": \"isDescribedBy\",\n",
            "                \"identifier\": \"https://doi.org/10.5281/zenodo.10142707\"\n",
            "            }\n",
            "        ]\n",
            "    }\n",
            "}\n"
          ]
        }
      ]
    },
    {
      "cell_type": "markdown",
      "metadata": {
        "id": "jsC3IsJP1ECL"
      },
      "source": [
        "ℹ️ see the [list of Zenodo metadata](https://developers.zenodo.org/#depositions)  \n",
        "\n",
        "ℹ️ exists an issue when uploading the grants: `'grants': [{'id': '051z6e826::4178'}]`\n",
        "\n",
        "ℹ️  exist an issue when uploading: `'communities': \"[{'identifier': 'eamena'}]\"` on https://sandbox.zenodo.org/"
      ]
    },
    {
      "cell_type": "markdown",
      "metadata": {
        "id": "NgOA1g0O1ECN"
      },
      "source": [
        "### Data output\n",
        "\n",
        "Write JSON and ZIP locally"
      ]
    },
    {
      "cell_type": "code",
      "execution_count": 5,
      "metadata": {
        "id": "GwKAawtt1ECN",
        "outputId": "b77ed1c0-1461-4340-c8b7-67b2e34cb28e",
        "colab": {
          "base_uri": "https://localhost:8080/"
        }
      },
      "outputs": [
        {
          "output_type": "stream",
          "name": "stdout",
          "text": [
            "d_filename.geojson has been exported in /content/eamena-functions/zenodo\n",
            "d_filename.zip has been exported in /content/eamena-functions/zenodo\n"
          ]
        }
      ],
      "source": [
        "# JSON file name and ZIP file\n",
        "FILENAME = \"d_filename\"\n",
        "json_file_name = FILENAME + \".geojson\"\n",
        "zip_file_name = FILENAME + \".zip\"\n",
        "\n",
        "# Create the JSON file and write the data to it\n",
        "json_string = json.dumps(data, cls = NpEncoder)\n",
        "json_string = json.loads(json_string)\n",
        "with open(json_file_name, 'w') as json_file:\n",
        "\tjson.dump(json_string, json_file, indent=4)\n",
        "\tprint(json_file_name + \" has been exported in \" + os.getcwd())\n",
        "\n",
        "# Create a ZIP file and add the JSON file to it\n",
        "with zipfile.ZipFile(zip_file_name, \"w\", zipfile.ZIP_DEFLATED) as zipf:\n",
        "    zipf.write(json_file_name)\n",
        "    print(zip_file_name + \" has been exported in \" + os.getcwd())"
      ]
    },
    {
      "cell_type": "markdown",
      "metadata": {
        "id": "v_9sLvAP1ECP"
      },
      "source": [
        "ℹ️ Further data can be created and files added into the ZIP"
      ]
    },
    {
      "cell_type": "markdown",
      "metadata": {
        "id": "mpIW_Kjc1ECQ"
      },
      "source": [
        "## Zenodo"
      ]
    },
    {
      "cell_type": "markdown",
      "metadata": {
        "id": "KwpR1O3U1ECQ"
      },
      "source": [
        "### Creates an empty bucket"
      ]
    },
    {
      "cell_type": "markdown",
      "metadata": {
        "id": "dDPzc8RJ1ECQ"
      },
      "source": [
        "Paste your `ACCESS_TOKEN` (see Zenodo documentation [here](https://zenodo.org/account/settings/applications/tokens))"
      ]
    },
    {
      "cell_type": "code",
      "execution_count": 10,
      "metadata": {
        "id": "7NQxMbOb1ECR"
      },
      "outputs": [],
      "source": [
        "ACCESS_TOKEN = 'T3FFez8WYNJGV73l61v7ooQwGk9kRE2tJ8sL3XV9QbxeYHI8cyYuLxzZJ9KY'"
      ]
    },
    {
      "cell_type": "markdown",
      "metadata": {
        "id": "Eoy0Nwzi1ECR"
      },
      "source": [
        "Choose one of selected Zenodo deposit:\n",
        "* Zenodo (`ZENODO_URL = 'https://zenodo.org/api/deposit/depositions'`)`\n",
        "* Zenodo sanbox for tests (`ZENODO_URL = 'https://sandbox.zenodo.org/api/deposit/depositions'`)"
      ]
    },
    {
      "cell_type": "code",
      "execution_count": 7,
      "metadata": {
        "id": "AQzjsVHb1ECR"
      },
      "outputs": [],
      "source": [
        "ZENODO_URL = 'https://sandbox.zenodo.org/api/deposit/depositions'"
      ]
    },
    {
      "cell_type": "markdown",
      "metadata": {
        "id": "xF-6r44U1ECS"
      },
      "source": [
        "Create the bucket"
      ]
    },
    {
      "cell_type": "code",
      "execution_count": 11,
      "metadata": {
        "id": "PG9M7hbS1ECS",
        "outputId": "5b588946-52ca-43ee-cf06-3b8b00653d1f",
        "colab": {
          "base_uri": "https://localhost:8080/"
        }
      },
      "outputs": [
        {
          "output_type": "stream",
          "name": "stdout",
          "text": [
            "The deposition_id is: 47\n"
          ]
        }
      ],
      "source": [
        "params = {'access_token': ACCESS_TOKEN}\n",
        "r = requests.post(ZENODO_URL,\n",
        "                   params=params,\n",
        "                   json={})\n",
        "r.status_code\n",
        "r.json()\n",
        "# collect the deposition id\n",
        "deposition_id = r.json()['id']\n",
        "print(\"The deposition_id is: \" + str(deposition_id))"
      ]
    },
    {
      "cell_type": "markdown",
      "metadata": {
        "id": "56DBWvwt1ECT"
      },
      "source": [
        "### Add data"
      ]
    },
    {
      "cell_type": "code",
      "execution_count": 12,
      "metadata": {
        "id": "UmjxPQkA1ECT",
        "outputId": "0dc10859-6bad-4ac5-b6b0-6e35ea9f39d3",
        "colab": {
          "base_uri": "https://localhost:8080/"
        }
      },
      "outputs": [
        {
          "output_type": "execute_result",
          "data": {
            "text/plain": [
              "{'created': '2023-11-17T14:30:28.693945+00:00',\n",
              " 'updated': '2023-11-17T14:30:28.882536+00:00',\n",
              " 'version_id': 'dfe25aef-ec15-4a59-b666-706c2e8d3bec',\n",
              " 'key': 'd_filename.zip',\n",
              " 'size': 49712,\n",
              " 'mimetype': 'application/zip',\n",
              " 'checksum': 'md5:53c46128d11a42297ed3f2d82c986a05',\n",
              " 'is_head': True,\n",
              " 'delete_marker': False,\n",
              " 'links': {'self': 'https://sandbox.zenodo.org/api/files/cf07a324-8b5b-4382-a213-36bfe1a1bc6e/d_filename.zip',\n",
              "  'version': 'https://sandbox.zenodo.org/api/files/cf07a324-8b5b-4382-a213-36bfe1a1bc6e/d_filename.zip?versionId=dfe25aef-ec15-4a59-b666-706c2e8d3bec',\n",
              "  'uploads': 'https://sandbox.zenodo.org/api/files/cf07a324-8b5b-4382-a213-36bfe1a1bc6e/d_filename.zip?uploads'}}"
            ]
          },
          "metadata": {},
          "execution_count": 12
        }
      ],
      "source": [
        "bucket_url = r.json()[\"links\"][\"bucket\"]\n",
        "with open(zip_file_name, \"rb\") as fp:\n",
        "    r = requests.put(\n",
        "        \"%s/%s\" % (bucket_url, zip_file_name),\n",
        "        data = fp,\n",
        "        params = params,\n",
        "    )\n",
        "r.json()"
      ]
    },
    {
      "cell_type": "markdown",
      "metadata": {
        "id": "FXr2wQ741ECU"
      },
      "source": [
        "### Add metadata"
      ]
    },
    {
      "cell_type": "code",
      "execution_count": 23,
      "metadata": {
        "id": "zviDtU4m1ECV",
        "outputId": "d7cbbf0c-a296-4eaa-e750-34f11743788c",
        "colab": {
          "base_uri": "https://localhost:8080/"
        }
      },
      "outputs": [
        {
          "output_type": "execute_result",
          "data": {
            "text/plain": [
              "200"
            ]
          },
          "metadata": {},
          "execution_count": 23
        }
      ],
      "source": [
        "r = requests.put('%s/%s' % (ZENODO_URL, deposition_id),\n",
        "                  params = {'access_token': ACCESS_TOKEN},\n",
        "                  data = json.dumps(metadata)) # ,\n",
        "                  # headers = headers)\n",
        "r.status_code\n",
        "# 200"
      ]
    },
    {
      "cell_type": "markdown",
      "metadata": {
        "id": "e05pPpaq1ECV"
      },
      "source": [
        "### Publish"
      ]
    },
    {
      "cell_type": "code",
      "execution_count": 24,
      "metadata": {
        "id": "dML7NsW91ECV",
        "outputId": "13304a8d-7931-4241-e5a6-66ae7bf09ae0",
        "colab": {
          "base_uri": "https://localhost:8080/"
        }
      },
      "outputs": [
        {
          "output_type": "execute_result",
          "data": {
            "text/plain": [
              "202"
            ]
          },
          "metadata": {},
          "execution_count": 24
        }
      ],
      "source": [
        "r = requests.post('%s/%s/actions/publish' % (ZENODO_URL, deposition_id),\n",
        "                      params={'access_token': ACCESS_TOKEN} )\n",
        "r.status_code\n",
        "# 504"
      ]
    },
    {
      "cell_type": "markdown",
      "metadata": {
        "id": "Y4y8wgql1ECW"
      },
      "source": [
        "### Check\n",
        "\n",
        "Have a look at the last deposit (`r.json()[0]`)"
      ]
    },
    {
      "cell_type": "code",
      "execution_count": 25,
      "metadata": {
        "id": "suKrJTou1ECW",
        "outputId": "d2e8a64a-62ae-4806-9861-0decb1454d02",
        "colab": {
          "base_uri": "https://localhost:8080/"
        }
      },
      "outputs": [
        {
          "output_type": "execute_result",
          "data": {
            "text/plain": [
              "{'created': '2023-11-17T14:35:56.950600+00:00',\n",
              " 'modified': '2023-11-17T14:35:57.134933+00:00',\n",
              " 'id': 47,\n",
              " 'conceptrecid': '46',\n",
              " 'doi': '10.5072/zenodo.47',\n",
              " 'conceptdoi': '10.5072/zenodo.46',\n",
              " 'doi_url': 'https://doi.org/10.5072/zenodo.47',\n",
              " 'metadata': {'title': 'Once again .. This is the title of my Zenodo deposit',\n",
              "  'doi': '10.5072/zenodo.47',\n",
              "  'publication_date': '2023-11-17',\n",
              "  'description': 'Once again .. This is the description of my Zenodo deposit',\n",
              "  'access_right': 'open',\n",
              "  'creators': [{'name': 'EAMENA database',\n",
              "    'affiliation': 'University of Oxford, University of Southampton'}],\n",
              "  'contributors': [{'name': 'Bijan Rouhani',\n",
              "    'affiliation': None,\n",
              "    'type': 'DataCollector'},\n",
              "   {'name': 'Danlei Zhou', 'affiliation': None, 'type': 'DataCollector'},\n",
              "   {'name': 'Yasaman Nabati Mazloumi',\n",
              "    'affiliation': None,\n",
              "    'type': 'DataCollector'}],\n",
              "  'keywords': ['EAMENA',\n",
              "   'MaREA',\n",
              "   'Iran (Islamic Republic of)',\n",
              "   'Afghanistan',\n",
              "   'Islamic (Iran)',\n",
              "   'Contemporary Islamic (MENA)',\n",
              "   'Classical/Pre-Islamic (Levant/Mesopotamia/Iran/Northern Arabia)'],\n",
              "  'subjects': [{'term': 'Cultural property',\n",
              "    'identifier': 'https://id.loc.gov/authorities/subjects/sh97000183.html',\n",
              "    'scheme': 'url'}],\n",
              "  'related_identifiers': [{'identifier': '10.5281/zenodo.10142707',\n",
              "    'relation': 'isDescribedBy',\n",
              "    'scheme': 'doi'}],\n",
              "  'dates': [{'type': 'created', 'start': '2012-01-01', 'end': '2023-09-18'}],\n",
              "  'license': 'cc-by-4.0',\n",
              "  'imprint_publisher': 'Zenodo',\n",
              "  'method': 'EAMENA data entry methodology',\n",
              "  'upload_type': 'dataset',\n",
              "  'prereserve_doi': {'doi': '10.5281/zenodo.47', 'recid': 47}},\n",
              " 'title': 'Once again .. This is the title of my Zenodo deposit',\n",
              " 'links': {'self': 'https://sandbox.zenodo.org/api/records/47',\n",
              "  'html': 'https://sandbox.zenodo.org/records/47',\n",
              "  'doi': 'https://doi.org/10.5072/zenodo.47',\n",
              "  'parent_doi': 'https://sandbox.zenodo.org/doi/10.5072/zenodo.46',\n",
              "  'badge': 'https://sandbox.zenodo.org/badge/doi/10.5072%2Fzenodo.47.svg',\n",
              "  'conceptbadge': 'https://sandbox.zenodo.org/badge/doi/10.5072%2Fzenodo.46.svg',\n",
              "  'files': 'https://sandbox.zenodo.org/api/records/47/files',\n",
              "  'latest_draft': 'https://sandbox.zenodo.org/api/deposit/depositions/47',\n",
              "  'latest_draft_html': 'https://sandbox.zenodo.org/deposit/47',\n",
              "  'publish': 'https://sandbox.zenodo.org/api/deposit/depositions/47/actions/publish',\n",
              "  'edit': 'https://sandbox.zenodo.org/api/deposit/depositions/47/actions/edit',\n",
              "  'discard': 'https://sandbox.zenodo.org/api/deposit/depositions/47/actions/discard',\n",
              "  'newversion': 'https://sandbox.zenodo.org/api/deposit/depositions/47/actions/newversion',\n",
              "  'registerconceptdoi': 'https://sandbox.zenodo.org/api/deposit/depositions/47/actions/registerconceptdoi',\n",
              "  'record': 'https://sandbox.zenodo.org/api/records/47',\n",
              "  'record_html': 'https://sandbox.zenodo.org/record/47',\n",
              "  'latest': 'https://sandbox.zenodo.org/api/records/47/versions/latest',\n",
              "  'latest_html': 'https://sandbox.zenodo.org/record/47/versions/latest'},\n",
              " 'record_id': 47,\n",
              " 'owner': 28,\n",
              " 'files': [{'id': '06cbf046-e1c8-441f-91b3-d742b0c13f06',\n",
              "   'filename': 'd_filename.zip',\n",
              "   'filesize': 49712,\n",
              "   'checksum': '53c46128d11a42297ed3f2d82c986a05',\n",
              "   'links': {'self': 'https://sandbox.zenodo.org/api/records/47/files/06cbf046-e1c8-441f-91b3-d742b0c13f06',\n",
              "    'download': 'https://sandbox.zenodo.org/api/records/47/draft/files/d_filename.zip/content'}}],\n",
              " 'state': 'done',\n",
              " 'submitted': True}"
            ]
          },
          "metadata": {},
          "execution_count": 25
        }
      ],
      "source": [
        "r = requests.get(ZENODO_URL,\n",
        "                  params={'access_token': ACCESS_TOKEN})\n",
        "r.status_code\n",
        "# 200\n",
        "r.json()[0]"
      ]
    },
    {
      "cell_type": "markdown",
      "source": [
        "The same information can be retrieved in `r.json()[0]['links']['latest_draft']`:"
      ],
      "metadata": {
        "id": "tWxunc7Wp_pb"
      }
    },
    {
      "cell_type": "code",
      "source": [
        "from IPython.display import display, HTML, Markdown\n",
        "html_link = r.json()[0]['links']['html']\n",
        "url_markdown = \"[See the latest record]({})\".format(html_link)\n",
        "display(Markdown(url_markdown))"
      ],
      "metadata": {
        "colab": {
          "base_uri": "https://localhost:8080/",
          "height": 46
        },
        "id": "EVHuNpRNqGvx",
        "outputId": "3d698e92-d73d-43f4-b07c-3795d1bfe562"
      },
      "execution_count": 30,
      "outputs": [
        {
          "output_type": "display_data",
          "data": {
            "text/plain": [
              "<IPython.core.display.Markdown object>"
            ],
            "text/markdown": "[See the latest record](https://sandbox.zenodo.org/records/47)"
          },
          "metadata": {}
        }
      ]
    },
    {
      "cell_type": "markdown",
      "metadata": {
        "id": "Q8_MW9xD1ECW"
      },
      "source": [
        "ℹ️ The Zenodo link to the record is recorded in `r.json()[0]['links']['html']`"
      ]
    },
    {
      "cell_type": "code",
      "source": [
        "# show badge\n",
        "from IPython.display import Markdown as md\n",
        "badge = r.json()[0]['links']['badge']\n",
        "Markdown(\"![]({})\".format(badge))\n",
        "# badge"
      ],
      "metadata": {
        "id": "z83UDjZ0H-qQ",
        "outputId": "201bc63b-a5a7-488c-a57d-c6de448684aa",
        "colab": {
          "base_uri": "https://localhost:8080/",
          "height": 53
        }
      },
      "execution_count": 27,
      "outputs": [
        {
          "output_type": "execute_result",
          "data": {
            "text/plain": [
              "<IPython.core.display.Markdown object>"
            ],
            "text/markdown": "![](https://sandbox.zenodo.org/badge/doi/10.5072%2Fzenodo.47.svg)"
          },
          "metadata": {},
          "execution_count": 27
        }
      ]
    },
    {
      "cell_type": "markdown",
      "metadata": {
        "id": "49dOJjSr1ECX"
      },
      "source": [
        "ℹ️ Its DOI is `r.json()[0]['doi_url']`"
      ]
    },
    {
      "cell_type": "code",
      "execution_count": 31,
      "metadata": {
        "id": "UyAr8oxd1ECX",
        "outputId": "4a2d3c00-801e-4a8a-ab66-8f7d38e91e22",
        "colab": {
          "base_uri": "https://localhost:8080/",
          "height": 36
        }
      },
      "outputs": [
        {
          "output_type": "execute_result",
          "data": {
            "text/plain": [
              "'https://doi.org/10.5072/zenodo.47'"
            ],
            "application/vnd.google.colaboratory.intrinsic+json": {
              "type": "string"
            }
          },
          "metadata": {},
          "execution_count": 31
        }
      ],
      "source": [
        "r.json()[0]['doi_url']"
      ]
    }
  ],
  "metadata": {
    "kernelspec": {
      "display_name": "Python 3",
      "language": "python",
      "name": "python3"
    },
    "language_info": {
      "codemirror_mode": {
        "name": "ipython",
        "version": 3
      },
      "file_extension": ".py",
      "mimetype": "text/x-python",
      "name": "python",
      "nbconvert_exporter": "python",
      "pygments_lexer": "ipython3",
      "version": "3.11.2"
    },
    "colab": {
      "provenance": [],
      "toc_visible": true
    }
  },
  "nbformat": 4,
  "nbformat_minor": 0
}