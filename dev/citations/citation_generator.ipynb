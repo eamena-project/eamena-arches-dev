{
  "cells": [
    {
      "cell_type": "markdown",
      "metadata": {
        "id": "MzTk1nnC1ECB"
      },
      "source": [
        "# POST an EAMENA dataset on Zenodo\n",
        "\n",
        "Post an EAMENA dataset on Zenodo from an EAMENA GeoJSON URL using the Zenodo API. See also the documentation in GitHub [README](https://github.com/eamena-project/eamena-arches-dev/blob/main/data/bibref/README.md) file\n",
        "\n",
        "---\n",
        "\n",
        "Zenodo documentation: https://developers.zenodo.org/#quickstart-upload"
      ]
    },
    {
      "cell_type": "markdown",
      "metadata": {
        "id": "hQk_yZYU1ECF"
      },
      "source": [
        "## Functions and Libraries"
      ]
    },
    {
      "cell_type": "code",
      "execution_count": 1,
      "metadata": {
        "colab": {
          "base_uri": "https://localhost:8080/"
        },
        "id": "TkebKuTO1ECG",
        "outputId": "91ad5192-da45-4d85-a5de-cf348d9d9038"
      },
      "outputs": [
        {
          "name": "stdout",
          "output_type": "stream",
          "text": [
            "Cloning into 'eamena-functions'...\n",
            "remote: Enumerating objects: 242, done.\u001b[K\n",
            "remote: Counting objects: 100% (32/32), done.\u001b[K\n",
            "remote: Compressing objects: 100% (16/16), done.\u001b[K\n",
            "remote: Total 242 (delta 11), reused 26 (delta 8), pack-reused 210\u001b[K\n",
            "Receiving objects: 100% (242/242), 55.21 KiB | 2.40 MiB/s, done.\n",
            "Resolving deltas: 100% (134/134), done.\n",
            "/content/eamena-functions/zenodo\n",
            "Requirement already satisfied: sickle in /usr/local/lib/python3.10/dist-packages (0.7.0)\n",
            "Requirement already satisfied: requests>=1.1.0 in /usr/local/lib/python3.10/dist-packages (from sickle) (2.31.0)\n",
            "Requirement already satisfied: lxml>=3.2.3 in /usr/local/lib/python3.10/dist-packages (from sickle) (4.9.3)\n",
            "Requirement already satisfied: charset-normalizer<4,>=2 in /usr/local/lib/python3.10/dist-packages (from requests>=1.1.0->sickle) (3.3.2)\n",
            "Requirement already satisfied: idna<4,>=2.5 in /usr/local/lib/python3.10/dist-packages (from requests>=1.1.0->sickle) (3.6)\n",
            "Requirement already satisfied: urllib3<3,>=1.21.1 in /usr/local/lib/python3.10/dist-packages (from requests>=1.1.0->sickle) (2.0.7)\n",
            "Requirement already satisfied: certifi>=2017.4.17 in /usr/local/lib/python3.10/dist-packages (from requests>=1.1.0->sickle) (2023.11.17)\n"
          ]
        }
      ],
      "source": [
        "!rm eamena-functions -R\n",
        "!git clone https://github.com/eamena-project/eamena-functions.git\n",
        "%cd /content/eamena-functions/zenodo\n",
        "import zenodo as zn\n",
        "\n",
        "import os\n",
        "import requests\n",
        "import json\n",
        "import zipfile\n",
        "import pandas as pd\n",
        "import numpy as np\n",
        "!pip install sickle\n",
        "import sickle\n",
        "\n",
        "# needed to export as JSON\n",
        "class NpEncoder(json.JSONEncoder):\n",
        "    def default(self, obj):\n",
        "        if isinstance(obj, np.integer):\n",
        "            return int(obj)\n",
        "        if isinstance(obj, np.floating):\n",
        "            return float(obj)\n",
        "        if isinstance(obj, np.ndarray):\n",
        "            return obj.tolist()\n",
        "        return json.JSONEncoder.default(self, obj)"
      ]
    },
    {
      "cell_type": "markdown",
      "metadata": {
        "id": "ECIIL9zGsmqd"
      },
      "source": [
        "### Query EAMENA DB\n",
        "\n",
        "Query the database API using the `GEOJSON_URL` URL selection. Creates a GeoJSON data."
      ]
    },
    {
      "cell_type": "code",
      "execution_count": 2,
      "metadata": {
        "id": "gdyjAfCA1ECJ"
      },
      "outputs": [],
      "source": [
        "## GeoJSON URL\n",
        "# HPs\n",
        "# GEOJSON_URL = \"https://database.eamena.org/api/search/export_results?paging-filter=1&tiles=true&format=geojson&reportlink=false&precision=6&language=*&total=1641&resource-type-filter=%5B%7B%22graphid%22%3A%2234cfe98e-c2c0-11ea-9026-02e7594ce0a0%22%2C%22name%22%3A%22Heritage%20Place%22%2C%22inverted%22%3Afalse%7D%5D&map-filter=%7B%22type%22%3A%22FeatureCollection%22%2C%22features%22%3A%5B%7B%22type%22%3A%22Feature%22%2C%22properties%22%3A%7B%22Grid%20ID%22%3A%22E60N30-24%22%2C%22buffer%22%3A%7B%22width%22%3A%220%22%2C%22unit%22%3A%22m%22%7D%2C%22inverted%22%3Afalse%7D%2C%22geometry%22%3A%7B%22type%22%3A%22Polygon%22%2C%22coordinates%22%3A%5B%5B%5B60.5%2C31.25%5D%2C%5B60.5%2C31.5%5D%2C%5B60.75%2C31.5%5D%2C%5B61%2C31.5%5D%2C%5B61.25%2C31.5%5D%2C%5B61.5%2C31.5%5D%2C%5B61.75%2C31.5%5D%2C%5B62%2C31.5%5D%2C%5B62%2C31.25%5D%2C%5B62.25%2C31.25%5D%2C%5B62.25%2C31%5D%2C%5B62.25%2C30.75%5D%2C%5B62%2C30.75%5D%2C%5B62%2C30.5%5D%2C%5B61.75%2C30.5%5D%2C%5B61.5%2C30.5%5D%2C%5B61.5%2C30.25%5D%2C%5B61.25%2C30.25%5D%2C%5B61%2C30.25%5D%2C%5B60.75%2C30.25%5D%2C%5B60.75%2C30.5%5D%2C%5B60.75%2C30.75%5D%2C%5B61%2C30.75%5D%2C%5B61%2C31%5D%2C%5B60.75%2C31%5D%2C%5B60.75%2C31.25%5D%2C%5B60.5%2C31.25%5D%5D%5D%7D%7D%5D%7D\"\n",
        "# GS\n",
        "GEOJSON_URL = \"https://database.eamena.org/api/search/export_results?paging-filter=1&tiles=true&format=geojson&reportlink=false&precision=6&language=*&total=25&resource-type-filter=%5B%7B%22graphid%22%3A%2277d18973-7428-11ea-b4d0-02e7594ce0a0%22%2C%22name%22%3A%22Grid%20Square%22%2C%22inverted%22%3Afalse%7D%5D&map-filter=%7B%22type%22%3A%22FeatureCollection%22%2C%22features%22%3A%5B%7B%22type%22%3A%22Feature%22%2C%22properties%22%3A%7B%22id%22%3A1%2C%22buffer%22%3A%7B%22width%22%3A%220%22%2C%22unit%22%3A%22m%22%7D%2C%22inverted%22%3Afalse%7D%2C%22geometry%22%3A%7B%22type%22%3A%22MultiPolygon%22%2C%22coordinates%22%3A%5B%5B%5B%5B61.9185199386503%2C31.434624233128837%5D%2C%5B61.93140337423312%2C31.176955521472394%5D%2C%5B62.17296779141103%2C31.164072085889572%5D%2C%5B62.195513803680974%2C30.829102760736195%5D%2C%5B61.91207822085889%2C30.829102760736195%5D%2C%5B61.92496165644171%2C30.587538343558283%5D%2C%5B61.396740797546%2C30.593980061349694%5D%2C%5B61.40318251533741%2C30.316986196319018%5D%2C%5B60.797661042944775%2C30.320207055214723%5D%2C%5B60.810544478527596%2C30.68094325153374%5D%2C%5B61.07465490797545%2C30.68094325153374%5D%2C%5B61.06821319018404%2C31.083550613496932%5D%2C%5B60.82342791411042%2C31.089992331288343%5D%2C%5B60.80732361963189%2C31.312231595092026%5D%2C%5B60.54643404907974%2C31.318673312883437%5D%2C%5B60.53355061349692%2C31.437845092024542%5D%2C%5B61.9185199386503%2C31.434624233128837%5D%5D%5D%5D%7D%7D%5D%7D\"\n",
        "resp = requests.get(GEOJSON_URL)\n",
        "data = resp.json()"
      ]
    },
    {
      "cell_type": "markdown",
      "metadata": {
        "id": "vWgZdjHF1ECK"
      },
      "source": [
        "### Generate metadata from the GeoJSON data\n",
        "\n",
        "Except for *free text* fields, metadata is collected from the GeoJSON file (see [eamena-functions](https://github.com/eamena-project/eamena-functions/blob/main/zenodo/zenodo.py))\n",
        "\n",
        "---\n",
        "\n",
        "See [Zenodo metadata](https://developers.zenodo.org/#depositions) list (under 'Deposit metadata' chapter)"
      ]
    },
    {
      "cell_type": "markdown",
      "metadata": {
        "id": "_HQ7On2uTJQR"
      },
      "source": [
        "#### Free text"
      ]
    },
    {
      "cell_type": "code",
      "execution_count": 3,
      "metadata": {
        "id": "CECQ15FuTMCu"
      },
      "outputs": [],
      "source": [
        "## TITLE, DESCRIPTION and the GeoJSON filename\n",
        "# HPs\n",
        "# TITLE = \"Sistan: part 1. Heritage Places\" # free text\n",
        "# DESCRIPTION = \"Deposit of Heritage Places from the Sistan region (Iran, Afghanistan) maintained within the EAMENA database\" # free tex\n",
        "# FILENAME = \"sistan_part1_hps\"\n",
        "# ADDITIONAL_KEYWORDS = ['Climate Change']\n",
        "# GS\n",
        "TITLE = \"Sistan: part 1. Grid Squares\" # free text\n",
        "DESCRIPTION = \"Deposit of Grid Squares from the Sistan region (Iran, Afghanistan) maintained within the EAMENA database\" # free tex\n",
        "FILENAME = \"sistan_part1_gs\"\n",
        "ADDITIONAL_KEYWORDS = []"
      ]
    },
    {
      "cell_type": "markdown",
      "metadata": {
        "id": "Cvwv_lxWT0bZ"
      },
      "source": [
        "#### Calculated metadata"
      ]
    },
    {
      "cell_type": "code",
      "execution_count": 14,
      "metadata": {
        "colab": {
          "base_uri": "https://localhost:8080/"
        },
        "id": "qRCJ_4cysh-M",
        "outputId": "b5eff08a-2a31-436f-e014-f4b399ae1515"
      },
      "outputs": [
        {
          "name": "stdout",
          "output_type": "stream",
          "text": [
            "{\n",
            "    \"metadata\": {\n",
            "        \"title\": \"Sistan: part 1. Grid Squares\",\n",
            "        \"description\": \"Deposit of Grid Squares from the Sistan region (Iran, Afghanistan) maintained within the EAMENA database\",\n",
            "        \"upload_type\": \"dataset\",\n",
            "        \"license\": \"cc-by\",\n",
            "        \"subjects\": [\n",
            "            {\n",
            "                \"term\": \"Cultural property\",\n",
            "                \"identifier\": \"https://id.loc.gov/authorities/subjects/sh97000183.html\",\n",
            "                \"scheme\": \"url\"\n",
            "            }\n",
            "        ],\n",
            "        \"method\": \"EAMENA data entry methodology\",\n",
            "        \"creators\": [\n",
            "            {\n",
            "                \"name\": \"EAMENA database\",\n",
            "                \"affiliation\": \"University of Oxford, University of Southampton\"\n",
            "            }\n",
            "        ],\n",
            "        \"contributors\": [\n",
            "            {\n",
            "                \"name\": \"University of Oxford\",\n",
            "                \"type\": \"DataManager\"\n",
            "            },\n",
            "            {\n",
            "                \"name\": \"University of Southampton\",\n",
            "                \"type\": \"DataManager\"\n",
            "            }\n",
            "        ],\n",
            "        \"keywords\": [\n",
            "            \"EAMENA\",\n",
            "            \"MaREA\",\n",
            "            \"Cultural Heritage\"\n",
            "        ],\n",
            "        \"dates\": [\n",
            "            {\n",
            "                \"type\": \"created\",\n",
            "                \"start\": \"2021-01-01\",\n",
            "                \"end\": \"2021-01-02\"\n",
            "            }\n",
            "        ]\n",
            "    }\n",
            "}\n"
          ]
        }
      ],
      "source": [
        "metadata = {\n",
        "     'metadata': {\n",
        "         'title': TITLE,\n",
        "         'description': DESCRIPTION,\n",
        "         'upload_type': 'dataset',\n",
        "         'license': 'cc-by',\n",
        "         'subjects': [{\"term\": \"Cultural property\", \"identifier\": \"https://id.loc.gov/authorities/subjects/sh97000183.html\", \"scheme\": \"url\"}],\n",
        "         'method': 'EAMENA data entry methodology',\n",
        "         'creators': [{'name': \"EAMENA database\",\n",
        "                       'affiliation': \"University of Oxford, University of Southampton\"}],\n",
        "         'contributors': zenodo_contributors(data),\n",
        "         'keywords': zn.zenodo_keywords(data, additional=ADDITIONAL_KEYWORDS),\n",
        "         'dates': zn.zenodo_dates(data),\n",
        "     }\n",
        " }\n",
        "\n",
        "print(json.dumps(metadata, indent=4))"
      ]
    },
    {
      "cell_type": "markdown",
      "metadata": {
        "id": "jsC3IsJP1ECL"
      },
      "source": [
        "ℹ️ see the [list of Zenodo metadata](https://developers.zenodo.org/#depositions)  \n",
        "\n",
        "ℹ️ creates an issue when uploading the grants: `'grants': [{'id': '051z6e826::4178'}]`\n",
        "\n",
        "ℹ️  exist an issue when uploading: `'communities': \"[{'identifier': 'eamena'}]\"` on https://sandbox.zenodo.org/\n",
        "\n",
        "ℹ️  creates an issue when uploading `'related_identifiers': zn.zenodo_related_identifiers()` on https://sandbox.zenodo.org/"
      ]
    },
    {
      "cell_type": "markdown",
      "metadata": {
        "id": "NgOA1g0O1ECN"
      },
      "source": [
        "### Data output\n",
        "\n",
        "Write JSON and ZIP locally"
      ]
    },
    {
      "cell_type": "code",
      "execution_count": 15,
      "metadata": {
        "colab": {
          "base_uri": "https://localhost:8080/"
        },
        "id": "GwKAawtt1ECN",
        "outputId": "ffb87f07-c9dd-45bd-8c93-3bbade031379"
      },
      "outputs": [
        {
          "name": "stdout",
          "output_type": "stream",
          "text": [
            "sistan_part1_gs.geojson has been exported in /content/eamena-functions/zenodo\n",
            "sistan_part1_gs.zip has been exported in /content/eamena-functions/zenodo\n"
          ]
        }
      ],
      "source": [
        "json_file_name = FILENAME + \".geojson\"\n",
        "zip_file_name = FILENAME + \".zip\"\n",
        "# Create the JSON file and write the data to it\n",
        "json_string = json.dumps(data, cls = NpEncoder)\n",
        "json_string = json.loads(json_string)\n",
        "with open(json_file_name, 'w') as json_file:\n",
        "\tjson.dump(json_string, json_file, indent=4)\n",
        "\tprint(json_file_name + \" has been exported in \" + os.getcwd())\n",
        "\n",
        "# Create a ZIP file and add the JSON file to it\n",
        "with zipfile.ZipFile(zip_file_name, \"w\", zipfile.ZIP_DEFLATED) as zipf:\n",
        "    zipf.write(json_file_name)\n",
        "    print(zip_file_name + \" has been exported in \" + os.getcwd())"
      ]
    },
    {
      "cell_type": "markdown",
      "metadata": {
        "id": "v_9sLvAP1ECP"
      },
      "source": [
        "ℹ️ Further data can be created and files added into the ZIP"
      ]
    },
    {
      "cell_type": "markdown",
      "metadata": {
        "id": "mpIW_Kjc1ECQ"
      },
      "source": [
        "## Zenodo"
      ]
    },
    {
      "cell_type": "markdown",
      "metadata": {
        "id": "KwpR1O3U1ECQ"
      },
      "source": [
        "### Creates an empty bucket"
      ]
    },
    {
      "cell_type": "markdown",
      "metadata": {
        "id": "dDPzc8RJ1ECQ"
      },
      "source": [
        "Paste your `ACCESS_TOKEN` (see Zenodo documentation [here](https://zenodo.org/account/settings/applications/tokens))"
      ]
    },
    {
      "cell_type": "code",
      "execution_count": 16,
      "metadata": {
        "id": "7NQxMbOb1ECR"
      },
      "outputs": [],
      "source": [
        "ACCESS_TOKEN = ''"
      ]
    },
    {
      "cell_type": "markdown",
      "metadata": {
        "id": "Eoy0Nwzi1ECR"
      },
      "source": [
        "Choose one of selected Zenodo deposit:\n",
        "* Zenodo (`ZENODO_URL = 'https://zenodo.org/api/deposit/depositions'`)`\n",
        "* Zenodo sanbox for tests (`ZENODO_URL = 'https://sandbox.zenodo.org/api/deposit/depositions'`)"
      ]
    },
    {
      "cell_type": "code",
      "execution_count": 17,
      "metadata": {
        "id": "AQzjsVHb1ECR"
      },
      "outputs": [],
      "source": [
        "ZENODO_URL = 'https://sandbox.zenodo.org/api/deposit/depositions'"
      ]
    },
    {
      "cell_type": "markdown",
      "metadata": {
        "id": "xF-6r44U1ECS"
      },
      "source": [
        "Create the bucket"
      ]
    },
    {
      "cell_type": "code",
      "execution_count": 18,
      "metadata": {
        "colab": {
          "base_uri": "https://localhost:8080/"
        },
        "id": "PG9M7hbS1ECS",
        "outputId": "a82c732c-3cd6-4fe2-b0ba-bc986da85df8"
      },
      "outputs": [
        {
          "name": "stdout",
          "output_type": "stream",
          "text": [
            "The deposition_id is: 5891\n"
          ]
        }
      ],
      "source": [
        "params = {'access_token': ACCESS_TOKEN}\n",
        "r = requests.post(ZENODO_URL,\n",
        "                   params=params,\n",
        "                   json={})\n",
        "r.status_code\n",
        "r.json()\n",
        "# collect the deposition id\n",
        "deposition_id = r.json()['id']\n",
        "print(\"The deposition_id is: \" + str(deposition_id))"
      ]
    },
    {
      "cell_type": "markdown",
      "metadata": {
        "id": "56DBWvwt1ECT"
      },
      "source": [
        "### Add data"
      ]
    },
    {
      "cell_type": "code",
      "execution_count": 19,
      "metadata": {
        "colab": {
          "base_uri": "https://localhost:8080/"
        },
        "id": "UmjxPQkA1ECT",
        "outputId": "e7eeab8d-6c6f-496f-a842-8bc3d8e22114"
      },
      "outputs": [
        {
          "data": {
            "text/plain": [
              "{'created': '2023-12-04T13:54:44.302448+00:00',\n",
              " 'updated': '2023-12-04T13:54:44.393319+00:00',\n",
              " 'version_id': 'c90da8a1-f0d0-4ca3-8220-d87235c4764b',\n",
              " 'key': 'sistan_part1_gs.zip',\n",
              " 'size': 830,\n",
              " 'mimetype': 'application/zip',\n",
              " 'checksum': 'md5:a1281bbc06a44ac14a37feaf0da6566a',\n",
              " 'is_head': True,\n",
              " 'delete_marker': False,\n",
              " 'links': {'self': 'https://sandbox.zenodo.org/api/files/ce764340-0f42-48cf-b89c-7baa16df4a98/sistan_part1_gs.zip',\n",
              "  'version': 'https://sandbox.zenodo.org/api/files/ce764340-0f42-48cf-b89c-7baa16df4a98/sistan_part1_gs.zip?versionId=c90da8a1-f0d0-4ca3-8220-d87235c4764b',\n",
              "  'uploads': 'https://sandbox.zenodo.org/api/files/ce764340-0f42-48cf-b89c-7baa16df4a98/sistan_part1_gs.zip?uploads'}}"
            ]
          },
          "execution_count": 19,
          "metadata": {},
          "output_type": "execute_result"
        }
      ],
      "source": [
        "bucket_url = r.json()[\"links\"][\"bucket\"]\n",
        "with open(zip_file_name, \"rb\") as fp:\n",
        "    r = requests.put(\n",
        "        \"%s/%s\" % (bucket_url, zip_file_name),\n",
        "        data = fp,\n",
        "        params = params,\n",
        "    )\n",
        "r.json()"
      ]
    },
    {
      "cell_type": "markdown",
      "metadata": {
        "id": "FXr2wQ741ECU"
      },
      "source": [
        "### Add metadata"
      ]
    },
    {
      "cell_type": "code",
      "execution_count": 20,
      "metadata": {
        "colab": {
          "base_uri": "https://localhost:8080/"
        },
        "id": "9D1j6vvxUNPW",
        "outputId": "b1bcaed8-a99f-4940-d020-ec12626eab4e"
      },
      "outputs": [
        {
          "data": {
            "text/plain": [
              "5891"
            ]
          },
          "execution_count": 20,
          "metadata": {},
          "output_type": "execute_result"
        }
      ],
      "source": [
        "deposition_id"
      ]
    },
    {
      "cell_type": "code",
      "execution_count": 21,
      "metadata": {
        "colab": {
          "base_uri": "https://localhost:8080/"
        },
        "id": "zviDtU4m1ECV",
        "outputId": "1ecbb8a4-aabf-4e0a-fb44-51313c02cd9f"
      },
      "outputs": [
        {
          "data": {
            "text/plain": [
              "200"
            ]
          },
          "execution_count": 21,
          "metadata": {},
          "output_type": "execute_result"
        }
      ],
      "source": [
        "r = requests.put('%s/%s' % (ZENODO_URL, deposition_id),\n",
        "                  params = {'access_token': ACCESS_TOKEN},\n",
        "                  data = json.dumps(metadata)) # ,\n",
        "                  # headers = headers)\n",
        "r.status_code\n",
        "# 200"
      ]
    },
    {
      "cell_type": "markdown",
      "metadata": {
        "id": "e05pPpaq1ECV"
      },
      "source": [
        "### Publish"
      ]
    },
    {
      "cell_type": "code",
      "execution_count": 22,
      "metadata": {
        "colab": {
          "base_uri": "https://localhost:8080/"
        },
        "id": "dML7NsW91ECV",
        "outputId": "628825ec-64b7-4de9-d513-095531935bf4"
      },
      "outputs": [
        {
          "data": {
            "text/plain": [
              "202"
            ]
          },
          "execution_count": 22,
          "metadata": {},
          "output_type": "execute_result"
        }
      ],
      "source": [
        "r = requests.post('%s/%s/actions/publish' % (ZENODO_URL, deposition_id),\n",
        "                      params={'access_token': ACCESS_TOKEN} )\n",
        "r.status_code\n",
        "# 504"
      ]
    },
    {
      "cell_type": "markdown",
      "metadata": {
        "id": "Y4y8wgql1ECW"
      },
      "source": [
        "### Check\n",
        "\n",
        "Have a look at the last deposit (`r.json()[0]`)"
      ]
    },
    {
      "cell_type": "code",
      "execution_count": 23,
      "metadata": {
        "colab": {
          "base_uri": "https://localhost:8080/"
        },
        "id": "suKrJTou1ECW",
        "outputId": "4af7d839-9463-4237-8414-9619feefbe21"
      },
      "outputs": [
        {
          "data": {
            "text/plain": [
              "{'created': '2023-12-04T13:54:56.487464+00:00',\n",
              " 'modified': '2023-12-04T13:54:56.709856+00:00',\n",
              " 'id': 5891,\n",
              " 'conceptrecid': '5890',\n",
              " 'doi': '10.5072/zenodo.5891',\n",
              " 'conceptdoi': '10.5072/zenodo.5890',\n",
              " 'doi_url': 'https://doi.org/10.5072/zenodo.5891',\n",
              " 'metadata': {'title': 'Sistan: part 1. Grid Squares',\n",
              "  'doi': '10.5072/zenodo.5891',\n",
              "  'publication_date': '2023-12-04',\n",
              "  'description': 'Deposit of Grid Squares from the Sistan region (Iran, Afghanistan) maintained within the EAMENA database',\n",
              "  'access_right': 'open',\n",
              "  'creators': [{'name': 'EAMENA database',\n",
              "    'affiliation': 'University of Oxford, University of Southampton'}],\n",
              "  'contributors': [{'name': 'University of Oxford',\n",
              "    'affiliation': None,\n",
              "    'type': 'DataManager'},\n",
              "   {'name': 'University of Southampton',\n",
              "    'affiliation': None,\n",
              "    'type': 'DataManager'}],\n",
              "  'keywords': ['EAMENA', 'MaREA', 'Cultural Heritage'],\n",
              "  'subjects': [{'term': 'Cultural property',\n",
              "    'identifier': 'https://id.loc.gov/authorities/subjects/sh97000183.html',\n",
              "    'scheme': 'url'}],\n",
              "  'dates': [{'type': 'created', 'start': '2021-01-01', 'end': '2021-01-02'}],\n",
              "  'license': 'cc-by-4.0',\n",
              "  'imprint_publisher': 'Zenodo',\n",
              "  'method': 'EAMENA data entry methodology',\n",
              "  'upload_type': 'dataset',\n",
              "  'prereserve_doi': {'doi': '10.5281/zenodo.5891', 'recid': 5891}},\n",
              " 'title': 'Sistan: part 1. Grid Squares',\n",
              " 'links': {'self': 'https://sandbox.zenodo.org/api/records/5891',\n",
              "  'html': 'https://sandbox.zenodo.org/records/5891',\n",
              "  'doi': 'https://doi.org/10.5072/zenodo.5891',\n",
              "  'parent_doi': 'https://sandbox.zenodo.org/doi/10.5072/zenodo.5890',\n",
              "  'badge': 'https://sandbox.zenodo.org/badge/doi/10.5072%2Fzenodo.5891.svg',\n",
              "  'conceptbadge': 'https://sandbox.zenodo.org/badge/doi/10.5072%2Fzenodo.5890.svg',\n",
              "  'files': 'https://sandbox.zenodo.org/api/records/5891/files',\n",
              "  'latest_draft': 'https://sandbox.zenodo.org/api/deposit/depositions/5891',\n",
              "  'latest_draft_html': 'https://sandbox.zenodo.org/deposit/5891',\n",
              "  'publish': 'https://sandbox.zenodo.org/api/deposit/depositions/5891/actions/publish',\n",
              "  'edit': 'https://sandbox.zenodo.org/api/deposit/depositions/5891/actions/edit',\n",
              "  'discard': 'https://sandbox.zenodo.org/api/deposit/depositions/5891/actions/discard',\n",
              "  'newversion': 'https://sandbox.zenodo.org/api/deposit/depositions/5891/actions/newversion',\n",
              "  'registerconceptdoi': 'https://sandbox.zenodo.org/api/deposit/depositions/5891/actions/registerconceptdoi',\n",
              "  'record': 'https://sandbox.zenodo.org/api/records/5891',\n",
              "  'record_html': 'https://sandbox.zenodo.org/record/5891',\n",
              "  'latest': 'https://sandbox.zenodo.org/api/records/5891/versions/latest',\n",
              "  'latest_html': 'https://sandbox.zenodo.org/record/5891/versions/latest'},\n",
              " 'record_id': 5891,\n",
              " 'owner': 28,\n",
              " 'files': [{'id': '155649c1-dcf0-45eb-bfcd-90e899bb60b6',\n",
              "   'filename': 'sistan_part1_gs.zip',\n",
              "   'filesize': 830,\n",
              "   'checksum': 'a1281bbc06a44ac14a37feaf0da6566a',\n",
              "   'links': {'self': 'https://sandbox.zenodo.org/api/records/5891/files/155649c1-dcf0-45eb-bfcd-90e899bb60b6',\n",
              "    'download': 'https://sandbox.zenodo.org/api/records/5891/draft/files/sistan_part1_gs.zip/content'}}],\n",
              " 'state': 'done',\n",
              " 'submitted': True}"
            ]
          },
          "execution_count": 23,
          "metadata": {},
          "output_type": "execute_result"
        }
      ],
      "source": [
        "r = requests.get(ZENODO_URL,\n",
        "                  params={'access_token': ACCESS_TOKEN})\n",
        "r.status_code\n",
        "# 200\n",
        "r.json()[0]"
      ]
    },
    {
      "cell_type": "markdown",
      "metadata": {
        "id": "tWxunc7Wp_pb"
      },
      "source": [
        "The same information can be retrieved in `r.json()[0]['links']['latest_draft']`:"
      ]
    },
    {
      "cell_type": "code",
      "execution_count": 24,
      "metadata": {
        "colab": {
          "base_uri": "https://localhost:8080/",
          "height": 46
        },
        "id": "EVHuNpRNqGvx",
        "outputId": "a3b36e58-e6a3-4c50-fbc7-16dddf520803"
      },
      "outputs": [
        {
          "data": {
            "text/markdown": [
              "[See the latest record](https://sandbox.zenodo.org/records/5891)"
            ],
            "text/plain": [
              "<IPython.core.display.Markdown object>"
            ]
          },
          "metadata": {},
          "output_type": "display_data"
        }
      ],
      "source": [
        "from IPython.display import display, HTML, Markdown\n",
        "html_link = r.json()[0]['links']['html']\n",
        "url_markdown = \"[See the latest record]({})\".format(html_link)\n",
        "display(Markdown(url_markdown))"
      ]
    },
    {
      "cell_type": "markdown",
      "metadata": {
        "id": "Q8_MW9xD1ECW"
      },
      "source": [
        "ℹ️ The Zenodo link to the record is recorded in `r.json()[0]['links']['html']`"
      ]
    },
    {
      "cell_type": "code",
      "execution_count": 26,
      "metadata": {
        "colab": {
          "base_uri": "https://localhost:8080/",
          "height": 53
        },
        "id": "z83UDjZ0H-qQ",
        "outputId": "d84f1038-6abc-4fc3-a66e-5489c6a9be62"
      },
      "outputs": [
        {
          "data": {
            "text/markdown": [
              "![](https://sandbox.zenodo.org/badge/doi/10.5072%2Fzenodo.5651.svg)"
            ],
            "text/plain": [
              "<IPython.core.display.Markdown object>"
            ]
          },
          "execution_count": 26,
          "metadata": {},
          "output_type": "execute_result"
        }
      ],
      "source": [
        "# show badge\n",
        "from IPython.display import Markdown as md\n",
        "badge = r.json()[0]['links']['badge']\n",
        "Markdown(\"![]({})\".format(badge))\n",
        "# badge"
      ]
    },
    {
      "cell_type": "markdown",
      "metadata": {
        "id": "49dOJjSr1ECX"
      },
      "source": [
        "ℹ️ Its DOI is `r.json()[0]['doi_url']`"
      ]
    },
    {
      "cell_type": "code",
      "execution_count": null,
      "metadata": {
        "colab": {
          "base_uri": "https://localhost:8080/",
          "height": 36
        },
        "id": "UyAr8oxd1ECX",
        "outputId": "4a2d3c00-801e-4a8a-ab66-8f7d38e91e22"
      },
      "outputs": [
        {
          "data": {
            "application/vnd.google.colaboratory.intrinsic+json": {
              "type": "string"
            },
            "text/plain": [
              "'https://doi.org/10.5072/zenodo.47'"
            ]
          },
          "execution_count": 31,
          "metadata": {},
          "output_type": "execute_result"
        }
      ],
      "source": [
        "r.json()[0]['doi_url']"
      ]
    }
  ],
  "metadata": {
    "colab": {
      "provenance": [],
      "toc_visible": true
    },
    "kernelspec": {
      "display_name": "Python 3",
      "language": "python",
      "name": "python3"
    },
    "language_info": {
      "codemirror_mode": {
        "name": "ipython",
        "version": 3
      },
      "file_extension": ".py",
      "mimetype": "text/x-python",
      "name": "python",
      "nbconvert_exporter": "python",
      "pygments_lexer": "ipython3",
      "version": "3.11.2"
    }
  },
  "nbformat": 4,
  "nbformat_minor": 0
}
