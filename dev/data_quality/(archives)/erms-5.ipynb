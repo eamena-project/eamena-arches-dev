{
  "cells": [
    {
      "cell_type": "markdown",
      "metadata": {
        "id": "QR-nT2LGVSdr"
      },
      "source": [
        "Enhanced record minimum standard (ERMS) is the minimum standard of data enhancement for heritage places. The report of Heritage Places ERMS is done downstream, once the heritages places (HP) have been recorded in the database"
      ]
    },
    {
      "cell_type": "markdown",
      "metadata": {
        "id": "Z-Lz_RD4VSd0"
      },
      "source": [
        "## Install"
      ]
    },
    {
      "cell_type": "markdown",
      "metadata": {
        "id": "-5to7idYVSd1"
      },
      "source": [
        "## Python libraries"
      ]
    },
    {
      "cell_type": "code",
      "execution_count": 259,
      "metadata": {
        "id": "nyIY5ktWVSd2"
      },
      "outputs": [],
      "source": [
        "import pandas as pd\n",
        "import numpy as np\n",
        "import requests\n",
        "import ipywidgets as widgets\n",
        "from IPython.display import display\n",
        "import plotly.express as px\n",
        "import math\n",
        "import plotly.graph_objects as go\n",
        "from plotly.subplots import make_subplots\n",
        "import matplotlib\n",
        "import matplotlib.pyplot as plt\n",
        "from matplotlib.colors import to_hex"
      ]
    },
    {
      "cell_type": "markdown",
      "metadata": {
        "id": "e7F7r_m6VSd6"
      },
      "source": [
        "### Environment\n",
        "\n",
        "Clone [eamena-functions](https://github.com/eamena-project/eamena-functions) repo and import the script `erms.py`"
      ]
    },
    {
      "cell_type": "markdown",
      "metadata": {
        "id": "57dH0tipVSd7"
      },
      "source": [
        "ℹ️ Do not run locally"
      ]
    },
    {
      "cell_type": "code",
      "execution_count": 2,
      "metadata": {
        "colab": {
          "base_uri": "https://localhost:8080/"
        },
        "id": "Upn9iaogVSd8",
        "outputId": "6406eaf0-88c6-43f7-8ad0-cfe73048a64b"
      },
      "outputs": [
        {
          "output_type": "stream",
          "name": "stdout",
          "text": [
            "rm: cannot remove '/content/eamena-functions': No such file or directory\n",
            "Cloning into 'eamena-functions'...\n",
            "remote: Enumerating objects: 187, done.\u001b[K\n",
            "remote: Counting objects: 100% (187/187), done.\u001b[K\n",
            "remote: Compressing objects: 100% (139/139), done.\u001b[K\n",
            "remote: Total 187 (delta 108), reused 120 (delta 46), pack-reused 0\u001b[K\n",
            "Receiving objects: 100% (187/187), 46.13 KiB | 2.01 MiB/s, done.\n",
            "Resolving deltas: 100% (108/108), done.\n",
            "/content/eamena-functions\n"
          ]
        }
      ],
      "source": [
        "!rm /content/eamena-functions -R\n",
        "!git clone https://github.com/eamena-project/eamena-functions.git\n",
        "%cd /content/eamena-functions\n",
        "from erms import erms"
      ]
    },
    {
      "cell_type": "markdown",
      "metadata": {
        "id": "Zog8FscZVSd9"
      },
      "source": [
        "## Reference Data\n",
        "\n",
        "Show the dataframe where the ERMS field are listes (`Yes` in the column `Enhanced record minimum standard`)"
      ]
    },
    {
      "cell_type": "code",
      "source": [
        "erms_template = erms.erms_template()\n",
        "erms_template"
      ],
      "metadata": {
        "colab": {
          "base_uri": "https://localhost:8080/",
          "height": 423
        },
        "id": "GDZ5-tk2jehg",
        "outputId": "83390754-518c-49ea-b54e-a07af8e2fe8e"
      },
      "execution_count": 260,
      "outputs": [
        {
          "output_type": "execute_result",
          "data": {
            "text/plain": [
              "                    level1               level2  \\\n",
              "0       ASSESSMENT SUMMARY  ASSESSMENT ACTIVITY   \n",
              "1       ASSESSMENT SUMMARY  ASSESSMENT ACTIVITY   \n",
              "2       ASSESSMENT SUMMARY  ASSESSMENT ACTIVITY   \n",
              "3       ASSESSMENT SUMMARY  ASSESSMENT ACTIVITY   \n",
              "4       ASSESSMENT SUMMARY  ASSESSMENT ACTIVITY   \n",
              "..                     ...                  ...   \n",
              "93  ENVIRONMENT ASSESSMENT   DEPTH or ELEVATION   \n",
              "94  ENVIRONMENT ASSESSMENT   DEPTH or ELEVATION   \n",
              "95  ENVIRONMENT ASSESSMENT   DEPTH or ELEVATION   \n",
              "96  ENVIRONMENT ASSESSMENT   DEPTH or ELEVATION   \n",
              "97                  ACCESS               ACCESS   \n",
              "\n",
              "                                  level3 Enhanced record minimum standard  \n",
              "0        Assessment Investigator - Actor                              NaN  \n",
              "1                 Investigator Role Type                              Yes  \n",
              "2               Assessment Activity Type                              NaN  \n",
              "3               Assessment Activity Date                              NaN  \n",
              "4                Google Earth Assessment                              NaN  \n",
              "..                                   ...                              ...  \n",
              "93           Minimum Depth/Max Elevation                              NaN  \n",
              "94           Maximum Depth/Min Elevation                              NaN  \n",
              "95                            Datum Type                              NaN  \n",
              "96           Datum Description/EPSG code                              NaN  \n",
              "97  Restricted Access Record Designation                              NaN  \n",
              "\n",
              "[98 rows x 4 columns]"
            ],
            "text/html": [
              "\n",
              "  <div id=\"df-ef0d7781-5342-4aa6-bf68-1313a1be7bb4\" class=\"colab-df-container\">\n",
              "    <div>\n",
              "<style scoped>\n",
              "    .dataframe tbody tr th:only-of-type {\n",
              "        vertical-align: middle;\n",
              "    }\n",
              "\n",
              "    .dataframe tbody tr th {\n",
              "        vertical-align: top;\n",
              "    }\n",
              "\n",
              "    .dataframe thead th {\n",
              "        text-align: right;\n",
              "    }\n",
              "</style>\n",
              "<table border=\"1\" class=\"dataframe\">\n",
              "  <thead>\n",
              "    <tr style=\"text-align: right;\">\n",
              "      <th></th>\n",
              "      <th>level1</th>\n",
              "      <th>level2</th>\n",
              "      <th>level3</th>\n",
              "      <th>Enhanced record minimum standard</th>\n",
              "    </tr>\n",
              "  </thead>\n",
              "  <tbody>\n",
              "    <tr>\n",
              "      <th>0</th>\n",
              "      <td>ASSESSMENT SUMMARY</td>\n",
              "      <td>ASSESSMENT ACTIVITY</td>\n",
              "      <td>Assessment Investigator - Actor</td>\n",
              "      <td>NaN</td>\n",
              "    </tr>\n",
              "    <tr>\n",
              "      <th>1</th>\n",
              "      <td>ASSESSMENT SUMMARY</td>\n",
              "      <td>ASSESSMENT ACTIVITY</td>\n",
              "      <td>Investigator Role Type</td>\n",
              "      <td>Yes</td>\n",
              "    </tr>\n",
              "    <tr>\n",
              "      <th>2</th>\n",
              "      <td>ASSESSMENT SUMMARY</td>\n",
              "      <td>ASSESSMENT ACTIVITY</td>\n",
              "      <td>Assessment Activity Type</td>\n",
              "      <td>NaN</td>\n",
              "    </tr>\n",
              "    <tr>\n",
              "      <th>3</th>\n",
              "      <td>ASSESSMENT SUMMARY</td>\n",
              "      <td>ASSESSMENT ACTIVITY</td>\n",
              "      <td>Assessment Activity Date</td>\n",
              "      <td>NaN</td>\n",
              "    </tr>\n",
              "    <tr>\n",
              "      <th>4</th>\n",
              "      <td>ASSESSMENT SUMMARY</td>\n",
              "      <td>ASSESSMENT ACTIVITY</td>\n",
              "      <td>Google Earth Assessment</td>\n",
              "      <td>NaN</td>\n",
              "    </tr>\n",
              "    <tr>\n",
              "      <th>...</th>\n",
              "      <td>...</td>\n",
              "      <td>...</td>\n",
              "      <td>...</td>\n",
              "      <td>...</td>\n",
              "    </tr>\n",
              "    <tr>\n",
              "      <th>93</th>\n",
              "      <td>ENVIRONMENT ASSESSMENT</td>\n",
              "      <td>DEPTH or ELEVATION</td>\n",
              "      <td>Minimum Depth/Max Elevation</td>\n",
              "      <td>NaN</td>\n",
              "    </tr>\n",
              "    <tr>\n",
              "      <th>94</th>\n",
              "      <td>ENVIRONMENT ASSESSMENT</td>\n",
              "      <td>DEPTH or ELEVATION</td>\n",
              "      <td>Maximum Depth/Min Elevation</td>\n",
              "      <td>NaN</td>\n",
              "    </tr>\n",
              "    <tr>\n",
              "      <th>95</th>\n",
              "      <td>ENVIRONMENT ASSESSMENT</td>\n",
              "      <td>DEPTH or ELEVATION</td>\n",
              "      <td>Datum Type</td>\n",
              "      <td>NaN</td>\n",
              "    </tr>\n",
              "    <tr>\n",
              "      <th>96</th>\n",
              "      <td>ENVIRONMENT ASSESSMENT</td>\n",
              "      <td>DEPTH or ELEVATION</td>\n",
              "      <td>Datum Description/EPSG code</td>\n",
              "      <td>NaN</td>\n",
              "    </tr>\n",
              "    <tr>\n",
              "      <th>97</th>\n",
              "      <td>ACCESS</td>\n",
              "      <td>ACCESS</td>\n",
              "      <td>Restricted Access Record Designation</td>\n",
              "      <td>NaN</td>\n",
              "    </tr>\n",
              "  </tbody>\n",
              "</table>\n",
              "<p>98 rows × 4 columns</p>\n",
              "</div>\n",
              "    <div class=\"colab-df-buttons\">\n",
              "\n",
              "  <div class=\"colab-df-container\">\n",
              "    <button class=\"colab-df-convert\" onclick=\"convertToInteractive('df-ef0d7781-5342-4aa6-bf68-1313a1be7bb4')\"\n",
              "            title=\"Convert this dataframe to an interactive table.\"\n",
              "            style=\"display:none;\">\n",
              "\n",
              "  <svg xmlns=\"http://www.w3.org/2000/svg\" height=\"24px\" viewBox=\"0 -960 960 960\">\n",
              "    <path d=\"M120-120v-720h720v720H120Zm60-500h600v-160H180v160Zm220 220h160v-160H400v160Zm0 220h160v-160H400v160ZM180-400h160v-160H180v160Zm440 0h160v-160H620v160ZM180-180h160v-160H180v160Zm440 0h160v-160H620v160Z\"/>\n",
              "  </svg>\n",
              "    </button>\n",
              "\n",
              "  <style>\n",
              "    .colab-df-container {\n",
              "      display:flex;\n",
              "      gap: 12px;\n",
              "    }\n",
              "\n",
              "    .colab-df-convert {\n",
              "      background-color: #E8F0FE;\n",
              "      border: none;\n",
              "      border-radius: 50%;\n",
              "      cursor: pointer;\n",
              "      display: none;\n",
              "      fill: #1967D2;\n",
              "      height: 32px;\n",
              "      padding: 0 0 0 0;\n",
              "      width: 32px;\n",
              "    }\n",
              "\n",
              "    .colab-df-convert:hover {\n",
              "      background-color: #E2EBFA;\n",
              "      box-shadow: 0px 1px 2px rgba(60, 64, 67, 0.3), 0px 1px 3px 1px rgba(60, 64, 67, 0.15);\n",
              "      fill: #174EA6;\n",
              "    }\n",
              "\n",
              "    .colab-df-buttons div {\n",
              "      margin-bottom: 4px;\n",
              "    }\n",
              "\n",
              "    [theme=dark] .colab-df-convert {\n",
              "      background-color: #3B4455;\n",
              "      fill: #D2E3FC;\n",
              "    }\n",
              "\n",
              "    [theme=dark] .colab-df-convert:hover {\n",
              "      background-color: #434B5C;\n",
              "      box-shadow: 0px 1px 3px 1px rgba(0, 0, 0, 0.15);\n",
              "      filter: drop-shadow(0px 1px 2px rgba(0, 0, 0, 0.3));\n",
              "      fill: #FFFFFF;\n",
              "    }\n",
              "  </style>\n",
              "\n",
              "    <script>\n",
              "      const buttonEl =\n",
              "        document.querySelector('#df-ef0d7781-5342-4aa6-bf68-1313a1be7bb4 button.colab-df-convert');\n",
              "      buttonEl.style.display =\n",
              "        google.colab.kernel.accessAllowed ? 'block' : 'none';\n",
              "\n",
              "      async function convertToInteractive(key) {\n",
              "        const element = document.querySelector('#df-ef0d7781-5342-4aa6-bf68-1313a1be7bb4');\n",
              "        const dataTable =\n",
              "          await google.colab.kernel.invokeFunction('convertToInteractive',\n",
              "                                                    [key], {});\n",
              "        if (!dataTable) return;\n",
              "\n",
              "        const docLinkHtml = 'Like what you see? Visit the ' +\n",
              "          '<a target=\"_blank\" href=https://colab.research.google.com/notebooks/data_table.ipynb>data table notebook</a>'\n",
              "          + ' to learn more about interactive tables.';\n",
              "        element.innerHTML = '';\n",
              "        dataTable['output_type'] = 'display_data';\n",
              "        await google.colab.output.renderOutput(dataTable, element);\n",
              "        const docLink = document.createElement('div');\n",
              "        docLink.innerHTML = docLinkHtml;\n",
              "        element.appendChild(docLink);\n",
              "      }\n",
              "    </script>\n",
              "  </div>\n",
              "\n",
              "\n",
              "<div id=\"df-29f677de-4c6e-4e47-8d0a-e2ff533005fd\">\n",
              "  <button class=\"colab-df-quickchart\" onclick=\"quickchart('df-29f677de-4c6e-4e47-8d0a-e2ff533005fd')\"\n",
              "            title=\"Suggest charts\"\n",
              "            style=\"display:none;\">\n",
              "\n",
              "<svg xmlns=\"http://www.w3.org/2000/svg\" height=\"24px\"viewBox=\"0 0 24 24\"\n",
              "     width=\"24px\">\n",
              "    <g>\n",
              "        <path d=\"M19 3H5c-1.1 0-2 .9-2 2v14c0 1.1.9 2 2 2h14c1.1 0 2-.9 2-2V5c0-1.1-.9-2-2-2zM9 17H7v-7h2v7zm4 0h-2V7h2v10zm4 0h-2v-4h2v4z\"/>\n",
              "    </g>\n",
              "</svg>\n",
              "  </button>\n",
              "\n",
              "<style>\n",
              "  .colab-df-quickchart {\n",
              "      --bg-color: #E8F0FE;\n",
              "      --fill-color: #1967D2;\n",
              "      --hover-bg-color: #E2EBFA;\n",
              "      --hover-fill-color: #174EA6;\n",
              "      --disabled-fill-color: #AAA;\n",
              "      --disabled-bg-color: #DDD;\n",
              "  }\n",
              "\n",
              "  [theme=dark] .colab-df-quickchart {\n",
              "      --bg-color: #3B4455;\n",
              "      --fill-color: #D2E3FC;\n",
              "      --hover-bg-color: #434B5C;\n",
              "      --hover-fill-color: #FFFFFF;\n",
              "      --disabled-bg-color: #3B4455;\n",
              "      --disabled-fill-color: #666;\n",
              "  }\n",
              "\n",
              "  .colab-df-quickchart {\n",
              "    background-color: var(--bg-color);\n",
              "    border: none;\n",
              "    border-radius: 50%;\n",
              "    cursor: pointer;\n",
              "    display: none;\n",
              "    fill: var(--fill-color);\n",
              "    height: 32px;\n",
              "    padding: 0;\n",
              "    width: 32px;\n",
              "  }\n",
              "\n",
              "  .colab-df-quickchart:hover {\n",
              "    background-color: var(--hover-bg-color);\n",
              "    box-shadow: 0 1px 2px rgba(60, 64, 67, 0.3), 0 1px 3px 1px rgba(60, 64, 67, 0.15);\n",
              "    fill: var(--button-hover-fill-color);\n",
              "  }\n",
              "\n",
              "  .colab-df-quickchart-complete:disabled,\n",
              "  .colab-df-quickchart-complete:disabled:hover {\n",
              "    background-color: var(--disabled-bg-color);\n",
              "    fill: var(--disabled-fill-color);\n",
              "    box-shadow: none;\n",
              "  }\n",
              "\n",
              "  .colab-df-spinner {\n",
              "    border: 2px solid var(--fill-color);\n",
              "    border-color: transparent;\n",
              "    border-bottom-color: var(--fill-color);\n",
              "    animation:\n",
              "      spin 1s steps(1) infinite;\n",
              "  }\n",
              "\n",
              "  @keyframes spin {\n",
              "    0% {\n",
              "      border-color: transparent;\n",
              "      border-bottom-color: var(--fill-color);\n",
              "      border-left-color: var(--fill-color);\n",
              "    }\n",
              "    20% {\n",
              "      border-color: transparent;\n",
              "      border-left-color: var(--fill-color);\n",
              "      border-top-color: var(--fill-color);\n",
              "    }\n",
              "    30% {\n",
              "      border-color: transparent;\n",
              "      border-left-color: var(--fill-color);\n",
              "      border-top-color: var(--fill-color);\n",
              "      border-right-color: var(--fill-color);\n",
              "    }\n",
              "    40% {\n",
              "      border-color: transparent;\n",
              "      border-right-color: var(--fill-color);\n",
              "      border-top-color: var(--fill-color);\n",
              "    }\n",
              "    60% {\n",
              "      border-color: transparent;\n",
              "      border-right-color: var(--fill-color);\n",
              "    }\n",
              "    80% {\n",
              "      border-color: transparent;\n",
              "      border-right-color: var(--fill-color);\n",
              "      border-bottom-color: var(--fill-color);\n",
              "    }\n",
              "    90% {\n",
              "      border-color: transparent;\n",
              "      border-bottom-color: var(--fill-color);\n",
              "    }\n",
              "  }\n",
              "</style>\n",
              "\n",
              "  <script>\n",
              "    async function quickchart(key) {\n",
              "      const quickchartButtonEl =\n",
              "        document.querySelector('#' + key + ' button');\n",
              "      quickchartButtonEl.disabled = true;  // To prevent multiple clicks.\n",
              "      quickchartButtonEl.classList.add('colab-df-spinner');\n",
              "      try {\n",
              "        const charts = await google.colab.kernel.invokeFunction(\n",
              "            'suggestCharts', [key], {});\n",
              "      } catch (error) {\n",
              "        console.error('Error during call to suggestCharts:', error);\n",
              "      }\n",
              "      quickchartButtonEl.classList.remove('colab-df-spinner');\n",
              "      quickchartButtonEl.classList.add('colab-df-quickchart-complete');\n",
              "    }\n",
              "    (() => {\n",
              "      let quickchartButtonEl =\n",
              "        document.querySelector('#df-29f677de-4c6e-4e47-8d0a-e2ff533005fd button');\n",
              "      quickchartButtonEl.style.display =\n",
              "        google.colab.kernel.accessAllowed ? 'block' : 'none';\n",
              "    })();\n",
              "  </script>\n",
              "</div>\n",
              "    </div>\n",
              "  </div>\n"
            ]
          },
          "metadata": {},
          "execution_count": 260
        }
      ]
    },
    {
      "cell_type": "markdown",
      "metadata": {
        "id": "dXm4vvWHVSd_"
      },
      "source": [
        "## Select the level of aggregation"
      ]
    },
    {
      "cell_type": "markdown",
      "metadata": {
        "id": "4VEjOQNlVSeA"
      },
      "source": [
        "See the documentation for"
      ]
    },
    {
      "cell_type": "code",
      "execution_count": 257,
      "metadata": {
        "colab": {
          "base_uri": "https://localhost:8080/",
          "height": 113,
          "referenced_widgets": [
            "cf421dd4f00b40169230ae0231ab6316",
            "3ee1f1608cf24350852eb3e5dee4e231",
            "a68257bdae11479cb804f27e5b64040c"
          ]
        },
        "id": "x44xOY0fVSeB",
        "outputId": "90f97580-7b22-452b-fd5a-2b7532bbca61"
      },
      "outputs": [
        {
          "output_type": "display_data",
          "data": {
            "text/plain": [
              "RadioButtons(description='Select an option:', options=('level1', 'level2', 'level3'), value='level1')"
            ],
            "application/vnd.jupyter.widget-view+json": {
              "version_major": 2,
              "version_minor": 0,
              "model_id": "cf421dd4f00b40169230ae0231ab6316"
            }
          },
          "metadata": {}
        }
      ],
      "source": [
        "options=['level1', 'level2', 'level3']\n",
        "radio_button = widgets.RadioButtons(\n",
        "    options=options,\n",
        "    description='Select an option:'\n",
        ")\n",
        "display(radio_button)"
      ]
    },
    {
      "cell_type": "markdown",
      "metadata": {
        "id": "30cDIXIBVSeD"
      },
      "source": [
        "Show the aggregated ERMS dataframe. The column `value` has `1` for any given fields beloging to the ERMS standards"
      ]
    },
    {
      "cell_type": "code",
      "source": [
        "# type(radio_button) == \"ipywidgets.widgets.widget_selection.RadioButtons\"\n",
        "radio_button_none = None\n",
        "radio_button_none != None\n",
        "# radio_button_none.value"
      ],
      "metadata": {
        "colab": {
          "base_uri": "https://localhost:8080/"
        },
        "id": "wrmMaEugI1cp",
        "outputId": "c604f512-55f6-4845-c726-d85d1ace293d"
      },
      "execution_count": 268,
      "outputs": [
        {
          "output_type": "execute_result",
          "data": {
            "text/plain": [
              "False"
            ]
          },
          "metadata": {},
          "execution_count": 268
        }
      ]
    },
    {
      "cell_type": "code",
      "execution_count": 258,
      "metadata": {
        "colab": {
          "base_uri": "https://localhost:8080/"
        },
        "id": "TrGEv5F3VSeD",
        "outputId": "91ca708b-0c66-41ab-bd2d-d28fa7c08c9e"
      },
      "outputs": [
        {
          "output_type": "stream",
          "name": "stdout",
          "text": [
            "You selected: level3\n",
            "| field                                              |   value |\n",
            "|:---------------------------------------------------|--------:|\n",
            "| AH Date From                                       |       0 |\n",
            "| AH Date To                                         |       0 |\n",
            "| Address                                            |       0 |\n",
            "| Address Type                                       |       0 |\n",
            "| Administrative Division                            |       0 |\n",
            "| Administrative Division Type                       |       0 |\n",
            "| Archaeological From Date                           |       0 |\n",
            "| Archaeological To Date                             |       0 |\n",
            "| Assessment Activity Date                           |       0 |\n",
            "| Assessment Activity Type                           |       0 |\n",
            "| Assessment Investigator - Actor                    |       0 |\n",
            "| BP Date From                                       |       0 |\n",
            "| BP Date To                                         |       0 |\n",
            "| Bedrock Geology Type                               |       0 |\n",
            "| Built Component                                    |       0 |\n",
            "| Cadastral Reference                                |       0 |\n",
            "| Construction Technique                             |       0 |\n",
            "| Country Type                                       |       0 |\n",
            "| Cultural Period Certainty                          |       1 |\n",
            "| Cultural Period Type                               |       0 |\n",
            "| Cultural Sub-period Certainty                      |       0 |\n",
            "| Cultural Sub-period Type                           |       0 |\n",
            "| Damage Extent Type                                 |       0 |\n",
            "| Date Inference Making Actor                        |       0 |\n",
            "| Datum Description/EPSG code                        |       0 |\n",
            "| Datum Type                                         |       0 |\n",
            "| Depositional Process                               |       0 |\n",
            "| Designation                                        |       0 |\n",
            "| Designation From Date                              |       0 |\n",
            "| Designation To Date                                |       0 |\n",
            "| Detailed Condition Assessments                     |       0 |\n",
            "| Dimension Type                                     |       0 |\n",
            "| Disturbance Cause Assignment Assessor Name - Actor |       0 |\n",
            "| Disturbance Cause Category Type                    |       1 |\n",
            "| Disturbance Cause Certainty                        |       1 |\n",
            "| Disturbance Cause Type                             |       1 |\n",
            "| Disturbance Date From                              |       0 |\n",
            "| Disturbance Date Occurred Before                   |       0 |\n",
            "| Disturbance Date Occurred On                       |       0 |\n",
            "| Disturbance Date To                                |       0 |\n",
            "| Effect Certainty                                   |       0 |\n",
            "| Effect Type                                        |       0 |\n",
            "| Fetch Type                                         |       0 |\n",
            "| GE Imagery Acquisition Date                        |       1 |\n",
            "| General Description                                |       0 |\n",
            "| General Description Type                           |       0 |\n",
            "| Geometric Place Expression                         |       1 |\n",
            "| Geometry Extent Certainty                          |       0 |\n",
            "| Geometry Qualifier                                 |       0 |\n",
            "| Google Earth Assessment                            |       0 |\n",
            "| Grid ID                                            |       1 |\n",
            "| Heritage Place Function                            |       1 |\n",
            "| Heritage Place Function Certainty                  |       1 |\n",
            "| Heritage Place Resource Instance                   |       0 |\n",
            "| Heritage Place Type                                |       0 |\n",
            "| Information Resource                               |       0 |\n",
            "| Information Resource Acquisition Date              |       0 |\n",
            "| Intervention Activity Type                         |       0 |\n",
            "| Investigator Role Type                             |       1 |\n",
            "| Land Cover Assessment Date                         |       0 |\n",
            "| Land Cover Type                                    |       0 |\n",
            "| Location Certainty                                 |       0 |\n",
            "| Material Class                                     |       0 |\n",
            "| Material Type                                      |       0 |\n",
            "| Maximum Depth/Min Elevation                        |       0 |\n",
            "| Measurement Number                                 |       0 |\n",
            "| Measurement Source Type                            |       0 |\n",
            "| Measurement Unit                                   |       0 |\n",
            "| Minimum Depth/Max Elevation                        |       0 |\n",
            "| Name Type                                          |       0 |\n",
            "| Overall Archaeological Certainty Value             |       1 |\n",
            "| Overall Condition State Type                       |       1 |\n",
            "| Overall Site Morphology Type                       |       1 |\n",
            "| Overall Site Shape Type                            |       0 |\n",
            "| Priority Type                                      |       0 |\n",
            "| Recommendation Type                                |       0 |\n",
            "| Related Geoarchaeology/Palaeolandscape             |       0 |\n",
            "| Resource Name                                      |       0 |\n",
            "| Resource Orientation                               |       0 |\n",
            "| Restricted Access Record Designation               |       0 |\n",
            "| SH Date From                                       |       0 |\n",
            "| SH Date to                                         |       0 |\n",
            "| Site Feature Arrangement Type                      |       0 |\n",
            "| Site Feature Form Type                             |       0 |\n",
            "| Site Feature Form Type Certainty                   |       0 |\n",
            "| Site Feature Interpretation Certainty              |       1 |\n",
            "| Site Feature Interpretation Number Type            |       1 |\n",
            "| Site Feature Interpretation Type                   |       0 |\n",
            "| Site Feature Number Type                           |       0 |\n",
            "| Site Feature Shape Type                            |       0 |\n",
            "| Surficial Geology Type                             |       0 |\n",
            "| Threat Category                                    |       1 |\n",
            "| Threat Cause Type                                  |       1 |\n",
            "| Threat Inference Making Assessor Name - Actor      |       0 |\n",
            "| Threat Probability                                 |       0 |\n",
            "| Tidal Range                                        |       0 |\n",
            "| Topography Type                                    |       0 |\n",
            "| Wave Climate                                       |       0 |\n"
          ]
        }
      ],
      "source": [
        "df_erms = erms.erms_template_levels(radio_button = radio_button)\n",
        "print(df_erms.to_markdown(index=False))"
      ]
    },
    {
      "cell_type": "markdown",
      "metadata": {
        "id": "HRWwicE_VSeE"
      },
      "source": [
        "Print only the ERMS standards"
      ]
    },
    {
      "cell_type": "code",
      "execution_count": 6,
      "metadata": {
        "colab": {
          "base_uri": "https://localhost:8080/"
        },
        "id": "OTb98GmiVSeF",
        "outputId": "a0d6bd3d-e05d-4284-cc3e-33091be4c87f"
      },
      "outputs": [
        {
          "output_type": "stream",
          "name": "stdout",
          "text": [
            "| field                                   |   value |\n",
            "|:----------------------------------------|--------:|\n",
            "| Cultural Period Certainty               |       1 |\n",
            "| Disturbance Cause Category Type         |       1 |\n",
            "| Disturbance Cause Certainty             |       1 |\n",
            "| Disturbance Cause Type                  |       1 |\n",
            "| GE Imagery Acquisition Date             |       1 |\n",
            "| Geometric Place Expression              |       1 |\n",
            "| Grid ID                                 |       1 |\n",
            "| Heritage Place Function                 |       1 |\n",
            "| Heritage Place Function Certainty       |       1 |\n",
            "| Investigator Role Type                  |       1 |\n",
            "| Overall Archaeological Certainty Value  |       1 |\n",
            "| Overall Condition State Type            |       1 |\n",
            "| Overall Site Morphology Type            |       1 |\n",
            "| Site Feature Interpretation Certainty   |       1 |\n",
            "| Site Feature Interpretation Number Type |       1 |\n",
            "| Threat Category                         |       1 |\n",
            "| Threat Cause Type                       |       1 |\n"
          ]
        }
      ],
      "source": [
        "print(df_erms.loc[df_erms['value'] == 1].to_markdown(index=False))"
      ]
    },
    {
      "cell_type": "markdown",
      "metadata": {
        "id": "eBdM3Q-HVSeF"
      },
      "source": [
        "## Business data"
      ]
    },
    {
      "cell_type": "markdown",
      "metadata": {
        "id": "lP8jcY51VSeG"
      },
      "source": [
        "### GeoJSON URL\n",
        "\n",
        "Paste your GeoJSON URL"
      ]
    },
    {
      "cell_type": "code",
      "execution_count": 7,
      "metadata": {
        "id": "mhWU2ZOeVSeG"
      },
      "outputs": [],
      "source": [
        "GEOJSON_URL = \"https://database.eamena.org/api/search/export_results?paging-filter=1&tiles=true&format=geojson&reportlink=false&precision=6&total=1&term-filter=%5B%7B%22inverted%22%3Afalse%2C%22type%22%3A%22string%22%2C%22context%22%3A%22%22%2C%22context_label%22%3A%22%22%2C%22id%22%3A%22EAMENA-0192473%22%2C%22text%22%3A%22EAMENA-0192473%22%2C%22value%22%3A%22EAMENA-0192473%22%7D%5D&language=*&resource-type-filter=%5B%7B%22graphid%22%3A%2234cfe98e-c2c0-11ea-9026-02e7594ce0a0%22%2C%22name%22%3A%22Heritage%20Place%22%2C%22inverted%22%3Afalse%7D%5D\""
      ]
    },
    {
      "cell_type": "markdown",
      "metadata": {
        "id": "F-zzxGi6VSeH"
      },
      "source": [
        "### Read"
      ]
    },
    {
      "cell_type": "code",
      "execution_count": 8,
      "metadata": {
        "colab": {
          "base_uri": "https://localhost:8080/"
        },
        "id": "FddvQAg9VSeI",
        "outputId": "ca1c2ab9-815d-4b61-cbfa-a688070e94ce"
      },
      "outputs": [
        {
          "output_type": "stream",
          "name": "stdout",
          "text": [
            "first of 1 HPs: ['EAMENA-0192473']\n"
          ]
        }
      ],
      "source": [
        "hps = erms.db_query(GEOJSON_URL)\n",
        "selected_hp = erms.hps_list(hps)\n",
        "tot = str(len(selected_hp))\n",
        "print(f\"first of {tot} HPs: \" + str(selected_hp[:5]))"
      ]
    },
    {
      "cell_type": "code",
      "source": [
        "erms_template = erms.erms_template()\n",
        "erms_template = erms_template.drop('Enhanced record minimum standard', axis=1)\n",
        "erms_template"
      ],
      "metadata": {
        "colab": {
          "base_uri": "https://localhost:8080/",
          "height": 423
        },
        "id": "AZzXWMAHtTSu",
        "outputId": "9fe4104c-854f-4bf9-d1eb-5f8d94b199f0"
      },
      "execution_count": 138,
      "outputs": [
        {
          "output_type": "execute_result",
          "data": {
            "text/plain": [
              "                    level1               level2  \\\n",
              "0       ASSESSMENT SUMMARY  ASSESSMENT ACTIVITY   \n",
              "1       ASSESSMENT SUMMARY  ASSESSMENT ACTIVITY   \n",
              "2       ASSESSMENT SUMMARY  ASSESSMENT ACTIVITY   \n",
              "3       ASSESSMENT SUMMARY  ASSESSMENT ACTIVITY   \n",
              "4       ASSESSMENT SUMMARY  ASSESSMENT ACTIVITY   \n",
              "..                     ...                  ...   \n",
              "93  ENVIRONMENT ASSESSMENT   DEPTH or ELEVATION   \n",
              "94  ENVIRONMENT ASSESSMENT   DEPTH or ELEVATION   \n",
              "95  ENVIRONMENT ASSESSMENT   DEPTH or ELEVATION   \n",
              "96  ENVIRONMENT ASSESSMENT   DEPTH or ELEVATION   \n",
              "97                  ACCESS               ACCESS   \n",
              "\n",
              "                                  level3  \n",
              "0        Assessment Investigator - Actor  \n",
              "1                 Investigator Role Type  \n",
              "2               Assessment Activity Type  \n",
              "3               Assessment Activity Date  \n",
              "4                Google Earth Assessment  \n",
              "..                                   ...  \n",
              "93           Minimum Depth/Max Elevation  \n",
              "94           Maximum Depth/Min Elevation  \n",
              "95                            Datum Type  \n",
              "96           Datum Description/EPSG code  \n",
              "97  Restricted Access Record Designation  \n",
              "\n",
              "[98 rows x 3 columns]"
            ],
            "text/html": [
              "\n",
              "  <div id=\"df-cf07bf34-eff0-4907-9844-8cde36f29b24\" class=\"colab-df-container\">\n",
              "    <div>\n",
              "<style scoped>\n",
              "    .dataframe tbody tr th:only-of-type {\n",
              "        vertical-align: middle;\n",
              "    }\n",
              "\n",
              "    .dataframe tbody tr th {\n",
              "        vertical-align: top;\n",
              "    }\n",
              "\n",
              "    .dataframe thead th {\n",
              "        text-align: right;\n",
              "    }\n",
              "</style>\n",
              "<table border=\"1\" class=\"dataframe\">\n",
              "  <thead>\n",
              "    <tr style=\"text-align: right;\">\n",
              "      <th></th>\n",
              "      <th>level1</th>\n",
              "      <th>level2</th>\n",
              "      <th>level3</th>\n",
              "    </tr>\n",
              "  </thead>\n",
              "  <tbody>\n",
              "    <tr>\n",
              "      <th>0</th>\n",
              "      <td>ASSESSMENT SUMMARY</td>\n",
              "      <td>ASSESSMENT ACTIVITY</td>\n",
              "      <td>Assessment Investigator - Actor</td>\n",
              "    </tr>\n",
              "    <tr>\n",
              "      <th>1</th>\n",
              "      <td>ASSESSMENT SUMMARY</td>\n",
              "      <td>ASSESSMENT ACTIVITY</td>\n",
              "      <td>Investigator Role Type</td>\n",
              "    </tr>\n",
              "    <tr>\n",
              "      <th>2</th>\n",
              "      <td>ASSESSMENT SUMMARY</td>\n",
              "      <td>ASSESSMENT ACTIVITY</td>\n",
              "      <td>Assessment Activity Type</td>\n",
              "    </tr>\n",
              "    <tr>\n",
              "      <th>3</th>\n",
              "      <td>ASSESSMENT SUMMARY</td>\n",
              "      <td>ASSESSMENT ACTIVITY</td>\n",
              "      <td>Assessment Activity Date</td>\n",
              "    </tr>\n",
              "    <tr>\n",
              "      <th>4</th>\n",
              "      <td>ASSESSMENT SUMMARY</td>\n",
              "      <td>ASSESSMENT ACTIVITY</td>\n",
              "      <td>Google Earth Assessment</td>\n",
              "    </tr>\n",
              "    <tr>\n",
              "      <th>...</th>\n",
              "      <td>...</td>\n",
              "      <td>...</td>\n",
              "      <td>...</td>\n",
              "    </tr>\n",
              "    <tr>\n",
              "      <th>93</th>\n",
              "      <td>ENVIRONMENT ASSESSMENT</td>\n",
              "      <td>DEPTH or ELEVATION</td>\n",
              "      <td>Minimum Depth/Max Elevation</td>\n",
              "    </tr>\n",
              "    <tr>\n",
              "      <th>94</th>\n",
              "      <td>ENVIRONMENT ASSESSMENT</td>\n",
              "      <td>DEPTH or ELEVATION</td>\n",
              "      <td>Maximum Depth/Min Elevation</td>\n",
              "    </tr>\n",
              "    <tr>\n",
              "      <th>95</th>\n",
              "      <td>ENVIRONMENT ASSESSMENT</td>\n",
              "      <td>DEPTH or ELEVATION</td>\n",
              "      <td>Datum Type</td>\n",
              "    </tr>\n",
              "    <tr>\n",
              "      <th>96</th>\n",
              "      <td>ENVIRONMENT ASSESSMENT</td>\n",
              "      <td>DEPTH or ELEVATION</td>\n",
              "      <td>Datum Description/EPSG code</td>\n",
              "    </tr>\n",
              "    <tr>\n",
              "      <th>97</th>\n",
              "      <td>ACCESS</td>\n",
              "      <td>ACCESS</td>\n",
              "      <td>Restricted Access Record Designation</td>\n",
              "    </tr>\n",
              "  </tbody>\n",
              "</table>\n",
              "<p>98 rows × 3 columns</p>\n",
              "</div>\n",
              "    <div class=\"colab-df-buttons\">\n",
              "\n",
              "  <div class=\"colab-df-container\">\n",
              "    <button class=\"colab-df-convert\" onclick=\"convertToInteractive('df-cf07bf34-eff0-4907-9844-8cde36f29b24')\"\n",
              "            title=\"Convert this dataframe to an interactive table.\"\n",
              "            style=\"display:none;\">\n",
              "\n",
              "  <svg xmlns=\"http://www.w3.org/2000/svg\" height=\"24px\" viewBox=\"0 -960 960 960\">\n",
              "    <path d=\"M120-120v-720h720v720H120Zm60-500h600v-160H180v160Zm220 220h160v-160H400v160Zm0 220h160v-160H400v160ZM180-400h160v-160H180v160Zm440 0h160v-160H620v160ZM180-180h160v-160H180v160Zm440 0h160v-160H620v160Z\"/>\n",
              "  </svg>\n",
              "    </button>\n",
              "\n",
              "  <style>\n",
              "    .colab-df-container {\n",
              "      display:flex;\n",
              "      gap: 12px;\n",
              "    }\n",
              "\n",
              "    .colab-df-convert {\n",
              "      background-color: #E8F0FE;\n",
              "      border: none;\n",
              "      border-radius: 50%;\n",
              "      cursor: pointer;\n",
              "      display: none;\n",
              "      fill: #1967D2;\n",
              "      height: 32px;\n",
              "      padding: 0 0 0 0;\n",
              "      width: 32px;\n",
              "    }\n",
              "\n",
              "    .colab-df-convert:hover {\n",
              "      background-color: #E2EBFA;\n",
              "      box-shadow: 0px 1px 2px rgba(60, 64, 67, 0.3), 0px 1px 3px 1px rgba(60, 64, 67, 0.15);\n",
              "      fill: #174EA6;\n",
              "    }\n",
              "\n",
              "    .colab-df-buttons div {\n",
              "      margin-bottom: 4px;\n",
              "    }\n",
              "\n",
              "    [theme=dark] .colab-df-convert {\n",
              "      background-color: #3B4455;\n",
              "      fill: #D2E3FC;\n",
              "    }\n",
              "\n",
              "    [theme=dark] .colab-df-convert:hover {\n",
              "      background-color: #434B5C;\n",
              "      box-shadow: 0px 1px 3px 1px rgba(0, 0, 0, 0.15);\n",
              "      filter: drop-shadow(0px 1px 2px rgba(0, 0, 0, 0.3));\n",
              "      fill: #FFFFFF;\n",
              "    }\n",
              "  </style>\n",
              "\n",
              "    <script>\n",
              "      const buttonEl =\n",
              "        document.querySelector('#df-cf07bf34-eff0-4907-9844-8cde36f29b24 button.colab-df-convert');\n",
              "      buttonEl.style.display =\n",
              "        google.colab.kernel.accessAllowed ? 'block' : 'none';\n",
              "\n",
              "      async function convertToInteractive(key) {\n",
              "        const element = document.querySelector('#df-cf07bf34-eff0-4907-9844-8cde36f29b24');\n",
              "        const dataTable =\n",
              "          await google.colab.kernel.invokeFunction('convertToInteractive',\n",
              "                                                    [key], {});\n",
              "        if (!dataTable) return;\n",
              "\n",
              "        const docLinkHtml = 'Like what you see? Visit the ' +\n",
              "          '<a target=\"_blank\" href=https://colab.research.google.com/notebooks/data_table.ipynb>data table notebook</a>'\n",
              "          + ' to learn more about interactive tables.';\n",
              "        element.innerHTML = '';\n",
              "        dataTable['output_type'] = 'display_data';\n",
              "        await google.colab.output.renderOutput(dataTable, element);\n",
              "        const docLink = document.createElement('div');\n",
              "        docLink.innerHTML = docLinkHtml;\n",
              "        element.appendChild(docLink);\n",
              "      }\n",
              "    </script>\n",
              "  </div>\n",
              "\n",
              "\n",
              "<div id=\"df-b14e4460-bdbd-4955-889c-a969db35af28\">\n",
              "  <button class=\"colab-df-quickchart\" onclick=\"quickchart('df-b14e4460-bdbd-4955-889c-a969db35af28')\"\n",
              "            title=\"Suggest charts\"\n",
              "            style=\"display:none;\">\n",
              "\n",
              "<svg xmlns=\"http://www.w3.org/2000/svg\" height=\"24px\"viewBox=\"0 0 24 24\"\n",
              "     width=\"24px\">\n",
              "    <g>\n",
              "        <path d=\"M19 3H5c-1.1 0-2 .9-2 2v14c0 1.1.9 2 2 2h14c1.1 0 2-.9 2-2V5c0-1.1-.9-2-2-2zM9 17H7v-7h2v7zm4 0h-2V7h2v10zm4 0h-2v-4h2v4z\"/>\n",
              "    </g>\n",
              "</svg>\n",
              "  </button>\n",
              "\n",
              "<style>\n",
              "  .colab-df-quickchart {\n",
              "      --bg-color: #E8F0FE;\n",
              "      --fill-color: #1967D2;\n",
              "      --hover-bg-color: #E2EBFA;\n",
              "      --hover-fill-color: #174EA6;\n",
              "      --disabled-fill-color: #AAA;\n",
              "      --disabled-bg-color: #DDD;\n",
              "  }\n",
              "\n",
              "  [theme=dark] .colab-df-quickchart {\n",
              "      --bg-color: #3B4455;\n",
              "      --fill-color: #D2E3FC;\n",
              "      --hover-bg-color: #434B5C;\n",
              "      --hover-fill-color: #FFFFFF;\n",
              "      --disabled-bg-color: #3B4455;\n",
              "      --disabled-fill-color: #666;\n",
              "  }\n",
              "\n",
              "  .colab-df-quickchart {\n",
              "    background-color: var(--bg-color);\n",
              "    border: none;\n",
              "    border-radius: 50%;\n",
              "    cursor: pointer;\n",
              "    display: none;\n",
              "    fill: var(--fill-color);\n",
              "    height: 32px;\n",
              "    padding: 0;\n",
              "    width: 32px;\n",
              "  }\n",
              "\n",
              "  .colab-df-quickchart:hover {\n",
              "    background-color: var(--hover-bg-color);\n",
              "    box-shadow: 0 1px 2px rgba(60, 64, 67, 0.3), 0 1px 3px 1px rgba(60, 64, 67, 0.15);\n",
              "    fill: var(--button-hover-fill-color);\n",
              "  }\n",
              "\n",
              "  .colab-df-quickchart-complete:disabled,\n",
              "  .colab-df-quickchart-complete:disabled:hover {\n",
              "    background-color: var(--disabled-bg-color);\n",
              "    fill: var(--disabled-fill-color);\n",
              "    box-shadow: none;\n",
              "  }\n",
              "\n",
              "  .colab-df-spinner {\n",
              "    border: 2px solid var(--fill-color);\n",
              "    border-color: transparent;\n",
              "    border-bottom-color: var(--fill-color);\n",
              "    animation:\n",
              "      spin 1s steps(1) infinite;\n",
              "  }\n",
              "\n",
              "  @keyframes spin {\n",
              "    0% {\n",
              "      border-color: transparent;\n",
              "      border-bottom-color: var(--fill-color);\n",
              "      border-left-color: var(--fill-color);\n",
              "    }\n",
              "    20% {\n",
              "      border-color: transparent;\n",
              "      border-left-color: var(--fill-color);\n",
              "      border-top-color: var(--fill-color);\n",
              "    }\n",
              "    30% {\n",
              "      border-color: transparent;\n",
              "      border-left-color: var(--fill-color);\n",
              "      border-top-color: var(--fill-color);\n",
              "      border-right-color: var(--fill-color);\n",
              "    }\n",
              "    40% {\n",
              "      border-color: transparent;\n",
              "      border-right-color: var(--fill-color);\n",
              "      border-top-color: var(--fill-color);\n",
              "    }\n",
              "    60% {\n",
              "      border-color: transparent;\n",
              "      border-right-color: var(--fill-color);\n",
              "    }\n",
              "    80% {\n",
              "      border-color: transparent;\n",
              "      border-right-color: var(--fill-color);\n",
              "      border-bottom-color: var(--fill-color);\n",
              "    }\n",
              "    90% {\n",
              "      border-color: transparent;\n",
              "      border-bottom-color: var(--fill-color);\n",
              "    }\n",
              "  }\n",
              "</style>\n",
              "\n",
              "  <script>\n",
              "    async function quickchart(key) {\n",
              "      const quickchartButtonEl =\n",
              "        document.querySelector('#' + key + ' button');\n",
              "      quickchartButtonEl.disabled = true;  // To prevent multiple clicks.\n",
              "      quickchartButtonEl.classList.add('colab-df-spinner');\n",
              "      try {\n",
              "        const charts = await google.colab.kernel.invokeFunction(\n",
              "            'suggestCharts', [key], {});\n",
              "      } catch (error) {\n",
              "        console.error('Error during call to suggestCharts:', error);\n",
              "      }\n",
              "      quickchartButtonEl.classList.remove('colab-df-spinner');\n",
              "      quickchartButtonEl.classList.add('colab-df-quickchart-complete');\n",
              "    }\n",
              "    (() => {\n",
              "      let quickchartButtonEl =\n",
              "        document.querySelector('#df-b14e4460-bdbd-4955-889c-a969db35af28 button');\n",
              "      quickchartButtonEl.style.display =\n",
              "        google.colab.kernel.accessAllowed ? 'block' : 'none';\n",
              "    })();\n",
              "  </script>\n",
              "</div>\n",
              "    </div>\n",
              "  </div>\n"
            ]
          },
          "metadata": {},
          "execution_count": 138
        }
      ]
    },
    {
      "cell_type": "code",
      "source": [
        "# color on level 1\n",
        "erms_template = erms.erms_template()\n",
        "erms_template = erms_template.drop('Enhanced record minimum standard', axis=1)\n",
        "level1_cat = erms_template['level1'].unique()\n",
        "my_cmap = plt.get_cmap('PiYG')\n",
        "level1_cmap = my_cmap(np.linspace(0, 1, len(level1_cat)))\n",
        "level1_cmap = [to_hex(color) for color in level1_cmap]\n",
        "df_color = pd.DataFrame(columns=('level1', 'color'))\n",
        "df_color['level1'] = level1_cat\n",
        "df_color['color'] = level1_cmap\n",
        "df_color = erms_template.merge(df_color, on='level1', how='left')\n",
        "df_color"
      ],
      "metadata": {
        "colab": {
          "base_uri": "https://localhost:8080/",
          "height": 423
        },
        "id": "ORvE_mP5s0aI",
        "outputId": "4e7c7ff2-4f12-4b82-b6ed-4b438facc1e4"
      },
      "execution_count": 144,
      "outputs": [
        {
          "output_type": "execute_result",
          "data": {
            "text/plain": [
              "                    level1               level2  \\\n",
              "0       ASSESSMENT SUMMARY  ASSESSMENT ACTIVITY   \n",
              "1       ASSESSMENT SUMMARY  ASSESSMENT ACTIVITY   \n",
              "2       ASSESSMENT SUMMARY  ASSESSMENT ACTIVITY   \n",
              "3       ASSESSMENT SUMMARY  ASSESSMENT ACTIVITY   \n",
              "4       ASSESSMENT SUMMARY  ASSESSMENT ACTIVITY   \n",
              "..                     ...                  ...   \n",
              "93  ENVIRONMENT ASSESSMENT   DEPTH or ELEVATION   \n",
              "94  ENVIRONMENT ASSESSMENT   DEPTH or ELEVATION   \n",
              "95  ENVIRONMENT ASSESSMENT   DEPTH or ELEVATION   \n",
              "96  ENVIRONMENT ASSESSMENT   DEPTH or ELEVATION   \n",
              "97                  ACCESS               ACCESS   \n",
              "\n",
              "                                  level3    color  \n",
              "0        Assessment Investigator - Actor  #8e0152  \n",
              "1                 Investigator Role Type  #8e0152  \n",
              "2               Assessment Activity Type  #8e0152  \n",
              "3               Assessment Activity Date  #8e0152  \n",
              "4                Google Earth Assessment  #8e0152  \n",
              "..                                   ...      ...  \n",
              "93           Minimum Depth/Max Elevation  #62a32e  \n",
              "94           Maximum Depth/Min Elevation  #62a32e  \n",
              "95                            Datum Type  #62a32e  \n",
              "96           Datum Description/EPSG code  #62a32e  \n",
              "97  Restricted Access Record Designation  #276419  \n",
              "\n",
              "[98 rows x 4 columns]"
            ],
            "text/html": [
              "\n",
              "  <div id=\"df-4e746af0-1f9a-402b-84b0-49259b8e78a5\" class=\"colab-df-container\">\n",
              "    <div>\n",
              "<style scoped>\n",
              "    .dataframe tbody tr th:only-of-type {\n",
              "        vertical-align: middle;\n",
              "    }\n",
              "\n",
              "    .dataframe tbody tr th {\n",
              "        vertical-align: top;\n",
              "    }\n",
              "\n",
              "    .dataframe thead th {\n",
              "        text-align: right;\n",
              "    }\n",
              "</style>\n",
              "<table border=\"1\" class=\"dataframe\">\n",
              "  <thead>\n",
              "    <tr style=\"text-align: right;\">\n",
              "      <th></th>\n",
              "      <th>level1</th>\n",
              "      <th>level2</th>\n",
              "      <th>level3</th>\n",
              "      <th>color</th>\n",
              "    </tr>\n",
              "  </thead>\n",
              "  <tbody>\n",
              "    <tr>\n",
              "      <th>0</th>\n",
              "      <td>ASSESSMENT SUMMARY</td>\n",
              "      <td>ASSESSMENT ACTIVITY</td>\n",
              "      <td>Assessment Investigator - Actor</td>\n",
              "      <td>#8e0152</td>\n",
              "    </tr>\n",
              "    <tr>\n",
              "      <th>1</th>\n",
              "      <td>ASSESSMENT SUMMARY</td>\n",
              "      <td>ASSESSMENT ACTIVITY</td>\n",
              "      <td>Investigator Role Type</td>\n",
              "      <td>#8e0152</td>\n",
              "    </tr>\n",
              "    <tr>\n",
              "      <th>2</th>\n",
              "      <td>ASSESSMENT SUMMARY</td>\n",
              "      <td>ASSESSMENT ACTIVITY</td>\n",
              "      <td>Assessment Activity Type</td>\n",
              "      <td>#8e0152</td>\n",
              "    </tr>\n",
              "    <tr>\n",
              "      <th>3</th>\n",
              "      <td>ASSESSMENT SUMMARY</td>\n",
              "      <td>ASSESSMENT ACTIVITY</td>\n",
              "      <td>Assessment Activity Date</td>\n",
              "      <td>#8e0152</td>\n",
              "    </tr>\n",
              "    <tr>\n",
              "      <th>4</th>\n",
              "      <td>ASSESSMENT SUMMARY</td>\n",
              "      <td>ASSESSMENT ACTIVITY</td>\n",
              "      <td>Google Earth Assessment</td>\n",
              "      <td>#8e0152</td>\n",
              "    </tr>\n",
              "    <tr>\n",
              "      <th>...</th>\n",
              "      <td>...</td>\n",
              "      <td>...</td>\n",
              "      <td>...</td>\n",
              "      <td>...</td>\n",
              "    </tr>\n",
              "    <tr>\n",
              "      <th>93</th>\n",
              "      <td>ENVIRONMENT ASSESSMENT</td>\n",
              "      <td>DEPTH or ELEVATION</td>\n",
              "      <td>Minimum Depth/Max Elevation</td>\n",
              "      <td>#62a32e</td>\n",
              "    </tr>\n",
              "    <tr>\n",
              "      <th>94</th>\n",
              "      <td>ENVIRONMENT ASSESSMENT</td>\n",
              "      <td>DEPTH or ELEVATION</td>\n",
              "      <td>Maximum Depth/Min Elevation</td>\n",
              "      <td>#62a32e</td>\n",
              "    </tr>\n",
              "    <tr>\n",
              "      <th>95</th>\n",
              "      <td>ENVIRONMENT ASSESSMENT</td>\n",
              "      <td>DEPTH or ELEVATION</td>\n",
              "      <td>Datum Type</td>\n",
              "      <td>#62a32e</td>\n",
              "    </tr>\n",
              "    <tr>\n",
              "      <th>96</th>\n",
              "      <td>ENVIRONMENT ASSESSMENT</td>\n",
              "      <td>DEPTH or ELEVATION</td>\n",
              "      <td>Datum Description/EPSG code</td>\n",
              "      <td>#62a32e</td>\n",
              "    </tr>\n",
              "    <tr>\n",
              "      <th>97</th>\n",
              "      <td>ACCESS</td>\n",
              "      <td>ACCESS</td>\n",
              "      <td>Restricted Access Record Designation</td>\n",
              "      <td>#276419</td>\n",
              "    </tr>\n",
              "  </tbody>\n",
              "</table>\n",
              "<p>98 rows × 4 columns</p>\n",
              "</div>\n",
              "    <div class=\"colab-df-buttons\">\n",
              "\n",
              "  <div class=\"colab-df-container\">\n",
              "    <button class=\"colab-df-convert\" onclick=\"convertToInteractive('df-4e746af0-1f9a-402b-84b0-49259b8e78a5')\"\n",
              "            title=\"Convert this dataframe to an interactive table.\"\n",
              "            style=\"display:none;\">\n",
              "\n",
              "  <svg xmlns=\"http://www.w3.org/2000/svg\" height=\"24px\" viewBox=\"0 -960 960 960\">\n",
              "    <path d=\"M120-120v-720h720v720H120Zm60-500h600v-160H180v160Zm220 220h160v-160H400v160Zm0 220h160v-160H400v160ZM180-400h160v-160H180v160Zm440 0h160v-160H620v160ZM180-180h160v-160H180v160Zm440 0h160v-160H620v160Z\"/>\n",
              "  </svg>\n",
              "    </button>\n",
              "\n",
              "  <style>\n",
              "    .colab-df-container {\n",
              "      display:flex;\n",
              "      gap: 12px;\n",
              "    }\n",
              "\n",
              "    .colab-df-convert {\n",
              "      background-color: #E8F0FE;\n",
              "      border: none;\n",
              "      border-radius: 50%;\n",
              "      cursor: pointer;\n",
              "      display: none;\n",
              "      fill: #1967D2;\n",
              "      height: 32px;\n",
              "      padding: 0 0 0 0;\n",
              "      width: 32px;\n",
              "    }\n",
              "\n",
              "    .colab-df-convert:hover {\n",
              "      background-color: #E2EBFA;\n",
              "      box-shadow: 0px 1px 2px rgba(60, 64, 67, 0.3), 0px 1px 3px 1px rgba(60, 64, 67, 0.15);\n",
              "      fill: #174EA6;\n",
              "    }\n",
              "\n",
              "    .colab-df-buttons div {\n",
              "      margin-bottom: 4px;\n",
              "    }\n",
              "\n",
              "    [theme=dark] .colab-df-convert {\n",
              "      background-color: #3B4455;\n",
              "      fill: #D2E3FC;\n",
              "    }\n",
              "\n",
              "    [theme=dark] .colab-df-convert:hover {\n",
              "      background-color: #434B5C;\n",
              "      box-shadow: 0px 1px 3px 1px rgba(0, 0, 0, 0.15);\n",
              "      filter: drop-shadow(0px 1px 2px rgba(0, 0, 0, 0.3));\n",
              "      fill: #FFFFFF;\n",
              "    }\n",
              "  </style>\n",
              "\n",
              "    <script>\n",
              "      const buttonEl =\n",
              "        document.querySelector('#df-4e746af0-1f9a-402b-84b0-49259b8e78a5 button.colab-df-convert');\n",
              "      buttonEl.style.display =\n",
              "        google.colab.kernel.accessAllowed ? 'block' : 'none';\n",
              "\n",
              "      async function convertToInteractive(key) {\n",
              "        const element = document.querySelector('#df-4e746af0-1f9a-402b-84b0-49259b8e78a5');\n",
              "        const dataTable =\n",
              "          await google.colab.kernel.invokeFunction('convertToInteractive',\n",
              "                                                    [key], {});\n",
              "        if (!dataTable) return;\n",
              "\n",
              "        const docLinkHtml = 'Like what you see? Visit the ' +\n",
              "          '<a target=\"_blank\" href=https://colab.research.google.com/notebooks/data_table.ipynb>data table notebook</a>'\n",
              "          + ' to learn more about interactive tables.';\n",
              "        element.innerHTML = '';\n",
              "        dataTable['output_type'] = 'display_data';\n",
              "        await google.colab.output.renderOutput(dataTable, element);\n",
              "        const docLink = document.createElement('div');\n",
              "        docLink.innerHTML = docLinkHtml;\n",
              "        element.appendChild(docLink);\n",
              "      }\n",
              "    </script>\n",
              "  </div>\n",
              "\n",
              "\n",
              "<div id=\"df-311c572b-2b6f-4dfd-9b6d-7833e733ac51\">\n",
              "  <button class=\"colab-df-quickchart\" onclick=\"quickchart('df-311c572b-2b6f-4dfd-9b6d-7833e733ac51')\"\n",
              "            title=\"Suggest charts\"\n",
              "            style=\"display:none;\">\n",
              "\n",
              "<svg xmlns=\"http://www.w3.org/2000/svg\" height=\"24px\"viewBox=\"0 0 24 24\"\n",
              "     width=\"24px\">\n",
              "    <g>\n",
              "        <path d=\"M19 3H5c-1.1 0-2 .9-2 2v14c0 1.1.9 2 2 2h14c1.1 0 2-.9 2-2V5c0-1.1-.9-2-2-2zM9 17H7v-7h2v7zm4 0h-2V7h2v10zm4 0h-2v-4h2v4z\"/>\n",
              "    </g>\n",
              "</svg>\n",
              "  </button>\n",
              "\n",
              "<style>\n",
              "  .colab-df-quickchart {\n",
              "      --bg-color: #E8F0FE;\n",
              "      --fill-color: #1967D2;\n",
              "      --hover-bg-color: #E2EBFA;\n",
              "      --hover-fill-color: #174EA6;\n",
              "      --disabled-fill-color: #AAA;\n",
              "      --disabled-bg-color: #DDD;\n",
              "  }\n",
              "\n",
              "  [theme=dark] .colab-df-quickchart {\n",
              "      --bg-color: #3B4455;\n",
              "      --fill-color: #D2E3FC;\n",
              "      --hover-bg-color: #434B5C;\n",
              "      --hover-fill-color: #FFFFFF;\n",
              "      --disabled-bg-color: #3B4455;\n",
              "      --disabled-fill-color: #666;\n",
              "  }\n",
              "\n",
              "  .colab-df-quickchart {\n",
              "    background-color: var(--bg-color);\n",
              "    border: none;\n",
              "    border-radius: 50%;\n",
              "    cursor: pointer;\n",
              "    display: none;\n",
              "    fill: var(--fill-color);\n",
              "    height: 32px;\n",
              "    padding: 0;\n",
              "    width: 32px;\n",
              "  }\n",
              "\n",
              "  .colab-df-quickchart:hover {\n",
              "    background-color: var(--hover-bg-color);\n",
              "    box-shadow: 0 1px 2px rgba(60, 64, 67, 0.3), 0 1px 3px 1px rgba(60, 64, 67, 0.15);\n",
              "    fill: var(--button-hover-fill-color);\n",
              "  }\n",
              "\n",
              "  .colab-df-quickchart-complete:disabled,\n",
              "  .colab-df-quickchart-complete:disabled:hover {\n",
              "    background-color: var(--disabled-bg-color);\n",
              "    fill: var(--disabled-fill-color);\n",
              "    box-shadow: none;\n",
              "  }\n",
              "\n",
              "  .colab-df-spinner {\n",
              "    border: 2px solid var(--fill-color);\n",
              "    border-color: transparent;\n",
              "    border-bottom-color: var(--fill-color);\n",
              "    animation:\n",
              "      spin 1s steps(1) infinite;\n",
              "  }\n",
              "\n",
              "  @keyframes spin {\n",
              "    0% {\n",
              "      border-color: transparent;\n",
              "      border-bottom-color: var(--fill-color);\n",
              "      border-left-color: var(--fill-color);\n",
              "    }\n",
              "    20% {\n",
              "      border-color: transparent;\n",
              "      border-left-color: var(--fill-color);\n",
              "      border-top-color: var(--fill-color);\n",
              "    }\n",
              "    30% {\n",
              "      border-color: transparent;\n",
              "      border-left-color: var(--fill-color);\n",
              "      border-top-color: var(--fill-color);\n",
              "      border-right-color: var(--fill-color);\n",
              "    }\n",
              "    40% {\n",
              "      border-color: transparent;\n",
              "      border-right-color: var(--fill-color);\n",
              "      border-top-color: var(--fill-color);\n",
              "    }\n",
              "    60% {\n",
              "      border-color: transparent;\n",
              "      border-right-color: var(--fill-color);\n",
              "    }\n",
              "    80% {\n",
              "      border-color: transparent;\n",
              "      border-right-color: var(--fill-color);\n",
              "      border-bottom-color: var(--fill-color);\n",
              "    }\n",
              "    90% {\n",
              "      border-color: transparent;\n",
              "      border-bottom-color: var(--fill-color);\n",
              "    }\n",
              "  }\n",
              "</style>\n",
              "\n",
              "  <script>\n",
              "    async function quickchart(key) {\n",
              "      const quickchartButtonEl =\n",
              "        document.querySelector('#' + key + ' button');\n",
              "      quickchartButtonEl.disabled = true;  // To prevent multiple clicks.\n",
              "      quickchartButtonEl.classList.add('colab-df-spinner');\n",
              "      try {\n",
              "        const charts = await google.colab.kernel.invokeFunction(\n",
              "            'suggestCharts', [key], {});\n",
              "      } catch (error) {\n",
              "        console.error('Error during call to suggestCharts:', error);\n",
              "      }\n",
              "      quickchartButtonEl.classList.remove('colab-df-spinner');\n",
              "      quickchartButtonEl.classList.add('colab-df-quickchart-complete');\n",
              "    }\n",
              "    (() => {\n",
              "      let quickchartButtonEl =\n",
              "        document.querySelector('#df-311c572b-2b6f-4dfd-9b6d-7833e733ac51 button');\n",
              "      quickchartButtonEl.style.display =\n",
              "        google.colab.kernel.accessAllowed ? 'block' : 'none';\n",
              "    })();\n",
              "  </script>\n",
              "</div>\n",
              "    </div>\n",
              "  </div>\n"
            ]
          },
          "metadata": {},
          "execution_count": 144
        }
      ]
    },
    {
      "cell_type": "code",
      "source": [
        "# level1\n",
        "erms_template = erms.erms_template()\n",
        "my_cmap = plt.get_cmap('PiYG')\n",
        "df_level1 = erms_template['level1'].value_counts()\n",
        "df_level1 = df_level1.reset_index()\n",
        "df_level1.columns = ['level1', 'value']\n",
        "level1_cmap = my_cmap(np.linspace(0, 1, len(df_level1)))\n",
        "level1_cmap = [to_hex(color) for color in level1_cmap]\n",
        "df_level1['color'] = level1_cmap\n",
        "#sort to keep the original order\n",
        "sorter_level1 = list(erms_template['level1'].unique())\n",
        "df_level1.sort_values(by=\"level1\", key=lambda column: column.map(lambda e: sorter_level1.index(e)), inplace=True)\n",
        "df_level1\n",
        "fig_level1 = go.Figure(\n",
        "    data=[go.Pie(\n",
        "        labels=df_level1['level1'],\n",
        "        values=df_level1['value'],\n",
        "        sort=False,\n",
        "        marker=dict(colors=level1_cmap, line=dict(color='#000000', width=.25)),\n",
        "        textinfo='value',\n",
        "        textfont_size=16,\n",
        "        customdata=df_level1[\"level1\"],\n",
        "        hovertemplate='<br>'.join(['%{customdata}']),\n",
        "        legendgroup = '1'\n",
        "        )\n",
        "    ])\n",
        "fig_level1.show()"
      ],
      "metadata": {
        "colab": {
          "base_uri": "https://localhost:8080/",
          "height": 542
        },
        "id": "UPKY0-z6vn3k",
        "outputId": "7b4e460d-240f-4279-d270-78af7ed39f21"
      },
      "execution_count": 348,
      "outputs": [
        {
          "output_type": "display_data",
          "data": {
            "text/html": [
              "<html>\n",
              "<head><meta charset=\"utf-8\" /></head>\n",
              "<body>\n",
              "    <div>            <script src=\"https://cdnjs.cloudflare.com/ajax/libs/mathjax/2.7.5/MathJax.js?config=TeX-AMS-MML_SVG\"></script><script type=\"text/javascript\">if (window.MathJax && window.MathJax.Hub && window.MathJax.Hub.Config) {window.MathJax.Hub.Config({SVG: {font: \"STIX-Web\"}});}</script>                <script type=\"text/javascript\">window.PlotlyConfig = {MathJaxConfig: 'local'};</script>\n",
              "        <script charset=\"utf-8\" src=\"https://cdn.plot.ly/plotly-2.24.1.min.js\"></script>                <div id=\"ee911943-5997-4263-bfcb-afb65300fc01\" class=\"plotly-graph-div\" style=\"height:525px; width:100%;\"></div>            <script type=\"text/javascript\">                                    window.PLOTLYENV=window.PLOTLYENV || {};                                    if (document.getElementById(\"ee911943-5997-4263-bfcb-afb65300fc01\")) {                    Plotly.newPlot(                        \"ee911943-5997-4263-bfcb-afb65300fc01\",                        [{\"customdata\":[\"ASSESSMENT SUMMARY\",\"RESOURCE SUMMARY\",\"GEOMETRIES\",\"GEOGRAPHY\",\"ARCHAEOLOGICAL ASSESSMENT\",\"CONDITION ASSESSMENT\",\"ENVIRONMENT ASSESSMENT\",\"ACCESS\"],\"hovertemplate\":\"%{customdata}\",\"labels\":[\"ASSESSMENT SUMMARY\",\"RESOURCE SUMMARY\",\"GEOMETRIES\",\"GEOGRAPHY\",\"ARCHAEOLOGICAL ASSESSMENT\",\"CONDITION ASSESSMENT\",\"ENVIRONMENT ASSESSMENT\",\"ACCESS\"],\"legendgroup\":\"1\",\"marker\":{\"colors\":[\"#8e0152\",\"#cf4191\",\"#eeadd4\",\"#fbe6f1\",\"#ebf6db\",\"#b0dc7d\",\"#62a32e\",\"#276419\"],\"line\":{\"color\":\"#000000\",\"width\":0.25}},\"sort\":false,\"textfont\":{\"size\":16},\"textinfo\":\"value\",\"values\":[8,10,4,9,33,20,13,1],\"type\":\"pie\"}],                        {\"template\":{\"data\":{\"histogram2dcontour\":[{\"type\":\"histogram2dcontour\",\"colorbar\":{\"outlinewidth\":0,\"ticks\":\"\"},\"colorscale\":[[0.0,\"#0d0887\"],[0.1111111111111111,\"#46039f\"],[0.2222222222222222,\"#7201a8\"],[0.3333333333333333,\"#9c179e\"],[0.4444444444444444,\"#bd3786\"],[0.5555555555555556,\"#d8576b\"],[0.6666666666666666,\"#ed7953\"],[0.7777777777777778,\"#fb9f3a\"],[0.8888888888888888,\"#fdca26\"],[1.0,\"#f0f921\"]]}],\"choropleth\":[{\"type\":\"choropleth\",\"colorbar\":{\"outlinewidth\":0,\"ticks\":\"\"}}],\"histogram2d\":[{\"type\":\"histogram2d\",\"colorbar\":{\"outlinewidth\":0,\"ticks\":\"\"},\"colorscale\":[[0.0,\"#0d0887\"],[0.1111111111111111,\"#46039f\"],[0.2222222222222222,\"#7201a8\"],[0.3333333333333333,\"#9c179e\"],[0.4444444444444444,\"#bd3786\"],[0.5555555555555556,\"#d8576b\"],[0.6666666666666666,\"#ed7953\"],[0.7777777777777778,\"#fb9f3a\"],[0.8888888888888888,\"#fdca26\"],[1.0,\"#f0f921\"]]}],\"heatmap\":[{\"type\":\"heatmap\",\"colorbar\":{\"outlinewidth\":0,\"ticks\":\"\"},\"colorscale\":[[0.0,\"#0d0887\"],[0.1111111111111111,\"#46039f\"],[0.2222222222222222,\"#7201a8\"],[0.3333333333333333,\"#9c179e\"],[0.4444444444444444,\"#bd3786\"],[0.5555555555555556,\"#d8576b\"],[0.6666666666666666,\"#ed7953\"],[0.7777777777777778,\"#fb9f3a\"],[0.8888888888888888,\"#fdca26\"],[1.0,\"#f0f921\"]]}],\"heatmapgl\":[{\"type\":\"heatmapgl\",\"colorbar\":{\"outlinewidth\":0,\"ticks\":\"\"},\"colorscale\":[[0.0,\"#0d0887\"],[0.1111111111111111,\"#46039f\"],[0.2222222222222222,\"#7201a8\"],[0.3333333333333333,\"#9c179e\"],[0.4444444444444444,\"#bd3786\"],[0.5555555555555556,\"#d8576b\"],[0.6666666666666666,\"#ed7953\"],[0.7777777777777778,\"#fb9f3a\"],[0.8888888888888888,\"#fdca26\"],[1.0,\"#f0f921\"]]}],\"contourcarpet\":[{\"type\":\"contourcarpet\",\"colorbar\":{\"outlinewidth\":0,\"ticks\":\"\"}}],\"contour\":[{\"type\":\"contour\",\"colorbar\":{\"outlinewidth\":0,\"ticks\":\"\"},\"colorscale\":[[0.0,\"#0d0887\"],[0.1111111111111111,\"#46039f\"],[0.2222222222222222,\"#7201a8\"],[0.3333333333333333,\"#9c179e\"],[0.4444444444444444,\"#bd3786\"],[0.5555555555555556,\"#d8576b\"],[0.6666666666666666,\"#ed7953\"],[0.7777777777777778,\"#fb9f3a\"],[0.8888888888888888,\"#fdca26\"],[1.0,\"#f0f921\"]]}],\"surface\":[{\"type\":\"surface\",\"colorbar\":{\"outlinewidth\":0,\"ticks\":\"\"},\"colorscale\":[[0.0,\"#0d0887\"],[0.1111111111111111,\"#46039f\"],[0.2222222222222222,\"#7201a8\"],[0.3333333333333333,\"#9c179e\"],[0.4444444444444444,\"#bd3786\"],[0.5555555555555556,\"#d8576b\"],[0.6666666666666666,\"#ed7953\"],[0.7777777777777778,\"#fb9f3a\"],[0.8888888888888888,\"#fdca26\"],[1.0,\"#f0f921\"]]}],\"mesh3d\":[{\"type\":\"mesh3d\",\"colorbar\":{\"outlinewidth\":0,\"ticks\":\"\"}}],\"scatter\":[{\"fillpattern\":{\"fillmode\":\"overlay\",\"size\":10,\"solidity\":0.2},\"type\":\"scatter\"}],\"parcoords\":[{\"type\":\"parcoords\",\"line\":{\"colorbar\":{\"outlinewidth\":0,\"ticks\":\"\"}}}],\"scatterpolargl\":[{\"type\":\"scatterpolargl\",\"marker\":{\"colorbar\":{\"outlinewidth\":0,\"ticks\":\"\"}}}],\"bar\":[{\"error_x\":{\"color\":\"#2a3f5f\"},\"error_y\":{\"color\":\"#2a3f5f\"},\"marker\":{\"line\":{\"color\":\"#E5ECF6\",\"width\":0.5},\"pattern\":{\"fillmode\":\"overlay\",\"size\":10,\"solidity\":0.2}},\"type\":\"bar\"}],\"scattergeo\":[{\"type\":\"scattergeo\",\"marker\":{\"colorbar\":{\"outlinewidth\":0,\"ticks\":\"\"}}}],\"scatterpolar\":[{\"type\":\"scatterpolar\",\"marker\":{\"colorbar\":{\"outlinewidth\":0,\"ticks\":\"\"}}}],\"histogram\":[{\"marker\":{\"pattern\":{\"fillmode\":\"overlay\",\"size\":10,\"solidity\":0.2}},\"type\":\"histogram\"}],\"scattergl\":[{\"type\":\"scattergl\",\"marker\":{\"colorbar\":{\"outlinewidth\":0,\"ticks\":\"\"}}}],\"scatter3d\":[{\"type\":\"scatter3d\",\"line\":{\"colorbar\":{\"outlinewidth\":0,\"ticks\":\"\"}},\"marker\":{\"colorbar\":{\"outlinewidth\":0,\"ticks\":\"\"}}}],\"scattermapbox\":[{\"type\":\"scattermapbox\",\"marker\":{\"colorbar\":{\"outlinewidth\":0,\"ticks\":\"\"}}}],\"scatterternary\":[{\"type\":\"scatterternary\",\"marker\":{\"colorbar\":{\"outlinewidth\":0,\"ticks\":\"\"}}}],\"scattercarpet\":[{\"type\":\"scattercarpet\",\"marker\":{\"colorbar\":{\"outlinewidth\":0,\"ticks\":\"\"}}}],\"carpet\":[{\"aaxis\":{\"endlinecolor\":\"#2a3f5f\",\"gridcolor\":\"white\",\"linecolor\":\"white\",\"minorgridcolor\":\"white\",\"startlinecolor\":\"#2a3f5f\"},\"baxis\":{\"endlinecolor\":\"#2a3f5f\",\"gridcolor\":\"white\",\"linecolor\":\"white\",\"minorgridcolor\":\"white\",\"startlinecolor\":\"#2a3f5f\"},\"type\":\"carpet\"}],\"table\":[{\"cells\":{\"fill\":{\"color\":\"#EBF0F8\"},\"line\":{\"color\":\"white\"}},\"header\":{\"fill\":{\"color\":\"#C8D4E3\"},\"line\":{\"color\":\"white\"}},\"type\":\"table\"}],\"barpolar\":[{\"marker\":{\"line\":{\"color\":\"#E5ECF6\",\"width\":0.5},\"pattern\":{\"fillmode\":\"overlay\",\"size\":10,\"solidity\":0.2}},\"type\":\"barpolar\"}],\"pie\":[{\"automargin\":true,\"type\":\"pie\"}]},\"layout\":{\"autotypenumbers\":\"strict\",\"colorway\":[\"#636efa\",\"#EF553B\",\"#00cc96\",\"#ab63fa\",\"#FFA15A\",\"#19d3f3\",\"#FF6692\",\"#B6E880\",\"#FF97FF\",\"#FECB52\"],\"font\":{\"color\":\"#2a3f5f\"},\"hovermode\":\"closest\",\"hoverlabel\":{\"align\":\"left\"},\"paper_bgcolor\":\"white\",\"plot_bgcolor\":\"#E5ECF6\",\"polar\":{\"bgcolor\":\"#E5ECF6\",\"angularaxis\":{\"gridcolor\":\"white\",\"linecolor\":\"white\",\"ticks\":\"\"},\"radialaxis\":{\"gridcolor\":\"white\",\"linecolor\":\"white\",\"ticks\":\"\"}},\"ternary\":{\"bgcolor\":\"#E5ECF6\",\"aaxis\":{\"gridcolor\":\"white\",\"linecolor\":\"white\",\"ticks\":\"\"},\"baxis\":{\"gridcolor\":\"white\",\"linecolor\":\"white\",\"ticks\":\"\"},\"caxis\":{\"gridcolor\":\"white\",\"linecolor\":\"white\",\"ticks\":\"\"}},\"coloraxis\":{\"colorbar\":{\"outlinewidth\":0,\"ticks\":\"\"}},\"colorscale\":{\"sequential\":[[0.0,\"#0d0887\"],[0.1111111111111111,\"#46039f\"],[0.2222222222222222,\"#7201a8\"],[0.3333333333333333,\"#9c179e\"],[0.4444444444444444,\"#bd3786\"],[0.5555555555555556,\"#d8576b\"],[0.6666666666666666,\"#ed7953\"],[0.7777777777777778,\"#fb9f3a\"],[0.8888888888888888,\"#fdca26\"],[1.0,\"#f0f921\"]],\"sequentialminus\":[[0.0,\"#0d0887\"],[0.1111111111111111,\"#46039f\"],[0.2222222222222222,\"#7201a8\"],[0.3333333333333333,\"#9c179e\"],[0.4444444444444444,\"#bd3786\"],[0.5555555555555556,\"#d8576b\"],[0.6666666666666666,\"#ed7953\"],[0.7777777777777778,\"#fb9f3a\"],[0.8888888888888888,\"#fdca26\"],[1.0,\"#f0f921\"]],\"diverging\":[[0,\"#8e0152\"],[0.1,\"#c51b7d\"],[0.2,\"#de77ae\"],[0.3,\"#f1b6da\"],[0.4,\"#fde0ef\"],[0.5,\"#f7f7f7\"],[0.6,\"#e6f5d0\"],[0.7,\"#b8e186\"],[0.8,\"#7fbc41\"],[0.9,\"#4d9221\"],[1,\"#276419\"]]},\"xaxis\":{\"gridcolor\":\"white\",\"linecolor\":\"white\",\"ticks\":\"\",\"title\":{\"standoff\":15},\"zerolinecolor\":\"white\",\"automargin\":true,\"zerolinewidth\":2},\"yaxis\":{\"gridcolor\":\"white\",\"linecolor\":\"white\",\"ticks\":\"\",\"title\":{\"standoff\":15},\"zerolinecolor\":\"white\",\"automargin\":true,\"zerolinewidth\":2},\"scene\":{\"xaxis\":{\"backgroundcolor\":\"#E5ECF6\",\"gridcolor\":\"white\",\"linecolor\":\"white\",\"showbackground\":true,\"ticks\":\"\",\"zerolinecolor\":\"white\",\"gridwidth\":2},\"yaxis\":{\"backgroundcolor\":\"#E5ECF6\",\"gridcolor\":\"white\",\"linecolor\":\"white\",\"showbackground\":true,\"ticks\":\"\",\"zerolinecolor\":\"white\",\"gridwidth\":2},\"zaxis\":{\"backgroundcolor\":\"#E5ECF6\",\"gridcolor\":\"white\",\"linecolor\":\"white\",\"showbackground\":true,\"ticks\":\"\",\"zerolinecolor\":\"white\",\"gridwidth\":2}},\"shapedefaults\":{\"line\":{\"color\":\"#2a3f5f\"}},\"annotationdefaults\":{\"arrowcolor\":\"#2a3f5f\",\"arrowhead\":0,\"arrowwidth\":1},\"geo\":{\"bgcolor\":\"white\",\"landcolor\":\"#E5ECF6\",\"subunitcolor\":\"white\",\"showland\":true,\"showlakes\":true,\"lakecolor\":\"white\"},\"title\":{\"x\":0.05},\"mapbox\":{\"style\":\"light\"}}}},                        {\"responsive\": true}                    ).then(function(){\n",
              "                            \n",
              "var gd = document.getElementById('ee911943-5997-4263-bfcb-afb65300fc01');\n",
              "var x = new MutationObserver(function (mutations, observer) {{\n",
              "        var display = window.getComputedStyle(gd).display;\n",
              "        if (!display || display === 'none') {{\n",
              "            console.log([gd, 'removed!']);\n",
              "            Plotly.purge(gd);\n",
              "            observer.disconnect();\n",
              "        }}\n",
              "}});\n",
              "\n",
              "// Listen for the removal of the full notebook cells\n",
              "var notebookContainer = gd.closest('#notebook-container');\n",
              "if (notebookContainer) {{\n",
              "    x.observe(notebookContainer, {childList: true});\n",
              "}}\n",
              "\n",
              "// Listen for the clearing of the current output cell\n",
              "var outputEl = gd.closest('.output');\n",
              "if (outputEl) {{\n",
              "    x.observe(outputEl, {childList: true});\n",
              "}}\n",
              "\n",
              "                        })                };                            </script>        </div>\n",
              "</body>\n",
              "</html>"
            ]
          },
          "metadata": {}
        }
      ]
    },
    {
      "cell_type": "code",
      "source": [
        "# level2\n",
        "df_color2 = df_color.drop(columns=['level1', 'level3'])\n",
        "df_color2.drop_duplicates(inplace = True, keep='first')\n",
        "# level2\n",
        "erms_template = erms.erms_template()\n",
        "df_level2 = erms_template['level2'].value_counts()\n",
        "df_level2 = df_level2.reset_index()\n",
        "df_level2.columns = ['level2', 'value']\n",
        "df_level2 = df_level2.merge(df_color2, on='level2', how='left')\n",
        "#sort to keep the original order\n",
        "sorter_level2 = list(erms_template['level2'].unique())\n",
        "df_level2.sort_values(by=\"level2\", key=lambda column: column.map(lambda e: sorter_level2.index(e)), inplace=True)\n",
        "df_level2\n",
        "fig_level2 = go.Figure(\n",
        "    data=[go.Pie(\n",
        "        labels=df_level2['level2'],\n",
        "        values=df_level2['value'],\n",
        "        sort=False,\n",
        "        marker=dict(colors=df_level2['color'], line=dict(color='#000000', width=.25)),\n",
        "        textinfo='value',\n",
        "        textfont_size=16,\n",
        "        customdata=df_level2[\"level2\"],\n",
        "        hovertemplate='<br>'.join(['%{customdata}']),\n",
        "        showlegend=False\n",
        "        # legendgroup = '2'\n",
        "        )\n",
        "    ])\n",
        "fig_level2.show()"
      ],
      "metadata": {
        "colab": {
          "base_uri": "https://localhost:8080/",
          "height": 542
        },
        "id": "KA2Jo6fI1_A1",
        "outputId": "d2ddaa36-931a-4deb-a463-7c21e9c7297d"
      },
      "execution_count": 357,
      "outputs": [
        {
          "output_type": "display_data",
          "data": {
            "text/html": [
              "<html>\n",
              "<head><meta charset=\"utf-8\" /></head>\n",
              "<body>\n",
              "    <div>            <script src=\"https://cdnjs.cloudflare.com/ajax/libs/mathjax/2.7.5/MathJax.js?config=TeX-AMS-MML_SVG\"></script><script type=\"text/javascript\">if (window.MathJax && window.MathJax.Hub && window.MathJax.Hub.Config) {window.MathJax.Hub.Config({SVG: {font: \"STIX-Web\"}});}</script>                <script type=\"text/javascript\">window.PlotlyConfig = {MathJaxConfig: 'local'};</script>\n",
              "        <script charset=\"utf-8\" src=\"https://cdn.plot.ly/plotly-2.24.1.min.js\"></script>                <div id=\"3eafeb90-f7a9-4f70-bb0d-aec17120c199\" class=\"plotly-graph-div\" style=\"height:525px; width:100%;\"></div>            <script type=\"text/javascript\">                                    window.PLOTLYENV=window.PLOTLYENV || {};                                    if (document.getElementById(\"3eafeb90-f7a9-4f70-bb0d-aec17120c199\")) {                    Plotly.newPlot(                        \"3eafeb90-f7a9-4f70-bb0d-aec17120c199\",                        [{\"customdata\":[\"ASSESSMENT ACTIVITY\",\"RESOURCE NAME\",\"RESOURCE SUMMARY\",\"RESOURCE DESCRIPTION\",\"HERITAGE RESOURCE CLASSIFICATION\",\"DESIGNATION\",\"GEOMETRIES\",\"GEOGRAPHY\",\"ADDRESS\",\"ADMINISTRATIVE SUBDIVISION\",\"ARCHAEOLOGICAL ASSESSMENT\",\"PERIODIZATION\",\"ABSOLUTE CHRONOLOGY\",\"SITE FEATURES and INTERPRETATIONS\",\"MATERIAL\",\"Measurements\",\"CONDITION ASSESSMENT\",\"DISTURBANCES\",\"THREATS\",\"RECOMMENDATION PLAN\",\"ENVIRONMENT ASSESSMENT\",\"LAND COVER\",\"SURFICIAL GEOLOGY\",\"MARINE ENVIRONMENT\",\"DEPTH or ELEVATION\",\"ACCESS\"],\"hovertemplate\":\"%{customdata}\",\"labels\":[\"ASSESSMENT ACTIVITY\",\"RESOURCE NAME\",\"RESOURCE SUMMARY\",\"RESOURCE DESCRIPTION\",\"HERITAGE RESOURCE CLASSIFICATION\",\"DESIGNATION\",\"GEOMETRIES\",\"GEOGRAPHY\",\"ADDRESS\",\"ADMINISTRATIVE SUBDIVISION\",\"ARCHAEOLOGICAL ASSESSMENT\",\"PERIODIZATION\",\"ABSOLUTE CHRONOLOGY\",\"SITE FEATURES and INTERPRETATIONS\",\"MATERIAL\",\"Measurements\",\"CONDITION ASSESSMENT\",\"DISTURBANCES\",\"THREATS\",\"RECOMMENDATION PLAN\",\"ENVIRONMENT ASSESSMENT\",\"LAND COVER\",\"SURFICIAL GEOLOGY\",\"MARINE ENVIRONMENT\",\"DEPTH or ELEVATION\",\"ACCESS\"],\"marker\":{\"colors\":[\"#8e0152\",\"#cf4191\",\"#cf4191\",\"#cf4191\",\"#cf4191\",\"#cf4191\",\"#eeadd4\",\"#fbe6f1\",\"#fbe6f1\",\"#fbe6f1\",\"#ebf6db\",\"#ebf6db\",\"#ebf6db\",\"#ebf6db\",\"#ebf6db\",\"#ebf6db\",\"#b0dc7d\",\"#b0dc7d\",\"#b0dc7d\",\"#b0dc7d\",\"#62a32e\",\"#62a32e\",\"#62a32e\",\"#62a32e\",\"#62a32e\",\"#276419\"],\"line\":{\"color\":\"#000000\",\"width\":0.25}},\"showlegend\":false,\"sort\":false,\"textfont\":{\"size\":16},\"textinfo\":\"value\",\"values\":[8,2,1,2,2,3,4,5,2,2,3,5,8,10,3,4,3,10,4,3,2,2,2,3,4,1],\"type\":\"pie\"}],                        {\"template\":{\"data\":{\"histogram2dcontour\":[{\"type\":\"histogram2dcontour\",\"colorbar\":{\"outlinewidth\":0,\"ticks\":\"\"},\"colorscale\":[[0.0,\"#0d0887\"],[0.1111111111111111,\"#46039f\"],[0.2222222222222222,\"#7201a8\"],[0.3333333333333333,\"#9c179e\"],[0.4444444444444444,\"#bd3786\"],[0.5555555555555556,\"#d8576b\"],[0.6666666666666666,\"#ed7953\"],[0.7777777777777778,\"#fb9f3a\"],[0.8888888888888888,\"#fdca26\"],[1.0,\"#f0f921\"]]}],\"choropleth\":[{\"type\":\"choropleth\",\"colorbar\":{\"outlinewidth\":0,\"ticks\":\"\"}}],\"histogram2d\":[{\"type\":\"histogram2d\",\"colorbar\":{\"outlinewidth\":0,\"ticks\":\"\"},\"colorscale\":[[0.0,\"#0d0887\"],[0.1111111111111111,\"#46039f\"],[0.2222222222222222,\"#7201a8\"],[0.3333333333333333,\"#9c179e\"],[0.4444444444444444,\"#bd3786\"],[0.5555555555555556,\"#d8576b\"],[0.6666666666666666,\"#ed7953\"],[0.7777777777777778,\"#fb9f3a\"],[0.8888888888888888,\"#fdca26\"],[1.0,\"#f0f921\"]]}],\"heatmap\":[{\"type\":\"heatmap\",\"colorbar\":{\"outlinewidth\":0,\"ticks\":\"\"},\"colorscale\":[[0.0,\"#0d0887\"],[0.1111111111111111,\"#46039f\"],[0.2222222222222222,\"#7201a8\"],[0.3333333333333333,\"#9c179e\"],[0.4444444444444444,\"#bd3786\"],[0.5555555555555556,\"#d8576b\"],[0.6666666666666666,\"#ed7953\"],[0.7777777777777778,\"#fb9f3a\"],[0.8888888888888888,\"#fdca26\"],[1.0,\"#f0f921\"]]}],\"heatmapgl\":[{\"type\":\"heatmapgl\",\"colorbar\":{\"outlinewidth\":0,\"ticks\":\"\"},\"colorscale\":[[0.0,\"#0d0887\"],[0.1111111111111111,\"#46039f\"],[0.2222222222222222,\"#7201a8\"],[0.3333333333333333,\"#9c179e\"],[0.4444444444444444,\"#bd3786\"],[0.5555555555555556,\"#d8576b\"],[0.6666666666666666,\"#ed7953\"],[0.7777777777777778,\"#fb9f3a\"],[0.8888888888888888,\"#fdca26\"],[1.0,\"#f0f921\"]]}],\"contourcarpet\":[{\"type\":\"contourcarpet\",\"colorbar\":{\"outlinewidth\":0,\"ticks\":\"\"}}],\"contour\":[{\"type\":\"contour\",\"colorbar\":{\"outlinewidth\":0,\"ticks\":\"\"},\"colorscale\":[[0.0,\"#0d0887\"],[0.1111111111111111,\"#46039f\"],[0.2222222222222222,\"#7201a8\"],[0.3333333333333333,\"#9c179e\"],[0.4444444444444444,\"#bd3786\"],[0.5555555555555556,\"#d8576b\"],[0.6666666666666666,\"#ed7953\"],[0.7777777777777778,\"#fb9f3a\"],[0.8888888888888888,\"#fdca26\"],[1.0,\"#f0f921\"]]}],\"surface\":[{\"type\":\"surface\",\"colorbar\":{\"outlinewidth\":0,\"ticks\":\"\"},\"colorscale\":[[0.0,\"#0d0887\"],[0.1111111111111111,\"#46039f\"],[0.2222222222222222,\"#7201a8\"],[0.3333333333333333,\"#9c179e\"],[0.4444444444444444,\"#bd3786\"],[0.5555555555555556,\"#d8576b\"],[0.6666666666666666,\"#ed7953\"],[0.7777777777777778,\"#fb9f3a\"],[0.8888888888888888,\"#fdca26\"],[1.0,\"#f0f921\"]]}],\"mesh3d\":[{\"type\":\"mesh3d\",\"colorbar\":{\"outlinewidth\":0,\"ticks\":\"\"}}],\"scatter\":[{\"fillpattern\":{\"fillmode\":\"overlay\",\"size\":10,\"solidity\":0.2},\"type\":\"scatter\"}],\"parcoords\":[{\"type\":\"parcoords\",\"line\":{\"colorbar\":{\"outlinewidth\":0,\"ticks\":\"\"}}}],\"scatterpolargl\":[{\"type\":\"scatterpolargl\",\"marker\":{\"colorbar\":{\"outlinewidth\":0,\"ticks\":\"\"}}}],\"bar\":[{\"error_x\":{\"color\":\"#2a3f5f\"},\"error_y\":{\"color\":\"#2a3f5f\"},\"marker\":{\"line\":{\"color\":\"#E5ECF6\",\"width\":0.5},\"pattern\":{\"fillmode\":\"overlay\",\"size\":10,\"solidity\":0.2}},\"type\":\"bar\"}],\"scattergeo\":[{\"type\":\"scattergeo\",\"marker\":{\"colorbar\":{\"outlinewidth\":0,\"ticks\":\"\"}}}],\"scatterpolar\":[{\"type\":\"scatterpolar\",\"marker\":{\"colorbar\":{\"outlinewidth\":0,\"ticks\":\"\"}}}],\"histogram\":[{\"marker\":{\"pattern\":{\"fillmode\":\"overlay\",\"size\":10,\"solidity\":0.2}},\"type\":\"histogram\"}],\"scattergl\":[{\"type\":\"scattergl\",\"marker\":{\"colorbar\":{\"outlinewidth\":0,\"ticks\":\"\"}}}],\"scatter3d\":[{\"type\":\"scatter3d\",\"line\":{\"colorbar\":{\"outlinewidth\":0,\"ticks\":\"\"}},\"marker\":{\"colorbar\":{\"outlinewidth\":0,\"ticks\":\"\"}}}],\"scattermapbox\":[{\"type\":\"scattermapbox\",\"marker\":{\"colorbar\":{\"outlinewidth\":0,\"ticks\":\"\"}}}],\"scatterternary\":[{\"type\":\"scatterternary\",\"marker\":{\"colorbar\":{\"outlinewidth\":0,\"ticks\":\"\"}}}],\"scattercarpet\":[{\"type\":\"scattercarpet\",\"marker\":{\"colorbar\":{\"outlinewidth\":0,\"ticks\":\"\"}}}],\"carpet\":[{\"aaxis\":{\"endlinecolor\":\"#2a3f5f\",\"gridcolor\":\"white\",\"linecolor\":\"white\",\"minorgridcolor\":\"white\",\"startlinecolor\":\"#2a3f5f\"},\"baxis\":{\"endlinecolor\":\"#2a3f5f\",\"gridcolor\":\"white\",\"linecolor\":\"white\",\"minorgridcolor\":\"white\",\"startlinecolor\":\"#2a3f5f\"},\"type\":\"carpet\"}],\"table\":[{\"cells\":{\"fill\":{\"color\":\"#EBF0F8\"},\"line\":{\"color\":\"white\"}},\"header\":{\"fill\":{\"color\":\"#C8D4E3\"},\"line\":{\"color\":\"white\"}},\"type\":\"table\"}],\"barpolar\":[{\"marker\":{\"line\":{\"color\":\"#E5ECF6\",\"width\":0.5},\"pattern\":{\"fillmode\":\"overlay\",\"size\":10,\"solidity\":0.2}},\"type\":\"barpolar\"}],\"pie\":[{\"automargin\":true,\"type\":\"pie\"}]},\"layout\":{\"autotypenumbers\":\"strict\",\"colorway\":[\"#636efa\",\"#EF553B\",\"#00cc96\",\"#ab63fa\",\"#FFA15A\",\"#19d3f3\",\"#FF6692\",\"#B6E880\",\"#FF97FF\",\"#FECB52\"],\"font\":{\"color\":\"#2a3f5f\"},\"hovermode\":\"closest\",\"hoverlabel\":{\"align\":\"left\"},\"paper_bgcolor\":\"white\",\"plot_bgcolor\":\"#E5ECF6\",\"polar\":{\"bgcolor\":\"#E5ECF6\",\"angularaxis\":{\"gridcolor\":\"white\",\"linecolor\":\"white\",\"ticks\":\"\"},\"radialaxis\":{\"gridcolor\":\"white\",\"linecolor\":\"white\",\"ticks\":\"\"}},\"ternary\":{\"bgcolor\":\"#E5ECF6\",\"aaxis\":{\"gridcolor\":\"white\",\"linecolor\":\"white\",\"ticks\":\"\"},\"baxis\":{\"gridcolor\":\"white\",\"linecolor\":\"white\",\"ticks\":\"\"},\"caxis\":{\"gridcolor\":\"white\",\"linecolor\":\"white\",\"ticks\":\"\"}},\"coloraxis\":{\"colorbar\":{\"outlinewidth\":0,\"ticks\":\"\"}},\"colorscale\":{\"sequential\":[[0.0,\"#0d0887\"],[0.1111111111111111,\"#46039f\"],[0.2222222222222222,\"#7201a8\"],[0.3333333333333333,\"#9c179e\"],[0.4444444444444444,\"#bd3786\"],[0.5555555555555556,\"#d8576b\"],[0.6666666666666666,\"#ed7953\"],[0.7777777777777778,\"#fb9f3a\"],[0.8888888888888888,\"#fdca26\"],[1.0,\"#f0f921\"]],\"sequentialminus\":[[0.0,\"#0d0887\"],[0.1111111111111111,\"#46039f\"],[0.2222222222222222,\"#7201a8\"],[0.3333333333333333,\"#9c179e\"],[0.4444444444444444,\"#bd3786\"],[0.5555555555555556,\"#d8576b\"],[0.6666666666666666,\"#ed7953\"],[0.7777777777777778,\"#fb9f3a\"],[0.8888888888888888,\"#fdca26\"],[1.0,\"#f0f921\"]],\"diverging\":[[0,\"#8e0152\"],[0.1,\"#c51b7d\"],[0.2,\"#de77ae\"],[0.3,\"#f1b6da\"],[0.4,\"#fde0ef\"],[0.5,\"#f7f7f7\"],[0.6,\"#e6f5d0\"],[0.7,\"#b8e186\"],[0.8,\"#7fbc41\"],[0.9,\"#4d9221\"],[1,\"#276419\"]]},\"xaxis\":{\"gridcolor\":\"white\",\"linecolor\":\"white\",\"ticks\":\"\",\"title\":{\"standoff\":15},\"zerolinecolor\":\"white\",\"automargin\":true,\"zerolinewidth\":2},\"yaxis\":{\"gridcolor\":\"white\",\"linecolor\":\"white\",\"ticks\":\"\",\"title\":{\"standoff\":15},\"zerolinecolor\":\"white\",\"automargin\":true,\"zerolinewidth\":2},\"scene\":{\"xaxis\":{\"backgroundcolor\":\"#E5ECF6\",\"gridcolor\":\"white\",\"linecolor\":\"white\",\"showbackground\":true,\"ticks\":\"\",\"zerolinecolor\":\"white\",\"gridwidth\":2},\"yaxis\":{\"backgroundcolor\":\"#E5ECF6\",\"gridcolor\":\"white\",\"linecolor\":\"white\",\"showbackground\":true,\"ticks\":\"\",\"zerolinecolor\":\"white\",\"gridwidth\":2},\"zaxis\":{\"backgroundcolor\":\"#E5ECF6\",\"gridcolor\":\"white\",\"linecolor\":\"white\",\"showbackground\":true,\"ticks\":\"\",\"zerolinecolor\":\"white\",\"gridwidth\":2}},\"shapedefaults\":{\"line\":{\"color\":\"#2a3f5f\"}},\"annotationdefaults\":{\"arrowcolor\":\"#2a3f5f\",\"arrowhead\":0,\"arrowwidth\":1},\"geo\":{\"bgcolor\":\"white\",\"landcolor\":\"#E5ECF6\",\"subunitcolor\":\"white\",\"showland\":true,\"showlakes\":true,\"lakecolor\":\"white\"},\"title\":{\"x\":0.05},\"mapbox\":{\"style\":\"light\"}}}},                        {\"responsive\": true}                    ).then(function(){\n",
              "                            \n",
              "var gd = document.getElementById('3eafeb90-f7a9-4f70-bb0d-aec17120c199');\n",
              "var x = new MutationObserver(function (mutations, observer) {{\n",
              "        var display = window.getComputedStyle(gd).display;\n",
              "        if (!display || display === 'none') {{\n",
              "            console.log([gd, 'removed!']);\n",
              "            Plotly.purge(gd);\n",
              "            observer.disconnect();\n",
              "        }}\n",
              "}});\n",
              "\n",
              "// Listen for the removal of the full notebook cells\n",
              "var notebookContainer = gd.closest('#notebook-container');\n",
              "if (notebookContainer) {{\n",
              "    x.observe(notebookContainer, {childList: true});\n",
              "}}\n",
              "\n",
              "// Listen for the clearing of the current output cell\n",
              "var outputEl = gd.closest('.output');\n",
              "if (outputEl) {{\n",
              "    x.observe(outputEl, {childList: true});\n",
              "}}\n",
              "\n",
              "                        })                };                            </script>        </div>\n",
              "</body>\n",
              "</html>"
            ]
          },
          "metadata": {}
        }
      ]
    },
    {
      "cell_type": "code",
      "source": [
        "# level3\n",
        "df_color3 = df_color.drop(columns=['level1', 'level2'])\n",
        "df_color3.drop_duplicates(inplace = True, keep='first')\n",
        "# level3\n",
        "erms_template = erms.erms_template()\n",
        "df_level3 = erms_template['level3'].value_counts()\n",
        "df_level3 = df_level3.reset_index()\n",
        "df_level3.columns = ['level3', 'value']\n",
        "df_level3 = df_level3.merge(df_color3, on='level3', how='left')\n",
        "#sort to keep the original order\n",
        "sorter_level3 = list(erms_template['level3'].unique())\n",
        "df_level3.sort_values(by=\"level3\", key=lambda column: column.map(lambda e: sorter_level3.index(e)), inplace=True)\n",
        "# df_level3['lbl'] = str(range(len(df_level3)+1)) + \".\" + df_level3['level3']\n",
        "df_level3['lbl'] = range(len(df_level3))\n",
        "df_level3['lbl'] = df_level3['lbl'] + 1\n",
        "df_level3['lbl'] = df_level3['lbl'].astype(\"string\")\n",
        "df_level3['lbl'] = \"f.\" + df_level3['lbl']\n",
        "df_level3['legend'] = df_level3['lbl'] + \": \" + df_level3['level3']\n",
        "fig_level3 = go.Figure()\n",
        "fig_level3.add_trace(go.Pie(\n",
        "        labels=df_level3['legend'],\n",
        "        values=df_level3['value'],\n",
        "        sort=False,\n",
        "        marker=dict(colors=df_level3['color'], line=dict(color='#000000', width=.25)),\n",
        "        hoverinfo='label',\n",
        "        textinfo='label',\n",
        "        textposition='inside',\n",
        "        textfont_size=7,\n",
        "        # legendgroup='legend'\n",
        "        legendgroup = '3'\n",
        "        ))\n",
        "fig_level3.add_trace(go.Pie(\n",
        "    # top\n",
        "        labels=df_level3['lbl'],\n",
        "        values=df_level3['value'],\n",
        "        sort=False,\n",
        "        marker=dict(colors=df_level3['color'], line=dict(color='#000000', width=.25)),\n",
        "        hoverinfo='label+percent',\n",
        "        textinfo='label',\n",
        "        textposition='inside',\n",
        "        textfont_size=7,\n",
        "        customdata=df_level3[\"legend\"],\n",
        "        hovertemplate='<br>'.join(['%{customdata}']),\n",
        "        showlegend=False,\n",
        "        # legendgroup='legend'\n",
        "        ))\n",
        "fig_level3.show()"
      ],
      "metadata": {
        "colab": {
          "base_uri": "https://localhost:8080/",
          "height": 542
        },
        "id": "2CSKSGy_FKww",
        "outputId": "f6afe59f-28ae-43c0-f9ce-dcb888b9b325"
      },
      "execution_count": 383,
      "outputs": [
        {
          "output_type": "display_data",
          "data": {
            "text/html": [
              "<html>\n",
              "<head><meta charset=\"utf-8\" /></head>\n",
              "<body>\n",
              "    <div>            <script src=\"https://cdnjs.cloudflare.com/ajax/libs/mathjax/2.7.5/MathJax.js?config=TeX-AMS-MML_SVG\"></script><script type=\"text/javascript\">if (window.MathJax && window.MathJax.Hub && window.MathJax.Hub.Config) {window.MathJax.Hub.Config({SVG: {font: \"STIX-Web\"}});}</script>                <script type=\"text/javascript\">window.PlotlyConfig = {MathJaxConfig: 'local'};</script>\n",
              "        <script charset=\"utf-8\" src=\"https://cdn.plot.ly/plotly-2.24.1.min.js\"></script>                <div id=\"57cbcad7-9a2c-451f-995a-d216fcb9e441\" class=\"plotly-graph-div\" style=\"height:525px; width:100%;\"></div>            <script type=\"text/javascript\">                                    window.PLOTLYENV=window.PLOTLYENV || {};                                    if (document.getElementById(\"57cbcad7-9a2c-451f-995a-d216fcb9e441\")) {                    Plotly.newPlot(                        \"57cbcad7-9a2c-451f-995a-d216fcb9e441\",                        [{\"hoverinfo\":\"label\",\"labels\":[\"f.1: Assessment Investigator - Actor\",\"f.2: Investigator Role Type\",\"f.3: Assessment Activity Type\",\"f.4: Assessment Activity Date\",\"f.5: Google Earth Assessment\",\"f.6: GE Imagery Acquisition Date\",\"f.7: Information Resource\",\"f.8: Information Resource Acquisition Date\",\"f.9: Resource Name\",\"f.10: Name Type\",\"f.11: Heritage Place Type\",\"f.12: General Description Type\",\"f.13: General Description\",\"f.14: Heritage Place Function\",\"f.15: Heritage Place Function Certainty \",\"f.16: Designation\",\"f.17: Designation From Date\",\"f.18: Designation To Date\",\"f.19: Geometric Place Expression\",\"f.20: Geometry Qualifier\",\"f.21: Location Certainty\",\"f.22: Geometry Extent Certainty\",\"f.23: Overall Site Shape Type\",\"f.24: Grid ID\",\"f.25: Country Type\",\"f.26: Cadastral Reference\",\"f.27: Resource Orientation\",\"f.28: Address\",\"f.29: Address Type\",\"f.30: Administrative Division \",\"f.31: Administrative Division Type\",\"f.32: Overall Archaeological Certainty Value \",\"f.33: Overall Site Morphology Type\",\"f.34: Cultural Period Type\",\"f.35: Cultural Period Certainty\",\"f.36: Cultural Sub-period Type\",\"f.37: Cultural Sub-period Certainty\",\"f.38: Date Inference Making Actor\",\"f.39: Archaeological From Date\",\"f.40: Archaeological To Date\",\"f.41: BP Date From\",\"f.42: BP Date To\",\"f.43: AH Date From\",\"f.44: AH Date To\",\"f.45: SH Date From\",\"f.46: SH Date to\",\"f.47: Site Feature Form Type\",\"f.48: Site Feature Form Type Certainty\",\"f.49: Site Feature Shape Type\",\"f.50: Site Feature Arrangement Type\",\"f.51: Site Feature Number Type\",\"f.52: Site Feature Interpretation Type\",\"f.53: Site Feature Interpretation Number Type\",\"f.54: Site Feature Interpretation Certainty\",\"f.55: Built Component\",\"f.56: Heritage Place Resource Instance\",\"f.57: Material Class\",\"f.58: Material Type\",\"f.59: Construction Technique\",\"f.60: Measurement Number\",\"f.61: Measurement Unit\",\"f.62: Dimension Type\",\"f.63: Measurement Source Type \",\"f.64: Related Geoarchaeology\\u002fPalaeolandscape\",\"f.65: Overall Condition State Type\",\"f.66: Damage Extent Type\",\"f.67: Disturbance Cause Category Type\",\"f.68: Disturbance Cause Type \",\"f.69: Disturbance Cause Certainty \",\"f.70: Disturbance Date From\",\"f.71: Disturbance Date To \",\"f.72: Disturbance Date Occurred Before\",\"f.73: Disturbance Date Occurred On \",\"f.74: Disturbance Cause Assignment Assessor Name - Actor\",\"f.75: Effect Type\",\"f.76: Effect Certainty\",\"f.77: Threat Category\",\"f.78: Threat Cause Type\",\"f.79: Threat Probability \",\"f.80: Threat Inference Making Assessor Name - Actor\",\"f.81: Intervention Activity Type\",\"f.82: Recommendation Type\",\"f.83: Priority Type\",\"f.84: Detailed Condition Assessments\",\"f.85: Topography Type\",\"f.86: Land Cover Type\",\"f.87: Land Cover Assessment Date\",\"f.88: Surficial Geology Type\",\"f.89: Depositional Process\",\"f.90: Bedrock Geology Type\",\"f.91: Fetch Type\",\"f.92: Wave Climate\",\"f.93: Tidal Range\",\"f.94: Minimum Depth\\u002fMax Elevation\",\"f.95: Maximum Depth\\u002fMin Elevation\",\"f.96: Datum Type\",\"f.97: Datum Description\\u002fEPSG code\",\"f.98: Restricted Access Record Designation\"],\"legendgroup\":\"3\",\"marker\":{\"colors\":[\"#8e0152\",\"#8e0152\",\"#8e0152\",\"#8e0152\",\"#8e0152\",\"#8e0152\",\"#8e0152\",\"#8e0152\",\"#cf4191\",\"#cf4191\",\"#cf4191\",\"#cf4191\",\"#cf4191\",\"#cf4191\",\"#cf4191\",\"#cf4191\",\"#cf4191\",\"#cf4191\",\"#eeadd4\",\"#eeadd4\",\"#eeadd4\",\"#eeadd4\",\"#fbe6f1\",\"#fbe6f1\",\"#fbe6f1\",\"#fbe6f1\",\"#fbe6f1\",\"#fbe6f1\",\"#fbe6f1\",\"#fbe6f1\",\"#fbe6f1\",\"#ebf6db\",\"#ebf6db\",\"#ebf6db\",\"#ebf6db\",\"#ebf6db\",\"#ebf6db\",\"#ebf6db\",\"#ebf6db\",\"#ebf6db\",\"#ebf6db\",\"#ebf6db\",\"#ebf6db\",\"#ebf6db\",\"#ebf6db\",\"#ebf6db\",\"#ebf6db\",\"#ebf6db\",\"#ebf6db\",\"#ebf6db\",\"#ebf6db\",\"#ebf6db\",\"#ebf6db\",\"#ebf6db\",\"#ebf6db\",\"#ebf6db\",\"#ebf6db\",\"#ebf6db\",\"#ebf6db\",\"#ebf6db\",\"#ebf6db\",\"#ebf6db\",\"#ebf6db\",\"#ebf6db\",\"#b0dc7d\",\"#b0dc7d\",\"#b0dc7d\",\"#b0dc7d\",\"#b0dc7d\",\"#b0dc7d\",\"#b0dc7d\",\"#b0dc7d\",\"#b0dc7d\",\"#b0dc7d\",\"#b0dc7d\",\"#b0dc7d\",\"#b0dc7d\",\"#b0dc7d\",\"#b0dc7d\",\"#b0dc7d\",\"#b0dc7d\",\"#b0dc7d\",\"#b0dc7d\",\"#b0dc7d\",\"#62a32e\",\"#62a32e\",\"#62a32e\",\"#62a32e\",\"#62a32e\",\"#62a32e\",\"#62a32e\",\"#62a32e\",\"#62a32e\",\"#62a32e\",\"#62a32e\",\"#62a32e\",\"#62a32e\",\"#276419\"],\"line\":{\"color\":\"#000000\",\"width\":0.25}},\"sort\":false,\"textfont\":{\"size\":7},\"textinfo\":\"label\",\"textposition\":\"inside\",\"values\":[1,1,1,1,1,1,1,1,1,1,1,1,1,1,1,1,1,1,1,1,1,1,1,1,1,1,1,1,1,1,1,1,1,1,1,1,1,1,1,1,1,1,1,1,1,1,1,1,1,1,1,1,1,1,1,1,1,1,1,1,1,1,1,1,1,1,1,1,1,1,1,1,1,1,1,1,1,1,1,1,1,1,1,1,1,1,1,1,1,1,1,1,1,1,1,1,1,1],\"type\":\"pie\"},{\"customdata\":[\"f.1: Assessment Investigator - Actor\",\"f.2: Investigator Role Type\",\"f.3: Assessment Activity Type\",\"f.4: Assessment Activity Date\",\"f.5: Google Earth Assessment\",\"f.6: GE Imagery Acquisition Date\",\"f.7: Information Resource\",\"f.8: Information Resource Acquisition Date\",\"f.9: Resource Name\",\"f.10: Name Type\",\"f.11: Heritage Place Type\",\"f.12: General Description Type\",\"f.13: General Description\",\"f.14: Heritage Place Function\",\"f.15: Heritage Place Function Certainty \",\"f.16: Designation\",\"f.17: Designation From Date\",\"f.18: Designation To Date\",\"f.19: Geometric Place Expression\",\"f.20: Geometry Qualifier\",\"f.21: Location Certainty\",\"f.22: Geometry Extent Certainty\",\"f.23: Overall Site Shape Type\",\"f.24: Grid ID\",\"f.25: Country Type\",\"f.26: Cadastral Reference\",\"f.27: Resource Orientation\",\"f.28: Address\",\"f.29: Address Type\",\"f.30: Administrative Division \",\"f.31: Administrative Division Type\",\"f.32: Overall Archaeological Certainty Value \",\"f.33: Overall Site Morphology Type\",\"f.34: Cultural Period Type\",\"f.35: Cultural Period Certainty\",\"f.36: Cultural Sub-period Type\",\"f.37: Cultural Sub-period Certainty\",\"f.38: Date Inference Making Actor\",\"f.39: Archaeological From Date\",\"f.40: Archaeological To Date\",\"f.41: BP Date From\",\"f.42: BP Date To\",\"f.43: AH Date From\",\"f.44: AH Date To\",\"f.45: SH Date From\",\"f.46: SH Date to\",\"f.47: Site Feature Form Type\",\"f.48: Site Feature Form Type Certainty\",\"f.49: Site Feature Shape Type\",\"f.50: Site Feature Arrangement Type\",\"f.51: Site Feature Number Type\",\"f.52: Site Feature Interpretation Type\",\"f.53: Site Feature Interpretation Number Type\",\"f.54: Site Feature Interpretation Certainty\",\"f.55: Built Component\",\"f.56: Heritage Place Resource Instance\",\"f.57: Material Class\",\"f.58: Material Type\",\"f.59: Construction Technique\",\"f.60: Measurement Number\",\"f.61: Measurement Unit\",\"f.62: Dimension Type\",\"f.63: Measurement Source Type \",\"f.64: Related Geoarchaeology\\u002fPalaeolandscape\",\"f.65: Overall Condition State Type\",\"f.66: Damage Extent Type\",\"f.67: Disturbance Cause Category Type\",\"f.68: Disturbance Cause Type \",\"f.69: Disturbance Cause Certainty \",\"f.70: Disturbance Date From\",\"f.71: Disturbance Date To \",\"f.72: Disturbance Date Occurred Before\",\"f.73: Disturbance Date Occurred On \",\"f.74: Disturbance Cause Assignment Assessor Name - Actor\",\"f.75: Effect Type\",\"f.76: Effect Certainty\",\"f.77: Threat Category\",\"f.78: Threat Cause Type\",\"f.79: Threat Probability \",\"f.80: Threat Inference Making Assessor Name - Actor\",\"f.81: Intervention Activity Type\",\"f.82: Recommendation Type\",\"f.83: Priority Type\",\"f.84: Detailed Condition Assessments\",\"f.85: Topography Type\",\"f.86: Land Cover Type\",\"f.87: Land Cover Assessment Date\",\"f.88: Surficial Geology Type\",\"f.89: Depositional Process\",\"f.90: Bedrock Geology Type\",\"f.91: Fetch Type\",\"f.92: Wave Climate\",\"f.93: Tidal Range\",\"f.94: Minimum Depth\\u002fMax Elevation\",\"f.95: Maximum Depth\\u002fMin Elevation\",\"f.96: Datum Type\",\"f.97: Datum Description\\u002fEPSG code\",\"f.98: Restricted Access Record Designation\"],\"domain\":{\"x\":[0,1]},\"hoverinfo\":\"label+percent\",\"hovertemplate\":\"%{customdata}\",\"labels\":[\"f.1\",\"f.2\",\"f.3\",\"f.4\",\"f.5\",\"f.6\",\"f.7\",\"f.8\",\"f.9\",\"f.10\",\"f.11\",\"f.12\",\"f.13\",\"f.14\",\"f.15\",\"f.16\",\"f.17\",\"f.18\",\"f.19\",\"f.20\",\"f.21\",\"f.22\",\"f.23\",\"f.24\",\"f.25\",\"f.26\",\"f.27\",\"f.28\",\"f.29\",\"f.30\",\"f.31\",\"f.32\",\"f.33\",\"f.34\",\"f.35\",\"f.36\",\"f.37\",\"f.38\",\"f.39\",\"f.40\",\"f.41\",\"f.42\",\"f.43\",\"f.44\",\"f.45\",\"f.46\",\"f.47\",\"f.48\",\"f.49\",\"f.50\",\"f.51\",\"f.52\",\"f.53\",\"f.54\",\"f.55\",\"f.56\",\"f.57\",\"f.58\",\"f.59\",\"f.60\",\"f.61\",\"f.62\",\"f.63\",\"f.64\",\"f.65\",\"f.66\",\"f.67\",\"f.68\",\"f.69\",\"f.70\",\"f.71\",\"f.72\",\"f.73\",\"f.74\",\"f.75\",\"f.76\",\"f.77\",\"f.78\",\"f.79\",\"f.80\",\"f.81\",\"f.82\",\"f.83\",\"f.84\",\"f.85\",\"f.86\",\"f.87\",\"f.88\",\"f.89\",\"f.90\",\"f.91\",\"f.92\",\"f.93\",\"f.94\",\"f.95\",\"f.96\",\"f.97\",\"f.98\"],\"marker\":{\"colors\":[\"#8e0152\",\"#8e0152\",\"#8e0152\",\"#8e0152\",\"#8e0152\",\"#8e0152\",\"#8e0152\",\"#8e0152\",\"#cf4191\",\"#cf4191\",\"#cf4191\",\"#cf4191\",\"#cf4191\",\"#cf4191\",\"#cf4191\",\"#cf4191\",\"#cf4191\",\"#cf4191\",\"#eeadd4\",\"#eeadd4\",\"#eeadd4\",\"#eeadd4\",\"#fbe6f1\",\"#fbe6f1\",\"#fbe6f1\",\"#fbe6f1\",\"#fbe6f1\",\"#fbe6f1\",\"#fbe6f1\",\"#fbe6f1\",\"#fbe6f1\",\"#ebf6db\",\"#ebf6db\",\"#ebf6db\",\"#ebf6db\",\"#ebf6db\",\"#ebf6db\",\"#ebf6db\",\"#ebf6db\",\"#ebf6db\",\"#ebf6db\",\"#ebf6db\",\"#ebf6db\",\"#ebf6db\",\"#ebf6db\",\"#ebf6db\",\"#ebf6db\",\"#ebf6db\",\"#ebf6db\",\"#ebf6db\",\"#ebf6db\",\"#ebf6db\",\"#ebf6db\",\"#ebf6db\",\"#ebf6db\",\"#ebf6db\",\"#ebf6db\",\"#ebf6db\",\"#ebf6db\",\"#ebf6db\",\"#ebf6db\",\"#ebf6db\",\"#ebf6db\",\"#ebf6db\",\"#b0dc7d\",\"#b0dc7d\",\"#b0dc7d\",\"#b0dc7d\",\"#b0dc7d\",\"#b0dc7d\",\"#b0dc7d\",\"#b0dc7d\",\"#b0dc7d\",\"#b0dc7d\",\"#b0dc7d\",\"#b0dc7d\",\"#b0dc7d\",\"#b0dc7d\",\"#b0dc7d\",\"#b0dc7d\",\"#b0dc7d\",\"#b0dc7d\",\"#b0dc7d\",\"#b0dc7d\",\"#62a32e\",\"#62a32e\",\"#62a32e\",\"#62a32e\",\"#62a32e\",\"#62a32e\",\"#62a32e\",\"#62a32e\",\"#62a32e\",\"#62a32e\",\"#62a32e\",\"#62a32e\",\"#62a32e\",\"#276419\"],\"line\":{\"color\":\"#000000\",\"width\":0.25}},\"showlegend\":false,\"sort\":false,\"textfont\":{\"size\":7},\"textinfo\":\"label\",\"textposition\":\"inside\",\"values\":[1,1,1,1,1,1,1,1,1,1,1,1,1,1,1,1,1,1,1,1,1,1,1,1,1,1,1,1,1,1,1,1,1,1,1,1,1,1,1,1,1,1,1,1,1,1,1,1,1,1,1,1,1,1,1,1,1,1,1,1,1,1,1,1,1,1,1,1,1,1,1,1,1,1,1,1,1,1,1,1,1,1,1,1,1,1,1,1,1,1,1,1,1,1,1,1,1,1],\"type\":\"pie\"}],                        {\"template\":{\"data\":{\"histogram2dcontour\":[{\"type\":\"histogram2dcontour\",\"colorbar\":{\"outlinewidth\":0,\"ticks\":\"\"},\"colorscale\":[[0.0,\"#0d0887\"],[0.1111111111111111,\"#46039f\"],[0.2222222222222222,\"#7201a8\"],[0.3333333333333333,\"#9c179e\"],[0.4444444444444444,\"#bd3786\"],[0.5555555555555556,\"#d8576b\"],[0.6666666666666666,\"#ed7953\"],[0.7777777777777778,\"#fb9f3a\"],[0.8888888888888888,\"#fdca26\"],[1.0,\"#f0f921\"]]}],\"choropleth\":[{\"type\":\"choropleth\",\"colorbar\":{\"outlinewidth\":0,\"ticks\":\"\"}}],\"histogram2d\":[{\"type\":\"histogram2d\",\"colorbar\":{\"outlinewidth\":0,\"ticks\":\"\"},\"colorscale\":[[0.0,\"#0d0887\"],[0.1111111111111111,\"#46039f\"],[0.2222222222222222,\"#7201a8\"],[0.3333333333333333,\"#9c179e\"],[0.4444444444444444,\"#bd3786\"],[0.5555555555555556,\"#d8576b\"],[0.6666666666666666,\"#ed7953\"],[0.7777777777777778,\"#fb9f3a\"],[0.8888888888888888,\"#fdca26\"],[1.0,\"#f0f921\"]]}],\"heatmap\":[{\"type\":\"heatmap\",\"colorbar\":{\"outlinewidth\":0,\"ticks\":\"\"},\"colorscale\":[[0.0,\"#0d0887\"],[0.1111111111111111,\"#46039f\"],[0.2222222222222222,\"#7201a8\"],[0.3333333333333333,\"#9c179e\"],[0.4444444444444444,\"#bd3786\"],[0.5555555555555556,\"#d8576b\"],[0.6666666666666666,\"#ed7953\"],[0.7777777777777778,\"#fb9f3a\"],[0.8888888888888888,\"#fdca26\"],[1.0,\"#f0f921\"]]}],\"heatmapgl\":[{\"type\":\"heatmapgl\",\"colorbar\":{\"outlinewidth\":0,\"ticks\":\"\"},\"colorscale\":[[0.0,\"#0d0887\"],[0.1111111111111111,\"#46039f\"],[0.2222222222222222,\"#7201a8\"],[0.3333333333333333,\"#9c179e\"],[0.4444444444444444,\"#bd3786\"],[0.5555555555555556,\"#d8576b\"],[0.6666666666666666,\"#ed7953\"],[0.7777777777777778,\"#fb9f3a\"],[0.8888888888888888,\"#fdca26\"],[1.0,\"#f0f921\"]]}],\"contourcarpet\":[{\"type\":\"contourcarpet\",\"colorbar\":{\"outlinewidth\":0,\"ticks\":\"\"}}],\"contour\":[{\"type\":\"contour\",\"colorbar\":{\"outlinewidth\":0,\"ticks\":\"\"},\"colorscale\":[[0.0,\"#0d0887\"],[0.1111111111111111,\"#46039f\"],[0.2222222222222222,\"#7201a8\"],[0.3333333333333333,\"#9c179e\"],[0.4444444444444444,\"#bd3786\"],[0.5555555555555556,\"#d8576b\"],[0.6666666666666666,\"#ed7953\"],[0.7777777777777778,\"#fb9f3a\"],[0.8888888888888888,\"#fdca26\"],[1.0,\"#f0f921\"]]}],\"surface\":[{\"type\":\"surface\",\"colorbar\":{\"outlinewidth\":0,\"ticks\":\"\"},\"colorscale\":[[0.0,\"#0d0887\"],[0.1111111111111111,\"#46039f\"],[0.2222222222222222,\"#7201a8\"],[0.3333333333333333,\"#9c179e\"],[0.4444444444444444,\"#bd3786\"],[0.5555555555555556,\"#d8576b\"],[0.6666666666666666,\"#ed7953\"],[0.7777777777777778,\"#fb9f3a\"],[0.8888888888888888,\"#fdca26\"],[1.0,\"#f0f921\"]]}],\"mesh3d\":[{\"type\":\"mesh3d\",\"colorbar\":{\"outlinewidth\":0,\"ticks\":\"\"}}],\"scatter\":[{\"fillpattern\":{\"fillmode\":\"overlay\",\"size\":10,\"solidity\":0.2},\"type\":\"scatter\"}],\"parcoords\":[{\"type\":\"parcoords\",\"line\":{\"colorbar\":{\"outlinewidth\":0,\"ticks\":\"\"}}}],\"scatterpolargl\":[{\"type\":\"scatterpolargl\",\"marker\":{\"colorbar\":{\"outlinewidth\":0,\"ticks\":\"\"}}}],\"bar\":[{\"error_x\":{\"color\":\"#2a3f5f\"},\"error_y\":{\"color\":\"#2a3f5f\"},\"marker\":{\"line\":{\"color\":\"#E5ECF6\",\"width\":0.5},\"pattern\":{\"fillmode\":\"overlay\",\"size\":10,\"solidity\":0.2}},\"type\":\"bar\"}],\"scattergeo\":[{\"type\":\"scattergeo\",\"marker\":{\"colorbar\":{\"outlinewidth\":0,\"ticks\":\"\"}}}],\"scatterpolar\":[{\"type\":\"scatterpolar\",\"marker\":{\"colorbar\":{\"outlinewidth\":0,\"ticks\":\"\"}}}],\"histogram\":[{\"marker\":{\"pattern\":{\"fillmode\":\"overlay\",\"size\":10,\"solidity\":0.2}},\"type\":\"histogram\"}],\"scattergl\":[{\"type\":\"scattergl\",\"marker\":{\"colorbar\":{\"outlinewidth\":0,\"ticks\":\"\"}}}],\"scatter3d\":[{\"type\":\"scatter3d\",\"line\":{\"colorbar\":{\"outlinewidth\":0,\"ticks\":\"\"}},\"marker\":{\"colorbar\":{\"outlinewidth\":0,\"ticks\":\"\"}}}],\"scattermapbox\":[{\"type\":\"scattermapbox\",\"marker\":{\"colorbar\":{\"outlinewidth\":0,\"ticks\":\"\"}}}],\"scatterternary\":[{\"type\":\"scatterternary\",\"marker\":{\"colorbar\":{\"outlinewidth\":0,\"ticks\":\"\"}}}],\"scattercarpet\":[{\"type\":\"scattercarpet\",\"marker\":{\"colorbar\":{\"outlinewidth\":0,\"ticks\":\"\"}}}],\"carpet\":[{\"aaxis\":{\"endlinecolor\":\"#2a3f5f\",\"gridcolor\":\"white\",\"linecolor\":\"white\",\"minorgridcolor\":\"white\",\"startlinecolor\":\"#2a3f5f\"},\"baxis\":{\"endlinecolor\":\"#2a3f5f\",\"gridcolor\":\"white\",\"linecolor\":\"white\",\"minorgridcolor\":\"white\",\"startlinecolor\":\"#2a3f5f\"},\"type\":\"carpet\"}],\"table\":[{\"cells\":{\"fill\":{\"color\":\"#EBF0F8\"},\"line\":{\"color\":\"white\"}},\"header\":{\"fill\":{\"color\":\"#C8D4E3\"},\"line\":{\"color\":\"white\"}},\"type\":\"table\"}],\"barpolar\":[{\"marker\":{\"line\":{\"color\":\"#E5ECF6\",\"width\":0.5},\"pattern\":{\"fillmode\":\"overlay\",\"size\":10,\"solidity\":0.2}},\"type\":\"barpolar\"}],\"pie\":[{\"automargin\":true,\"type\":\"pie\"}]},\"layout\":{\"autotypenumbers\":\"strict\",\"colorway\":[\"#636efa\",\"#EF553B\",\"#00cc96\",\"#ab63fa\",\"#FFA15A\",\"#19d3f3\",\"#FF6692\",\"#B6E880\",\"#FF97FF\",\"#FECB52\"],\"font\":{\"color\":\"#2a3f5f\"},\"hovermode\":\"closest\",\"hoverlabel\":{\"align\":\"left\"},\"paper_bgcolor\":\"white\",\"plot_bgcolor\":\"#E5ECF6\",\"polar\":{\"bgcolor\":\"#E5ECF6\",\"angularaxis\":{\"gridcolor\":\"white\",\"linecolor\":\"white\",\"ticks\":\"\"},\"radialaxis\":{\"gridcolor\":\"white\",\"linecolor\":\"white\",\"ticks\":\"\"}},\"ternary\":{\"bgcolor\":\"#E5ECF6\",\"aaxis\":{\"gridcolor\":\"white\",\"linecolor\":\"white\",\"ticks\":\"\"},\"baxis\":{\"gridcolor\":\"white\",\"linecolor\":\"white\",\"ticks\":\"\"},\"caxis\":{\"gridcolor\":\"white\",\"linecolor\":\"white\",\"ticks\":\"\"}},\"coloraxis\":{\"colorbar\":{\"outlinewidth\":0,\"ticks\":\"\"}},\"colorscale\":{\"sequential\":[[0.0,\"#0d0887\"],[0.1111111111111111,\"#46039f\"],[0.2222222222222222,\"#7201a8\"],[0.3333333333333333,\"#9c179e\"],[0.4444444444444444,\"#bd3786\"],[0.5555555555555556,\"#d8576b\"],[0.6666666666666666,\"#ed7953\"],[0.7777777777777778,\"#fb9f3a\"],[0.8888888888888888,\"#fdca26\"],[1.0,\"#f0f921\"]],\"sequentialminus\":[[0.0,\"#0d0887\"],[0.1111111111111111,\"#46039f\"],[0.2222222222222222,\"#7201a8\"],[0.3333333333333333,\"#9c179e\"],[0.4444444444444444,\"#bd3786\"],[0.5555555555555556,\"#d8576b\"],[0.6666666666666666,\"#ed7953\"],[0.7777777777777778,\"#fb9f3a\"],[0.8888888888888888,\"#fdca26\"],[1.0,\"#f0f921\"]],\"diverging\":[[0,\"#8e0152\"],[0.1,\"#c51b7d\"],[0.2,\"#de77ae\"],[0.3,\"#f1b6da\"],[0.4,\"#fde0ef\"],[0.5,\"#f7f7f7\"],[0.6,\"#e6f5d0\"],[0.7,\"#b8e186\"],[0.8,\"#7fbc41\"],[0.9,\"#4d9221\"],[1,\"#276419\"]]},\"xaxis\":{\"gridcolor\":\"white\",\"linecolor\":\"white\",\"ticks\":\"\",\"title\":{\"standoff\":15},\"zerolinecolor\":\"white\",\"automargin\":true,\"zerolinewidth\":2},\"yaxis\":{\"gridcolor\":\"white\",\"linecolor\":\"white\",\"ticks\":\"\",\"title\":{\"standoff\":15},\"zerolinecolor\":\"white\",\"automargin\":true,\"zerolinewidth\":2},\"scene\":{\"xaxis\":{\"backgroundcolor\":\"#E5ECF6\",\"gridcolor\":\"white\",\"linecolor\":\"white\",\"showbackground\":true,\"ticks\":\"\",\"zerolinecolor\":\"white\",\"gridwidth\":2},\"yaxis\":{\"backgroundcolor\":\"#E5ECF6\",\"gridcolor\":\"white\",\"linecolor\":\"white\",\"showbackground\":true,\"ticks\":\"\",\"zerolinecolor\":\"white\",\"gridwidth\":2},\"zaxis\":{\"backgroundcolor\":\"#E5ECF6\",\"gridcolor\":\"white\",\"linecolor\":\"white\",\"showbackground\":true,\"ticks\":\"\",\"zerolinecolor\":\"white\",\"gridwidth\":2}},\"shapedefaults\":{\"line\":{\"color\":\"#2a3f5f\"}},\"annotationdefaults\":{\"arrowcolor\":\"#2a3f5f\",\"arrowhead\":0,\"arrowwidth\":1},\"geo\":{\"bgcolor\":\"white\",\"landcolor\":\"#E5ECF6\",\"subunitcolor\":\"white\",\"showland\":true,\"showlakes\":true,\"lakecolor\":\"white\"},\"title\":{\"x\":0.05},\"mapbox\":{\"style\":\"light\"}}}},                        {\"responsive\": true}                    ).then(function(){\n",
              "                            \n",
              "var gd = document.getElementById('57cbcad7-9a2c-451f-995a-d216fcb9e441');\n",
              "var x = new MutationObserver(function (mutations, observer) {{\n",
              "        var display = window.getComputedStyle(gd).display;\n",
              "        if (!display || display === 'none') {{\n",
              "            console.log([gd, 'removed!']);\n",
              "            Plotly.purge(gd);\n",
              "            observer.disconnect();\n",
              "        }}\n",
              "}});\n",
              "\n",
              "// Listen for the removal of the full notebook cells\n",
              "var notebookContainer = gd.closest('#notebook-container');\n",
              "if (notebookContainer) {{\n",
              "    x.observe(notebookContainer, {childList: true});\n",
              "}}\n",
              "\n",
              "// Listen for the clearing of the current output cell\n",
              "var outputEl = gd.closest('.output');\n",
              "if (outputEl) {{\n",
              "    x.observe(outputEl, {childList: true});\n",
              "}}\n",
              "\n",
              "                        })                };                            </script>        </div>\n",
              "</body>\n",
              "</html>"
            ]
          },
          "metadata": {}
        }
      ]
    },
    {
      "cell_type": "code",
      "source": [
        "df_erms_level3 = df_erms.rename(columns={'field': 'level3'})\n",
        "df_level3_template = df_level3.drop('value', axis=1)\n",
        "df_erms_level3 = df_erms_level3.merge(df_level3_template, on='level3', how='left')\n",
        "# white when not within ERMS\n",
        "df_erms_level3.loc[df_erms_level3['value'] == 0, 'color'] = '#ffffff'\n",
        "df_erms_level3['value'] = 1\n",
        "# keep order\n",
        "sorter_level3 = list(erms_template['level3'].unique())\n",
        "df_erms_level3.sort_values(by=\"level3\", key=lambda column: column.map(lambda e: sorter_level3.index(e)), inplace=True)\n",
        "# df_erms_level3\n",
        "fig_erms = go.Figure()\n",
        "# fig_erms.add_trace(go.Pie(\n",
        "#         # top\n",
        "#         labels=df_level3['legend'],\n",
        "#         values=df_level3['value'],\n",
        "#         sort=False,\n",
        "#         marker=dict(colors=df_level3['color'], line=dict(color='#000000', width=.25)),\n",
        "#         hoverinfo='label+percent',\n",
        "#         textinfo='label',\n",
        "#         textposition='inside',\n",
        "#         textfont_size=7,\n",
        "#         # legendgroup='legend'\n",
        "#         ))\n",
        "# fig_erms.add_trace(go.Pie(\n",
        "#         labels=df_level3['lbl'],\n",
        "#         values=df_level3['value'],\n",
        "#         sort=False,\n",
        "#         marker=dict(colors=df_level3['color'], line=dict(color='#000000', width=.25)),\n",
        "#         hoverinfo='label+percent',\n",
        "#         textinfo='label',\n",
        "#         textposition='inside',\n",
        "#         textfont_size=7,\n",
        "#         showlegend=False\n",
        "#         # legendgroup='legend'\n",
        "#         ))\n",
        "fig_erms.add_trace(go.Pie(\n",
        "        # top\n",
        "        labels=df_erms_level3['lbl'],\n",
        "        values=df_erms_level3['value'],\n",
        "        sort=False,\n",
        "        marker=dict(colors=df_erms_level3['color'], line=dict(color='#000000', width=.25)),\n",
        "        hoverinfo='label+percent',\n",
        "        textinfo='label',\n",
        "        textposition='inside',\n",
        "        textfont_size=7,\n",
        "        customdata=df_erms_level3[\"legend\"],\n",
        "        hovertemplate='<br>'.join(['%{customdata}']),\n",
        "        showlegend=False\n",
        "        # legendgroup='legend'\n",
        "        ))\n",
        "fig_erms.show()"
      ],
      "metadata": {
        "colab": {
          "base_uri": "https://localhost:8080/",
          "height": 542
        },
        "id": "w1kiNcU5KiVL",
        "outputId": "a28d20f6-f8f6-4508-f591-1e6e3ac41704"
      },
      "execution_count": 399,
      "outputs": [
        {
          "output_type": "display_data",
          "data": {
            "application/vnd.plotly.v1+json": {
              "data": [
                {
                  "customdata": [
                    "f.1: Assessment Investigator - Actor",
                    "f.2: Investigator Role Type",
                    "f.3: Assessment Activity Type",
                    "f.4: Assessment Activity Date",
                    "f.5: Google Earth Assessment",
                    "f.6: GE Imagery Acquisition Date",
                    "f.7: Information Resource",
                    "f.8: Information Resource Acquisition Date",
                    "f.9: Resource Name",
                    "f.10: Name Type",
                    "f.11: Heritage Place Type",
                    "f.12: General Description Type",
                    "f.13: General Description",
                    "f.14: Heritage Place Function",
                    "f.15: Heritage Place Function Certainty ",
                    "f.16: Designation",
                    "f.17: Designation From Date",
                    "f.18: Designation To Date",
                    "f.19: Geometric Place Expression",
                    "f.20: Geometry Qualifier",
                    "f.21: Location Certainty",
                    "f.22: Geometry Extent Certainty",
                    "f.23: Overall Site Shape Type",
                    "f.24: Grid ID",
                    "f.25: Country Type",
                    "f.26: Cadastral Reference",
                    "f.27: Resource Orientation",
                    "f.28: Address",
                    "f.29: Address Type",
                    "f.30: Administrative Division ",
                    "f.31: Administrative Division Type",
                    "f.32: Overall Archaeological Certainty Value ",
                    "f.33: Overall Site Morphology Type",
                    "f.34: Cultural Period Type",
                    "f.35: Cultural Period Certainty",
                    "f.36: Cultural Sub-period Type",
                    "f.37: Cultural Sub-period Certainty",
                    "f.38: Date Inference Making Actor",
                    "f.39: Archaeological From Date",
                    "f.40: Archaeological To Date",
                    "f.41: BP Date From",
                    "f.42: BP Date To",
                    "f.43: AH Date From",
                    "f.44: AH Date To",
                    "f.45: SH Date From",
                    "f.46: SH Date to",
                    "f.47: Site Feature Form Type",
                    "f.48: Site Feature Form Type Certainty",
                    "f.49: Site Feature Shape Type",
                    "f.50: Site Feature Arrangement Type",
                    "f.51: Site Feature Number Type",
                    "f.52: Site Feature Interpretation Type",
                    "f.53: Site Feature Interpretation Number Type",
                    "f.54: Site Feature Interpretation Certainty",
                    "f.55: Built Component",
                    "f.56: Heritage Place Resource Instance",
                    "f.57: Material Class",
                    "f.58: Material Type",
                    "f.59: Construction Technique",
                    "f.60: Measurement Number",
                    "f.61: Measurement Unit",
                    "f.62: Dimension Type",
                    "f.63: Measurement Source Type ",
                    "f.64: Related Geoarchaeology/Palaeolandscape",
                    "f.65: Overall Condition State Type",
                    "f.66: Damage Extent Type",
                    "f.67: Disturbance Cause Category Type",
                    "f.68: Disturbance Cause Type ",
                    "f.69: Disturbance Cause Certainty ",
                    "f.70: Disturbance Date From",
                    "f.71: Disturbance Date To ",
                    "f.72: Disturbance Date Occurred Before",
                    "f.73: Disturbance Date Occurred On ",
                    "f.74: Disturbance Cause Assignment Assessor Name - Actor",
                    "f.75: Effect Type",
                    "f.76: Effect Certainty",
                    "f.77: Threat Category",
                    "f.78: Threat Cause Type",
                    "f.79: Threat Probability ",
                    "f.80: Threat Inference Making Assessor Name - Actor",
                    "f.81: Intervention Activity Type",
                    "f.82: Recommendation Type",
                    "f.83: Priority Type",
                    "f.84: Detailed Condition Assessments",
                    "f.85: Topography Type",
                    "f.86: Land Cover Type",
                    "f.87: Land Cover Assessment Date",
                    "f.88: Surficial Geology Type",
                    "f.89: Depositional Process",
                    "f.90: Bedrock Geology Type",
                    "f.91: Fetch Type",
                    "f.92: Wave Climate",
                    "f.93: Tidal Range",
                    "f.94: Minimum Depth/Max Elevation",
                    "f.95: Maximum Depth/Min Elevation",
                    "f.96: Datum Type",
                    "f.97: Datum Description/EPSG code",
                    "f.98: Restricted Access Record Designation"
                  ],
                  "hoverinfo": "label+percent",
                  "hovertemplate": "%{customdata}",
                  "labels": [
                    "f.1",
                    "f.2",
                    "f.3",
                    "f.4",
                    "f.5",
                    "f.6",
                    "f.7",
                    "f.8",
                    "f.9",
                    "f.10",
                    "f.11",
                    "f.12",
                    "f.13",
                    "f.14",
                    "f.15",
                    "f.16",
                    "f.17",
                    "f.18",
                    "f.19",
                    "f.20",
                    "f.21",
                    "f.22",
                    "f.23",
                    "f.24",
                    "f.25",
                    "f.26",
                    "f.27",
                    "f.28",
                    "f.29",
                    "f.30",
                    "f.31",
                    "f.32",
                    "f.33",
                    "f.34",
                    "f.35",
                    "f.36",
                    "f.37",
                    "f.38",
                    "f.39",
                    "f.40",
                    "f.41",
                    "f.42",
                    "f.43",
                    "f.44",
                    "f.45",
                    "f.46",
                    "f.47",
                    "f.48",
                    "f.49",
                    "f.50",
                    "f.51",
                    "f.52",
                    "f.53",
                    "f.54",
                    "f.55",
                    "f.56",
                    "f.57",
                    "f.58",
                    "f.59",
                    "f.60",
                    "f.61",
                    "f.62",
                    "f.63",
                    "f.64",
                    "f.65",
                    "f.66",
                    "f.67",
                    "f.68",
                    "f.69",
                    "f.70",
                    "f.71",
                    "f.72",
                    "f.73",
                    "f.74",
                    "f.75",
                    "f.76",
                    "f.77",
                    "f.78",
                    "f.79",
                    "f.80",
                    "f.81",
                    "f.82",
                    "f.83",
                    "f.84",
                    "f.85",
                    "f.86",
                    "f.87",
                    "f.88",
                    "f.89",
                    "f.90",
                    "f.91",
                    "f.92",
                    "f.93",
                    "f.94",
                    "f.95",
                    "f.96",
                    "f.97",
                    "f.98"
                  ],
                  "marker": {
                    "colors": [
                      "#ffffff",
                      "#8e0152",
                      "#ffffff",
                      "#ffffff",
                      "#ffffff",
                      "#8e0152",
                      "#ffffff",
                      "#ffffff",
                      "#ffffff",
                      "#ffffff",
                      "#ffffff",
                      "#ffffff",
                      "#ffffff",
                      "#cf4191",
                      "#cf4191",
                      "#ffffff",
                      "#ffffff",
                      "#ffffff",
                      "#eeadd4",
                      "#ffffff",
                      "#ffffff",
                      "#ffffff",
                      "#ffffff",
                      "#fbe6f1",
                      "#ffffff",
                      "#ffffff",
                      "#ffffff",
                      "#ffffff",
                      "#ffffff",
                      "#ffffff",
                      "#ffffff",
                      "#ebf6db",
                      "#ebf6db",
                      "#ffffff",
                      "#ebf6db",
                      "#ffffff",
                      "#ffffff",
                      "#ffffff",
                      "#ffffff",
                      "#ffffff",
                      "#ffffff",
                      "#ffffff",
                      "#ffffff",
                      "#ffffff",
                      "#ffffff",
                      "#ffffff",
                      "#ffffff",
                      "#ffffff",
                      "#ffffff",
                      "#ffffff",
                      "#ffffff",
                      "#ffffff",
                      "#ebf6db",
                      "#ebf6db",
                      "#ffffff",
                      "#ffffff",
                      "#ffffff",
                      "#ffffff",
                      "#ffffff",
                      "#ffffff",
                      "#ffffff",
                      "#ffffff",
                      "#ffffff",
                      "#ffffff",
                      "#b0dc7d",
                      "#ffffff",
                      "#b0dc7d",
                      "#b0dc7d",
                      "#b0dc7d",
                      "#ffffff",
                      "#ffffff",
                      "#ffffff",
                      "#ffffff",
                      "#ffffff",
                      "#ffffff",
                      "#ffffff",
                      "#b0dc7d",
                      "#b0dc7d",
                      "#ffffff",
                      "#ffffff",
                      "#ffffff",
                      "#ffffff",
                      "#ffffff",
                      "#ffffff",
                      "#ffffff",
                      "#ffffff",
                      "#ffffff",
                      "#ffffff",
                      "#ffffff",
                      "#ffffff",
                      "#ffffff",
                      "#ffffff",
                      "#ffffff",
                      "#ffffff",
                      "#ffffff",
                      "#ffffff",
                      "#ffffff",
                      "#ffffff"
                    ],
                    "line": {
                      "color": "#000000",
                      "width": 0.25
                    }
                  },
                  "showlegend": false,
                  "sort": false,
                  "textfont": {
                    "size": 7
                  },
                  "textinfo": "label",
                  "textposition": "inside",
                  "values": [
                    1,
                    1,
                    1,
                    1,
                    1,
                    1,
                    1,
                    1,
                    1,
                    1,
                    1,
                    1,
                    1,
                    1,
                    1,
                    1,
                    1,
                    1,
                    1,
                    1,
                    1,
                    1,
                    1,
                    1,
                    1,
                    1,
                    1,
                    1,
                    1,
                    1,
                    1,
                    1,
                    1,
                    1,
                    1,
                    1,
                    1,
                    1,
                    1,
                    1,
                    1,
                    1,
                    1,
                    1,
                    1,
                    1,
                    1,
                    1,
                    1,
                    1,
                    1,
                    1,
                    1,
                    1,
                    1,
                    1,
                    1,
                    1,
                    1,
                    1,
                    1,
                    1,
                    1,
                    1,
                    1,
                    1,
                    1,
                    1,
                    1,
                    1,
                    1,
                    1,
                    1,
                    1,
                    1,
                    1,
                    1,
                    1,
                    1,
                    1,
                    1,
                    1,
                    1,
                    1,
                    1,
                    1,
                    1,
                    1,
                    1,
                    1,
                    1,
                    1,
                    1,
                    1,
                    1,
                    1,
                    1,
                    1
                  ],
                  "type": "pie"
                }
              ],
              "layout": {
                "template": {
                  "data": {
                    "histogram2dcontour": [
                      {
                        "type": "histogram2dcontour",
                        "colorbar": {
                          "outlinewidth": 0,
                          "ticks": ""
                        },
                        "colorscale": [
                          [
                            0,
                            "#0d0887"
                          ],
                          [
                            0.1111111111111111,
                            "#46039f"
                          ],
                          [
                            0.2222222222222222,
                            "#7201a8"
                          ],
                          [
                            0.3333333333333333,
                            "#9c179e"
                          ],
                          [
                            0.4444444444444444,
                            "#bd3786"
                          ],
                          [
                            0.5555555555555556,
                            "#d8576b"
                          ],
                          [
                            0.6666666666666666,
                            "#ed7953"
                          ],
                          [
                            0.7777777777777778,
                            "#fb9f3a"
                          ],
                          [
                            0.8888888888888888,
                            "#fdca26"
                          ],
                          [
                            1,
                            "#f0f921"
                          ]
                        ]
                      }
                    ],
                    "choropleth": [
                      {
                        "type": "choropleth",
                        "colorbar": {
                          "outlinewidth": 0,
                          "ticks": ""
                        }
                      }
                    ],
                    "histogram2d": [
                      {
                        "type": "histogram2d",
                        "colorbar": {
                          "outlinewidth": 0,
                          "ticks": ""
                        },
                        "colorscale": [
                          [
                            0,
                            "#0d0887"
                          ],
                          [
                            0.1111111111111111,
                            "#46039f"
                          ],
                          [
                            0.2222222222222222,
                            "#7201a8"
                          ],
                          [
                            0.3333333333333333,
                            "#9c179e"
                          ],
                          [
                            0.4444444444444444,
                            "#bd3786"
                          ],
                          [
                            0.5555555555555556,
                            "#d8576b"
                          ],
                          [
                            0.6666666666666666,
                            "#ed7953"
                          ],
                          [
                            0.7777777777777778,
                            "#fb9f3a"
                          ],
                          [
                            0.8888888888888888,
                            "#fdca26"
                          ],
                          [
                            1,
                            "#f0f921"
                          ]
                        ]
                      }
                    ],
                    "heatmap": [
                      {
                        "type": "heatmap",
                        "colorbar": {
                          "outlinewidth": 0,
                          "ticks": ""
                        },
                        "colorscale": [
                          [
                            0,
                            "#0d0887"
                          ],
                          [
                            0.1111111111111111,
                            "#46039f"
                          ],
                          [
                            0.2222222222222222,
                            "#7201a8"
                          ],
                          [
                            0.3333333333333333,
                            "#9c179e"
                          ],
                          [
                            0.4444444444444444,
                            "#bd3786"
                          ],
                          [
                            0.5555555555555556,
                            "#d8576b"
                          ],
                          [
                            0.6666666666666666,
                            "#ed7953"
                          ],
                          [
                            0.7777777777777778,
                            "#fb9f3a"
                          ],
                          [
                            0.8888888888888888,
                            "#fdca26"
                          ],
                          [
                            1,
                            "#f0f921"
                          ]
                        ]
                      }
                    ],
                    "heatmapgl": [
                      {
                        "type": "heatmapgl",
                        "colorbar": {
                          "outlinewidth": 0,
                          "ticks": ""
                        },
                        "colorscale": [
                          [
                            0,
                            "#0d0887"
                          ],
                          [
                            0.1111111111111111,
                            "#46039f"
                          ],
                          [
                            0.2222222222222222,
                            "#7201a8"
                          ],
                          [
                            0.3333333333333333,
                            "#9c179e"
                          ],
                          [
                            0.4444444444444444,
                            "#bd3786"
                          ],
                          [
                            0.5555555555555556,
                            "#d8576b"
                          ],
                          [
                            0.6666666666666666,
                            "#ed7953"
                          ],
                          [
                            0.7777777777777778,
                            "#fb9f3a"
                          ],
                          [
                            0.8888888888888888,
                            "#fdca26"
                          ],
                          [
                            1,
                            "#f0f921"
                          ]
                        ]
                      }
                    ],
                    "contourcarpet": [
                      {
                        "type": "contourcarpet",
                        "colorbar": {
                          "outlinewidth": 0,
                          "ticks": ""
                        }
                      }
                    ],
                    "contour": [
                      {
                        "type": "contour",
                        "colorbar": {
                          "outlinewidth": 0,
                          "ticks": ""
                        },
                        "colorscale": [
                          [
                            0,
                            "#0d0887"
                          ],
                          [
                            0.1111111111111111,
                            "#46039f"
                          ],
                          [
                            0.2222222222222222,
                            "#7201a8"
                          ],
                          [
                            0.3333333333333333,
                            "#9c179e"
                          ],
                          [
                            0.4444444444444444,
                            "#bd3786"
                          ],
                          [
                            0.5555555555555556,
                            "#d8576b"
                          ],
                          [
                            0.6666666666666666,
                            "#ed7953"
                          ],
                          [
                            0.7777777777777778,
                            "#fb9f3a"
                          ],
                          [
                            0.8888888888888888,
                            "#fdca26"
                          ],
                          [
                            1,
                            "#f0f921"
                          ]
                        ]
                      }
                    ],
                    "surface": [
                      {
                        "type": "surface",
                        "colorbar": {
                          "outlinewidth": 0,
                          "ticks": ""
                        },
                        "colorscale": [
                          [
                            0,
                            "#0d0887"
                          ],
                          [
                            0.1111111111111111,
                            "#46039f"
                          ],
                          [
                            0.2222222222222222,
                            "#7201a8"
                          ],
                          [
                            0.3333333333333333,
                            "#9c179e"
                          ],
                          [
                            0.4444444444444444,
                            "#bd3786"
                          ],
                          [
                            0.5555555555555556,
                            "#d8576b"
                          ],
                          [
                            0.6666666666666666,
                            "#ed7953"
                          ],
                          [
                            0.7777777777777778,
                            "#fb9f3a"
                          ],
                          [
                            0.8888888888888888,
                            "#fdca26"
                          ],
                          [
                            1,
                            "#f0f921"
                          ]
                        ]
                      }
                    ],
                    "mesh3d": [
                      {
                        "type": "mesh3d",
                        "colorbar": {
                          "outlinewidth": 0,
                          "ticks": ""
                        }
                      }
                    ],
                    "scatter": [
                      {
                        "fillpattern": {
                          "fillmode": "overlay",
                          "size": 10,
                          "solidity": 0.2
                        },
                        "type": "scatter"
                      }
                    ],
                    "parcoords": [
                      {
                        "type": "parcoords",
                        "line": {
                          "colorbar": {
                            "outlinewidth": 0,
                            "ticks": ""
                          }
                        }
                      }
                    ],
                    "scatterpolargl": [
                      {
                        "type": "scatterpolargl",
                        "marker": {
                          "colorbar": {
                            "outlinewidth": 0,
                            "ticks": ""
                          }
                        }
                      }
                    ],
                    "bar": [
                      {
                        "error_x": {
                          "color": "#2a3f5f"
                        },
                        "error_y": {
                          "color": "#2a3f5f"
                        },
                        "marker": {
                          "line": {
                            "color": "#E5ECF6",
                            "width": 0.5
                          },
                          "pattern": {
                            "fillmode": "overlay",
                            "size": 10,
                            "solidity": 0.2
                          }
                        },
                        "type": "bar"
                      }
                    ],
                    "scattergeo": [
                      {
                        "type": "scattergeo",
                        "marker": {
                          "colorbar": {
                            "outlinewidth": 0,
                            "ticks": ""
                          }
                        }
                      }
                    ],
                    "scatterpolar": [
                      {
                        "type": "scatterpolar",
                        "marker": {
                          "colorbar": {
                            "outlinewidth": 0,
                            "ticks": ""
                          }
                        }
                      }
                    ],
                    "histogram": [
                      {
                        "marker": {
                          "pattern": {
                            "fillmode": "overlay",
                            "size": 10,
                            "solidity": 0.2
                          }
                        },
                        "type": "histogram"
                      }
                    ],
                    "scattergl": [
                      {
                        "type": "scattergl",
                        "marker": {
                          "colorbar": {
                            "outlinewidth": 0,
                            "ticks": ""
                          }
                        }
                      }
                    ],
                    "scatter3d": [
                      {
                        "type": "scatter3d",
                        "line": {
                          "colorbar": {
                            "outlinewidth": 0,
                            "ticks": ""
                          }
                        },
                        "marker": {
                          "colorbar": {
                            "outlinewidth": 0,
                            "ticks": ""
                          }
                        }
                      }
                    ],
                    "scattermapbox": [
                      {
                        "type": "scattermapbox",
                        "marker": {
                          "colorbar": {
                            "outlinewidth": 0,
                            "ticks": ""
                          }
                        }
                      }
                    ],
                    "scatterternary": [
                      {
                        "type": "scatterternary",
                        "marker": {
                          "colorbar": {
                            "outlinewidth": 0,
                            "ticks": ""
                          }
                        }
                      }
                    ],
                    "scattercarpet": [
                      {
                        "type": "scattercarpet",
                        "marker": {
                          "colorbar": {
                            "outlinewidth": 0,
                            "ticks": ""
                          }
                        }
                      }
                    ],
                    "carpet": [
                      {
                        "aaxis": {
                          "endlinecolor": "#2a3f5f",
                          "gridcolor": "white",
                          "linecolor": "white",
                          "minorgridcolor": "white",
                          "startlinecolor": "#2a3f5f"
                        },
                        "baxis": {
                          "endlinecolor": "#2a3f5f",
                          "gridcolor": "white",
                          "linecolor": "white",
                          "minorgridcolor": "white",
                          "startlinecolor": "#2a3f5f"
                        },
                        "type": "carpet"
                      }
                    ],
                    "table": [
                      {
                        "cells": {
                          "fill": {
                            "color": "#EBF0F8"
                          },
                          "line": {
                            "color": "white"
                          }
                        },
                        "header": {
                          "fill": {
                            "color": "#C8D4E3"
                          },
                          "line": {
                            "color": "white"
                          }
                        },
                        "type": "table"
                      }
                    ],
                    "barpolar": [
                      {
                        "marker": {
                          "line": {
                            "color": "#E5ECF6",
                            "width": 0.5
                          },
                          "pattern": {
                            "fillmode": "overlay",
                            "size": 10,
                            "solidity": 0.2
                          }
                        },
                        "type": "barpolar"
                      }
                    ],
                    "pie": [
                      {
                        "automargin": true,
                        "type": "pie"
                      }
                    ]
                  },
                  "layout": {
                    "autotypenumbers": "strict",
                    "colorway": [
                      "#636efa",
                      "#EF553B",
                      "#00cc96",
                      "#ab63fa",
                      "#FFA15A",
                      "#19d3f3",
                      "#FF6692",
                      "#B6E880",
                      "#FF97FF",
                      "#FECB52"
                    ],
                    "font": {
                      "color": "#2a3f5f"
                    },
                    "hovermode": "closest",
                    "hoverlabel": {
                      "align": "left"
                    },
                    "paper_bgcolor": "white",
                    "plot_bgcolor": "#E5ECF6",
                    "polar": {
                      "bgcolor": "#E5ECF6",
                      "angularaxis": {
                        "gridcolor": "white",
                        "linecolor": "white",
                        "ticks": ""
                      },
                      "radialaxis": {
                        "gridcolor": "white",
                        "linecolor": "white",
                        "ticks": ""
                      }
                    },
                    "ternary": {
                      "bgcolor": "#E5ECF6",
                      "aaxis": {
                        "gridcolor": "white",
                        "linecolor": "white",
                        "ticks": ""
                      },
                      "baxis": {
                        "gridcolor": "white",
                        "linecolor": "white",
                        "ticks": ""
                      },
                      "caxis": {
                        "gridcolor": "white",
                        "linecolor": "white",
                        "ticks": ""
                      }
                    },
                    "coloraxis": {
                      "colorbar": {
                        "outlinewidth": 0,
                        "ticks": ""
                      }
                    },
                    "colorscale": {
                      "sequential": [
                        [
                          0,
                          "#0d0887"
                        ],
                        [
                          0.1111111111111111,
                          "#46039f"
                        ],
                        [
                          0.2222222222222222,
                          "#7201a8"
                        ],
                        [
                          0.3333333333333333,
                          "#9c179e"
                        ],
                        [
                          0.4444444444444444,
                          "#bd3786"
                        ],
                        [
                          0.5555555555555556,
                          "#d8576b"
                        ],
                        [
                          0.6666666666666666,
                          "#ed7953"
                        ],
                        [
                          0.7777777777777778,
                          "#fb9f3a"
                        ],
                        [
                          0.8888888888888888,
                          "#fdca26"
                        ],
                        [
                          1,
                          "#f0f921"
                        ]
                      ],
                      "sequentialminus": [
                        [
                          0,
                          "#0d0887"
                        ],
                        [
                          0.1111111111111111,
                          "#46039f"
                        ],
                        [
                          0.2222222222222222,
                          "#7201a8"
                        ],
                        [
                          0.3333333333333333,
                          "#9c179e"
                        ],
                        [
                          0.4444444444444444,
                          "#bd3786"
                        ],
                        [
                          0.5555555555555556,
                          "#d8576b"
                        ],
                        [
                          0.6666666666666666,
                          "#ed7953"
                        ],
                        [
                          0.7777777777777778,
                          "#fb9f3a"
                        ],
                        [
                          0.8888888888888888,
                          "#fdca26"
                        ],
                        [
                          1,
                          "#f0f921"
                        ]
                      ],
                      "diverging": [
                        [
                          0,
                          "#8e0152"
                        ],
                        [
                          0.1,
                          "#c51b7d"
                        ],
                        [
                          0.2,
                          "#de77ae"
                        ],
                        [
                          0.3,
                          "#f1b6da"
                        ],
                        [
                          0.4,
                          "#fde0ef"
                        ],
                        [
                          0.5,
                          "#f7f7f7"
                        ],
                        [
                          0.6,
                          "#e6f5d0"
                        ],
                        [
                          0.7,
                          "#b8e186"
                        ],
                        [
                          0.8,
                          "#7fbc41"
                        ],
                        [
                          0.9,
                          "#4d9221"
                        ],
                        [
                          1,
                          "#276419"
                        ]
                      ]
                    },
                    "xaxis": {
                      "gridcolor": "white",
                      "linecolor": "white",
                      "ticks": "",
                      "title": {
                        "standoff": 15
                      },
                      "zerolinecolor": "white",
                      "automargin": true,
                      "zerolinewidth": 2
                    },
                    "yaxis": {
                      "gridcolor": "white",
                      "linecolor": "white",
                      "ticks": "",
                      "title": {
                        "standoff": 15
                      },
                      "zerolinecolor": "white",
                      "automargin": true,
                      "zerolinewidth": 2
                    },
                    "scene": {
                      "xaxis": {
                        "backgroundcolor": "#E5ECF6",
                        "gridcolor": "white",
                        "linecolor": "white",
                        "showbackground": true,
                        "ticks": "",
                        "zerolinecolor": "white",
                        "gridwidth": 2
                      },
                      "yaxis": {
                        "backgroundcolor": "#E5ECF6",
                        "gridcolor": "white",
                        "linecolor": "white",
                        "showbackground": true,
                        "ticks": "",
                        "zerolinecolor": "white",
                        "gridwidth": 2
                      },
                      "zaxis": {
                        "backgroundcolor": "#E5ECF6",
                        "gridcolor": "white",
                        "linecolor": "white",
                        "showbackground": true,
                        "ticks": "",
                        "zerolinecolor": "white",
                        "gridwidth": 2
                      }
                    },
                    "shapedefaults": {
                      "line": {
                        "color": "#2a3f5f"
                      }
                    },
                    "annotationdefaults": {
                      "arrowcolor": "#2a3f5f",
                      "arrowhead": 0,
                      "arrowwidth": 1
                    },
                    "geo": {
                      "bgcolor": "white",
                      "landcolor": "#E5ECF6",
                      "subunitcolor": "white",
                      "showland": true,
                      "showlakes": true,
                      "lakecolor": "white"
                    },
                    "title": {
                      "x": 0.05
                    },
                    "mapbox": {
                      "style": "light"
                    }
                  }
                }
              },
              "config": {
                "plotlyServerURL": "https://plot.ly"
              }
            },
            "text/html": [
              "<div>                            <div id=\"a7b16b0e-0cec-4237-b96b-7fca4d4b5676\" class=\"plotly-graph-div\" style=\"height:525px; width:100%;\"></div>            <script type=\"text/javascript\">                require([\"plotly\"], function(Plotly) {                    window.PLOTLYENV=window.PLOTLYENV || {};                                    if (document.getElementById(\"a7b16b0e-0cec-4237-b96b-7fca4d4b5676\")) {                    Plotly.newPlot(                        \"a7b16b0e-0cec-4237-b96b-7fca4d4b5676\",                        [{\"customdata\":[\"f.1: Assessment Investigator - Actor\",\"f.2: Investigator Role Type\",\"f.3: Assessment Activity Type\",\"f.4: Assessment Activity Date\",\"f.5: Google Earth Assessment\",\"f.6: GE Imagery Acquisition Date\",\"f.7: Information Resource\",\"f.8: Information Resource Acquisition Date\",\"f.9: Resource Name\",\"f.10: Name Type\",\"f.11: Heritage Place Type\",\"f.12: General Description Type\",\"f.13: General Description\",\"f.14: Heritage Place Function\",\"f.15: Heritage Place Function Certainty \",\"f.16: Designation\",\"f.17: Designation From Date\",\"f.18: Designation To Date\",\"f.19: Geometric Place Expression\",\"f.20: Geometry Qualifier\",\"f.21: Location Certainty\",\"f.22: Geometry Extent Certainty\",\"f.23: Overall Site Shape Type\",\"f.24: Grid ID\",\"f.25: Country Type\",\"f.26: Cadastral Reference\",\"f.27: Resource Orientation\",\"f.28: Address\",\"f.29: Address Type\",\"f.30: Administrative Division \",\"f.31: Administrative Division Type\",\"f.32: Overall Archaeological Certainty Value \",\"f.33: Overall Site Morphology Type\",\"f.34: Cultural Period Type\",\"f.35: Cultural Period Certainty\",\"f.36: Cultural Sub-period Type\",\"f.37: Cultural Sub-period Certainty\",\"f.38: Date Inference Making Actor\",\"f.39: Archaeological From Date\",\"f.40: Archaeological To Date\",\"f.41: BP Date From\",\"f.42: BP Date To\",\"f.43: AH Date From\",\"f.44: AH Date To\",\"f.45: SH Date From\",\"f.46: SH Date to\",\"f.47: Site Feature Form Type\",\"f.48: Site Feature Form Type Certainty\",\"f.49: Site Feature Shape Type\",\"f.50: Site Feature Arrangement Type\",\"f.51: Site Feature Number Type\",\"f.52: Site Feature Interpretation Type\",\"f.53: Site Feature Interpretation Number Type\",\"f.54: Site Feature Interpretation Certainty\",\"f.55: Built Component\",\"f.56: Heritage Place Resource Instance\",\"f.57: Material Class\",\"f.58: Material Type\",\"f.59: Construction Technique\",\"f.60: Measurement Number\",\"f.61: Measurement Unit\",\"f.62: Dimension Type\",\"f.63: Measurement Source Type \",\"f.64: Related Geoarchaeology\\u002fPalaeolandscape\",\"f.65: Overall Condition State Type\",\"f.66: Damage Extent Type\",\"f.67: Disturbance Cause Category Type\",\"f.68: Disturbance Cause Type \",\"f.69: Disturbance Cause Certainty \",\"f.70: Disturbance Date From\",\"f.71: Disturbance Date To \",\"f.72: Disturbance Date Occurred Before\",\"f.73: Disturbance Date Occurred On \",\"f.74: Disturbance Cause Assignment Assessor Name - Actor\",\"f.75: Effect Type\",\"f.76: Effect Certainty\",\"f.77: Threat Category\",\"f.78: Threat Cause Type\",\"f.79: Threat Probability \",\"f.80: Threat Inference Making Assessor Name - Actor\",\"f.81: Intervention Activity Type\",\"f.82: Recommendation Type\",\"f.83: Priority Type\",\"f.84: Detailed Condition Assessments\",\"f.85: Topography Type\",\"f.86: Land Cover Type\",\"f.87: Land Cover Assessment Date\",\"f.88: Surficial Geology Type\",\"f.89: Depositional Process\",\"f.90: Bedrock Geology Type\",\"f.91: Fetch Type\",\"f.92: Wave Climate\",\"f.93: Tidal Range\",\"f.94: Minimum Depth\\u002fMax Elevation\",\"f.95: Maximum Depth\\u002fMin Elevation\",\"f.96: Datum Type\",\"f.97: Datum Description\\u002fEPSG code\",\"f.98: Restricted Access Record Designation\"],\"hoverinfo\":\"label+percent\",\"hovertemplate\":\"%{customdata}\",\"labels\":[\"f.1\",\"f.2\",\"f.3\",\"f.4\",\"f.5\",\"f.6\",\"f.7\",\"f.8\",\"f.9\",\"f.10\",\"f.11\",\"f.12\",\"f.13\",\"f.14\",\"f.15\",\"f.16\",\"f.17\",\"f.18\",\"f.19\",\"f.20\",\"f.21\",\"f.22\",\"f.23\",\"f.24\",\"f.25\",\"f.26\",\"f.27\",\"f.28\",\"f.29\",\"f.30\",\"f.31\",\"f.32\",\"f.33\",\"f.34\",\"f.35\",\"f.36\",\"f.37\",\"f.38\",\"f.39\",\"f.40\",\"f.41\",\"f.42\",\"f.43\",\"f.44\",\"f.45\",\"f.46\",\"f.47\",\"f.48\",\"f.49\",\"f.50\",\"f.51\",\"f.52\",\"f.53\",\"f.54\",\"f.55\",\"f.56\",\"f.57\",\"f.58\",\"f.59\",\"f.60\",\"f.61\",\"f.62\",\"f.63\",\"f.64\",\"f.65\",\"f.66\",\"f.67\",\"f.68\",\"f.69\",\"f.70\",\"f.71\",\"f.72\",\"f.73\",\"f.74\",\"f.75\",\"f.76\",\"f.77\",\"f.78\",\"f.79\",\"f.80\",\"f.81\",\"f.82\",\"f.83\",\"f.84\",\"f.85\",\"f.86\",\"f.87\",\"f.88\",\"f.89\",\"f.90\",\"f.91\",\"f.92\",\"f.93\",\"f.94\",\"f.95\",\"f.96\",\"f.97\",\"f.98\"],\"marker\":{\"colors\":[\"#ffffff\",\"#8e0152\",\"#ffffff\",\"#ffffff\",\"#ffffff\",\"#8e0152\",\"#ffffff\",\"#ffffff\",\"#ffffff\",\"#ffffff\",\"#ffffff\",\"#ffffff\",\"#ffffff\",\"#cf4191\",\"#cf4191\",\"#ffffff\",\"#ffffff\",\"#ffffff\",\"#eeadd4\",\"#ffffff\",\"#ffffff\",\"#ffffff\",\"#ffffff\",\"#fbe6f1\",\"#ffffff\",\"#ffffff\",\"#ffffff\",\"#ffffff\",\"#ffffff\",\"#ffffff\",\"#ffffff\",\"#ebf6db\",\"#ebf6db\",\"#ffffff\",\"#ebf6db\",\"#ffffff\",\"#ffffff\",\"#ffffff\",\"#ffffff\",\"#ffffff\",\"#ffffff\",\"#ffffff\",\"#ffffff\",\"#ffffff\",\"#ffffff\",\"#ffffff\",\"#ffffff\",\"#ffffff\",\"#ffffff\",\"#ffffff\",\"#ffffff\",\"#ffffff\",\"#ebf6db\",\"#ebf6db\",\"#ffffff\",\"#ffffff\",\"#ffffff\",\"#ffffff\",\"#ffffff\",\"#ffffff\",\"#ffffff\",\"#ffffff\",\"#ffffff\",\"#ffffff\",\"#b0dc7d\",\"#ffffff\",\"#b0dc7d\",\"#b0dc7d\",\"#b0dc7d\",\"#ffffff\",\"#ffffff\",\"#ffffff\",\"#ffffff\",\"#ffffff\",\"#ffffff\",\"#ffffff\",\"#b0dc7d\",\"#b0dc7d\",\"#ffffff\",\"#ffffff\",\"#ffffff\",\"#ffffff\",\"#ffffff\",\"#ffffff\",\"#ffffff\",\"#ffffff\",\"#ffffff\",\"#ffffff\",\"#ffffff\",\"#ffffff\",\"#ffffff\",\"#ffffff\",\"#ffffff\",\"#ffffff\",\"#ffffff\",\"#ffffff\",\"#ffffff\",\"#ffffff\"],\"line\":{\"color\":\"#000000\",\"width\":0.25}},\"showlegend\":false,\"sort\":false,\"textfont\":{\"size\":7},\"textinfo\":\"label\",\"textposition\":\"inside\",\"values\":[1,1,1,1,1,1,1,1,1,1,1,1,1,1,1,1,1,1,1,1,1,1,1,1,1,1,1,1,1,1,1,1,1,1,1,1,1,1,1,1,1,1,1,1,1,1,1,1,1,1,1,1,1,1,1,1,1,1,1,1,1,1,1,1,1,1,1,1,1,1,1,1,1,1,1,1,1,1,1,1,1,1,1,1,1,1,1,1,1,1,1,1,1,1,1,1,1,1],\"type\":\"pie\"}],                        {\"template\":{\"data\":{\"histogram2dcontour\":[{\"type\":\"histogram2dcontour\",\"colorbar\":{\"outlinewidth\":0,\"ticks\":\"\"},\"colorscale\":[[0.0,\"#0d0887\"],[0.1111111111111111,\"#46039f\"],[0.2222222222222222,\"#7201a8\"],[0.3333333333333333,\"#9c179e\"],[0.4444444444444444,\"#bd3786\"],[0.5555555555555556,\"#d8576b\"],[0.6666666666666666,\"#ed7953\"],[0.7777777777777778,\"#fb9f3a\"],[0.8888888888888888,\"#fdca26\"],[1.0,\"#f0f921\"]]}],\"choropleth\":[{\"type\":\"choropleth\",\"colorbar\":{\"outlinewidth\":0,\"ticks\":\"\"}}],\"histogram2d\":[{\"type\":\"histogram2d\",\"colorbar\":{\"outlinewidth\":0,\"ticks\":\"\"},\"colorscale\":[[0.0,\"#0d0887\"],[0.1111111111111111,\"#46039f\"],[0.2222222222222222,\"#7201a8\"],[0.3333333333333333,\"#9c179e\"],[0.4444444444444444,\"#bd3786\"],[0.5555555555555556,\"#d8576b\"],[0.6666666666666666,\"#ed7953\"],[0.7777777777777778,\"#fb9f3a\"],[0.8888888888888888,\"#fdca26\"],[1.0,\"#f0f921\"]]}],\"heatmap\":[{\"type\":\"heatmap\",\"colorbar\":{\"outlinewidth\":0,\"ticks\":\"\"},\"colorscale\":[[0.0,\"#0d0887\"],[0.1111111111111111,\"#46039f\"],[0.2222222222222222,\"#7201a8\"],[0.3333333333333333,\"#9c179e\"],[0.4444444444444444,\"#bd3786\"],[0.5555555555555556,\"#d8576b\"],[0.6666666666666666,\"#ed7953\"],[0.7777777777777778,\"#fb9f3a\"],[0.8888888888888888,\"#fdca26\"],[1.0,\"#f0f921\"]]}],\"heatmapgl\":[{\"type\":\"heatmapgl\",\"colorbar\":{\"outlinewidth\":0,\"ticks\":\"\"},\"colorscale\":[[0.0,\"#0d0887\"],[0.1111111111111111,\"#46039f\"],[0.2222222222222222,\"#7201a8\"],[0.3333333333333333,\"#9c179e\"],[0.4444444444444444,\"#bd3786\"],[0.5555555555555556,\"#d8576b\"],[0.6666666666666666,\"#ed7953\"],[0.7777777777777778,\"#fb9f3a\"],[0.8888888888888888,\"#fdca26\"],[1.0,\"#f0f921\"]]}],\"contourcarpet\":[{\"type\":\"contourcarpet\",\"colorbar\":{\"outlinewidth\":0,\"ticks\":\"\"}}],\"contour\":[{\"type\":\"contour\",\"colorbar\":{\"outlinewidth\":0,\"ticks\":\"\"},\"colorscale\":[[0.0,\"#0d0887\"],[0.1111111111111111,\"#46039f\"],[0.2222222222222222,\"#7201a8\"],[0.3333333333333333,\"#9c179e\"],[0.4444444444444444,\"#bd3786\"],[0.5555555555555556,\"#d8576b\"],[0.6666666666666666,\"#ed7953\"],[0.7777777777777778,\"#fb9f3a\"],[0.8888888888888888,\"#fdca26\"],[1.0,\"#f0f921\"]]}],\"surface\":[{\"type\":\"surface\",\"colorbar\":{\"outlinewidth\":0,\"ticks\":\"\"},\"colorscale\":[[0.0,\"#0d0887\"],[0.1111111111111111,\"#46039f\"],[0.2222222222222222,\"#7201a8\"],[0.3333333333333333,\"#9c179e\"],[0.4444444444444444,\"#bd3786\"],[0.5555555555555556,\"#d8576b\"],[0.6666666666666666,\"#ed7953\"],[0.7777777777777778,\"#fb9f3a\"],[0.8888888888888888,\"#fdca26\"],[1.0,\"#f0f921\"]]}],\"mesh3d\":[{\"type\":\"mesh3d\",\"colorbar\":{\"outlinewidth\":0,\"ticks\":\"\"}}],\"scatter\":[{\"fillpattern\":{\"fillmode\":\"overlay\",\"size\":10,\"solidity\":0.2},\"type\":\"scatter\"}],\"parcoords\":[{\"type\":\"parcoords\",\"line\":{\"colorbar\":{\"outlinewidth\":0,\"ticks\":\"\"}}}],\"scatterpolargl\":[{\"type\":\"scatterpolargl\",\"marker\":{\"colorbar\":{\"outlinewidth\":0,\"ticks\":\"\"}}}],\"bar\":[{\"error_x\":{\"color\":\"#2a3f5f\"},\"error_y\":{\"color\":\"#2a3f5f\"},\"marker\":{\"line\":{\"color\":\"#E5ECF6\",\"width\":0.5},\"pattern\":{\"fillmode\":\"overlay\",\"size\":10,\"solidity\":0.2}},\"type\":\"bar\"}],\"scattergeo\":[{\"type\":\"scattergeo\",\"marker\":{\"colorbar\":{\"outlinewidth\":0,\"ticks\":\"\"}}}],\"scatterpolar\":[{\"type\":\"scatterpolar\",\"marker\":{\"colorbar\":{\"outlinewidth\":0,\"ticks\":\"\"}}}],\"histogram\":[{\"marker\":{\"pattern\":{\"fillmode\":\"overlay\",\"size\":10,\"solidity\":0.2}},\"type\":\"histogram\"}],\"scattergl\":[{\"type\":\"scattergl\",\"marker\":{\"colorbar\":{\"outlinewidth\":0,\"ticks\":\"\"}}}],\"scatter3d\":[{\"type\":\"scatter3d\",\"line\":{\"colorbar\":{\"outlinewidth\":0,\"ticks\":\"\"}},\"marker\":{\"colorbar\":{\"outlinewidth\":0,\"ticks\":\"\"}}}],\"scattermapbox\":[{\"type\":\"scattermapbox\",\"marker\":{\"colorbar\":{\"outlinewidth\":0,\"ticks\":\"\"}}}],\"scatterternary\":[{\"type\":\"scatterternary\",\"marker\":{\"colorbar\":{\"outlinewidth\":0,\"ticks\":\"\"}}}],\"scattercarpet\":[{\"type\":\"scattercarpet\",\"marker\":{\"colorbar\":{\"outlinewidth\":0,\"ticks\":\"\"}}}],\"carpet\":[{\"aaxis\":{\"endlinecolor\":\"#2a3f5f\",\"gridcolor\":\"white\",\"linecolor\":\"white\",\"minorgridcolor\":\"white\",\"startlinecolor\":\"#2a3f5f\"},\"baxis\":{\"endlinecolor\":\"#2a3f5f\",\"gridcolor\":\"white\",\"linecolor\":\"white\",\"minorgridcolor\":\"white\",\"startlinecolor\":\"#2a3f5f\"},\"type\":\"carpet\"}],\"table\":[{\"cells\":{\"fill\":{\"color\":\"#EBF0F8\"},\"line\":{\"color\":\"white\"}},\"header\":{\"fill\":{\"color\":\"#C8D4E3\"},\"line\":{\"color\":\"white\"}},\"type\":\"table\"}],\"barpolar\":[{\"marker\":{\"line\":{\"color\":\"#E5ECF6\",\"width\":0.5},\"pattern\":{\"fillmode\":\"overlay\",\"size\":10,\"solidity\":0.2}},\"type\":\"barpolar\"}],\"pie\":[{\"automargin\":true,\"type\":\"pie\"}]},\"layout\":{\"autotypenumbers\":\"strict\",\"colorway\":[\"#636efa\",\"#EF553B\",\"#00cc96\",\"#ab63fa\",\"#FFA15A\",\"#19d3f3\",\"#FF6692\",\"#B6E880\",\"#FF97FF\",\"#FECB52\"],\"font\":{\"color\":\"#2a3f5f\"},\"hovermode\":\"closest\",\"hoverlabel\":{\"align\":\"left\"},\"paper_bgcolor\":\"white\",\"plot_bgcolor\":\"#E5ECF6\",\"polar\":{\"bgcolor\":\"#E5ECF6\",\"angularaxis\":{\"gridcolor\":\"white\",\"linecolor\":\"white\",\"ticks\":\"\"},\"radialaxis\":{\"gridcolor\":\"white\",\"linecolor\":\"white\",\"ticks\":\"\"}},\"ternary\":{\"bgcolor\":\"#E5ECF6\",\"aaxis\":{\"gridcolor\":\"white\",\"linecolor\":\"white\",\"ticks\":\"\"},\"baxis\":{\"gridcolor\":\"white\",\"linecolor\":\"white\",\"ticks\":\"\"},\"caxis\":{\"gridcolor\":\"white\",\"linecolor\":\"white\",\"ticks\":\"\"}},\"coloraxis\":{\"colorbar\":{\"outlinewidth\":0,\"ticks\":\"\"}},\"colorscale\":{\"sequential\":[[0.0,\"#0d0887\"],[0.1111111111111111,\"#46039f\"],[0.2222222222222222,\"#7201a8\"],[0.3333333333333333,\"#9c179e\"],[0.4444444444444444,\"#bd3786\"],[0.5555555555555556,\"#d8576b\"],[0.6666666666666666,\"#ed7953\"],[0.7777777777777778,\"#fb9f3a\"],[0.8888888888888888,\"#fdca26\"],[1.0,\"#f0f921\"]],\"sequentialminus\":[[0.0,\"#0d0887\"],[0.1111111111111111,\"#46039f\"],[0.2222222222222222,\"#7201a8\"],[0.3333333333333333,\"#9c179e\"],[0.4444444444444444,\"#bd3786\"],[0.5555555555555556,\"#d8576b\"],[0.6666666666666666,\"#ed7953\"],[0.7777777777777778,\"#fb9f3a\"],[0.8888888888888888,\"#fdca26\"],[1.0,\"#f0f921\"]],\"diverging\":[[0,\"#8e0152\"],[0.1,\"#c51b7d\"],[0.2,\"#de77ae\"],[0.3,\"#f1b6da\"],[0.4,\"#fde0ef\"],[0.5,\"#f7f7f7\"],[0.6,\"#e6f5d0\"],[0.7,\"#b8e186\"],[0.8,\"#7fbc41\"],[0.9,\"#4d9221\"],[1,\"#276419\"]]},\"xaxis\":{\"gridcolor\":\"white\",\"linecolor\":\"white\",\"ticks\":\"\",\"title\":{\"standoff\":15},\"zerolinecolor\":\"white\",\"automargin\":true,\"zerolinewidth\":2},\"yaxis\":{\"gridcolor\":\"white\",\"linecolor\":\"white\",\"ticks\":\"\",\"title\":{\"standoff\":15},\"zerolinecolor\":\"white\",\"automargin\":true,\"zerolinewidth\":2},\"scene\":{\"xaxis\":{\"backgroundcolor\":\"#E5ECF6\",\"gridcolor\":\"white\",\"linecolor\":\"white\",\"showbackground\":true,\"ticks\":\"\",\"zerolinecolor\":\"white\",\"gridwidth\":2},\"yaxis\":{\"backgroundcolor\":\"#E5ECF6\",\"gridcolor\":\"white\",\"linecolor\":\"white\",\"showbackground\":true,\"ticks\":\"\",\"zerolinecolor\":\"white\",\"gridwidth\":2},\"zaxis\":{\"backgroundcolor\":\"#E5ECF6\",\"gridcolor\":\"white\",\"linecolor\":\"white\",\"showbackground\":true,\"ticks\":\"\",\"zerolinecolor\":\"white\",\"gridwidth\":2}},\"shapedefaults\":{\"line\":{\"color\":\"#2a3f5f\"}},\"annotationdefaults\":{\"arrowcolor\":\"#2a3f5f\",\"arrowhead\":0,\"arrowwidth\":1},\"geo\":{\"bgcolor\":\"white\",\"landcolor\":\"#E5ECF6\",\"subunitcolor\":\"white\",\"showland\":true,\"showlakes\":true,\"lakecolor\":\"white\"},\"title\":{\"x\":0.05},\"mapbox\":{\"style\":\"light\"}}}},                        {\"responsive\": true}                    ).then(function(){\n",
              "                            \n",
              "var gd = document.getElementById('a7b16b0e-0cec-4237-b96b-7fca4d4b5676');\n",
              "var x = new MutationObserver(function (mutations, observer) {{\n",
              "        var display = window.getComputedStyle(gd).display;\n",
              "        if (!display || display === 'none') {{\n",
              "            console.log([gd, 'removed!']);\n",
              "            Plotly.purge(gd);\n",
              "            observer.disconnect();\n",
              "        }}\n",
              "}});\n",
              "\n",
              "// Listen for the removal of the full notebook cells\n",
              "var notebookContainer = gd.closest('#notebook-container');\n",
              "if (notebookContainer) {{\n",
              "    x.observe(notebookContainer, {childList: true});\n",
              "}}\n",
              "\n",
              "// Listen for the clearing of the current output cell\n",
              "var outputEl = gd.closest('.output');\n",
              "if (outputEl) {{\n",
              "    x.observe(outputEl, {childList: true});\n",
              "}}\n",
              "\n",
              "                        })                };                });            </script>        </div>"
            ]
          },
          "metadata": {}
        }
      ]
    },
    {
      "cell_type": "markdown",
      "source": [],
      "metadata": {
        "id": "yqTB1vCzj2xV"
      }
    },
    {
      "cell_type": "code",
      "source": [
        "# Create subplot grid with pie chart subplots\n",
        "fig = make_subplots(rows=3, cols=2, subplot_titles=['level 1', 'level 2', 'level 3', 'ERMS'],\n",
        "                    specs=[\n",
        "                        [{'type': 'pie'}, {'type': 'pie'}],\n",
        "                        [{'type': 'pie', \"colspan\": 2}, None],\n",
        "                        [{'type': 'pie', \"colspan\": 2}, None]\n",
        "                        ])\n",
        "\n",
        "\n",
        "# Add go.Pie figures to the subplot grid\n",
        "fig.add_trace(fig_level1.data[0], row=1, col=1)\n",
        "fig.add_trace(fig_level2.data[0], row=1, col=2)\n",
        "fig.add_trace(fig_level3.data[0], row=2, col=1)\n",
        "fig.add_trace(fig_erms.data[0], row=3, col=1)\n",
        "\n",
        "# Update layout if needed\n",
        "fig.update_layout(# autosize = True,\n",
        "                  height=1000,\n",
        "                  # vertical_spacing=0.1,\n",
        "                  # width=1200,\n",
        "                  margin={\"r\": 0, \"t\": 0, \"l\": 0, \"b\": 0},\n",
        "                  title_text=\"Enhanced record minimum standard (ERMS)\",\n",
        "                  title_x=0.5)\n",
        "\n",
        "# Show the subplot grid\n",
        "fig.show()"
      ],
      "metadata": {
        "colab": {
          "base_uri": "https://localhost:8080/",
          "height": 1000
        },
        "id": "XXwEk2-JgMrI",
        "outputId": "1440a74b-708a-4482-f1a4-02cd92c7a994"
      },
      "execution_count": 398,
      "outputs": [
        {
          "output_type": "display_data",
          "data": {
            "application/vnd.plotly.v1+json": {
              "data": [
                {
                  "customdata": [
                    "ASSESSMENT SUMMARY",
                    "RESOURCE SUMMARY",
                    "GEOMETRIES",
                    "GEOGRAPHY",
                    "ARCHAEOLOGICAL ASSESSMENT",
                    "CONDITION ASSESSMENT",
                    "ENVIRONMENT ASSESSMENT",
                    "ACCESS"
                  ],
                  "hovertemplate": "%{customdata}",
                  "labels": [
                    "ASSESSMENT SUMMARY",
                    "RESOURCE SUMMARY",
                    "GEOMETRIES",
                    "GEOGRAPHY",
                    "ARCHAEOLOGICAL ASSESSMENT",
                    "CONDITION ASSESSMENT",
                    "ENVIRONMENT ASSESSMENT",
                    "ACCESS"
                  ],
                  "legendgroup": "1",
                  "marker": {
                    "colors": [
                      "#8e0152",
                      "#cf4191",
                      "#eeadd4",
                      "#fbe6f1",
                      "#ebf6db",
                      "#b0dc7d",
                      "#62a32e",
                      "#276419"
                    ],
                    "line": {
                      "color": "#000000",
                      "width": 0.25
                    }
                  },
                  "sort": false,
                  "textfont": {
                    "size": 16
                  },
                  "textinfo": "value",
                  "values": [
                    8,
                    10,
                    4,
                    9,
                    33,
                    20,
                    13,
                    1
                  ],
                  "type": "pie",
                  "domain": {
                    "x": [
                      0,
                      0.45
                    ],
                    "y": [
                      0.7777777777777778,
                      1
                    ]
                  }
                },
                {
                  "customdata": [
                    "ASSESSMENT ACTIVITY",
                    "RESOURCE NAME",
                    "RESOURCE SUMMARY",
                    "RESOURCE DESCRIPTION",
                    "HERITAGE RESOURCE CLASSIFICATION",
                    "DESIGNATION",
                    "GEOMETRIES",
                    "GEOGRAPHY",
                    "ADDRESS",
                    "ADMINISTRATIVE SUBDIVISION",
                    "ARCHAEOLOGICAL ASSESSMENT",
                    "PERIODIZATION",
                    "ABSOLUTE CHRONOLOGY",
                    "SITE FEATURES and INTERPRETATIONS",
                    "MATERIAL",
                    "Measurements",
                    "CONDITION ASSESSMENT",
                    "DISTURBANCES",
                    "THREATS",
                    "RECOMMENDATION PLAN",
                    "ENVIRONMENT ASSESSMENT",
                    "LAND COVER",
                    "SURFICIAL GEOLOGY",
                    "MARINE ENVIRONMENT",
                    "DEPTH or ELEVATION",
                    "ACCESS"
                  ],
                  "hovertemplate": "%{customdata}",
                  "labels": [
                    "ASSESSMENT ACTIVITY",
                    "RESOURCE NAME",
                    "RESOURCE SUMMARY",
                    "RESOURCE DESCRIPTION",
                    "HERITAGE RESOURCE CLASSIFICATION",
                    "DESIGNATION",
                    "GEOMETRIES",
                    "GEOGRAPHY",
                    "ADDRESS",
                    "ADMINISTRATIVE SUBDIVISION",
                    "ARCHAEOLOGICAL ASSESSMENT",
                    "PERIODIZATION",
                    "ABSOLUTE CHRONOLOGY",
                    "SITE FEATURES and INTERPRETATIONS",
                    "MATERIAL",
                    "Measurements",
                    "CONDITION ASSESSMENT",
                    "DISTURBANCES",
                    "THREATS",
                    "RECOMMENDATION PLAN",
                    "ENVIRONMENT ASSESSMENT",
                    "LAND COVER",
                    "SURFICIAL GEOLOGY",
                    "MARINE ENVIRONMENT",
                    "DEPTH or ELEVATION",
                    "ACCESS"
                  ],
                  "marker": {
                    "colors": [
                      "#8e0152",
                      "#cf4191",
                      "#cf4191",
                      "#cf4191",
                      "#cf4191",
                      "#cf4191",
                      "#eeadd4",
                      "#fbe6f1",
                      "#fbe6f1",
                      "#fbe6f1",
                      "#ebf6db",
                      "#ebf6db",
                      "#ebf6db",
                      "#ebf6db",
                      "#ebf6db",
                      "#ebf6db",
                      "#b0dc7d",
                      "#b0dc7d",
                      "#b0dc7d",
                      "#b0dc7d",
                      "#62a32e",
                      "#62a32e",
                      "#62a32e",
                      "#62a32e",
                      "#62a32e",
                      "#276419"
                    ],
                    "line": {
                      "color": "#000000",
                      "width": 0.25
                    }
                  },
                  "showlegend": false,
                  "sort": false,
                  "textfont": {
                    "size": 16
                  },
                  "textinfo": "value",
                  "values": [
                    8,
                    2,
                    1,
                    2,
                    2,
                    3,
                    4,
                    5,
                    2,
                    2,
                    3,
                    5,
                    8,
                    10,
                    3,
                    4,
                    3,
                    10,
                    4,
                    3,
                    2,
                    2,
                    2,
                    3,
                    4,
                    1
                  ],
                  "type": "pie",
                  "domain": {
                    "x": [
                      0.55,
                      1
                    ],
                    "y": [
                      0.7777777777777778,
                      1
                    ]
                  }
                },
                {
                  "hoverinfo": "label",
                  "labels": [
                    "f.1: Assessment Investigator - Actor",
                    "f.2: Investigator Role Type",
                    "f.3: Assessment Activity Type",
                    "f.4: Assessment Activity Date",
                    "f.5: Google Earth Assessment",
                    "f.6: GE Imagery Acquisition Date",
                    "f.7: Information Resource",
                    "f.8: Information Resource Acquisition Date",
                    "f.9: Resource Name",
                    "f.10: Name Type",
                    "f.11: Heritage Place Type",
                    "f.12: General Description Type",
                    "f.13: General Description",
                    "f.14: Heritage Place Function",
                    "f.15: Heritage Place Function Certainty ",
                    "f.16: Designation",
                    "f.17: Designation From Date",
                    "f.18: Designation To Date",
                    "f.19: Geometric Place Expression",
                    "f.20: Geometry Qualifier",
                    "f.21: Location Certainty",
                    "f.22: Geometry Extent Certainty",
                    "f.23: Overall Site Shape Type",
                    "f.24: Grid ID",
                    "f.25: Country Type",
                    "f.26: Cadastral Reference",
                    "f.27: Resource Orientation",
                    "f.28: Address",
                    "f.29: Address Type",
                    "f.30: Administrative Division ",
                    "f.31: Administrative Division Type",
                    "f.32: Overall Archaeological Certainty Value ",
                    "f.33: Overall Site Morphology Type",
                    "f.34: Cultural Period Type",
                    "f.35: Cultural Period Certainty",
                    "f.36: Cultural Sub-period Type",
                    "f.37: Cultural Sub-period Certainty",
                    "f.38: Date Inference Making Actor",
                    "f.39: Archaeological From Date",
                    "f.40: Archaeological To Date",
                    "f.41: BP Date From",
                    "f.42: BP Date To",
                    "f.43: AH Date From",
                    "f.44: AH Date To",
                    "f.45: SH Date From",
                    "f.46: SH Date to",
                    "f.47: Site Feature Form Type",
                    "f.48: Site Feature Form Type Certainty",
                    "f.49: Site Feature Shape Type",
                    "f.50: Site Feature Arrangement Type",
                    "f.51: Site Feature Number Type",
                    "f.52: Site Feature Interpretation Type",
                    "f.53: Site Feature Interpretation Number Type",
                    "f.54: Site Feature Interpretation Certainty",
                    "f.55: Built Component",
                    "f.56: Heritage Place Resource Instance",
                    "f.57: Material Class",
                    "f.58: Material Type",
                    "f.59: Construction Technique",
                    "f.60: Measurement Number",
                    "f.61: Measurement Unit",
                    "f.62: Dimension Type",
                    "f.63: Measurement Source Type ",
                    "f.64: Related Geoarchaeology/Palaeolandscape",
                    "f.65: Overall Condition State Type",
                    "f.66: Damage Extent Type",
                    "f.67: Disturbance Cause Category Type",
                    "f.68: Disturbance Cause Type ",
                    "f.69: Disturbance Cause Certainty ",
                    "f.70: Disturbance Date From",
                    "f.71: Disturbance Date To ",
                    "f.72: Disturbance Date Occurred Before",
                    "f.73: Disturbance Date Occurred On ",
                    "f.74: Disturbance Cause Assignment Assessor Name - Actor",
                    "f.75: Effect Type",
                    "f.76: Effect Certainty",
                    "f.77: Threat Category",
                    "f.78: Threat Cause Type",
                    "f.79: Threat Probability ",
                    "f.80: Threat Inference Making Assessor Name - Actor",
                    "f.81: Intervention Activity Type",
                    "f.82: Recommendation Type",
                    "f.83: Priority Type",
                    "f.84: Detailed Condition Assessments",
                    "f.85: Topography Type",
                    "f.86: Land Cover Type",
                    "f.87: Land Cover Assessment Date",
                    "f.88: Surficial Geology Type",
                    "f.89: Depositional Process",
                    "f.90: Bedrock Geology Type",
                    "f.91: Fetch Type",
                    "f.92: Wave Climate",
                    "f.93: Tidal Range",
                    "f.94: Minimum Depth/Max Elevation",
                    "f.95: Maximum Depth/Min Elevation",
                    "f.96: Datum Type",
                    "f.97: Datum Description/EPSG code",
                    "f.98: Restricted Access Record Designation"
                  ],
                  "legendgroup": "3",
                  "marker": {
                    "colors": [
                      "#8e0152",
                      "#8e0152",
                      "#8e0152",
                      "#8e0152",
                      "#8e0152",
                      "#8e0152",
                      "#8e0152",
                      "#8e0152",
                      "#cf4191",
                      "#cf4191",
                      "#cf4191",
                      "#cf4191",
                      "#cf4191",
                      "#cf4191",
                      "#cf4191",
                      "#cf4191",
                      "#cf4191",
                      "#cf4191",
                      "#eeadd4",
                      "#eeadd4",
                      "#eeadd4",
                      "#eeadd4",
                      "#fbe6f1",
                      "#fbe6f1",
                      "#fbe6f1",
                      "#fbe6f1",
                      "#fbe6f1",
                      "#fbe6f1",
                      "#fbe6f1",
                      "#fbe6f1",
                      "#fbe6f1",
                      "#ebf6db",
                      "#ebf6db",
                      "#ebf6db",
                      "#ebf6db",
                      "#ebf6db",
                      "#ebf6db",
                      "#ebf6db",
                      "#ebf6db",
                      "#ebf6db",
                      "#ebf6db",
                      "#ebf6db",
                      "#ebf6db",
                      "#ebf6db",
                      "#ebf6db",
                      "#ebf6db",
                      "#ebf6db",
                      "#ebf6db",
                      "#ebf6db",
                      "#ebf6db",
                      "#ebf6db",
                      "#ebf6db",
                      "#ebf6db",
                      "#ebf6db",
                      "#ebf6db",
                      "#ebf6db",
                      "#ebf6db",
                      "#ebf6db",
                      "#ebf6db",
                      "#ebf6db",
                      "#ebf6db",
                      "#ebf6db",
                      "#ebf6db",
                      "#ebf6db",
                      "#b0dc7d",
                      "#b0dc7d",
                      "#b0dc7d",
                      "#b0dc7d",
                      "#b0dc7d",
                      "#b0dc7d",
                      "#b0dc7d",
                      "#b0dc7d",
                      "#b0dc7d",
                      "#b0dc7d",
                      "#b0dc7d",
                      "#b0dc7d",
                      "#b0dc7d",
                      "#b0dc7d",
                      "#b0dc7d",
                      "#b0dc7d",
                      "#b0dc7d",
                      "#b0dc7d",
                      "#b0dc7d",
                      "#b0dc7d",
                      "#62a32e",
                      "#62a32e",
                      "#62a32e",
                      "#62a32e",
                      "#62a32e",
                      "#62a32e",
                      "#62a32e",
                      "#62a32e",
                      "#62a32e",
                      "#62a32e",
                      "#62a32e",
                      "#62a32e",
                      "#62a32e",
                      "#276419"
                    ],
                    "line": {
                      "color": "#000000",
                      "width": 0.25
                    }
                  },
                  "sort": false,
                  "textfont": {
                    "size": 7
                  },
                  "textinfo": "label",
                  "textposition": "inside",
                  "values": [
                    1,
                    1,
                    1,
                    1,
                    1,
                    1,
                    1,
                    1,
                    1,
                    1,
                    1,
                    1,
                    1,
                    1,
                    1,
                    1,
                    1,
                    1,
                    1,
                    1,
                    1,
                    1,
                    1,
                    1,
                    1,
                    1,
                    1,
                    1,
                    1,
                    1,
                    1,
                    1,
                    1,
                    1,
                    1,
                    1,
                    1,
                    1,
                    1,
                    1,
                    1,
                    1,
                    1,
                    1,
                    1,
                    1,
                    1,
                    1,
                    1,
                    1,
                    1,
                    1,
                    1,
                    1,
                    1,
                    1,
                    1,
                    1,
                    1,
                    1,
                    1,
                    1,
                    1,
                    1,
                    1,
                    1,
                    1,
                    1,
                    1,
                    1,
                    1,
                    1,
                    1,
                    1,
                    1,
                    1,
                    1,
                    1,
                    1,
                    1,
                    1,
                    1,
                    1,
                    1,
                    1,
                    1,
                    1,
                    1,
                    1,
                    1,
                    1,
                    1,
                    1,
                    1,
                    1,
                    1,
                    1,
                    1
                  ],
                  "type": "pie",
                  "domain": {
                    "x": [
                      0,
                      1
                    ],
                    "y": [
                      0.3888888888888889,
                      0.6111111111111112
                    ]
                  }
                },
                {
                  "customdata": [
                    "f.1: Assessment Investigator - Actor",
                    "f.2: Investigator Role Type",
                    "f.3: Assessment Activity Type",
                    "f.4: Assessment Activity Date",
                    "f.5: Google Earth Assessment",
                    "f.6: GE Imagery Acquisition Date",
                    "f.7: Information Resource",
                    "f.8: Information Resource Acquisition Date",
                    "f.9: Resource Name",
                    "f.10: Name Type",
                    "f.11: Heritage Place Type",
                    "f.12: General Description Type",
                    "f.13: General Description",
                    "f.14: Heritage Place Function",
                    "f.15: Heritage Place Function Certainty ",
                    "f.16: Designation",
                    "f.17: Designation From Date",
                    "f.18: Designation To Date",
                    "f.19: Geometric Place Expression",
                    "f.20: Geometry Qualifier",
                    "f.21: Location Certainty",
                    "f.22: Geometry Extent Certainty",
                    "f.23: Overall Site Shape Type",
                    "f.24: Grid ID",
                    "f.25: Country Type",
                    "f.26: Cadastral Reference",
                    "f.27: Resource Orientation",
                    "f.28: Address",
                    "f.29: Address Type",
                    "f.30: Administrative Division ",
                    "f.31: Administrative Division Type",
                    "f.32: Overall Archaeological Certainty Value ",
                    "f.33: Overall Site Morphology Type",
                    "f.34: Cultural Period Type",
                    "f.35: Cultural Period Certainty",
                    "f.36: Cultural Sub-period Type",
                    "f.37: Cultural Sub-period Certainty",
                    "f.38: Date Inference Making Actor",
                    "f.39: Archaeological From Date",
                    "f.40: Archaeological To Date",
                    "f.41: BP Date From",
                    "f.42: BP Date To",
                    "f.43: AH Date From",
                    "f.44: AH Date To",
                    "f.45: SH Date From",
                    "f.46: SH Date to",
                    "f.47: Site Feature Form Type",
                    "f.48: Site Feature Form Type Certainty",
                    "f.49: Site Feature Shape Type",
                    "f.50: Site Feature Arrangement Type",
                    "f.51: Site Feature Number Type",
                    "f.52: Site Feature Interpretation Type",
                    "f.53: Site Feature Interpretation Number Type",
                    "f.54: Site Feature Interpretation Certainty",
                    "f.55: Built Component",
                    "f.56: Heritage Place Resource Instance",
                    "f.57: Material Class",
                    "f.58: Material Type",
                    "f.59: Construction Technique",
                    "f.60: Measurement Number",
                    "f.61: Measurement Unit",
                    "f.62: Dimension Type",
                    "f.63: Measurement Source Type ",
                    "f.64: Related Geoarchaeology/Palaeolandscape",
                    "f.65: Overall Condition State Type",
                    "f.66: Damage Extent Type",
                    "f.67: Disturbance Cause Category Type",
                    "f.68: Disturbance Cause Type ",
                    "f.69: Disturbance Cause Certainty ",
                    "f.70: Disturbance Date From",
                    "f.71: Disturbance Date To ",
                    "f.72: Disturbance Date Occurred Before",
                    "f.73: Disturbance Date Occurred On ",
                    "f.74: Disturbance Cause Assignment Assessor Name - Actor",
                    "f.75: Effect Type",
                    "f.76: Effect Certainty",
                    "f.77: Threat Category",
                    "f.78: Threat Cause Type",
                    "f.79: Threat Probability ",
                    "f.80: Threat Inference Making Assessor Name - Actor",
                    "f.81: Intervention Activity Type",
                    "f.82: Recommendation Type",
                    "f.83: Priority Type",
                    "f.84: Detailed Condition Assessments",
                    "f.85: Topography Type",
                    "f.86: Land Cover Type",
                    "f.87: Land Cover Assessment Date",
                    "f.88: Surficial Geology Type",
                    "f.89: Depositional Process",
                    "f.90: Bedrock Geology Type",
                    "f.91: Fetch Type",
                    "f.92: Wave Climate",
                    "f.93: Tidal Range",
                    "f.94: Minimum Depth/Max Elevation",
                    "f.95: Maximum Depth/Min Elevation",
                    "f.96: Datum Type",
                    "f.97: Datum Description/EPSG code",
                    "f.98: Restricted Access Record Designation"
                  ],
                  "domain": {
                    "x": [
                      0,
                      1
                    ],
                    "y": [
                      0,
                      0.22222222222222224
                    ]
                  },
                  "hoverinfo": "label+percent",
                  "hovertemplate": "%{customdata}",
                  "labels": [
                    "f.1",
                    "f.2",
                    "f.3",
                    "f.4",
                    "f.5",
                    "f.6",
                    "f.7",
                    "f.8",
                    "f.9",
                    "f.10",
                    "f.11",
                    "f.12",
                    "f.13",
                    "f.14",
                    "f.15",
                    "f.16",
                    "f.17",
                    "f.18",
                    "f.19",
                    "f.20",
                    "f.21",
                    "f.22",
                    "f.23",
                    "f.24",
                    "f.25",
                    "f.26",
                    "f.27",
                    "f.28",
                    "f.29",
                    "f.30",
                    "f.31",
                    "f.32",
                    "f.33",
                    "f.34",
                    "f.35",
                    "f.36",
                    "f.37",
                    "f.38",
                    "f.39",
                    "f.40",
                    "f.41",
                    "f.42",
                    "f.43",
                    "f.44",
                    "f.45",
                    "f.46",
                    "f.47",
                    "f.48",
                    "f.49",
                    "f.50",
                    "f.51",
                    "f.52",
                    "f.53",
                    "f.54",
                    "f.55",
                    "f.56",
                    "f.57",
                    "f.58",
                    "f.59",
                    "f.60",
                    "f.61",
                    "f.62",
                    "f.63",
                    "f.64",
                    "f.65",
                    "f.66",
                    "f.67",
                    "f.68",
                    "f.69",
                    "f.70",
                    "f.71",
                    "f.72",
                    "f.73",
                    "f.74",
                    "f.75",
                    "f.76",
                    "f.77",
                    "f.78",
                    "f.79",
                    "f.80",
                    "f.81",
                    "f.82",
                    "f.83",
                    "f.84",
                    "f.85",
                    "f.86",
                    "f.87",
                    "f.88",
                    "f.89",
                    "f.90",
                    "f.91",
                    "f.92",
                    "f.93",
                    "f.94",
                    "f.95",
                    "f.96",
                    "f.97",
                    "f.98"
                  ],
                  "marker": {
                    "colors": [
                      "#ffffff",
                      "#8e0152",
                      "#ffffff",
                      "#ffffff",
                      "#ffffff",
                      "#8e0152",
                      "#ffffff",
                      "#ffffff",
                      "#ffffff",
                      "#ffffff",
                      "#ffffff",
                      "#ffffff",
                      "#ffffff",
                      "#cf4191",
                      "#cf4191",
                      "#ffffff",
                      "#ffffff",
                      "#ffffff",
                      "#eeadd4",
                      "#ffffff",
                      "#ffffff",
                      "#ffffff",
                      "#ffffff",
                      "#fbe6f1",
                      "#ffffff",
                      "#ffffff",
                      "#ffffff",
                      "#ffffff",
                      "#ffffff",
                      "#ffffff",
                      "#ffffff",
                      "#ebf6db",
                      "#ebf6db",
                      "#ffffff",
                      "#ebf6db",
                      "#ffffff",
                      "#ffffff",
                      "#ffffff",
                      "#ffffff",
                      "#ffffff",
                      "#ffffff",
                      "#ffffff",
                      "#ffffff",
                      "#ffffff",
                      "#ffffff",
                      "#ffffff",
                      "#ffffff",
                      "#ffffff",
                      "#ffffff",
                      "#ffffff",
                      "#ffffff",
                      "#ffffff",
                      "#ebf6db",
                      "#ebf6db",
                      "#ffffff",
                      "#ffffff",
                      "#ffffff",
                      "#ffffff",
                      "#ffffff",
                      "#ffffff",
                      "#ffffff",
                      "#ffffff",
                      "#ffffff",
                      "#ffffff",
                      "#b0dc7d",
                      "#ffffff",
                      "#b0dc7d",
                      "#b0dc7d",
                      "#b0dc7d",
                      "#ffffff",
                      "#ffffff",
                      "#ffffff",
                      "#ffffff",
                      "#ffffff",
                      "#ffffff",
                      "#ffffff",
                      "#b0dc7d",
                      "#b0dc7d",
                      "#ffffff",
                      "#ffffff",
                      "#ffffff",
                      "#ffffff",
                      "#ffffff",
                      "#ffffff",
                      "#ffffff",
                      "#ffffff",
                      "#ffffff",
                      "#ffffff",
                      "#ffffff",
                      "#ffffff",
                      "#ffffff",
                      "#ffffff",
                      "#ffffff",
                      "#ffffff",
                      "#ffffff",
                      "#ffffff",
                      "#ffffff",
                      "#ffffff"
                    ],
                    "line": {
                      "color": "#000000",
                      "width": 0.25
                    }
                  },
                  "showlegend": false,
                  "sort": false,
                  "textfont": {
                    "size": 7
                  },
                  "textinfo": "label",
                  "textposition": "inside",
                  "values": [
                    1,
                    1,
                    1,
                    1,
                    1,
                    1,
                    1,
                    1,
                    1,
                    1,
                    1,
                    1,
                    1,
                    1,
                    1,
                    1,
                    1,
                    1,
                    1,
                    1,
                    1,
                    1,
                    1,
                    1,
                    1,
                    1,
                    1,
                    1,
                    1,
                    1,
                    1,
                    1,
                    1,
                    1,
                    1,
                    1,
                    1,
                    1,
                    1,
                    1,
                    1,
                    1,
                    1,
                    1,
                    1,
                    1,
                    1,
                    1,
                    1,
                    1,
                    1,
                    1,
                    1,
                    1,
                    1,
                    1,
                    1,
                    1,
                    1,
                    1,
                    1,
                    1,
                    1,
                    1,
                    1,
                    1,
                    1,
                    1,
                    1,
                    1,
                    1,
                    1,
                    1,
                    1,
                    1,
                    1,
                    1,
                    1,
                    1,
                    1,
                    1,
                    1,
                    1,
                    1,
                    1,
                    1,
                    1,
                    1,
                    1,
                    1,
                    1,
                    1,
                    1,
                    1,
                    1,
                    1,
                    1,
                    1
                  ],
                  "type": "pie"
                }
              ],
              "layout": {
                "template": {
                  "data": {
                    "histogram2dcontour": [
                      {
                        "type": "histogram2dcontour",
                        "colorbar": {
                          "outlinewidth": 0,
                          "ticks": ""
                        },
                        "colorscale": [
                          [
                            0,
                            "#0d0887"
                          ],
                          [
                            0.1111111111111111,
                            "#46039f"
                          ],
                          [
                            0.2222222222222222,
                            "#7201a8"
                          ],
                          [
                            0.3333333333333333,
                            "#9c179e"
                          ],
                          [
                            0.4444444444444444,
                            "#bd3786"
                          ],
                          [
                            0.5555555555555556,
                            "#d8576b"
                          ],
                          [
                            0.6666666666666666,
                            "#ed7953"
                          ],
                          [
                            0.7777777777777778,
                            "#fb9f3a"
                          ],
                          [
                            0.8888888888888888,
                            "#fdca26"
                          ],
                          [
                            1,
                            "#f0f921"
                          ]
                        ]
                      }
                    ],
                    "choropleth": [
                      {
                        "type": "choropleth",
                        "colorbar": {
                          "outlinewidth": 0,
                          "ticks": ""
                        }
                      }
                    ],
                    "histogram2d": [
                      {
                        "type": "histogram2d",
                        "colorbar": {
                          "outlinewidth": 0,
                          "ticks": ""
                        },
                        "colorscale": [
                          [
                            0,
                            "#0d0887"
                          ],
                          [
                            0.1111111111111111,
                            "#46039f"
                          ],
                          [
                            0.2222222222222222,
                            "#7201a8"
                          ],
                          [
                            0.3333333333333333,
                            "#9c179e"
                          ],
                          [
                            0.4444444444444444,
                            "#bd3786"
                          ],
                          [
                            0.5555555555555556,
                            "#d8576b"
                          ],
                          [
                            0.6666666666666666,
                            "#ed7953"
                          ],
                          [
                            0.7777777777777778,
                            "#fb9f3a"
                          ],
                          [
                            0.8888888888888888,
                            "#fdca26"
                          ],
                          [
                            1,
                            "#f0f921"
                          ]
                        ]
                      }
                    ],
                    "heatmap": [
                      {
                        "type": "heatmap",
                        "colorbar": {
                          "outlinewidth": 0,
                          "ticks": ""
                        },
                        "colorscale": [
                          [
                            0,
                            "#0d0887"
                          ],
                          [
                            0.1111111111111111,
                            "#46039f"
                          ],
                          [
                            0.2222222222222222,
                            "#7201a8"
                          ],
                          [
                            0.3333333333333333,
                            "#9c179e"
                          ],
                          [
                            0.4444444444444444,
                            "#bd3786"
                          ],
                          [
                            0.5555555555555556,
                            "#d8576b"
                          ],
                          [
                            0.6666666666666666,
                            "#ed7953"
                          ],
                          [
                            0.7777777777777778,
                            "#fb9f3a"
                          ],
                          [
                            0.8888888888888888,
                            "#fdca26"
                          ],
                          [
                            1,
                            "#f0f921"
                          ]
                        ]
                      }
                    ],
                    "heatmapgl": [
                      {
                        "type": "heatmapgl",
                        "colorbar": {
                          "outlinewidth": 0,
                          "ticks": ""
                        },
                        "colorscale": [
                          [
                            0,
                            "#0d0887"
                          ],
                          [
                            0.1111111111111111,
                            "#46039f"
                          ],
                          [
                            0.2222222222222222,
                            "#7201a8"
                          ],
                          [
                            0.3333333333333333,
                            "#9c179e"
                          ],
                          [
                            0.4444444444444444,
                            "#bd3786"
                          ],
                          [
                            0.5555555555555556,
                            "#d8576b"
                          ],
                          [
                            0.6666666666666666,
                            "#ed7953"
                          ],
                          [
                            0.7777777777777778,
                            "#fb9f3a"
                          ],
                          [
                            0.8888888888888888,
                            "#fdca26"
                          ],
                          [
                            1,
                            "#f0f921"
                          ]
                        ]
                      }
                    ],
                    "contourcarpet": [
                      {
                        "type": "contourcarpet",
                        "colorbar": {
                          "outlinewidth": 0,
                          "ticks": ""
                        }
                      }
                    ],
                    "contour": [
                      {
                        "type": "contour",
                        "colorbar": {
                          "outlinewidth": 0,
                          "ticks": ""
                        },
                        "colorscale": [
                          [
                            0,
                            "#0d0887"
                          ],
                          [
                            0.1111111111111111,
                            "#46039f"
                          ],
                          [
                            0.2222222222222222,
                            "#7201a8"
                          ],
                          [
                            0.3333333333333333,
                            "#9c179e"
                          ],
                          [
                            0.4444444444444444,
                            "#bd3786"
                          ],
                          [
                            0.5555555555555556,
                            "#d8576b"
                          ],
                          [
                            0.6666666666666666,
                            "#ed7953"
                          ],
                          [
                            0.7777777777777778,
                            "#fb9f3a"
                          ],
                          [
                            0.8888888888888888,
                            "#fdca26"
                          ],
                          [
                            1,
                            "#f0f921"
                          ]
                        ]
                      }
                    ],
                    "surface": [
                      {
                        "type": "surface",
                        "colorbar": {
                          "outlinewidth": 0,
                          "ticks": ""
                        },
                        "colorscale": [
                          [
                            0,
                            "#0d0887"
                          ],
                          [
                            0.1111111111111111,
                            "#46039f"
                          ],
                          [
                            0.2222222222222222,
                            "#7201a8"
                          ],
                          [
                            0.3333333333333333,
                            "#9c179e"
                          ],
                          [
                            0.4444444444444444,
                            "#bd3786"
                          ],
                          [
                            0.5555555555555556,
                            "#d8576b"
                          ],
                          [
                            0.6666666666666666,
                            "#ed7953"
                          ],
                          [
                            0.7777777777777778,
                            "#fb9f3a"
                          ],
                          [
                            0.8888888888888888,
                            "#fdca26"
                          ],
                          [
                            1,
                            "#f0f921"
                          ]
                        ]
                      }
                    ],
                    "mesh3d": [
                      {
                        "type": "mesh3d",
                        "colorbar": {
                          "outlinewidth": 0,
                          "ticks": ""
                        }
                      }
                    ],
                    "scatter": [
                      {
                        "fillpattern": {
                          "fillmode": "overlay",
                          "size": 10,
                          "solidity": 0.2
                        },
                        "type": "scatter"
                      }
                    ],
                    "parcoords": [
                      {
                        "type": "parcoords",
                        "line": {
                          "colorbar": {
                            "outlinewidth": 0,
                            "ticks": ""
                          }
                        }
                      }
                    ],
                    "scatterpolargl": [
                      {
                        "type": "scatterpolargl",
                        "marker": {
                          "colorbar": {
                            "outlinewidth": 0,
                            "ticks": ""
                          }
                        }
                      }
                    ],
                    "bar": [
                      {
                        "error_x": {
                          "color": "#2a3f5f"
                        },
                        "error_y": {
                          "color": "#2a3f5f"
                        },
                        "marker": {
                          "line": {
                            "color": "#E5ECF6",
                            "width": 0.5
                          },
                          "pattern": {
                            "fillmode": "overlay",
                            "size": 10,
                            "solidity": 0.2
                          }
                        },
                        "type": "bar"
                      }
                    ],
                    "scattergeo": [
                      {
                        "type": "scattergeo",
                        "marker": {
                          "colorbar": {
                            "outlinewidth": 0,
                            "ticks": ""
                          }
                        }
                      }
                    ],
                    "scatterpolar": [
                      {
                        "type": "scatterpolar",
                        "marker": {
                          "colorbar": {
                            "outlinewidth": 0,
                            "ticks": ""
                          }
                        }
                      }
                    ],
                    "histogram": [
                      {
                        "marker": {
                          "pattern": {
                            "fillmode": "overlay",
                            "size": 10,
                            "solidity": 0.2
                          }
                        },
                        "type": "histogram"
                      }
                    ],
                    "scattergl": [
                      {
                        "type": "scattergl",
                        "marker": {
                          "colorbar": {
                            "outlinewidth": 0,
                            "ticks": ""
                          }
                        }
                      }
                    ],
                    "scatter3d": [
                      {
                        "type": "scatter3d",
                        "line": {
                          "colorbar": {
                            "outlinewidth": 0,
                            "ticks": ""
                          }
                        },
                        "marker": {
                          "colorbar": {
                            "outlinewidth": 0,
                            "ticks": ""
                          }
                        }
                      }
                    ],
                    "scattermapbox": [
                      {
                        "type": "scattermapbox",
                        "marker": {
                          "colorbar": {
                            "outlinewidth": 0,
                            "ticks": ""
                          }
                        }
                      }
                    ],
                    "scatterternary": [
                      {
                        "type": "scatterternary",
                        "marker": {
                          "colorbar": {
                            "outlinewidth": 0,
                            "ticks": ""
                          }
                        }
                      }
                    ],
                    "scattercarpet": [
                      {
                        "type": "scattercarpet",
                        "marker": {
                          "colorbar": {
                            "outlinewidth": 0,
                            "ticks": ""
                          }
                        }
                      }
                    ],
                    "carpet": [
                      {
                        "aaxis": {
                          "endlinecolor": "#2a3f5f",
                          "gridcolor": "white",
                          "linecolor": "white",
                          "minorgridcolor": "white",
                          "startlinecolor": "#2a3f5f"
                        },
                        "baxis": {
                          "endlinecolor": "#2a3f5f",
                          "gridcolor": "white",
                          "linecolor": "white",
                          "minorgridcolor": "white",
                          "startlinecolor": "#2a3f5f"
                        },
                        "type": "carpet"
                      }
                    ],
                    "table": [
                      {
                        "cells": {
                          "fill": {
                            "color": "#EBF0F8"
                          },
                          "line": {
                            "color": "white"
                          }
                        },
                        "header": {
                          "fill": {
                            "color": "#C8D4E3"
                          },
                          "line": {
                            "color": "white"
                          }
                        },
                        "type": "table"
                      }
                    ],
                    "barpolar": [
                      {
                        "marker": {
                          "line": {
                            "color": "#E5ECF6",
                            "width": 0.5
                          },
                          "pattern": {
                            "fillmode": "overlay",
                            "size": 10,
                            "solidity": 0.2
                          }
                        },
                        "type": "barpolar"
                      }
                    ],
                    "pie": [
                      {
                        "automargin": true,
                        "type": "pie"
                      }
                    ]
                  },
                  "layout": {
                    "autotypenumbers": "strict",
                    "colorway": [
                      "#636efa",
                      "#EF553B",
                      "#00cc96",
                      "#ab63fa",
                      "#FFA15A",
                      "#19d3f3",
                      "#FF6692",
                      "#B6E880",
                      "#FF97FF",
                      "#FECB52"
                    ],
                    "font": {
                      "color": "#2a3f5f"
                    },
                    "hovermode": "closest",
                    "hoverlabel": {
                      "align": "left"
                    },
                    "paper_bgcolor": "white",
                    "plot_bgcolor": "#E5ECF6",
                    "polar": {
                      "bgcolor": "#E5ECF6",
                      "angularaxis": {
                        "gridcolor": "white",
                        "linecolor": "white",
                        "ticks": ""
                      },
                      "radialaxis": {
                        "gridcolor": "white",
                        "linecolor": "white",
                        "ticks": ""
                      }
                    },
                    "ternary": {
                      "bgcolor": "#E5ECF6",
                      "aaxis": {
                        "gridcolor": "white",
                        "linecolor": "white",
                        "ticks": ""
                      },
                      "baxis": {
                        "gridcolor": "white",
                        "linecolor": "white",
                        "ticks": ""
                      },
                      "caxis": {
                        "gridcolor": "white",
                        "linecolor": "white",
                        "ticks": ""
                      }
                    },
                    "coloraxis": {
                      "colorbar": {
                        "outlinewidth": 0,
                        "ticks": ""
                      }
                    },
                    "colorscale": {
                      "sequential": [
                        [
                          0,
                          "#0d0887"
                        ],
                        [
                          0.1111111111111111,
                          "#46039f"
                        ],
                        [
                          0.2222222222222222,
                          "#7201a8"
                        ],
                        [
                          0.3333333333333333,
                          "#9c179e"
                        ],
                        [
                          0.4444444444444444,
                          "#bd3786"
                        ],
                        [
                          0.5555555555555556,
                          "#d8576b"
                        ],
                        [
                          0.6666666666666666,
                          "#ed7953"
                        ],
                        [
                          0.7777777777777778,
                          "#fb9f3a"
                        ],
                        [
                          0.8888888888888888,
                          "#fdca26"
                        ],
                        [
                          1,
                          "#f0f921"
                        ]
                      ],
                      "sequentialminus": [
                        [
                          0,
                          "#0d0887"
                        ],
                        [
                          0.1111111111111111,
                          "#46039f"
                        ],
                        [
                          0.2222222222222222,
                          "#7201a8"
                        ],
                        [
                          0.3333333333333333,
                          "#9c179e"
                        ],
                        [
                          0.4444444444444444,
                          "#bd3786"
                        ],
                        [
                          0.5555555555555556,
                          "#d8576b"
                        ],
                        [
                          0.6666666666666666,
                          "#ed7953"
                        ],
                        [
                          0.7777777777777778,
                          "#fb9f3a"
                        ],
                        [
                          0.8888888888888888,
                          "#fdca26"
                        ],
                        [
                          1,
                          "#f0f921"
                        ]
                      ],
                      "diverging": [
                        [
                          0,
                          "#8e0152"
                        ],
                        [
                          0.1,
                          "#c51b7d"
                        ],
                        [
                          0.2,
                          "#de77ae"
                        ],
                        [
                          0.3,
                          "#f1b6da"
                        ],
                        [
                          0.4,
                          "#fde0ef"
                        ],
                        [
                          0.5,
                          "#f7f7f7"
                        ],
                        [
                          0.6,
                          "#e6f5d0"
                        ],
                        [
                          0.7,
                          "#b8e186"
                        ],
                        [
                          0.8,
                          "#7fbc41"
                        ],
                        [
                          0.9,
                          "#4d9221"
                        ],
                        [
                          1,
                          "#276419"
                        ]
                      ]
                    },
                    "xaxis": {
                      "gridcolor": "white",
                      "linecolor": "white",
                      "ticks": "",
                      "title": {
                        "standoff": 15
                      },
                      "zerolinecolor": "white",
                      "automargin": true,
                      "zerolinewidth": 2
                    },
                    "yaxis": {
                      "gridcolor": "white",
                      "linecolor": "white",
                      "ticks": "",
                      "title": {
                        "standoff": 15
                      },
                      "zerolinecolor": "white",
                      "automargin": true,
                      "zerolinewidth": 2
                    },
                    "scene": {
                      "xaxis": {
                        "backgroundcolor": "#E5ECF6",
                        "gridcolor": "white",
                        "linecolor": "white",
                        "showbackground": true,
                        "ticks": "",
                        "zerolinecolor": "white",
                        "gridwidth": 2
                      },
                      "yaxis": {
                        "backgroundcolor": "#E5ECF6",
                        "gridcolor": "white",
                        "linecolor": "white",
                        "showbackground": true,
                        "ticks": "",
                        "zerolinecolor": "white",
                        "gridwidth": 2
                      },
                      "zaxis": {
                        "backgroundcolor": "#E5ECF6",
                        "gridcolor": "white",
                        "linecolor": "white",
                        "showbackground": true,
                        "ticks": "",
                        "zerolinecolor": "white",
                        "gridwidth": 2
                      }
                    },
                    "shapedefaults": {
                      "line": {
                        "color": "#2a3f5f"
                      }
                    },
                    "annotationdefaults": {
                      "arrowcolor": "#2a3f5f",
                      "arrowhead": 0,
                      "arrowwidth": 1
                    },
                    "geo": {
                      "bgcolor": "white",
                      "landcolor": "#E5ECF6",
                      "subunitcolor": "white",
                      "showland": true,
                      "showlakes": true,
                      "lakecolor": "white"
                    },
                    "title": {
                      "x": 0.05
                    },
                    "mapbox": {
                      "style": "light"
                    }
                  }
                },
                "annotations": [
                  {
                    "font": {
                      "size": 16
                    },
                    "showarrow": false,
                    "text": "level 1",
                    "x": 0.225,
                    "xanchor": "center",
                    "xref": "paper",
                    "y": 1,
                    "yanchor": "bottom",
                    "yref": "paper"
                  },
                  {
                    "font": {
                      "size": 16
                    },
                    "showarrow": false,
                    "text": "level 2",
                    "x": 0.775,
                    "xanchor": "center",
                    "xref": "paper",
                    "y": 1,
                    "yanchor": "bottom",
                    "yref": "paper"
                  },
                  {
                    "font": {
                      "size": 16
                    },
                    "showarrow": false,
                    "text": "level 3",
                    "x": 0.5,
                    "xanchor": "center",
                    "xref": "paper",
                    "y": 0.6111111111111112,
                    "yanchor": "bottom",
                    "yref": "paper"
                  },
                  {
                    "font": {
                      "size": 16
                    },
                    "showarrow": false,
                    "text": "ERMS",
                    "x": 0.5,
                    "xanchor": "center",
                    "xref": "paper",
                    "y": 0.22222222222222224,
                    "yanchor": "bottom",
                    "yref": "paper"
                  }
                ],
                "margin": {
                  "r": 0,
                  "t": 0,
                  "l": 0,
                  "b": 0
                },
                "title": {
                  "text": "Enhanced record minimum standard (ERMS)",
                  "x": 0.5
                },
                "height": 1000
              },
              "config": {
                "plotlyServerURL": "https://plot.ly"
              }
            },
            "text/html": [
              "<div>                            <div id=\"96c4f62e-60ed-4760-a1c9-979023d7bdec\" class=\"plotly-graph-div\" style=\"height:1000px; width:100%;\"></div>            <script type=\"text/javascript\">                require([\"plotly\"], function(Plotly) {                    window.PLOTLYENV=window.PLOTLYENV || {};                                    if (document.getElementById(\"96c4f62e-60ed-4760-a1c9-979023d7bdec\")) {                    Plotly.newPlot(                        \"96c4f62e-60ed-4760-a1c9-979023d7bdec\",                        [{\"customdata\":[\"ASSESSMENT SUMMARY\",\"RESOURCE SUMMARY\",\"GEOMETRIES\",\"GEOGRAPHY\",\"ARCHAEOLOGICAL ASSESSMENT\",\"CONDITION ASSESSMENT\",\"ENVIRONMENT ASSESSMENT\",\"ACCESS\"],\"hovertemplate\":\"%{customdata}\",\"labels\":[\"ASSESSMENT SUMMARY\",\"RESOURCE SUMMARY\",\"GEOMETRIES\",\"GEOGRAPHY\",\"ARCHAEOLOGICAL ASSESSMENT\",\"CONDITION ASSESSMENT\",\"ENVIRONMENT ASSESSMENT\",\"ACCESS\"],\"legendgroup\":\"1\",\"marker\":{\"colors\":[\"#8e0152\",\"#cf4191\",\"#eeadd4\",\"#fbe6f1\",\"#ebf6db\",\"#b0dc7d\",\"#62a32e\",\"#276419\"],\"line\":{\"color\":\"#000000\",\"width\":0.25}},\"sort\":false,\"textfont\":{\"size\":16},\"textinfo\":\"value\",\"values\":[8,10,4,9,33,20,13,1],\"type\":\"pie\",\"domain\":{\"x\":[0.0,0.45],\"y\":[0.7777777777777778,1.0]}},{\"customdata\":[\"ASSESSMENT ACTIVITY\",\"RESOURCE NAME\",\"RESOURCE SUMMARY\",\"RESOURCE DESCRIPTION\",\"HERITAGE RESOURCE CLASSIFICATION\",\"DESIGNATION\",\"GEOMETRIES\",\"GEOGRAPHY\",\"ADDRESS\",\"ADMINISTRATIVE SUBDIVISION\",\"ARCHAEOLOGICAL ASSESSMENT\",\"PERIODIZATION\",\"ABSOLUTE CHRONOLOGY\",\"SITE FEATURES and INTERPRETATIONS\",\"MATERIAL\",\"Measurements\",\"CONDITION ASSESSMENT\",\"DISTURBANCES\",\"THREATS\",\"RECOMMENDATION PLAN\",\"ENVIRONMENT ASSESSMENT\",\"LAND COVER\",\"SURFICIAL GEOLOGY\",\"MARINE ENVIRONMENT\",\"DEPTH or ELEVATION\",\"ACCESS\"],\"hovertemplate\":\"%{customdata}\",\"labels\":[\"ASSESSMENT ACTIVITY\",\"RESOURCE NAME\",\"RESOURCE SUMMARY\",\"RESOURCE DESCRIPTION\",\"HERITAGE RESOURCE CLASSIFICATION\",\"DESIGNATION\",\"GEOMETRIES\",\"GEOGRAPHY\",\"ADDRESS\",\"ADMINISTRATIVE SUBDIVISION\",\"ARCHAEOLOGICAL ASSESSMENT\",\"PERIODIZATION\",\"ABSOLUTE CHRONOLOGY\",\"SITE FEATURES and INTERPRETATIONS\",\"MATERIAL\",\"Measurements\",\"CONDITION ASSESSMENT\",\"DISTURBANCES\",\"THREATS\",\"RECOMMENDATION PLAN\",\"ENVIRONMENT ASSESSMENT\",\"LAND COVER\",\"SURFICIAL GEOLOGY\",\"MARINE ENVIRONMENT\",\"DEPTH or ELEVATION\",\"ACCESS\"],\"marker\":{\"colors\":[\"#8e0152\",\"#cf4191\",\"#cf4191\",\"#cf4191\",\"#cf4191\",\"#cf4191\",\"#eeadd4\",\"#fbe6f1\",\"#fbe6f1\",\"#fbe6f1\",\"#ebf6db\",\"#ebf6db\",\"#ebf6db\",\"#ebf6db\",\"#ebf6db\",\"#ebf6db\",\"#b0dc7d\",\"#b0dc7d\",\"#b0dc7d\",\"#b0dc7d\",\"#62a32e\",\"#62a32e\",\"#62a32e\",\"#62a32e\",\"#62a32e\",\"#276419\"],\"line\":{\"color\":\"#000000\",\"width\":0.25}},\"showlegend\":false,\"sort\":false,\"textfont\":{\"size\":16},\"textinfo\":\"value\",\"values\":[8,2,1,2,2,3,4,5,2,2,3,5,8,10,3,4,3,10,4,3,2,2,2,3,4,1],\"type\":\"pie\",\"domain\":{\"x\":[0.55,1.0],\"y\":[0.7777777777777778,1.0]}},{\"hoverinfo\":\"label\",\"labels\":[\"f.1: Assessment Investigator - Actor\",\"f.2: Investigator Role Type\",\"f.3: Assessment Activity Type\",\"f.4: Assessment Activity Date\",\"f.5: Google Earth Assessment\",\"f.6: GE Imagery Acquisition Date\",\"f.7: Information Resource\",\"f.8: Information Resource Acquisition Date\",\"f.9: Resource Name\",\"f.10: Name Type\",\"f.11: Heritage Place Type\",\"f.12: General Description Type\",\"f.13: General Description\",\"f.14: Heritage Place Function\",\"f.15: Heritage Place Function Certainty \",\"f.16: Designation\",\"f.17: Designation From Date\",\"f.18: Designation To Date\",\"f.19: Geometric Place Expression\",\"f.20: Geometry Qualifier\",\"f.21: Location Certainty\",\"f.22: Geometry Extent Certainty\",\"f.23: Overall Site Shape Type\",\"f.24: Grid ID\",\"f.25: Country Type\",\"f.26: Cadastral Reference\",\"f.27: Resource Orientation\",\"f.28: Address\",\"f.29: Address Type\",\"f.30: Administrative Division \",\"f.31: Administrative Division Type\",\"f.32: Overall Archaeological Certainty Value \",\"f.33: Overall Site Morphology Type\",\"f.34: Cultural Period Type\",\"f.35: Cultural Period Certainty\",\"f.36: Cultural Sub-period Type\",\"f.37: Cultural Sub-period Certainty\",\"f.38: Date Inference Making Actor\",\"f.39: Archaeological From Date\",\"f.40: Archaeological To Date\",\"f.41: BP Date From\",\"f.42: BP Date To\",\"f.43: AH Date From\",\"f.44: AH Date To\",\"f.45: SH Date From\",\"f.46: SH Date to\",\"f.47: Site Feature Form Type\",\"f.48: Site Feature Form Type Certainty\",\"f.49: Site Feature Shape Type\",\"f.50: Site Feature Arrangement Type\",\"f.51: Site Feature Number Type\",\"f.52: Site Feature Interpretation Type\",\"f.53: Site Feature Interpretation Number Type\",\"f.54: Site Feature Interpretation Certainty\",\"f.55: Built Component\",\"f.56: Heritage Place Resource Instance\",\"f.57: Material Class\",\"f.58: Material Type\",\"f.59: Construction Technique\",\"f.60: Measurement Number\",\"f.61: Measurement Unit\",\"f.62: Dimension Type\",\"f.63: Measurement Source Type \",\"f.64: Related Geoarchaeology\\u002fPalaeolandscape\",\"f.65: Overall Condition State Type\",\"f.66: Damage Extent Type\",\"f.67: Disturbance Cause Category Type\",\"f.68: Disturbance Cause Type \",\"f.69: Disturbance Cause Certainty \",\"f.70: Disturbance Date From\",\"f.71: Disturbance Date To \",\"f.72: Disturbance Date Occurred Before\",\"f.73: Disturbance Date Occurred On \",\"f.74: Disturbance Cause Assignment Assessor Name - Actor\",\"f.75: Effect Type\",\"f.76: Effect Certainty\",\"f.77: Threat Category\",\"f.78: Threat Cause Type\",\"f.79: Threat Probability \",\"f.80: Threat Inference Making Assessor Name - Actor\",\"f.81: Intervention Activity Type\",\"f.82: Recommendation Type\",\"f.83: Priority Type\",\"f.84: Detailed Condition Assessments\",\"f.85: Topography Type\",\"f.86: Land Cover Type\",\"f.87: Land Cover Assessment Date\",\"f.88: Surficial Geology Type\",\"f.89: Depositional Process\",\"f.90: Bedrock Geology Type\",\"f.91: Fetch Type\",\"f.92: Wave Climate\",\"f.93: Tidal Range\",\"f.94: Minimum Depth\\u002fMax Elevation\",\"f.95: Maximum Depth\\u002fMin Elevation\",\"f.96: Datum Type\",\"f.97: Datum Description\\u002fEPSG code\",\"f.98: Restricted Access Record Designation\"],\"legendgroup\":\"3\",\"marker\":{\"colors\":[\"#8e0152\",\"#8e0152\",\"#8e0152\",\"#8e0152\",\"#8e0152\",\"#8e0152\",\"#8e0152\",\"#8e0152\",\"#cf4191\",\"#cf4191\",\"#cf4191\",\"#cf4191\",\"#cf4191\",\"#cf4191\",\"#cf4191\",\"#cf4191\",\"#cf4191\",\"#cf4191\",\"#eeadd4\",\"#eeadd4\",\"#eeadd4\",\"#eeadd4\",\"#fbe6f1\",\"#fbe6f1\",\"#fbe6f1\",\"#fbe6f1\",\"#fbe6f1\",\"#fbe6f1\",\"#fbe6f1\",\"#fbe6f1\",\"#fbe6f1\",\"#ebf6db\",\"#ebf6db\",\"#ebf6db\",\"#ebf6db\",\"#ebf6db\",\"#ebf6db\",\"#ebf6db\",\"#ebf6db\",\"#ebf6db\",\"#ebf6db\",\"#ebf6db\",\"#ebf6db\",\"#ebf6db\",\"#ebf6db\",\"#ebf6db\",\"#ebf6db\",\"#ebf6db\",\"#ebf6db\",\"#ebf6db\",\"#ebf6db\",\"#ebf6db\",\"#ebf6db\",\"#ebf6db\",\"#ebf6db\",\"#ebf6db\",\"#ebf6db\",\"#ebf6db\",\"#ebf6db\",\"#ebf6db\",\"#ebf6db\",\"#ebf6db\",\"#ebf6db\",\"#ebf6db\",\"#b0dc7d\",\"#b0dc7d\",\"#b0dc7d\",\"#b0dc7d\",\"#b0dc7d\",\"#b0dc7d\",\"#b0dc7d\",\"#b0dc7d\",\"#b0dc7d\",\"#b0dc7d\",\"#b0dc7d\",\"#b0dc7d\",\"#b0dc7d\",\"#b0dc7d\",\"#b0dc7d\",\"#b0dc7d\",\"#b0dc7d\",\"#b0dc7d\",\"#b0dc7d\",\"#b0dc7d\",\"#62a32e\",\"#62a32e\",\"#62a32e\",\"#62a32e\",\"#62a32e\",\"#62a32e\",\"#62a32e\",\"#62a32e\",\"#62a32e\",\"#62a32e\",\"#62a32e\",\"#62a32e\",\"#62a32e\",\"#276419\"],\"line\":{\"color\":\"#000000\",\"width\":0.25}},\"sort\":false,\"textfont\":{\"size\":7},\"textinfo\":\"label\",\"textposition\":\"inside\",\"values\":[1,1,1,1,1,1,1,1,1,1,1,1,1,1,1,1,1,1,1,1,1,1,1,1,1,1,1,1,1,1,1,1,1,1,1,1,1,1,1,1,1,1,1,1,1,1,1,1,1,1,1,1,1,1,1,1,1,1,1,1,1,1,1,1,1,1,1,1,1,1,1,1,1,1,1,1,1,1,1,1,1,1,1,1,1,1,1,1,1,1,1,1,1,1,1,1,1,1],\"type\":\"pie\",\"domain\":{\"x\":[0.0,1.0],\"y\":[0.3888888888888889,0.6111111111111112]}},{\"customdata\":[\"f.1: Assessment Investigator - Actor\",\"f.2: Investigator Role Type\",\"f.3: Assessment Activity Type\",\"f.4: Assessment Activity Date\",\"f.5: Google Earth Assessment\",\"f.6: GE Imagery Acquisition Date\",\"f.7: Information Resource\",\"f.8: Information Resource Acquisition Date\",\"f.9: Resource Name\",\"f.10: Name Type\",\"f.11: Heritage Place Type\",\"f.12: General Description Type\",\"f.13: General Description\",\"f.14: Heritage Place Function\",\"f.15: Heritage Place Function Certainty \",\"f.16: Designation\",\"f.17: Designation From Date\",\"f.18: Designation To Date\",\"f.19: Geometric Place Expression\",\"f.20: Geometry Qualifier\",\"f.21: Location Certainty\",\"f.22: Geometry Extent Certainty\",\"f.23: Overall Site Shape Type\",\"f.24: Grid ID\",\"f.25: Country Type\",\"f.26: Cadastral Reference\",\"f.27: Resource Orientation\",\"f.28: Address\",\"f.29: Address Type\",\"f.30: Administrative Division \",\"f.31: Administrative Division Type\",\"f.32: Overall Archaeological Certainty Value \",\"f.33: Overall Site Morphology Type\",\"f.34: Cultural Period Type\",\"f.35: Cultural Period Certainty\",\"f.36: Cultural Sub-period Type\",\"f.37: Cultural Sub-period Certainty\",\"f.38: Date Inference Making Actor\",\"f.39: Archaeological From Date\",\"f.40: Archaeological To Date\",\"f.41: BP Date From\",\"f.42: BP Date To\",\"f.43: AH Date From\",\"f.44: AH Date To\",\"f.45: SH Date From\",\"f.46: SH Date to\",\"f.47: Site Feature Form Type\",\"f.48: Site Feature Form Type Certainty\",\"f.49: Site Feature Shape Type\",\"f.50: Site Feature Arrangement Type\",\"f.51: Site Feature Number Type\",\"f.52: Site Feature Interpretation Type\",\"f.53: Site Feature Interpretation Number Type\",\"f.54: Site Feature Interpretation Certainty\",\"f.55: Built Component\",\"f.56: Heritage Place Resource Instance\",\"f.57: Material Class\",\"f.58: Material Type\",\"f.59: Construction Technique\",\"f.60: Measurement Number\",\"f.61: Measurement Unit\",\"f.62: Dimension Type\",\"f.63: Measurement Source Type \",\"f.64: Related Geoarchaeology\\u002fPalaeolandscape\",\"f.65: Overall Condition State Type\",\"f.66: Damage Extent Type\",\"f.67: Disturbance Cause Category Type\",\"f.68: Disturbance Cause Type \",\"f.69: Disturbance Cause Certainty \",\"f.70: Disturbance Date From\",\"f.71: Disturbance Date To \",\"f.72: Disturbance Date Occurred Before\",\"f.73: Disturbance Date Occurred On \",\"f.74: Disturbance Cause Assignment Assessor Name - Actor\",\"f.75: Effect Type\",\"f.76: Effect Certainty\",\"f.77: Threat Category\",\"f.78: Threat Cause Type\",\"f.79: Threat Probability \",\"f.80: Threat Inference Making Assessor Name - Actor\",\"f.81: Intervention Activity Type\",\"f.82: Recommendation Type\",\"f.83: Priority Type\",\"f.84: Detailed Condition Assessments\",\"f.85: Topography Type\",\"f.86: Land Cover Type\",\"f.87: Land Cover Assessment Date\",\"f.88: Surficial Geology Type\",\"f.89: Depositional Process\",\"f.90: Bedrock Geology Type\",\"f.91: Fetch Type\",\"f.92: Wave Climate\",\"f.93: Tidal Range\",\"f.94: Minimum Depth\\u002fMax Elevation\",\"f.95: Maximum Depth\\u002fMin Elevation\",\"f.96: Datum Type\",\"f.97: Datum Description\\u002fEPSG code\",\"f.98: Restricted Access Record Designation\"],\"domain\":{\"x\":[0,1],\"y\":[0.0,0.22222222222222224]},\"hoverinfo\":\"label+percent\",\"hovertemplate\":\"%{customdata}\",\"labels\":[\"f.1\",\"f.2\",\"f.3\",\"f.4\",\"f.5\",\"f.6\",\"f.7\",\"f.8\",\"f.9\",\"f.10\",\"f.11\",\"f.12\",\"f.13\",\"f.14\",\"f.15\",\"f.16\",\"f.17\",\"f.18\",\"f.19\",\"f.20\",\"f.21\",\"f.22\",\"f.23\",\"f.24\",\"f.25\",\"f.26\",\"f.27\",\"f.28\",\"f.29\",\"f.30\",\"f.31\",\"f.32\",\"f.33\",\"f.34\",\"f.35\",\"f.36\",\"f.37\",\"f.38\",\"f.39\",\"f.40\",\"f.41\",\"f.42\",\"f.43\",\"f.44\",\"f.45\",\"f.46\",\"f.47\",\"f.48\",\"f.49\",\"f.50\",\"f.51\",\"f.52\",\"f.53\",\"f.54\",\"f.55\",\"f.56\",\"f.57\",\"f.58\",\"f.59\",\"f.60\",\"f.61\",\"f.62\",\"f.63\",\"f.64\",\"f.65\",\"f.66\",\"f.67\",\"f.68\",\"f.69\",\"f.70\",\"f.71\",\"f.72\",\"f.73\",\"f.74\",\"f.75\",\"f.76\",\"f.77\",\"f.78\",\"f.79\",\"f.80\",\"f.81\",\"f.82\",\"f.83\",\"f.84\",\"f.85\",\"f.86\",\"f.87\",\"f.88\",\"f.89\",\"f.90\",\"f.91\",\"f.92\",\"f.93\",\"f.94\",\"f.95\",\"f.96\",\"f.97\",\"f.98\"],\"marker\":{\"colors\":[\"#ffffff\",\"#8e0152\",\"#ffffff\",\"#ffffff\",\"#ffffff\",\"#8e0152\",\"#ffffff\",\"#ffffff\",\"#ffffff\",\"#ffffff\",\"#ffffff\",\"#ffffff\",\"#ffffff\",\"#cf4191\",\"#cf4191\",\"#ffffff\",\"#ffffff\",\"#ffffff\",\"#eeadd4\",\"#ffffff\",\"#ffffff\",\"#ffffff\",\"#ffffff\",\"#fbe6f1\",\"#ffffff\",\"#ffffff\",\"#ffffff\",\"#ffffff\",\"#ffffff\",\"#ffffff\",\"#ffffff\",\"#ebf6db\",\"#ebf6db\",\"#ffffff\",\"#ebf6db\",\"#ffffff\",\"#ffffff\",\"#ffffff\",\"#ffffff\",\"#ffffff\",\"#ffffff\",\"#ffffff\",\"#ffffff\",\"#ffffff\",\"#ffffff\",\"#ffffff\",\"#ffffff\",\"#ffffff\",\"#ffffff\",\"#ffffff\",\"#ffffff\",\"#ffffff\",\"#ebf6db\",\"#ebf6db\",\"#ffffff\",\"#ffffff\",\"#ffffff\",\"#ffffff\",\"#ffffff\",\"#ffffff\",\"#ffffff\",\"#ffffff\",\"#ffffff\",\"#ffffff\",\"#b0dc7d\",\"#ffffff\",\"#b0dc7d\",\"#b0dc7d\",\"#b0dc7d\",\"#ffffff\",\"#ffffff\",\"#ffffff\",\"#ffffff\",\"#ffffff\",\"#ffffff\",\"#ffffff\",\"#b0dc7d\",\"#b0dc7d\",\"#ffffff\",\"#ffffff\",\"#ffffff\",\"#ffffff\",\"#ffffff\",\"#ffffff\",\"#ffffff\",\"#ffffff\",\"#ffffff\",\"#ffffff\",\"#ffffff\",\"#ffffff\",\"#ffffff\",\"#ffffff\",\"#ffffff\",\"#ffffff\",\"#ffffff\",\"#ffffff\",\"#ffffff\",\"#ffffff\"],\"line\":{\"color\":\"#000000\",\"width\":0.25}},\"showlegend\":false,\"sort\":false,\"textfont\":{\"size\":7},\"textinfo\":\"label\",\"textposition\":\"inside\",\"values\":[1,1,1,1,1,1,1,1,1,1,1,1,1,1,1,1,1,1,1,1,1,1,1,1,1,1,1,1,1,1,1,1,1,1,1,1,1,1,1,1,1,1,1,1,1,1,1,1,1,1,1,1,1,1,1,1,1,1,1,1,1,1,1,1,1,1,1,1,1,1,1,1,1,1,1,1,1,1,1,1,1,1,1,1,1,1,1,1,1,1,1,1,1,1,1,1,1,1],\"type\":\"pie\"}],                        {\"template\":{\"data\":{\"histogram2dcontour\":[{\"type\":\"histogram2dcontour\",\"colorbar\":{\"outlinewidth\":0,\"ticks\":\"\"},\"colorscale\":[[0.0,\"#0d0887\"],[0.1111111111111111,\"#46039f\"],[0.2222222222222222,\"#7201a8\"],[0.3333333333333333,\"#9c179e\"],[0.4444444444444444,\"#bd3786\"],[0.5555555555555556,\"#d8576b\"],[0.6666666666666666,\"#ed7953\"],[0.7777777777777778,\"#fb9f3a\"],[0.8888888888888888,\"#fdca26\"],[1.0,\"#f0f921\"]]}],\"choropleth\":[{\"type\":\"choropleth\",\"colorbar\":{\"outlinewidth\":0,\"ticks\":\"\"}}],\"histogram2d\":[{\"type\":\"histogram2d\",\"colorbar\":{\"outlinewidth\":0,\"ticks\":\"\"},\"colorscale\":[[0.0,\"#0d0887\"],[0.1111111111111111,\"#46039f\"],[0.2222222222222222,\"#7201a8\"],[0.3333333333333333,\"#9c179e\"],[0.4444444444444444,\"#bd3786\"],[0.5555555555555556,\"#d8576b\"],[0.6666666666666666,\"#ed7953\"],[0.7777777777777778,\"#fb9f3a\"],[0.8888888888888888,\"#fdca26\"],[1.0,\"#f0f921\"]]}],\"heatmap\":[{\"type\":\"heatmap\",\"colorbar\":{\"outlinewidth\":0,\"ticks\":\"\"},\"colorscale\":[[0.0,\"#0d0887\"],[0.1111111111111111,\"#46039f\"],[0.2222222222222222,\"#7201a8\"],[0.3333333333333333,\"#9c179e\"],[0.4444444444444444,\"#bd3786\"],[0.5555555555555556,\"#d8576b\"],[0.6666666666666666,\"#ed7953\"],[0.7777777777777778,\"#fb9f3a\"],[0.8888888888888888,\"#fdca26\"],[1.0,\"#f0f921\"]]}],\"heatmapgl\":[{\"type\":\"heatmapgl\",\"colorbar\":{\"outlinewidth\":0,\"ticks\":\"\"},\"colorscale\":[[0.0,\"#0d0887\"],[0.1111111111111111,\"#46039f\"],[0.2222222222222222,\"#7201a8\"],[0.3333333333333333,\"#9c179e\"],[0.4444444444444444,\"#bd3786\"],[0.5555555555555556,\"#d8576b\"],[0.6666666666666666,\"#ed7953\"],[0.7777777777777778,\"#fb9f3a\"],[0.8888888888888888,\"#fdca26\"],[1.0,\"#f0f921\"]]}],\"contourcarpet\":[{\"type\":\"contourcarpet\",\"colorbar\":{\"outlinewidth\":0,\"ticks\":\"\"}}],\"contour\":[{\"type\":\"contour\",\"colorbar\":{\"outlinewidth\":0,\"ticks\":\"\"},\"colorscale\":[[0.0,\"#0d0887\"],[0.1111111111111111,\"#46039f\"],[0.2222222222222222,\"#7201a8\"],[0.3333333333333333,\"#9c179e\"],[0.4444444444444444,\"#bd3786\"],[0.5555555555555556,\"#d8576b\"],[0.6666666666666666,\"#ed7953\"],[0.7777777777777778,\"#fb9f3a\"],[0.8888888888888888,\"#fdca26\"],[1.0,\"#f0f921\"]]}],\"surface\":[{\"type\":\"surface\",\"colorbar\":{\"outlinewidth\":0,\"ticks\":\"\"},\"colorscale\":[[0.0,\"#0d0887\"],[0.1111111111111111,\"#46039f\"],[0.2222222222222222,\"#7201a8\"],[0.3333333333333333,\"#9c179e\"],[0.4444444444444444,\"#bd3786\"],[0.5555555555555556,\"#d8576b\"],[0.6666666666666666,\"#ed7953\"],[0.7777777777777778,\"#fb9f3a\"],[0.8888888888888888,\"#fdca26\"],[1.0,\"#f0f921\"]]}],\"mesh3d\":[{\"type\":\"mesh3d\",\"colorbar\":{\"outlinewidth\":0,\"ticks\":\"\"}}],\"scatter\":[{\"fillpattern\":{\"fillmode\":\"overlay\",\"size\":10,\"solidity\":0.2},\"type\":\"scatter\"}],\"parcoords\":[{\"type\":\"parcoords\",\"line\":{\"colorbar\":{\"outlinewidth\":0,\"ticks\":\"\"}}}],\"scatterpolargl\":[{\"type\":\"scatterpolargl\",\"marker\":{\"colorbar\":{\"outlinewidth\":0,\"ticks\":\"\"}}}],\"bar\":[{\"error_x\":{\"color\":\"#2a3f5f\"},\"error_y\":{\"color\":\"#2a3f5f\"},\"marker\":{\"line\":{\"color\":\"#E5ECF6\",\"width\":0.5},\"pattern\":{\"fillmode\":\"overlay\",\"size\":10,\"solidity\":0.2}},\"type\":\"bar\"}],\"scattergeo\":[{\"type\":\"scattergeo\",\"marker\":{\"colorbar\":{\"outlinewidth\":0,\"ticks\":\"\"}}}],\"scatterpolar\":[{\"type\":\"scatterpolar\",\"marker\":{\"colorbar\":{\"outlinewidth\":0,\"ticks\":\"\"}}}],\"histogram\":[{\"marker\":{\"pattern\":{\"fillmode\":\"overlay\",\"size\":10,\"solidity\":0.2}},\"type\":\"histogram\"}],\"scattergl\":[{\"type\":\"scattergl\",\"marker\":{\"colorbar\":{\"outlinewidth\":0,\"ticks\":\"\"}}}],\"scatter3d\":[{\"type\":\"scatter3d\",\"line\":{\"colorbar\":{\"outlinewidth\":0,\"ticks\":\"\"}},\"marker\":{\"colorbar\":{\"outlinewidth\":0,\"ticks\":\"\"}}}],\"scattermapbox\":[{\"type\":\"scattermapbox\",\"marker\":{\"colorbar\":{\"outlinewidth\":0,\"ticks\":\"\"}}}],\"scatterternary\":[{\"type\":\"scatterternary\",\"marker\":{\"colorbar\":{\"outlinewidth\":0,\"ticks\":\"\"}}}],\"scattercarpet\":[{\"type\":\"scattercarpet\",\"marker\":{\"colorbar\":{\"outlinewidth\":0,\"ticks\":\"\"}}}],\"carpet\":[{\"aaxis\":{\"endlinecolor\":\"#2a3f5f\",\"gridcolor\":\"white\",\"linecolor\":\"white\",\"minorgridcolor\":\"white\",\"startlinecolor\":\"#2a3f5f\"},\"baxis\":{\"endlinecolor\":\"#2a3f5f\",\"gridcolor\":\"white\",\"linecolor\":\"white\",\"minorgridcolor\":\"white\",\"startlinecolor\":\"#2a3f5f\"},\"type\":\"carpet\"}],\"table\":[{\"cells\":{\"fill\":{\"color\":\"#EBF0F8\"},\"line\":{\"color\":\"white\"}},\"header\":{\"fill\":{\"color\":\"#C8D4E3\"},\"line\":{\"color\":\"white\"}},\"type\":\"table\"}],\"barpolar\":[{\"marker\":{\"line\":{\"color\":\"#E5ECF6\",\"width\":0.5},\"pattern\":{\"fillmode\":\"overlay\",\"size\":10,\"solidity\":0.2}},\"type\":\"barpolar\"}],\"pie\":[{\"automargin\":true,\"type\":\"pie\"}]},\"layout\":{\"autotypenumbers\":\"strict\",\"colorway\":[\"#636efa\",\"#EF553B\",\"#00cc96\",\"#ab63fa\",\"#FFA15A\",\"#19d3f3\",\"#FF6692\",\"#B6E880\",\"#FF97FF\",\"#FECB52\"],\"font\":{\"color\":\"#2a3f5f\"},\"hovermode\":\"closest\",\"hoverlabel\":{\"align\":\"left\"},\"paper_bgcolor\":\"white\",\"plot_bgcolor\":\"#E5ECF6\",\"polar\":{\"bgcolor\":\"#E5ECF6\",\"angularaxis\":{\"gridcolor\":\"white\",\"linecolor\":\"white\",\"ticks\":\"\"},\"radialaxis\":{\"gridcolor\":\"white\",\"linecolor\":\"white\",\"ticks\":\"\"}},\"ternary\":{\"bgcolor\":\"#E5ECF6\",\"aaxis\":{\"gridcolor\":\"white\",\"linecolor\":\"white\",\"ticks\":\"\"},\"baxis\":{\"gridcolor\":\"white\",\"linecolor\":\"white\",\"ticks\":\"\"},\"caxis\":{\"gridcolor\":\"white\",\"linecolor\":\"white\",\"ticks\":\"\"}},\"coloraxis\":{\"colorbar\":{\"outlinewidth\":0,\"ticks\":\"\"}},\"colorscale\":{\"sequential\":[[0.0,\"#0d0887\"],[0.1111111111111111,\"#46039f\"],[0.2222222222222222,\"#7201a8\"],[0.3333333333333333,\"#9c179e\"],[0.4444444444444444,\"#bd3786\"],[0.5555555555555556,\"#d8576b\"],[0.6666666666666666,\"#ed7953\"],[0.7777777777777778,\"#fb9f3a\"],[0.8888888888888888,\"#fdca26\"],[1.0,\"#f0f921\"]],\"sequentialminus\":[[0.0,\"#0d0887\"],[0.1111111111111111,\"#46039f\"],[0.2222222222222222,\"#7201a8\"],[0.3333333333333333,\"#9c179e\"],[0.4444444444444444,\"#bd3786\"],[0.5555555555555556,\"#d8576b\"],[0.6666666666666666,\"#ed7953\"],[0.7777777777777778,\"#fb9f3a\"],[0.8888888888888888,\"#fdca26\"],[1.0,\"#f0f921\"]],\"diverging\":[[0,\"#8e0152\"],[0.1,\"#c51b7d\"],[0.2,\"#de77ae\"],[0.3,\"#f1b6da\"],[0.4,\"#fde0ef\"],[0.5,\"#f7f7f7\"],[0.6,\"#e6f5d0\"],[0.7,\"#b8e186\"],[0.8,\"#7fbc41\"],[0.9,\"#4d9221\"],[1,\"#276419\"]]},\"xaxis\":{\"gridcolor\":\"white\",\"linecolor\":\"white\",\"ticks\":\"\",\"title\":{\"standoff\":15},\"zerolinecolor\":\"white\",\"automargin\":true,\"zerolinewidth\":2},\"yaxis\":{\"gridcolor\":\"white\",\"linecolor\":\"white\",\"ticks\":\"\",\"title\":{\"standoff\":15},\"zerolinecolor\":\"white\",\"automargin\":true,\"zerolinewidth\":2},\"scene\":{\"xaxis\":{\"backgroundcolor\":\"#E5ECF6\",\"gridcolor\":\"white\",\"linecolor\":\"white\",\"showbackground\":true,\"ticks\":\"\",\"zerolinecolor\":\"white\",\"gridwidth\":2},\"yaxis\":{\"backgroundcolor\":\"#E5ECF6\",\"gridcolor\":\"white\",\"linecolor\":\"white\",\"showbackground\":true,\"ticks\":\"\",\"zerolinecolor\":\"white\",\"gridwidth\":2},\"zaxis\":{\"backgroundcolor\":\"#E5ECF6\",\"gridcolor\":\"white\",\"linecolor\":\"white\",\"showbackground\":true,\"ticks\":\"\",\"zerolinecolor\":\"white\",\"gridwidth\":2}},\"shapedefaults\":{\"line\":{\"color\":\"#2a3f5f\"}},\"annotationdefaults\":{\"arrowcolor\":\"#2a3f5f\",\"arrowhead\":0,\"arrowwidth\":1},\"geo\":{\"bgcolor\":\"white\",\"landcolor\":\"#E5ECF6\",\"subunitcolor\":\"white\",\"showland\":true,\"showlakes\":true,\"lakecolor\":\"white\"},\"title\":{\"x\":0.05},\"mapbox\":{\"style\":\"light\"}}},\"annotations\":[{\"font\":{\"size\":16},\"showarrow\":false,\"text\":\"level 1\",\"x\":0.225,\"xanchor\":\"center\",\"xref\":\"paper\",\"y\":1.0,\"yanchor\":\"bottom\",\"yref\":\"paper\"},{\"font\":{\"size\":16},\"showarrow\":false,\"text\":\"level 2\",\"x\":0.775,\"xanchor\":\"center\",\"xref\":\"paper\",\"y\":1.0,\"yanchor\":\"bottom\",\"yref\":\"paper\"},{\"font\":{\"size\":16},\"showarrow\":false,\"text\":\"level 3\",\"x\":0.5,\"xanchor\":\"center\",\"xref\":\"paper\",\"y\":0.6111111111111112,\"yanchor\":\"bottom\",\"yref\":\"paper\"},{\"font\":{\"size\":16},\"showarrow\":false,\"text\":\"ERMS\",\"x\":0.5,\"xanchor\":\"center\",\"xref\":\"paper\",\"y\":0.22222222222222224,\"yanchor\":\"bottom\",\"yref\":\"paper\"}],\"margin\":{\"r\":0,\"t\":0,\"l\":0,\"b\":0},\"title\":{\"text\":\"Enhanced record minimum standard (ERMS)\",\"x\":0.5},\"height\":1000},                        {\"responsive\": true}                    ).then(function(){\n",
              "                            \n",
              "var gd = document.getElementById('96c4f62e-60ed-4760-a1c9-979023d7bdec');\n",
              "var x = new MutationObserver(function (mutations, observer) {{\n",
              "        var display = window.getComputedStyle(gd).display;\n",
              "        if (!display || display === 'none') {{\n",
              "            console.log([gd, 'removed!']);\n",
              "            Plotly.purge(gd);\n",
              "            observer.disconnect();\n",
              "        }}\n",
              "}});\n",
              "\n",
              "// Listen for the removal of the full notebook cells\n",
              "var notebookContainer = gd.closest('#notebook-container');\n",
              "if (notebookContainer) {{\n",
              "    x.observe(notebookContainer, {childList: true});\n",
              "}}\n",
              "\n",
              "// Listen for the clearing of the current output cell\n",
              "var outputEl = gd.closest('.output');\n",
              "if (outputEl) {{\n",
              "    x.observe(outputEl, {childList: true});\n",
              "}}\n",
              "\n",
              "                        })                };                });            </script>        </div>"
            ]
          },
          "metadata": {}
        }
      ]
    },
    {
      "cell_type": "code",
      "source": [
        "# Create subplot grid with pie chart subplots\n",
        "fig = make_subplots(rows=2, cols=2, subplot_titles=['level 1', 'level 2', 'level 3', 'ERMS'],\n",
        "                    specs=[[{'type': 'pie'}, {'type': 'pie'}],\n",
        "                     [{'type': 'pie'}, {'type': 'pie'}]])\n",
        "\n",
        "\n",
        "# Add go.Pie figures to the subplot grid\n",
        "fig.add_trace(fig_level1.data[0], row=1, col=1)\n",
        "fig.add_trace(fig_level2.data[0], row=1, col=2)\n",
        "fig.add_trace(fig_level3.data[0], row=2, col=1)\n",
        "fig.add_trace(fig_erms.data[0], row=2, col=2)\n",
        "\n",
        "# Update layout to adjust overall size\n",
        "fig.update_layout(height=1200,  # Adjust these values\n",
        "                  margin=dict(r=0, t=0, l=0, b=0),\n",
        "                  title_text=\"Enhanced Record Minimum Standard (ERMS)\",\n",
        "                  title_x=0.5,\n",
        "                  annotations=[\n",
        "                      dict(\n",
        "                          x=0.5,\n",
        "                          y=1.05,\n",
        "                          xref=\"paper\",\n",
        "                          yref=\"paper\",\n",
        "                          text=\"Enhanced Record Minimum Standard (ERMS)\",\n",
        "                          showarrow=False,\n",
        "                          font=dict(size=16),\n",
        "                      )\n",
        "                  ])\n",
        "\n",
        "# Show the subplot grid\n",
        "fig.show()"
      ],
      "metadata": {
        "colab": {
          "base_uri": "https://localhost:8080/",
          "height": 1000
        },
        "id": "toQLcm8fVNd6",
        "outputId": "0725e9ab-4fcf-45e7-8ef2-ec1f5997d383"
      },
      "execution_count": 397,
      "outputs": [
        {
          "output_type": "display_data",
          "data": {
            "application/vnd.plotly.v1+json": {
              "data": [
                {
                  "customdata": [
                    "ASSESSMENT SUMMARY",
                    "RESOURCE SUMMARY",
                    "GEOMETRIES",
                    "GEOGRAPHY",
                    "ARCHAEOLOGICAL ASSESSMENT",
                    "CONDITION ASSESSMENT",
                    "ENVIRONMENT ASSESSMENT",
                    "ACCESS"
                  ],
                  "hovertemplate": "%{customdata}",
                  "labels": [
                    "ASSESSMENT SUMMARY",
                    "RESOURCE SUMMARY",
                    "GEOMETRIES",
                    "GEOGRAPHY",
                    "ARCHAEOLOGICAL ASSESSMENT",
                    "CONDITION ASSESSMENT",
                    "ENVIRONMENT ASSESSMENT",
                    "ACCESS"
                  ],
                  "legendgroup": "1",
                  "marker": {
                    "colors": [
                      "#8e0152",
                      "#cf4191",
                      "#eeadd4",
                      "#fbe6f1",
                      "#ebf6db",
                      "#b0dc7d",
                      "#62a32e",
                      "#276419"
                    ],
                    "line": {
                      "color": "#000000",
                      "width": 0.25
                    }
                  },
                  "sort": false,
                  "textfont": {
                    "size": 16
                  },
                  "textinfo": "value",
                  "values": [
                    8,
                    10,
                    4,
                    9,
                    33,
                    20,
                    13,
                    1
                  ],
                  "type": "pie",
                  "domain": {
                    "x": [
                      0,
                      0.45
                    ],
                    "y": [
                      0.625,
                      1
                    ]
                  }
                },
                {
                  "customdata": [
                    "ASSESSMENT ACTIVITY",
                    "RESOURCE NAME",
                    "RESOURCE SUMMARY",
                    "RESOURCE DESCRIPTION",
                    "HERITAGE RESOURCE CLASSIFICATION",
                    "DESIGNATION",
                    "GEOMETRIES",
                    "GEOGRAPHY",
                    "ADDRESS",
                    "ADMINISTRATIVE SUBDIVISION",
                    "ARCHAEOLOGICAL ASSESSMENT",
                    "PERIODIZATION",
                    "ABSOLUTE CHRONOLOGY",
                    "SITE FEATURES and INTERPRETATIONS",
                    "MATERIAL",
                    "Measurements",
                    "CONDITION ASSESSMENT",
                    "DISTURBANCES",
                    "THREATS",
                    "RECOMMENDATION PLAN",
                    "ENVIRONMENT ASSESSMENT",
                    "LAND COVER",
                    "SURFICIAL GEOLOGY",
                    "MARINE ENVIRONMENT",
                    "DEPTH or ELEVATION",
                    "ACCESS"
                  ],
                  "hovertemplate": "%{customdata}",
                  "labels": [
                    "ASSESSMENT ACTIVITY",
                    "RESOURCE NAME",
                    "RESOURCE SUMMARY",
                    "RESOURCE DESCRIPTION",
                    "HERITAGE RESOURCE CLASSIFICATION",
                    "DESIGNATION",
                    "GEOMETRIES",
                    "GEOGRAPHY",
                    "ADDRESS",
                    "ADMINISTRATIVE SUBDIVISION",
                    "ARCHAEOLOGICAL ASSESSMENT",
                    "PERIODIZATION",
                    "ABSOLUTE CHRONOLOGY",
                    "SITE FEATURES and INTERPRETATIONS",
                    "MATERIAL",
                    "Measurements",
                    "CONDITION ASSESSMENT",
                    "DISTURBANCES",
                    "THREATS",
                    "RECOMMENDATION PLAN",
                    "ENVIRONMENT ASSESSMENT",
                    "LAND COVER",
                    "SURFICIAL GEOLOGY",
                    "MARINE ENVIRONMENT",
                    "DEPTH or ELEVATION",
                    "ACCESS"
                  ],
                  "marker": {
                    "colors": [
                      "#8e0152",
                      "#cf4191",
                      "#cf4191",
                      "#cf4191",
                      "#cf4191",
                      "#cf4191",
                      "#eeadd4",
                      "#fbe6f1",
                      "#fbe6f1",
                      "#fbe6f1",
                      "#ebf6db",
                      "#ebf6db",
                      "#ebf6db",
                      "#ebf6db",
                      "#ebf6db",
                      "#ebf6db",
                      "#b0dc7d",
                      "#b0dc7d",
                      "#b0dc7d",
                      "#b0dc7d",
                      "#62a32e",
                      "#62a32e",
                      "#62a32e",
                      "#62a32e",
                      "#62a32e",
                      "#276419"
                    ],
                    "line": {
                      "color": "#000000",
                      "width": 0.25
                    }
                  },
                  "showlegend": false,
                  "sort": false,
                  "textfont": {
                    "size": 16
                  },
                  "textinfo": "value",
                  "values": [
                    8,
                    2,
                    1,
                    2,
                    2,
                    3,
                    4,
                    5,
                    2,
                    2,
                    3,
                    5,
                    8,
                    10,
                    3,
                    4,
                    3,
                    10,
                    4,
                    3,
                    2,
                    2,
                    2,
                    3,
                    4,
                    1
                  ],
                  "type": "pie",
                  "domain": {
                    "x": [
                      0.55,
                      1
                    ],
                    "y": [
                      0.625,
                      1
                    ]
                  }
                },
                {
                  "hoverinfo": "label",
                  "labels": [
                    "f.1: Assessment Investigator - Actor",
                    "f.2: Investigator Role Type",
                    "f.3: Assessment Activity Type",
                    "f.4: Assessment Activity Date",
                    "f.5: Google Earth Assessment",
                    "f.6: GE Imagery Acquisition Date",
                    "f.7: Information Resource",
                    "f.8: Information Resource Acquisition Date",
                    "f.9: Resource Name",
                    "f.10: Name Type",
                    "f.11: Heritage Place Type",
                    "f.12: General Description Type",
                    "f.13: General Description",
                    "f.14: Heritage Place Function",
                    "f.15: Heritage Place Function Certainty ",
                    "f.16: Designation",
                    "f.17: Designation From Date",
                    "f.18: Designation To Date",
                    "f.19: Geometric Place Expression",
                    "f.20: Geometry Qualifier",
                    "f.21: Location Certainty",
                    "f.22: Geometry Extent Certainty",
                    "f.23: Overall Site Shape Type",
                    "f.24: Grid ID",
                    "f.25: Country Type",
                    "f.26: Cadastral Reference",
                    "f.27: Resource Orientation",
                    "f.28: Address",
                    "f.29: Address Type",
                    "f.30: Administrative Division ",
                    "f.31: Administrative Division Type",
                    "f.32: Overall Archaeological Certainty Value ",
                    "f.33: Overall Site Morphology Type",
                    "f.34: Cultural Period Type",
                    "f.35: Cultural Period Certainty",
                    "f.36: Cultural Sub-period Type",
                    "f.37: Cultural Sub-period Certainty",
                    "f.38: Date Inference Making Actor",
                    "f.39: Archaeological From Date",
                    "f.40: Archaeological To Date",
                    "f.41: BP Date From",
                    "f.42: BP Date To",
                    "f.43: AH Date From",
                    "f.44: AH Date To",
                    "f.45: SH Date From",
                    "f.46: SH Date to",
                    "f.47: Site Feature Form Type",
                    "f.48: Site Feature Form Type Certainty",
                    "f.49: Site Feature Shape Type",
                    "f.50: Site Feature Arrangement Type",
                    "f.51: Site Feature Number Type",
                    "f.52: Site Feature Interpretation Type",
                    "f.53: Site Feature Interpretation Number Type",
                    "f.54: Site Feature Interpretation Certainty",
                    "f.55: Built Component",
                    "f.56: Heritage Place Resource Instance",
                    "f.57: Material Class",
                    "f.58: Material Type",
                    "f.59: Construction Technique",
                    "f.60: Measurement Number",
                    "f.61: Measurement Unit",
                    "f.62: Dimension Type",
                    "f.63: Measurement Source Type ",
                    "f.64: Related Geoarchaeology/Palaeolandscape",
                    "f.65: Overall Condition State Type",
                    "f.66: Damage Extent Type",
                    "f.67: Disturbance Cause Category Type",
                    "f.68: Disturbance Cause Type ",
                    "f.69: Disturbance Cause Certainty ",
                    "f.70: Disturbance Date From",
                    "f.71: Disturbance Date To ",
                    "f.72: Disturbance Date Occurred Before",
                    "f.73: Disturbance Date Occurred On ",
                    "f.74: Disturbance Cause Assignment Assessor Name - Actor",
                    "f.75: Effect Type",
                    "f.76: Effect Certainty",
                    "f.77: Threat Category",
                    "f.78: Threat Cause Type",
                    "f.79: Threat Probability ",
                    "f.80: Threat Inference Making Assessor Name - Actor",
                    "f.81: Intervention Activity Type",
                    "f.82: Recommendation Type",
                    "f.83: Priority Type",
                    "f.84: Detailed Condition Assessments",
                    "f.85: Topography Type",
                    "f.86: Land Cover Type",
                    "f.87: Land Cover Assessment Date",
                    "f.88: Surficial Geology Type",
                    "f.89: Depositional Process",
                    "f.90: Bedrock Geology Type",
                    "f.91: Fetch Type",
                    "f.92: Wave Climate",
                    "f.93: Tidal Range",
                    "f.94: Minimum Depth/Max Elevation",
                    "f.95: Maximum Depth/Min Elevation",
                    "f.96: Datum Type",
                    "f.97: Datum Description/EPSG code",
                    "f.98: Restricted Access Record Designation"
                  ],
                  "legendgroup": "3",
                  "marker": {
                    "colors": [
                      "#8e0152",
                      "#8e0152",
                      "#8e0152",
                      "#8e0152",
                      "#8e0152",
                      "#8e0152",
                      "#8e0152",
                      "#8e0152",
                      "#cf4191",
                      "#cf4191",
                      "#cf4191",
                      "#cf4191",
                      "#cf4191",
                      "#cf4191",
                      "#cf4191",
                      "#cf4191",
                      "#cf4191",
                      "#cf4191",
                      "#eeadd4",
                      "#eeadd4",
                      "#eeadd4",
                      "#eeadd4",
                      "#fbe6f1",
                      "#fbe6f1",
                      "#fbe6f1",
                      "#fbe6f1",
                      "#fbe6f1",
                      "#fbe6f1",
                      "#fbe6f1",
                      "#fbe6f1",
                      "#fbe6f1",
                      "#ebf6db",
                      "#ebf6db",
                      "#ebf6db",
                      "#ebf6db",
                      "#ebf6db",
                      "#ebf6db",
                      "#ebf6db",
                      "#ebf6db",
                      "#ebf6db",
                      "#ebf6db",
                      "#ebf6db",
                      "#ebf6db",
                      "#ebf6db",
                      "#ebf6db",
                      "#ebf6db",
                      "#ebf6db",
                      "#ebf6db",
                      "#ebf6db",
                      "#ebf6db",
                      "#ebf6db",
                      "#ebf6db",
                      "#ebf6db",
                      "#ebf6db",
                      "#ebf6db",
                      "#ebf6db",
                      "#ebf6db",
                      "#ebf6db",
                      "#ebf6db",
                      "#ebf6db",
                      "#ebf6db",
                      "#ebf6db",
                      "#ebf6db",
                      "#ebf6db",
                      "#b0dc7d",
                      "#b0dc7d",
                      "#b0dc7d",
                      "#b0dc7d",
                      "#b0dc7d",
                      "#b0dc7d",
                      "#b0dc7d",
                      "#b0dc7d",
                      "#b0dc7d",
                      "#b0dc7d",
                      "#b0dc7d",
                      "#b0dc7d",
                      "#b0dc7d",
                      "#b0dc7d",
                      "#b0dc7d",
                      "#b0dc7d",
                      "#b0dc7d",
                      "#b0dc7d",
                      "#b0dc7d",
                      "#b0dc7d",
                      "#62a32e",
                      "#62a32e",
                      "#62a32e",
                      "#62a32e",
                      "#62a32e",
                      "#62a32e",
                      "#62a32e",
                      "#62a32e",
                      "#62a32e",
                      "#62a32e",
                      "#62a32e",
                      "#62a32e",
                      "#62a32e",
                      "#276419"
                    ],
                    "line": {
                      "color": "#000000",
                      "width": 0.25
                    }
                  },
                  "sort": false,
                  "textfont": {
                    "size": 7
                  },
                  "textinfo": "label",
                  "textposition": "inside",
                  "values": [
                    1,
                    1,
                    1,
                    1,
                    1,
                    1,
                    1,
                    1,
                    1,
                    1,
                    1,
                    1,
                    1,
                    1,
                    1,
                    1,
                    1,
                    1,
                    1,
                    1,
                    1,
                    1,
                    1,
                    1,
                    1,
                    1,
                    1,
                    1,
                    1,
                    1,
                    1,
                    1,
                    1,
                    1,
                    1,
                    1,
                    1,
                    1,
                    1,
                    1,
                    1,
                    1,
                    1,
                    1,
                    1,
                    1,
                    1,
                    1,
                    1,
                    1,
                    1,
                    1,
                    1,
                    1,
                    1,
                    1,
                    1,
                    1,
                    1,
                    1,
                    1,
                    1,
                    1,
                    1,
                    1,
                    1,
                    1,
                    1,
                    1,
                    1,
                    1,
                    1,
                    1,
                    1,
                    1,
                    1,
                    1,
                    1,
                    1,
                    1,
                    1,
                    1,
                    1,
                    1,
                    1,
                    1,
                    1,
                    1,
                    1,
                    1,
                    1,
                    1,
                    1,
                    1,
                    1,
                    1,
                    1,
                    1
                  ],
                  "type": "pie",
                  "domain": {
                    "x": [
                      0,
                      0.45
                    ],
                    "y": [
                      0,
                      0.375
                    ]
                  }
                },
                {
                  "customdata": [
                    "f.1: Assessment Investigator - Actor",
                    "f.2: Investigator Role Type",
                    "f.3: Assessment Activity Type",
                    "f.4: Assessment Activity Date",
                    "f.5: Google Earth Assessment",
                    "f.6: GE Imagery Acquisition Date",
                    "f.7: Information Resource",
                    "f.8: Information Resource Acquisition Date",
                    "f.9: Resource Name",
                    "f.10: Name Type",
                    "f.11: Heritage Place Type",
                    "f.12: General Description Type",
                    "f.13: General Description",
                    "f.14: Heritage Place Function",
                    "f.15: Heritage Place Function Certainty ",
                    "f.16: Designation",
                    "f.17: Designation From Date",
                    "f.18: Designation To Date",
                    "f.19: Geometric Place Expression",
                    "f.20: Geometry Qualifier",
                    "f.21: Location Certainty",
                    "f.22: Geometry Extent Certainty",
                    "f.23: Overall Site Shape Type",
                    "f.24: Grid ID",
                    "f.25: Country Type",
                    "f.26: Cadastral Reference",
                    "f.27: Resource Orientation",
                    "f.28: Address",
                    "f.29: Address Type",
                    "f.30: Administrative Division ",
                    "f.31: Administrative Division Type",
                    "f.32: Overall Archaeological Certainty Value ",
                    "f.33: Overall Site Morphology Type",
                    "f.34: Cultural Period Type",
                    "f.35: Cultural Period Certainty",
                    "f.36: Cultural Sub-period Type",
                    "f.37: Cultural Sub-period Certainty",
                    "f.38: Date Inference Making Actor",
                    "f.39: Archaeological From Date",
                    "f.40: Archaeological To Date",
                    "f.41: BP Date From",
                    "f.42: BP Date To",
                    "f.43: AH Date From",
                    "f.44: AH Date To",
                    "f.45: SH Date From",
                    "f.46: SH Date to",
                    "f.47: Site Feature Form Type",
                    "f.48: Site Feature Form Type Certainty",
                    "f.49: Site Feature Shape Type",
                    "f.50: Site Feature Arrangement Type",
                    "f.51: Site Feature Number Type",
                    "f.52: Site Feature Interpretation Type",
                    "f.53: Site Feature Interpretation Number Type",
                    "f.54: Site Feature Interpretation Certainty",
                    "f.55: Built Component",
                    "f.56: Heritage Place Resource Instance",
                    "f.57: Material Class",
                    "f.58: Material Type",
                    "f.59: Construction Technique",
                    "f.60: Measurement Number",
                    "f.61: Measurement Unit",
                    "f.62: Dimension Type",
                    "f.63: Measurement Source Type ",
                    "f.64: Related Geoarchaeology/Palaeolandscape",
                    "f.65: Overall Condition State Type",
                    "f.66: Damage Extent Type",
                    "f.67: Disturbance Cause Category Type",
                    "f.68: Disturbance Cause Type ",
                    "f.69: Disturbance Cause Certainty ",
                    "f.70: Disturbance Date From",
                    "f.71: Disturbance Date To ",
                    "f.72: Disturbance Date Occurred Before",
                    "f.73: Disturbance Date Occurred On ",
                    "f.74: Disturbance Cause Assignment Assessor Name - Actor",
                    "f.75: Effect Type",
                    "f.76: Effect Certainty",
                    "f.77: Threat Category",
                    "f.78: Threat Cause Type",
                    "f.79: Threat Probability ",
                    "f.80: Threat Inference Making Assessor Name - Actor",
                    "f.81: Intervention Activity Type",
                    "f.82: Recommendation Type",
                    "f.83: Priority Type",
                    "f.84: Detailed Condition Assessments",
                    "f.85: Topography Type",
                    "f.86: Land Cover Type",
                    "f.87: Land Cover Assessment Date",
                    "f.88: Surficial Geology Type",
                    "f.89: Depositional Process",
                    "f.90: Bedrock Geology Type",
                    "f.91: Fetch Type",
                    "f.92: Wave Climate",
                    "f.93: Tidal Range",
                    "f.94: Minimum Depth/Max Elevation",
                    "f.95: Maximum Depth/Min Elevation",
                    "f.96: Datum Type",
                    "f.97: Datum Description/EPSG code",
                    "f.98: Restricted Access Record Designation"
                  ],
                  "domain": {
                    "x": [
                      0.55,
                      1
                    ],
                    "y": [
                      0,
                      0.375
                    ]
                  },
                  "hoverinfo": "label+percent",
                  "hovertemplate": "%{customdata}",
                  "labels": [
                    "f.1",
                    "f.2",
                    "f.3",
                    "f.4",
                    "f.5",
                    "f.6",
                    "f.7",
                    "f.8",
                    "f.9",
                    "f.10",
                    "f.11",
                    "f.12",
                    "f.13",
                    "f.14",
                    "f.15",
                    "f.16",
                    "f.17",
                    "f.18",
                    "f.19",
                    "f.20",
                    "f.21",
                    "f.22",
                    "f.23",
                    "f.24",
                    "f.25",
                    "f.26",
                    "f.27",
                    "f.28",
                    "f.29",
                    "f.30",
                    "f.31",
                    "f.32",
                    "f.33",
                    "f.34",
                    "f.35",
                    "f.36",
                    "f.37",
                    "f.38",
                    "f.39",
                    "f.40",
                    "f.41",
                    "f.42",
                    "f.43",
                    "f.44",
                    "f.45",
                    "f.46",
                    "f.47",
                    "f.48",
                    "f.49",
                    "f.50",
                    "f.51",
                    "f.52",
                    "f.53",
                    "f.54",
                    "f.55",
                    "f.56",
                    "f.57",
                    "f.58",
                    "f.59",
                    "f.60",
                    "f.61",
                    "f.62",
                    "f.63",
                    "f.64",
                    "f.65",
                    "f.66",
                    "f.67",
                    "f.68",
                    "f.69",
                    "f.70",
                    "f.71",
                    "f.72",
                    "f.73",
                    "f.74",
                    "f.75",
                    "f.76",
                    "f.77",
                    "f.78",
                    "f.79",
                    "f.80",
                    "f.81",
                    "f.82",
                    "f.83",
                    "f.84",
                    "f.85",
                    "f.86",
                    "f.87",
                    "f.88",
                    "f.89",
                    "f.90",
                    "f.91",
                    "f.92",
                    "f.93",
                    "f.94",
                    "f.95",
                    "f.96",
                    "f.97",
                    "f.98"
                  ],
                  "marker": {
                    "colors": [
                      "#ffffff",
                      "#8e0152",
                      "#ffffff",
                      "#ffffff",
                      "#ffffff",
                      "#8e0152",
                      "#ffffff",
                      "#ffffff",
                      "#ffffff",
                      "#ffffff",
                      "#ffffff",
                      "#ffffff",
                      "#ffffff",
                      "#cf4191",
                      "#cf4191",
                      "#ffffff",
                      "#ffffff",
                      "#ffffff",
                      "#eeadd4",
                      "#ffffff",
                      "#ffffff",
                      "#ffffff",
                      "#ffffff",
                      "#fbe6f1",
                      "#ffffff",
                      "#ffffff",
                      "#ffffff",
                      "#ffffff",
                      "#ffffff",
                      "#ffffff",
                      "#ffffff",
                      "#ebf6db",
                      "#ebf6db",
                      "#ffffff",
                      "#ebf6db",
                      "#ffffff",
                      "#ffffff",
                      "#ffffff",
                      "#ffffff",
                      "#ffffff",
                      "#ffffff",
                      "#ffffff",
                      "#ffffff",
                      "#ffffff",
                      "#ffffff",
                      "#ffffff",
                      "#ffffff",
                      "#ffffff",
                      "#ffffff",
                      "#ffffff",
                      "#ffffff",
                      "#ffffff",
                      "#ebf6db",
                      "#ebf6db",
                      "#ffffff",
                      "#ffffff",
                      "#ffffff",
                      "#ffffff",
                      "#ffffff",
                      "#ffffff",
                      "#ffffff",
                      "#ffffff",
                      "#ffffff",
                      "#ffffff",
                      "#b0dc7d",
                      "#ffffff",
                      "#b0dc7d",
                      "#b0dc7d",
                      "#b0dc7d",
                      "#ffffff",
                      "#ffffff",
                      "#ffffff",
                      "#ffffff",
                      "#ffffff",
                      "#ffffff",
                      "#ffffff",
                      "#b0dc7d",
                      "#b0dc7d",
                      "#ffffff",
                      "#ffffff",
                      "#ffffff",
                      "#ffffff",
                      "#ffffff",
                      "#ffffff",
                      "#ffffff",
                      "#ffffff",
                      "#ffffff",
                      "#ffffff",
                      "#ffffff",
                      "#ffffff",
                      "#ffffff",
                      "#ffffff",
                      "#ffffff",
                      "#ffffff",
                      "#ffffff",
                      "#ffffff",
                      "#ffffff",
                      "#ffffff"
                    ],
                    "line": {
                      "color": "#000000",
                      "width": 0.25
                    }
                  },
                  "showlegend": false,
                  "sort": false,
                  "textfont": {
                    "size": 7
                  },
                  "textinfo": "label",
                  "textposition": "inside",
                  "values": [
                    1,
                    1,
                    1,
                    1,
                    1,
                    1,
                    1,
                    1,
                    1,
                    1,
                    1,
                    1,
                    1,
                    1,
                    1,
                    1,
                    1,
                    1,
                    1,
                    1,
                    1,
                    1,
                    1,
                    1,
                    1,
                    1,
                    1,
                    1,
                    1,
                    1,
                    1,
                    1,
                    1,
                    1,
                    1,
                    1,
                    1,
                    1,
                    1,
                    1,
                    1,
                    1,
                    1,
                    1,
                    1,
                    1,
                    1,
                    1,
                    1,
                    1,
                    1,
                    1,
                    1,
                    1,
                    1,
                    1,
                    1,
                    1,
                    1,
                    1,
                    1,
                    1,
                    1,
                    1,
                    1,
                    1,
                    1,
                    1,
                    1,
                    1,
                    1,
                    1,
                    1,
                    1,
                    1,
                    1,
                    1,
                    1,
                    1,
                    1,
                    1,
                    1,
                    1,
                    1,
                    1,
                    1,
                    1,
                    1,
                    1,
                    1,
                    1,
                    1,
                    1,
                    1,
                    1,
                    1,
                    1,
                    1
                  ],
                  "type": "pie"
                }
              ],
              "layout": {
                "template": {
                  "data": {
                    "histogram2dcontour": [
                      {
                        "type": "histogram2dcontour",
                        "colorbar": {
                          "outlinewidth": 0,
                          "ticks": ""
                        },
                        "colorscale": [
                          [
                            0,
                            "#0d0887"
                          ],
                          [
                            0.1111111111111111,
                            "#46039f"
                          ],
                          [
                            0.2222222222222222,
                            "#7201a8"
                          ],
                          [
                            0.3333333333333333,
                            "#9c179e"
                          ],
                          [
                            0.4444444444444444,
                            "#bd3786"
                          ],
                          [
                            0.5555555555555556,
                            "#d8576b"
                          ],
                          [
                            0.6666666666666666,
                            "#ed7953"
                          ],
                          [
                            0.7777777777777778,
                            "#fb9f3a"
                          ],
                          [
                            0.8888888888888888,
                            "#fdca26"
                          ],
                          [
                            1,
                            "#f0f921"
                          ]
                        ]
                      }
                    ],
                    "choropleth": [
                      {
                        "type": "choropleth",
                        "colorbar": {
                          "outlinewidth": 0,
                          "ticks": ""
                        }
                      }
                    ],
                    "histogram2d": [
                      {
                        "type": "histogram2d",
                        "colorbar": {
                          "outlinewidth": 0,
                          "ticks": ""
                        },
                        "colorscale": [
                          [
                            0,
                            "#0d0887"
                          ],
                          [
                            0.1111111111111111,
                            "#46039f"
                          ],
                          [
                            0.2222222222222222,
                            "#7201a8"
                          ],
                          [
                            0.3333333333333333,
                            "#9c179e"
                          ],
                          [
                            0.4444444444444444,
                            "#bd3786"
                          ],
                          [
                            0.5555555555555556,
                            "#d8576b"
                          ],
                          [
                            0.6666666666666666,
                            "#ed7953"
                          ],
                          [
                            0.7777777777777778,
                            "#fb9f3a"
                          ],
                          [
                            0.8888888888888888,
                            "#fdca26"
                          ],
                          [
                            1,
                            "#f0f921"
                          ]
                        ]
                      }
                    ],
                    "heatmap": [
                      {
                        "type": "heatmap",
                        "colorbar": {
                          "outlinewidth": 0,
                          "ticks": ""
                        },
                        "colorscale": [
                          [
                            0,
                            "#0d0887"
                          ],
                          [
                            0.1111111111111111,
                            "#46039f"
                          ],
                          [
                            0.2222222222222222,
                            "#7201a8"
                          ],
                          [
                            0.3333333333333333,
                            "#9c179e"
                          ],
                          [
                            0.4444444444444444,
                            "#bd3786"
                          ],
                          [
                            0.5555555555555556,
                            "#d8576b"
                          ],
                          [
                            0.6666666666666666,
                            "#ed7953"
                          ],
                          [
                            0.7777777777777778,
                            "#fb9f3a"
                          ],
                          [
                            0.8888888888888888,
                            "#fdca26"
                          ],
                          [
                            1,
                            "#f0f921"
                          ]
                        ]
                      }
                    ],
                    "heatmapgl": [
                      {
                        "type": "heatmapgl",
                        "colorbar": {
                          "outlinewidth": 0,
                          "ticks": ""
                        },
                        "colorscale": [
                          [
                            0,
                            "#0d0887"
                          ],
                          [
                            0.1111111111111111,
                            "#46039f"
                          ],
                          [
                            0.2222222222222222,
                            "#7201a8"
                          ],
                          [
                            0.3333333333333333,
                            "#9c179e"
                          ],
                          [
                            0.4444444444444444,
                            "#bd3786"
                          ],
                          [
                            0.5555555555555556,
                            "#d8576b"
                          ],
                          [
                            0.6666666666666666,
                            "#ed7953"
                          ],
                          [
                            0.7777777777777778,
                            "#fb9f3a"
                          ],
                          [
                            0.8888888888888888,
                            "#fdca26"
                          ],
                          [
                            1,
                            "#f0f921"
                          ]
                        ]
                      }
                    ],
                    "contourcarpet": [
                      {
                        "type": "contourcarpet",
                        "colorbar": {
                          "outlinewidth": 0,
                          "ticks": ""
                        }
                      }
                    ],
                    "contour": [
                      {
                        "type": "contour",
                        "colorbar": {
                          "outlinewidth": 0,
                          "ticks": ""
                        },
                        "colorscale": [
                          [
                            0,
                            "#0d0887"
                          ],
                          [
                            0.1111111111111111,
                            "#46039f"
                          ],
                          [
                            0.2222222222222222,
                            "#7201a8"
                          ],
                          [
                            0.3333333333333333,
                            "#9c179e"
                          ],
                          [
                            0.4444444444444444,
                            "#bd3786"
                          ],
                          [
                            0.5555555555555556,
                            "#d8576b"
                          ],
                          [
                            0.6666666666666666,
                            "#ed7953"
                          ],
                          [
                            0.7777777777777778,
                            "#fb9f3a"
                          ],
                          [
                            0.8888888888888888,
                            "#fdca26"
                          ],
                          [
                            1,
                            "#f0f921"
                          ]
                        ]
                      }
                    ],
                    "surface": [
                      {
                        "type": "surface",
                        "colorbar": {
                          "outlinewidth": 0,
                          "ticks": ""
                        },
                        "colorscale": [
                          [
                            0,
                            "#0d0887"
                          ],
                          [
                            0.1111111111111111,
                            "#46039f"
                          ],
                          [
                            0.2222222222222222,
                            "#7201a8"
                          ],
                          [
                            0.3333333333333333,
                            "#9c179e"
                          ],
                          [
                            0.4444444444444444,
                            "#bd3786"
                          ],
                          [
                            0.5555555555555556,
                            "#d8576b"
                          ],
                          [
                            0.6666666666666666,
                            "#ed7953"
                          ],
                          [
                            0.7777777777777778,
                            "#fb9f3a"
                          ],
                          [
                            0.8888888888888888,
                            "#fdca26"
                          ],
                          [
                            1,
                            "#f0f921"
                          ]
                        ]
                      }
                    ],
                    "mesh3d": [
                      {
                        "type": "mesh3d",
                        "colorbar": {
                          "outlinewidth": 0,
                          "ticks": ""
                        }
                      }
                    ],
                    "scatter": [
                      {
                        "fillpattern": {
                          "fillmode": "overlay",
                          "size": 10,
                          "solidity": 0.2
                        },
                        "type": "scatter"
                      }
                    ],
                    "parcoords": [
                      {
                        "type": "parcoords",
                        "line": {
                          "colorbar": {
                            "outlinewidth": 0,
                            "ticks": ""
                          }
                        }
                      }
                    ],
                    "scatterpolargl": [
                      {
                        "type": "scatterpolargl",
                        "marker": {
                          "colorbar": {
                            "outlinewidth": 0,
                            "ticks": ""
                          }
                        }
                      }
                    ],
                    "bar": [
                      {
                        "error_x": {
                          "color": "#2a3f5f"
                        },
                        "error_y": {
                          "color": "#2a3f5f"
                        },
                        "marker": {
                          "line": {
                            "color": "#E5ECF6",
                            "width": 0.5
                          },
                          "pattern": {
                            "fillmode": "overlay",
                            "size": 10,
                            "solidity": 0.2
                          }
                        },
                        "type": "bar"
                      }
                    ],
                    "scattergeo": [
                      {
                        "type": "scattergeo",
                        "marker": {
                          "colorbar": {
                            "outlinewidth": 0,
                            "ticks": ""
                          }
                        }
                      }
                    ],
                    "scatterpolar": [
                      {
                        "type": "scatterpolar",
                        "marker": {
                          "colorbar": {
                            "outlinewidth": 0,
                            "ticks": ""
                          }
                        }
                      }
                    ],
                    "histogram": [
                      {
                        "marker": {
                          "pattern": {
                            "fillmode": "overlay",
                            "size": 10,
                            "solidity": 0.2
                          }
                        },
                        "type": "histogram"
                      }
                    ],
                    "scattergl": [
                      {
                        "type": "scattergl",
                        "marker": {
                          "colorbar": {
                            "outlinewidth": 0,
                            "ticks": ""
                          }
                        }
                      }
                    ],
                    "scatter3d": [
                      {
                        "type": "scatter3d",
                        "line": {
                          "colorbar": {
                            "outlinewidth": 0,
                            "ticks": ""
                          }
                        },
                        "marker": {
                          "colorbar": {
                            "outlinewidth": 0,
                            "ticks": ""
                          }
                        }
                      }
                    ],
                    "scattermapbox": [
                      {
                        "type": "scattermapbox",
                        "marker": {
                          "colorbar": {
                            "outlinewidth": 0,
                            "ticks": ""
                          }
                        }
                      }
                    ],
                    "scatterternary": [
                      {
                        "type": "scatterternary",
                        "marker": {
                          "colorbar": {
                            "outlinewidth": 0,
                            "ticks": ""
                          }
                        }
                      }
                    ],
                    "scattercarpet": [
                      {
                        "type": "scattercarpet",
                        "marker": {
                          "colorbar": {
                            "outlinewidth": 0,
                            "ticks": ""
                          }
                        }
                      }
                    ],
                    "carpet": [
                      {
                        "aaxis": {
                          "endlinecolor": "#2a3f5f",
                          "gridcolor": "white",
                          "linecolor": "white",
                          "minorgridcolor": "white",
                          "startlinecolor": "#2a3f5f"
                        },
                        "baxis": {
                          "endlinecolor": "#2a3f5f",
                          "gridcolor": "white",
                          "linecolor": "white",
                          "minorgridcolor": "white",
                          "startlinecolor": "#2a3f5f"
                        },
                        "type": "carpet"
                      }
                    ],
                    "table": [
                      {
                        "cells": {
                          "fill": {
                            "color": "#EBF0F8"
                          },
                          "line": {
                            "color": "white"
                          }
                        },
                        "header": {
                          "fill": {
                            "color": "#C8D4E3"
                          },
                          "line": {
                            "color": "white"
                          }
                        },
                        "type": "table"
                      }
                    ],
                    "barpolar": [
                      {
                        "marker": {
                          "line": {
                            "color": "#E5ECF6",
                            "width": 0.5
                          },
                          "pattern": {
                            "fillmode": "overlay",
                            "size": 10,
                            "solidity": 0.2
                          }
                        },
                        "type": "barpolar"
                      }
                    ],
                    "pie": [
                      {
                        "automargin": true,
                        "type": "pie"
                      }
                    ]
                  },
                  "layout": {
                    "autotypenumbers": "strict",
                    "colorway": [
                      "#636efa",
                      "#EF553B",
                      "#00cc96",
                      "#ab63fa",
                      "#FFA15A",
                      "#19d3f3",
                      "#FF6692",
                      "#B6E880",
                      "#FF97FF",
                      "#FECB52"
                    ],
                    "font": {
                      "color": "#2a3f5f"
                    },
                    "hovermode": "closest",
                    "hoverlabel": {
                      "align": "left"
                    },
                    "paper_bgcolor": "white",
                    "plot_bgcolor": "#E5ECF6",
                    "polar": {
                      "bgcolor": "#E5ECF6",
                      "angularaxis": {
                        "gridcolor": "white",
                        "linecolor": "white",
                        "ticks": ""
                      },
                      "radialaxis": {
                        "gridcolor": "white",
                        "linecolor": "white",
                        "ticks": ""
                      }
                    },
                    "ternary": {
                      "bgcolor": "#E5ECF6",
                      "aaxis": {
                        "gridcolor": "white",
                        "linecolor": "white",
                        "ticks": ""
                      },
                      "baxis": {
                        "gridcolor": "white",
                        "linecolor": "white",
                        "ticks": ""
                      },
                      "caxis": {
                        "gridcolor": "white",
                        "linecolor": "white",
                        "ticks": ""
                      }
                    },
                    "coloraxis": {
                      "colorbar": {
                        "outlinewidth": 0,
                        "ticks": ""
                      }
                    },
                    "colorscale": {
                      "sequential": [
                        [
                          0,
                          "#0d0887"
                        ],
                        [
                          0.1111111111111111,
                          "#46039f"
                        ],
                        [
                          0.2222222222222222,
                          "#7201a8"
                        ],
                        [
                          0.3333333333333333,
                          "#9c179e"
                        ],
                        [
                          0.4444444444444444,
                          "#bd3786"
                        ],
                        [
                          0.5555555555555556,
                          "#d8576b"
                        ],
                        [
                          0.6666666666666666,
                          "#ed7953"
                        ],
                        [
                          0.7777777777777778,
                          "#fb9f3a"
                        ],
                        [
                          0.8888888888888888,
                          "#fdca26"
                        ],
                        [
                          1,
                          "#f0f921"
                        ]
                      ],
                      "sequentialminus": [
                        [
                          0,
                          "#0d0887"
                        ],
                        [
                          0.1111111111111111,
                          "#46039f"
                        ],
                        [
                          0.2222222222222222,
                          "#7201a8"
                        ],
                        [
                          0.3333333333333333,
                          "#9c179e"
                        ],
                        [
                          0.4444444444444444,
                          "#bd3786"
                        ],
                        [
                          0.5555555555555556,
                          "#d8576b"
                        ],
                        [
                          0.6666666666666666,
                          "#ed7953"
                        ],
                        [
                          0.7777777777777778,
                          "#fb9f3a"
                        ],
                        [
                          0.8888888888888888,
                          "#fdca26"
                        ],
                        [
                          1,
                          "#f0f921"
                        ]
                      ],
                      "diverging": [
                        [
                          0,
                          "#8e0152"
                        ],
                        [
                          0.1,
                          "#c51b7d"
                        ],
                        [
                          0.2,
                          "#de77ae"
                        ],
                        [
                          0.3,
                          "#f1b6da"
                        ],
                        [
                          0.4,
                          "#fde0ef"
                        ],
                        [
                          0.5,
                          "#f7f7f7"
                        ],
                        [
                          0.6,
                          "#e6f5d0"
                        ],
                        [
                          0.7,
                          "#b8e186"
                        ],
                        [
                          0.8,
                          "#7fbc41"
                        ],
                        [
                          0.9,
                          "#4d9221"
                        ],
                        [
                          1,
                          "#276419"
                        ]
                      ]
                    },
                    "xaxis": {
                      "gridcolor": "white",
                      "linecolor": "white",
                      "ticks": "",
                      "title": {
                        "standoff": 15
                      },
                      "zerolinecolor": "white",
                      "automargin": true,
                      "zerolinewidth": 2
                    },
                    "yaxis": {
                      "gridcolor": "white",
                      "linecolor": "white",
                      "ticks": "",
                      "title": {
                        "standoff": 15
                      },
                      "zerolinecolor": "white",
                      "automargin": true,
                      "zerolinewidth": 2
                    },
                    "scene": {
                      "xaxis": {
                        "backgroundcolor": "#E5ECF6",
                        "gridcolor": "white",
                        "linecolor": "white",
                        "showbackground": true,
                        "ticks": "",
                        "zerolinecolor": "white",
                        "gridwidth": 2
                      },
                      "yaxis": {
                        "backgroundcolor": "#E5ECF6",
                        "gridcolor": "white",
                        "linecolor": "white",
                        "showbackground": true,
                        "ticks": "",
                        "zerolinecolor": "white",
                        "gridwidth": 2
                      },
                      "zaxis": {
                        "backgroundcolor": "#E5ECF6",
                        "gridcolor": "white",
                        "linecolor": "white",
                        "showbackground": true,
                        "ticks": "",
                        "zerolinecolor": "white",
                        "gridwidth": 2
                      }
                    },
                    "shapedefaults": {
                      "line": {
                        "color": "#2a3f5f"
                      }
                    },
                    "annotationdefaults": {
                      "arrowcolor": "#2a3f5f",
                      "arrowhead": 0,
                      "arrowwidth": 1
                    },
                    "geo": {
                      "bgcolor": "white",
                      "landcolor": "#E5ECF6",
                      "subunitcolor": "white",
                      "showland": true,
                      "showlakes": true,
                      "lakecolor": "white"
                    },
                    "title": {
                      "x": 0.05
                    },
                    "mapbox": {
                      "style": "light"
                    }
                  }
                },
                "annotations": [
                  {
                    "font": {
                      "size": 16
                    },
                    "showarrow": false,
                    "text": "Enhanced Record Minimum Standard (ERMS)",
                    "x": 0.5,
                    "xanchor": "center",
                    "xref": "paper",
                    "y": 1.05,
                    "yanchor": "bottom",
                    "yref": "paper"
                  },
                  {
                    "font": {
                      "size": 16
                    },
                    "showarrow": false,
                    "text": "Enhanced Record Minimum Standard (ERMS)",
                    "x": 0.5,
                    "xanchor": "center",
                    "xref": "paper",
                    "y": 1.05,
                    "yanchor": "bottom",
                    "yref": "paper"
                  },
                  {
                    "font": {
                      "size": 16
                    },
                    "showarrow": false,
                    "text": "Enhanced Record Minimum Standard (ERMS)",
                    "x": 0.5,
                    "xanchor": "center",
                    "xref": "paper",
                    "y": 1.05,
                    "yanchor": "bottom",
                    "yref": "paper"
                  },
                  {
                    "font": {
                      "size": 16
                    },
                    "showarrow": false,
                    "text": "Enhanced Record Minimum Standard (ERMS)",
                    "x": 0.5,
                    "xanchor": "center",
                    "xref": "paper",
                    "y": 1.05,
                    "yanchor": "bottom",
                    "yref": "paper"
                  }
                ],
                "margin": {
                  "r": 0,
                  "t": 0,
                  "l": 0,
                  "b": 0
                },
                "title": {
                  "text": "Enhanced Record Minimum Standard (ERMS)",
                  "x": 0.5
                },
                "height": 1200
              },
              "config": {
                "plotlyServerURL": "https://plot.ly"
              }
            },
            "text/html": [
              "<div>                            <div id=\"a7158bff-225a-464a-9837-59743e3e1307\" class=\"plotly-graph-div\" style=\"height:1200px; width:100%;\"></div>            <script type=\"text/javascript\">                require([\"plotly\"], function(Plotly) {                    window.PLOTLYENV=window.PLOTLYENV || {};                                    if (document.getElementById(\"a7158bff-225a-464a-9837-59743e3e1307\")) {                    Plotly.newPlot(                        \"a7158bff-225a-464a-9837-59743e3e1307\",                        [{\"customdata\":[\"ASSESSMENT SUMMARY\",\"RESOURCE SUMMARY\",\"GEOMETRIES\",\"GEOGRAPHY\",\"ARCHAEOLOGICAL ASSESSMENT\",\"CONDITION ASSESSMENT\",\"ENVIRONMENT ASSESSMENT\",\"ACCESS\"],\"hovertemplate\":\"%{customdata}\",\"labels\":[\"ASSESSMENT SUMMARY\",\"RESOURCE SUMMARY\",\"GEOMETRIES\",\"GEOGRAPHY\",\"ARCHAEOLOGICAL ASSESSMENT\",\"CONDITION ASSESSMENT\",\"ENVIRONMENT ASSESSMENT\",\"ACCESS\"],\"legendgroup\":\"1\",\"marker\":{\"colors\":[\"#8e0152\",\"#cf4191\",\"#eeadd4\",\"#fbe6f1\",\"#ebf6db\",\"#b0dc7d\",\"#62a32e\",\"#276419\"],\"line\":{\"color\":\"#000000\",\"width\":0.25}},\"sort\":false,\"textfont\":{\"size\":16},\"textinfo\":\"value\",\"values\":[8,10,4,9,33,20,13,1],\"type\":\"pie\",\"domain\":{\"x\":[0.0,0.45],\"y\":[0.625,1.0]}},{\"customdata\":[\"ASSESSMENT ACTIVITY\",\"RESOURCE NAME\",\"RESOURCE SUMMARY\",\"RESOURCE DESCRIPTION\",\"HERITAGE RESOURCE CLASSIFICATION\",\"DESIGNATION\",\"GEOMETRIES\",\"GEOGRAPHY\",\"ADDRESS\",\"ADMINISTRATIVE SUBDIVISION\",\"ARCHAEOLOGICAL ASSESSMENT\",\"PERIODIZATION\",\"ABSOLUTE CHRONOLOGY\",\"SITE FEATURES and INTERPRETATIONS\",\"MATERIAL\",\"Measurements\",\"CONDITION ASSESSMENT\",\"DISTURBANCES\",\"THREATS\",\"RECOMMENDATION PLAN\",\"ENVIRONMENT ASSESSMENT\",\"LAND COVER\",\"SURFICIAL GEOLOGY\",\"MARINE ENVIRONMENT\",\"DEPTH or ELEVATION\",\"ACCESS\"],\"hovertemplate\":\"%{customdata}\",\"labels\":[\"ASSESSMENT ACTIVITY\",\"RESOURCE NAME\",\"RESOURCE SUMMARY\",\"RESOURCE DESCRIPTION\",\"HERITAGE RESOURCE CLASSIFICATION\",\"DESIGNATION\",\"GEOMETRIES\",\"GEOGRAPHY\",\"ADDRESS\",\"ADMINISTRATIVE SUBDIVISION\",\"ARCHAEOLOGICAL ASSESSMENT\",\"PERIODIZATION\",\"ABSOLUTE CHRONOLOGY\",\"SITE FEATURES and INTERPRETATIONS\",\"MATERIAL\",\"Measurements\",\"CONDITION ASSESSMENT\",\"DISTURBANCES\",\"THREATS\",\"RECOMMENDATION PLAN\",\"ENVIRONMENT ASSESSMENT\",\"LAND COVER\",\"SURFICIAL GEOLOGY\",\"MARINE ENVIRONMENT\",\"DEPTH or ELEVATION\",\"ACCESS\"],\"marker\":{\"colors\":[\"#8e0152\",\"#cf4191\",\"#cf4191\",\"#cf4191\",\"#cf4191\",\"#cf4191\",\"#eeadd4\",\"#fbe6f1\",\"#fbe6f1\",\"#fbe6f1\",\"#ebf6db\",\"#ebf6db\",\"#ebf6db\",\"#ebf6db\",\"#ebf6db\",\"#ebf6db\",\"#b0dc7d\",\"#b0dc7d\",\"#b0dc7d\",\"#b0dc7d\",\"#62a32e\",\"#62a32e\",\"#62a32e\",\"#62a32e\",\"#62a32e\",\"#276419\"],\"line\":{\"color\":\"#000000\",\"width\":0.25}},\"showlegend\":false,\"sort\":false,\"textfont\":{\"size\":16},\"textinfo\":\"value\",\"values\":[8,2,1,2,2,3,4,5,2,2,3,5,8,10,3,4,3,10,4,3,2,2,2,3,4,1],\"type\":\"pie\",\"domain\":{\"x\":[0.55,1.0],\"y\":[0.625,1.0]}},{\"hoverinfo\":\"label\",\"labels\":[\"f.1: Assessment Investigator - Actor\",\"f.2: Investigator Role Type\",\"f.3: Assessment Activity Type\",\"f.4: Assessment Activity Date\",\"f.5: Google Earth Assessment\",\"f.6: GE Imagery Acquisition Date\",\"f.7: Information Resource\",\"f.8: Information Resource Acquisition Date\",\"f.9: Resource Name\",\"f.10: Name Type\",\"f.11: Heritage Place Type\",\"f.12: General Description Type\",\"f.13: General Description\",\"f.14: Heritage Place Function\",\"f.15: Heritage Place Function Certainty \",\"f.16: Designation\",\"f.17: Designation From Date\",\"f.18: Designation To Date\",\"f.19: Geometric Place Expression\",\"f.20: Geometry Qualifier\",\"f.21: Location Certainty\",\"f.22: Geometry Extent Certainty\",\"f.23: Overall Site Shape Type\",\"f.24: Grid ID\",\"f.25: Country Type\",\"f.26: Cadastral Reference\",\"f.27: Resource Orientation\",\"f.28: Address\",\"f.29: Address Type\",\"f.30: Administrative Division \",\"f.31: Administrative Division Type\",\"f.32: Overall Archaeological Certainty Value \",\"f.33: Overall Site Morphology Type\",\"f.34: Cultural Period Type\",\"f.35: Cultural Period Certainty\",\"f.36: Cultural Sub-period Type\",\"f.37: Cultural Sub-period Certainty\",\"f.38: Date Inference Making Actor\",\"f.39: Archaeological From Date\",\"f.40: Archaeological To Date\",\"f.41: BP Date From\",\"f.42: BP Date To\",\"f.43: AH Date From\",\"f.44: AH Date To\",\"f.45: SH Date From\",\"f.46: SH Date to\",\"f.47: Site Feature Form Type\",\"f.48: Site Feature Form Type Certainty\",\"f.49: Site Feature Shape Type\",\"f.50: Site Feature Arrangement Type\",\"f.51: Site Feature Number Type\",\"f.52: Site Feature Interpretation Type\",\"f.53: Site Feature Interpretation Number Type\",\"f.54: Site Feature Interpretation Certainty\",\"f.55: Built Component\",\"f.56: Heritage Place Resource Instance\",\"f.57: Material Class\",\"f.58: Material Type\",\"f.59: Construction Technique\",\"f.60: Measurement Number\",\"f.61: Measurement Unit\",\"f.62: Dimension Type\",\"f.63: Measurement Source Type \",\"f.64: Related Geoarchaeology\\u002fPalaeolandscape\",\"f.65: Overall Condition State Type\",\"f.66: Damage Extent Type\",\"f.67: Disturbance Cause Category Type\",\"f.68: Disturbance Cause Type \",\"f.69: Disturbance Cause Certainty \",\"f.70: Disturbance Date From\",\"f.71: Disturbance Date To \",\"f.72: Disturbance Date Occurred Before\",\"f.73: Disturbance Date Occurred On \",\"f.74: Disturbance Cause Assignment Assessor Name - Actor\",\"f.75: Effect Type\",\"f.76: Effect Certainty\",\"f.77: Threat Category\",\"f.78: Threat Cause Type\",\"f.79: Threat Probability \",\"f.80: Threat Inference Making Assessor Name - Actor\",\"f.81: Intervention Activity Type\",\"f.82: Recommendation Type\",\"f.83: Priority Type\",\"f.84: Detailed Condition Assessments\",\"f.85: Topography Type\",\"f.86: Land Cover Type\",\"f.87: Land Cover Assessment Date\",\"f.88: Surficial Geology Type\",\"f.89: Depositional Process\",\"f.90: Bedrock Geology Type\",\"f.91: Fetch Type\",\"f.92: Wave Climate\",\"f.93: Tidal Range\",\"f.94: Minimum Depth\\u002fMax Elevation\",\"f.95: Maximum Depth\\u002fMin Elevation\",\"f.96: Datum Type\",\"f.97: Datum Description\\u002fEPSG code\",\"f.98: Restricted Access Record Designation\"],\"legendgroup\":\"3\",\"marker\":{\"colors\":[\"#8e0152\",\"#8e0152\",\"#8e0152\",\"#8e0152\",\"#8e0152\",\"#8e0152\",\"#8e0152\",\"#8e0152\",\"#cf4191\",\"#cf4191\",\"#cf4191\",\"#cf4191\",\"#cf4191\",\"#cf4191\",\"#cf4191\",\"#cf4191\",\"#cf4191\",\"#cf4191\",\"#eeadd4\",\"#eeadd4\",\"#eeadd4\",\"#eeadd4\",\"#fbe6f1\",\"#fbe6f1\",\"#fbe6f1\",\"#fbe6f1\",\"#fbe6f1\",\"#fbe6f1\",\"#fbe6f1\",\"#fbe6f1\",\"#fbe6f1\",\"#ebf6db\",\"#ebf6db\",\"#ebf6db\",\"#ebf6db\",\"#ebf6db\",\"#ebf6db\",\"#ebf6db\",\"#ebf6db\",\"#ebf6db\",\"#ebf6db\",\"#ebf6db\",\"#ebf6db\",\"#ebf6db\",\"#ebf6db\",\"#ebf6db\",\"#ebf6db\",\"#ebf6db\",\"#ebf6db\",\"#ebf6db\",\"#ebf6db\",\"#ebf6db\",\"#ebf6db\",\"#ebf6db\",\"#ebf6db\",\"#ebf6db\",\"#ebf6db\",\"#ebf6db\",\"#ebf6db\",\"#ebf6db\",\"#ebf6db\",\"#ebf6db\",\"#ebf6db\",\"#ebf6db\",\"#b0dc7d\",\"#b0dc7d\",\"#b0dc7d\",\"#b0dc7d\",\"#b0dc7d\",\"#b0dc7d\",\"#b0dc7d\",\"#b0dc7d\",\"#b0dc7d\",\"#b0dc7d\",\"#b0dc7d\",\"#b0dc7d\",\"#b0dc7d\",\"#b0dc7d\",\"#b0dc7d\",\"#b0dc7d\",\"#b0dc7d\",\"#b0dc7d\",\"#b0dc7d\",\"#b0dc7d\",\"#62a32e\",\"#62a32e\",\"#62a32e\",\"#62a32e\",\"#62a32e\",\"#62a32e\",\"#62a32e\",\"#62a32e\",\"#62a32e\",\"#62a32e\",\"#62a32e\",\"#62a32e\",\"#62a32e\",\"#276419\"],\"line\":{\"color\":\"#000000\",\"width\":0.25}},\"sort\":false,\"textfont\":{\"size\":7},\"textinfo\":\"label\",\"textposition\":\"inside\",\"values\":[1,1,1,1,1,1,1,1,1,1,1,1,1,1,1,1,1,1,1,1,1,1,1,1,1,1,1,1,1,1,1,1,1,1,1,1,1,1,1,1,1,1,1,1,1,1,1,1,1,1,1,1,1,1,1,1,1,1,1,1,1,1,1,1,1,1,1,1,1,1,1,1,1,1,1,1,1,1,1,1,1,1,1,1,1,1,1,1,1,1,1,1,1,1,1,1,1,1],\"type\":\"pie\",\"domain\":{\"x\":[0.0,0.45],\"y\":[0.0,0.375]}},{\"customdata\":[\"f.1: Assessment Investigator - Actor\",\"f.2: Investigator Role Type\",\"f.3: Assessment Activity Type\",\"f.4: Assessment Activity Date\",\"f.5: Google Earth Assessment\",\"f.6: GE Imagery Acquisition Date\",\"f.7: Information Resource\",\"f.8: Information Resource Acquisition Date\",\"f.9: Resource Name\",\"f.10: Name Type\",\"f.11: Heritage Place Type\",\"f.12: General Description Type\",\"f.13: General Description\",\"f.14: Heritage Place Function\",\"f.15: Heritage Place Function Certainty \",\"f.16: Designation\",\"f.17: Designation From Date\",\"f.18: Designation To Date\",\"f.19: Geometric Place Expression\",\"f.20: Geometry Qualifier\",\"f.21: Location Certainty\",\"f.22: Geometry Extent Certainty\",\"f.23: Overall Site Shape Type\",\"f.24: Grid ID\",\"f.25: Country Type\",\"f.26: Cadastral Reference\",\"f.27: Resource Orientation\",\"f.28: Address\",\"f.29: Address Type\",\"f.30: Administrative Division \",\"f.31: Administrative Division Type\",\"f.32: Overall Archaeological Certainty Value \",\"f.33: Overall Site Morphology Type\",\"f.34: Cultural Period Type\",\"f.35: Cultural Period Certainty\",\"f.36: Cultural Sub-period Type\",\"f.37: Cultural Sub-period Certainty\",\"f.38: Date Inference Making Actor\",\"f.39: Archaeological From Date\",\"f.40: Archaeological To Date\",\"f.41: BP Date From\",\"f.42: BP Date To\",\"f.43: AH Date From\",\"f.44: AH Date To\",\"f.45: SH Date From\",\"f.46: SH Date to\",\"f.47: Site Feature Form Type\",\"f.48: Site Feature Form Type Certainty\",\"f.49: Site Feature Shape Type\",\"f.50: Site Feature Arrangement Type\",\"f.51: Site Feature Number Type\",\"f.52: Site Feature Interpretation Type\",\"f.53: Site Feature Interpretation Number Type\",\"f.54: Site Feature Interpretation Certainty\",\"f.55: Built Component\",\"f.56: Heritage Place Resource Instance\",\"f.57: Material Class\",\"f.58: Material Type\",\"f.59: Construction Technique\",\"f.60: Measurement Number\",\"f.61: Measurement Unit\",\"f.62: Dimension Type\",\"f.63: Measurement Source Type \",\"f.64: Related Geoarchaeology\\u002fPalaeolandscape\",\"f.65: Overall Condition State Type\",\"f.66: Damage Extent Type\",\"f.67: Disturbance Cause Category Type\",\"f.68: Disturbance Cause Type \",\"f.69: Disturbance Cause Certainty \",\"f.70: Disturbance Date From\",\"f.71: Disturbance Date To \",\"f.72: Disturbance Date Occurred Before\",\"f.73: Disturbance Date Occurred On \",\"f.74: Disturbance Cause Assignment Assessor Name - Actor\",\"f.75: Effect Type\",\"f.76: Effect Certainty\",\"f.77: Threat Category\",\"f.78: Threat Cause Type\",\"f.79: Threat Probability \",\"f.80: Threat Inference Making Assessor Name - Actor\",\"f.81: Intervention Activity Type\",\"f.82: Recommendation Type\",\"f.83: Priority Type\",\"f.84: Detailed Condition Assessments\",\"f.85: Topography Type\",\"f.86: Land Cover Type\",\"f.87: Land Cover Assessment Date\",\"f.88: Surficial Geology Type\",\"f.89: Depositional Process\",\"f.90: Bedrock Geology Type\",\"f.91: Fetch Type\",\"f.92: Wave Climate\",\"f.93: Tidal Range\",\"f.94: Minimum Depth\\u002fMax Elevation\",\"f.95: Maximum Depth\\u002fMin Elevation\",\"f.96: Datum Type\",\"f.97: Datum Description\\u002fEPSG code\",\"f.98: Restricted Access Record Designation\"],\"domain\":{\"x\":[0.55,1.0],\"y\":[0.0,0.375]},\"hoverinfo\":\"label+percent\",\"hovertemplate\":\"%{customdata}\",\"labels\":[\"f.1\",\"f.2\",\"f.3\",\"f.4\",\"f.5\",\"f.6\",\"f.7\",\"f.8\",\"f.9\",\"f.10\",\"f.11\",\"f.12\",\"f.13\",\"f.14\",\"f.15\",\"f.16\",\"f.17\",\"f.18\",\"f.19\",\"f.20\",\"f.21\",\"f.22\",\"f.23\",\"f.24\",\"f.25\",\"f.26\",\"f.27\",\"f.28\",\"f.29\",\"f.30\",\"f.31\",\"f.32\",\"f.33\",\"f.34\",\"f.35\",\"f.36\",\"f.37\",\"f.38\",\"f.39\",\"f.40\",\"f.41\",\"f.42\",\"f.43\",\"f.44\",\"f.45\",\"f.46\",\"f.47\",\"f.48\",\"f.49\",\"f.50\",\"f.51\",\"f.52\",\"f.53\",\"f.54\",\"f.55\",\"f.56\",\"f.57\",\"f.58\",\"f.59\",\"f.60\",\"f.61\",\"f.62\",\"f.63\",\"f.64\",\"f.65\",\"f.66\",\"f.67\",\"f.68\",\"f.69\",\"f.70\",\"f.71\",\"f.72\",\"f.73\",\"f.74\",\"f.75\",\"f.76\",\"f.77\",\"f.78\",\"f.79\",\"f.80\",\"f.81\",\"f.82\",\"f.83\",\"f.84\",\"f.85\",\"f.86\",\"f.87\",\"f.88\",\"f.89\",\"f.90\",\"f.91\",\"f.92\",\"f.93\",\"f.94\",\"f.95\",\"f.96\",\"f.97\",\"f.98\"],\"marker\":{\"colors\":[\"#ffffff\",\"#8e0152\",\"#ffffff\",\"#ffffff\",\"#ffffff\",\"#8e0152\",\"#ffffff\",\"#ffffff\",\"#ffffff\",\"#ffffff\",\"#ffffff\",\"#ffffff\",\"#ffffff\",\"#cf4191\",\"#cf4191\",\"#ffffff\",\"#ffffff\",\"#ffffff\",\"#eeadd4\",\"#ffffff\",\"#ffffff\",\"#ffffff\",\"#ffffff\",\"#fbe6f1\",\"#ffffff\",\"#ffffff\",\"#ffffff\",\"#ffffff\",\"#ffffff\",\"#ffffff\",\"#ffffff\",\"#ebf6db\",\"#ebf6db\",\"#ffffff\",\"#ebf6db\",\"#ffffff\",\"#ffffff\",\"#ffffff\",\"#ffffff\",\"#ffffff\",\"#ffffff\",\"#ffffff\",\"#ffffff\",\"#ffffff\",\"#ffffff\",\"#ffffff\",\"#ffffff\",\"#ffffff\",\"#ffffff\",\"#ffffff\",\"#ffffff\",\"#ffffff\",\"#ebf6db\",\"#ebf6db\",\"#ffffff\",\"#ffffff\",\"#ffffff\",\"#ffffff\",\"#ffffff\",\"#ffffff\",\"#ffffff\",\"#ffffff\",\"#ffffff\",\"#ffffff\",\"#b0dc7d\",\"#ffffff\",\"#b0dc7d\",\"#b0dc7d\",\"#b0dc7d\",\"#ffffff\",\"#ffffff\",\"#ffffff\",\"#ffffff\",\"#ffffff\",\"#ffffff\",\"#ffffff\",\"#b0dc7d\",\"#b0dc7d\",\"#ffffff\",\"#ffffff\",\"#ffffff\",\"#ffffff\",\"#ffffff\",\"#ffffff\",\"#ffffff\",\"#ffffff\",\"#ffffff\",\"#ffffff\",\"#ffffff\",\"#ffffff\",\"#ffffff\",\"#ffffff\",\"#ffffff\",\"#ffffff\",\"#ffffff\",\"#ffffff\",\"#ffffff\",\"#ffffff\"],\"line\":{\"color\":\"#000000\",\"width\":0.25}},\"showlegend\":false,\"sort\":false,\"textfont\":{\"size\":7},\"textinfo\":\"label\",\"textposition\":\"inside\",\"values\":[1,1,1,1,1,1,1,1,1,1,1,1,1,1,1,1,1,1,1,1,1,1,1,1,1,1,1,1,1,1,1,1,1,1,1,1,1,1,1,1,1,1,1,1,1,1,1,1,1,1,1,1,1,1,1,1,1,1,1,1,1,1,1,1,1,1,1,1,1,1,1,1,1,1,1,1,1,1,1,1,1,1,1,1,1,1,1,1,1,1,1,1,1,1,1,1,1,1],\"type\":\"pie\"}],                        {\"template\":{\"data\":{\"histogram2dcontour\":[{\"type\":\"histogram2dcontour\",\"colorbar\":{\"outlinewidth\":0,\"ticks\":\"\"},\"colorscale\":[[0.0,\"#0d0887\"],[0.1111111111111111,\"#46039f\"],[0.2222222222222222,\"#7201a8\"],[0.3333333333333333,\"#9c179e\"],[0.4444444444444444,\"#bd3786\"],[0.5555555555555556,\"#d8576b\"],[0.6666666666666666,\"#ed7953\"],[0.7777777777777778,\"#fb9f3a\"],[0.8888888888888888,\"#fdca26\"],[1.0,\"#f0f921\"]]}],\"choropleth\":[{\"type\":\"choropleth\",\"colorbar\":{\"outlinewidth\":0,\"ticks\":\"\"}}],\"histogram2d\":[{\"type\":\"histogram2d\",\"colorbar\":{\"outlinewidth\":0,\"ticks\":\"\"},\"colorscale\":[[0.0,\"#0d0887\"],[0.1111111111111111,\"#46039f\"],[0.2222222222222222,\"#7201a8\"],[0.3333333333333333,\"#9c179e\"],[0.4444444444444444,\"#bd3786\"],[0.5555555555555556,\"#d8576b\"],[0.6666666666666666,\"#ed7953\"],[0.7777777777777778,\"#fb9f3a\"],[0.8888888888888888,\"#fdca26\"],[1.0,\"#f0f921\"]]}],\"heatmap\":[{\"type\":\"heatmap\",\"colorbar\":{\"outlinewidth\":0,\"ticks\":\"\"},\"colorscale\":[[0.0,\"#0d0887\"],[0.1111111111111111,\"#46039f\"],[0.2222222222222222,\"#7201a8\"],[0.3333333333333333,\"#9c179e\"],[0.4444444444444444,\"#bd3786\"],[0.5555555555555556,\"#d8576b\"],[0.6666666666666666,\"#ed7953\"],[0.7777777777777778,\"#fb9f3a\"],[0.8888888888888888,\"#fdca26\"],[1.0,\"#f0f921\"]]}],\"heatmapgl\":[{\"type\":\"heatmapgl\",\"colorbar\":{\"outlinewidth\":0,\"ticks\":\"\"},\"colorscale\":[[0.0,\"#0d0887\"],[0.1111111111111111,\"#46039f\"],[0.2222222222222222,\"#7201a8\"],[0.3333333333333333,\"#9c179e\"],[0.4444444444444444,\"#bd3786\"],[0.5555555555555556,\"#d8576b\"],[0.6666666666666666,\"#ed7953\"],[0.7777777777777778,\"#fb9f3a\"],[0.8888888888888888,\"#fdca26\"],[1.0,\"#f0f921\"]]}],\"contourcarpet\":[{\"type\":\"contourcarpet\",\"colorbar\":{\"outlinewidth\":0,\"ticks\":\"\"}}],\"contour\":[{\"type\":\"contour\",\"colorbar\":{\"outlinewidth\":0,\"ticks\":\"\"},\"colorscale\":[[0.0,\"#0d0887\"],[0.1111111111111111,\"#46039f\"],[0.2222222222222222,\"#7201a8\"],[0.3333333333333333,\"#9c179e\"],[0.4444444444444444,\"#bd3786\"],[0.5555555555555556,\"#d8576b\"],[0.6666666666666666,\"#ed7953\"],[0.7777777777777778,\"#fb9f3a\"],[0.8888888888888888,\"#fdca26\"],[1.0,\"#f0f921\"]]}],\"surface\":[{\"type\":\"surface\",\"colorbar\":{\"outlinewidth\":0,\"ticks\":\"\"},\"colorscale\":[[0.0,\"#0d0887\"],[0.1111111111111111,\"#46039f\"],[0.2222222222222222,\"#7201a8\"],[0.3333333333333333,\"#9c179e\"],[0.4444444444444444,\"#bd3786\"],[0.5555555555555556,\"#d8576b\"],[0.6666666666666666,\"#ed7953\"],[0.7777777777777778,\"#fb9f3a\"],[0.8888888888888888,\"#fdca26\"],[1.0,\"#f0f921\"]]}],\"mesh3d\":[{\"type\":\"mesh3d\",\"colorbar\":{\"outlinewidth\":0,\"ticks\":\"\"}}],\"scatter\":[{\"fillpattern\":{\"fillmode\":\"overlay\",\"size\":10,\"solidity\":0.2},\"type\":\"scatter\"}],\"parcoords\":[{\"type\":\"parcoords\",\"line\":{\"colorbar\":{\"outlinewidth\":0,\"ticks\":\"\"}}}],\"scatterpolargl\":[{\"type\":\"scatterpolargl\",\"marker\":{\"colorbar\":{\"outlinewidth\":0,\"ticks\":\"\"}}}],\"bar\":[{\"error_x\":{\"color\":\"#2a3f5f\"},\"error_y\":{\"color\":\"#2a3f5f\"},\"marker\":{\"line\":{\"color\":\"#E5ECF6\",\"width\":0.5},\"pattern\":{\"fillmode\":\"overlay\",\"size\":10,\"solidity\":0.2}},\"type\":\"bar\"}],\"scattergeo\":[{\"type\":\"scattergeo\",\"marker\":{\"colorbar\":{\"outlinewidth\":0,\"ticks\":\"\"}}}],\"scatterpolar\":[{\"type\":\"scatterpolar\",\"marker\":{\"colorbar\":{\"outlinewidth\":0,\"ticks\":\"\"}}}],\"histogram\":[{\"marker\":{\"pattern\":{\"fillmode\":\"overlay\",\"size\":10,\"solidity\":0.2}},\"type\":\"histogram\"}],\"scattergl\":[{\"type\":\"scattergl\",\"marker\":{\"colorbar\":{\"outlinewidth\":0,\"ticks\":\"\"}}}],\"scatter3d\":[{\"type\":\"scatter3d\",\"line\":{\"colorbar\":{\"outlinewidth\":0,\"ticks\":\"\"}},\"marker\":{\"colorbar\":{\"outlinewidth\":0,\"ticks\":\"\"}}}],\"scattermapbox\":[{\"type\":\"scattermapbox\",\"marker\":{\"colorbar\":{\"outlinewidth\":0,\"ticks\":\"\"}}}],\"scatterternary\":[{\"type\":\"scatterternary\",\"marker\":{\"colorbar\":{\"outlinewidth\":0,\"ticks\":\"\"}}}],\"scattercarpet\":[{\"type\":\"scattercarpet\",\"marker\":{\"colorbar\":{\"outlinewidth\":0,\"ticks\":\"\"}}}],\"carpet\":[{\"aaxis\":{\"endlinecolor\":\"#2a3f5f\",\"gridcolor\":\"white\",\"linecolor\":\"white\",\"minorgridcolor\":\"white\",\"startlinecolor\":\"#2a3f5f\"},\"baxis\":{\"endlinecolor\":\"#2a3f5f\",\"gridcolor\":\"white\",\"linecolor\":\"white\",\"minorgridcolor\":\"white\",\"startlinecolor\":\"#2a3f5f\"},\"type\":\"carpet\"}],\"table\":[{\"cells\":{\"fill\":{\"color\":\"#EBF0F8\"},\"line\":{\"color\":\"white\"}},\"header\":{\"fill\":{\"color\":\"#C8D4E3\"},\"line\":{\"color\":\"white\"}},\"type\":\"table\"}],\"barpolar\":[{\"marker\":{\"line\":{\"color\":\"#E5ECF6\",\"width\":0.5},\"pattern\":{\"fillmode\":\"overlay\",\"size\":10,\"solidity\":0.2}},\"type\":\"barpolar\"}],\"pie\":[{\"automargin\":true,\"type\":\"pie\"}]},\"layout\":{\"autotypenumbers\":\"strict\",\"colorway\":[\"#636efa\",\"#EF553B\",\"#00cc96\",\"#ab63fa\",\"#FFA15A\",\"#19d3f3\",\"#FF6692\",\"#B6E880\",\"#FF97FF\",\"#FECB52\"],\"font\":{\"color\":\"#2a3f5f\"},\"hovermode\":\"closest\",\"hoverlabel\":{\"align\":\"left\"},\"paper_bgcolor\":\"white\",\"plot_bgcolor\":\"#E5ECF6\",\"polar\":{\"bgcolor\":\"#E5ECF6\",\"angularaxis\":{\"gridcolor\":\"white\",\"linecolor\":\"white\",\"ticks\":\"\"},\"radialaxis\":{\"gridcolor\":\"white\",\"linecolor\":\"white\",\"ticks\":\"\"}},\"ternary\":{\"bgcolor\":\"#E5ECF6\",\"aaxis\":{\"gridcolor\":\"white\",\"linecolor\":\"white\",\"ticks\":\"\"},\"baxis\":{\"gridcolor\":\"white\",\"linecolor\":\"white\",\"ticks\":\"\"},\"caxis\":{\"gridcolor\":\"white\",\"linecolor\":\"white\",\"ticks\":\"\"}},\"coloraxis\":{\"colorbar\":{\"outlinewidth\":0,\"ticks\":\"\"}},\"colorscale\":{\"sequential\":[[0.0,\"#0d0887\"],[0.1111111111111111,\"#46039f\"],[0.2222222222222222,\"#7201a8\"],[0.3333333333333333,\"#9c179e\"],[0.4444444444444444,\"#bd3786\"],[0.5555555555555556,\"#d8576b\"],[0.6666666666666666,\"#ed7953\"],[0.7777777777777778,\"#fb9f3a\"],[0.8888888888888888,\"#fdca26\"],[1.0,\"#f0f921\"]],\"sequentialminus\":[[0.0,\"#0d0887\"],[0.1111111111111111,\"#46039f\"],[0.2222222222222222,\"#7201a8\"],[0.3333333333333333,\"#9c179e\"],[0.4444444444444444,\"#bd3786\"],[0.5555555555555556,\"#d8576b\"],[0.6666666666666666,\"#ed7953\"],[0.7777777777777778,\"#fb9f3a\"],[0.8888888888888888,\"#fdca26\"],[1.0,\"#f0f921\"]],\"diverging\":[[0,\"#8e0152\"],[0.1,\"#c51b7d\"],[0.2,\"#de77ae\"],[0.3,\"#f1b6da\"],[0.4,\"#fde0ef\"],[0.5,\"#f7f7f7\"],[0.6,\"#e6f5d0\"],[0.7,\"#b8e186\"],[0.8,\"#7fbc41\"],[0.9,\"#4d9221\"],[1,\"#276419\"]]},\"xaxis\":{\"gridcolor\":\"white\",\"linecolor\":\"white\",\"ticks\":\"\",\"title\":{\"standoff\":15},\"zerolinecolor\":\"white\",\"automargin\":true,\"zerolinewidth\":2},\"yaxis\":{\"gridcolor\":\"white\",\"linecolor\":\"white\",\"ticks\":\"\",\"title\":{\"standoff\":15},\"zerolinecolor\":\"white\",\"automargin\":true,\"zerolinewidth\":2},\"scene\":{\"xaxis\":{\"backgroundcolor\":\"#E5ECF6\",\"gridcolor\":\"white\",\"linecolor\":\"white\",\"showbackground\":true,\"ticks\":\"\",\"zerolinecolor\":\"white\",\"gridwidth\":2},\"yaxis\":{\"backgroundcolor\":\"#E5ECF6\",\"gridcolor\":\"white\",\"linecolor\":\"white\",\"showbackground\":true,\"ticks\":\"\",\"zerolinecolor\":\"white\",\"gridwidth\":2},\"zaxis\":{\"backgroundcolor\":\"#E5ECF6\",\"gridcolor\":\"white\",\"linecolor\":\"white\",\"showbackground\":true,\"ticks\":\"\",\"zerolinecolor\":\"white\",\"gridwidth\":2}},\"shapedefaults\":{\"line\":{\"color\":\"#2a3f5f\"}},\"annotationdefaults\":{\"arrowcolor\":\"#2a3f5f\",\"arrowhead\":0,\"arrowwidth\":1},\"geo\":{\"bgcolor\":\"white\",\"landcolor\":\"#E5ECF6\",\"subunitcolor\":\"white\",\"showland\":true,\"showlakes\":true,\"lakecolor\":\"white\"},\"title\":{\"x\":0.05},\"mapbox\":{\"style\":\"light\"}}},\"annotations\":[{\"font\":{\"size\":16},\"showarrow\":false,\"text\":\"Enhanced Record Minimum Standard (ERMS)\",\"x\":0.5,\"xanchor\":\"center\",\"xref\":\"paper\",\"y\":1.05,\"yanchor\":\"bottom\",\"yref\":\"paper\"},{\"font\":{\"size\":16},\"showarrow\":false,\"text\":\"Enhanced Record Minimum Standard (ERMS)\",\"x\":0.5,\"xanchor\":\"center\",\"xref\":\"paper\",\"y\":1.05,\"yanchor\":\"bottom\",\"yref\":\"paper\"},{\"font\":{\"size\":16},\"showarrow\":false,\"text\":\"Enhanced Record Minimum Standard (ERMS)\",\"x\":0.5,\"xanchor\":\"center\",\"xref\":\"paper\",\"y\":1.05,\"yanchor\":\"bottom\",\"yref\":\"paper\"},{\"font\":{\"size\":16},\"showarrow\":false,\"text\":\"Enhanced Record Minimum Standard (ERMS)\",\"x\":0.5,\"xanchor\":\"center\",\"xref\":\"paper\",\"y\":1.05,\"yanchor\":\"bottom\",\"yref\":\"paper\"}],\"margin\":{\"r\":0,\"t\":0,\"l\":0,\"b\":0},\"title\":{\"text\":\"Enhanced Record Minimum Standard (ERMS)\",\"x\":0.5},\"height\":1200},                        {\"responsive\": true}                    ).then(function(){\n",
              "                            \n",
              "var gd = document.getElementById('a7158bff-225a-464a-9837-59743e3e1307');\n",
              "var x = new MutationObserver(function (mutations, observer) {{\n",
              "        var display = window.getComputedStyle(gd).display;\n",
              "        if (!display || display === 'none') {{\n",
              "            console.log([gd, 'removed!']);\n",
              "            Plotly.purge(gd);\n",
              "            observer.disconnect();\n",
              "        }}\n",
              "}});\n",
              "\n",
              "// Listen for the removal of the full notebook cells\n",
              "var notebookContainer = gd.closest('#notebook-container');\n",
              "if (notebookContainer) {{\n",
              "    x.observe(notebookContainer, {childList: true});\n",
              "}}\n",
              "\n",
              "// Listen for the clearing of the current output cell\n",
              "var outputEl = gd.closest('.output');\n",
              "if (outputEl) {{\n",
              "    x.observe(outputEl, {childList: true});\n",
              "}}\n",
              "\n",
              "                        })                };                });            </script>        </div>"
            ]
          },
          "metadata": {}
        }
      ]
    },
    {
      "cell_type": "code",
      "source": [
        "import plotly.graph_objects as go\n",
        "\n",
        "fig = go.Figure(go.Barpolar(\n",
        "    r= dict_hps['EAMENA-0192473']['recorded'], #[3.5, 1.5, 2.5, 4.5, 4.5, 4, 3],\n",
        "    theta= dict_hps['EAMENA-0192473']['field'], # [65, 15, 210, 110, 312.5, 180, 270],\n",
        "    # width=[20,15,10,20,15,30,15,],\n",
        "    # marker_color=[\"#E4FF87\", '#709BFF', '#709BFF', '#FFAA70', '#FFAA70', '#FFDF70', '#B6FFB4'],\n",
        "    marker_line_color=\"black\",\n",
        "    marker_line_width=2,\n",
        "    opacity=0.8\n",
        "))\n",
        "\n",
        "fig.update_layout(\n",
        "    template=None,\n",
        "    polar = dict(\n",
        "        radialaxis = dict(range=[0, 1], showticklabels=False, ticks=''),\n",
        "        angularaxis = dict(showticklabels=False, ticks='')\n",
        "    )\n",
        ")\n",
        "\n",
        "fig.show()"
      ],
      "metadata": {
        "colab": {
          "base_uri": "https://localhost:8080/",
          "height": 542
        },
        "id": "XdrLH_rDd1rA",
        "outputId": "9f0c9bdd-7ef1-46c5-af89-674c7b3def5e"
      },
      "execution_count": 60,
      "outputs": [
        {
          "output_type": "display_data",
          "data": {
            "text/html": [
              "<html>\n",
              "<head><meta charset=\"utf-8\" /></head>\n",
              "<body>\n",
              "    <div>            <script src=\"https://cdnjs.cloudflare.com/ajax/libs/mathjax/2.7.5/MathJax.js?config=TeX-AMS-MML_SVG\"></script><script type=\"text/javascript\">if (window.MathJax && window.MathJax.Hub && window.MathJax.Hub.Config) {window.MathJax.Hub.Config({SVG: {font: \"STIX-Web\"}});}</script>                <script type=\"text/javascript\">window.PlotlyConfig = {MathJaxConfig: 'local'};</script>\n",
              "        <script charset=\"utf-8\" src=\"https://cdn.plot.ly/plotly-2.24.1.min.js\"></script>                <div id=\"c9ee5e8e-c2ab-478c-915b-3509f3f0a4d9\" class=\"plotly-graph-div\" style=\"height:525px; width:100%;\"></div>            <script type=\"text/javascript\">                                    window.PLOTLYENV=window.PLOTLYENV || {};                                    if (document.getElementById(\"c9ee5e8e-c2ab-478c-915b-3509f3f0a4d9\")) {                    Plotly.newPlot(                        \"c9ee5e8e-c2ab-478c-915b-3509f3f0a4d9\",                        [{\"marker\":{\"line\":{\"color\":\"black\",\"width\":2}},\"opacity\":0.8,\"r\":[1,1,1,1,1,1,0,0,0,0,1,0,0,1,1,0,0,0,0,1,1,1,1,1,1,1,1,1,1,1,1,1,1,1,1,0,0,0,0,0,0,0,0,0,0,0,1,1,1,1,1,1,1,1,0,0,0,0,0,0,0,0,0,0,1,1,1,1,1,1,1,1,1,1,1,1,1,1,1,1,0,0,0,0,0,0,0,0,0,0,0,0,0,0,0,0,0,0],\"theta\":[\"Assessment Investigator - Actor\",\"Investigator Role Type\",\"Assessment Activity Type\",\"Assessment Activity Date\",\"Google Earth Assessment\",\"GE Imagery Acquisition Date\",\"Information Resource\",\"Information Resource Acquisition Date\",\"Resource Name\",\"Name Type\",\"Heritage Place Type\",\"General Description Type\",\"General Description\",\"Heritage Place Function\",\"Heritage Place Function Certainty \",\"Designation\",\"Designation From Date\",\"Designation To Date\",\"Geometric Place Expression\",\"Geometry Qualifier\",\"Location Certainty\",\"Geometry Extent Certainty\",\"Overall Site Shape Type\",\"Grid ID\",\"Country Type\",\"Cadastral Reference\",\"Resource Orientation\",\"Address\",\"Address Type\",\"Administrative Division \",\"Administrative Division Type\",\"Overall Archaeological Certainty Value \",\"Overall Site Morphology Type\",\"Cultural Period Type\",\"Cultural Period Certainty\",\"Cultural Sub-period Type\",\"Cultural Sub-period Certainty\",\"Date Inference Making Actor\",\"Archaeological From Date\",\"Archaeological To Date\",\"BP Date From\",\"BP Date To\",\"AH Date From\",\"AH Date To\",\"SH Date From\",\"SH Date to\",\"Site Feature Form Type\",\"Site Feature Form Type Certainty\",\"Site Feature Shape Type\",\"Site Feature Arrangement Type\",\"Site Feature Number Type\",\"Site Feature Interpretation Type\",\"Site Feature Interpretation Number Type\",\"Site Feature Interpretation Certainty\",\"Built Component\",\"Heritage Place Resource Instance\",\"Material Class\",\"Material Type\",\"Construction Technique\",\"Measurement Number\",\"Measurement Unit\",\"Dimension Type\",\"Measurement Source Type \",\"Related Geoarchaeology\\u002fPalaeolandscape\",\"Overall Condition State Type\",\"Damage Extent Type\",\"Disturbance Cause Category Type\",\"Disturbance Cause Type \",\"Disturbance Cause Certainty \",\"Disturbance Date From\",\"Disturbance Date To \",\"Disturbance Date Occurred Before\",\"Disturbance Date Occurred On \",\"Disturbance Cause Assignment Assessor Name - Actor\",\"Effect Type\",\"Effect Certainty\",\"Threat Category\",\"Threat Cause Type\",\"Threat Probability \",\"Threat Inference Making Assessor Name - Actor\",\"Intervention Activity Type\",\"Recommendation Type\",\"Priority Type\",\"Detailed Condition Assessments\",\"Topography Type\",\"Land Cover Type\",\"Land Cover Assessment Date\",\"Surficial Geology Type\",\"Depositional Process\",\"Bedrock Geology Type\",\"Fetch Type\",\"Wave Climate\",\"Tidal Range\",\"Minimum Depth\\u002fMax Elevation\",\"Maximum Depth\\u002fMin Elevation\",\"Datum Type\",\"Datum Description\\u002fEPSG code\",\"Restricted Access Record Designation\"],\"type\":\"barpolar\"}],                        {\"template\":{},\"polar\":{\"radialaxis\":{\"range\":[0,1],\"showticklabels\":false,\"ticks\":\"\"},\"angularaxis\":{\"showticklabels\":false,\"ticks\":\"\"}}},                        {\"responsive\": true}                    ).then(function(){\n",
              "                            \n",
              "var gd = document.getElementById('c9ee5e8e-c2ab-478c-915b-3509f3f0a4d9');\n",
              "var x = new MutationObserver(function (mutations, observer) {{\n",
              "        var display = window.getComputedStyle(gd).display;\n",
              "        if (!display || display === 'none') {{\n",
              "            console.log([gd, 'removed!']);\n",
              "            Plotly.purge(gd);\n",
              "            observer.disconnect();\n",
              "        }}\n",
              "}});\n",
              "\n",
              "// Listen for the removal of the full notebook cells\n",
              "var notebookContainer = gd.closest('#notebook-container');\n",
              "if (notebookContainer) {{\n",
              "    x.observe(notebookContainer, {childList: true});\n",
              "}}\n",
              "\n",
              "// Listen for the clearing of the current output cell\n",
              "var outputEl = gd.closest('.output');\n",
              "if (outputEl) {{\n",
              "    x.observe(outputEl, {childList: true});\n",
              "}}\n",
              "\n",
              "                        })                };                            </script>        </div>\n",
              "</body>\n",
              "</html>"
            ]
          },
          "metadata": {}
        }
      ]
    },
    {
      "cell_type": "markdown",
      "metadata": {
        "id": "P-CTKGTMVSeL"
      },
      "source": [
        "### Plot"
      ]
    },
    {
      "cell_type": "code",
      "source": [
        "\n",
        "# pd.DataFrame(list(dict_hps.items()))  # or list(dict_hps.items()) in python 3\n",
        "dict_hps['EAMENA-0192473']"
      ],
      "metadata": {
        "colab": {
          "base_uri": "https://localhost:8080/",
          "height": 423
        },
        "id": "04af_eFoa2Zo",
        "outputId": "ac21fdaf-1708-458c-c230-d3ca73e016c1"
      },
      "execution_count": 28,
      "outputs": [
        {
          "output_type": "execute_result",
          "data": {
            "text/plain": [
              "                                   field  recorded\n",
              "0        Assessment Investigator - Actor         1\n",
              "1                 Investigator Role Type         1\n",
              "2               Assessment Activity Type         1\n",
              "3               Assessment Activity Date         1\n",
              "4                Google Earth Assessment         1\n",
              "..                                   ...       ...\n",
              "93           Minimum Depth/Max Elevation         0\n",
              "94           Maximum Depth/Min Elevation         0\n",
              "95                            Datum Type         0\n",
              "96           Datum Description/EPSG code         0\n",
              "97  Restricted Access Record Designation         0\n",
              "\n",
              "[98 rows x 2 columns]"
            ],
            "text/html": [
              "\n",
              "  <div id=\"df-57f04ae6-9847-4eeb-9f52-0486608536f3\" class=\"colab-df-container\">\n",
              "    <div>\n",
              "<style scoped>\n",
              "    .dataframe tbody tr th:only-of-type {\n",
              "        vertical-align: middle;\n",
              "    }\n",
              "\n",
              "    .dataframe tbody tr th {\n",
              "        vertical-align: top;\n",
              "    }\n",
              "\n",
              "    .dataframe thead th {\n",
              "        text-align: right;\n",
              "    }\n",
              "</style>\n",
              "<table border=\"1\" class=\"dataframe\">\n",
              "  <thead>\n",
              "    <tr style=\"text-align: right;\">\n",
              "      <th></th>\n",
              "      <th>field</th>\n",
              "      <th>recorded</th>\n",
              "    </tr>\n",
              "  </thead>\n",
              "  <tbody>\n",
              "    <tr>\n",
              "      <th>0</th>\n",
              "      <td>Assessment Investigator - Actor</td>\n",
              "      <td>1</td>\n",
              "    </tr>\n",
              "    <tr>\n",
              "      <th>1</th>\n",
              "      <td>Investigator Role Type</td>\n",
              "      <td>1</td>\n",
              "    </tr>\n",
              "    <tr>\n",
              "      <th>2</th>\n",
              "      <td>Assessment Activity Type</td>\n",
              "      <td>1</td>\n",
              "    </tr>\n",
              "    <tr>\n",
              "      <th>3</th>\n",
              "      <td>Assessment Activity Date</td>\n",
              "      <td>1</td>\n",
              "    </tr>\n",
              "    <tr>\n",
              "      <th>4</th>\n",
              "      <td>Google Earth Assessment</td>\n",
              "      <td>1</td>\n",
              "    </tr>\n",
              "    <tr>\n",
              "      <th>...</th>\n",
              "      <td>...</td>\n",
              "      <td>...</td>\n",
              "    </tr>\n",
              "    <tr>\n",
              "      <th>93</th>\n",
              "      <td>Minimum Depth/Max Elevation</td>\n",
              "      <td>0</td>\n",
              "    </tr>\n",
              "    <tr>\n",
              "      <th>94</th>\n",
              "      <td>Maximum Depth/Min Elevation</td>\n",
              "      <td>0</td>\n",
              "    </tr>\n",
              "    <tr>\n",
              "      <th>95</th>\n",
              "      <td>Datum Type</td>\n",
              "      <td>0</td>\n",
              "    </tr>\n",
              "    <tr>\n",
              "      <th>96</th>\n",
              "      <td>Datum Description/EPSG code</td>\n",
              "      <td>0</td>\n",
              "    </tr>\n",
              "    <tr>\n",
              "      <th>97</th>\n",
              "      <td>Restricted Access Record Designation</td>\n",
              "      <td>0</td>\n",
              "    </tr>\n",
              "  </tbody>\n",
              "</table>\n",
              "<p>98 rows × 2 columns</p>\n",
              "</div>\n",
              "    <div class=\"colab-df-buttons\">\n",
              "\n",
              "  <div class=\"colab-df-container\">\n",
              "    <button class=\"colab-df-convert\" onclick=\"convertToInteractive('df-57f04ae6-9847-4eeb-9f52-0486608536f3')\"\n",
              "            title=\"Convert this dataframe to an interactive table.\"\n",
              "            style=\"display:none;\">\n",
              "\n",
              "  <svg xmlns=\"http://www.w3.org/2000/svg\" height=\"24px\" viewBox=\"0 -960 960 960\">\n",
              "    <path d=\"M120-120v-720h720v720H120Zm60-500h600v-160H180v160Zm220 220h160v-160H400v160Zm0 220h160v-160H400v160ZM180-400h160v-160H180v160Zm440 0h160v-160H620v160ZM180-180h160v-160H180v160Zm440 0h160v-160H620v160Z\"/>\n",
              "  </svg>\n",
              "    </button>\n",
              "\n",
              "  <style>\n",
              "    .colab-df-container {\n",
              "      display:flex;\n",
              "      gap: 12px;\n",
              "    }\n",
              "\n",
              "    .colab-df-convert {\n",
              "      background-color: #E8F0FE;\n",
              "      border: none;\n",
              "      border-radius: 50%;\n",
              "      cursor: pointer;\n",
              "      display: none;\n",
              "      fill: #1967D2;\n",
              "      height: 32px;\n",
              "      padding: 0 0 0 0;\n",
              "      width: 32px;\n",
              "    }\n",
              "\n",
              "    .colab-df-convert:hover {\n",
              "      background-color: #E2EBFA;\n",
              "      box-shadow: 0px 1px 2px rgba(60, 64, 67, 0.3), 0px 1px 3px 1px rgba(60, 64, 67, 0.15);\n",
              "      fill: #174EA6;\n",
              "    }\n",
              "\n",
              "    .colab-df-buttons div {\n",
              "      margin-bottom: 4px;\n",
              "    }\n",
              "\n",
              "    [theme=dark] .colab-df-convert {\n",
              "      background-color: #3B4455;\n",
              "      fill: #D2E3FC;\n",
              "    }\n",
              "\n",
              "    [theme=dark] .colab-df-convert:hover {\n",
              "      background-color: #434B5C;\n",
              "      box-shadow: 0px 1px 3px 1px rgba(0, 0, 0, 0.15);\n",
              "      filter: drop-shadow(0px 1px 2px rgba(0, 0, 0, 0.3));\n",
              "      fill: #FFFFFF;\n",
              "    }\n",
              "  </style>\n",
              "\n",
              "    <script>\n",
              "      const buttonEl =\n",
              "        document.querySelector('#df-57f04ae6-9847-4eeb-9f52-0486608536f3 button.colab-df-convert');\n",
              "      buttonEl.style.display =\n",
              "        google.colab.kernel.accessAllowed ? 'block' : 'none';\n",
              "\n",
              "      async function convertToInteractive(key) {\n",
              "        const element = document.querySelector('#df-57f04ae6-9847-4eeb-9f52-0486608536f3');\n",
              "        const dataTable =\n",
              "          await google.colab.kernel.invokeFunction('convertToInteractive',\n",
              "                                                    [key], {});\n",
              "        if (!dataTable) return;\n",
              "\n",
              "        const docLinkHtml = 'Like what you see? Visit the ' +\n",
              "          '<a target=\"_blank\" href=https://colab.research.google.com/notebooks/data_table.ipynb>data table notebook</a>'\n",
              "          + ' to learn more about interactive tables.';\n",
              "        element.innerHTML = '';\n",
              "        dataTable['output_type'] = 'display_data';\n",
              "        await google.colab.output.renderOutput(dataTable, element);\n",
              "        const docLink = document.createElement('div');\n",
              "        docLink.innerHTML = docLinkHtml;\n",
              "        element.appendChild(docLink);\n",
              "      }\n",
              "    </script>\n",
              "  </div>\n",
              "\n",
              "\n",
              "<div id=\"df-e92dd68e-586c-4c0e-8bd9-10364126126f\">\n",
              "  <button class=\"colab-df-quickchart\" onclick=\"quickchart('df-e92dd68e-586c-4c0e-8bd9-10364126126f')\"\n",
              "            title=\"Suggest charts\"\n",
              "            style=\"display:none;\">\n",
              "\n",
              "<svg xmlns=\"http://www.w3.org/2000/svg\" height=\"24px\"viewBox=\"0 0 24 24\"\n",
              "     width=\"24px\">\n",
              "    <g>\n",
              "        <path d=\"M19 3H5c-1.1 0-2 .9-2 2v14c0 1.1.9 2 2 2h14c1.1 0 2-.9 2-2V5c0-1.1-.9-2-2-2zM9 17H7v-7h2v7zm4 0h-2V7h2v10zm4 0h-2v-4h2v4z\"/>\n",
              "    </g>\n",
              "</svg>\n",
              "  </button>\n",
              "\n",
              "<style>\n",
              "  .colab-df-quickchart {\n",
              "      --bg-color: #E8F0FE;\n",
              "      --fill-color: #1967D2;\n",
              "      --hover-bg-color: #E2EBFA;\n",
              "      --hover-fill-color: #174EA6;\n",
              "      --disabled-fill-color: #AAA;\n",
              "      --disabled-bg-color: #DDD;\n",
              "  }\n",
              "\n",
              "  [theme=dark] .colab-df-quickchart {\n",
              "      --bg-color: #3B4455;\n",
              "      --fill-color: #D2E3FC;\n",
              "      --hover-bg-color: #434B5C;\n",
              "      --hover-fill-color: #FFFFFF;\n",
              "      --disabled-bg-color: #3B4455;\n",
              "      --disabled-fill-color: #666;\n",
              "  }\n",
              "\n",
              "  .colab-df-quickchart {\n",
              "    background-color: var(--bg-color);\n",
              "    border: none;\n",
              "    border-radius: 50%;\n",
              "    cursor: pointer;\n",
              "    display: none;\n",
              "    fill: var(--fill-color);\n",
              "    height: 32px;\n",
              "    padding: 0;\n",
              "    width: 32px;\n",
              "  }\n",
              "\n",
              "  .colab-df-quickchart:hover {\n",
              "    background-color: var(--hover-bg-color);\n",
              "    box-shadow: 0 1px 2px rgba(60, 64, 67, 0.3), 0 1px 3px 1px rgba(60, 64, 67, 0.15);\n",
              "    fill: var(--button-hover-fill-color);\n",
              "  }\n",
              "\n",
              "  .colab-df-quickchart-complete:disabled,\n",
              "  .colab-df-quickchart-complete:disabled:hover {\n",
              "    background-color: var(--disabled-bg-color);\n",
              "    fill: var(--disabled-fill-color);\n",
              "    box-shadow: none;\n",
              "  }\n",
              "\n",
              "  .colab-df-spinner {\n",
              "    border: 2px solid var(--fill-color);\n",
              "    border-color: transparent;\n",
              "    border-bottom-color: var(--fill-color);\n",
              "    animation:\n",
              "      spin 1s steps(1) infinite;\n",
              "  }\n",
              "\n",
              "  @keyframes spin {\n",
              "    0% {\n",
              "      border-color: transparent;\n",
              "      border-bottom-color: var(--fill-color);\n",
              "      border-left-color: var(--fill-color);\n",
              "    }\n",
              "    20% {\n",
              "      border-color: transparent;\n",
              "      border-left-color: var(--fill-color);\n",
              "      border-top-color: var(--fill-color);\n",
              "    }\n",
              "    30% {\n",
              "      border-color: transparent;\n",
              "      border-left-color: var(--fill-color);\n",
              "      border-top-color: var(--fill-color);\n",
              "      border-right-color: var(--fill-color);\n",
              "    }\n",
              "    40% {\n",
              "      border-color: transparent;\n",
              "      border-right-color: var(--fill-color);\n",
              "      border-top-color: var(--fill-color);\n",
              "    }\n",
              "    60% {\n",
              "      border-color: transparent;\n",
              "      border-right-color: var(--fill-color);\n",
              "    }\n",
              "    80% {\n",
              "      border-color: transparent;\n",
              "      border-right-color: var(--fill-color);\n",
              "      border-bottom-color: var(--fill-color);\n",
              "    }\n",
              "    90% {\n",
              "      border-color: transparent;\n",
              "      border-bottom-color: var(--fill-color);\n",
              "    }\n",
              "  }\n",
              "</style>\n",
              "\n",
              "  <script>\n",
              "    async function quickchart(key) {\n",
              "      const quickchartButtonEl =\n",
              "        document.querySelector('#' + key + ' button');\n",
              "      quickchartButtonEl.disabled = true;  // To prevent multiple clicks.\n",
              "      quickchartButtonEl.classList.add('colab-df-spinner');\n",
              "      try {\n",
              "        const charts = await google.colab.kernel.invokeFunction(\n",
              "            'suggestCharts', [key], {});\n",
              "      } catch (error) {\n",
              "        console.error('Error during call to suggestCharts:', error);\n",
              "      }\n",
              "      quickchartButtonEl.classList.remove('colab-df-spinner');\n",
              "      quickchartButtonEl.classList.add('colab-df-quickchart-complete');\n",
              "    }\n",
              "    (() => {\n",
              "      let quickchartButtonEl =\n",
              "        document.querySelector('#df-e92dd68e-586c-4c0e-8bd9-10364126126f button');\n",
              "      quickchartButtonEl.style.display =\n",
              "        google.colab.kernel.accessAllowed ? 'block' : 'none';\n",
              "    })();\n",
              "  </script>\n",
              "</div>\n",
              "    </div>\n",
              "  </div>\n"
            ]
          },
          "metadata": {},
          "execution_count": 28
        }
      ]
    },
    {
      "cell_type": "code",
      "execution_count": 15,
      "metadata": {
        "colab": {
          "base_uri": "https://localhost:8080/",
          "height": 317
        },
        "id": "4L6RgVNbVSeM",
        "outputId": "64e9e1ac-ba3f-4c08-cc42-1aa3bce6bf51"
      },
      "outputs": [
        {
          "output_type": "display_data",
          "data": {
            "text/html": [
              "<html>\n",
              "<head><meta charset=\"utf-8\" /></head>\n",
              "<body>\n",
              "    <div>            <script src=\"https://cdnjs.cloudflare.com/ajax/libs/mathjax/2.7.5/MathJax.js?config=TeX-AMS-MML_SVG\"></script><script type=\"text/javascript\">if (window.MathJax && window.MathJax.Hub && window.MathJax.Hub.Config) {window.MathJax.Hub.Config({SVG: {font: \"STIX-Web\"}});}</script>                <script type=\"text/javascript\">window.PlotlyConfig = {MathJaxConfig: 'local'};</script>\n",
              "        <script charset=\"utf-8\" src=\"https://cdn.plot.ly/plotly-2.24.1.min.js\"></script>                <div id=\"2f5282ab-05a6-4619-90aa-e2d4f9bf9ed2\" class=\"plotly-graph-div\" style=\"height:300px; width:1500px;\"></div>            <script type=\"text/javascript\">                                    window.PLOTLYENV=window.PLOTLYENV || {};                                    if (document.getElementById(\"2f5282ab-05a6-4619-90aa-e2d4f9bf9ed2\")) {                    Plotly.newPlot(                        \"2f5282ab-05a6-4619-90aa-e2d4f9bf9ed2\",                        [{\"fill\":\"toself\",\"fillcolor\":\"red\",\"hovertemplate\":\"value: %{r}\\u003cbr\\u003efield: %{theta}\",\"line\":{\"color\":\"red\"},\"name\":\"  erms\",\"r\":[-1,-1,-1,-1,-1,-1,-1,-1,-1,-1,-1,-1,-1,-1,-1,-1,-1,-1,1,-1,-1,-1,-1,-1,-1,-1,-1,-1,-1,-1,-1,-1,-1,1,1,1,-1,-1,-1,-1,-1,-1,-1,1,-1,-1,1,-1,-1,-1,1,1,1,-1,-1,-1,-1,-1,1,-1,-1,-1,-1,-1,-1,-1,-1,-1,-1,-1,1,1,1,-1,-1,-1,-1,-1,-1,-1,-1,-1,-1,-1,-1,1,1,-1,-1,-1,-1,1,1,-1,-1,-1,-1,-1],\"showlegend\":false,\"theta\":[\"AH Date From\",\"AH Date To\",\"Address\",\"Address Type\",\"Administrative Division \",\"Administrative Division Type\",\"Archaeological From Date\",\"Archaeological To Date\",\"Assessment Activity Date\",\"Assessment Activity Type\",\"Assessment Investigator - Actor\",\"BP Date From\",\"BP Date To\",\"Bedrock Geology Type\",\"Built Component\",\"Cadastral Reference\",\"Construction Technique\",\"Country Type\",\"Cultural Period Certainty\",\"Cultural Period Type\",\"Cultural Sub-period Certainty\",\"Cultural Sub-period Type\",\"Damage Extent Type\",\"Date Inference Making Actor\",\"Datum Description\\u002fEPSG code\",\"Datum Type\",\"Depositional Process\",\"Designation\",\"Designation From Date\",\"Designation To Date\",\"Detailed Condition Assessments\",\"Dimension Type\",\"Disturbance Cause Assignment Assessor Name - Actor\",\"Disturbance Cause Category Type\",\"Disturbance Cause Certainty \",\"Disturbance Cause Type \",\"Disturbance Date From\",\"Disturbance Date Occurred Before\",\"Disturbance Date Occurred On \",\"Disturbance Date To \",\"Effect Certainty\",\"Effect Type\",\"Fetch Type\",\"GE Imagery Acquisition Date\",\"General Description\",\"General Description Type\",\"Geometric Place Expression\",\"Geometry Extent Certainty\",\"Geometry Qualifier\",\"Google Earth Assessment\",\"Grid ID\",\"Heritage Place Function\",\"Heritage Place Function Certainty \",\"Heritage Place Resource Instance\",\"Heritage Place Type\",\"Information Resource\",\"Information Resource Acquisition Date\",\"Intervention Activity Type\",\"Investigator Role Type\",\"Land Cover Assessment Date\",\"Land Cover Type\",\"Location Certainty\",\"Material Class\",\"Material Type\",\"Maximum Depth\\u002fMin Elevation\",\"Measurement Number\",\"Measurement Source Type \",\"Measurement Unit\",\"Minimum Depth\\u002fMax Elevation\",\"Name Type\",\"Overall Archaeological Certainty Value \",\"Overall Condition State Type\",\"Overall Site Morphology Type\",\"Overall Site Shape Type\",\"Priority Type\",\"Recommendation Type\",\"Related Geoarchaeology\\u002fPalaeolandscape\",\"Resource Name\",\"Resource Orientation\",\"Restricted Access Record Designation\",\"SH Date From\",\"SH Date to\",\"Site Feature Arrangement Type\",\"Site Feature Form Type\",\"Site Feature Form Type Certainty\",\"Site Feature Interpretation Certainty\",\"Site Feature Interpretation Number Type\",\"Site Feature Interpretation Type\",\"Site Feature Number Type\",\"Site Feature Shape Type\",\"Surficial Geology Type\",\"Threat Category\",\"Threat Cause Type\",\"Threat Inference Making Assessor Name - Actor\",\"Threat Probability \",\"Tidal Range\",\"Topography Type\",\"Wave Climate\"],\"type\":\"scatterpolar\",\"subplot\":\"polar\"},{\"hovertemplate\":\"value: %{r}\\u003cbr\\u003efield: %{theta}\",\"marker\":{\"color\":\"red\"},\"mode\":\"markers\",\"name\":\"Markers\",\"r\":[-1,-1,-1,-1,-1,-1,-1,-1,-1,-1,-1,-1,-1,-1,-1,-1,-1,-1,1,-1,-1,-1,-1,-1,-1,-1,-1,-1,-1,-1,-1,-1,-1,1,1,1,-1,-1,-1,-1,-1,-1,-1,1,-1,-1,1,-1,-1,-1,1,1,1,-1,-1,-1,-1,-1,1,-1,-1,-1,-1,-1,-1,-1,-1,-1,-1,-1,1,1,1,-1,-1,-1,-1,-1,-1,-1,-1,-1,-1,-1,-1,1,1,-1,-1,-1,-1,1,1,-1,-1,-1,-1,-1],\"showlegend\":false,\"theta\":[\"AH Date From\",\"AH Date To\",\"Address\",\"Address Type\",\"Administrative Division \",\"Administrative Division Type\",\"Archaeological From Date\",\"Archaeological To Date\",\"Assessment Activity Date\",\"Assessment Activity Type\",\"Assessment Investigator - Actor\",\"BP Date From\",\"BP Date To\",\"Bedrock Geology Type\",\"Built Component\",\"Cadastral Reference\",\"Construction Technique\",\"Country Type\",\"Cultural Period Certainty\",\"Cultural Period Type\",\"Cultural Sub-period Certainty\",\"Cultural Sub-period Type\",\"Damage Extent Type\",\"Date Inference Making Actor\",\"Datum Description\\u002fEPSG code\",\"Datum Type\",\"Depositional Process\",\"Designation\",\"Designation From Date\",\"Designation To Date\",\"Detailed Condition Assessments\",\"Dimension Type\",\"Disturbance Cause Assignment Assessor Name - Actor\",\"Disturbance Cause Category Type\",\"Disturbance Cause Certainty \",\"Disturbance Cause Type \",\"Disturbance Date From\",\"Disturbance Date Occurred Before\",\"Disturbance Date Occurred On \",\"Disturbance Date To \",\"Effect Certainty\",\"Effect Type\",\"Fetch Type\",\"GE Imagery Acquisition Date\",\"General Description\",\"General Description Type\",\"Geometric Place Expression\",\"Geometry Extent Certainty\",\"Geometry Qualifier\",\"Google Earth Assessment\",\"Grid ID\",\"Heritage Place Function\",\"Heritage Place Function Certainty \",\"Heritage Place Resource Instance\",\"Heritage Place Type\",\"Information Resource\",\"Information Resource Acquisition Date\",\"Intervention Activity Type\",\"Investigator Role Type\",\"Land Cover Assessment Date\",\"Land Cover Type\",\"Location Certainty\",\"Material Class\",\"Material Type\",\"Maximum Depth\\u002fMin Elevation\",\"Measurement Number\",\"Measurement Source Type \",\"Measurement Unit\",\"Minimum Depth\\u002fMax Elevation\",\"Name Type\",\"Overall Archaeological Certainty Value \",\"Overall Condition State Type\",\"Overall Site Morphology Type\",\"Overall Site Shape Type\",\"Priority Type\",\"Recommendation Type\",\"Related Geoarchaeology\\u002fPalaeolandscape\",\"Resource Name\",\"Resource Orientation\",\"Restricted Access Record Designation\",\"SH Date From\",\"SH Date to\",\"Site Feature Arrangement Type\",\"Site Feature Form Type\",\"Site Feature Form Type Certainty\",\"Site Feature Interpretation Certainty\",\"Site Feature Interpretation Number Type\",\"Site Feature Interpretation Type\",\"Site Feature Number Type\",\"Site Feature Shape Type\",\"Surficial Geology Type\",\"Threat Category\",\"Threat Cause Type\",\"Threat Inference Making Assessor Name - Actor\",\"Threat Probability \",\"Tidal Range\",\"Topography Type\",\"Wave Climate\"],\"type\":\"scatterpolar\",\"subplot\":\"polar\"},{\"hovertemplate\":\"value: %{r}\\u003cbr\\u003efield: %{theta}\",\"marker\":{\"color\":\"blue\"},\"mode\":\"markers\",\"name\":\"EAMENA-0192473\",\"r\":[1,1,1,1,1,1,0,0,0,0,1,0,0,1,1,0,0,0,0,1,1,1,1,1,1,1,1,1,1,1,1,1,1,1,1,0,0,0,0,0,0,0,0,0,0,0,1,1,1,1,1,1,1,1,0,0,0,0,0,0,0,0,0,0,1,1,1,1,1,1,1,1,1,1,1,1,1,1,1,1,0,0,0,0,0,0,0,0,0,0,0,0,0,0,0,0,0,0],\"theta\":[\"Assessment Investigator - Actor\",\"Investigator Role Type\",\"Assessment Activity Type\",\"Assessment Activity Date\",\"Google Earth Assessment\",\"GE Imagery Acquisition Date\",\"Information Resource\",\"Information Resource Acquisition Date\",\"Resource Name\",\"Name Type\",\"Heritage Place Type\",\"General Description Type\",\"General Description\",\"Heritage Place Function\",\"Heritage Place Function Certainty \",\"Designation\",\"Designation From Date\",\"Designation To Date\",\"Geometric Place Expression\",\"Geometry Qualifier\",\"Location Certainty\",\"Geometry Extent Certainty\",\"Overall Site Shape Type\",\"Grid ID\",\"Country Type\",\"Cadastral Reference\",\"Resource Orientation\",\"Address\",\"Address Type\",\"Administrative Division \",\"Administrative Division Type\",\"Overall Archaeological Certainty Value \",\"Overall Site Morphology Type\",\"Cultural Period Type\",\"Cultural Period Certainty\",\"Cultural Sub-period Type\",\"Cultural Sub-period Certainty\",\"Date Inference Making Actor\",\"Archaeological From Date\",\"Archaeological To Date\",\"BP Date From\",\"BP Date To\",\"AH Date From\",\"AH Date To\",\"SH Date From\",\"SH Date to\",\"Site Feature Form Type\",\"Site Feature Form Type Certainty\",\"Site Feature Shape Type\",\"Site Feature Arrangement Type\",\"Site Feature Number Type\",\"Site Feature Interpretation Type\",\"Site Feature Interpretation Number Type\",\"Site Feature Interpretation Certainty\",\"Built Component\",\"Heritage Place Resource Instance\",\"Material Class\",\"Material Type\",\"Construction Technique\",\"Measurement Number\",\"Measurement Unit\",\"Dimension Type\",\"Measurement Source Type \",\"Related Geoarchaeology\\u002fPalaeolandscape\",\"Overall Condition State Type\",\"Damage Extent Type\",\"Disturbance Cause Category Type\",\"Disturbance Cause Type \",\"Disturbance Cause Certainty \",\"Disturbance Date From\",\"Disturbance Date To \",\"Disturbance Date Occurred Before\",\"Disturbance Date Occurred On \",\"Disturbance Cause Assignment Assessor Name - Actor\",\"Effect Type\",\"Effect Certainty\",\"Threat Category\",\"Threat Cause Type\",\"Threat Probability \",\"Threat Inference Making Assessor Name - Actor\",\"Intervention Activity Type\",\"Recommendation Type\",\"Priority Type\",\"Detailed Condition Assessments\",\"Topography Type\",\"Land Cover Type\",\"Land Cover Assessment Date\",\"Surficial Geology Type\",\"Depositional Process\",\"Bedrock Geology Type\",\"Fetch Type\",\"Wave Climate\",\"Tidal Range\",\"Minimum Depth\\u002fMax Elevation\",\"Maximum Depth\\u002fMin Elevation\",\"Datum Type\",\"Datum Description\\u002fEPSG code\",\"Restricted Access Record Designation\"],\"type\":\"scatterpolar\",\"subplot\":\"polar\"}],                        {\"template\":{\"data\":{\"histogram2dcontour\":[{\"type\":\"histogram2dcontour\",\"colorbar\":{\"outlinewidth\":0,\"ticks\":\"\"},\"colorscale\":[[0.0,\"#0d0887\"],[0.1111111111111111,\"#46039f\"],[0.2222222222222222,\"#7201a8\"],[0.3333333333333333,\"#9c179e\"],[0.4444444444444444,\"#bd3786\"],[0.5555555555555556,\"#d8576b\"],[0.6666666666666666,\"#ed7953\"],[0.7777777777777778,\"#fb9f3a\"],[0.8888888888888888,\"#fdca26\"],[1.0,\"#f0f921\"]]}],\"choropleth\":[{\"type\":\"choropleth\",\"colorbar\":{\"outlinewidth\":0,\"ticks\":\"\"}}],\"histogram2d\":[{\"type\":\"histogram2d\",\"colorbar\":{\"outlinewidth\":0,\"ticks\":\"\"},\"colorscale\":[[0.0,\"#0d0887\"],[0.1111111111111111,\"#46039f\"],[0.2222222222222222,\"#7201a8\"],[0.3333333333333333,\"#9c179e\"],[0.4444444444444444,\"#bd3786\"],[0.5555555555555556,\"#d8576b\"],[0.6666666666666666,\"#ed7953\"],[0.7777777777777778,\"#fb9f3a\"],[0.8888888888888888,\"#fdca26\"],[1.0,\"#f0f921\"]]}],\"heatmap\":[{\"type\":\"heatmap\",\"colorbar\":{\"outlinewidth\":0,\"ticks\":\"\"},\"colorscale\":[[0.0,\"#0d0887\"],[0.1111111111111111,\"#46039f\"],[0.2222222222222222,\"#7201a8\"],[0.3333333333333333,\"#9c179e\"],[0.4444444444444444,\"#bd3786\"],[0.5555555555555556,\"#d8576b\"],[0.6666666666666666,\"#ed7953\"],[0.7777777777777778,\"#fb9f3a\"],[0.8888888888888888,\"#fdca26\"],[1.0,\"#f0f921\"]]}],\"heatmapgl\":[{\"type\":\"heatmapgl\",\"colorbar\":{\"outlinewidth\":0,\"ticks\":\"\"},\"colorscale\":[[0.0,\"#0d0887\"],[0.1111111111111111,\"#46039f\"],[0.2222222222222222,\"#7201a8\"],[0.3333333333333333,\"#9c179e\"],[0.4444444444444444,\"#bd3786\"],[0.5555555555555556,\"#d8576b\"],[0.6666666666666666,\"#ed7953\"],[0.7777777777777778,\"#fb9f3a\"],[0.8888888888888888,\"#fdca26\"],[1.0,\"#f0f921\"]]}],\"contourcarpet\":[{\"type\":\"contourcarpet\",\"colorbar\":{\"outlinewidth\":0,\"ticks\":\"\"}}],\"contour\":[{\"type\":\"contour\",\"colorbar\":{\"outlinewidth\":0,\"ticks\":\"\"},\"colorscale\":[[0.0,\"#0d0887\"],[0.1111111111111111,\"#46039f\"],[0.2222222222222222,\"#7201a8\"],[0.3333333333333333,\"#9c179e\"],[0.4444444444444444,\"#bd3786\"],[0.5555555555555556,\"#d8576b\"],[0.6666666666666666,\"#ed7953\"],[0.7777777777777778,\"#fb9f3a\"],[0.8888888888888888,\"#fdca26\"],[1.0,\"#f0f921\"]]}],\"surface\":[{\"type\":\"surface\",\"colorbar\":{\"outlinewidth\":0,\"ticks\":\"\"},\"colorscale\":[[0.0,\"#0d0887\"],[0.1111111111111111,\"#46039f\"],[0.2222222222222222,\"#7201a8\"],[0.3333333333333333,\"#9c179e\"],[0.4444444444444444,\"#bd3786\"],[0.5555555555555556,\"#d8576b\"],[0.6666666666666666,\"#ed7953\"],[0.7777777777777778,\"#fb9f3a\"],[0.8888888888888888,\"#fdca26\"],[1.0,\"#f0f921\"]]}],\"mesh3d\":[{\"type\":\"mesh3d\",\"colorbar\":{\"outlinewidth\":0,\"ticks\":\"\"}}],\"scatter\":[{\"fillpattern\":{\"fillmode\":\"overlay\",\"size\":10,\"solidity\":0.2},\"type\":\"scatter\"}],\"parcoords\":[{\"type\":\"parcoords\",\"line\":{\"colorbar\":{\"outlinewidth\":0,\"ticks\":\"\"}}}],\"scatterpolargl\":[{\"type\":\"scatterpolargl\",\"marker\":{\"colorbar\":{\"outlinewidth\":0,\"ticks\":\"\"}}}],\"bar\":[{\"error_x\":{\"color\":\"#2a3f5f\"},\"error_y\":{\"color\":\"#2a3f5f\"},\"marker\":{\"line\":{\"color\":\"#E5ECF6\",\"width\":0.5},\"pattern\":{\"fillmode\":\"overlay\",\"size\":10,\"solidity\":0.2}},\"type\":\"bar\"}],\"scattergeo\":[{\"type\":\"scattergeo\",\"marker\":{\"colorbar\":{\"outlinewidth\":0,\"ticks\":\"\"}}}],\"scatterpolar\":[{\"type\":\"scatterpolar\",\"marker\":{\"colorbar\":{\"outlinewidth\":0,\"ticks\":\"\"}}}],\"histogram\":[{\"marker\":{\"pattern\":{\"fillmode\":\"overlay\",\"size\":10,\"solidity\":0.2}},\"type\":\"histogram\"}],\"scattergl\":[{\"type\":\"scattergl\",\"marker\":{\"colorbar\":{\"outlinewidth\":0,\"ticks\":\"\"}}}],\"scatter3d\":[{\"type\":\"scatter3d\",\"line\":{\"colorbar\":{\"outlinewidth\":0,\"ticks\":\"\"}},\"marker\":{\"colorbar\":{\"outlinewidth\":0,\"ticks\":\"\"}}}],\"scattermapbox\":[{\"type\":\"scattermapbox\",\"marker\":{\"colorbar\":{\"outlinewidth\":0,\"ticks\":\"\"}}}],\"scatterternary\":[{\"type\":\"scatterternary\",\"marker\":{\"colorbar\":{\"outlinewidth\":0,\"ticks\":\"\"}}}],\"scattercarpet\":[{\"type\":\"scattercarpet\",\"marker\":{\"colorbar\":{\"outlinewidth\":0,\"ticks\":\"\"}}}],\"carpet\":[{\"aaxis\":{\"endlinecolor\":\"#2a3f5f\",\"gridcolor\":\"white\",\"linecolor\":\"white\",\"minorgridcolor\":\"white\",\"startlinecolor\":\"#2a3f5f\"},\"baxis\":{\"endlinecolor\":\"#2a3f5f\",\"gridcolor\":\"white\",\"linecolor\":\"white\",\"minorgridcolor\":\"white\",\"startlinecolor\":\"#2a3f5f\"},\"type\":\"carpet\"}],\"table\":[{\"cells\":{\"fill\":{\"color\":\"#EBF0F8\"},\"line\":{\"color\":\"white\"}},\"header\":{\"fill\":{\"color\":\"#C8D4E3\"},\"line\":{\"color\":\"white\"}},\"type\":\"table\"}],\"barpolar\":[{\"marker\":{\"line\":{\"color\":\"#E5ECF6\",\"width\":0.5},\"pattern\":{\"fillmode\":\"overlay\",\"size\":10,\"solidity\":0.2}},\"type\":\"barpolar\"}],\"pie\":[{\"automargin\":true,\"type\":\"pie\"}]},\"layout\":{\"autotypenumbers\":\"strict\",\"colorway\":[\"#636efa\",\"#EF553B\",\"#00cc96\",\"#ab63fa\",\"#FFA15A\",\"#19d3f3\",\"#FF6692\",\"#B6E880\",\"#FF97FF\",\"#FECB52\"],\"font\":{\"color\":\"#2a3f5f\"},\"hovermode\":\"closest\",\"hoverlabel\":{\"align\":\"left\"},\"paper_bgcolor\":\"white\",\"plot_bgcolor\":\"#E5ECF6\",\"polar\":{\"bgcolor\":\"#E5ECF6\",\"angularaxis\":{\"gridcolor\":\"white\",\"linecolor\":\"white\",\"ticks\":\"\"},\"radialaxis\":{\"gridcolor\":\"white\",\"linecolor\":\"white\",\"ticks\":\"\"}},\"ternary\":{\"bgcolor\":\"#E5ECF6\",\"aaxis\":{\"gridcolor\":\"white\",\"linecolor\":\"white\",\"ticks\":\"\"},\"baxis\":{\"gridcolor\":\"white\",\"linecolor\":\"white\",\"ticks\":\"\"},\"caxis\":{\"gridcolor\":\"white\",\"linecolor\":\"white\",\"ticks\":\"\"}},\"coloraxis\":{\"colorbar\":{\"outlinewidth\":0,\"ticks\":\"\"}},\"colorscale\":{\"sequential\":[[0.0,\"#0d0887\"],[0.1111111111111111,\"#46039f\"],[0.2222222222222222,\"#7201a8\"],[0.3333333333333333,\"#9c179e\"],[0.4444444444444444,\"#bd3786\"],[0.5555555555555556,\"#d8576b\"],[0.6666666666666666,\"#ed7953\"],[0.7777777777777778,\"#fb9f3a\"],[0.8888888888888888,\"#fdca26\"],[1.0,\"#f0f921\"]],\"sequentialminus\":[[0.0,\"#0d0887\"],[0.1111111111111111,\"#46039f\"],[0.2222222222222222,\"#7201a8\"],[0.3333333333333333,\"#9c179e\"],[0.4444444444444444,\"#bd3786\"],[0.5555555555555556,\"#d8576b\"],[0.6666666666666666,\"#ed7953\"],[0.7777777777777778,\"#fb9f3a\"],[0.8888888888888888,\"#fdca26\"],[1.0,\"#f0f921\"]],\"diverging\":[[0,\"#8e0152\"],[0.1,\"#c51b7d\"],[0.2,\"#de77ae\"],[0.3,\"#f1b6da\"],[0.4,\"#fde0ef\"],[0.5,\"#f7f7f7\"],[0.6,\"#e6f5d0\"],[0.7,\"#b8e186\"],[0.8,\"#7fbc41\"],[0.9,\"#4d9221\"],[1,\"#276419\"]]},\"xaxis\":{\"gridcolor\":\"white\",\"linecolor\":\"white\",\"ticks\":\"\",\"title\":{\"standoff\":15},\"zerolinecolor\":\"white\",\"automargin\":true,\"zerolinewidth\":2},\"yaxis\":{\"gridcolor\":\"white\",\"linecolor\":\"white\",\"ticks\":\"\",\"title\":{\"standoff\":15},\"zerolinecolor\":\"white\",\"automargin\":true,\"zerolinewidth\":2},\"scene\":{\"xaxis\":{\"backgroundcolor\":\"#E5ECF6\",\"gridcolor\":\"white\",\"linecolor\":\"white\",\"showbackground\":true,\"ticks\":\"\",\"zerolinecolor\":\"white\",\"gridwidth\":2},\"yaxis\":{\"backgroundcolor\":\"#E5ECF6\",\"gridcolor\":\"white\",\"linecolor\":\"white\",\"showbackground\":true,\"ticks\":\"\",\"zerolinecolor\":\"white\",\"gridwidth\":2},\"zaxis\":{\"backgroundcolor\":\"#E5ECF6\",\"gridcolor\":\"white\",\"linecolor\":\"white\",\"showbackground\":true,\"ticks\":\"\",\"zerolinecolor\":\"white\",\"gridwidth\":2}},\"shapedefaults\":{\"line\":{\"color\":\"#2a3f5f\"}},\"annotationdefaults\":{\"arrowcolor\":\"#2a3f5f\",\"arrowhead\":0,\"arrowwidth\":1},\"geo\":{\"bgcolor\":\"white\",\"landcolor\":\"#E5ECF6\",\"subunitcolor\":\"white\",\"showland\":true,\"showlakes\":true,\"lakecolor\":\"white\"},\"title\":{\"x\":0.05},\"mapbox\":{\"style\":\"light\"}}},\"polar\":{\"domain\":{\"x\":[0.0,0.2888888888888889],\"y\":[0.0,1.0]},\"radialaxis\":{\"range\":[-1,1],\"tickvals\":[0,1],\"ticktext\":[\"0\",\"1\"]},\"angularaxis\":{\"showline\":false,\"showticklabels\":false}},\"polar2\":{\"domain\":{\"x\":[0.35555555555555557,0.6444444444444445],\"y\":[0.0,1.0]},\"radialaxis\":{\"range\":[-1,1],\"tickvals\":[0,1],\"ticktext\":[\"0\",\"1\"]},\"angularaxis\":{\"showline\":false,\"showticklabels\":false}},\"polar3\":{\"domain\":{\"x\":[0.7111111111111111,1.0],\"y\":[0.0,1.0]},\"radialaxis\":{\"range\":[-1,1],\"tickvals\":[0,1],\"ticktext\":[\"0\",\"1\"]},\"angularaxis\":{\"showline\":false,\"showticklabels\":false}},\"annotations\":[{\"font\":{\"size\":16},\"showarrow\":false,\"text\":\"EAMENA-0192473\",\"x\":0.14444444444444446,\"xanchor\":\"center\",\"xref\":\"paper\",\"y\":1.0,\"yanchor\":\"bottom\",\"yref\":\"paper\"}],\"autosize\":false,\"width\":1500,\"height\":300},                        {\"responsive\": true}                    ).then(function(){\n",
              "                            \n",
              "var gd = document.getElementById('2f5282ab-05a6-4619-90aa-e2d4f9bf9ed2');\n",
              "var x = new MutationObserver(function (mutations, observer) {{\n",
              "        var display = window.getComputedStyle(gd).display;\n",
              "        if (!display || display === 'none') {{\n",
              "            console.log([gd, 'removed!']);\n",
              "            Plotly.purge(gd);\n",
              "            observer.disconnect();\n",
              "        }}\n",
              "}});\n",
              "\n",
              "// Listen for the removal of the full notebook cells\n",
              "var notebookContainer = gd.closest('#notebook-container');\n",
              "if (notebookContainer) {{\n",
              "    x.observe(notebookContainer, {childList: true});\n",
              "}}\n",
              "\n",
              "// Listen for the clearing of the current output cell\n",
              "var outputEl = gd.closest('.output');\n",
              "if (outputEl) {{\n",
              "    x.observe(outputEl, {childList: true});\n",
              "}}\n",
              "\n",
              "                        })                };                            </script>        </div>\n",
              "</body>\n",
              "</html>"
            ]
          },
          "metadata": {}
        }
      ],
      "source": [
        "# dict_hps = erms.hps_dict(hps, selected_hp, df_listed, mylevel = radio_button.value)\n",
        "def plot_spidergraphs(dict_hps=None, df_erms=None, mylevel=\"level3\", ncol=3, verbose=False):\n",
        "    # ncol = 3\n",
        "    nrow = math.ceil(len(dict_hps.keys()) / ncol)\n",
        "    fig = make_subplots(rows=nrow, cols=ncol, specs=[[{'type': 'polar'}] * ncol] * nrow, subplot_titles=tuple(dict_hps.keys()))\n",
        "    df_erms_1 = df_erms.copy()  # to add +1 later\n",
        "    df_erms_1.loc[df_erms_1['value'] == 0, 'value'] = -1\n",
        "    current_column, current_row = 1, 1\n",
        "    for a_hp in dict_hps.keys():\n",
        "        df = dict_hps[a_hp]\n",
        "        if verbose:\n",
        "            print(a_hp)\n",
        "            print(str(current_row) + \" \" + str(current_column))\n",
        "        if mylevel == 'level3':\n",
        "\t\t\t# ERMS\n",
        "            fig.add_trace(go.Scatterpolar(\n",
        "                name=\"  erms\",\n",
        "                r=df_erms_1['value'],\n",
        "                theta=df_erms_1['field'],\n",
        "                fill='toself',\n",
        "                fillcolor='red',\n",
        "                line_color='red',\n",
        "                hovertemplate=\"<br>\".join([\n",
        "                    \"value: %{r}\",\n",
        "                    \"field: %{theta}\"]),\n",
        "                showlegend=False),\n",
        "                current_row, current_column)\n",
        "            fig.add_trace(go.Scatterpolar(\n",
        "                r=df_erms_1['value'],\n",
        "                theta=df_erms_1['field'],\n",
        "                mode='markers',\n",
        "                marker_color=\"red\",\n",
        "                hovertemplate=\"<br>\".join([\n",
        "                    \"value: %{r}\",\n",
        "                    \"field: %{theta}\"]),\n",
        "                name='Markers',  # Provide a name for the marker trace\n",
        "                showlegend=False,  # Show the legend for the marker trace\n",
        "            ), current_row, current_column)\n",
        "            fig.add_trace(go.Scatterpolar(\n",
        "                name=a_hp,\n",
        "                r=df['recorded'],\n",
        "                theta=df['field'],\n",
        "                mode='markers',\n",
        "                marker_color=\"blue\",\n",
        "                hovertemplate=\"<br>\".join([\n",
        "                    \"value: %{r}\",\n",
        "                    \"field: %{theta}\"])\n",
        "            ),\n",
        "                current_row, current_column)\n",
        "        else:\n",
        "            fig.add_trace(go.Scatterpolar(\n",
        "                name=a_hp,\n",
        "                r=df['recorded'],\n",
        "                theta=df['field'],\n",
        "                mode='markers',\n",
        "                marker_color=\"blue\",\n",
        "                hovertemplate=\"<br>\".join([\n",
        "                    \"value: %{r}\",\n",
        "                    \"field: %{theta}\"]),\n",
        "                showlegend=False,\n",
        "                text=\"None\"),\n",
        "                current_row, current_column)\n",
        "        current_column = current_column + 1\n",
        "        # end of line..\n",
        "        if current_column > ncol:\n",
        "            current_row = current_row + 1\n",
        "            current_column = 1\n",
        "\n",
        "    # Update polar settings for all subplots\n",
        "    fig.update_polars(\n",
        "        radialaxis=dict(\n",
        "            # showline=False,\n",
        "            range=[-1, 1],  # Set the range for the radial axis\n",
        "            tickvals=[0, 1],  # Specify the tick values\n",
        "            ticktext=['0', '1'],  # Specify the corresponding labels\n",
        "        ),\n",
        "        angularaxis=dict(\n",
        "            showline=False,  # Set to False to hide the angular axis line\n",
        "            showticklabels=False,  # Set to False to hide the angular axis labels\n",
        "        )\n",
        "    )\n",
        "    fig.update_layout(\n",
        "      autosize=False,\n",
        "      width=(ncol*500),\n",
        "      height=(nrow*300),\n",
        "    )\n",
        "    fig.show()\n",
        "\n",
        "plot_spidergraphs(dict_hps, df_erms, mylevel = radio_button.value)"
      ]
    }
  ],
  "metadata": {
    "kernelspec": {
      "display_name": "Python 3",
      "language": "python",
      "name": "python3"
    },
    "language_info": {
      "codemirror_mode": {
        "name": "ipython",
        "version": 3
      },
      "file_extension": ".py",
      "mimetype": "text/x-python",
      "name": "python",
      "nbconvert_exporter": "python",
      "pygments_lexer": "ipython3",
      "version": "3.11.2"
    },
    "orig_nbformat": 4,
    "colab": {
      "provenance": []
    },
    "widgets": {
      "application/vnd.jupyter.widget-state+json": {
        "cf421dd4f00b40169230ae0231ab6316": {
          "model_module": "@jupyter-widgets/controls",
          "model_name": "RadioButtonsModel",
          "model_module_version": "1.5.0",
          "state": {
            "_dom_classes": [],
            "_model_module": "@jupyter-widgets/controls",
            "_model_module_version": "1.5.0",
            "_model_name": "RadioButtonsModel",
            "_options_labels": [
              "level1",
              "level2",
              "level3"
            ],
            "_view_count": null,
            "_view_module": "@jupyter-widgets/controls",
            "_view_module_version": "1.5.0",
            "_view_name": "RadioButtonsView",
            "description": "Select an option:",
            "description_tooltip": null,
            "disabled": false,
            "index": 2,
            "layout": "IPY_MODEL_3ee1f1608cf24350852eb3e5dee4e231",
            "style": "IPY_MODEL_a68257bdae11479cb804f27e5b64040c"
          }
        },
        "3ee1f1608cf24350852eb3e5dee4e231": {
          "model_module": "@jupyter-widgets/base",
          "model_name": "LayoutModel",
          "model_module_version": "1.2.0",
          "state": {
            "_model_module": "@jupyter-widgets/base",
            "_model_module_version": "1.2.0",
            "_model_name": "LayoutModel",
            "_view_count": null,
            "_view_module": "@jupyter-widgets/base",
            "_view_module_version": "1.2.0",
            "_view_name": "LayoutView",
            "align_content": null,
            "align_items": null,
            "align_self": null,
            "border": null,
            "bottom": null,
            "display": null,
            "flex": null,
            "flex_flow": null,
            "grid_area": null,
            "grid_auto_columns": null,
            "grid_auto_flow": null,
            "grid_auto_rows": null,
            "grid_column": null,
            "grid_gap": null,
            "grid_row": null,
            "grid_template_areas": null,
            "grid_template_columns": null,
            "grid_template_rows": null,
            "height": null,
            "justify_content": null,
            "justify_items": null,
            "left": null,
            "margin": null,
            "max_height": null,
            "max_width": null,
            "min_height": null,
            "min_width": null,
            "object_fit": null,
            "object_position": null,
            "order": null,
            "overflow": null,
            "overflow_x": null,
            "overflow_y": null,
            "padding": null,
            "right": null,
            "top": null,
            "visibility": null,
            "width": null
          }
        },
        "a68257bdae11479cb804f27e5b64040c": {
          "model_module": "@jupyter-widgets/controls",
          "model_name": "DescriptionStyleModel",
          "model_module_version": "1.5.0",
          "state": {
            "_model_module": "@jupyter-widgets/controls",
            "_model_module_version": "1.5.0",
            "_model_name": "DescriptionStyleModel",
            "_view_count": null,
            "_view_module": "@jupyter-widgets/base",
            "_view_module_version": "1.2.0",
            "_view_name": "StyleView",
            "description_width": ""
          }
        }
      }
    }
  },
  "nbformat": 4,
  "nbformat_minor": 0
}