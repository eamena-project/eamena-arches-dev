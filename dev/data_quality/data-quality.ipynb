{
 "cells": [
  {
   "cell_type": "code",
   "execution_count": 1,
   "metadata": {},
   "outputs": [],
   "source": [
    "import psycopg2 as pg\n",
    "import pandas as pd\n",
    "import numpy as np\n",
    "import matplotlib.pyplot as plt\n",
    "import plotly.express as px"
   ]
  },
  {
   "cell_type": "markdown",
   "metadata": {},
   "source": [
    "Connect the DB"
   ]
  },
  {
   "cell_type": "markdown",
   "metadata": {},
   "source": [
    "Constants"
   ]
  },
  {
   "cell_type": "code",
   "execution_count": 44,
   "metadata": {},
   "outputs": [],
   "source": [
    "# UUIDs\n",
    "uuid_hp = '34cfe992-c2c0-11ea-9026-02e7594ce0a0'\n",
    "# connection parameters\n",
    "dbname = \"eamena\"\n",
    "user = \"eamenar\"\n",
    "password = \"eamenar\"\n",
    "host = \"52.50.27.140\"\n",
    "port = \"5432\""
   ]
  },
  {
   "cell_type": "code",
   "execution_count": 41,
   "metadata": {},
   "outputs": [
    {
     "name": "stdout",
     "output_type": "stream",
     "text": [
      "Connection established successfully!\n"
     ]
    }
   ],
   "source": [
    "try:\n",
    "    connection = pg.connect(\n",
    "        dbname=dbname,\n",
    "        user=user,\n",
    "        password=password,\n",
    "        host=host,\n",
    "        port=port\n",
    "    )\n",
    "    cur = connection.cursor()\n",
    "    print(\"Connection established successfully!\")\n",
    "except pg.Error as e:\n",
    "    print(f\"Error: {e}\")"
   ]
  },
  {
   "cell_type": "markdown",
   "metadata": {},
   "source": [
    "Select an HP"
   ]
  },
  {
   "cell_type": "code",
   "execution_count": 37,
   "metadata": {},
   "outputs": [],
   "source": [
    "selected_hp = 'EAMENA-0500002'"
   ]
  },
  {
   "cell_type": "markdown",
   "metadata": {},
   "source": [
    "Get the UUID of the HP from its ID"
   ]
  },
  {
   "cell_type": "code",
   "execution_count": 47,
   "metadata": {},
   "outputs": [
    {
     "name": "stdout",
     "output_type": "stream",
     "text": [
      "the UUID of 'EAMENA-0500002' is 'dbc95d2d-38fb-465e-a6cb-0545eaa7584f'\n"
     ]
    }
   ],
   "source": [
    "sqll = \"\"\"\n",
    "SELECT\n",
    "      resourceinstanceid AS resourceid\n",
    "      FROM tiles\n",
    "      WHERE tiledata -> '%s' -> 'en' ->> 'value' LIKE '%s'\n",
    "\"\"\" % (uuid_hp, selected_hp)\n",
    "# print(sqll)\n",
    "cur.execute(sqll)\n",
    "hpid = cur.fetchone()[0]   \n",
    "print(\"the UUID of '\" + selected_hp + \"' is '\" + hpid + \"'\")"
   ]
  },
  {
   "cell_type": "markdown",
   "metadata": {},
   "source": [
    "Use the HP UUID (ex: `EAMENA-0500002`) to collect data. Field list are:\n",
    "\n",
    "* Condition: `34cfe9f5-c2c0-11ea-9026-02e7594ce0a0`\n",
    "* Damage Extent Type: `34cfea8e-c2c0-11ea-9026-02e7594ce0a0`\n",
    "* ..."
   ]
  },
  {
   "cell_type": "code",
   "execution_count": 46,
   "metadata": {},
   "outputs": [
    {
     "name": "stdout",
     "output_type": "stream",
     "text": [
      "\n",
      "SELECT value FROM values \n",
      "WHERE valueid::text IN\n",
      "(\n",
      "SELECT tiledata ->> '34cfe992-c2c0-11ea-9026-02e7594ce0a0' AS DamageExtentType\n",
      "FROM tiles \n",
      "WHERE resourceinstanceid::text LIKE 'dbc95d2d-38fb-465e-a6cb-0545eaa7584f'\n",
      "AND tiledata -> '34cfe992-c2c0-11ea-9026-02e7594ce0a0' IS NOT NULL\n",
      ")\n",
      "\n",
      "[]\n"
     ]
    }
   ],
   "source": [
    "sqll = \"\"\"\n",
    "SELECT value FROM values \n",
    "WHERE valueid::text IN\n",
    "(\n",
    "SELECT tiledata ->> '%s' AS DamageExtentType\n",
    "FROM tiles \n",
    "WHERE resourceinstanceid::text LIKE '%s'\n",
    "AND tiledata -> '%s' IS NOT NULL\n",
    ")\n",
    "\"\"\" % (uuid_hp, hpid, uuid_hp)\n",
    "print(sqll)\n",
    "cur.execute(sqll)\n",
    "outme = cur.fetchall()\n",
    "print(outme)\n",
    "  "
   ]
  },
  {
   "cell_type": "markdown",
   "metadata": {},
   "source": [
    "Read the TSV file"
   ]
  },
  {
   "cell_type": "code",
   "execution_count": 52,
   "metadata": {},
   "outputs": [
    {
     "name": "stdout",
     "output_type": "stream",
     "text": [
      "|    | level1             | level2              | level3                   | uuid_sql                             |\n",
      "|---:|:-------------------|:--------------------|:-------------------------|:-------------------------------------|\n",
      "|  2 | ASSESSMENT SUMMARY | ASSESSMENT ACTIVITY | Assessment Activity Type | 34cfea4d-c2c0-11ea-9026-02e7594ce0a0 |\n"
     ]
    }
   ],
   "source": [
    "tsv_file = \"https://raw.githubusercontent.com/eamena-project/eamena-arches-dev/main/dev/data_quality/output.tsv\"\n",
    "df = pd.read_csv(tsv_file, delimiter='\\t')\n",
    "df = df[[\"level1\", \"level2\", \"level3\", \"uuid_sql\"]]\n",
    "df = df.dropna()\n",
    "print(df.to_markdown())"
   ]
  },
  {
   "cell_type": "code",
   "execution_count": 51,
   "metadata": {},
   "outputs": [
    {
     "data": {
      "text/plain": [
       "0                                      NaN\n",
       "1                                      NaN\n",
       "2     34cfea4d-c2c0-11ea-9026-02e7594ce0a0\n",
       "3                                      NaN\n",
       "4                                      NaN\n",
       "                      ...                 \n",
       "93                                     NaN\n",
       "94                                     NaN\n",
       "95                                     NaN\n",
       "96                                     NaN\n",
       "97                                     NaN\n",
       "Name: uuid_sql, Length: 98, dtype: object"
      ]
     },
     "execution_count": 51,
     "metadata": {},
     "output_type": "execute_result"
    }
   ],
   "source": [
    "level1_values\n",
    "variable = level1_values.tolist()\n",
    "variable\n",
    "listed_uuids = df['uuid_sql']\n",
    "listed_uuids\n",
    "# unique values level 1\n",
    "level1_values = df['level1'].unique()"
   ]
  },
  {
   "cell_type": "code",
   "execution_count": null,
   "metadata": {},
   "outputs": [],
   "source": [
    "value = [8, 12, 7, 14, 10]\n",
    "variable = level1_values.tolist()\n",
    "\n",
    "# Sample data\n",
    "df = pd.DataFrame(dict(\n",
    "    value = [8, 12, 7, 14, 10],\n",
    "    variable = ['V1', 'V2', 'V3', 'V4', 'V5']))\n",
    "           \n",
    "fig = px.line_polar(df, r = 'value', theta = 'variable', line_close = True)\n",
    "\n",
    "fig.show()\n"
   ]
  }
 ],
 "metadata": {
  "kernelspec": {
   "display_name": "Python 3",
   "language": "python",
   "name": "python3"
  },
  "language_info": {
   "codemirror_mode": {
    "name": "ipython",
    "version": 3
   },
   "file_extension": ".py",
   "mimetype": "text/x-python",
   "name": "python",
   "nbconvert_exporter": "python",
   "pygments_lexer": "ipython3",
   "version": "3.11.2"
  },
  "orig_nbformat": 4
 },
 "nbformat": 4,
 "nbformat_minor": 2
}
