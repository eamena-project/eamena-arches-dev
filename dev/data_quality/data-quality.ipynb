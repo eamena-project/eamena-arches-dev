{
 "cells": [
  {
   "cell_type": "code",
   "execution_count": 2,
   "metadata": {},
   "outputs": [],
   "source": [
    "import psycopg2 as pg\n",
    "import pandas as pd\n",
    "import numpy as np\n",
    "import re\n",
    "import matplotlib.pyplot as plt\n",
    "import plotly.express as px"
   ]
  },
  {
   "cell_type": "markdown",
   "metadata": {},
   "source": [
    "Constants"
   ]
  },
  {
   "cell_type": "code",
   "execution_count": 1,
   "metadata": {},
   "outputs": [],
   "source": [
    "# UUIDs\n",
    "uuid_hp = '34cfe992-c2c0-11ea-9026-02e7594ce0a0'\n",
    "# connection parameters\n",
    "dbname = \"eamena\"\n",
    "user = \"eamenar\"\n",
    "password = \"eamenar\"\n",
    "host = \"52.50.27.140\"\n",
    "port = \"5432\"\n",
    "# verbose\n",
    "verbose = True"
   ]
  },
  {
   "cell_type": "markdown",
   "metadata": {},
   "source": [
    "Connect the database"
   ]
  },
  {
   "cell_type": "code",
   "execution_count": 22,
   "metadata": {},
   "outputs": [
    {
     "name": "stdout",
     "output_type": "stream",
     "text": [
      "Connection established successfully!\n"
     ]
    }
   ],
   "source": [
    "try:\n",
    "    connection = pg.connect(\n",
    "        dbname=dbname,\n",
    "        user=user,\n",
    "        password=password,\n",
    "        host=host,\n",
    "        port=port\n",
    "    )\n",
    "    cur = connection.cursor()\n",
    "    print(\"Connection established successfully!\")\n",
    "except pg.Error as e:\n",
    "    print(f\"Error: {e}\")"
   ]
  },
  {
   "cell_type": "markdown",
   "metadata": {},
   "source": [
    "Select an HP"
   ]
  },
  {
   "cell_type": "code",
   "execution_count": 4,
   "metadata": {},
   "outputs": [],
   "source": [
    "selected_hp = 'EAMENA-0500002'"
   ]
  },
  {
   "cell_type": "markdown",
   "metadata": {},
   "source": [
    "Get the UUID of the HP from its ID"
   ]
  },
  {
   "cell_type": "code",
   "execution_count": 5,
   "metadata": {},
   "outputs": [
    {
     "name": "stdout",
     "output_type": "stream",
     "text": [
      "the UUID of 'EAMENA-0500002' is 'dbc95d2d-38fb-465e-a6cb-0545eaa7584f'\n"
     ]
    }
   ],
   "source": [
    "sqll = \"\"\"\n",
    "SELECT\n",
    "      resourceinstanceid AS resourceid\n",
    "      FROM tiles\n",
    "      WHERE tiledata -> '%s' -> 'en' ->> 'value' LIKE '%s'\n",
    "\"\"\" % (uuid_hp, selected_hp)\n",
    "# print(sqll)\n",
    "cur.execute(sqll)\n",
    "hpid = cur.fetchone()[0]   \n",
    "print(\"the UUID of '\" + selected_hp + \"' is '\" + hpid + \"'\")"
   ]
  },
  {
   "cell_type": "markdown",
   "metadata": {},
   "source": [
    "Read the [output.tsv](https://github.com/eamena-project/eamena-arches-dev/blob/main/dev/data_quality/output.tsv) file with listed UUID linked to fields. This TSV file is exported automatically (GitHub Action) from the `template.xlsx` file, in the same directory"
   ]
  },
  {
   "cell_type": "code",
   "execution_count": 9,
   "metadata": {},
   "outputs": [
    {
     "name": "stdout",
     "output_type": "stream",
     "text": [
      "|    | level1                    | level2                           | level3                                     | uuid_sql                             |\n",
      "|---:|:--------------------------|:---------------------------------|:-------------------------------------------|:-------------------------------------|\n",
      "|  0 | ASSESSMENT SUMMARY        | ASSESSMENT ACTIVITY              | Assessment Investigator - Actor            | 34cfea8a-c2c0-11ea-9026-02e7594ce0a0 |\n",
      "|  1 | ASSESSMENT SUMMARY        | ASSESSMENT ACTIVITY              | Investigator Role Type                     | d2e1ab96-cc05-11ea-a292-02e7594ce0a0 |\n",
      "|  2 | ASSESSMENT SUMMARY        | ASSESSMENT ACTIVITY              | Assessment Activity Type                   | 34cfea4d-c2c0-11ea-9026-02e7594ce0a0 |\n",
      "|  3 | ASSESSMENT SUMMARY        | ASSESSMENT ACTIVITY              | Assessment Activity Date                   | 34cfea81-c2c0-11ea-9026-02e7594ce0a0 |\n",
      "|  5 | ASSESSMENT SUMMARY        | ASSESSMENT ACTIVITY              | GE Imagery Acquisition Date                | b9643302-0407-11eb-a11c-0a5a9a4f6ef7 |\n",
      "|  7 | ASSESSMENT SUMMARY        | ASSESSMENT ACTIVITY              | Information Resource Acquisition Date      | a5eb59b4-0406-11eb-a11c-0a5a9a4f6ef7 |\n",
      "|  8 | RESOURCE SUMMARY          | RESOURCE NAME                    | Resource Name                              | 34cfe9dd-c2c0-11ea-9026-02e7594ce0a0 |\n",
      "|  9 | RESOURCE SUMMARY          | RESOURCE NAME                    | Name Type                                  | 34cfea97-c2c0-11ea-9026-02e7594ce0a0 |\n",
      "| 10 | RESOURCE SUMMARY          | RESOURCE SUMMARY                 | Heritage Place Type                        | 34cfe9ef-c2c0-11ea-9026-02e7594ce0a0 |\n",
      "| 11 | RESOURCE SUMMARY          | RESOURCE DESCRIPTION             | General Description Type                   | 34cfea91-c2c0-11ea-9026-02e7594ce0a0 |\n",
      "| 12 | RESOURCE SUMMARY          | RESOURCE DESCRIPTION             | General Description                        | 34cfea77-c2c0-11ea-9026-02e7594ce0a0 |\n",
      "| 13 | RESOURCE SUMMARY          | HERITAGE RESOURCE CLASSIFICATION | Heritage Place Function                    | 34cfea4a-c2c0-11ea-9026-02e7594ce0a0 |\n",
      "| 15 | RESOURCE SUMMARY          | DESIGNATION                      | Designation                                | d9abdfdb-c6a3-11ea-a292-02e7594ce0a0 |\n",
      "| 16 | RESOURCE SUMMARY          | DESIGNATION                      | Designation From Date                      | d9abdfe0-c6a3-11ea-a292-02e7594ce0a0 |\n",
      "| 17 | RESOURCE SUMMARY          | DESIGNATION                      | Designation To Date                        | d9abdfdf-c6a3-11ea-a292-02e7594ce0a0 |\n",
      "| 19 | GEOMETRIES                | GEOMETRIES                       | Geometry Qualifier                         | ce842cdc-c2c7-11ea-9026-02e7594ce0a0 |\n",
      "| 21 | GEOMETRIES                | GEOMETRIES                       | Geometry Extent Certainty                  | 5348cf6c-c2c5-11ea-9026-02e7594ce0a0 |\n",
      "| 23 | GEOGRAPHY                 | GEOGRAPHY                        | Grid ID                                    | 34cfea5d-c2c0-11ea-9026-02e7594ce0a0 |\n",
      "| 24 | GEOGRAPHY                 | GEOGRAPHY                        | Country Type                               | 34cfea43-c2c0-11ea-9026-02e7594ce0a0 |\n",
      "| 25 | GEOGRAPHY                 | GEOGRAPHY                        | Cadastral Reference                        | 34cfea95-c2c0-11ea-9026-02e7594ce0a0 |\n",
      "| 26 | GEOGRAPHY                 | GEOGRAPHY                        | Resource Orientation                       | 34cfea73-c2c0-11ea-9026-02e7594ce0a0 |\n",
      "| 27 | GEOGRAPHY                 | ADDRESS                          | Address                                    | 34cfea6d-c2c0-11ea-9026-02e7594ce0a0 |\n",
      "| 28 | GEOGRAPHY                 | ADDRESS                          | Address Type                               | 34cfea8f-c2c0-11ea-9026-02e7594ce0a0 |\n",
      "| 32 | ARCHAEOLOGICAL ASSESSMENT | ARCHAEOLOGICAL ASSESSMENT        | Overall Site Morphology Type               | 34cfe9e6-c2c0-11ea-9026-02e7594ce0a0 |\n",
      "| 33 | ARCHAEOLOGICAL ASSESSMENT | PERIODIZATION                    | Cultural Period Type                       | 38cff73b-c77b-11ea-a292-02e7594ce0a0 |\n",
      "| 34 | ARCHAEOLOGICAL ASSESSMENT | PERIODIZATION                    | Cultural Period Certainty                  | 38cff738-c77b-11ea-a292-02e7594ce0a0 |\n",
      "| 37 | ARCHAEOLOGICAL ASSESSMENT | PERIODIZATION                    | Date Inference Making Actor                | 38cff737-c77b-11ea-a292-02e7594ce0a0 |\n",
      "| 40 | ARCHAEOLOGICAL ASSESSMENT | ABSOLUTE CHRONOLOGY              | BP Date From                               | b7314be2-c5fa-11ea-9026-02e7594ce0a0 |\n",
      "| 41 | ARCHAEOLOGICAL ASSESSMENT | ABSOLUTE CHRONOLOGY              | BP Date To                                 | 173ff15a-c5fb-11ea-9026-02e7594ce0a0 |\n",
      "| 42 | ARCHAEOLOGICAL ASSESSMENT | ABSOLUTE CHRONOLOGY              | AH Date From                               | 41afc438-c5fb-11ea-9026-02e7594ce0a0 |\n",
      "| 43 | ARCHAEOLOGICAL ASSESSMENT | ABSOLUTE CHRONOLOGY              | AH Date To                                 | 5435f2ee-c5fb-11ea-9026-02e7594ce0a0 |\n",
      "| 44 | ARCHAEOLOGICAL ASSESSMENT | ABSOLUTE CHRONOLOGY              | SH Date From                               | 086e756c-cb86-11ea-a292-02e7594ce0a0 |\n",
      "| 46 | ARCHAEOLOGICAL ASSESSMENT | SITE FEATURES & INTERPRETATIONS  | Site Feature Form Type                     | 34cfea9a-c2c0-11ea-9026-02e7594ce0a0 |\n",
      "| 47 | ARCHAEOLOGICAL ASSESSMENT | SITE FEATURES & INTERPRETATIONS  | Site Feature Form Type Certainty           | 34cfea59-c2c0-11ea-9026-02e7594ce0a0 |\n",
      "| 48 | ARCHAEOLOGICAL ASSESSMENT | SITE FEATURES & INTERPRETATIONS  | Site Feature Shape Type                    | 34cfea19-c2c0-11ea-9026-02e7594ce0a0 |\n",
      "| 49 | ARCHAEOLOGICAL ASSESSMENT | SITE FEATURES & INTERPRETATIONS  | Site Feature Arrangement Type              | 34cfe9e9-c2c0-11ea-9026-02e7594ce0a0 |\n",
      "| 50 | ARCHAEOLOGICAL ASSESSMENT | SITE FEATURES & INTERPRETATIONS  | Site Feature Number Type                   | 34cfe9f8-c2c0-11ea-9026-02e7594ce0a0 |\n",
      "| 53 | ARCHAEOLOGICAL ASSESSMENT | SITE FEATURES & INTERPRETATIONS  | Site Feature Interpretation Certainty      | 34cfea44-c2c0-11ea-9026-02e7594ce0a0 |\n",
      "| 56 | ARCHAEOLOGICAL ASSESSMENT | MATERIAL                         | Material Class                             | 34cfea3c-c2c0-11ea-9026-02e7594ce0a0 |\n",
      "| 57 | ARCHAEOLOGICAL ASSESSMENT | MATERIAL                         | Material Type                              | 34cfea4e-c2c0-11ea-9026-02e7594ce0a0 |\n",
      "| 58 | ARCHAEOLOGICAL ASSESSMENT | MATERIAL                         | Construction Technique                     | 34cfea6b-c2c0-11ea-9026-02e7594ce0a0 |\n",
      "| 59 | ARCHAEOLOGICAL ASSESSMENT | Measurements                     | Measurement Number                         | 34cfea47-c2c0-11ea-9026-02e7594ce0a0 |\n",
      "| 60 | ARCHAEOLOGICAL ASSESSMENT | Measurements                     | Measurement Unit                           | 34cfea60-c2c0-11ea-9026-02e7594ce0a0 |\n",
      "| 61 | ARCHAEOLOGICAL ASSESSMENT | Measurements                     | Dimension Type                             | 34cfea86-c2c0-11ea-9026-02e7594ce0a0 |\n",
      "| 65 | CONDITION ASSESSMENT      | CONDITION ASSESSMENT             | Damage Extent Type                         | 34cfea8e-c2c0-11ea-9026-02e7594ce0a0 |\n",
      "| 66 | CONDITION ASSESSMENT      | DISTURBANCES                     | Disturbance Cause Category Type            | 34cfea68-c2c0-11ea-9026-02e7594ce0a0 |\n",
      "| 69 | CONDITION ASSESSMENT      | DISTURBANCES                     | Disturbance Date From                      | e3cc8c5c-c772-11ea-a292-02e7594ce0a0 |\n",
      "| 70 | CONDITION ASSESSMENT      | DISTURBANCES                     | Disturbance Date To                        | 34cfea65-c2c0-11ea-9026-02e7594ce0a0 |\n",
      "| 72 | CONDITION ASSESSMENT      | DISTURBANCES                     | Disturbance Date Occurred On               | 34cfea92-c2c0-11ea-9026-02e7594ce0a0 |\n",
      "| 73 | CONDITION ASSESSMENT      | DISTURBANCES                     | Disturbance Cause Assignment Assessor Name | e3cc8c5a-c772-11ea-a292-02e7594ce0a0 |\n",
      "| 76 | CONDITION ASSESSMENT      | THREATS                          | Threat Category                            | 34cfea90-c2c0-11ea-9026-02e7594ce0a0 |\n",
      "| 77 | CONDITION ASSESSMENT      | THREATS                          | Threat Type                                | 34cfea5c-c2c0-11ea-9026-02e7594ce0a0 |\n",
      "| 78 | CONDITION ASSESSMENT      | THREATS                          | Threat Probability                         | 34cfea76-c2c0-11ea-9026-02e7594ce0a0 |\n",
      "| 82 | CONDITION ASSESSMENT      | RECOMMENDATION PLAN              | Priority Type                              | 34cfea0a-c2c0-11ea-9026-02e7594ce0a0 |\n",
      "| 83 | CONDITION ASSESSMENT      | CONDITION ASSESSMENT             | Related Detailed Condition Resource        | 34cfea64-c2c0-11ea-9026-02e7594ce0a0 |\n",
      "| 84 | ENVIRONMENT ASSESSMENT    | ENVIRONMENT ASSESSMENT           | Topography Type                            | 34cfea84-c2c0-11ea-9026-02e7594ce0a0 |\n",
      "| 86 | ENVIRONMENT ASSESSMENT    | LAND COVER                       | Land Cover Assessment Date                 | 34cfea39-c2c0-11ea-9026-02e7594ce0a0 |\n",
      "| 87 | ENVIRONMENT ASSESSMENT    | SURFICIAL GEOLOGY                | Surficial Geology Type                     | 34cfea93-c2c0-11ea-9026-02e7594ce0a0 |\n",
      "| 88 | ENVIRONMENT ASSESSMENT    | SURFICIAL GEOLOGY                | Depositional Process                       | 34cfea61-c2c0-11ea-9026-02e7594ce0a0 |\n",
      "| 89 | ENVIRONMENT ASSESSMENT    | ENVIRONMENT ASSESSMENT           | Bedrock Geology                            | 34cfea9e-c2c0-11ea-9026-02e7594ce0a0 |\n",
      "| 90 | ENVIRONMENT ASSESSMENT    | MARINE ENVIRONMENT               | Fetch Type                                 | 34cfea37-c2c0-11ea-9026-02e7594ce0a0 |\n",
      "| 91 | ENVIRONMENT ASSESSMENT    | MARINE ENVIRONMENT               | Wave Climate                               | 34cfea2b-c2c0-11ea-9026-02e7594ce0a0 |\n",
      "| 92 | ENVIRONMENT ASSESSMENT    | MARINE ENVIRONMENT               | Tidal Energy                               | 34cfea3f-c2c0-11ea-9026-02e7594ce0a0 |\n",
      "| 93 | ENVIRONMENT ASSESSMENT    | DEPTH/ELEVATION                  | Minimum Depth/Max Elevation(m)             | 34cfea38-c2c0-11ea-9026-02e7594ce0a0 |\n",
      "| 97 | ACCESS                    | ACCESS                           | Restricted Access Record Designation       | 34cfea9b-c2c0-11ea-9026-02e7594ce0a0 |\n"
     ]
    }
   ],
   "source": [
    "tsv_file = \"https://raw.githubusercontent.com/eamena-project/eamena-arches-dev/main/dev/data_quality/output.tsv\"\n",
    "df = pd.read_csv(tsv_file, delimiter='\\t')\n",
    "df = df[[\"level1\", \"level2\", \"level3\", \"uuid_sql\"]]\n",
    "df_listed = df.dropna()\n",
    "print(df_listed.to_markdown())"
   ]
  },
  {
   "cell_type": "markdown",
   "metadata": {},
   "source": [
    "Select a column (default, `level1`) Create an empty dataframe, loop over UUIDs to collect data from the HP, and fill the empty dataframe"
   ]
  },
  {
   "cell_type": "code",
   "execution_count": null,
   "metadata": {},
   "outputs": [],
   "source": [
    "verbose = False\n",
    "mylevel = 'level2'\n",
    "# empty dataframe\n",
    "level_values = df_listed[mylevel].unique()\n",
    "data = {'field': level_values,\n",
    "        'nb_of_records': np.repeat(0, len(level_values)).tolist()}\n",
    "df_res = pd.DataFrame(data)\n",
    "print(df_res.to_markdown())"
   ]
  },
  {
   "cell_type": "code",
   "execution_count": 23,
   "metadata": {},
   "outputs": [
    {
     "name": "stdout",
     "output_type": "stream",
     "text": [
      "read: ASSESSMENT ACTIVITY | 34cfea8a-c2c0-11ea-9026-02e7594ce0a0\n",
      "\n",
      "    SELECT value FROM values \n",
      "    WHERE valueid::text IN\n",
      "    (\n",
      "    SELECT tiledata ->> '34cfea8a-c2c0-11ea-9026-02e7594ce0a0' AS ASSESSMENT_ACTIVITY\n",
      "    FROM tiles \n",
      "    WHERE resourceinstanceid::text LIKE 'dbc95d2d-38fb-465e-a6cb-0545eaa7584f'\n",
      "    AND tiledata -> '34cfea8a-c2c0-11ea-9026-02e7594ce0a0' IS NOT NULL\n",
      "    )\n",
      "    \n",
      "read: ASSESSMENT ACTIVITY | d2e1ab96-cc05-11ea-a292-02e7594ce0a0\n",
      "\n",
      "    SELECT value FROM values \n",
      "    WHERE valueid::text IN\n",
      "    (\n",
      "    SELECT tiledata ->> 'd2e1ab96-cc05-11ea-a292-02e7594ce0a0' AS ASSESSMENT_ACTIVITY\n",
      "    FROM tiles \n",
      "    WHERE resourceinstanceid::text LIKE 'dbc95d2d-38fb-465e-a6cb-0545eaa7584f'\n",
      "    AND tiledata -> 'd2e1ab96-cc05-11ea-a292-02e7594ce0a0' IS NOT NULL\n",
      "    )\n",
      "    \n",
      "read: ASSESSMENT ACTIVITY | 34cfea4d-c2c0-11ea-9026-02e7594ce0a0\n",
      "\n",
      "    SELECT value FROM values \n",
      "    WHERE valueid::text IN\n",
      "    (\n",
      "    SELECT tiledata ->> '34cfea4d-c2c0-11ea-9026-02e7594ce0a0' AS ASSESSMENT_ACTIVITY\n",
      "    FROM tiles \n",
      "    WHERE resourceinstanceid::text LIKE 'dbc95d2d-38fb-465e-a6cb-0545eaa7584f'\n",
      "    AND tiledata -> '34cfea4d-c2c0-11ea-9026-02e7594ce0a0' IS NOT NULL\n",
      "    )\n",
      "    \n",
      "recorded values: [('Desk-based Assessment',)]\n",
      "read: ASSESSMENT ACTIVITY | 34cfea81-c2c0-11ea-9026-02e7594ce0a0\n",
      "\n",
      "    SELECT value FROM values \n",
      "    WHERE valueid::text IN\n",
      "    (\n",
      "    SELECT tiledata ->> '34cfea81-c2c0-11ea-9026-02e7594ce0a0' AS ASSESSMENT_ACTIVITY\n",
      "    FROM tiles \n",
      "    WHERE resourceinstanceid::text LIKE 'dbc95d2d-38fb-465e-a6cb-0545eaa7584f'\n",
      "    AND tiledata -> '34cfea81-c2c0-11ea-9026-02e7594ce0a0' IS NOT NULL\n",
      "    )\n",
      "    \n",
      "read: ASSESSMENT ACTIVITY | b9643302-0407-11eb-a11c-0a5a9a4f6ef7\n",
      "\n",
      "    SELECT value FROM values \n",
      "    WHERE valueid::text IN\n",
      "    (\n",
      "    SELECT tiledata ->> 'b9643302-0407-11eb-a11c-0a5a9a4f6ef7' AS ASSESSMENT_ACTIVITY\n",
      "    FROM tiles \n",
      "    WHERE resourceinstanceid::text LIKE 'dbc95d2d-38fb-465e-a6cb-0545eaa7584f'\n",
      "    AND tiledata -> 'b9643302-0407-11eb-a11c-0a5a9a4f6ef7' IS NOT NULL\n",
      "    )\n",
      "    \n",
      "read: ASSESSMENT ACTIVITY | a5eb59b4-0406-11eb-a11c-0a5a9a4f6ef7\n",
      "\n",
      "    SELECT value FROM values \n",
      "    WHERE valueid::text IN\n",
      "    (\n",
      "    SELECT tiledata ->> 'a5eb59b4-0406-11eb-a11c-0a5a9a4f6ef7' AS ASSESSMENT_ACTIVITY\n",
      "    FROM tiles \n",
      "    WHERE resourceinstanceid::text LIKE 'dbc95d2d-38fb-465e-a6cb-0545eaa7584f'\n",
      "    AND tiledata -> 'a5eb59b4-0406-11eb-a11c-0a5a9a4f6ef7' IS NOT NULL\n",
      "    )\n",
      "    \n",
      "read: RESOURCE NAME | 34cfe9dd-c2c0-11ea-9026-02e7594ce0a0\n",
      "\n",
      "    SELECT value FROM values \n",
      "    WHERE valueid::text IN\n",
      "    (\n",
      "    SELECT tiledata ->> '34cfe9dd-c2c0-11ea-9026-02e7594ce0a0' AS RESOURCE_NAME\n",
      "    FROM tiles \n",
      "    WHERE resourceinstanceid::text LIKE 'dbc95d2d-38fb-465e-a6cb-0545eaa7584f'\n",
      "    AND tiledata -> '34cfe9dd-c2c0-11ea-9026-02e7594ce0a0' IS NOT NULL\n",
      "    )\n",
      "    \n",
      "read: RESOURCE NAME | 34cfea97-c2c0-11ea-9026-02e7594ce0a0\n",
      "\n",
      "    SELECT value FROM values \n",
      "    WHERE valueid::text IN\n",
      "    (\n",
      "    SELECT tiledata ->> '34cfea97-c2c0-11ea-9026-02e7594ce0a0' AS RESOURCE_NAME\n",
      "    FROM tiles \n",
      "    WHERE resourceinstanceid::text LIKE 'dbc95d2d-38fb-465e-a6cb-0545eaa7584f'\n",
      "    AND tiledata -> '34cfea97-c2c0-11ea-9026-02e7594ce0a0' IS NOT NULL\n",
      "    )\n",
      "    \n",
      "recorded values: [('Toponym',)]\n",
      "read: RESOURCE SUMMARY | 34cfe9ef-c2c0-11ea-9026-02e7594ce0a0\n",
      "\n",
      "    SELECT value FROM values \n",
      "    WHERE valueid::text IN\n",
      "    (\n",
      "    SELECT tiledata ->> '34cfe9ef-c2c0-11ea-9026-02e7594ce0a0' AS RESOURCE_SUMMARY\n",
      "    FROM tiles \n",
      "    WHERE resourceinstanceid::text LIKE 'dbc95d2d-38fb-465e-a6cb-0545eaa7584f'\n",
      "    AND tiledata -> '34cfe9ef-c2c0-11ea-9026-02e7594ce0a0' IS NOT NULL\n",
      "    )\n",
      "    \n",
      "recorded values: [('Urban Heritage',)]\n",
      "read: RESOURCE DESCRIPTION | 34cfea91-c2c0-11ea-9026-02e7594ce0a0\n",
      "\n",
      "    SELECT value FROM values \n",
      "    WHERE valueid::text IN\n",
      "    (\n",
      "    SELECT tiledata ->> '34cfea91-c2c0-11ea-9026-02e7594ce0a0' AS RESOURCE_DESCRIPTION\n",
      "    FROM tiles \n",
      "    WHERE resourceinstanceid::text LIKE 'dbc95d2d-38fb-465e-a6cb-0545eaa7584f'\n",
      "    AND tiledata -> '34cfea91-c2c0-11ea-9026-02e7594ce0a0' IS NOT NULL\n",
      "    )\n",
      "    \n",
      "read: RESOURCE DESCRIPTION | 34cfea77-c2c0-11ea-9026-02e7594ce0a0\n",
      "\n",
      "    SELECT value FROM values \n",
      "    WHERE valueid::text IN\n",
      "    (\n",
      "    SELECT tiledata ->> '34cfea77-c2c0-11ea-9026-02e7594ce0a0' AS RESOURCE_DESCRIPTION\n",
      "    FROM tiles \n",
      "    WHERE resourceinstanceid::text LIKE 'dbc95d2d-38fb-465e-a6cb-0545eaa7584f'\n",
      "    AND tiledata -> '34cfea77-c2c0-11ea-9026-02e7594ce0a0' IS NOT NULL\n",
      "    )\n",
      "    \n",
      "read: HERITAGE RESOURCE CLASSIFICATION | 34cfea4a-c2c0-11ea-9026-02e7594ce0a0\n",
      "\n",
      "    SELECT value FROM values \n",
      "    WHERE valueid::text IN\n",
      "    (\n",
      "    SELECT tiledata ->> '34cfea4a-c2c0-11ea-9026-02e7594ce0a0' AS HERITAGE_RESOURCE_CLASSIFICATION\n",
      "    FROM tiles \n",
      "    WHERE resourceinstanceid::text LIKE 'dbc95d2d-38fb-465e-a6cb-0545eaa7584f'\n",
      "    AND tiledata -> '34cfea4a-c2c0-11ea-9026-02e7594ce0a0' IS NOT NULL\n",
      "    )\n",
      "    \n",
      "recorded values: [('Public/Institutional',)]\n",
      "read: DESIGNATION | d9abdfdb-c6a3-11ea-a292-02e7594ce0a0\n",
      "\n",
      "    SELECT value FROM values \n",
      "    WHERE valueid::text IN\n",
      "    (\n",
      "    SELECT tiledata ->> 'd9abdfdb-c6a3-11ea-a292-02e7594ce0a0' AS DESIGNATION\n",
      "    FROM tiles \n",
      "    WHERE resourceinstanceid::text LIKE 'dbc95d2d-38fb-465e-a6cb-0545eaa7584f'\n",
      "    AND tiledata -> 'd9abdfdb-c6a3-11ea-a292-02e7594ce0a0' IS NOT NULL\n",
      "    )\n",
      "    \n",
      "read: DESIGNATION | d9abdfe0-c6a3-11ea-a292-02e7594ce0a0\n",
      "\n",
      "    SELECT value FROM values \n",
      "    WHERE valueid::text IN\n",
      "    (\n",
      "    SELECT tiledata ->> 'd9abdfe0-c6a3-11ea-a292-02e7594ce0a0' AS DESIGNATION\n",
      "    FROM tiles \n",
      "    WHERE resourceinstanceid::text LIKE 'dbc95d2d-38fb-465e-a6cb-0545eaa7584f'\n",
      "    AND tiledata -> 'd9abdfe0-c6a3-11ea-a292-02e7594ce0a0' IS NOT NULL\n",
      "    )\n",
      "    \n",
      "read: DESIGNATION | d9abdfdf-c6a3-11ea-a292-02e7594ce0a0\n",
      "\n",
      "    SELECT value FROM values \n",
      "    WHERE valueid::text IN\n",
      "    (\n",
      "    SELECT tiledata ->> 'd9abdfdf-c6a3-11ea-a292-02e7594ce0a0' AS DESIGNATION\n",
      "    FROM tiles \n",
      "    WHERE resourceinstanceid::text LIKE 'dbc95d2d-38fb-465e-a6cb-0545eaa7584f'\n",
      "    AND tiledata -> 'd9abdfdf-c6a3-11ea-a292-02e7594ce0a0' IS NOT NULL\n",
      "    )\n",
      "    \n",
      "read: GEOMETRIES | ce842cdc-c2c7-11ea-9026-02e7594ce0a0\n",
      "\n",
      "    SELECT value FROM values \n",
      "    WHERE valueid::text IN\n",
      "    (\n",
      "    SELECT tiledata ->> 'ce842cdc-c2c7-11ea-9026-02e7594ce0a0' AS GEOMETRIES\n",
      "    FROM tiles \n",
      "    WHERE resourceinstanceid::text LIKE 'dbc95d2d-38fb-465e-a6cb-0545eaa7584f'\n",
      "    AND tiledata -> 'ce842cdc-c2c7-11ea-9026-02e7594ce0a0' IS NOT NULL\n",
      "    )\n",
      "    \n",
      "read: GEOMETRIES | 5348cf6c-c2c5-11ea-9026-02e7594ce0a0\n",
      "\n",
      "    SELECT value FROM values \n",
      "    WHERE valueid::text IN\n",
      "    (\n",
      "    SELECT tiledata ->> '5348cf6c-c2c5-11ea-9026-02e7594ce0a0' AS GEOMETRIES\n",
      "    FROM tiles \n",
      "    WHERE resourceinstanceid::text LIKE 'dbc95d2d-38fb-465e-a6cb-0545eaa7584f'\n",
      "    AND tiledata -> '5348cf6c-c2c5-11ea-9026-02e7594ce0a0' IS NOT NULL\n",
      "    )\n",
      "    \n",
      "recorded values: [('High',)]\n",
      "read: GEOGRAPHY | 34cfea5d-c2c0-11ea-9026-02e7594ce0a0\n",
      "\n",
      "    SELECT value FROM values \n",
      "    WHERE valueid::text IN\n",
      "    (\n",
      "    SELECT tiledata ->> '34cfea5d-c2c0-11ea-9026-02e7594ce0a0' AS GEOGRAPHY\n",
      "    FROM tiles \n",
      "    WHERE resourceinstanceid::text LIKE 'dbc95d2d-38fb-465e-a6cb-0545eaa7584f'\n",
      "    AND tiledata -> '34cfea5d-c2c0-11ea-9026-02e7594ce0a0' IS NOT NULL\n",
      "    )\n",
      "    \n",
      "read: GEOGRAPHY | 34cfea43-c2c0-11ea-9026-02e7594ce0a0\n",
      "\n",
      "    SELECT value FROM values \n",
      "    WHERE valueid::text IN\n",
      "    (\n",
      "    SELECT tiledata ->> '34cfea43-c2c0-11ea-9026-02e7594ce0a0' AS GEOGRAPHY\n",
      "    FROM tiles \n",
      "    WHERE resourceinstanceid::text LIKE 'dbc95d2d-38fb-465e-a6cb-0545eaa7584f'\n",
      "    AND tiledata -> '34cfea43-c2c0-11ea-9026-02e7594ce0a0' IS NOT NULL\n",
      "    )\n",
      "    \n",
      "read: GEOGRAPHY | 34cfea95-c2c0-11ea-9026-02e7594ce0a0\n",
      "\n",
      "    SELECT value FROM values \n",
      "    WHERE valueid::text IN\n",
      "    (\n",
      "    SELECT tiledata ->> '34cfea95-c2c0-11ea-9026-02e7594ce0a0' AS GEOGRAPHY\n",
      "    FROM tiles \n",
      "    WHERE resourceinstanceid::text LIKE 'dbc95d2d-38fb-465e-a6cb-0545eaa7584f'\n",
      "    AND tiledata -> '34cfea95-c2c0-11ea-9026-02e7594ce0a0' IS NOT NULL\n",
      "    )\n",
      "    \n",
      "read: GEOGRAPHY | 34cfea73-c2c0-11ea-9026-02e7594ce0a0\n",
      "\n",
      "    SELECT value FROM values \n",
      "    WHERE valueid::text IN\n",
      "    (\n",
      "    SELECT tiledata ->> '34cfea73-c2c0-11ea-9026-02e7594ce0a0' AS GEOGRAPHY\n",
      "    FROM tiles \n",
      "    WHERE resourceinstanceid::text LIKE 'dbc95d2d-38fb-465e-a6cb-0545eaa7584f'\n",
      "    AND tiledata -> '34cfea73-c2c0-11ea-9026-02e7594ce0a0' IS NOT NULL\n",
      "    )\n",
      "    \n",
      "read: ADDRESS | 34cfea6d-c2c0-11ea-9026-02e7594ce0a0\n",
      "\n",
      "    SELECT value FROM values \n",
      "    WHERE valueid::text IN\n",
      "    (\n",
      "    SELECT tiledata ->> '34cfea6d-c2c0-11ea-9026-02e7594ce0a0' AS ADDRESS\n",
      "    FROM tiles \n",
      "    WHERE resourceinstanceid::text LIKE 'dbc95d2d-38fb-465e-a6cb-0545eaa7584f'\n",
      "    AND tiledata -> '34cfea6d-c2c0-11ea-9026-02e7594ce0a0' IS NOT NULL\n",
      "    )\n",
      "    \n",
      "read: ADDRESS | 34cfea8f-c2c0-11ea-9026-02e7594ce0a0\n",
      "\n",
      "    SELECT value FROM values \n",
      "    WHERE valueid::text IN\n",
      "    (\n",
      "    SELECT tiledata ->> '34cfea8f-c2c0-11ea-9026-02e7594ce0a0' AS ADDRESS\n",
      "    FROM tiles \n",
      "    WHERE resourceinstanceid::text LIKE 'dbc95d2d-38fb-465e-a6cb-0545eaa7584f'\n",
      "    AND tiledata -> '34cfea8f-c2c0-11ea-9026-02e7594ce0a0' IS NOT NULL\n",
      "    )\n",
      "    \n",
      "read: ARCHAEOLOGICAL ASSESSMENT | 34cfe9e6-c2c0-11ea-9026-02e7594ce0a0\n",
      "\n",
      "    SELECT value FROM values \n",
      "    WHERE valueid::text IN\n",
      "    (\n",
      "    SELECT tiledata ->> '34cfe9e6-c2c0-11ea-9026-02e7594ce0a0' AS ARCHAEOLOGICAL_ASSESSMENT\n",
      "    FROM tiles \n",
      "    WHERE resourceinstanceid::text LIKE 'dbc95d2d-38fb-465e-a6cb-0545eaa7584f'\n",
      "    AND tiledata -> '34cfe9e6-c2c0-11ea-9026-02e7594ce0a0' IS NOT NULL\n",
      "    )\n",
      "    \n",
      "read: PERIODIZATION | 38cff73b-c77b-11ea-a292-02e7594ce0a0\n",
      "\n",
      "    SELECT value FROM values \n",
      "    WHERE valueid::text IN\n",
      "    (\n",
      "    SELECT tiledata ->> '38cff73b-c77b-11ea-a292-02e7594ce0a0' AS PERIODIZATION\n",
      "    FROM tiles \n",
      "    WHERE resourceinstanceid::text LIKE 'dbc95d2d-38fb-465e-a6cb-0545eaa7584f'\n",
      "    AND tiledata -> '38cff73b-c77b-11ea-a292-02e7594ce0a0' IS NOT NULL\n",
      "    )\n",
      "    \n",
      "read: PERIODIZATION | 38cff738-c77b-11ea-a292-02e7594ce0a0\n",
      "\n",
      "    SELECT value FROM values \n",
      "    WHERE valueid::text IN\n",
      "    (\n",
      "    SELECT tiledata ->> '38cff738-c77b-11ea-a292-02e7594ce0a0' AS PERIODIZATION\n",
      "    FROM tiles \n",
      "    WHERE resourceinstanceid::text LIKE 'dbc95d2d-38fb-465e-a6cb-0545eaa7584f'\n",
      "    AND tiledata -> '38cff738-c77b-11ea-a292-02e7594ce0a0' IS NOT NULL\n",
      "    )\n",
      "    \n",
      "read: PERIODIZATION | 38cff737-c77b-11ea-a292-02e7594ce0a0\n",
      "\n",
      "    SELECT value FROM values \n",
      "    WHERE valueid::text IN\n",
      "    (\n",
      "    SELECT tiledata ->> '38cff737-c77b-11ea-a292-02e7594ce0a0' AS PERIODIZATION\n",
      "    FROM tiles \n",
      "    WHERE resourceinstanceid::text LIKE 'dbc95d2d-38fb-465e-a6cb-0545eaa7584f'\n",
      "    AND tiledata -> '38cff737-c77b-11ea-a292-02e7594ce0a0' IS NOT NULL\n",
      "    )\n",
      "    \n",
      "read: ABSOLUTE CHRONOLOGY | b7314be2-c5fa-11ea-9026-02e7594ce0a0\n",
      "\n",
      "    SELECT value FROM values \n",
      "    WHERE valueid::text IN\n",
      "    (\n",
      "    SELECT tiledata ->> 'b7314be2-c5fa-11ea-9026-02e7594ce0a0' AS ABSOLUTE_CHRONOLOGY\n",
      "    FROM tiles \n",
      "    WHERE resourceinstanceid::text LIKE 'dbc95d2d-38fb-465e-a6cb-0545eaa7584f'\n",
      "    AND tiledata -> 'b7314be2-c5fa-11ea-9026-02e7594ce0a0' IS NOT NULL\n",
      "    )\n",
      "    \n",
      "read: ABSOLUTE CHRONOLOGY | 173ff15a-c5fb-11ea-9026-02e7594ce0a0\n",
      "\n",
      "    SELECT value FROM values \n",
      "    WHERE valueid::text IN\n",
      "    (\n",
      "    SELECT tiledata ->> '173ff15a-c5fb-11ea-9026-02e7594ce0a0' AS ABSOLUTE_CHRONOLOGY\n",
      "    FROM tiles \n",
      "    WHERE resourceinstanceid::text LIKE 'dbc95d2d-38fb-465e-a6cb-0545eaa7584f'\n",
      "    AND tiledata -> '173ff15a-c5fb-11ea-9026-02e7594ce0a0' IS NOT NULL\n",
      "    )\n",
      "    \n",
      "read: ABSOLUTE CHRONOLOGY | 41afc438-c5fb-11ea-9026-02e7594ce0a0\n",
      "\n",
      "    SELECT value FROM values \n",
      "    WHERE valueid::text IN\n",
      "    (\n",
      "    SELECT tiledata ->> '41afc438-c5fb-11ea-9026-02e7594ce0a0' AS ABSOLUTE_CHRONOLOGY\n",
      "    FROM tiles \n",
      "    WHERE resourceinstanceid::text LIKE 'dbc95d2d-38fb-465e-a6cb-0545eaa7584f'\n",
      "    AND tiledata -> '41afc438-c5fb-11ea-9026-02e7594ce0a0' IS NOT NULL\n",
      "    )\n",
      "    \n",
      "read: ABSOLUTE CHRONOLOGY | 5435f2ee-c5fb-11ea-9026-02e7594ce0a0\n",
      "\n",
      "    SELECT value FROM values \n",
      "    WHERE valueid::text IN\n",
      "    (\n",
      "    SELECT tiledata ->> '5435f2ee-c5fb-11ea-9026-02e7594ce0a0' AS ABSOLUTE_CHRONOLOGY\n",
      "    FROM tiles \n",
      "    WHERE resourceinstanceid::text LIKE 'dbc95d2d-38fb-465e-a6cb-0545eaa7584f'\n",
      "    AND tiledata -> '5435f2ee-c5fb-11ea-9026-02e7594ce0a0' IS NOT NULL\n",
      "    )\n",
      "    \n",
      "read: ABSOLUTE CHRONOLOGY | 086e756c-cb86-11ea-a292-02e7594ce0a0\n",
      "\n",
      "    SELECT value FROM values \n",
      "    WHERE valueid::text IN\n",
      "    (\n",
      "    SELECT tiledata ->> '086e756c-cb86-11ea-a292-02e7594ce0a0' AS ABSOLUTE_CHRONOLOGY\n",
      "    FROM tiles \n",
      "    WHERE resourceinstanceid::text LIKE 'dbc95d2d-38fb-465e-a6cb-0545eaa7584f'\n",
      "    AND tiledata -> '086e756c-cb86-11ea-a292-02e7594ce0a0' IS NOT NULL\n",
      "    )\n",
      "    \n",
      "read: SITE FEATURES & INTERPRETATIONS | 34cfea9a-c2c0-11ea-9026-02e7594ce0a0\n",
      "\n",
      "    SELECT value FROM values \n",
      "    WHERE valueid::text IN\n",
      "    (\n",
      "    SELECT tiledata ->> '34cfea9a-c2c0-11ea-9026-02e7594ce0a0' AS SITE_FEATURES_&_INTERPRETATIONS\n",
      "    FROM tiles \n",
      "    WHERE resourceinstanceid::text LIKE 'dbc95d2d-38fb-465e-a6cb-0545eaa7584f'\n",
      "    AND tiledata -> '34cfea9a-c2c0-11ea-9026-02e7594ce0a0' IS NOT NULL\n",
      "    )\n",
      "    \n"
     ]
    },
    {
     "ename": "SyntaxError",
     "evalue": "syntax error at or near \"&\"\nLINE 5: ...a9a-c2c0-11ea-9026-02e7594ce0a0' AS SITE_FEATURES_&_INTERPRE...\n                                                             ^\n",
     "output_type": "error",
     "traceback": [
      "\u001b[1;31m---------------------------------------------------------------------------\u001b[0m",
      "\u001b[1;31mSyntaxError\u001b[0m                               Traceback (most recent call last)",
      "\u001b[1;32mc:\\Rprojects\\eamena-arches-dev\\dev\\data_quality\\data-quality.ipynb Cell 14\u001b[0m line \u001b[0;36m2\n\u001b[0;32m     <a href='vscode-notebook-cell:/c%3A/Rprojects/eamena-arches-dev/dev/data_quality/data-quality.ipynb#X15sZmlsZQ%3D%3D?line=14'>15</a>\u001b[0m sqll \u001b[39m=\u001b[39m \u001b[39m\"\"\"\u001b[39m\n\u001b[0;32m     <a href='vscode-notebook-cell:/c%3A/Rprojects/eamena-arches-dev/dev/data_quality/data-quality.ipynb#X15sZmlsZQ%3D%3D?line=15'>16</a>\u001b[0m \u001b[39mSELECT value FROM values \u001b[39m\n\u001b[0;32m     <a href='vscode-notebook-cell:/c%3A/Rprojects/eamena-arches-dev/dev/data_quality/data-quality.ipynb#X15sZmlsZQ%3D%3D?line=16'>17</a>\u001b[0m \u001b[39mWHERE valueid::text IN\u001b[39m\n\u001b[1;32m   (...)\u001b[0m\n\u001b[0;32m     <a href='vscode-notebook-cell:/c%3A/Rprojects/eamena-arches-dev/dev/data_quality/data-quality.ipynb#X15sZmlsZQ%3D%3D?line=22'>23</a>\u001b[0m \u001b[39m)\u001b[39m\n\u001b[0;32m     <a href='vscode-notebook-cell:/c%3A/Rprojects/eamena-arches-dev/dev/data_quality/data-quality.ipynb#X15sZmlsZQ%3D%3D?line=23'>24</a>\u001b[0m \u001b[39m\u001b[39m\u001b[39m\"\"\"\u001b[39m \u001b[39m%\u001b[39m (df_uuid, df_field_sql, hpid, df_uuid)\n\u001b[0;32m     <a href='vscode-notebook-cell:/c%3A/Rprojects/eamena-arches-dev/dev/data_quality/data-quality.ipynb#X15sZmlsZQ%3D%3D?line=24'>25</a>\u001b[0m \u001b[39mprint\u001b[39m(sqll)\n\u001b[1;32m---> <a href='vscode-notebook-cell:/c%3A/Rprojects/eamena-arches-dev/dev/data_quality/data-quality.ipynb#X15sZmlsZQ%3D%3D?line=25'>26</a>\u001b[0m cur\u001b[39m.\u001b[39;49mexecute(sqll)\n\u001b[0;32m     <a href='vscode-notebook-cell:/c%3A/Rprojects/eamena-arches-dev/dev/data_quality/data-quality.ipynb#X15sZmlsZQ%3D%3D?line=26'>27</a>\u001b[0m outvalue \u001b[39m=\u001b[39m cur\u001b[39m.\u001b[39mfetchall()\n\u001b[0;32m     <a href='vscode-notebook-cell:/c%3A/Rprojects/eamena-arches-dev/dev/data_quality/data-quality.ipynb#X15sZmlsZQ%3D%3D?line=27'>28</a>\u001b[0m \u001b[39mif\u001b[39;00m \u001b[39mlen\u001b[39m(outvalue) \u001b[39m>\u001b[39m \u001b[39m0\u001b[39m:\n",
      "\u001b[1;31mSyntaxError\u001b[0m: syntax error at or near \"&\"\nLINE 5: ...a9a-c2c0-11ea-9026-02e7594ce0a0' AS SITE_FEATURES_&_INTERPRE...\n                                                             ^\n"
     ]
    }
   ],
   "source": [
    "verbose = True\n",
    "mylevel = 'level2'\n",
    "# empty dataframe\n",
    "level_values = df_listed[mylevel].unique()\n",
    "data = {'field': level_values,\n",
    "        'nb_of_records': np.repeat(0, len(level_values)).tolist()}\n",
    "df_res = pd.DataFrame(data)\n",
    "# loop and fill it\n",
    "for i in df_listed.index:\n",
    "    if verbose:\n",
    "        print(\"read: \" + df_listed[mylevel][i] + ' | ' + df_listed['uuid_sql'][i])\n",
    "    df_field = df_listed[mylevel][i]\n",
    "    df_field_sql = re.sub(\" \", \"_\", df_field) # rm space\n",
    "    df_uuid = df_listed['uuid_sql'][i]\n",
    "    sqll = \"\"\"\n",
    "    SELECT value FROM values \n",
    "    WHERE valueid::text IN\n",
    "    (\n",
    "    SELECT tiledata ->> '%s' AS %s\n",
    "    FROM tiles \n",
    "    WHERE resourceinstanceid::text LIKE '%s'\n",
    "    AND tiledata -> '%s' IS NOT NULL\n",
    "    )\n",
    "    \"\"\" % (df_uuid, df_field_sql, hpid, df_uuid)\n",
    "    if verbose:\n",
    "        print(sqll)\n",
    "    cur.execute(sqll)\n",
    "    outvalue = cur.fetchall()\n",
    "    if len(outvalue) > 0:\n",
    "        row_num = df_res[df_res['field'] == df_field].index.tolist()\n",
    "        df_res.at[row_num[0], 'nb_of_records'] = df_res.loc[row_num[0]]['nb_of_records'] + 1\n",
    "        if verbose:\n",
    "            print(\"recorded values: \" + str(outvalue))\n",
    "print(df_res.to_markdown())"
   ]
  },
  {
   "cell_type": "markdown",
   "metadata": {},
   "source": [
    "## Spider diagram"
   ]
  },
  {
   "cell_type": "markdown",
   "metadata": {},
   "source": [
    "Show spider diagram with number of fields recorded"
   ]
  },
  {
   "cell_type": "code",
   "execution_count": 11,
   "metadata": {},
   "outputs": [
    {
     "data": {
      "application/vnd.plotly.v1+json": {
       "config": {
        "plotlyServerURL": "https://plot.ly"
       },
       "data": [
        {
         "hovertemplate": "value=%{r}<br>variable=%{theta}<extra></extra>",
         "legendgroup": "",
         "line": {
          "color": "#636efa",
          "dash": "solid"
         },
         "marker": {
          "symbol": "circle"
         },
         "mode": "lines",
         "name": "",
         "r": [
          1,
          3,
          1,
          0,
          0,
          5,
          0,
          0,
          1
         ],
         "showlegend": false,
         "subplot": "polar",
         "theta": [
          "ASSESSMENT SUMMARY",
          "RESOURCE SUMMARY",
          "GEOMETRIES",
          "GEOGRAPHY",
          "ARCHAEOLOGICAL ASSESSMENT",
          "CONDITION ASSESSMENT",
          "ENVIRONMENT ASSESSMENT",
          "ACCESS",
          "ASSESSMENT SUMMARY"
         ],
         "type": "scatterpolar"
        }
       ],
       "layout": {
        "legend": {
         "tracegroupgap": 0
        },
        "margin": {
         "t": 60
        },
        "polar": {
         "angularaxis": {
          "direction": "clockwise",
          "rotation": 90
         },
         "domain": {
          "x": [
           0,
           1
          ],
          "y": [
           0,
           1
          ]
         }
        },
        "template": {
         "data": {
          "bar": [
           {
            "error_x": {
             "color": "#2a3f5f"
            },
            "error_y": {
             "color": "#2a3f5f"
            },
            "marker": {
             "line": {
              "color": "#E5ECF6",
              "width": 0.5
             },
             "pattern": {
              "fillmode": "overlay",
              "size": 10,
              "solidity": 0.2
             }
            },
            "type": "bar"
           }
          ],
          "barpolar": [
           {
            "marker": {
             "line": {
              "color": "#E5ECF6",
              "width": 0.5
             },
             "pattern": {
              "fillmode": "overlay",
              "size": 10,
              "solidity": 0.2
             }
            },
            "type": "barpolar"
           }
          ],
          "carpet": [
           {
            "aaxis": {
             "endlinecolor": "#2a3f5f",
             "gridcolor": "white",
             "linecolor": "white",
             "minorgridcolor": "white",
             "startlinecolor": "#2a3f5f"
            },
            "baxis": {
             "endlinecolor": "#2a3f5f",
             "gridcolor": "white",
             "linecolor": "white",
             "minorgridcolor": "white",
             "startlinecolor": "#2a3f5f"
            },
            "type": "carpet"
           }
          ],
          "choropleth": [
           {
            "colorbar": {
             "outlinewidth": 0,
             "ticks": ""
            },
            "type": "choropleth"
           }
          ],
          "contour": [
           {
            "colorbar": {
             "outlinewidth": 0,
             "ticks": ""
            },
            "colorscale": [
             [
              0,
              "#0d0887"
             ],
             [
              0.1111111111111111,
              "#46039f"
             ],
             [
              0.2222222222222222,
              "#7201a8"
             ],
             [
              0.3333333333333333,
              "#9c179e"
             ],
             [
              0.4444444444444444,
              "#bd3786"
             ],
             [
              0.5555555555555556,
              "#d8576b"
             ],
             [
              0.6666666666666666,
              "#ed7953"
             ],
             [
              0.7777777777777778,
              "#fb9f3a"
             ],
             [
              0.8888888888888888,
              "#fdca26"
             ],
             [
              1,
              "#f0f921"
             ]
            ],
            "type": "contour"
           }
          ],
          "contourcarpet": [
           {
            "colorbar": {
             "outlinewidth": 0,
             "ticks": ""
            },
            "type": "contourcarpet"
           }
          ],
          "heatmap": [
           {
            "colorbar": {
             "outlinewidth": 0,
             "ticks": ""
            },
            "colorscale": [
             [
              0,
              "#0d0887"
             ],
             [
              0.1111111111111111,
              "#46039f"
             ],
             [
              0.2222222222222222,
              "#7201a8"
             ],
             [
              0.3333333333333333,
              "#9c179e"
             ],
             [
              0.4444444444444444,
              "#bd3786"
             ],
             [
              0.5555555555555556,
              "#d8576b"
             ],
             [
              0.6666666666666666,
              "#ed7953"
             ],
             [
              0.7777777777777778,
              "#fb9f3a"
             ],
             [
              0.8888888888888888,
              "#fdca26"
             ],
             [
              1,
              "#f0f921"
             ]
            ],
            "type": "heatmap"
           }
          ],
          "heatmapgl": [
           {
            "colorbar": {
             "outlinewidth": 0,
             "ticks": ""
            },
            "colorscale": [
             [
              0,
              "#0d0887"
             ],
             [
              0.1111111111111111,
              "#46039f"
             ],
             [
              0.2222222222222222,
              "#7201a8"
             ],
             [
              0.3333333333333333,
              "#9c179e"
             ],
             [
              0.4444444444444444,
              "#bd3786"
             ],
             [
              0.5555555555555556,
              "#d8576b"
             ],
             [
              0.6666666666666666,
              "#ed7953"
             ],
             [
              0.7777777777777778,
              "#fb9f3a"
             ],
             [
              0.8888888888888888,
              "#fdca26"
             ],
             [
              1,
              "#f0f921"
             ]
            ],
            "type": "heatmapgl"
           }
          ],
          "histogram": [
           {
            "marker": {
             "pattern": {
              "fillmode": "overlay",
              "size": 10,
              "solidity": 0.2
             }
            },
            "type": "histogram"
           }
          ],
          "histogram2d": [
           {
            "colorbar": {
             "outlinewidth": 0,
             "ticks": ""
            },
            "colorscale": [
             [
              0,
              "#0d0887"
             ],
             [
              0.1111111111111111,
              "#46039f"
             ],
             [
              0.2222222222222222,
              "#7201a8"
             ],
             [
              0.3333333333333333,
              "#9c179e"
             ],
             [
              0.4444444444444444,
              "#bd3786"
             ],
             [
              0.5555555555555556,
              "#d8576b"
             ],
             [
              0.6666666666666666,
              "#ed7953"
             ],
             [
              0.7777777777777778,
              "#fb9f3a"
             ],
             [
              0.8888888888888888,
              "#fdca26"
             ],
             [
              1,
              "#f0f921"
             ]
            ],
            "type": "histogram2d"
           }
          ],
          "histogram2dcontour": [
           {
            "colorbar": {
             "outlinewidth": 0,
             "ticks": ""
            },
            "colorscale": [
             [
              0,
              "#0d0887"
             ],
             [
              0.1111111111111111,
              "#46039f"
             ],
             [
              0.2222222222222222,
              "#7201a8"
             ],
             [
              0.3333333333333333,
              "#9c179e"
             ],
             [
              0.4444444444444444,
              "#bd3786"
             ],
             [
              0.5555555555555556,
              "#d8576b"
             ],
             [
              0.6666666666666666,
              "#ed7953"
             ],
             [
              0.7777777777777778,
              "#fb9f3a"
             ],
             [
              0.8888888888888888,
              "#fdca26"
             ],
             [
              1,
              "#f0f921"
             ]
            ],
            "type": "histogram2dcontour"
           }
          ],
          "mesh3d": [
           {
            "colorbar": {
             "outlinewidth": 0,
             "ticks": ""
            },
            "type": "mesh3d"
           }
          ],
          "parcoords": [
           {
            "line": {
             "colorbar": {
              "outlinewidth": 0,
              "ticks": ""
             }
            },
            "type": "parcoords"
           }
          ],
          "pie": [
           {
            "automargin": true,
            "type": "pie"
           }
          ],
          "scatter": [
           {
            "fillpattern": {
             "fillmode": "overlay",
             "size": 10,
             "solidity": 0.2
            },
            "type": "scatter"
           }
          ],
          "scatter3d": [
           {
            "line": {
             "colorbar": {
              "outlinewidth": 0,
              "ticks": ""
             }
            },
            "marker": {
             "colorbar": {
              "outlinewidth": 0,
              "ticks": ""
             }
            },
            "type": "scatter3d"
           }
          ],
          "scattercarpet": [
           {
            "marker": {
             "colorbar": {
              "outlinewidth": 0,
              "ticks": ""
             }
            },
            "type": "scattercarpet"
           }
          ],
          "scattergeo": [
           {
            "marker": {
             "colorbar": {
              "outlinewidth": 0,
              "ticks": ""
             }
            },
            "type": "scattergeo"
           }
          ],
          "scattergl": [
           {
            "marker": {
             "colorbar": {
              "outlinewidth": 0,
              "ticks": ""
             }
            },
            "type": "scattergl"
           }
          ],
          "scattermapbox": [
           {
            "marker": {
             "colorbar": {
              "outlinewidth": 0,
              "ticks": ""
             }
            },
            "type": "scattermapbox"
           }
          ],
          "scatterpolar": [
           {
            "marker": {
             "colorbar": {
              "outlinewidth": 0,
              "ticks": ""
             }
            },
            "type": "scatterpolar"
           }
          ],
          "scatterpolargl": [
           {
            "marker": {
             "colorbar": {
              "outlinewidth": 0,
              "ticks": ""
             }
            },
            "type": "scatterpolargl"
           }
          ],
          "scatterternary": [
           {
            "marker": {
             "colorbar": {
              "outlinewidth": 0,
              "ticks": ""
             }
            },
            "type": "scatterternary"
           }
          ],
          "surface": [
           {
            "colorbar": {
             "outlinewidth": 0,
             "ticks": ""
            },
            "colorscale": [
             [
              0,
              "#0d0887"
             ],
             [
              0.1111111111111111,
              "#46039f"
             ],
             [
              0.2222222222222222,
              "#7201a8"
             ],
             [
              0.3333333333333333,
              "#9c179e"
             ],
             [
              0.4444444444444444,
              "#bd3786"
             ],
             [
              0.5555555555555556,
              "#d8576b"
             ],
             [
              0.6666666666666666,
              "#ed7953"
             ],
             [
              0.7777777777777778,
              "#fb9f3a"
             ],
             [
              0.8888888888888888,
              "#fdca26"
             ],
             [
              1,
              "#f0f921"
             ]
            ],
            "type": "surface"
           }
          ],
          "table": [
           {
            "cells": {
             "fill": {
              "color": "#EBF0F8"
             },
             "line": {
              "color": "white"
             }
            },
            "header": {
             "fill": {
              "color": "#C8D4E3"
             },
             "line": {
              "color": "white"
             }
            },
            "type": "table"
           }
          ]
         },
         "layout": {
          "annotationdefaults": {
           "arrowcolor": "#2a3f5f",
           "arrowhead": 0,
           "arrowwidth": 1
          },
          "autotypenumbers": "strict",
          "coloraxis": {
           "colorbar": {
            "outlinewidth": 0,
            "ticks": ""
           }
          },
          "colorscale": {
           "diverging": [
            [
             0,
             "#8e0152"
            ],
            [
             0.1,
             "#c51b7d"
            ],
            [
             0.2,
             "#de77ae"
            ],
            [
             0.3,
             "#f1b6da"
            ],
            [
             0.4,
             "#fde0ef"
            ],
            [
             0.5,
             "#f7f7f7"
            ],
            [
             0.6,
             "#e6f5d0"
            ],
            [
             0.7,
             "#b8e186"
            ],
            [
             0.8,
             "#7fbc41"
            ],
            [
             0.9,
             "#4d9221"
            ],
            [
             1,
             "#276419"
            ]
           ],
           "sequential": [
            [
             0,
             "#0d0887"
            ],
            [
             0.1111111111111111,
             "#46039f"
            ],
            [
             0.2222222222222222,
             "#7201a8"
            ],
            [
             0.3333333333333333,
             "#9c179e"
            ],
            [
             0.4444444444444444,
             "#bd3786"
            ],
            [
             0.5555555555555556,
             "#d8576b"
            ],
            [
             0.6666666666666666,
             "#ed7953"
            ],
            [
             0.7777777777777778,
             "#fb9f3a"
            ],
            [
             0.8888888888888888,
             "#fdca26"
            ],
            [
             1,
             "#f0f921"
            ]
           ],
           "sequentialminus": [
            [
             0,
             "#0d0887"
            ],
            [
             0.1111111111111111,
             "#46039f"
            ],
            [
             0.2222222222222222,
             "#7201a8"
            ],
            [
             0.3333333333333333,
             "#9c179e"
            ],
            [
             0.4444444444444444,
             "#bd3786"
            ],
            [
             0.5555555555555556,
             "#d8576b"
            ],
            [
             0.6666666666666666,
             "#ed7953"
            ],
            [
             0.7777777777777778,
             "#fb9f3a"
            ],
            [
             0.8888888888888888,
             "#fdca26"
            ],
            [
             1,
             "#f0f921"
            ]
           ]
          },
          "colorway": [
           "#636efa",
           "#EF553B",
           "#00cc96",
           "#ab63fa",
           "#FFA15A",
           "#19d3f3",
           "#FF6692",
           "#B6E880",
           "#FF97FF",
           "#FECB52"
          ],
          "font": {
           "color": "#2a3f5f"
          },
          "geo": {
           "bgcolor": "white",
           "lakecolor": "white",
           "landcolor": "#E5ECF6",
           "showlakes": true,
           "showland": true,
           "subunitcolor": "white"
          },
          "hoverlabel": {
           "align": "left"
          },
          "hovermode": "closest",
          "mapbox": {
           "style": "light"
          },
          "paper_bgcolor": "white",
          "plot_bgcolor": "#E5ECF6",
          "polar": {
           "angularaxis": {
            "gridcolor": "white",
            "linecolor": "white",
            "ticks": ""
           },
           "bgcolor": "#E5ECF6",
           "radialaxis": {
            "gridcolor": "white",
            "linecolor": "white",
            "ticks": ""
           }
          },
          "scene": {
           "xaxis": {
            "backgroundcolor": "#E5ECF6",
            "gridcolor": "white",
            "gridwidth": 2,
            "linecolor": "white",
            "showbackground": true,
            "ticks": "",
            "zerolinecolor": "white"
           },
           "yaxis": {
            "backgroundcolor": "#E5ECF6",
            "gridcolor": "white",
            "gridwidth": 2,
            "linecolor": "white",
            "showbackground": true,
            "ticks": "",
            "zerolinecolor": "white"
           },
           "zaxis": {
            "backgroundcolor": "#E5ECF6",
            "gridcolor": "white",
            "gridwidth": 2,
            "linecolor": "white",
            "showbackground": true,
            "ticks": "",
            "zerolinecolor": "white"
           }
          },
          "shapedefaults": {
           "line": {
            "color": "#2a3f5f"
           }
          },
          "ternary": {
           "aaxis": {
            "gridcolor": "white",
            "linecolor": "white",
            "ticks": ""
           },
           "baxis": {
            "gridcolor": "white",
            "linecolor": "white",
            "ticks": ""
           },
           "bgcolor": "#E5ECF6",
           "caxis": {
            "gridcolor": "white",
            "linecolor": "white",
            "ticks": ""
           }
          },
          "title": {
           "x": 0.05
          },
          "xaxis": {
           "automargin": true,
           "gridcolor": "white",
           "linecolor": "white",
           "ticks": "",
           "title": {
            "standoff": 15
           },
           "zerolinecolor": "white",
           "zerolinewidth": 2
          },
          "yaxis": {
           "automargin": true,
           "gridcolor": "white",
           "linecolor": "white",
           "ticks": "",
           "title": {
            "standoff": 15
           },
           "zerolinecolor": "white",
           "zerolinewidth": 2
          }
         }
        }
       }
      }
     },
     "metadata": {},
     "output_type": "display_data"
    }
   ],
   "source": [
    "variable = df_res['field'].tolist()\n",
    "value = df_res['nb_of_records'].tolist()\n",
    "# Sample data\n",
    "df = pd.DataFrame(dict(\n",
    "    value = value,\n",
    "    variable = variable))\n",
    "fig = px.line_polar(df, r = 'value', theta = 'variable', line_close = True)\n",
    "fig.show()"
   ]
  }
 ],
 "metadata": {
  "kernelspec": {
   "display_name": "Python 3",
   "language": "python",
   "name": "python3"
  },
  "language_info": {
   "codemirror_mode": {
    "name": "ipython",
    "version": 3
   },
   "file_extension": ".py",
   "mimetype": "text/x-python",
   "name": "python",
   "nbconvert_exporter": "python",
   "pygments_lexer": "ipython3",
   "version": "3.11.2"
  },
  "orig_nbformat": 4
 },
 "nbformat": 4,
 "nbformat_minor": 2
}
