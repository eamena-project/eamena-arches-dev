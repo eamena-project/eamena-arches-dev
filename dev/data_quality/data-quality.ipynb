{
 "cells": [
  {
   "cell_type": "markdown",
   "metadata": {},
   "source": [
    "## Enhanced record minimum standard compliance of Heritage Places"
   ]
  },
  {
   "cell_type": "markdown",
   "metadata": {},
   "source": [
    "Enhanced record minimum standard (ERMS) is the minimum standard of data enhancement for heritage places"
   ]
  },
  {
   "cell_type": "markdown",
   "metadata": {},
   "source": [
    "Import libraries"
   ]
  },
  {
   "cell_type": "code",
   "execution_count": 91,
   "metadata": {},
   "outputs": [],
   "source": [
    "import psycopg2 as pg\n",
    "import pandas as pd\n",
    "import numpy as np\n",
    "import re\n",
    "import matplotlib.pyplot as plt\n",
    "import plotly.express as px"
   ]
  },
  {
   "cell_type": "markdown",
   "metadata": {},
   "source": [
    "Constants\n"
   ]
  },
  {
   "cell_type": "code",
   "execution_count": 92,
   "metadata": {},
   "outputs": [],
   "source": [
    "# Heritage Place Resource Model UUID\n",
    "uuid_hp = '34cfe992-c2c0-11ea-9026-02e7594ce0a0'\n",
    "# connection parameters\n",
    "dbname = \"eamena\"\n",
    "user = \"eamenar\"\n",
    "password = \"eamenar\"\n",
    "host = \"52.50.27.140\"\n",
    "port = \"5432\"\n",
    "# verbose\n",
    "verbose = False"
   ]
  },
  {
   "cell_type": "markdown",
   "metadata": {},
   "source": [
    "Connect the database"
   ]
  },
  {
   "cell_type": "code",
   "execution_count": 94,
   "metadata": {},
   "outputs": [],
   "source": [
    "try:\n",
    "    connection = pg.connect(\n",
    "        dbname=dbname,\n",
    "        user=user,\n",
    "        password=password,\n",
    "        host=host,\n",
    "        port=port\n",
    "    )\n",
    "    cur = connection.cursor()\n",
    "    if verbose:\n",
    "        print(\"Connection established successfully!\")\n",
    "except pg.Error as e:\n",
    "    print(f\"Error: {e}\")"
   ]
  },
  {
   "cell_type": "markdown",
   "metadata": {},
   "source": [
    "## Heritage place selection\n",
    "\n",
    "Select an HP and get its UUID"
   ]
  },
  {
   "cell_type": "code",
   "execution_count": 95,
   "metadata": {},
   "outputs": [],
   "source": [
    "selected_hp = 'EAMENA-0500002'\n",
    "sqll = \"\"\"\n",
    "SELECT\n",
    "      resourceinstanceid AS resourceid\n",
    "      FROM tiles\n",
    "      WHERE tiledata -> '%s' -> 'en' ->> 'value' LIKE '%s'\n",
    "\"\"\" % (uuid_hp, selected_hp)\n",
    "# print(sqll)\n",
    "cur.execute(sqll)\n",
    "hpid = cur.fetchone()[0]  \n",
    "if verbose: \n",
    "      print(\"the UUID of '\" + selected_hp + \"' is '\" + hpid + \"'\")"
   ]
  },
  {
   "cell_type": "markdown",
   "metadata": {},
   "source": [
    "## Heritage places field andwith their UUIDs\n",
    "\n",
    "Read the [output.tsv](https://github.com/eamena-project/eamena-arches-dev/blob/main/dev/data_quality/output.tsv) file with listed UUID linked to fields.\n",
    "This TSV file is exported automatically ([this GitHub Action](https://github.com/eamena-project/eamena-arches-dev/actions/workflows/update-trigger.yml)) from the [template.xlsx](https://github.com/eamena-project/eamena-arches-dev/blob/main/dev/data_quality/template.xlsx) file, in the same directory"
   ]
  },
  {
   "cell_type": "code",
   "execution_count": 96,
   "metadata": {},
   "outputs": [
    {
     "name": "stdout",
     "output_type": "stream",
     "text": [
      "|    | level1                    | level2                            | level3                                     | uuid_sql                             | Enhanced record minimum standard                                                                                                                             |\n",
      "|---:|:--------------------------|:----------------------------------|:-------------------------------------------|:-------------------------------------|:-------------------------------------------------------------------------------------------------------------------------------------------------------------|\n",
      "|  1 | ASSESSMENT SUMMARY        | ASSESSMENT ACTIVITY               | Investigator Role Type                     | d2e1ab96-cc05-11ea-a292-02e7594ce0a0 | Yes                                                                                                                                                          |\n",
      "|  5 | ASSESSMENT SUMMARY        | ASSESSMENT ACTIVITY               | GE Imagery Acquisition Date                | b9643302-0407-11eb-a11c-0a5a9a4f6ef7 | Yes, if an acquisition date is available. If there are a range of images the earliest and most recent dates should be added.                                 |\n",
      "|  8 | RESOURCE SUMMARY          | RESOURCE NAME                     | Resource Name                              | 34cfe9dd-c2c0-11ea-9026-02e7594ce0a0 | No (a site identified via remote sensing may not have an identifiable name, and the EAMENA Database will automatically generate a UiD).                      |\n",
      "|  9 | RESOURCE SUMMARY          | RESOURCE NAME                     | Name Type                                  | 34cfea97-c2c0-11ea-9026-02e7594ce0a0 | No                                                                                                                                                           |\n",
      "| 10 | RESOURCE SUMMARY          | RESOURCE SUMMARY                  | Heritage Place Type                        | 34cfe9ef-c2c0-11ea-9026-02e7594ce0a0 | No                                                                                                                                                           |\n",
      "| 11 | RESOURCE SUMMARY          | RESOURCE DESCRIPTION              | General Description Type                   | 34cfea91-c2c0-11ea-9026-02e7594ce0a0 | No                                                                                                                                                           |\n",
      "| 12 | RESOURCE SUMMARY          | RESOURCE DESCRIPTION              | General Description                        | 34cfea77-c2c0-11ea-9026-02e7594ce0a0 | No                                                                                                                                                           |\n",
      "| 13 | RESOURCE SUMMARY          | HERITAGE RESOURCE CLASSIFICATION  | Heritage Place Function                    | 34cfea4a-c2c0-11ea-9026-02e7594ce0a0 | Yes (including â€˜Unknownâ€™)                                                                                                                                |\n",
      "| 15 | RESOURCE SUMMARY          | DESIGNATION                       | Designation                                | d9abdfdb-c6a3-11ea-a292-02e7594ce0a0 | No                                                                                                                                                           |\n",
      "| 16 | RESOURCE SUMMARY          | DESIGNATION                       | Designation From Date                      | d9abdfe0-c6a3-11ea-a292-02e7594ce0a0 | No                                                                                                                                                           |\n",
      "| 17 | RESOURCE SUMMARY          | DESIGNATION                       | Designation To Date                        | d9abdfdf-c6a3-11ea-a292-02e7594ce0a0 | No                                                                                                                                                           |\n",
      "| 21 | GEOMETRIES                | GEOMETRIES                        | Geometry Extent Certainty                  | 5348cf6c-c2c5-11ea-9026-02e7594ce0a0 | No                                                                                                                                                           |\n",
      "| 23 | GEOGRAPHY                 | GEOGRAPHY                         | Grid ID                                    | 34cfea5d-c2c0-11ea-9026-02e7594ce0a0 | Yes                                                                                                                                                          |\n",
      "| 25 | GEOGRAPHY                 | GEOGRAPHY                         | Cadastral Reference                        | 34cfea95-c2c0-11ea-9026-02e7594ce0a0 | No                                                                                                                                                           |\n",
      "| 26 | GEOGRAPHY                 | GEOGRAPHY                         | Resource Orientation                       | 34cfea73-c2c0-11ea-9026-02e7594ce0a0 | No                                                                                                                                                           |\n",
      "| 32 | ARCHAEOLOGICAL ASSESSMENT | ARCHAEOLOGICAL ASSESSMENT         | Overall Site Morphology Type               | 34cfe9e6-c2c0-11ea-9026-02e7594ce0a0 | Yes                                                                                                                                                          |\n",
      "| 34 | ARCHAEOLOGICAL ASSESSMENT | PERIODIZATION                     | Cultural Period Certainty                  | 38cff738-c77b-11ea-a292-02e7594ce0a0 | Yes                                                                                                                                                          |\n",
      "| 46 | ARCHAEOLOGICAL ASSESSMENT | SITE FEATURES and INTERPRETATIONS | Site Feature Form Type                     | 34cfea9a-c2c0-11ea-9026-02e7594ce0a0 | No, unless there is no Site Feature Interpretation Type (eg. If the interpretation field is listed â€˜Unknownâ€™ then the Feature field should be filled in) |\n",
      "| 48 | ARCHAEOLOGICAL ASSESSMENT | SITE FEATURES and INTERPRETATIONS | Site Feature Shape Type                    | 34cfea19-c2c0-11ea-9026-02e7594ce0a0 | No                                                                                                                                                           |\n",
      "| 49 | ARCHAEOLOGICAL ASSESSMENT | SITE FEATURES and INTERPRETATIONS | Site Feature Arrangement Type              | 34cfe9e9-c2c0-11ea-9026-02e7594ce0a0 | No                                                                                                                                                           |\n",
      "| 50 | ARCHAEOLOGICAL ASSESSMENT | SITE FEATURES and INTERPRETATIONS | Site Feature Number Type                   | 34cfe9f8-c2c0-11ea-9026-02e7594ce0a0 | No                                                                                                                                                           |\n",
      "| 53 | ARCHAEOLOGICAL ASSESSMENT | SITE FEATURES and INTERPRETATIONS | Site Feature Interpretation Certainty      | 34cfea44-c2c0-11ea-9026-02e7594ce0a0 | Yes                                                                                                                                                          |\n",
      "| 65 | CONDITION ASSESSMENT      | CONDITION ASSESSMENT              | Damage Extent Type                         | 34cfea8e-c2c0-11ea-9026-02e7594ce0a0 | No                                                                                                                                                           |\n",
      "| 66 | CONDITION ASSESSMENT      | DISTURBANCES                      | Disturbance Cause Category Type            | 34cfea68-c2c0-11ea-9026-02e7594ce0a0 | Yes                                                                                                                                                          |\n",
      "| 73 | CONDITION ASSESSMENT      | DISTURBANCES                      | Disturbance Cause Assignment Assessor Name | e3cc8c5a-c772-11ea-a292-02e7594ce0a0 | No                                                                                                                                                           |\n",
      "| 76 | CONDITION ASSESSMENT      | THREATS                           | Threat Category                            | 34cfea90-c2c0-11ea-9026-02e7594ce0a0 | Yes (including 'No Visible/Known')                                                                                                                           |\n",
      "| 77 | CONDITION ASSESSMENT      | THREATS                           | Threat Type                                | 34cfea5c-c2c0-11ea-9026-02e7594ce0a0 | Yes                                                                                                                                                          |\n",
      "| 83 | CONDITION ASSESSMENT      | CONDITION ASSESSMENT              | Related Detailed Condition Resource        | 34cfea64-c2c0-11ea-9026-02e7594ce0a0 | No                                                                                                                                                           |\n"
     ]
    }
   ],
   "source": [
    "tsv_file = \"https://raw.githubusercontent.com/eamena-project/eamena-arches-dev/main/dev/data_quality/output.tsv\"\n",
    "df = pd.read_csv(tsv_file, delimiter='\\t')\n",
    "df = df[[\"level1\", \"level2\", \"level3\", \"uuid_sql\", \"Enhanced record minimum standard\"]]\n",
    "df_listed = df.dropna()\n",
    "print(df_listed.to_markdown())"
   ]
  },
  {
   "cell_type": "markdown",
   "metadata": {},
   "source": [
    "Select a column (default: `level3`, colud be also `level1`, `level2`) on which the spider plot will be done. Create an empty dataframe, loop over UUIDs to collect data from the HP, and fill the empty dataframe"
   ]
  },
  {
   "cell_type": "code",
   "execution_count": 97,
   "metadata": {},
   "outputs": [
    {
     "name": "stdout",
     "output_type": "stream",
     "text": [
      "|    | field                                      |   Enhanced record minimum standard |\n",
      "|---:|:-------------------------------------------|-----------------------------------:|\n",
      "|  1 | Investigator Role Type                     |                                  1 |\n",
      "|  5 | GE Imagery Acquisition Date                |                                  1 |\n",
      "|  8 | Resource Name                              |                                  0 |\n",
      "|  9 | Name Type                                  |                                  0 |\n",
      "| 10 | Heritage Place Type                        |                                  0 |\n",
      "| 11 | General Description Type                   |                                  0 |\n",
      "| 12 | General Description                        |                                  0 |\n",
      "| 13 | Heritage Place Function                    |                                  1 |\n",
      "| 15 | Designation                                |                                  0 |\n",
      "| 16 | Designation From Date                      |                                  0 |\n",
      "| 17 | Designation To Date                        |                                  0 |\n",
      "| 21 | Geometry Extent Certainty                  |                                  0 |\n",
      "| 23 | Grid ID                                    |                                  1 |\n",
      "| 25 | Cadastral Reference                        |                                  0 |\n",
      "| 26 | Resource Orientation                       |                                  0 |\n",
      "| 32 | Overall Site Morphology Type               |                                  1 |\n",
      "| 34 | Cultural Period Certainty                  |                                  1 |\n",
      "| 46 | Site Feature Form Type                     |                                  0 |\n",
      "| 48 | Site Feature Shape Type                    |                                  0 |\n",
      "| 49 | Site Feature Arrangement Type              |                                  0 |\n",
      "| 50 | Site Feature Number Type                   |                                  0 |\n",
      "| 53 | Site Feature Interpretation Certainty      |                                  1 |\n",
      "| 65 | Damage Extent Type                         |                                  0 |\n",
      "| 66 | Disturbance Cause Category Type            |                                  1 |\n",
      "| 73 | Disturbance Cause Assignment Assessor Name |                                  0 |\n",
      "| 76 | Threat Category                            |                                  1 |\n",
      "| 77 | Threat Type                                |                                  1 |\n",
      "| 83 | Related Detailed Condition Resource        |                                  0 |\n"
     ]
    }
   ],
   "source": [
    "mylevel = 'level3'\n",
    "df_erms = df_listed.copy()\n",
    "df_erms['Enhanced record minimum standard'] = df_erms['Enhanced record minimum standard'].str.contains(r'Yes', case=False, na=False, regex=True).astype(int)\n",
    "df_erms = df_erms[[mylevel, \"Enhanced record minimum standard\"]]\n",
    "df_erms = df_erms.rename(columns={'level3': 'field'})\n",
    "print(df_erms.to_markdown())"
   ]
  },
  {
   "cell_type": "code",
   "execution_count": 98,
   "metadata": {},
   "outputs": [],
   "source": [
    "# empty dataframe\n",
    "level_values = df_listed[mylevel].unique()\n",
    "data = {'field': level_values,\n",
    "        'recorded': np.repeat(0, len(level_values)).tolist()}\n",
    "df_res = pd.DataFrame(data)\n",
    "# loop and fill it\n",
    "for i in df_listed.index:\n",
    "    if verbose:\n",
    "        print(\"read: \" + df_listed[mylevel][i] + ' | ' + df_listed['uuid_sql'][i])\n",
    "    df_field = df_listed[mylevel][i]\n",
    "    df_field_sql = re.sub(\" \", \"_\", df_field) # rm space\n",
    "    df_uuid = df_listed['uuid_sql'][i]\n",
    "    sqll = \"\"\"\n",
    "    SELECT value FROM values \n",
    "    WHERE valueid::text IN\n",
    "    (\n",
    "    SELECT tiledata ->> '%s' AS %s\n",
    "    FROM tiles \n",
    "    WHERE resourceinstanceid::text LIKE '%s'\n",
    "    AND tiledata -> '%s' IS NOT NULL\n",
    "    )\n",
    "    \"\"\" % (df_uuid, df_field_sql, hpid, df_uuid)\n",
    "    if verbose:\n",
    "        print(sqll)\n",
    "    cur.execute(sqll)\n",
    "    outvalue = cur.fetchall()\n",
    "    if len(outvalue) > 0:\n",
    "        row_num = df_res[df_res['field'] == df_field].index.tolist()\n",
    "        df_res.at[row_num[0], 'recorded'] = df_res.loc[row_num[0]]['recorded'] + 1\n",
    "        if verbose:\n",
    "            print(\"recorded values: \" + str(outvalue))\n",
    "if(verbose):\n",
    "    print(df_res.to_markdown())"
   ]
  },
  {
   "cell_type": "markdown",
   "metadata": {},
   "source": [
    "## Spider diagram"
   ]
  },
  {
   "cell_type": "markdown",
   "metadata": {},
   "source": [
    "Show spider diagram with number of fields recorded. If `level3` is selected, the spider plot will also plot the ERMS. "
   ]
  },
  {
   "cell_type": "code",
   "execution_count": 99,
   "metadata": {},
   "outputs": [
    {
     "data": {
      "application/vnd.plotly.v1+json": {
       "config": {
        "plotlyServerURL": "https://plot.ly"
       },
       "data": [
        {
         "hovertemplate": "Value Set=Enhanced record minimum standard<br>Value=%{r}<br>field=%{theta}<extra></extra>",
         "legendgroup": "Enhanced record minimum standard",
         "line": {
          "color": "red",
          "dash": "solid"
         },
         "marker": {
          "symbol": "circle"
         },
         "mode": "lines",
         "name": "Enhanced record minimum standard",
         "r": [
          0,
          1,
          0,
          0,
          0,
          0,
          0,
          1,
          0,
          0,
          0,
          0,
          1,
          0,
          0,
          1,
          1,
          0,
          0,
          0,
          0,
          1,
          0,
          1,
          0,
          1,
          1,
          1
         ],
         "showlegend": true,
         "subplot": "polar",
         "theta": [
          "Related Detailed Condition Resource",
          "GE Imagery Acquisition Date",
          "Resource Name",
          "Name Type",
          "Heritage Place Type",
          "General Description Type",
          "General Description",
          "Heritage Place Function",
          "Designation",
          "Designation From Date",
          "Designation To Date",
          "Geometry Extent Certainty",
          "Grid ID",
          "Cadastral Reference",
          "Resource Orientation",
          "Overall Site Morphology Type",
          "Cultural Period Certainty",
          "Site Feature Form Type",
          "Site Feature Shape Type",
          "Site Feature Arrangement Type",
          "Site Feature Number Type",
          "Site Feature Interpretation Certainty",
          "Damage Extent Type",
          "Disturbance Cause Category Type",
          "Disturbance Cause Assignment Assessor Name",
          "Threat Category",
          "Investigator Role Type",
          "Threat Type"
         ],
         "type": "scatterpolar"
        },
        {
         "hovertemplate": "Value Set=recorded<br>Value=%{r}<br>field=%{theta}<extra></extra>",
         "legendgroup": "recorded",
         "line": {
          "color": "blue",
          "dash": "solid"
         },
         "marker": {
          "symbol": "circle"
         },
         "mode": "lines",
         "name": "recorded",
         "r": [
          0,
          1,
          0,
          0,
          1,
          1,
          0,
          0,
          1,
          0,
          0,
          0,
          1,
          1,
          0,
          0,
          0,
          0,
          0,
          0,
          0,
          0,
          0,
          1,
          1,
          0,
          0,
          0
         ],
         "showlegend": true,
         "subplot": "polar",
         "theta": [
          "Investigator Role Type",
          "Threat Category",
          "GE Imagery Acquisition Date",
          "Resource Name",
          "Name Type",
          "Heritage Place Type",
          "General Description Type",
          "General Description",
          "Heritage Place Function",
          "Designation",
          "Designation From Date",
          "Designation To Date",
          "Geometry Extent Certainty",
          "Threat Type",
          "Grid ID",
          "Resource Orientation",
          "Overall Site Morphology Type",
          "Cultural Period Certainty",
          "Site Feature Form Type",
          "Site Feature Shape Type",
          "Site Feature Arrangement Type",
          "Site Feature Number Type",
          "Site Feature Interpretation Certainty",
          "Damage Extent Type",
          "Disturbance Cause Category Type",
          "Disturbance Cause Assignment Assessor Name",
          "Cadastral Reference",
          "Related Detailed Condition Resource"
         ],
         "type": "scatterpolar"
        }
       ],
       "layout": {
        "legend": {
         "title": {
          "text": "Value Set"
         },
         "tracegroupgap": 0
        },
        "polar": {
         "angularaxis": {
          "direction": "clockwise",
          "rotation": 90
         },
         "domain": {
          "x": [
           0,
           1
          ],
          "y": [
           0,
           1
          ]
         }
        },
        "template": {
         "data": {
          "bar": [
           {
            "error_x": {
             "color": "#2a3f5f"
            },
            "error_y": {
             "color": "#2a3f5f"
            },
            "marker": {
             "line": {
              "color": "#E5ECF6",
              "width": 0.5
             },
             "pattern": {
              "fillmode": "overlay",
              "size": 10,
              "solidity": 0.2
             }
            },
            "type": "bar"
           }
          ],
          "barpolar": [
           {
            "marker": {
             "line": {
              "color": "#E5ECF6",
              "width": 0.5
             },
             "pattern": {
              "fillmode": "overlay",
              "size": 10,
              "solidity": 0.2
             }
            },
            "type": "barpolar"
           }
          ],
          "carpet": [
           {
            "aaxis": {
             "endlinecolor": "#2a3f5f",
             "gridcolor": "white",
             "linecolor": "white",
             "minorgridcolor": "white",
             "startlinecolor": "#2a3f5f"
            },
            "baxis": {
             "endlinecolor": "#2a3f5f",
             "gridcolor": "white",
             "linecolor": "white",
             "minorgridcolor": "white",
             "startlinecolor": "#2a3f5f"
            },
            "type": "carpet"
           }
          ],
          "choropleth": [
           {
            "colorbar": {
             "outlinewidth": 0,
             "ticks": ""
            },
            "type": "choropleth"
           }
          ],
          "contour": [
           {
            "colorbar": {
             "outlinewidth": 0,
             "ticks": ""
            },
            "colorscale": [
             [
              0,
              "#0d0887"
             ],
             [
              0.1111111111111111,
              "#46039f"
             ],
             [
              0.2222222222222222,
              "#7201a8"
             ],
             [
              0.3333333333333333,
              "#9c179e"
             ],
             [
              0.4444444444444444,
              "#bd3786"
             ],
             [
              0.5555555555555556,
              "#d8576b"
             ],
             [
              0.6666666666666666,
              "#ed7953"
             ],
             [
              0.7777777777777778,
              "#fb9f3a"
             ],
             [
              0.8888888888888888,
              "#fdca26"
             ],
             [
              1,
              "#f0f921"
             ]
            ],
            "type": "contour"
           }
          ],
          "contourcarpet": [
           {
            "colorbar": {
             "outlinewidth": 0,
             "ticks": ""
            },
            "type": "contourcarpet"
           }
          ],
          "heatmap": [
           {
            "colorbar": {
             "outlinewidth": 0,
             "ticks": ""
            },
            "colorscale": [
             [
              0,
              "#0d0887"
             ],
             [
              0.1111111111111111,
              "#46039f"
             ],
             [
              0.2222222222222222,
              "#7201a8"
             ],
             [
              0.3333333333333333,
              "#9c179e"
             ],
             [
              0.4444444444444444,
              "#bd3786"
             ],
             [
              0.5555555555555556,
              "#d8576b"
             ],
             [
              0.6666666666666666,
              "#ed7953"
             ],
             [
              0.7777777777777778,
              "#fb9f3a"
             ],
             [
              0.8888888888888888,
              "#fdca26"
             ],
             [
              1,
              "#f0f921"
             ]
            ],
            "type": "heatmap"
           }
          ],
          "heatmapgl": [
           {
            "colorbar": {
             "outlinewidth": 0,
             "ticks": ""
            },
            "colorscale": [
             [
              0,
              "#0d0887"
             ],
             [
              0.1111111111111111,
              "#46039f"
             ],
             [
              0.2222222222222222,
              "#7201a8"
             ],
             [
              0.3333333333333333,
              "#9c179e"
             ],
             [
              0.4444444444444444,
              "#bd3786"
             ],
             [
              0.5555555555555556,
              "#d8576b"
             ],
             [
              0.6666666666666666,
              "#ed7953"
             ],
             [
              0.7777777777777778,
              "#fb9f3a"
             ],
             [
              0.8888888888888888,
              "#fdca26"
             ],
             [
              1,
              "#f0f921"
             ]
            ],
            "type": "heatmapgl"
           }
          ],
          "histogram": [
           {
            "marker": {
             "pattern": {
              "fillmode": "overlay",
              "size": 10,
              "solidity": 0.2
             }
            },
            "type": "histogram"
           }
          ],
          "histogram2d": [
           {
            "colorbar": {
             "outlinewidth": 0,
             "ticks": ""
            },
            "colorscale": [
             [
              0,
              "#0d0887"
             ],
             [
              0.1111111111111111,
              "#46039f"
             ],
             [
              0.2222222222222222,
              "#7201a8"
             ],
             [
              0.3333333333333333,
              "#9c179e"
             ],
             [
              0.4444444444444444,
              "#bd3786"
             ],
             [
              0.5555555555555556,
              "#d8576b"
             ],
             [
              0.6666666666666666,
              "#ed7953"
             ],
             [
              0.7777777777777778,
              "#fb9f3a"
             ],
             [
              0.8888888888888888,
              "#fdca26"
             ],
             [
              1,
              "#f0f921"
             ]
            ],
            "type": "histogram2d"
           }
          ],
          "histogram2dcontour": [
           {
            "colorbar": {
             "outlinewidth": 0,
             "ticks": ""
            },
            "colorscale": [
             [
              0,
              "#0d0887"
             ],
             [
              0.1111111111111111,
              "#46039f"
             ],
             [
              0.2222222222222222,
              "#7201a8"
             ],
             [
              0.3333333333333333,
              "#9c179e"
             ],
             [
              0.4444444444444444,
              "#bd3786"
             ],
             [
              0.5555555555555556,
              "#d8576b"
             ],
             [
              0.6666666666666666,
              "#ed7953"
             ],
             [
              0.7777777777777778,
              "#fb9f3a"
             ],
             [
              0.8888888888888888,
              "#fdca26"
             ],
             [
              1,
              "#f0f921"
             ]
            ],
            "type": "histogram2dcontour"
           }
          ],
          "mesh3d": [
           {
            "colorbar": {
             "outlinewidth": 0,
             "ticks": ""
            },
            "type": "mesh3d"
           }
          ],
          "parcoords": [
           {
            "line": {
             "colorbar": {
              "outlinewidth": 0,
              "ticks": ""
             }
            },
            "type": "parcoords"
           }
          ],
          "pie": [
           {
            "automargin": true,
            "type": "pie"
           }
          ],
          "scatter": [
           {
            "fillpattern": {
             "fillmode": "overlay",
             "size": 10,
             "solidity": 0.2
            },
            "type": "scatter"
           }
          ],
          "scatter3d": [
           {
            "line": {
             "colorbar": {
              "outlinewidth": 0,
              "ticks": ""
             }
            },
            "marker": {
             "colorbar": {
              "outlinewidth": 0,
              "ticks": ""
             }
            },
            "type": "scatter3d"
           }
          ],
          "scattercarpet": [
           {
            "marker": {
             "colorbar": {
              "outlinewidth": 0,
              "ticks": ""
             }
            },
            "type": "scattercarpet"
           }
          ],
          "scattergeo": [
           {
            "marker": {
             "colorbar": {
              "outlinewidth": 0,
              "ticks": ""
             }
            },
            "type": "scattergeo"
           }
          ],
          "scattergl": [
           {
            "marker": {
             "colorbar": {
              "outlinewidth": 0,
              "ticks": ""
             }
            },
            "type": "scattergl"
           }
          ],
          "scattermapbox": [
           {
            "marker": {
             "colorbar": {
              "outlinewidth": 0,
              "ticks": ""
             }
            },
            "type": "scattermapbox"
           }
          ],
          "scatterpolar": [
           {
            "marker": {
             "colorbar": {
              "outlinewidth": 0,
              "ticks": ""
             }
            },
            "type": "scatterpolar"
           }
          ],
          "scatterpolargl": [
           {
            "marker": {
             "colorbar": {
              "outlinewidth": 0,
              "ticks": ""
             }
            },
            "type": "scatterpolargl"
           }
          ],
          "scatterternary": [
           {
            "marker": {
             "colorbar": {
              "outlinewidth": 0,
              "ticks": ""
             }
            },
            "type": "scatterternary"
           }
          ],
          "surface": [
           {
            "colorbar": {
             "outlinewidth": 0,
             "ticks": ""
            },
            "colorscale": [
             [
              0,
              "#0d0887"
             ],
             [
              0.1111111111111111,
              "#46039f"
             ],
             [
              0.2222222222222222,
              "#7201a8"
             ],
             [
              0.3333333333333333,
              "#9c179e"
             ],
             [
              0.4444444444444444,
              "#bd3786"
             ],
             [
              0.5555555555555556,
              "#d8576b"
             ],
             [
              0.6666666666666666,
              "#ed7953"
             ],
             [
              0.7777777777777778,
              "#fb9f3a"
             ],
             [
              0.8888888888888888,
              "#fdca26"
             ],
             [
              1,
              "#f0f921"
             ]
            ],
            "type": "surface"
           }
          ],
          "table": [
           {
            "cells": {
             "fill": {
              "color": "#EBF0F8"
             },
             "line": {
              "color": "white"
             }
            },
            "header": {
             "fill": {
              "color": "#C8D4E3"
             },
             "line": {
              "color": "white"
             }
            },
            "type": "table"
           }
          ]
         },
         "layout": {
          "annotationdefaults": {
           "arrowcolor": "#2a3f5f",
           "arrowhead": 0,
           "arrowwidth": 1
          },
          "autotypenumbers": "strict",
          "coloraxis": {
           "colorbar": {
            "outlinewidth": 0,
            "ticks": ""
           }
          },
          "colorscale": {
           "diverging": [
            [
             0,
             "#8e0152"
            ],
            [
             0.1,
             "#c51b7d"
            ],
            [
             0.2,
             "#de77ae"
            ],
            [
             0.3,
             "#f1b6da"
            ],
            [
             0.4,
             "#fde0ef"
            ],
            [
             0.5,
             "#f7f7f7"
            ],
            [
             0.6,
             "#e6f5d0"
            ],
            [
             0.7,
             "#b8e186"
            ],
            [
             0.8,
             "#7fbc41"
            ],
            [
             0.9,
             "#4d9221"
            ],
            [
             1,
             "#276419"
            ]
           ],
           "sequential": [
            [
             0,
             "#0d0887"
            ],
            [
             0.1111111111111111,
             "#46039f"
            ],
            [
             0.2222222222222222,
             "#7201a8"
            ],
            [
             0.3333333333333333,
             "#9c179e"
            ],
            [
             0.4444444444444444,
             "#bd3786"
            ],
            [
             0.5555555555555556,
             "#d8576b"
            ],
            [
             0.6666666666666666,
             "#ed7953"
            ],
            [
             0.7777777777777778,
             "#fb9f3a"
            ],
            [
             0.8888888888888888,
             "#fdca26"
            ],
            [
             1,
             "#f0f921"
            ]
           ],
           "sequentialminus": [
            [
             0,
             "#0d0887"
            ],
            [
             0.1111111111111111,
             "#46039f"
            ],
            [
             0.2222222222222222,
             "#7201a8"
            ],
            [
             0.3333333333333333,
             "#9c179e"
            ],
            [
             0.4444444444444444,
             "#bd3786"
            ],
            [
             0.5555555555555556,
             "#d8576b"
            ],
            [
             0.6666666666666666,
             "#ed7953"
            ],
            [
             0.7777777777777778,
             "#fb9f3a"
            ],
            [
             0.8888888888888888,
             "#fdca26"
            ],
            [
             1,
             "#f0f921"
            ]
           ]
          },
          "colorway": [
           "#636efa",
           "#EF553B",
           "#00cc96",
           "#ab63fa",
           "#FFA15A",
           "#19d3f3",
           "#FF6692",
           "#B6E880",
           "#FF97FF",
           "#FECB52"
          ],
          "font": {
           "color": "#2a3f5f"
          },
          "geo": {
           "bgcolor": "white",
           "lakecolor": "white",
           "landcolor": "#E5ECF6",
           "showlakes": true,
           "showland": true,
           "subunitcolor": "white"
          },
          "hoverlabel": {
           "align": "left"
          },
          "hovermode": "closest",
          "mapbox": {
           "style": "light"
          },
          "paper_bgcolor": "white",
          "plot_bgcolor": "#E5ECF6",
          "polar": {
           "angularaxis": {
            "gridcolor": "white",
            "linecolor": "white",
            "ticks": ""
           },
           "bgcolor": "#E5ECF6",
           "radialaxis": {
            "gridcolor": "white",
            "linecolor": "white",
            "ticks": ""
           }
          },
          "scene": {
           "xaxis": {
            "backgroundcolor": "#E5ECF6",
            "gridcolor": "white",
            "gridwidth": 2,
            "linecolor": "white",
            "showbackground": true,
            "ticks": "",
            "zerolinecolor": "white"
           },
           "yaxis": {
            "backgroundcolor": "#E5ECF6",
            "gridcolor": "white",
            "gridwidth": 2,
            "linecolor": "white",
            "showbackground": true,
            "ticks": "",
            "zerolinecolor": "white"
           },
           "zaxis": {
            "backgroundcolor": "#E5ECF6",
            "gridcolor": "white",
            "gridwidth": 2,
            "linecolor": "white",
            "showbackground": true,
            "ticks": "",
            "zerolinecolor": "white"
           }
          },
          "shapedefaults": {
           "line": {
            "color": "#2a3f5f"
           }
          },
          "ternary": {
           "aaxis": {
            "gridcolor": "white",
            "linecolor": "white",
            "ticks": ""
           },
           "baxis": {
            "gridcolor": "white",
            "linecolor": "white",
            "ticks": ""
           },
           "bgcolor": "#E5ECF6",
           "caxis": {
            "gridcolor": "white",
            "linecolor": "white",
            "ticks": ""
           }
          },
          "title": {
           "x": 0.05
          },
          "xaxis": {
           "automargin": true,
           "gridcolor": "white",
           "linecolor": "white",
           "ticks": "",
           "title": {
            "standoff": 15
           },
           "zerolinecolor": "white",
           "zerolinewidth": 2
          },
          "yaxis": {
           "automargin": true,
           "gridcolor": "white",
           "linecolor": "white",
           "ticks": "",
           "title": {
            "standoff": 15
           },
           "zerolinecolor": "white",
           "zerolinewidth": 2
          }
         }
        },
        "title": {
         "text": "EAMENA-0500002"
        }
       }
      }
     },
     "metadata": {},
     "output_type": "display_data"
    }
   ],
   "source": [
    "if mylevel == 'level3':\n",
    "    colors = {'recorded': 'blue', 'Enhanced record minimum standard': 'red'}\n",
    "    merged_df = pd.merge(df_res, df_erms, on='field')\n",
    "    melted_df = pd.melt(merged_df, id_vars=['field'], var_name='Value Set', value_name='Value')\n",
    "    melted_df.sort_values('Value Set', inplace=True)\n",
    "    if verbose:\n",
    "        print(melted_df.to_markdown())\n",
    "    fig = px.line_polar(melted_df, r='Value', theta='field', color='Value Set',\n",
    "                        line_close = False, color_discrete_map=colors, title = selected_hp)\n",
    "    fig.show()\n",
    "else:\n",
    "    variable = df_res['field'].tolist()\n",
    "    value = df_res['nb_of_records'].tolist()\n",
    "    df = pd.DataFrame(dict(\n",
    "        value = value,\n",
    "        variable = variable))\n",
    "    fig = px.line_polar(df, r = 'value', theta = 'variable', line_close = True)\n",
    "    fig.show()"
   ]
  }
 ],
 "metadata": {
  "kernelspec": {
   "display_name": "Python 3",
   "language": "python",
   "name": "python3"
  },
  "language_info": {
   "codemirror_mode": {
    "name": "ipython",
    "version": 3
   },
   "file_extension": ".py",
   "mimetype": "text/x-python",
   "name": "python",
   "nbconvert_exporter": "python",
   "pygments_lexer": "ipython3",
   "version": "3.11.2"
  },
  "orig_nbformat": 4
 },
 "nbformat": 4,
 "nbformat_minor": 2
}
