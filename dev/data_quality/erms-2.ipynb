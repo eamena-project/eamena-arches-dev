{
 "cells": [
  {
   "cell_type": "markdown",
   "metadata": {},
   "source": [
    "**Forewords**\n",
    "\n",
    "- This script is a [Jupyter notebook](https://jupyter.org/), mixing Markdown narratives with Python code chunks\n",
    "\t- Python is the 🔝 most popular programming language in the world and the backbone of Arches\n",
    "- This script is hosted on GitHub, it is mirrored here on [Google colab](https://colab.google/): each changes made on the GitHub script will appear here\n",
    "\t- the script can also be download and executed as an independant copy\n",
    "- Google colab platform offer free space and computing time for online collaborative development of Jupyter scripts\n",
    "\t- another option could be [MyBinder](https://mybinder.org/)\n",
    "\n",
    "The purpose of this presentation is:\n",
    "1. show the join use of Jupyter/Python and GitHub to query the DB for users having intermediate skills in IT (or Arches)\n",
    "2. collect ideas on Enhanced record minimum standard (ERMS)"
   ]
  },
  {
   "cell_type": "markdown",
   "metadata": {},
   "source": [
    "# Enhanced record minimum standard compliance of Heritage Places"
   ]
  },
  {
   "cell_type": "markdown",
   "metadata": {},
   "source": [
    "Enhanced record minimum standard (ERMS) is the minimum standard of data enhancement for heritage places. The report of Heritage Places ERMS is done downstream, once the heritages places (HP) have been recorded in the database "
   ]
  },
  {
   "cell_type": "markdown",
   "metadata": {},
   "source": [
    "### Import libraries"
   ]
  },
  {
   "cell_type": "code",
   "execution_count": 4,
   "metadata": {},
   "outputs": [],
   "source": [
    "import psycopg2 as pg\n",
    "import pandas as pd\n",
    "import numpy as np\n",
    "import re\n",
    "import requests\n",
    "import json\n",
    "import ipywidgets as widgets\n",
    "from IPython.display import display\n",
    "import matplotlib.pyplot as plt\n",
    "import plotly.express as px"
   ]
  },
  {
   "cell_type": "markdown",
   "metadata": {},
   "source": [
    "### Constants\n",
    "\n",
    "Load:\n",
    "- the UUID of HP in its resource model (RM)\n",
    "- the read-only user `eamenar` parameters (see: [creating-a-read-only-user](https://github.com/eamena-project/eamena-arches-dev/tree/main/dev/postgres#creating-a-read-only-user)) on the training EAMENA instance\n",
    "- ..."
   ]
  },
  {
   "cell_type": "markdown",
   "metadata": {},
   "source": [
    "The GeoJSON url and query"
   ]
  },
  {
   "cell_type": "code",
   "execution_count": 5,
   "metadata": {},
   "outputs": [],
   "source": [
    "GEOJSON_URL = \"https://database.eamena.org/api/search/export_results?paging-filter=1&tiles=true&format=geojson&reportlink=false&precision=6&total=326&language=en&advanced-search=%5B%7B%22op%22%3A%22and%22%2C%2234cfea78-c2c0-11ea-9026-02e7594ce0a0%22%3A%7B%22op%22%3A%22~%22%2C%22lang%22%3A%22en%22%2C%22val%22%3A%22Sistan%22%7D%2C%2234cfea87-c2c0-11ea-9026-02e7594ce0a0%22%3A%7B%22op%22%3A%22%22%2C%22val%22%3A%22%22%7D%7D%2C%7B%22op%22%3A%22or%22%2C%2234cfea69-c2c0-11ea-9026-02e7594ce0a0%22%3A%7B%22op%22%3A%22%22%2C%22val%22%3A%22%22%7D%2C%2234cfea73-c2c0-11ea-9026-02e7594ce0a0%22%3A%7B%22op%22%3A%22%22%2C%22val%22%3A%22%22%7D%2C%2234cfea43-c2c0-11ea-9026-02e7594ce0a0%22%3A%7B%22op%22%3A%22%22%2C%22val%22%3A%224ed99706-2d90-449a-9a70-700fc5326fb1%22%7D%2C%2234cfea5d-c2c0-11ea-9026-02e7594ce0a0%22%3A%7B%22op%22%3A%22%22%2C%22val%22%3A%22%22%7D%2C%2234cfea95-c2c0-11ea-9026-02e7594ce0a0%22%3A%7B%22op%22%3A%22~%22%2C%22lang%22%3A%22en%22%2C%22val%22%3A%22%22%7D%7D%5D&resource-type-filter=%5B%7B%22graphid%22%3A%2234cfe98e-c2c0-11ea-9026-02e7594ce0a0%22%2C%22name%22%3A%22Heritage%20Place%22%2C%22inverted%22%3Afalse%7D%5D&map-filter=%7B%22type%22%3A%22FeatureCollection%22%2C%22features%22%3A%5B%7B%22id%22%3A%22e84886109295dcb2d515f9ab792832bf%22%2C%22type%22%3A%22Feature%22%2C%22properties%22%3A%7B%22buffer%22%3A%7B%22width%22%3A10%2C%22unit%22%3A%22m%22%7D%2C%22inverted%22%3Afalse%7D%2C%22geometry%22%3A%7B%22coordinates%22%3A%5B%5B%5B61.5629662657594%2C31.341070427554456%5D%2C%5B61.39269902363566%2C31.226740239181964%5D%2C%5B61.52316353383432%2C30.977760218239922%5D%2C%5B61.773036239808164%2C30.92940344148805%5D%2C%5B61.89244443558445%2C31.037461248216815%5D%2C%5B61.933352798951745%2C31.22484931983834%5D%2C%5B61.5629662657594%2C31.341070427554456%5D%5D%5D%2C%22type%22%3A%22Polygon%22%7D%7D%5D%7D\""
   ]
  },
  {
   "cell_type": "markdown",
   "metadata": {},
   "source": [
    "Verbose"
   ]
  },
  {
   "cell_type": "code",
   "execution_count": 23,
   "metadata": {},
   "outputs": [],
   "source": [
    "verbose = False"
   ]
  },
  {
   "cell_type": "code",
   "execution_count": 31,
   "metadata": {},
   "outputs": [],
   "source": [
    "resp = requests.get(GEOJSON_URL)\n",
    "hps = resp.json()"
   ]
  },
  {
   "cell_type": "markdown",
   "metadata": {},
   "source": [
    "ℹ️ cells are editable, for example `verbose` can be changed to `True`"
   ]
  },
  {
   "cell_type": "markdown",
   "metadata": {},
   "source": [
    "## Heritage place selection\n",
    "\n",
    "Loop through the list"
   ]
  },
  {
   "cell_type": "code",
   "execution_count": 68,
   "metadata": {},
   "outputs": [
    {
     "name": "stdout",
     "output_type": "stream",
     "text": [
      "first HPs:\n",
      "['EAMENA-0192340', 'EAMENA-0192357', 'EAMENA-0182044', 'EAMENA-0182044', 'EAMENA-0182035', 'EAMENA-0182038', 'EAMENA-0192567', 'EAMENA-0231502', 'EAMENA-0192442', 'EAMENA-0192441']\n"
     ]
    }
   ],
   "source": [
    "verbose = True\n",
    "selected_hp = []\n",
    "for i in range(len(hps['features'])):\n",
    "\tselected_hp.append(hps['features'][i]['properties']['EAMENA ID'])\n",
    "if verbose:\n",
    "\tprint(\"first HPs:\")\n",
    "\tprint(selected_hp[:5])"
   ]
  },
  {
   "cell_type": "markdown",
   "metadata": {},
   "source": [
    "## Heritage places field with their UUIDs\n",
    "\n",
    "Read the [erms-template-readonly.tsv](https://github.com/eamena-project/eamena-arches-dev/blob/main/dev/data_quality/erms-template-readonly.tsv) file (see: [README.md](https://github.com/eamena-project/eamena-arches-dev/tree/main/dev/data_quality#erms)). Will only show the complete rows (drop `NA`)"
   ]
  },
  {
   "cell_type": "code",
   "execution_count": 69,
   "metadata": {},
   "outputs": [
    {
     "name": "stdout",
     "output_type": "stream",
     "text": [
      "|    | level1                    | level2                            | level3                                             | uuid_sql                             | Enhanced record minimum standard                                                                                                                         |\n",
      "|---:|:--------------------------|:----------------------------------|:---------------------------------------------------|:-------------------------------------|:---------------------------------------------------------------------------------------------------------------------------------------------------------|\n",
      "|  1 | ASSESSMENT SUMMARY        | ASSESSMENT ACTIVITY               | Investigator Role Type                             | d2e1ab96-cc05-11ea-a292-02e7594ce0a0 | Yes                                                                                                                                                      |\n",
      "|  5 | ASSESSMENT SUMMARY        | ASSESSMENT ACTIVITY               | GE Imagery Acquisition Date                        | b9643302-0407-11eb-a11c-0a5a9a4f6ef7 | Yes, if an acquisition date is available. If there are a range of images the earliest and most recent dates should be added.                             |\n",
      "|  8 | RESOURCE SUMMARY          | RESOURCE NAME                     | Resource Name                                      | 34cfe9dd-c2c0-11ea-9026-02e7594ce0a0 | No (a site identified via remote sensing may not have an identifiable name, and the EAMENA Database will automatically generate a UiD).                  |\n",
      "|  9 | RESOURCE SUMMARY          | RESOURCE NAME                     | Name Type                                          | 34cfea97-c2c0-11ea-9026-02e7594ce0a0 | No                                                                                                                                                       |\n",
      "| 10 | RESOURCE SUMMARY          | RESOURCE SUMMARY                  | Heritage Place Type                                | 34cfe9ef-c2c0-11ea-9026-02e7594ce0a0 | No                                                                                                                                                       |\n",
      "| 11 | RESOURCE SUMMARY          | RESOURCE DESCRIPTION              | General Description Type                           | 34cfea91-c2c0-11ea-9026-02e7594ce0a0 | No                                                                                                                                                       |\n",
      "| 12 | RESOURCE SUMMARY          | RESOURCE DESCRIPTION              | General Description                                | 34cfea77-c2c0-11ea-9026-02e7594ce0a0 | No                                                                                                                                                       |\n",
      "| 13 | RESOURCE SUMMARY          | HERITAGE RESOURCE CLASSIFICATION  | Heritage Place Function                            | 34cfea4a-c2c0-11ea-9026-02e7594ce0a0 | Yes (including ‘Unknown’)                                                                                                                                |\n",
      "| 15 | RESOURCE SUMMARY          | DESIGNATION                       | Designation                                        | d9abdfdb-c6a3-11ea-a292-02e7594ce0a0 | No                                                                                                                                                       |\n",
      "| 16 | RESOURCE SUMMARY          | DESIGNATION                       | Designation From Date                              | d9abdfe0-c6a3-11ea-a292-02e7594ce0a0 | No                                                                                                                                                       |\n",
      "| 17 | RESOURCE SUMMARY          | DESIGNATION                       | Designation To Date                                | d9abdfdf-c6a3-11ea-a292-02e7594ce0a0 | No                                                                                                                                                       |\n",
      "| 21 | GEOMETRIES                | GEOMETRIES                        | Geometry Extent Certainty                          | 5348cf6c-c2c5-11ea-9026-02e7594ce0a0 | No                                                                                                                                                       |\n",
      "| 23 | GEOGRAPHY                 | GEOGRAPHY                         | Grid ID                                            | 34cfea5d-c2c0-11ea-9026-02e7594ce0a0 | Yes                                                                                                                                                      |\n",
      "| 25 | GEOGRAPHY                 | GEOGRAPHY                         | Cadastral Reference                                | 34cfea95-c2c0-11ea-9026-02e7594ce0a0 | No                                                                                                                                                       |\n",
      "| 26 | GEOGRAPHY                 | GEOGRAPHY                         | Resource Orientation                               | 34cfea73-c2c0-11ea-9026-02e7594ce0a0 | No                                                                                                                                                       |\n",
      "| 32 | ARCHAEOLOGICAL ASSESSMENT | ARCHAEOLOGICAL ASSESSMENT         | Overall Site Morphology Type                       | 34cfe9e6-c2c0-11ea-9026-02e7594ce0a0 | Yes                                                                                                                                                      |\n",
      "| 34 | ARCHAEOLOGICAL ASSESSMENT | PERIODIZATION                     | Cultural Period Certainty                          | 38cff738-c77b-11ea-a292-02e7594ce0a0 | Yes                                                                                                                                                      |\n",
      "| 46 | ARCHAEOLOGICAL ASSESSMENT | SITE FEATURES and INTERPRETATIONS | Site Feature Form Type                             | 34cfea9a-c2c0-11ea-9026-02e7594ce0a0 | No, unless there is no Site Feature Interpretation Type (eg. If the interpretation field is listed ‘Unknown’ then the Feature field should be filled in) |\n",
      "| 48 | ARCHAEOLOGICAL ASSESSMENT | SITE FEATURES and INTERPRETATIONS | Site Feature Shape Type                            | 34cfea19-c2c0-11ea-9026-02e7594ce0a0 | No                                                                                                                                                       |\n",
      "| 49 | ARCHAEOLOGICAL ASSESSMENT | SITE FEATURES and INTERPRETATIONS | Site Feature Arrangement Type                      | 34cfe9e9-c2c0-11ea-9026-02e7594ce0a0 | No                                                                                                                                                       |\n",
      "| 50 | ARCHAEOLOGICAL ASSESSMENT | SITE FEATURES and INTERPRETATIONS | Site Feature Number Type                           | 34cfe9f8-c2c0-11ea-9026-02e7594ce0a0 | No                                                                                                                                                       |\n",
      "| 53 | ARCHAEOLOGICAL ASSESSMENT | SITE FEATURES and INTERPRETATIONS | Site Feature Interpretation Certainty              | 34cfea44-c2c0-11ea-9026-02e7594ce0a0 | Yes                                                                                                                                                      |\n",
      "| 65 | CONDITION ASSESSMENT      | CONDITION ASSESSMENT              | Damage Extent Type                                 | 34cfea8e-c2c0-11ea-9026-02e7594ce0a0 | No                                                                                                                                                       |\n",
      "| 66 | CONDITION ASSESSMENT      | DISTURBANCES                      | Disturbance Cause Category Type                    | 34cfea68-c2c0-11ea-9026-02e7594ce0a0 | Yes                                                                                                                                                      |\n",
      "| 73 | CONDITION ASSESSMENT      | DISTURBANCES                      | Disturbance Cause Assignment Assessor Name - Actor | e3cc8c5a-c772-11ea-a292-02e7594ce0a0 | No                                                                                                                                                       |\n",
      "| 76 | CONDITION ASSESSMENT      | THREATS                           | Threat Category                                    | 34cfea90-c2c0-11ea-9026-02e7594ce0a0 | Yes (including 'No Visible/Known')                                                                                                                       |\n",
      "| 77 | CONDITION ASSESSMENT      | THREATS                           | Threat Cause Type                                  | 34cfea5c-c2c0-11ea-9026-02e7594ce0a0 | Yes                                                                                                                                                      |\n",
      "| 83 | CONDITION ASSESSMENT      | CONDITION ASSESSMENT              | Related Detailed Condition Resource                | 34cfea64-c2c0-11ea-9026-02e7594ce0a0 | No                                                                                                                                                       |\n"
     ]
    }
   ],
   "source": [
    "tsv_file = \"https://raw.githubusercontent.com/eamena-project/eamena-arches-dev/main/dev/data_quality/erms-template-readonly.tsv\"\n",
    "df = pd.read_csv(tsv_file, delimiter = '\\t')\n",
    "df = df[[\"level1\", \"level2\", \"level3\", \"uuid_sql\", \"Enhanced record minimum standard\"]]\n",
    "df_listed = df.dropna()\n",
    "if verbose:\n",
    "    print(df_listed.to_markdown())"
   ]
  },
  {
   "cell_type": "markdown",
   "metadata": {},
   "source": [
    "ℹ️ pros/cons for TSV and XLSX structures:\n",
    "\t- TSV is automatically rendered on GitHub + search; it is a plain text format\n",
    "\t- XLSX is easy to edit (filter, sort, conditional formating)"
   ]
  },
  {
   "cell_type": "markdown",
   "metadata": {},
   "source": [
    "Select the level of aggregation (`level1`, `level2` or `level3`) on which the spider plot will be done"
   ]
  },
  {
   "cell_type": "code",
   "execution_count": 70,
   "metadata": {},
   "outputs": [
    {
     "data": {
      "application/vnd.jupyter.widget-view+json": {
       "model_id": "841850f1557c4bc48d315f13fbb9175c",
       "version_major": 2,
       "version_minor": 0
      },
      "text/plain": [
       "RadioButtons(description='Select an option:', options=('level1', 'level2', 'level3'), value='level1')"
      ]
     },
     "metadata": {},
     "output_type": "display_data"
    }
   ],
   "source": [
    "options=['level1', 'level2', 'level3']\n",
    "radio_button = widgets.RadioButtons(\n",
    "    options=options,\n",
    "    description='Select an option:'\n",
    ")\n",
    "display(radio_button)\n"
   ]
  },
  {
   "cell_type": "markdown",
   "metadata": {},
   "source": [
    "Plot the ERMS dataframe for this level"
   ]
  },
  {
   "cell_type": "code",
   "execution_count": 222,
   "metadata": {},
   "outputs": [
    {
     "name": "stdout",
     "output_type": "stream",
     "text": [
      "You selected: level3\n",
      "| field                                              |   value |\n",
      "|:---------------------------------------------------|--------:|\n",
      "| Cadastral Reference                                |       0 |\n",
      "| Cultural Period Certainty                          |       1 |\n",
      "| Damage Extent Type                                 |       0 |\n",
      "| Designation                                        |       0 |\n",
      "| Designation From Date                              |       0 |\n",
      "| Designation To Date                                |       0 |\n",
      "| Disturbance Cause Assignment Assessor Name - Actor |       0 |\n",
      "| Disturbance Cause Category Type                    |       1 |\n",
      "| GE Imagery Acquisition Date                        |       1 |\n",
      "| General Description                                |       0 |\n",
      "| General Description Type                           |       0 |\n",
      "| Geometry Extent Certainty                          |       0 |\n",
      "| Grid ID                                            |       1 |\n",
      "| Heritage Place Function                            |       1 |\n",
      "| Heritage Place Type                                |       0 |\n",
      "| Investigator Role Type                             |       1 |\n",
      "| Name Type                                          |       0 |\n",
      "| Overall Site Morphology Type                       |       1 |\n",
      "| Related Detailed Condition Resource                |       0 |\n",
      "| Resource Name                                      |       0 |\n",
      "| Resource Orientation                               |       0 |\n",
      "| Site Feature Arrangement Type                      |       0 |\n",
      "| Site Feature Form Type                             |       0 |\n",
      "| Site Feature Interpretation Certainty              |       1 |\n",
      "| Site Feature Number Type                           |       0 |\n",
      "| Site Feature Shape Type                            |       0 |\n",
      "| Threat Category                                    |       1 |\n",
      "| Threat Cause Type                                  |       1 |\n"
     ]
    }
   ],
   "source": [
    "# mylevel = 'level3'\n",
    "mylevel = radio_button.value\n",
    "df_erms = df_listed.copy()\n",
    "df_erms['Enhanced record minimum standard'] = df_erms['Enhanced record minimum standard'].str.contains(r'Yes', case = False, na = False, regex = True).astype(int)\n",
    "df_erms = df_erms[[mylevel, \"Enhanced record minimum standard\"]]\n",
    "df_erms.columns.values[0] = \"field\"\n",
    "df_erms = df_erms.groupby(['field'])['Enhanced record minimum standard'].sum()\n",
    "print(f'You selected: {mylevel}')\n",
    "df_erms = pd.DataFrame({\n",
    "\t'field': df_erms.index,\n",
    "\t'value' : df_erms.values\n",
    "\t\t\t\t  })\n",
    "print(df_erms.to_markdown(index=False))"
   ]
  },
  {
   "cell_type": "markdown",
   "metadata": {},
   "source": [
    "Gather data from the HP and ERMS (creates an empty dataframe, loop over UUIDs to collect data from the selected HP {{selected_hp}}, and fill the empty dataframe)"
   ]
  },
  {
   "cell_type": "code",
   "execution_count": null,
   "metadata": {},
   "outputs": [],
   "source": [
    "verbose = True\n",
    "level_values = df_listed[mylevel].unique()\n",
    "l_erms = []\n",
    "frames = {} \n",
    "# len(selected_hp)\n",
    "for i in range(5):\n",
    "    a_hp = selected_hp[i]\n",
    "    if verbose:\n",
    "        print(\"read: \" + a_hp)\n",
    "    # create an empty df\n",
    "    df_res = pd.DataFrame({'field': level_values, \n",
    "                           'recorded': np.repeat(0, len(level_values)).tolist()})\n",
    "    # len(df_res)\n",
    "    for j in range(len(df_res)):\n",
    "        a_field = df_res.iloc[j][\"field\"]\n",
    "        try:\n",
    "            a_value = hps['features'][i]['properties'][a_field]\n",
    "            if verbose:\n",
    "                print(\"field: '\" + a_field + \"' has value :'\" + str(a_value) + \"'\")\n",
    "        except:\n",
    "            if verbose:\n",
    "                print(\" /!\\ '\" + a_field + \"' listed in the ERMS dataframe is not a field listed in the database\")\n",
    "        if a_value is not None:\n",
    "            # row_num = df_res[df_res['field'] == df_field].index.tolist()\n",
    "            df_res.at[j, 'recorded'] = df_res.loc[j]['recorded'] + 1\n",
    "    l_erms.append(df_res)\n",
    "    frames[a_hp] = df_res"
   ]
  },
  {
   "cell_type": "code",
   "execution_count": 81,
   "metadata": {},
   "outputs": [
    {
     "data": {
      "text/html": [
       "<div>\n",
       "<style scoped>\n",
       "    .dataframe tbody tr th:only-of-type {\n",
       "        vertical-align: middle;\n",
       "    }\n",
       "\n",
       "    .dataframe tbody tr th {\n",
       "        vertical-align: top;\n",
       "    }\n",
       "\n",
       "    .dataframe thead th {\n",
       "        text-align: right;\n",
       "    }\n",
       "</style>\n",
       "<table border=\"1\" class=\"dataframe\">\n",
       "  <thead>\n",
       "    <tr style=\"text-align: right;\">\n",
       "      <th></th>\n",
       "      <th>field</th>\n",
       "      <th>recorded</th>\n",
       "    </tr>\n",
       "  </thead>\n",
       "  <tbody>\n",
       "    <tr>\n",
       "      <th>0</th>\n",
       "      <td>Investigator Role Type</td>\n",
       "      <td>1</td>\n",
       "    </tr>\n",
       "    <tr>\n",
       "      <th>1</th>\n",
       "      <td>GE Imagery Acquisition Date</td>\n",
       "      <td>1</td>\n",
       "    </tr>\n",
       "    <tr>\n",
       "      <th>2</th>\n",
       "      <td>Resource Name</td>\n",
       "      <td>0</td>\n",
       "    </tr>\n",
       "    <tr>\n",
       "      <th>3</th>\n",
       "      <td>Name Type</td>\n",
       "      <td>0</td>\n",
       "    </tr>\n",
       "    <tr>\n",
       "      <th>4</th>\n",
       "      <td>Heritage Place Type</td>\n",
       "      <td>1</td>\n",
       "    </tr>\n",
       "    <tr>\n",
       "      <th>5</th>\n",
       "      <td>General Description Type</td>\n",
       "      <td>1</td>\n",
       "    </tr>\n",
       "    <tr>\n",
       "      <th>6</th>\n",
       "      <td>General Description</td>\n",
       "      <td>1</td>\n",
       "    </tr>\n",
       "    <tr>\n",
       "      <th>7</th>\n",
       "      <td>Heritage Place Function</td>\n",
       "      <td>1</td>\n",
       "    </tr>\n",
       "    <tr>\n",
       "      <th>8</th>\n",
       "      <td>Designation</td>\n",
       "      <td>0</td>\n",
       "    </tr>\n",
       "    <tr>\n",
       "      <th>9</th>\n",
       "      <td>Designation From Date</td>\n",
       "      <td>0</td>\n",
       "    </tr>\n",
       "    <tr>\n",
       "      <th>10</th>\n",
       "      <td>Designation To Date</td>\n",
       "      <td>0</td>\n",
       "    </tr>\n",
       "    <tr>\n",
       "      <th>11</th>\n",
       "      <td>Geometry Extent Certainty</td>\n",
       "      <td>1</td>\n",
       "    </tr>\n",
       "    <tr>\n",
       "      <th>12</th>\n",
       "      <td>Grid ID</td>\n",
       "      <td>1</td>\n",
       "    </tr>\n",
       "    <tr>\n",
       "      <th>13</th>\n",
       "      <td>Cadastral Reference</td>\n",
       "      <td>1</td>\n",
       "    </tr>\n",
       "    <tr>\n",
       "      <th>14</th>\n",
       "      <td>Resource Orientation</td>\n",
       "      <td>1</td>\n",
       "    </tr>\n",
       "    <tr>\n",
       "      <th>15</th>\n",
       "      <td>Overall Site Morphology Type</td>\n",
       "      <td>1</td>\n",
       "    </tr>\n",
       "    <tr>\n",
       "      <th>16</th>\n",
       "      <td>Cultural Period Certainty</td>\n",
       "      <td>1</td>\n",
       "    </tr>\n",
       "    <tr>\n",
       "      <th>17</th>\n",
       "      <td>Site Feature Form Type</td>\n",
       "      <td>1</td>\n",
       "    </tr>\n",
       "    <tr>\n",
       "      <th>18</th>\n",
       "      <td>Site Feature Shape Type</td>\n",
       "      <td>1</td>\n",
       "    </tr>\n",
       "    <tr>\n",
       "      <th>19</th>\n",
       "      <td>Site Feature Arrangement Type</td>\n",
       "      <td>1</td>\n",
       "    </tr>\n",
       "    <tr>\n",
       "      <th>20</th>\n",
       "      <td>Site Feature Number Type</td>\n",
       "      <td>1</td>\n",
       "    </tr>\n",
       "    <tr>\n",
       "      <th>21</th>\n",
       "      <td>Site Feature Interpretation Certainty</td>\n",
       "      <td>1</td>\n",
       "    </tr>\n",
       "    <tr>\n",
       "      <th>22</th>\n",
       "      <td>Damage Extent Type</td>\n",
       "      <td>1</td>\n",
       "    </tr>\n",
       "    <tr>\n",
       "      <th>23</th>\n",
       "      <td>Disturbance Cause Category Type</td>\n",
       "      <td>1</td>\n",
       "    </tr>\n",
       "    <tr>\n",
       "      <th>24</th>\n",
       "      <td>Disturbance Cause Assignment Assessor Name - A...</td>\n",
       "      <td>1</td>\n",
       "    </tr>\n",
       "    <tr>\n",
       "      <th>25</th>\n",
       "      <td>Threat Category</td>\n",
       "      <td>1</td>\n",
       "    </tr>\n",
       "    <tr>\n",
       "      <th>26</th>\n",
       "      <td>Threat Cause Type</td>\n",
       "      <td>1</td>\n",
       "    </tr>\n",
       "    <tr>\n",
       "      <th>27</th>\n",
       "      <td>Related Detailed Condition Resource</td>\n",
       "      <td>1</td>\n",
       "    </tr>\n",
       "  </tbody>\n",
       "</table>\n",
       "</div>"
      ],
      "text/plain": [
       "                                                field  recorded\n",
       "0                              Investigator Role Type         1\n",
       "1                         GE Imagery Acquisition Date         1\n",
       "2                                       Resource Name         0\n",
       "3                                           Name Type         0\n",
       "4                                 Heritage Place Type         1\n",
       "5                            General Description Type         1\n",
       "6                                 General Description         1\n",
       "7                             Heritage Place Function         1\n",
       "8                                         Designation         0\n",
       "9                               Designation From Date         0\n",
       "10                                Designation To Date         0\n",
       "11                          Geometry Extent Certainty         1\n",
       "12                                            Grid ID         1\n",
       "13                                Cadastral Reference         1\n",
       "14                               Resource Orientation         1\n",
       "15                       Overall Site Morphology Type         1\n",
       "16                          Cultural Period Certainty         1\n",
       "17                             Site Feature Form Type         1\n",
       "18                            Site Feature Shape Type         1\n",
       "19                      Site Feature Arrangement Type         1\n",
       "20                           Site Feature Number Type         1\n",
       "21              Site Feature Interpretation Certainty         1\n",
       "22                                 Damage Extent Type         1\n",
       "23                    Disturbance Cause Category Type         1\n",
       "24  Disturbance Cause Assignment Assessor Name - A...         1\n",
       "25                                    Threat Category         1\n",
       "26                                  Threat Cause Type         1\n",
       "27                Related Detailed Condition Resource         1"
      ]
     },
     "execution_count": 81,
     "metadata": {},
     "output_type": "execute_result"
    }
   ],
   "source": [
    "frames.keys()\n",
    "frames['EAMENA-0192357']"
   ]
  },
  {
   "cell_type": "markdown",
   "metadata": {},
   "source": [
    "## Spider diagram"
   ]
  },
  {
   "cell_type": "markdown",
   "metadata": {},
   "source": [
    "Show spider diagram with number of fields recorded. If `level3` has been selected, the spider plot will also plot the ERMS. "
   ]
  },
  {
   "cell_type": "code",
   "execution_count": 84,
   "metadata": {},
   "outputs": [
    {
     "data": {
      "text/plain": [
       "2"
      ]
     },
     "execution_count": 84,
     "metadata": {},
     "output_type": "execute_result"
    }
   ],
   "source": [
    "import math\n",
    "ncol = 3\n",
    "nrow = math.ceil(len(frames.keys()) / ncol)"
   ]
  },
  {
   "cell_type": "code",
   "execution_count": 90,
   "metadata": {},
   "outputs": [
    {
     "data": {
      "text/plain": [
       "dict_keys(['EAMENA-0192340', 'EAMENA-0192357', 'EAMENA-0182044', 'EAMENA-0182035'])"
      ]
     },
     "execution_count": 90,
     "metadata": {},
     "output_type": "execute_result"
    }
   ],
   "source": [
    "frames.keys()"
   ]
  },
  {
   "cell_type": "code",
   "execution_count": 130,
   "metadata": {},
   "outputs": [
    {
     "data": {
      "application/vnd.plotly.v1+json": {
       "config": {
        "plotlyServerURL": "https://plot.ly"
       },
       "data": [
        {
         "hovertemplate": "Value Set=Enhanced record minimum standard<br>Value=%{r}<br>field=%{theta}<extra></extra>",
         "legendgroup": "Enhanced record minimum standard",
         "marker": {
          "color": "red",
          "symbol": "circle"
         },
         "mode": "markers",
         "name": "Enhanced record minimum standard",
         "r": [
          0,
          1,
          0,
          0,
          0,
          0,
          0,
          1,
          0,
          0,
          0,
          0,
          1,
          0,
          0,
          1,
          1,
          0,
          0,
          0,
          0,
          1,
          0,
          1,
          0,
          1,
          1,
          1
         ],
         "showlegend": true,
         "subplot": "polar",
         "theta": [
          "Related Detailed Condition Resource",
          "GE Imagery Acquisition Date",
          "Resource Name",
          "Name Type",
          "Heritage Place Type",
          "General Description Type",
          "General Description",
          "Heritage Place Function",
          "Designation",
          "Designation From Date",
          "Designation To Date",
          "Geometry Extent Certainty",
          "Grid ID",
          "Cadastral Reference",
          "Resource Orientation",
          "Overall Site Morphology Type",
          "Cultural Period Certainty",
          "Site Feature Form Type",
          "Site Feature Shape Type",
          "Site Feature Arrangement Type",
          "Site Feature Number Type",
          "Site Feature Interpretation Certainty",
          "Damage Extent Type",
          "Disturbance Cause Category Type",
          "Disturbance Cause Assignment Assessor Name - Actor",
          "Threat Category",
          "Investigator Role Type",
          "Threat Cause Type"
         ],
         "type": "scatterpolar"
        },
        {
         "hovertemplate": "Value Set=recorded<br>Value=%{r}<br>field=%{theta}<extra></extra>",
         "legendgroup": "recorded",
         "marker": {
          "color": "blue",
          "symbol": "circle"
         },
         "mode": "markers",
         "name": "recorded",
         "r": [
          1,
          1,
          1,
          0,
          0,
          1,
          1,
          1,
          1,
          0,
          0,
          0,
          1,
          1,
          1,
          1,
          1,
          1,
          1,
          1,
          1,
          1,
          1,
          1,
          1,
          1,
          1,
          1
         ],
         "showlegend": true,
         "subplot": "polar",
         "theta": [
          "Investigator Role Type",
          "Threat Category",
          "GE Imagery Acquisition Date",
          "Resource Name",
          "Name Type",
          "Heritage Place Type",
          "General Description Type",
          "General Description",
          "Heritage Place Function",
          "Designation",
          "Designation From Date",
          "Designation To Date",
          "Geometry Extent Certainty",
          "Threat Cause Type",
          "Grid ID",
          "Resource Orientation",
          "Overall Site Morphology Type",
          "Cultural Period Certainty",
          "Site Feature Form Type",
          "Site Feature Shape Type",
          "Site Feature Arrangement Type",
          "Site Feature Number Type",
          "Site Feature Interpretation Certainty",
          "Damage Extent Type",
          "Disturbance Cause Category Type",
          "Disturbance Cause Assignment Assessor Name - Actor",
          "Cadastral Reference",
          "Related Detailed Condition Resource"
         ],
         "type": "scatterpolar"
        }
       ],
       "layout": {
        "legend": {
         "title": {
          "text": "Value Set"
         },
         "tracegroupgap": 0
        },
        "margin": {
         "t": 60
        },
        "polar": {
         "angularaxis": {
          "direction": "clockwise",
          "rotation": 90
         },
         "domain": {
          "x": [
           0,
           1
          ],
          "y": [
           0,
           1
          ]
         }
        },
        "template": {
         "data": {
          "bar": [
           {
            "error_x": {
             "color": "#2a3f5f"
            },
            "error_y": {
             "color": "#2a3f5f"
            },
            "marker": {
             "line": {
              "color": "#E5ECF6",
              "width": 0.5
             },
             "pattern": {
              "fillmode": "overlay",
              "size": 10,
              "solidity": 0.2
             }
            },
            "type": "bar"
           }
          ],
          "barpolar": [
           {
            "marker": {
             "line": {
              "color": "#E5ECF6",
              "width": 0.5
             },
             "pattern": {
              "fillmode": "overlay",
              "size": 10,
              "solidity": 0.2
             }
            },
            "type": "barpolar"
           }
          ],
          "carpet": [
           {
            "aaxis": {
             "endlinecolor": "#2a3f5f",
             "gridcolor": "white",
             "linecolor": "white",
             "minorgridcolor": "white",
             "startlinecolor": "#2a3f5f"
            },
            "baxis": {
             "endlinecolor": "#2a3f5f",
             "gridcolor": "white",
             "linecolor": "white",
             "minorgridcolor": "white",
             "startlinecolor": "#2a3f5f"
            },
            "type": "carpet"
           }
          ],
          "choropleth": [
           {
            "colorbar": {
             "outlinewidth": 0,
             "ticks": ""
            },
            "type": "choropleth"
           }
          ],
          "contour": [
           {
            "colorbar": {
             "outlinewidth": 0,
             "ticks": ""
            },
            "colorscale": [
             [
              0,
              "#0d0887"
             ],
             [
              0.1111111111111111,
              "#46039f"
             ],
             [
              0.2222222222222222,
              "#7201a8"
             ],
             [
              0.3333333333333333,
              "#9c179e"
             ],
             [
              0.4444444444444444,
              "#bd3786"
             ],
             [
              0.5555555555555556,
              "#d8576b"
             ],
             [
              0.6666666666666666,
              "#ed7953"
             ],
             [
              0.7777777777777778,
              "#fb9f3a"
             ],
             [
              0.8888888888888888,
              "#fdca26"
             ],
             [
              1,
              "#f0f921"
             ]
            ],
            "type": "contour"
           }
          ],
          "contourcarpet": [
           {
            "colorbar": {
             "outlinewidth": 0,
             "ticks": ""
            },
            "type": "contourcarpet"
           }
          ],
          "heatmap": [
           {
            "colorbar": {
             "outlinewidth": 0,
             "ticks": ""
            },
            "colorscale": [
             [
              0,
              "#0d0887"
             ],
             [
              0.1111111111111111,
              "#46039f"
             ],
             [
              0.2222222222222222,
              "#7201a8"
             ],
             [
              0.3333333333333333,
              "#9c179e"
             ],
             [
              0.4444444444444444,
              "#bd3786"
             ],
             [
              0.5555555555555556,
              "#d8576b"
             ],
             [
              0.6666666666666666,
              "#ed7953"
             ],
             [
              0.7777777777777778,
              "#fb9f3a"
             ],
             [
              0.8888888888888888,
              "#fdca26"
             ],
             [
              1,
              "#f0f921"
             ]
            ],
            "type": "heatmap"
           }
          ],
          "heatmapgl": [
           {
            "colorbar": {
             "outlinewidth": 0,
             "ticks": ""
            },
            "colorscale": [
             [
              0,
              "#0d0887"
             ],
             [
              0.1111111111111111,
              "#46039f"
             ],
             [
              0.2222222222222222,
              "#7201a8"
             ],
             [
              0.3333333333333333,
              "#9c179e"
             ],
             [
              0.4444444444444444,
              "#bd3786"
             ],
             [
              0.5555555555555556,
              "#d8576b"
             ],
             [
              0.6666666666666666,
              "#ed7953"
             ],
             [
              0.7777777777777778,
              "#fb9f3a"
             ],
             [
              0.8888888888888888,
              "#fdca26"
             ],
             [
              1,
              "#f0f921"
             ]
            ],
            "type": "heatmapgl"
           }
          ],
          "histogram": [
           {
            "marker": {
             "pattern": {
              "fillmode": "overlay",
              "size": 10,
              "solidity": 0.2
             }
            },
            "type": "histogram"
           }
          ],
          "histogram2d": [
           {
            "colorbar": {
             "outlinewidth": 0,
             "ticks": ""
            },
            "colorscale": [
             [
              0,
              "#0d0887"
             ],
             [
              0.1111111111111111,
              "#46039f"
             ],
             [
              0.2222222222222222,
              "#7201a8"
             ],
             [
              0.3333333333333333,
              "#9c179e"
             ],
             [
              0.4444444444444444,
              "#bd3786"
             ],
             [
              0.5555555555555556,
              "#d8576b"
             ],
             [
              0.6666666666666666,
              "#ed7953"
             ],
             [
              0.7777777777777778,
              "#fb9f3a"
             ],
             [
              0.8888888888888888,
              "#fdca26"
             ],
             [
              1,
              "#f0f921"
             ]
            ],
            "type": "histogram2d"
           }
          ],
          "histogram2dcontour": [
           {
            "colorbar": {
             "outlinewidth": 0,
             "ticks": ""
            },
            "colorscale": [
             [
              0,
              "#0d0887"
             ],
             [
              0.1111111111111111,
              "#46039f"
             ],
             [
              0.2222222222222222,
              "#7201a8"
             ],
             [
              0.3333333333333333,
              "#9c179e"
             ],
             [
              0.4444444444444444,
              "#bd3786"
             ],
             [
              0.5555555555555556,
              "#d8576b"
             ],
             [
              0.6666666666666666,
              "#ed7953"
             ],
             [
              0.7777777777777778,
              "#fb9f3a"
             ],
             [
              0.8888888888888888,
              "#fdca26"
             ],
             [
              1,
              "#f0f921"
             ]
            ],
            "type": "histogram2dcontour"
           }
          ],
          "mesh3d": [
           {
            "colorbar": {
             "outlinewidth": 0,
             "ticks": ""
            },
            "type": "mesh3d"
           }
          ],
          "parcoords": [
           {
            "line": {
             "colorbar": {
              "outlinewidth": 0,
              "ticks": ""
             }
            },
            "type": "parcoords"
           }
          ],
          "pie": [
           {
            "automargin": true,
            "type": "pie"
           }
          ],
          "scatter": [
           {
            "fillpattern": {
             "fillmode": "overlay",
             "size": 10,
             "solidity": 0.2
            },
            "type": "scatter"
           }
          ],
          "scatter3d": [
           {
            "line": {
             "colorbar": {
              "outlinewidth": 0,
              "ticks": ""
             }
            },
            "marker": {
             "colorbar": {
              "outlinewidth": 0,
              "ticks": ""
             }
            },
            "type": "scatter3d"
           }
          ],
          "scattercarpet": [
           {
            "marker": {
             "colorbar": {
              "outlinewidth": 0,
              "ticks": ""
             }
            },
            "type": "scattercarpet"
           }
          ],
          "scattergeo": [
           {
            "marker": {
             "colorbar": {
              "outlinewidth": 0,
              "ticks": ""
             }
            },
            "type": "scattergeo"
           }
          ],
          "scattergl": [
           {
            "marker": {
             "colorbar": {
              "outlinewidth": 0,
              "ticks": ""
             }
            },
            "type": "scattergl"
           }
          ],
          "scattermapbox": [
           {
            "marker": {
             "colorbar": {
              "outlinewidth": 0,
              "ticks": ""
             }
            },
            "type": "scattermapbox"
           }
          ],
          "scatterpolar": [
           {
            "marker": {
             "colorbar": {
              "outlinewidth": 0,
              "ticks": ""
             }
            },
            "type": "scatterpolar"
           }
          ],
          "scatterpolargl": [
           {
            "marker": {
             "colorbar": {
              "outlinewidth": 0,
              "ticks": ""
             }
            },
            "type": "scatterpolargl"
           }
          ],
          "scatterternary": [
           {
            "marker": {
             "colorbar": {
              "outlinewidth": 0,
              "ticks": ""
             }
            },
            "type": "scatterternary"
           }
          ],
          "surface": [
           {
            "colorbar": {
             "outlinewidth": 0,
             "ticks": ""
            },
            "colorscale": [
             [
              0,
              "#0d0887"
             ],
             [
              0.1111111111111111,
              "#46039f"
             ],
             [
              0.2222222222222222,
              "#7201a8"
             ],
             [
              0.3333333333333333,
              "#9c179e"
             ],
             [
              0.4444444444444444,
              "#bd3786"
             ],
             [
              0.5555555555555556,
              "#d8576b"
             ],
             [
              0.6666666666666666,
              "#ed7953"
             ],
             [
              0.7777777777777778,
              "#fb9f3a"
             ],
             [
              0.8888888888888888,
              "#fdca26"
             ],
             [
              1,
              "#f0f921"
             ]
            ],
            "type": "surface"
           }
          ],
          "table": [
           {
            "cells": {
             "fill": {
              "color": "#EBF0F8"
             },
             "line": {
              "color": "white"
             }
            },
            "header": {
             "fill": {
              "color": "#C8D4E3"
             },
             "line": {
              "color": "white"
             }
            },
            "type": "table"
           }
          ]
         },
         "layout": {
          "annotationdefaults": {
           "arrowcolor": "#2a3f5f",
           "arrowhead": 0,
           "arrowwidth": 1
          },
          "autotypenumbers": "strict",
          "coloraxis": {
           "colorbar": {
            "outlinewidth": 0,
            "ticks": ""
           }
          },
          "colorscale": {
           "diverging": [
            [
             0,
             "#8e0152"
            ],
            [
             0.1,
             "#c51b7d"
            ],
            [
             0.2,
             "#de77ae"
            ],
            [
             0.3,
             "#f1b6da"
            ],
            [
             0.4,
             "#fde0ef"
            ],
            [
             0.5,
             "#f7f7f7"
            ],
            [
             0.6,
             "#e6f5d0"
            ],
            [
             0.7,
             "#b8e186"
            ],
            [
             0.8,
             "#7fbc41"
            ],
            [
             0.9,
             "#4d9221"
            ],
            [
             1,
             "#276419"
            ]
           ],
           "sequential": [
            [
             0,
             "#0d0887"
            ],
            [
             0.1111111111111111,
             "#46039f"
            ],
            [
             0.2222222222222222,
             "#7201a8"
            ],
            [
             0.3333333333333333,
             "#9c179e"
            ],
            [
             0.4444444444444444,
             "#bd3786"
            ],
            [
             0.5555555555555556,
             "#d8576b"
            ],
            [
             0.6666666666666666,
             "#ed7953"
            ],
            [
             0.7777777777777778,
             "#fb9f3a"
            ],
            [
             0.8888888888888888,
             "#fdca26"
            ],
            [
             1,
             "#f0f921"
            ]
           ],
           "sequentialminus": [
            [
             0,
             "#0d0887"
            ],
            [
             0.1111111111111111,
             "#46039f"
            ],
            [
             0.2222222222222222,
             "#7201a8"
            ],
            [
             0.3333333333333333,
             "#9c179e"
            ],
            [
             0.4444444444444444,
             "#bd3786"
            ],
            [
             0.5555555555555556,
             "#d8576b"
            ],
            [
             0.6666666666666666,
             "#ed7953"
            ],
            [
             0.7777777777777778,
             "#fb9f3a"
            ],
            [
             0.8888888888888888,
             "#fdca26"
            ],
            [
             1,
             "#f0f921"
            ]
           ]
          },
          "colorway": [
           "#636efa",
           "#EF553B",
           "#00cc96",
           "#ab63fa",
           "#FFA15A",
           "#19d3f3",
           "#FF6692",
           "#B6E880",
           "#FF97FF",
           "#FECB52"
          ],
          "font": {
           "color": "#2a3f5f"
          },
          "geo": {
           "bgcolor": "white",
           "lakecolor": "white",
           "landcolor": "#E5ECF6",
           "showlakes": true,
           "showland": true,
           "subunitcolor": "white"
          },
          "hoverlabel": {
           "align": "left"
          },
          "hovermode": "closest",
          "mapbox": {
           "style": "light"
          },
          "paper_bgcolor": "white",
          "plot_bgcolor": "#E5ECF6",
          "polar": {
           "angularaxis": {
            "gridcolor": "white",
            "linecolor": "white",
            "ticks": ""
           },
           "bgcolor": "#E5ECF6",
           "radialaxis": {
            "gridcolor": "white",
            "linecolor": "white",
            "ticks": ""
           }
          },
          "scene": {
           "xaxis": {
            "backgroundcolor": "#E5ECF6",
            "gridcolor": "white",
            "gridwidth": 2,
            "linecolor": "white",
            "showbackground": true,
            "ticks": "",
            "zerolinecolor": "white"
           },
           "yaxis": {
            "backgroundcolor": "#E5ECF6",
            "gridcolor": "white",
            "gridwidth": 2,
            "linecolor": "white",
            "showbackground": true,
            "ticks": "",
            "zerolinecolor": "white"
           },
           "zaxis": {
            "backgroundcolor": "#E5ECF6",
            "gridcolor": "white",
            "gridwidth": 2,
            "linecolor": "white",
            "showbackground": true,
            "ticks": "",
            "zerolinecolor": "white"
           }
          },
          "shapedefaults": {
           "line": {
            "color": "#2a3f5f"
           }
          },
          "ternary": {
           "aaxis": {
            "gridcolor": "white",
            "linecolor": "white",
            "ticks": ""
           },
           "baxis": {
            "gridcolor": "white",
            "linecolor": "white",
            "ticks": ""
           },
           "bgcolor": "#E5ECF6",
           "caxis": {
            "gridcolor": "white",
            "linecolor": "white",
            "ticks": ""
           }
          },
          "title": {
           "x": 0.05
          },
          "xaxis": {
           "automargin": true,
           "gridcolor": "white",
           "linecolor": "white",
           "ticks": "",
           "title": {
            "standoff": 15
           },
           "zerolinecolor": "white",
           "zerolinewidth": 2
          },
          "yaxis": {
           "automargin": true,
           "gridcolor": "white",
           "linecolor": "white",
           "ticks": "",
           "title": {
            "standoff": 15
           },
           "zerolinecolor": "white",
           "zerolinewidth": 2
          }
         }
        }
       }
      }
     },
     "metadata": {},
     "output_type": "display_data"
    }
   ],
   "source": [
    "import plotly.express as px\n",
    "df = px.data.wind()\n",
    "# fig = px.scatter_polar(df, r=\"frequency\", theta=\"direction\")\n",
    "colors = {'recorded': 'blue', 'Enhanced record minimum standard': 'red'}\n",
    "fig = px.scatter_polar(melted_df, r='Value', theta='field', color = 'Value Set', color_discrete_map = colors)\n",
    "fig.show()"
   ]
  },
  {
   "cell_type": "code",
   "execution_count": null,
   "metadata": {},
   "outputs": [],
   "source": [
    "from plotly.subplots import make_subplots\n",
    "import plotly.graph_objects as go\n",
    "import math\n",
    "\n",
    "ncol = 3\n",
    "nrow = math.ceil(len(frames.keys()) / ncol)\n",
    "\n",
    "fig = make_subplots(rows=nrow, cols=ncol, specs=[[{\"type\": \"Polar\"},{\"type\": \"Polar\"}]])\n",
    "fig.add_trace(go.Scatterpolar(\n",
    "                  r = melted_df['Value'],\n",
    "                  theta = melted_df['field'],\n",
    "                  fill = 'toself',\n",
    "                  marker_color='rgb(47,138,196)',\n",
    "                  name = \"Player_data\"), row=1, col=1)\n",
    "fig.show()\n",
    "# # fig = px.scatter_polar(df, r=\"frequency\", theta=\"direction\")\n",
    "# colors = {'recorded': 'blue', 'Enhanced record minimum standard': 'red'}\n",
    "# fig_polar = px.scatter_polar(melted_df, r='Value', theta='field', color = 'Value Set', color_discrete_map = colors)\n",
    "# fig.add_trace(fig_polar, row=1, col=1)\n",
    "# # fig = px.scatter_polar(melted_df, r='Value', theta='field', color = 'Value Set', color_discrete_map = colors)\n",
    "# fig.show()"
   ]
  },
  {
   "cell_type": "code",
   "execution_count": 187,
   "metadata": {},
   "outputs": [
    {
     "data": {
      "text/html": [
       "<div>\n",
       "<style scoped>\n",
       "    .dataframe tbody tr th:only-of-type {\n",
       "        vertical-align: middle;\n",
       "    }\n",
       "\n",
       "    .dataframe tbody tr th {\n",
       "        vertical-align: top;\n",
       "    }\n",
       "\n",
       "    .dataframe thead th {\n",
       "        text-align: right;\n",
       "    }\n",
       "</style>\n",
       "<table border=\"1\" class=\"dataframe\">\n",
       "  <thead>\n",
       "    <tr style=\"text-align: right;\">\n",
       "      <th></th>\n",
       "      <th>field</th>\n",
       "      <th>Value Set</th>\n",
       "      <th>Value</th>\n",
       "    </tr>\n",
       "  </thead>\n",
       "  <tbody>\n",
       "    <tr>\n",
       "      <th>55</th>\n",
       "      <td>Related Detailed Condition Resource</td>\n",
       "      <td>Enhanced record minimum standard</td>\n",
       "      <td>0</td>\n",
       "    </tr>\n",
       "    <tr>\n",
       "      <th>29</th>\n",
       "      <td>GE Imagery Acquisition Date</td>\n",
       "      <td>Enhanced record minimum standard</td>\n",
       "      <td>1</td>\n",
       "    </tr>\n",
       "    <tr>\n",
       "      <th>30</th>\n",
       "      <td>Resource Name</td>\n",
       "      <td>Enhanced record minimum standard</td>\n",
       "      <td>0</td>\n",
       "    </tr>\n",
       "    <tr>\n",
       "      <th>31</th>\n",
       "      <td>Name Type</td>\n",
       "      <td>Enhanced record minimum standard</td>\n",
       "      <td>0</td>\n",
       "    </tr>\n",
       "    <tr>\n",
       "      <th>32</th>\n",
       "      <td>Heritage Place Type</td>\n",
       "      <td>Enhanced record minimum standard</td>\n",
       "      <td>0</td>\n",
       "    </tr>\n",
       "    <tr>\n",
       "      <th>33</th>\n",
       "      <td>General Description Type</td>\n",
       "      <td>Enhanced record minimum standard</td>\n",
       "      <td>0</td>\n",
       "    </tr>\n",
       "    <tr>\n",
       "      <th>34</th>\n",
       "      <td>General Description</td>\n",
       "      <td>Enhanced record minimum standard</td>\n",
       "      <td>0</td>\n",
       "    </tr>\n",
       "    <tr>\n",
       "      <th>35</th>\n",
       "      <td>Heritage Place Function</td>\n",
       "      <td>Enhanced record minimum standard</td>\n",
       "      <td>1</td>\n",
       "    </tr>\n",
       "    <tr>\n",
       "      <th>36</th>\n",
       "      <td>Designation</td>\n",
       "      <td>Enhanced record minimum standard</td>\n",
       "      <td>0</td>\n",
       "    </tr>\n",
       "    <tr>\n",
       "      <th>37</th>\n",
       "      <td>Designation From Date</td>\n",
       "      <td>Enhanced record minimum standard</td>\n",
       "      <td>0</td>\n",
       "    </tr>\n",
       "    <tr>\n",
       "      <th>38</th>\n",
       "      <td>Designation To Date</td>\n",
       "      <td>Enhanced record minimum standard</td>\n",
       "      <td>0</td>\n",
       "    </tr>\n",
       "    <tr>\n",
       "      <th>39</th>\n",
       "      <td>Geometry Extent Certainty</td>\n",
       "      <td>Enhanced record minimum standard</td>\n",
       "      <td>0</td>\n",
       "    </tr>\n",
       "    <tr>\n",
       "      <th>40</th>\n",
       "      <td>Grid ID</td>\n",
       "      <td>Enhanced record minimum standard</td>\n",
       "      <td>1</td>\n",
       "    </tr>\n",
       "    <tr>\n",
       "      <th>41</th>\n",
       "      <td>Cadastral Reference</td>\n",
       "      <td>Enhanced record minimum standard</td>\n",
       "      <td>0</td>\n",
       "    </tr>\n",
       "    <tr>\n",
       "      <th>42</th>\n",
       "      <td>Resource Orientation</td>\n",
       "      <td>Enhanced record minimum standard</td>\n",
       "      <td>0</td>\n",
       "    </tr>\n",
       "    <tr>\n",
       "      <th>43</th>\n",
       "      <td>Overall Site Morphology Type</td>\n",
       "      <td>Enhanced record minimum standard</td>\n",
       "      <td>1</td>\n",
       "    </tr>\n",
       "    <tr>\n",
       "      <th>44</th>\n",
       "      <td>Cultural Period Certainty</td>\n",
       "      <td>Enhanced record minimum standard</td>\n",
       "      <td>1</td>\n",
       "    </tr>\n",
       "    <tr>\n",
       "      <th>45</th>\n",
       "      <td>Site Feature Form Type</td>\n",
       "      <td>Enhanced record minimum standard</td>\n",
       "      <td>0</td>\n",
       "    </tr>\n",
       "    <tr>\n",
       "      <th>46</th>\n",
       "      <td>Site Feature Shape Type</td>\n",
       "      <td>Enhanced record minimum standard</td>\n",
       "      <td>0</td>\n",
       "    </tr>\n",
       "    <tr>\n",
       "      <th>47</th>\n",
       "      <td>Site Feature Arrangement Type</td>\n",
       "      <td>Enhanced record minimum standard</td>\n",
       "      <td>0</td>\n",
       "    </tr>\n",
       "    <tr>\n",
       "      <th>48</th>\n",
       "      <td>Site Feature Number Type</td>\n",
       "      <td>Enhanced record minimum standard</td>\n",
       "      <td>0</td>\n",
       "    </tr>\n",
       "    <tr>\n",
       "      <th>49</th>\n",
       "      <td>Site Feature Interpretation Certainty</td>\n",
       "      <td>Enhanced record minimum standard</td>\n",
       "      <td>1</td>\n",
       "    </tr>\n",
       "    <tr>\n",
       "      <th>50</th>\n",
       "      <td>Damage Extent Type</td>\n",
       "      <td>Enhanced record minimum standard</td>\n",
       "      <td>0</td>\n",
       "    </tr>\n",
       "    <tr>\n",
       "      <th>51</th>\n",
       "      <td>Disturbance Cause Category Type</td>\n",
       "      <td>Enhanced record minimum standard</td>\n",
       "      <td>1</td>\n",
       "    </tr>\n",
       "    <tr>\n",
       "      <th>52</th>\n",
       "      <td>Disturbance Cause Assignment Assessor Name - A...</td>\n",
       "      <td>Enhanced record minimum standard</td>\n",
       "      <td>0</td>\n",
       "    </tr>\n",
       "    <tr>\n",
       "      <th>53</th>\n",
       "      <td>Threat Category</td>\n",
       "      <td>Enhanced record minimum standard</td>\n",
       "      <td>1</td>\n",
       "    </tr>\n",
       "    <tr>\n",
       "      <th>28</th>\n",
       "      <td>Investigator Role Type</td>\n",
       "      <td>Enhanced record minimum standard</td>\n",
       "      <td>1</td>\n",
       "    </tr>\n",
       "    <tr>\n",
       "      <th>54</th>\n",
       "      <td>Threat Cause Type</td>\n",
       "      <td>Enhanced record minimum standard</td>\n",
       "      <td>1</td>\n",
       "    </tr>\n",
       "    <tr>\n",
       "      <th>0</th>\n",
       "      <td>Investigator Role Type</td>\n",
       "      <td>recorded</td>\n",
       "      <td>1</td>\n",
       "    </tr>\n",
       "    <tr>\n",
       "      <th>25</th>\n",
       "      <td>Threat Category</td>\n",
       "      <td>recorded</td>\n",
       "      <td>1</td>\n",
       "    </tr>\n",
       "    <tr>\n",
       "      <th>1</th>\n",
       "      <td>GE Imagery Acquisition Date</td>\n",
       "      <td>recorded</td>\n",
       "      <td>1</td>\n",
       "    </tr>\n",
       "    <tr>\n",
       "      <th>2</th>\n",
       "      <td>Resource Name</td>\n",
       "      <td>recorded</td>\n",
       "      <td>0</td>\n",
       "    </tr>\n",
       "    <tr>\n",
       "      <th>3</th>\n",
       "      <td>Name Type</td>\n",
       "      <td>recorded</td>\n",
       "      <td>0</td>\n",
       "    </tr>\n",
       "    <tr>\n",
       "      <th>4</th>\n",
       "      <td>Heritage Place Type</td>\n",
       "      <td>recorded</td>\n",
       "      <td>1</td>\n",
       "    </tr>\n",
       "    <tr>\n",
       "      <th>5</th>\n",
       "      <td>General Description Type</td>\n",
       "      <td>recorded</td>\n",
       "      <td>0</td>\n",
       "    </tr>\n",
       "    <tr>\n",
       "      <th>6</th>\n",
       "      <td>General Description</td>\n",
       "      <td>recorded</td>\n",
       "      <td>0</td>\n",
       "    </tr>\n",
       "    <tr>\n",
       "      <th>7</th>\n",
       "      <td>Heritage Place Function</td>\n",
       "      <td>recorded</td>\n",
       "      <td>1</td>\n",
       "    </tr>\n",
       "    <tr>\n",
       "      <th>8</th>\n",
       "      <td>Designation</td>\n",
       "      <td>recorded</td>\n",
       "      <td>0</td>\n",
       "    </tr>\n",
       "    <tr>\n",
       "      <th>9</th>\n",
       "      <td>Designation From Date</td>\n",
       "      <td>recorded</td>\n",
       "      <td>0</td>\n",
       "    </tr>\n",
       "    <tr>\n",
       "      <th>10</th>\n",
       "      <td>Designation To Date</td>\n",
       "      <td>recorded</td>\n",
       "      <td>0</td>\n",
       "    </tr>\n",
       "    <tr>\n",
       "      <th>11</th>\n",
       "      <td>Geometry Extent Certainty</td>\n",
       "      <td>recorded</td>\n",
       "      <td>1</td>\n",
       "    </tr>\n",
       "    <tr>\n",
       "      <th>26</th>\n",
       "      <td>Threat Cause Type</td>\n",
       "      <td>recorded</td>\n",
       "      <td>1</td>\n",
       "    </tr>\n",
       "    <tr>\n",
       "      <th>12</th>\n",
       "      <td>Grid ID</td>\n",
       "      <td>recorded</td>\n",
       "      <td>1</td>\n",
       "    </tr>\n",
       "    <tr>\n",
       "      <th>14</th>\n",
       "      <td>Resource Orientation</td>\n",
       "      <td>recorded</td>\n",
       "      <td>1</td>\n",
       "    </tr>\n",
       "    <tr>\n",
       "      <th>15</th>\n",
       "      <td>Overall Site Morphology Type</td>\n",
       "      <td>recorded</td>\n",
       "      <td>1</td>\n",
       "    </tr>\n",
       "    <tr>\n",
       "      <th>16</th>\n",
       "      <td>Cultural Period Certainty</td>\n",
       "      <td>recorded</td>\n",
       "      <td>1</td>\n",
       "    </tr>\n",
       "    <tr>\n",
       "      <th>17</th>\n",
       "      <td>Site Feature Form Type</td>\n",
       "      <td>recorded</td>\n",
       "      <td>0</td>\n",
       "    </tr>\n",
       "    <tr>\n",
       "      <th>18</th>\n",
       "      <td>Site Feature Shape Type</td>\n",
       "      <td>recorded</td>\n",
       "      <td>0</td>\n",
       "    </tr>\n",
       "    <tr>\n",
       "      <th>19</th>\n",
       "      <td>Site Feature Arrangement Type</td>\n",
       "      <td>recorded</td>\n",
       "      <td>0</td>\n",
       "    </tr>\n",
       "    <tr>\n",
       "      <th>20</th>\n",
       "      <td>Site Feature Number Type</td>\n",
       "      <td>recorded</td>\n",
       "      <td>0</td>\n",
       "    </tr>\n",
       "    <tr>\n",
       "      <th>21</th>\n",
       "      <td>Site Feature Interpretation Certainty</td>\n",
       "      <td>recorded</td>\n",
       "      <td>0</td>\n",
       "    </tr>\n",
       "    <tr>\n",
       "      <th>22</th>\n",
       "      <td>Damage Extent Type</td>\n",
       "      <td>recorded</td>\n",
       "      <td>1</td>\n",
       "    </tr>\n",
       "    <tr>\n",
       "      <th>23</th>\n",
       "      <td>Disturbance Cause Category Type</td>\n",
       "      <td>recorded</td>\n",
       "      <td>0</td>\n",
       "    </tr>\n",
       "    <tr>\n",
       "      <th>24</th>\n",
       "      <td>Disturbance Cause Assignment Assessor Name - A...</td>\n",
       "      <td>recorded</td>\n",
       "      <td>0</td>\n",
       "    </tr>\n",
       "    <tr>\n",
       "      <th>13</th>\n",
       "      <td>Cadastral Reference</td>\n",
       "      <td>recorded</td>\n",
       "      <td>1</td>\n",
       "    </tr>\n",
       "    <tr>\n",
       "      <th>27</th>\n",
       "      <td>Related Detailed Condition Resource</td>\n",
       "      <td>recorded</td>\n",
       "      <td>1</td>\n",
       "    </tr>\n",
       "  </tbody>\n",
       "</table>\n",
       "</div>"
      ],
      "text/plain": [
       "                                                field  \\\n",
       "55                Related Detailed Condition Resource   \n",
       "29                        GE Imagery Acquisition Date   \n",
       "30                                      Resource Name   \n",
       "31                                          Name Type   \n",
       "32                                Heritage Place Type   \n",
       "33                           General Description Type   \n",
       "34                                General Description   \n",
       "35                            Heritage Place Function   \n",
       "36                                        Designation   \n",
       "37                              Designation From Date   \n",
       "38                                Designation To Date   \n",
       "39                          Geometry Extent Certainty   \n",
       "40                                            Grid ID   \n",
       "41                                Cadastral Reference   \n",
       "42                               Resource Orientation   \n",
       "43                       Overall Site Morphology Type   \n",
       "44                          Cultural Period Certainty   \n",
       "45                             Site Feature Form Type   \n",
       "46                            Site Feature Shape Type   \n",
       "47                      Site Feature Arrangement Type   \n",
       "48                           Site Feature Number Type   \n",
       "49              Site Feature Interpretation Certainty   \n",
       "50                                 Damage Extent Type   \n",
       "51                    Disturbance Cause Category Type   \n",
       "52  Disturbance Cause Assignment Assessor Name - A...   \n",
       "53                                    Threat Category   \n",
       "28                             Investigator Role Type   \n",
       "54                                  Threat Cause Type   \n",
       "0                              Investigator Role Type   \n",
       "25                                    Threat Category   \n",
       "1                         GE Imagery Acquisition Date   \n",
       "2                                       Resource Name   \n",
       "3                                           Name Type   \n",
       "4                                 Heritage Place Type   \n",
       "5                            General Description Type   \n",
       "6                                 General Description   \n",
       "7                             Heritage Place Function   \n",
       "8                                         Designation   \n",
       "9                               Designation From Date   \n",
       "10                                Designation To Date   \n",
       "11                          Geometry Extent Certainty   \n",
       "26                                  Threat Cause Type   \n",
       "12                                            Grid ID   \n",
       "14                               Resource Orientation   \n",
       "15                       Overall Site Morphology Type   \n",
       "16                          Cultural Period Certainty   \n",
       "17                             Site Feature Form Type   \n",
       "18                            Site Feature Shape Type   \n",
       "19                      Site Feature Arrangement Type   \n",
       "20                           Site Feature Number Type   \n",
       "21              Site Feature Interpretation Certainty   \n",
       "22                                 Damage Extent Type   \n",
       "23                    Disturbance Cause Category Type   \n",
       "24  Disturbance Cause Assignment Assessor Name - A...   \n",
       "13                                Cadastral Reference   \n",
       "27                Related Detailed Condition Resource   \n",
       "\n",
       "                           Value Set  Value  \n",
       "55  Enhanced record minimum standard      0  \n",
       "29  Enhanced record minimum standard      1  \n",
       "30  Enhanced record minimum standard      0  \n",
       "31  Enhanced record minimum standard      0  \n",
       "32  Enhanced record minimum standard      0  \n",
       "33  Enhanced record minimum standard      0  \n",
       "34  Enhanced record minimum standard      0  \n",
       "35  Enhanced record minimum standard      1  \n",
       "36  Enhanced record minimum standard      0  \n",
       "37  Enhanced record minimum standard      0  \n",
       "38  Enhanced record minimum standard      0  \n",
       "39  Enhanced record minimum standard      0  \n",
       "40  Enhanced record minimum standard      1  \n",
       "41  Enhanced record minimum standard      0  \n",
       "42  Enhanced record minimum standard      0  \n",
       "43  Enhanced record minimum standard      1  \n",
       "44  Enhanced record minimum standard      1  \n",
       "45  Enhanced record minimum standard      0  \n",
       "46  Enhanced record minimum standard      0  \n",
       "47  Enhanced record minimum standard      0  \n",
       "48  Enhanced record minimum standard      0  \n",
       "49  Enhanced record minimum standard      1  \n",
       "50  Enhanced record minimum standard      0  \n",
       "51  Enhanced record minimum standard      1  \n",
       "52  Enhanced record minimum standard      0  \n",
       "53  Enhanced record minimum standard      1  \n",
       "28  Enhanced record minimum standard      1  \n",
       "54  Enhanced record minimum standard      1  \n",
       "0                           recorded      1  \n",
       "25                          recorded      1  \n",
       "1                           recorded      1  \n",
       "2                           recorded      0  \n",
       "3                           recorded      0  \n",
       "4                           recorded      1  \n",
       "5                           recorded      0  \n",
       "6                           recorded      0  \n",
       "7                           recorded      1  \n",
       "8                           recorded      0  \n",
       "9                           recorded      0  \n",
       "10                          recorded      0  \n",
       "11                          recorded      1  \n",
       "26                          recorded      1  \n",
       "12                          recorded      1  \n",
       "14                          recorded      1  \n",
       "15                          recorded      1  \n",
       "16                          recorded      1  \n",
       "17                          recorded      0  \n",
       "18                          recorded      0  \n",
       "19                          recorded      0  \n",
       "20                          recorded      0  \n",
       "21                          recorded      0  \n",
       "22                          recorded      1  \n",
       "23                          recorded      0  \n",
       "24                          recorded      0  \n",
       "13                          recorded      1  \n",
       "27                          recorded      1  "
      ]
     },
     "execution_count": 187,
     "metadata": {},
     "output_type": "execute_result"
    }
   ],
   "source": [
    "melted_df"
   ]
  },
  {
   "cell_type": "code",
   "execution_count": 137,
   "metadata": {},
   "outputs": [
    {
     "data": {
      "application/vnd.plotly.v1+json": {
       "config": {
        "plotlyServerURL": "https://plot.ly"
       },
       "data": [
        {
         "mode": "markers",
         "r": [
          0,
          1,
          0,
          0,
          0,
          0,
          0,
          1,
          0,
          0,
          0,
          0,
          1,
          0,
          0,
          1,
          1,
          0,
          0,
          0,
          0,
          1,
          0,
          1,
          0,
          1,
          1,
          1,
          1,
          1,
          1,
          0,
          0,
          1,
          1,
          1,
          1,
          0,
          0,
          0,
          1,
          1,
          1,
          1,
          1,
          1,
          1,
          1,
          1,
          1,
          1,
          1,
          1,
          1,
          1,
          1
         ],
         "theta": [
          "Related Detailed Condition Resource",
          "GE Imagery Acquisition Date",
          "Resource Name",
          "Name Type",
          "Heritage Place Type",
          "General Description Type",
          "General Description",
          "Heritage Place Function",
          "Designation",
          "Designation From Date",
          "Designation To Date",
          "Geometry Extent Certainty",
          "Grid ID",
          "Cadastral Reference",
          "Resource Orientation",
          "Overall Site Morphology Type",
          "Cultural Period Certainty",
          "Site Feature Form Type",
          "Site Feature Shape Type",
          "Site Feature Arrangement Type",
          "Site Feature Number Type",
          "Site Feature Interpretation Certainty",
          "Damage Extent Type",
          "Disturbance Cause Category Type",
          "Disturbance Cause Assignment Assessor Name - Actor",
          "Threat Category",
          "Investigator Role Type",
          "Threat Cause Type",
          "Investigator Role Type",
          "Threat Category",
          "GE Imagery Acquisition Date",
          "Resource Name",
          "Name Type",
          "Heritage Place Type",
          "General Description Type",
          "General Description",
          "Heritage Place Function",
          "Designation",
          "Designation From Date",
          "Designation To Date",
          "Geometry Extent Certainty",
          "Threat Cause Type",
          "Grid ID",
          "Resource Orientation",
          "Overall Site Morphology Type",
          "Cultural Period Certainty",
          "Site Feature Form Type",
          "Site Feature Shape Type",
          "Site Feature Arrangement Type",
          "Site Feature Number Type",
          "Site Feature Interpretation Certainty",
          "Damage Extent Type",
          "Disturbance Cause Category Type",
          "Disturbance Cause Assignment Assessor Name - Actor",
          "Cadastral Reference",
          "Related Detailed Condition Resource"
         ],
         "type": "scatterpolar"
        }
       ],
       "layout": {
        "template": {
         "data": {
          "bar": [
           {
            "error_x": {
             "color": "#2a3f5f"
            },
            "error_y": {
             "color": "#2a3f5f"
            },
            "marker": {
             "line": {
              "color": "#E5ECF6",
              "width": 0.5
             },
             "pattern": {
              "fillmode": "overlay",
              "size": 10,
              "solidity": 0.2
             }
            },
            "type": "bar"
           }
          ],
          "barpolar": [
           {
            "marker": {
             "line": {
              "color": "#E5ECF6",
              "width": 0.5
             },
             "pattern": {
              "fillmode": "overlay",
              "size": 10,
              "solidity": 0.2
             }
            },
            "type": "barpolar"
           }
          ],
          "carpet": [
           {
            "aaxis": {
             "endlinecolor": "#2a3f5f",
             "gridcolor": "white",
             "linecolor": "white",
             "minorgridcolor": "white",
             "startlinecolor": "#2a3f5f"
            },
            "baxis": {
             "endlinecolor": "#2a3f5f",
             "gridcolor": "white",
             "linecolor": "white",
             "minorgridcolor": "white",
             "startlinecolor": "#2a3f5f"
            },
            "type": "carpet"
           }
          ],
          "choropleth": [
           {
            "colorbar": {
             "outlinewidth": 0,
             "ticks": ""
            },
            "type": "choropleth"
           }
          ],
          "contour": [
           {
            "colorbar": {
             "outlinewidth": 0,
             "ticks": ""
            },
            "colorscale": [
             [
              0,
              "#0d0887"
             ],
             [
              0.1111111111111111,
              "#46039f"
             ],
             [
              0.2222222222222222,
              "#7201a8"
             ],
             [
              0.3333333333333333,
              "#9c179e"
             ],
             [
              0.4444444444444444,
              "#bd3786"
             ],
             [
              0.5555555555555556,
              "#d8576b"
             ],
             [
              0.6666666666666666,
              "#ed7953"
             ],
             [
              0.7777777777777778,
              "#fb9f3a"
             ],
             [
              0.8888888888888888,
              "#fdca26"
             ],
             [
              1,
              "#f0f921"
             ]
            ],
            "type": "contour"
           }
          ],
          "contourcarpet": [
           {
            "colorbar": {
             "outlinewidth": 0,
             "ticks": ""
            },
            "type": "contourcarpet"
           }
          ],
          "heatmap": [
           {
            "colorbar": {
             "outlinewidth": 0,
             "ticks": ""
            },
            "colorscale": [
             [
              0,
              "#0d0887"
             ],
             [
              0.1111111111111111,
              "#46039f"
             ],
             [
              0.2222222222222222,
              "#7201a8"
             ],
             [
              0.3333333333333333,
              "#9c179e"
             ],
             [
              0.4444444444444444,
              "#bd3786"
             ],
             [
              0.5555555555555556,
              "#d8576b"
             ],
             [
              0.6666666666666666,
              "#ed7953"
             ],
             [
              0.7777777777777778,
              "#fb9f3a"
             ],
             [
              0.8888888888888888,
              "#fdca26"
             ],
             [
              1,
              "#f0f921"
             ]
            ],
            "type": "heatmap"
           }
          ],
          "heatmapgl": [
           {
            "colorbar": {
             "outlinewidth": 0,
             "ticks": ""
            },
            "colorscale": [
             [
              0,
              "#0d0887"
             ],
             [
              0.1111111111111111,
              "#46039f"
             ],
             [
              0.2222222222222222,
              "#7201a8"
             ],
             [
              0.3333333333333333,
              "#9c179e"
             ],
             [
              0.4444444444444444,
              "#bd3786"
             ],
             [
              0.5555555555555556,
              "#d8576b"
             ],
             [
              0.6666666666666666,
              "#ed7953"
             ],
             [
              0.7777777777777778,
              "#fb9f3a"
             ],
             [
              0.8888888888888888,
              "#fdca26"
             ],
             [
              1,
              "#f0f921"
             ]
            ],
            "type": "heatmapgl"
           }
          ],
          "histogram": [
           {
            "marker": {
             "pattern": {
              "fillmode": "overlay",
              "size": 10,
              "solidity": 0.2
             }
            },
            "type": "histogram"
           }
          ],
          "histogram2d": [
           {
            "colorbar": {
             "outlinewidth": 0,
             "ticks": ""
            },
            "colorscale": [
             [
              0,
              "#0d0887"
             ],
             [
              0.1111111111111111,
              "#46039f"
             ],
             [
              0.2222222222222222,
              "#7201a8"
             ],
             [
              0.3333333333333333,
              "#9c179e"
             ],
             [
              0.4444444444444444,
              "#bd3786"
             ],
             [
              0.5555555555555556,
              "#d8576b"
             ],
             [
              0.6666666666666666,
              "#ed7953"
             ],
             [
              0.7777777777777778,
              "#fb9f3a"
             ],
             [
              0.8888888888888888,
              "#fdca26"
             ],
             [
              1,
              "#f0f921"
             ]
            ],
            "type": "histogram2d"
           }
          ],
          "histogram2dcontour": [
           {
            "colorbar": {
             "outlinewidth": 0,
             "ticks": ""
            },
            "colorscale": [
             [
              0,
              "#0d0887"
             ],
             [
              0.1111111111111111,
              "#46039f"
             ],
             [
              0.2222222222222222,
              "#7201a8"
             ],
             [
              0.3333333333333333,
              "#9c179e"
             ],
             [
              0.4444444444444444,
              "#bd3786"
             ],
             [
              0.5555555555555556,
              "#d8576b"
             ],
             [
              0.6666666666666666,
              "#ed7953"
             ],
             [
              0.7777777777777778,
              "#fb9f3a"
             ],
             [
              0.8888888888888888,
              "#fdca26"
             ],
             [
              1,
              "#f0f921"
             ]
            ],
            "type": "histogram2dcontour"
           }
          ],
          "mesh3d": [
           {
            "colorbar": {
             "outlinewidth": 0,
             "ticks": ""
            },
            "type": "mesh3d"
           }
          ],
          "parcoords": [
           {
            "line": {
             "colorbar": {
              "outlinewidth": 0,
              "ticks": ""
             }
            },
            "type": "parcoords"
           }
          ],
          "pie": [
           {
            "automargin": true,
            "type": "pie"
           }
          ],
          "scatter": [
           {
            "fillpattern": {
             "fillmode": "overlay",
             "size": 10,
             "solidity": 0.2
            },
            "type": "scatter"
           }
          ],
          "scatter3d": [
           {
            "line": {
             "colorbar": {
              "outlinewidth": 0,
              "ticks": ""
             }
            },
            "marker": {
             "colorbar": {
              "outlinewidth": 0,
              "ticks": ""
             }
            },
            "type": "scatter3d"
           }
          ],
          "scattercarpet": [
           {
            "marker": {
             "colorbar": {
              "outlinewidth": 0,
              "ticks": ""
             }
            },
            "type": "scattercarpet"
           }
          ],
          "scattergeo": [
           {
            "marker": {
             "colorbar": {
              "outlinewidth": 0,
              "ticks": ""
             }
            },
            "type": "scattergeo"
           }
          ],
          "scattergl": [
           {
            "marker": {
             "colorbar": {
              "outlinewidth": 0,
              "ticks": ""
             }
            },
            "type": "scattergl"
           }
          ],
          "scattermapbox": [
           {
            "marker": {
             "colorbar": {
              "outlinewidth": 0,
              "ticks": ""
             }
            },
            "type": "scattermapbox"
           }
          ],
          "scatterpolar": [
           {
            "marker": {
             "colorbar": {
              "outlinewidth": 0,
              "ticks": ""
             }
            },
            "type": "scatterpolar"
           }
          ],
          "scatterpolargl": [
           {
            "marker": {
             "colorbar": {
              "outlinewidth": 0,
              "ticks": ""
             }
            },
            "type": "scatterpolargl"
           }
          ],
          "scatterternary": [
           {
            "marker": {
             "colorbar": {
              "outlinewidth": 0,
              "ticks": ""
             }
            },
            "type": "scatterternary"
           }
          ],
          "surface": [
           {
            "colorbar": {
             "outlinewidth": 0,
             "ticks": ""
            },
            "colorscale": [
             [
              0,
              "#0d0887"
             ],
             [
              0.1111111111111111,
              "#46039f"
             ],
             [
              0.2222222222222222,
              "#7201a8"
             ],
             [
              0.3333333333333333,
              "#9c179e"
             ],
             [
              0.4444444444444444,
              "#bd3786"
             ],
             [
              0.5555555555555556,
              "#d8576b"
             ],
             [
              0.6666666666666666,
              "#ed7953"
             ],
             [
              0.7777777777777778,
              "#fb9f3a"
             ],
             [
              0.8888888888888888,
              "#fdca26"
             ],
             [
              1,
              "#f0f921"
             ]
            ],
            "type": "surface"
           }
          ],
          "table": [
           {
            "cells": {
             "fill": {
              "color": "#EBF0F8"
             },
             "line": {
              "color": "white"
             }
            },
            "header": {
             "fill": {
              "color": "#C8D4E3"
             },
             "line": {
              "color": "white"
             }
            },
            "type": "table"
           }
          ]
         },
         "layout": {
          "annotationdefaults": {
           "arrowcolor": "#2a3f5f",
           "arrowhead": 0,
           "arrowwidth": 1
          },
          "autotypenumbers": "strict",
          "coloraxis": {
           "colorbar": {
            "outlinewidth": 0,
            "ticks": ""
           }
          },
          "colorscale": {
           "diverging": [
            [
             0,
             "#8e0152"
            ],
            [
             0.1,
             "#c51b7d"
            ],
            [
             0.2,
             "#de77ae"
            ],
            [
             0.3,
             "#f1b6da"
            ],
            [
             0.4,
             "#fde0ef"
            ],
            [
             0.5,
             "#f7f7f7"
            ],
            [
             0.6,
             "#e6f5d0"
            ],
            [
             0.7,
             "#b8e186"
            ],
            [
             0.8,
             "#7fbc41"
            ],
            [
             0.9,
             "#4d9221"
            ],
            [
             1,
             "#276419"
            ]
           ],
           "sequential": [
            [
             0,
             "#0d0887"
            ],
            [
             0.1111111111111111,
             "#46039f"
            ],
            [
             0.2222222222222222,
             "#7201a8"
            ],
            [
             0.3333333333333333,
             "#9c179e"
            ],
            [
             0.4444444444444444,
             "#bd3786"
            ],
            [
             0.5555555555555556,
             "#d8576b"
            ],
            [
             0.6666666666666666,
             "#ed7953"
            ],
            [
             0.7777777777777778,
             "#fb9f3a"
            ],
            [
             0.8888888888888888,
             "#fdca26"
            ],
            [
             1,
             "#f0f921"
            ]
           ],
           "sequentialminus": [
            [
             0,
             "#0d0887"
            ],
            [
             0.1111111111111111,
             "#46039f"
            ],
            [
             0.2222222222222222,
             "#7201a8"
            ],
            [
             0.3333333333333333,
             "#9c179e"
            ],
            [
             0.4444444444444444,
             "#bd3786"
            ],
            [
             0.5555555555555556,
             "#d8576b"
            ],
            [
             0.6666666666666666,
             "#ed7953"
            ],
            [
             0.7777777777777778,
             "#fb9f3a"
            ],
            [
             0.8888888888888888,
             "#fdca26"
            ],
            [
             1,
             "#f0f921"
            ]
           ]
          },
          "colorway": [
           "#636efa",
           "#EF553B",
           "#00cc96",
           "#ab63fa",
           "#FFA15A",
           "#19d3f3",
           "#FF6692",
           "#B6E880",
           "#FF97FF",
           "#FECB52"
          ],
          "font": {
           "color": "#2a3f5f"
          },
          "geo": {
           "bgcolor": "white",
           "lakecolor": "white",
           "landcolor": "#E5ECF6",
           "showlakes": true,
           "showland": true,
           "subunitcolor": "white"
          },
          "hoverlabel": {
           "align": "left"
          },
          "hovermode": "closest",
          "mapbox": {
           "style": "light"
          },
          "paper_bgcolor": "white",
          "plot_bgcolor": "#E5ECF6",
          "polar": {
           "angularaxis": {
            "gridcolor": "white",
            "linecolor": "white",
            "ticks": ""
           },
           "bgcolor": "#E5ECF6",
           "radialaxis": {
            "gridcolor": "white",
            "linecolor": "white",
            "ticks": ""
           }
          },
          "scene": {
           "xaxis": {
            "backgroundcolor": "#E5ECF6",
            "gridcolor": "white",
            "gridwidth": 2,
            "linecolor": "white",
            "showbackground": true,
            "ticks": "",
            "zerolinecolor": "white"
           },
           "yaxis": {
            "backgroundcolor": "#E5ECF6",
            "gridcolor": "white",
            "gridwidth": 2,
            "linecolor": "white",
            "showbackground": true,
            "ticks": "",
            "zerolinecolor": "white"
           },
           "zaxis": {
            "backgroundcolor": "#E5ECF6",
            "gridcolor": "white",
            "gridwidth": 2,
            "linecolor": "white",
            "showbackground": true,
            "ticks": "",
            "zerolinecolor": "white"
           }
          },
          "shapedefaults": {
           "line": {
            "color": "#2a3f5f"
           }
          },
          "ternary": {
           "aaxis": {
            "gridcolor": "white",
            "linecolor": "white",
            "ticks": ""
           },
           "baxis": {
            "gridcolor": "white",
            "linecolor": "white",
            "ticks": ""
           },
           "bgcolor": "#E5ECF6",
           "caxis": {
            "gridcolor": "white",
            "linecolor": "white",
            "ticks": ""
           }
          },
          "title": {
           "x": 0.05
          },
          "xaxis": {
           "automargin": true,
           "gridcolor": "white",
           "linecolor": "white",
           "ticks": "",
           "title": {
            "standoff": 15
           },
           "zerolinecolor": "white",
           "zerolinewidth": 2
          },
          "yaxis": {
           "automargin": true,
           "gridcolor": "white",
           "linecolor": "white",
           "ticks": "",
           "title": {
            "standoff": 15
           },
           "zerolinecolor": "white",
           "zerolinewidth": 2
          }
         }
        }
       }
      }
     },
     "metadata": {},
     "output_type": "display_data"
    }
   ],
   "source": [
    "data = go.Scatterpolar(\n",
    "        r = melted_df['Value'],\n",
    "        theta = melted_df['field'],\n",
    "        mode = 'markers',\n",
    "    )\n",
    "fig = go.Figure(data)\n",
    "fig.show()"
   ]
  },
  {
   "cell_type": "code",
   "execution_count": 167,
   "metadata": {},
   "outputs": [
    {
     "data": {
      "application/vnd.plotly.v1+json": {
       "config": {
        "plotlyServerURL": "https://plot.ly"
       },
       "data": [
        {
         "mode": "markers",
         "name": "my name",
         "r": [
          0,
          1,
          0,
          0,
          0,
          0,
          0,
          1,
          0,
          0,
          0,
          0,
          1,
          0,
          0,
          1,
          1,
          0,
          0,
          0,
          0,
          1,
          0,
          1,
          0,
          1,
          1,
          1,
          1,
          1,
          1,
          0,
          0,
          1,
          1,
          1,
          1,
          0,
          0,
          0,
          1,
          1,
          1,
          1,
          1,
          1,
          1,
          1,
          1,
          1,
          1,
          1,
          1,
          1,
          1,
          1
         ],
         "subplot": "polar",
         "theta": [
          "Related Detailed Condition Resource",
          "GE Imagery Acquisition Date",
          "Resource Name",
          "Name Type",
          "Heritage Place Type",
          "General Description Type",
          "General Description",
          "Heritage Place Function",
          "Designation",
          "Designation From Date",
          "Designation To Date",
          "Geometry Extent Certainty",
          "Grid ID",
          "Cadastral Reference",
          "Resource Orientation",
          "Overall Site Morphology Type",
          "Cultural Period Certainty",
          "Site Feature Form Type",
          "Site Feature Shape Type",
          "Site Feature Arrangement Type",
          "Site Feature Number Type",
          "Site Feature Interpretation Certainty",
          "Damage Extent Type",
          "Disturbance Cause Category Type",
          "Disturbance Cause Assignment Assessor Name - Actor",
          "Threat Category",
          "Investigator Role Type",
          "Threat Cause Type",
          "Investigator Role Type",
          "Threat Category",
          "GE Imagery Acquisition Date",
          "Resource Name",
          "Name Type",
          "Heritage Place Type",
          "General Description Type",
          "General Description",
          "Heritage Place Function",
          "Designation",
          "Designation From Date",
          "Designation To Date",
          "Geometry Extent Certainty",
          "Threat Cause Type",
          "Grid ID",
          "Resource Orientation",
          "Overall Site Morphology Type",
          "Cultural Period Certainty",
          "Site Feature Form Type",
          "Site Feature Shape Type",
          "Site Feature Arrangement Type",
          "Site Feature Number Type",
          "Site Feature Interpretation Certainty",
          "Damage Extent Type",
          "Disturbance Cause Category Type",
          "Disturbance Cause Assignment Assessor Name - Actor",
          "Cadastral Reference",
          "Related Detailed Condition Resource"
         ],
         "type": "scatterpolar"
        }
       ],
       "layout": {
        "polar": {
         "domain": {
          "x": [
           0,
           1
          ],
          "y": [
           0.575,
           1
          ]
         }
        },
        "polar2": {
         "domain": {
          "x": [
           0,
           1
          ],
          "y": [
           0,
           0.425
          ]
         }
        },
        "template": {
         "data": {
          "bar": [
           {
            "error_x": {
             "color": "#2a3f5f"
            },
            "error_y": {
             "color": "#2a3f5f"
            },
            "marker": {
             "line": {
              "color": "#E5ECF6",
              "width": 0.5
             },
             "pattern": {
              "fillmode": "overlay",
              "size": 10,
              "solidity": 0.2
             }
            },
            "type": "bar"
           }
          ],
          "barpolar": [
           {
            "marker": {
             "line": {
              "color": "#E5ECF6",
              "width": 0.5
             },
             "pattern": {
              "fillmode": "overlay",
              "size": 10,
              "solidity": 0.2
             }
            },
            "type": "barpolar"
           }
          ],
          "carpet": [
           {
            "aaxis": {
             "endlinecolor": "#2a3f5f",
             "gridcolor": "white",
             "linecolor": "white",
             "minorgridcolor": "white",
             "startlinecolor": "#2a3f5f"
            },
            "baxis": {
             "endlinecolor": "#2a3f5f",
             "gridcolor": "white",
             "linecolor": "white",
             "minorgridcolor": "white",
             "startlinecolor": "#2a3f5f"
            },
            "type": "carpet"
           }
          ],
          "choropleth": [
           {
            "colorbar": {
             "outlinewidth": 0,
             "ticks": ""
            },
            "type": "choropleth"
           }
          ],
          "contour": [
           {
            "colorbar": {
             "outlinewidth": 0,
             "ticks": ""
            },
            "colorscale": [
             [
              0,
              "#0d0887"
             ],
             [
              0.1111111111111111,
              "#46039f"
             ],
             [
              0.2222222222222222,
              "#7201a8"
             ],
             [
              0.3333333333333333,
              "#9c179e"
             ],
             [
              0.4444444444444444,
              "#bd3786"
             ],
             [
              0.5555555555555556,
              "#d8576b"
             ],
             [
              0.6666666666666666,
              "#ed7953"
             ],
             [
              0.7777777777777778,
              "#fb9f3a"
             ],
             [
              0.8888888888888888,
              "#fdca26"
             ],
             [
              1,
              "#f0f921"
             ]
            ],
            "type": "contour"
           }
          ],
          "contourcarpet": [
           {
            "colorbar": {
             "outlinewidth": 0,
             "ticks": ""
            },
            "type": "contourcarpet"
           }
          ],
          "heatmap": [
           {
            "colorbar": {
             "outlinewidth": 0,
             "ticks": ""
            },
            "colorscale": [
             [
              0,
              "#0d0887"
             ],
             [
              0.1111111111111111,
              "#46039f"
             ],
             [
              0.2222222222222222,
              "#7201a8"
             ],
             [
              0.3333333333333333,
              "#9c179e"
             ],
             [
              0.4444444444444444,
              "#bd3786"
             ],
             [
              0.5555555555555556,
              "#d8576b"
             ],
             [
              0.6666666666666666,
              "#ed7953"
             ],
             [
              0.7777777777777778,
              "#fb9f3a"
             ],
             [
              0.8888888888888888,
              "#fdca26"
             ],
             [
              1,
              "#f0f921"
             ]
            ],
            "type": "heatmap"
           }
          ],
          "heatmapgl": [
           {
            "colorbar": {
             "outlinewidth": 0,
             "ticks": ""
            },
            "colorscale": [
             [
              0,
              "#0d0887"
             ],
             [
              0.1111111111111111,
              "#46039f"
             ],
             [
              0.2222222222222222,
              "#7201a8"
             ],
             [
              0.3333333333333333,
              "#9c179e"
             ],
             [
              0.4444444444444444,
              "#bd3786"
             ],
             [
              0.5555555555555556,
              "#d8576b"
             ],
             [
              0.6666666666666666,
              "#ed7953"
             ],
             [
              0.7777777777777778,
              "#fb9f3a"
             ],
             [
              0.8888888888888888,
              "#fdca26"
             ],
             [
              1,
              "#f0f921"
             ]
            ],
            "type": "heatmapgl"
           }
          ],
          "histogram": [
           {
            "marker": {
             "pattern": {
              "fillmode": "overlay",
              "size": 10,
              "solidity": 0.2
             }
            },
            "type": "histogram"
           }
          ],
          "histogram2d": [
           {
            "colorbar": {
             "outlinewidth": 0,
             "ticks": ""
            },
            "colorscale": [
             [
              0,
              "#0d0887"
             ],
             [
              0.1111111111111111,
              "#46039f"
             ],
             [
              0.2222222222222222,
              "#7201a8"
             ],
             [
              0.3333333333333333,
              "#9c179e"
             ],
             [
              0.4444444444444444,
              "#bd3786"
             ],
             [
              0.5555555555555556,
              "#d8576b"
             ],
             [
              0.6666666666666666,
              "#ed7953"
             ],
             [
              0.7777777777777778,
              "#fb9f3a"
             ],
             [
              0.8888888888888888,
              "#fdca26"
             ],
             [
              1,
              "#f0f921"
             ]
            ],
            "type": "histogram2d"
           }
          ],
          "histogram2dcontour": [
           {
            "colorbar": {
             "outlinewidth": 0,
             "ticks": ""
            },
            "colorscale": [
             [
              0,
              "#0d0887"
             ],
             [
              0.1111111111111111,
              "#46039f"
             ],
             [
              0.2222222222222222,
              "#7201a8"
             ],
             [
              0.3333333333333333,
              "#9c179e"
             ],
             [
              0.4444444444444444,
              "#bd3786"
             ],
             [
              0.5555555555555556,
              "#d8576b"
             ],
             [
              0.6666666666666666,
              "#ed7953"
             ],
             [
              0.7777777777777778,
              "#fb9f3a"
             ],
             [
              0.8888888888888888,
              "#fdca26"
             ],
             [
              1,
              "#f0f921"
             ]
            ],
            "type": "histogram2dcontour"
           }
          ],
          "mesh3d": [
           {
            "colorbar": {
             "outlinewidth": 0,
             "ticks": ""
            },
            "type": "mesh3d"
           }
          ],
          "parcoords": [
           {
            "line": {
             "colorbar": {
              "outlinewidth": 0,
              "ticks": ""
             }
            },
            "type": "parcoords"
           }
          ],
          "pie": [
           {
            "automargin": true,
            "type": "pie"
           }
          ],
          "scatter": [
           {
            "fillpattern": {
             "fillmode": "overlay",
             "size": 10,
             "solidity": 0.2
            },
            "type": "scatter"
           }
          ],
          "scatter3d": [
           {
            "line": {
             "colorbar": {
              "outlinewidth": 0,
              "ticks": ""
             }
            },
            "marker": {
             "colorbar": {
              "outlinewidth": 0,
              "ticks": ""
             }
            },
            "type": "scatter3d"
           }
          ],
          "scattercarpet": [
           {
            "marker": {
             "colorbar": {
              "outlinewidth": 0,
              "ticks": ""
             }
            },
            "type": "scattercarpet"
           }
          ],
          "scattergeo": [
           {
            "marker": {
             "colorbar": {
              "outlinewidth": 0,
              "ticks": ""
             }
            },
            "type": "scattergeo"
           }
          ],
          "scattergl": [
           {
            "marker": {
             "colorbar": {
              "outlinewidth": 0,
              "ticks": ""
             }
            },
            "type": "scattergl"
           }
          ],
          "scattermapbox": [
           {
            "marker": {
             "colorbar": {
              "outlinewidth": 0,
              "ticks": ""
             }
            },
            "type": "scattermapbox"
           }
          ],
          "scatterpolar": [
           {
            "marker": {
             "colorbar": {
              "outlinewidth": 0,
              "ticks": ""
             }
            },
            "type": "scatterpolar"
           }
          ],
          "scatterpolargl": [
           {
            "marker": {
             "colorbar": {
              "outlinewidth": 0,
              "ticks": ""
             }
            },
            "type": "scatterpolargl"
           }
          ],
          "scatterternary": [
           {
            "marker": {
             "colorbar": {
              "outlinewidth": 0,
              "ticks": ""
             }
            },
            "type": "scatterternary"
           }
          ],
          "surface": [
           {
            "colorbar": {
             "outlinewidth": 0,
             "ticks": ""
            },
            "colorscale": [
             [
              0,
              "#0d0887"
             ],
             [
              0.1111111111111111,
              "#46039f"
             ],
             [
              0.2222222222222222,
              "#7201a8"
             ],
             [
              0.3333333333333333,
              "#9c179e"
             ],
             [
              0.4444444444444444,
              "#bd3786"
             ],
             [
              0.5555555555555556,
              "#d8576b"
             ],
             [
              0.6666666666666666,
              "#ed7953"
             ],
             [
              0.7777777777777778,
              "#fb9f3a"
             ],
             [
              0.8888888888888888,
              "#fdca26"
             ],
             [
              1,
              "#f0f921"
             ]
            ],
            "type": "surface"
           }
          ],
          "table": [
           {
            "cells": {
             "fill": {
              "color": "#EBF0F8"
             },
             "line": {
              "color": "white"
             }
            },
            "header": {
             "fill": {
              "color": "#C8D4E3"
             },
             "line": {
              "color": "white"
             }
            },
            "type": "table"
           }
          ]
         },
         "layout": {
          "annotationdefaults": {
           "arrowcolor": "#2a3f5f",
           "arrowhead": 0,
           "arrowwidth": 1
          },
          "autotypenumbers": "strict",
          "coloraxis": {
           "colorbar": {
            "outlinewidth": 0,
            "ticks": ""
           }
          },
          "colorscale": {
           "diverging": [
            [
             0,
             "#8e0152"
            ],
            [
             0.1,
             "#c51b7d"
            ],
            [
             0.2,
             "#de77ae"
            ],
            [
             0.3,
             "#f1b6da"
            ],
            [
             0.4,
             "#fde0ef"
            ],
            [
             0.5,
             "#f7f7f7"
            ],
            [
             0.6,
             "#e6f5d0"
            ],
            [
             0.7,
             "#b8e186"
            ],
            [
             0.8,
             "#7fbc41"
            ],
            [
             0.9,
             "#4d9221"
            ],
            [
             1,
             "#276419"
            ]
           ],
           "sequential": [
            [
             0,
             "#0d0887"
            ],
            [
             0.1111111111111111,
             "#46039f"
            ],
            [
             0.2222222222222222,
             "#7201a8"
            ],
            [
             0.3333333333333333,
             "#9c179e"
            ],
            [
             0.4444444444444444,
             "#bd3786"
            ],
            [
             0.5555555555555556,
             "#d8576b"
            ],
            [
             0.6666666666666666,
             "#ed7953"
            ],
            [
             0.7777777777777778,
             "#fb9f3a"
            ],
            [
             0.8888888888888888,
             "#fdca26"
            ],
            [
             1,
             "#f0f921"
            ]
           ],
           "sequentialminus": [
            [
             0,
             "#0d0887"
            ],
            [
             0.1111111111111111,
             "#46039f"
            ],
            [
             0.2222222222222222,
             "#7201a8"
            ],
            [
             0.3333333333333333,
             "#9c179e"
            ],
            [
             0.4444444444444444,
             "#bd3786"
            ],
            [
             0.5555555555555556,
             "#d8576b"
            ],
            [
             0.6666666666666666,
             "#ed7953"
            ],
            [
             0.7777777777777778,
             "#fb9f3a"
            ],
            [
             0.8888888888888888,
             "#fdca26"
            ],
            [
             1,
             "#f0f921"
            ]
           ]
          },
          "colorway": [
           "#636efa",
           "#EF553B",
           "#00cc96",
           "#ab63fa",
           "#FFA15A",
           "#19d3f3",
           "#FF6692",
           "#B6E880",
           "#FF97FF",
           "#FECB52"
          ],
          "font": {
           "color": "#2a3f5f"
          },
          "geo": {
           "bgcolor": "white",
           "lakecolor": "white",
           "landcolor": "#E5ECF6",
           "showlakes": true,
           "showland": true,
           "subunitcolor": "white"
          },
          "hoverlabel": {
           "align": "left"
          },
          "hovermode": "closest",
          "mapbox": {
           "style": "light"
          },
          "paper_bgcolor": "white",
          "plot_bgcolor": "#E5ECF6",
          "polar": {
           "angularaxis": {
            "gridcolor": "white",
            "linecolor": "white",
            "ticks": ""
           },
           "bgcolor": "#E5ECF6",
           "radialaxis": {
            "gridcolor": "white",
            "linecolor": "white",
            "ticks": ""
           }
          },
          "scene": {
           "xaxis": {
            "backgroundcolor": "#E5ECF6",
            "gridcolor": "white",
            "gridwidth": 2,
            "linecolor": "white",
            "showbackground": true,
            "ticks": "",
            "zerolinecolor": "white"
           },
           "yaxis": {
            "backgroundcolor": "#E5ECF6",
            "gridcolor": "white",
            "gridwidth": 2,
            "linecolor": "white",
            "showbackground": true,
            "ticks": "",
            "zerolinecolor": "white"
           },
           "zaxis": {
            "backgroundcolor": "#E5ECF6",
            "gridcolor": "white",
            "gridwidth": 2,
            "linecolor": "white",
            "showbackground": true,
            "ticks": "",
            "zerolinecolor": "white"
           }
          },
          "shapedefaults": {
           "line": {
            "color": "#2a3f5f"
           }
          },
          "ternary": {
           "aaxis": {
            "gridcolor": "white",
            "linecolor": "white",
            "ticks": ""
           },
           "baxis": {
            "gridcolor": "white",
            "linecolor": "white",
            "ticks": ""
           },
           "bgcolor": "#E5ECF6",
           "caxis": {
            "gridcolor": "white",
            "linecolor": "white",
            "ticks": ""
           }
          },
          "title": {
           "x": 0.05
          },
          "xaxis": {
           "automargin": true,
           "gridcolor": "white",
           "linecolor": "white",
           "ticks": "",
           "title": {
            "standoff": 15
           },
           "zerolinecolor": "white",
           "zerolinewidth": 2
          },
          "yaxis": {
           "automargin": true,
           "gridcolor": "white",
           "linecolor": "white",
           "ticks": "",
           "title": {
            "standoff": 15
           },
           "zerolinecolor": "white",
           "zerolinewidth": 2
          }
         }
        }
       }
      }
     },
     "metadata": {},
     "output_type": "display_data"
    }
   ],
   "source": [
    "fig = make_subplots(rows=2, cols=1, specs=[[{'type': 'polar'}]*1]*2)\n",
    "fig.add_trace(go.Scatterpolar(\n",
    "\tname = \"my name\",\n",
    "        r = melted_df['Value'],\n",
    "        theta = melted_df['field'],\n",
    "        mode = 'markers',\n",
    "    ), 1, 1)"
   ]
  },
  {
   "cell_type": "code",
   "execution_count": 182,
   "metadata": {},
   "outputs": [
    {
     "data": {
      "text/plain": [
       "'level3'"
      ]
     },
     "execution_count": 182,
     "metadata": {},
     "output_type": "execute_result"
    }
   ],
   "source": [
    "mylevel"
   ]
  },
  {
   "cell_type": "code",
   "execution_count": null,
   "metadata": {},
   "outputs": [],
   "source": [
    "import plotly.graph_objects as go\n",
    "from plotly.subplots import make_subplots\n",
    "\n",
    "ncol = 3\n",
    "nrow = math.ceil(len(frames.keys()) / ncol)\n",
    "\n",
    "# fig = make_subplots(rows=nrow, cols=ncol)\n",
    "fig = make_subplots(rows=nrow, cols=ncol, specs=[[{'type': 'polar'}]*ncol]*nrow, subplot_titles=tuple(frames.keys()))\n",
    "# fig = make_subplots(rows=nrow, cols=ncol, specs=[[{'type': 'polar'}]*nrow]*ncol)\n",
    "# fig = make_subplots(rows=nrow, cols=ncol, start_cell=\"top-left\")\n",
    "colors = {'recorded': 'blue', 'Enhanced record minimum standard': 'red'}\n",
    "\n",
    "current_column = 1\n",
    "current_row = 1\n",
    "# frames.keys()\n",
    "for a_hp in frames.keys():\n",
    "\tdf = frames[a_hp]\n",
    "\tprint(a_hp)\n",
    "\tif mylevel == 'level3':\n",
    "\t\tmerged_df = pd.merge(df, df_erms, on = 'field')\n",
    "\t\tmelted_df = pd.melt(merged_df, id_vars = ['field'], var_name = 'Value Set', value_name = 'Value')\n",
    "\t\tmelted_df.sort_values('Value Set', inplace = True)\n",
    "\t\t# TODO distinguish ERMS from data with colors on 'Value Set'\n",
    "\t\tmelted_df_color = melted_df['Value Set'].map(colors)\n",
    "\t\tfig.add_trace(go.Scatterpolar(\n",
    "\t\t\tname = a_hp,\n",
    "\t\t\tr = melted_df['Value'],\n",
    "\t\t\ttheta = melted_df['field'],\n",
    "\t\t\tmode = 'markers',\n",
    "\t\t\tmarker=dict(color = melted_df_color),\n",
    "\t\t\t# marker_color = melted_df['Value Set'], # \"blue\",\n",
    "\t\t\thovertemplate=\"<br>\".join([\n",
    "\t\t\t\"value: %{r}\",\n",
    "\t\t\t\"field: %{theta}\"\n",
    "\t\t])), \n",
    "\t\t\tcurrent_row, current_column)\n",
    "\telse:\n",
    "\t\tvariable = df_res['field'].tolist()\n",
    "\t\tvalue = df_res['recorded'].tolist()\n",
    "\t\tdf = pd.DataFrame(dict(\n",
    "\t\t\tvalue = value,\n",
    "\t\t\tvariable = variable))\n",
    "\t\tfig.add_trace(go.Scatterpolar(\n",
    "\t\t\tname = a_hp,\n",
    "\t\t\tr = melted_df['Value'],\n",
    "\t\t\ttheta = melted_df['field'],\n",
    "\t\t\tmode = 'markers',\n",
    "\t\t\tmarker_color = \"blue\",\n",
    "\t\t\thovertemplate=\"<br>\".join([\n",
    "\t\t\t\"value: %{r}\",\n",
    "\t\t\t\"field: %{theta}\"\n",
    "\t\t])), \n",
    "\t\t\tcurrent_row, current_column)\n",
    "\t\t\n",
    "\tcurrent_column = current_column + 1\n",
    "\t# end of line..\n",
    "\tif current_column == ncol:\n",
    "\t\tcurrent_row = current_row + 1\n",
    "\t\tcurrent_column = 1\n",
    "fig.show()"
   ]
  },
  {
   "cell_type": "code",
   "execution_count": 236,
   "metadata": {},
   "outputs": [
    {
     "name": "stdout",
     "output_type": "stream",
     "text": [
      "EAMENA-0192340\n",
      "EAMENA-0192357\n",
      "EAMENA-0182044\n",
      "EAMENA-0182035\n"
     ]
    },
    {
     "data": {
      "application/vnd.plotly.v1+json": {
       "config": {
        "plotlyServerURL": "https://plot.ly"
       },
       "data": [
        {
         "fill": "toself",
         "fillcolor": "red",
         "hovertemplate": "value: %{r}<br>field: %{theta}",
         "line": {
          "color": "red"
         },
         "name": "  erms",
         "r": [
          0,
          1,
          0,
          0,
          0,
          0,
          0,
          1,
          1,
          0,
          0,
          0,
          1,
          1,
          0,
          1,
          0,
          1,
          0,
          0,
          0,
          0,
          0,
          1,
          0,
          0,
          1,
          1
         ],
         "showlegend": false,
         "subplot": "polar",
         "theta": [
          "Cadastral Reference",
          "Cultural Period Certainty",
          "Damage Extent Type",
          "Designation",
          "Designation From Date",
          "Designation To Date",
          "Disturbance Cause Assignment Assessor Name - Actor",
          "Disturbance Cause Category Type",
          "GE Imagery Acquisition Date",
          "General Description",
          "General Description Type",
          "Geometry Extent Certainty",
          "Grid ID",
          "Heritage Place Function",
          "Heritage Place Type",
          "Investigator Role Type",
          "Name Type",
          "Overall Site Morphology Type",
          "Related Detailed Condition Resource",
          "Resource Name",
          "Resource Orientation",
          "Site Feature Arrangement Type",
          "Site Feature Form Type",
          "Site Feature Interpretation Certainty",
          "Site Feature Number Type",
          "Site Feature Shape Type",
          "Threat Category",
          "Threat Cause Type"
         ],
         "type": "scatterpolar"
        },
        {
         "hovertemplate": "value: %{r}<br>field: %{theta}",
         "marker": {
          "color": "blue"
         },
         "mode": "markers",
         "name": "EAMENA-0192340",
         "r": [
          1,
          1,
          0,
          0,
          1,
          1,
          1,
          1,
          0,
          0,
          0,
          1,
          1,
          1,
          1,
          1,
          1,
          1,
          1,
          1,
          1,
          1,
          1,
          1,
          1,
          1,
          1,
          1
         ],
         "subplot": "polar",
         "theta": [
          "Investigator Role Type",
          "GE Imagery Acquisition Date",
          "Resource Name",
          "Name Type",
          "Heritage Place Type",
          "General Description Type",
          "General Description",
          "Heritage Place Function",
          "Designation",
          "Designation From Date",
          "Designation To Date",
          "Geometry Extent Certainty",
          "Grid ID",
          "Cadastral Reference",
          "Resource Orientation",
          "Overall Site Morphology Type",
          "Cultural Period Certainty",
          "Site Feature Form Type",
          "Site Feature Shape Type",
          "Site Feature Arrangement Type",
          "Site Feature Number Type",
          "Site Feature Interpretation Certainty",
          "Damage Extent Type",
          "Disturbance Cause Category Type",
          "Disturbance Cause Assignment Assessor Name - Actor",
          "Threat Category",
          "Threat Cause Type",
          "Related Detailed Condition Resource"
         ],
         "type": "scatterpolar"
        },
        {
         "fill": "toself",
         "fillcolor": "red",
         "hovertemplate": "value: %{r}<br>field: %{theta}",
         "line": {
          "color": "red"
         },
         "name": "  erms",
         "r": [
          0,
          1,
          0,
          0,
          0,
          0,
          0,
          1,
          1,
          0,
          0,
          0,
          1,
          1,
          0,
          1,
          0,
          1,
          0,
          0,
          0,
          0,
          0,
          1,
          0,
          0,
          1,
          1
         ],
         "showlegend": false,
         "subplot": "polar2",
         "theta": [
          "Cadastral Reference",
          "Cultural Period Certainty",
          "Damage Extent Type",
          "Designation",
          "Designation From Date",
          "Designation To Date",
          "Disturbance Cause Assignment Assessor Name - Actor",
          "Disturbance Cause Category Type",
          "GE Imagery Acquisition Date",
          "General Description",
          "General Description Type",
          "Geometry Extent Certainty",
          "Grid ID",
          "Heritage Place Function",
          "Heritage Place Type",
          "Investigator Role Type",
          "Name Type",
          "Overall Site Morphology Type",
          "Related Detailed Condition Resource",
          "Resource Name",
          "Resource Orientation",
          "Site Feature Arrangement Type",
          "Site Feature Form Type",
          "Site Feature Interpretation Certainty",
          "Site Feature Number Type",
          "Site Feature Shape Type",
          "Threat Category",
          "Threat Cause Type"
         ],
         "type": "scatterpolar"
        },
        {
         "hovertemplate": "value: %{r}<br>field: %{theta}",
         "marker": {
          "color": "blue"
         },
         "mode": "markers",
         "name": "EAMENA-0192357",
         "r": [
          1,
          1,
          0,
          0,
          1,
          1,
          1,
          1,
          0,
          0,
          0,
          1,
          1,
          1,
          1,
          1,
          1,
          1,
          1,
          1,
          1,
          1,
          1,
          1,
          1,
          1,
          1,
          1
         ],
         "subplot": "polar2",
         "theta": [
          "Investigator Role Type",
          "GE Imagery Acquisition Date",
          "Resource Name",
          "Name Type",
          "Heritage Place Type",
          "General Description Type",
          "General Description",
          "Heritage Place Function",
          "Designation",
          "Designation From Date",
          "Designation To Date",
          "Geometry Extent Certainty",
          "Grid ID",
          "Cadastral Reference",
          "Resource Orientation",
          "Overall Site Morphology Type",
          "Cultural Period Certainty",
          "Site Feature Form Type",
          "Site Feature Shape Type",
          "Site Feature Arrangement Type",
          "Site Feature Number Type",
          "Site Feature Interpretation Certainty",
          "Damage Extent Type",
          "Disturbance Cause Category Type",
          "Disturbance Cause Assignment Assessor Name - Actor",
          "Threat Category",
          "Threat Cause Type",
          "Related Detailed Condition Resource"
         ],
         "type": "scatterpolar"
        },
        {
         "fill": "toself",
         "fillcolor": "red",
         "hovertemplate": "value: %{r}<br>field: %{theta}",
         "line": {
          "color": "red"
         },
         "name": "  erms",
         "r": [
          0,
          1,
          0,
          0,
          0,
          0,
          0,
          1,
          1,
          0,
          0,
          0,
          1,
          1,
          0,
          1,
          0,
          1,
          0,
          0,
          0,
          0,
          0,
          1,
          0,
          0,
          1,
          1
         ],
         "showlegend": false,
         "subplot": "polar4",
         "theta": [
          "Cadastral Reference",
          "Cultural Period Certainty",
          "Damage Extent Type",
          "Designation",
          "Designation From Date",
          "Designation To Date",
          "Disturbance Cause Assignment Assessor Name - Actor",
          "Disturbance Cause Category Type",
          "GE Imagery Acquisition Date",
          "General Description",
          "General Description Type",
          "Geometry Extent Certainty",
          "Grid ID",
          "Heritage Place Function",
          "Heritage Place Type",
          "Investigator Role Type",
          "Name Type",
          "Overall Site Morphology Type",
          "Related Detailed Condition Resource",
          "Resource Name",
          "Resource Orientation",
          "Site Feature Arrangement Type",
          "Site Feature Form Type",
          "Site Feature Interpretation Certainty",
          "Site Feature Number Type",
          "Site Feature Shape Type",
          "Threat Category",
          "Threat Cause Type"
         ],
         "type": "scatterpolar"
        },
        {
         "hovertemplate": "value: %{r}<br>field: %{theta}",
         "marker": {
          "color": "blue"
         },
         "mode": "markers",
         "name": "EAMENA-0182044",
         "r": [
          1,
          1,
          1,
          1,
          1,
          0,
          0,
          1,
          0,
          0,
          0,
          1,
          1,
          1,
          1,
          1,
          1,
          1,
          0,
          0,
          0,
          0,
          1,
          1,
          1,
          1,
          1,
          1
         ],
         "subplot": "polar4",
         "theta": [
          "Investigator Role Type",
          "GE Imagery Acquisition Date",
          "Resource Name",
          "Name Type",
          "Heritage Place Type",
          "General Description Type",
          "General Description",
          "Heritage Place Function",
          "Designation",
          "Designation From Date",
          "Designation To Date",
          "Geometry Extent Certainty",
          "Grid ID",
          "Cadastral Reference",
          "Resource Orientation",
          "Overall Site Morphology Type",
          "Cultural Period Certainty",
          "Site Feature Form Type",
          "Site Feature Shape Type",
          "Site Feature Arrangement Type",
          "Site Feature Number Type",
          "Site Feature Interpretation Certainty",
          "Damage Extent Type",
          "Disturbance Cause Category Type",
          "Disturbance Cause Assignment Assessor Name - Actor",
          "Threat Category",
          "Threat Cause Type",
          "Related Detailed Condition Resource"
         ],
         "type": "scatterpolar"
        },
        {
         "fill": "toself",
         "fillcolor": "red",
         "hovertemplate": "value: %{r}<br>field: %{theta}",
         "line": {
          "color": "red"
         },
         "name": "  erms",
         "r": [
          0,
          1,
          0,
          0,
          0,
          0,
          0,
          1,
          1,
          0,
          0,
          0,
          1,
          1,
          0,
          1,
          0,
          1,
          0,
          0,
          0,
          0,
          0,
          1,
          0,
          0,
          1,
          1
         ],
         "showlegend": false,
         "subplot": "polar5",
         "theta": [
          "Cadastral Reference",
          "Cultural Period Certainty",
          "Damage Extent Type",
          "Designation",
          "Designation From Date",
          "Designation To Date",
          "Disturbance Cause Assignment Assessor Name - Actor",
          "Disturbance Cause Category Type",
          "GE Imagery Acquisition Date",
          "General Description",
          "General Description Type",
          "Geometry Extent Certainty",
          "Grid ID",
          "Heritage Place Function",
          "Heritage Place Type",
          "Investigator Role Type",
          "Name Type",
          "Overall Site Morphology Type",
          "Related Detailed Condition Resource",
          "Resource Name",
          "Resource Orientation",
          "Site Feature Arrangement Type",
          "Site Feature Form Type",
          "Site Feature Interpretation Certainty",
          "Site Feature Number Type",
          "Site Feature Shape Type",
          "Threat Category",
          "Threat Cause Type"
         ],
         "type": "scatterpolar"
        },
        {
         "hovertemplate": "value: %{r}<br>field: %{theta}",
         "marker": {
          "color": "blue"
         },
         "mode": "markers",
         "name": "EAMENA-0182035",
         "r": [
          1,
          1,
          0,
          0,
          1,
          0,
          0,
          1,
          0,
          0,
          0,
          1,
          1,
          1,
          1,
          1,
          1,
          0,
          0,
          0,
          0,
          0,
          1,
          0,
          0,
          1,
          1,
          1
         ],
         "subplot": "polar5",
         "theta": [
          "Investigator Role Type",
          "GE Imagery Acquisition Date",
          "Resource Name",
          "Name Type",
          "Heritage Place Type",
          "General Description Type",
          "General Description",
          "Heritage Place Function",
          "Designation",
          "Designation From Date",
          "Designation To Date",
          "Geometry Extent Certainty",
          "Grid ID",
          "Cadastral Reference",
          "Resource Orientation",
          "Overall Site Morphology Type",
          "Cultural Period Certainty",
          "Site Feature Form Type",
          "Site Feature Shape Type",
          "Site Feature Arrangement Type",
          "Site Feature Number Type",
          "Site Feature Interpretation Certainty",
          "Damage Extent Type",
          "Disturbance Cause Category Type",
          "Disturbance Cause Assignment Assessor Name - Actor",
          "Threat Category",
          "Threat Cause Type",
          "Related Detailed Condition Resource"
         ],
         "type": "scatterpolar"
        }
       ],
       "layout": {
        "annotations": [
         {
          "font": {
           "size": 16
          },
          "showarrow": false,
          "text": "EAMENA-0192340",
          "x": 0.14444444444444446,
          "xanchor": "center",
          "xref": "paper",
          "y": 1,
          "yanchor": "bottom",
          "yref": "paper"
         },
         {
          "font": {
           "size": 16
          },
          "showarrow": false,
          "text": "EAMENA-0192357",
          "x": 0.5,
          "xanchor": "center",
          "xref": "paper",
          "y": 1,
          "yanchor": "bottom",
          "yref": "paper"
         },
         {
          "font": {
           "size": 16
          },
          "showarrow": false,
          "text": "EAMENA-0182044",
          "x": 0.8555555555555556,
          "xanchor": "center",
          "xref": "paper",
          "y": 1,
          "yanchor": "bottom",
          "yref": "paper"
         },
         {
          "font": {
           "size": 16
          },
          "showarrow": false,
          "text": "EAMENA-0182035",
          "x": 0.14444444444444446,
          "xanchor": "center",
          "xref": "paper",
          "y": 0.375,
          "yanchor": "bottom",
          "yref": "paper"
         }
        ],
        "polar": {
         "domain": {
          "x": [
           0,
           0.2888888888888889
          ],
          "y": [
           0.625,
           1
          ]
         }
        },
        "polar2": {
         "domain": {
          "x": [
           0.35555555555555557,
           0.6444444444444445
          ],
          "y": [
           0.625,
           1
          ]
         }
        },
        "polar3": {
         "domain": {
          "x": [
           0.7111111111111111,
           1
          ],
          "y": [
           0.625,
           1
          ]
         }
        },
        "polar4": {
         "domain": {
          "x": [
           0,
           0.2888888888888889
          ],
          "y": [
           0,
           0.375
          ]
         }
        },
        "polar5": {
         "domain": {
          "x": [
           0.35555555555555557,
           0.6444444444444445
          ],
          "y": [
           0,
           0.375
          ]
         }
        },
        "polar6": {
         "domain": {
          "x": [
           0.7111111111111111,
           1
          ],
          "y": [
           0,
           0.375
          ]
         }
        },
        "template": {
         "data": {
          "bar": [
           {
            "error_x": {
             "color": "#2a3f5f"
            },
            "error_y": {
             "color": "#2a3f5f"
            },
            "marker": {
             "line": {
              "color": "#E5ECF6",
              "width": 0.5
             },
             "pattern": {
              "fillmode": "overlay",
              "size": 10,
              "solidity": 0.2
             }
            },
            "type": "bar"
           }
          ],
          "barpolar": [
           {
            "marker": {
             "line": {
              "color": "#E5ECF6",
              "width": 0.5
             },
             "pattern": {
              "fillmode": "overlay",
              "size": 10,
              "solidity": 0.2
             }
            },
            "type": "barpolar"
           }
          ],
          "carpet": [
           {
            "aaxis": {
             "endlinecolor": "#2a3f5f",
             "gridcolor": "white",
             "linecolor": "white",
             "minorgridcolor": "white",
             "startlinecolor": "#2a3f5f"
            },
            "baxis": {
             "endlinecolor": "#2a3f5f",
             "gridcolor": "white",
             "linecolor": "white",
             "minorgridcolor": "white",
             "startlinecolor": "#2a3f5f"
            },
            "type": "carpet"
           }
          ],
          "choropleth": [
           {
            "colorbar": {
             "outlinewidth": 0,
             "ticks": ""
            },
            "type": "choropleth"
           }
          ],
          "contour": [
           {
            "colorbar": {
             "outlinewidth": 0,
             "ticks": ""
            },
            "colorscale": [
             [
              0,
              "#0d0887"
             ],
             [
              0.1111111111111111,
              "#46039f"
             ],
             [
              0.2222222222222222,
              "#7201a8"
             ],
             [
              0.3333333333333333,
              "#9c179e"
             ],
             [
              0.4444444444444444,
              "#bd3786"
             ],
             [
              0.5555555555555556,
              "#d8576b"
             ],
             [
              0.6666666666666666,
              "#ed7953"
             ],
             [
              0.7777777777777778,
              "#fb9f3a"
             ],
             [
              0.8888888888888888,
              "#fdca26"
             ],
             [
              1,
              "#f0f921"
             ]
            ],
            "type": "contour"
           }
          ],
          "contourcarpet": [
           {
            "colorbar": {
             "outlinewidth": 0,
             "ticks": ""
            },
            "type": "contourcarpet"
           }
          ],
          "heatmap": [
           {
            "colorbar": {
             "outlinewidth": 0,
             "ticks": ""
            },
            "colorscale": [
             [
              0,
              "#0d0887"
             ],
             [
              0.1111111111111111,
              "#46039f"
             ],
             [
              0.2222222222222222,
              "#7201a8"
             ],
             [
              0.3333333333333333,
              "#9c179e"
             ],
             [
              0.4444444444444444,
              "#bd3786"
             ],
             [
              0.5555555555555556,
              "#d8576b"
             ],
             [
              0.6666666666666666,
              "#ed7953"
             ],
             [
              0.7777777777777778,
              "#fb9f3a"
             ],
             [
              0.8888888888888888,
              "#fdca26"
             ],
             [
              1,
              "#f0f921"
             ]
            ],
            "type": "heatmap"
           }
          ],
          "heatmapgl": [
           {
            "colorbar": {
             "outlinewidth": 0,
             "ticks": ""
            },
            "colorscale": [
             [
              0,
              "#0d0887"
             ],
             [
              0.1111111111111111,
              "#46039f"
             ],
             [
              0.2222222222222222,
              "#7201a8"
             ],
             [
              0.3333333333333333,
              "#9c179e"
             ],
             [
              0.4444444444444444,
              "#bd3786"
             ],
             [
              0.5555555555555556,
              "#d8576b"
             ],
             [
              0.6666666666666666,
              "#ed7953"
             ],
             [
              0.7777777777777778,
              "#fb9f3a"
             ],
             [
              0.8888888888888888,
              "#fdca26"
             ],
             [
              1,
              "#f0f921"
             ]
            ],
            "type": "heatmapgl"
           }
          ],
          "histogram": [
           {
            "marker": {
             "pattern": {
              "fillmode": "overlay",
              "size": 10,
              "solidity": 0.2
             }
            },
            "type": "histogram"
           }
          ],
          "histogram2d": [
           {
            "colorbar": {
             "outlinewidth": 0,
             "ticks": ""
            },
            "colorscale": [
             [
              0,
              "#0d0887"
             ],
             [
              0.1111111111111111,
              "#46039f"
             ],
             [
              0.2222222222222222,
              "#7201a8"
             ],
             [
              0.3333333333333333,
              "#9c179e"
             ],
             [
              0.4444444444444444,
              "#bd3786"
             ],
             [
              0.5555555555555556,
              "#d8576b"
             ],
             [
              0.6666666666666666,
              "#ed7953"
             ],
             [
              0.7777777777777778,
              "#fb9f3a"
             ],
             [
              0.8888888888888888,
              "#fdca26"
             ],
             [
              1,
              "#f0f921"
             ]
            ],
            "type": "histogram2d"
           }
          ],
          "histogram2dcontour": [
           {
            "colorbar": {
             "outlinewidth": 0,
             "ticks": ""
            },
            "colorscale": [
             [
              0,
              "#0d0887"
             ],
             [
              0.1111111111111111,
              "#46039f"
             ],
             [
              0.2222222222222222,
              "#7201a8"
             ],
             [
              0.3333333333333333,
              "#9c179e"
             ],
             [
              0.4444444444444444,
              "#bd3786"
             ],
             [
              0.5555555555555556,
              "#d8576b"
             ],
             [
              0.6666666666666666,
              "#ed7953"
             ],
             [
              0.7777777777777778,
              "#fb9f3a"
             ],
             [
              0.8888888888888888,
              "#fdca26"
             ],
             [
              1,
              "#f0f921"
             ]
            ],
            "type": "histogram2dcontour"
           }
          ],
          "mesh3d": [
           {
            "colorbar": {
             "outlinewidth": 0,
             "ticks": ""
            },
            "type": "mesh3d"
           }
          ],
          "parcoords": [
           {
            "line": {
             "colorbar": {
              "outlinewidth": 0,
              "ticks": ""
             }
            },
            "type": "parcoords"
           }
          ],
          "pie": [
           {
            "automargin": true,
            "type": "pie"
           }
          ],
          "scatter": [
           {
            "fillpattern": {
             "fillmode": "overlay",
             "size": 10,
             "solidity": 0.2
            },
            "type": "scatter"
           }
          ],
          "scatter3d": [
           {
            "line": {
             "colorbar": {
              "outlinewidth": 0,
              "ticks": ""
             }
            },
            "marker": {
             "colorbar": {
              "outlinewidth": 0,
              "ticks": ""
             }
            },
            "type": "scatter3d"
           }
          ],
          "scattercarpet": [
           {
            "marker": {
             "colorbar": {
              "outlinewidth": 0,
              "ticks": ""
             }
            },
            "type": "scattercarpet"
           }
          ],
          "scattergeo": [
           {
            "marker": {
             "colorbar": {
              "outlinewidth": 0,
              "ticks": ""
             }
            },
            "type": "scattergeo"
           }
          ],
          "scattergl": [
           {
            "marker": {
             "colorbar": {
              "outlinewidth": 0,
              "ticks": ""
             }
            },
            "type": "scattergl"
           }
          ],
          "scattermapbox": [
           {
            "marker": {
             "colorbar": {
              "outlinewidth": 0,
              "ticks": ""
             }
            },
            "type": "scattermapbox"
           }
          ],
          "scatterpolar": [
           {
            "marker": {
             "colorbar": {
              "outlinewidth": 0,
              "ticks": ""
             }
            },
            "type": "scatterpolar"
           }
          ],
          "scatterpolargl": [
           {
            "marker": {
             "colorbar": {
              "outlinewidth": 0,
              "ticks": ""
             }
            },
            "type": "scatterpolargl"
           }
          ],
          "scatterternary": [
           {
            "marker": {
             "colorbar": {
              "outlinewidth": 0,
              "ticks": ""
             }
            },
            "type": "scatterternary"
           }
          ],
          "surface": [
           {
            "colorbar": {
             "outlinewidth": 0,
             "ticks": ""
            },
            "colorscale": [
             [
              0,
              "#0d0887"
             ],
             [
              0.1111111111111111,
              "#46039f"
             ],
             [
              0.2222222222222222,
              "#7201a8"
             ],
             [
              0.3333333333333333,
              "#9c179e"
             ],
             [
              0.4444444444444444,
              "#bd3786"
             ],
             [
              0.5555555555555556,
              "#d8576b"
             ],
             [
              0.6666666666666666,
              "#ed7953"
             ],
             [
              0.7777777777777778,
              "#fb9f3a"
             ],
             [
              0.8888888888888888,
              "#fdca26"
             ],
             [
              1,
              "#f0f921"
             ]
            ],
            "type": "surface"
           }
          ],
          "table": [
           {
            "cells": {
             "fill": {
              "color": "#EBF0F8"
             },
             "line": {
              "color": "white"
             }
            },
            "header": {
             "fill": {
              "color": "#C8D4E3"
             },
             "line": {
              "color": "white"
             }
            },
            "type": "table"
           }
          ]
         },
         "layout": {
          "annotationdefaults": {
           "arrowcolor": "#2a3f5f",
           "arrowhead": 0,
           "arrowwidth": 1
          },
          "autotypenumbers": "strict",
          "coloraxis": {
           "colorbar": {
            "outlinewidth": 0,
            "ticks": ""
           }
          },
          "colorscale": {
           "diverging": [
            [
             0,
             "#8e0152"
            ],
            [
             0.1,
             "#c51b7d"
            ],
            [
             0.2,
             "#de77ae"
            ],
            [
             0.3,
             "#f1b6da"
            ],
            [
             0.4,
             "#fde0ef"
            ],
            [
             0.5,
             "#f7f7f7"
            ],
            [
             0.6,
             "#e6f5d0"
            ],
            [
             0.7,
             "#b8e186"
            ],
            [
             0.8,
             "#7fbc41"
            ],
            [
             0.9,
             "#4d9221"
            ],
            [
             1,
             "#276419"
            ]
           ],
           "sequential": [
            [
             0,
             "#0d0887"
            ],
            [
             0.1111111111111111,
             "#46039f"
            ],
            [
             0.2222222222222222,
             "#7201a8"
            ],
            [
             0.3333333333333333,
             "#9c179e"
            ],
            [
             0.4444444444444444,
             "#bd3786"
            ],
            [
             0.5555555555555556,
             "#d8576b"
            ],
            [
             0.6666666666666666,
             "#ed7953"
            ],
            [
             0.7777777777777778,
             "#fb9f3a"
            ],
            [
             0.8888888888888888,
             "#fdca26"
            ],
            [
             1,
             "#f0f921"
            ]
           ],
           "sequentialminus": [
            [
             0,
             "#0d0887"
            ],
            [
             0.1111111111111111,
             "#46039f"
            ],
            [
             0.2222222222222222,
             "#7201a8"
            ],
            [
             0.3333333333333333,
             "#9c179e"
            ],
            [
             0.4444444444444444,
             "#bd3786"
            ],
            [
             0.5555555555555556,
             "#d8576b"
            ],
            [
             0.6666666666666666,
             "#ed7953"
            ],
            [
             0.7777777777777778,
             "#fb9f3a"
            ],
            [
             0.8888888888888888,
             "#fdca26"
            ],
            [
             1,
             "#f0f921"
            ]
           ]
          },
          "colorway": [
           "#636efa",
           "#EF553B",
           "#00cc96",
           "#ab63fa",
           "#FFA15A",
           "#19d3f3",
           "#FF6692",
           "#B6E880",
           "#FF97FF",
           "#FECB52"
          ],
          "font": {
           "color": "#2a3f5f"
          },
          "geo": {
           "bgcolor": "white",
           "lakecolor": "white",
           "landcolor": "#E5ECF6",
           "showlakes": true,
           "showland": true,
           "subunitcolor": "white"
          },
          "hoverlabel": {
           "align": "left"
          },
          "hovermode": "closest",
          "mapbox": {
           "style": "light"
          },
          "paper_bgcolor": "white",
          "plot_bgcolor": "#E5ECF6",
          "polar": {
           "angularaxis": {
            "gridcolor": "white",
            "linecolor": "white",
            "ticks": ""
           },
           "bgcolor": "#E5ECF6",
           "radialaxis": {
            "gridcolor": "white",
            "linecolor": "white",
            "ticks": ""
           }
          },
          "scene": {
           "xaxis": {
            "backgroundcolor": "#E5ECF6",
            "gridcolor": "white",
            "gridwidth": 2,
            "linecolor": "white",
            "showbackground": true,
            "ticks": "",
            "zerolinecolor": "white"
           },
           "yaxis": {
            "backgroundcolor": "#E5ECF6",
            "gridcolor": "white",
            "gridwidth": 2,
            "linecolor": "white",
            "showbackground": true,
            "ticks": "",
            "zerolinecolor": "white"
           },
           "zaxis": {
            "backgroundcolor": "#E5ECF6",
            "gridcolor": "white",
            "gridwidth": 2,
            "linecolor": "white",
            "showbackground": true,
            "ticks": "",
            "zerolinecolor": "white"
           }
          },
          "shapedefaults": {
           "line": {
            "color": "#2a3f5f"
           }
          },
          "ternary": {
           "aaxis": {
            "gridcolor": "white",
            "linecolor": "white",
            "ticks": ""
           },
           "baxis": {
            "gridcolor": "white",
            "linecolor": "white",
            "ticks": ""
           },
           "bgcolor": "#E5ECF6",
           "caxis": {
            "gridcolor": "white",
            "linecolor": "white",
            "ticks": ""
           }
          },
          "title": {
           "x": 0.05
          },
          "xaxis": {
           "automargin": true,
           "gridcolor": "white",
           "linecolor": "white",
           "ticks": "",
           "title": {
            "standoff": 15
           },
           "zerolinecolor": "white",
           "zerolinewidth": 2
          },
          "yaxis": {
           "automargin": true,
           "gridcolor": "white",
           "linecolor": "white",
           "ticks": "",
           "title": {
            "standoff": 15
           },
           "zerolinecolor": "white",
           "zerolinewidth": 2
          }
         }
        }
       }
      }
     },
     "metadata": {},
     "output_type": "display_data"
    }
   ],
   "source": [
    "import plotly.graph_objects as go\n",
    "from plotly.subplots import make_subplots\n",
    "\n",
    "ncol = 3\n",
    "nrow = math.ceil(len(frames.keys()) / ncol)\n",
    "\n",
    "# fig = make_subplots(rows=nrow, cols=ncol)\n",
    "fig = make_subplots(rows=nrow, cols=ncol, specs=[[{'type': 'polar'}]*ncol]*nrow, subplot_titles=tuple(frames.keys()))\n",
    "# fig = make_subplots(rows=nrow, cols=ncol, specs=[[{'type': 'polar'}]*nrow]*ncol)\n",
    "# fig = make_subplots(rows=nrow, cols=ncol, start_cell=\"top-left\")\n",
    "colors = {'recorded': 'blue', 'Enhanced record minimum standard': 'red'}\n",
    "\n",
    "current_column = 1\n",
    "current_row = 1\n",
    "# frames.keys()\n",
    "for a_hp in frames.keys():\n",
    "\tdf = frames[a_hp]\n",
    "\tprint(a_hp)\n",
    "\tif mylevel == 'level3':\n",
    "\t\tfig.add_trace(go.Scatterpolar(\n",
    "\t\t\tname =  \"  erms\",\n",
    "\t\t\tr = df_erms['value'],\n",
    "\t\t\ttheta = df_erms['field'],\n",
    "\t\t\t# mode = 'markers',\n",
    "\t\t\t# marker=dict(color = melted_df_color),\n",
    "\t\t\t# marker_color = \"red\",\n",
    "\t\t\tfill='toself',\n",
    "\t\t\tfillcolor='red',\n",
    "\t\t\tline_color='red',\n",
    "\t\t\thovertemplate=\"<br>\".join([\n",
    "\t\t\t\"value: %{r}\",\n",
    "\t\t\t\"field: %{theta}\"]),\n",
    "\t\t\tshowlegend=False), \n",
    "\t\t\tcurrent_row, current_column)\t\t\n",
    "\t\tfig.add_trace(go.Scatterpolar(\n",
    "\t\t\tname = a_hp,\n",
    "\t\t\tr = df['recorded'],\n",
    "\t\t\ttheta = df['field'],\n",
    "\t\t\tmode = 'markers',\n",
    "\t\t\t# marker=dict(color = melted_df_color),\n",
    "\t\t\tmarker_color = \"blue\",\n",
    "\t\t\thovertemplate=\"<br>\".join([\n",
    "\t\t\t\"value: %{r}\",\n",
    "\t\t\t\"field: %{theta}\"])\n",
    "\t\t\t), \n",
    "\t\t\tcurrent_row, current_column)\n",
    "\telse:\n",
    "\t\tfig.add_trace(go.Scatterpolar(\n",
    "\t\t\tname = a_hp,\n",
    "\t\t\tr = df['recorded'],\n",
    "\t\t\ttheta = df['field'],\n",
    "\t\t\tmode = 'markers',\n",
    "\t\t\tmarker_color = \"blue\",\n",
    "\t\t\thovertemplate=\"<br>\".join([\n",
    "\t\t\t\"value: %{r}\",\n",
    "\t\t\t\"field: %{theta}\"]),\n",
    "\t\t\tshowlegend=False), \n",
    "\t\t\tcurrent_row, current_column)\n",
    "\tcurrent_column = current_column + 1\n",
    "\t# end of line..\n",
    "\tif current_column == ncol:\n",
    "\t\tcurrent_row = current_row + 1\n",
    "\t\tcurrent_column = 1\n",
    "fig.show()"
   ]
  },
  {
   "cell_type": "code",
   "execution_count": 201,
   "metadata": {},
   "outputs": [
    {
     "data": {
      "text/plain": [
       "Index(['Enhanced record minimum standard'], dtype='object')"
      ]
     },
     "execution_count": 201,
     "metadata": {},
     "output_type": "execute_result"
    }
   ],
   "source": [
    "frames['EAMENA-0192340']\n",
    "type(df_erms)\n",
    "dd = df_erms.to_frame()\n",
    "dd.columns"
   ]
  },
  {
   "cell_type": "code",
   "execution_count": 55,
   "metadata": {},
   "outputs": [
    {
     "ename": "TypeError",
     "evalue": "can only concatenate list (not \"str\") to list",
     "output_type": "error",
     "traceback": [
      "\u001b[1;31m---------------------------------------------------------------------------\u001b[0m",
      "\u001b[1;31mTypeError\u001b[0m                                 Traceback (most recent call last)",
      "\u001b[1;32mc:\\Rprojects\\eamena-arches-dev\\dev\\data_quality\\erms-1.ipynb Cell 27\u001b[0m line \u001b[0;36m1\n\u001b[1;32m----> <a href='vscode-notebook-cell:/c%3A/Rprojects/eamena-arches-dev/dev/data_quality/erms-1.ipynb#X33sZmlsZQ%3D%3D?line=0'>1</a>\u001b[0m tit \u001b[39m=\u001b[39m selected_hp \u001b[39m+\u001b[39;49m \u001b[39m\"\u001b[39;49m\u001b[39m - \u001b[39;49m\u001b[39m\"\u001b[39;49m \u001b[39m+\u001b[39m mylevel \n\u001b[0;32m      <a href='vscode-notebook-cell:/c%3A/Rprojects/eamena-arches-dev/dev/data_quality/erms-1.ipynb#X33sZmlsZQ%3D%3D?line=1'>2</a>\u001b[0m \u001b[39mif\u001b[39;00m mylevel \u001b[39m==\u001b[39m \u001b[39m'\u001b[39m\u001b[39mlevel3\u001b[39m\u001b[39m'\u001b[39m:\n\u001b[0;32m      <a href='vscode-notebook-cell:/c%3A/Rprojects/eamena-arches-dev/dev/data_quality/erms-1.ipynb#X33sZmlsZQ%3D%3D?line=2'>3</a>\u001b[0m     \u001b[39m# plot the ERMS\u001b[39;00m\n\u001b[0;32m      <a href='vscode-notebook-cell:/c%3A/Rprojects/eamena-arches-dev/dev/data_quality/erms-1.ipynb#X33sZmlsZQ%3D%3D?line=3'>4</a>\u001b[0m     colors \u001b[39m=\u001b[39m {\u001b[39m'\u001b[39m\u001b[39mrecorded\u001b[39m\u001b[39m'\u001b[39m: \u001b[39m'\u001b[39m\u001b[39mblue\u001b[39m\u001b[39m'\u001b[39m, \u001b[39m'\u001b[39m\u001b[39mEnhanced record minimum standard\u001b[39m\u001b[39m'\u001b[39m: \u001b[39m'\u001b[39m\u001b[39mred\u001b[39m\u001b[39m'\u001b[39m}\n",
      "\u001b[1;31mTypeError\u001b[0m: can only concatenate list (not \"str\") to list"
     ]
    }
   ],
   "source": [
    "tit = selected_hp + \" - \" + mylevel \n",
    "if mylevel == 'level3':\n",
    "    # plot the ERMS\n",
    "    colors = {'recorded': 'blue', 'Enhanced record minimum standard': 'red'}\n",
    "    merged_df = pd.merge(l_erms[0], df_erms, on = 'field')\n",
    "    melted_df = pd.melt(merged_df, id_vars = ['field'], var_name = 'Value Set', value_name = 'Value')\n",
    "    melted_df.sort_values('Value Set', inplace = True)\n",
    "    if verbose:\n",
    "        print(melted_df.to_markdown())\n",
    "    fig = px.line_polar(melted_df, r='Value', theta='field', color = 'Value Set',\n",
    "                        line_close = False, color_discrete_map = colors, title = tit)\n",
    "    fig.show()\n",
    "else:\n",
    "    variable = df_res['field'].tolist()\n",
    "    value = df_res['recorded'].tolist()\n",
    "    df = pd.DataFrame(dict(\n",
    "        value = value,\n",
    "        variable = variable))\n",
    "    fig = px.line_polar(df, r = 'value', theta = 'variable', \n",
    "                        line_close = True, title = tit)\n",
    "    fig.show()"
   ]
  },
  {
   "cell_type": "markdown",
   "metadata": {},
   "source": [
    "## Development\n",
    "\n",
    "* add a loop to work with 1..n HP\n",
    "* improve the spider plot output (inetrvals, grid layout, etc.)\n",
    "* connect the main DB"
   ]
  },
  {
   "cell_type": "markdown",
   "metadata": {},
   "source": [
    "## Questions\n",
    "\n",
    "* What kind of structure should we select to provide a list of HP (dataframe, list, etc.)?\n",
    "* Do we want to have this ERMS assessement upstream (on the BU)?\n",
    "* Do the code chunk are useful is this document, if not they can be grouped in functions, and these functions called from the Jupyter notebook (ex: `!python myfunction.py`)?"
   ]
  }
 ],
 "metadata": {
  "kernelspec": {
   "display_name": "Python 3",
   "language": "python",
   "name": "python3"
  },
  "language_info": {
   "codemirror_mode": {
    "name": "ipython",
    "version": 3
   },
   "file_extension": ".py",
   "mimetype": "text/x-python",
   "name": "python",
   "nbconvert_exporter": "python",
   "pygments_lexer": "ipython3",
   "version": "3.11.2"
  },
  "orig_nbformat": 4
 },
 "nbformat": 4,
 "nbformat_minor": 2
}
