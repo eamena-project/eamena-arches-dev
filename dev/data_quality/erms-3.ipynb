{
 "cells": [
  {
   "cell_type": "markdown",
   "metadata": {},
   "source": [
    "# Enhanced record minimum standard compliance of Heritage Places"
   ]
  },
  {
   "cell_type": "markdown",
   "metadata": {},
   "source": [
    "Enhanced record minimum standard (ERMS) is the minimum standard of data enhancement for heritage places. The report of Heritage Places ERMS is done downstream, once the heritages places (HP) have been recorded in the database "
   ]
  },
  {
   "cell_type": "markdown",
   "metadata": {},
   "source": [
    "### Import libraries"
   ]
  },
  {
   "cell_type": "code",
   "execution_count": 1,
   "metadata": {},
   "outputs": [],
   "source": [
    "import pandas as pd\n",
    "import numpy as np\n",
    "import requests\n",
    "import ipywidgets as widgets\n",
    "from IPython.display import display\n",
    "import plotly.express as px\n",
    "import math\n",
    "import plotly.graph_objects as go\n",
    "from plotly.subplots import make_subplots"
   ]
  },
  {
   "cell_type": "markdown",
   "metadata": {},
   "source": [
    "### Constants\n",
    "\n",
    "Load:\n",
    "- the UUID of HP in its resource model (RM)\n",
    "- the read-only user `eamenar` parameters (see: [creating-a-read-only-user](https://github.com/eamena-project/eamena-arches-dev/tree/main/dev/postgres#creating-a-read-only-user)) on the training EAMENA instance\n",
    "- ..."
   ]
  },
  {
   "cell_type": "markdown",
   "metadata": {},
   "source": [
    "Paste the GeoJSON API URL and query. It could take a long time depending on the number of HPs (~ 1 minute = 500 HP on my computer)."
   ]
  },
  {
   "cell_type": "code",
   "execution_count": 2,
   "metadata": {},
   "outputs": [],
   "source": [
    "GEOJSON_URL = \"https://database.eamena.org/api/search/export_results?paging-filter=1&tiles=true&format=geojson&reportlink=false&precision=6&total=553&advanced-search=%5B%7B%22op%22%3A%22and%22%2C%2234cfea78-c2c0-11ea-9026-02e7594ce0a0%22%3A%7B%22op%22%3A%22~%22%2C%22lang%22%3A%22en%22%2C%22val%22%3A%22Sistan%22%7D%2C%2234cfea87-c2c0-11ea-9026-02e7594ce0a0%22%3A%7B%22op%22%3A%22%22%2C%22val%22%3A%22e6e6abc5-3470-45c0-880e-8b29959672d2%22%7D%7D%2C%7B%22op%22%3A%22or%22%2C%2234cfea69-c2c0-11ea-9026-02e7594ce0a0%22%3A%7B%22op%22%3A%22%22%2C%22val%22%3A%22%22%7D%2C%2234cfea73-c2c0-11ea-9026-02e7594ce0a0%22%3A%7B%22op%22%3A%22%22%2C%22val%22%3A%22%22%7D%2C%2234cfea43-c2c0-11ea-9026-02e7594ce0a0%22%3A%7B%22op%22%3A%22%22%2C%22val%22%3A%224ed99706-2d90-449a-9a70-700fc5326fb1%22%7D%2C%2234cfea5d-c2c0-11ea-9026-02e7594ce0a0%22%3A%7B%22op%22%3A%22%22%2C%22val%22%3A%22%22%7D%2C%2234cfea95-c2c0-11ea-9026-02e7594ce0a0%22%3A%7B%22op%22%3A%22~%22%2C%22lang%22%3A%22en%22%2C%22val%22%3A%22%22%7D%7D%5D&resource-type-filter=%5B%7B%22graphid%22%3A%2234cfe98e-c2c0-11ea-9026-02e7594ce0a0%22%2C%22name%22%3A%22Heritage%20Place%22%2C%22inverted%22%3Afalse%7D%5D&map-filter=%7B%22type%22%3A%22FeatureCollection%22%2C%22features%22%3A%5B%7B%22id%22%3A%22ae42a8fbd96c8f995719a2688f2fad87%22%2C%22type%22%3A%22Feature%22%2C%22properties%22%3A%7B%22buffer%22%3A%7B%22width%22%3A0%2C%22unit%22%3A%22m%22%7D%2C%22inverted%22%3Afalse%7D%2C%22geometry%22%3A%7B%22coordinates%22%3A%5B%5B%5B61.50347983389591%2C31.348261268106413%5D%2C%5B61.43021147281084%2C31.09323453208181%5D%2C%5B61.44626174025299%2C30.892059795871234%5D%2C%5B61.85928759678521%2C30.736782130955646%5D%2C%5B62.03615110465293%2C31.065294359669124%5D%2C%5B61.76357322781999%2C31.32515741066436%5D%2C%5B61.55549851268111%2C31.371359451751502%5D%2C%5B61.52844879971215%2C31.36425292277393%5D%2C%5B61.50347983389591%2C31.348261268106413%5D%5D%5D%2C%22type%22%3A%22Polygon%22%7D%7D%5D%7D\"\n",
    "resp = requests.get(GEOJSON_URL)\n",
    "hps = resp.json()"
   ]
  },
  {
   "cell_type": "markdown",
   "metadata": {},
   "source": [
    "## Heritage place selection\n",
    "\n",
    "Loop through the list"
   ]
  },
  {
   "cell_type": "markdown",
   "metadata": {},
   "source": [
    "ℹ️ cells are editable, for example `verbose` can be changed to `True`"
   ]
  },
  {
   "cell_type": "code",
   "execution_count": 3,
   "metadata": {},
   "outputs": [
    {
     "name": "stdout",
     "output_type": "stream",
     "text": [
      "first HPs:\n",
      "['EAMENA-0192340', 'EAMENA-0192357', 'EAMENA-0182044', 'EAMENA-0182044', 'EAMENA-0182048']\n"
     ]
    }
   ],
   "source": [
    "verbose = True\n",
    "selected_hp = []\n",
    "for i in range(len(hps['features'])):\n",
    "\tselected_hp.append(hps['features'][i]['properties']['EAMENA ID'])\n",
    "if verbose:\n",
    "\tprint(\"first HPs:\")\n",
    "\tprint(selected_hp[:5])"
   ]
  },
  {
   "cell_type": "markdown",
   "metadata": {},
   "source": [
    "## Heritage places field with their UUIDs\n",
    "\n",
    "Read the [erms-template-readonly.tsv](https://github.com/eamena-project/eamena-arches-dev/blob/main/dev/data_quality/erms-template-readonly.tsv) file (see: [README.md](https://github.com/eamena-project/eamena-arches-dev/tree/main/dev/data_quality#erms)). Will only show the complete rows (drop `NA`)"
   ]
  },
  {
   "cell_type": "code",
   "execution_count": 4,
   "metadata": {},
   "outputs": [
    {
     "name": "stdout",
     "output_type": "stream",
     "text": [
      "|    | level1                    | level2                            | level3                                             | uuid_sql                             | Enhanced record minimum standard                                                                                                                         |\n",
      "|---:|:--------------------------|:----------------------------------|:---------------------------------------------------|:-------------------------------------|:---------------------------------------------------------------------------------------------------------------------------------------------------------|\n",
      "|  0 | ASSESSMENT SUMMARY        | ASSESSMENT ACTIVITY               | Investigator Role Type                             | d2e1ab96-cc05-11ea-a292-02e7594ce0a0 | Yes                                                                                                                                                      |\n",
      "|  1 | ASSESSMENT SUMMARY        | ASSESSMENT ACTIVITY               | GE Imagery Acquisition Date                        | b9643302-0407-11eb-a11c-0a5a9a4f6ef7 | Yes, if an acquisition date is available. If there are a range of images the earliest and most recent dates should be added.                             |\n",
      "|  2 | RESOURCE SUMMARY          | RESOURCE NAME                     | Resource Name                                      | 34cfe9dd-c2c0-11ea-9026-02e7594ce0a0 | No (a site identified via remote sensing may not have an identifiable name, and the EAMENA Database will automatically generate a UiD).                  |\n",
      "|  3 | RESOURCE SUMMARY          | RESOURCE NAME                     | Name Type                                          | 34cfea97-c2c0-11ea-9026-02e7594ce0a0 | No                                                                                                                                                       |\n",
      "|  4 | RESOURCE SUMMARY          | RESOURCE SUMMARY                  | Heritage Place Type                                | 34cfe9ef-c2c0-11ea-9026-02e7594ce0a0 | No                                                                                                                                                       |\n",
      "|  5 | RESOURCE SUMMARY          | RESOURCE DESCRIPTION              | General Description Type                           | 34cfea91-c2c0-11ea-9026-02e7594ce0a0 | No                                                                                                                                                       |\n",
      "|  6 | RESOURCE SUMMARY          | RESOURCE DESCRIPTION              | General Description                                | 34cfea77-c2c0-11ea-9026-02e7594ce0a0 | No                                                                                                                                                       |\n",
      "|  7 | RESOURCE SUMMARY          | HERITAGE RESOURCE CLASSIFICATION  | Heritage Place Function                            | 34cfea4a-c2c0-11ea-9026-02e7594ce0a0 | Yes (including ‘Unknown’)                                                                                                                                |\n",
      "|  8 | RESOURCE SUMMARY          | DESIGNATION                       | Designation                                        | d9abdfdb-c6a3-11ea-a292-02e7594ce0a0 | No                                                                                                                                                       |\n",
      "|  9 | RESOURCE SUMMARY          | DESIGNATION                       | Designation From Date                              | d9abdfe0-c6a3-11ea-a292-02e7594ce0a0 | No                                                                                                                                                       |\n",
      "| 10 | RESOURCE SUMMARY          | DESIGNATION                       | Designation To Date                                | d9abdfdf-c6a3-11ea-a292-02e7594ce0a0 | No                                                                                                                                                       |\n",
      "| 11 | GEOMETRIES                | GEOMETRIES                        | Geometry Extent Certainty                          | 5348cf6c-c2c5-11ea-9026-02e7594ce0a0 | No                                                                                                                                                       |\n",
      "| 12 | GEOGRAPHY                 | GEOGRAPHY                         | Grid ID                                            | 34cfea5d-c2c0-11ea-9026-02e7594ce0a0 | Yes                                                                                                                                                      |\n",
      "| 13 | GEOGRAPHY                 | GEOGRAPHY                         | Cadastral Reference                                | 34cfea95-c2c0-11ea-9026-02e7594ce0a0 | No                                                                                                                                                       |\n",
      "| 14 | GEOGRAPHY                 | GEOGRAPHY                         | Resource Orientation                               | 34cfea73-c2c0-11ea-9026-02e7594ce0a0 | No                                                                                                                                                       |\n",
      "| 15 | ARCHAEOLOGICAL ASSESSMENT | ARCHAEOLOGICAL ASSESSMENT         | Overall Site Morphology Type                       | 34cfe9e6-c2c0-11ea-9026-02e7594ce0a0 | Yes                                                                                                                                                      |\n",
      "| 16 | ARCHAEOLOGICAL ASSESSMENT | PERIODIZATION                     | Cultural Period Certainty                          | 38cff738-c77b-11ea-a292-02e7594ce0a0 | Yes                                                                                                                                                      |\n",
      "| 17 | ARCHAEOLOGICAL ASSESSMENT | SITE FEATURES and INTERPRETATIONS | Site Feature Form Type                             | 34cfea9a-c2c0-11ea-9026-02e7594ce0a0 | No, unless there is no Site Feature Interpretation Type (eg. If the interpretation field is listed ‘Unknown’ then the Feature field should be filled in) |\n",
      "| 18 | ARCHAEOLOGICAL ASSESSMENT | SITE FEATURES and INTERPRETATIONS | Site Feature Shape Type                            | 34cfea19-c2c0-11ea-9026-02e7594ce0a0 | No                                                                                                                                                       |\n",
      "| 19 | ARCHAEOLOGICAL ASSESSMENT | SITE FEATURES and INTERPRETATIONS | Site Feature Arrangement Type                      | 34cfe9e9-c2c0-11ea-9026-02e7594ce0a0 | No                                                                                                                                                       |\n",
      "| 20 | ARCHAEOLOGICAL ASSESSMENT | SITE FEATURES and INTERPRETATIONS | Site Feature Number Type                           | 34cfe9f8-c2c0-11ea-9026-02e7594ce0a0 | No                                                                                                                                                       |\n",
      "| 21 | ARCHAEOLOGICAL ASSESSMENT | SITE FEATURES and INTERPRETATIONS | Site Feature Interpretation Certainty              | 34cfea44-c2c0-11ea-9026-02e7594ce0a0 | Yes                                                                                                                                                      |\n",
      "| 22 | CONDITION ASSESSMENT      | CONDITION ASSESSMENT              | Damage Extent Type                                 | 34cfea8e-c2c0-11ea-9026-02e7594ce0a0 | No                                                                                                                                                       |\n",
      "| 23 | CONDITION ASSESSMENT      | DISTURBANCES                      | Disturbance Cause Category Type                    | 34cfea68-c2c0-11ea-9026-02e7594ce0a0 | Yes                                                                                                                                                      |\n",
      "| 24 | CONDITION ASSESSMENT      | DISTURBANCES                      | Disturbance Cause Assignment Assessor Name - Actor | e3cc8c5a-c772-11ea-a292-02e7594ce0a0 | No                                                                                                                                                       |\n",
      "| 25 | CONDITION ASSESSMENT      | THREATS                           | Threat Category                                    | 34cfea90-c2c0-11ea-9026-02e7594ce0a0 | Yes (including 'No Visible/Known')                                                                                                                       |\n",
      "| 26 | CONDITION ASSESSMENT      | THREATS                           | Threat Cause Type                                  | 34cfea5c-c2c0-11ea-9026-02e7594ce0a0 | Yes                                                                                                                                                      |\n",
      "| 27 | CONDITION ASSESSMENT      | CONDITION ASSESSMENT              | Related Detailed Condition Resource                | 34cfea64-c2c0-11ea-9026-02e7594ce0a0 | No                                                                                                                                                       |\n"
     ]
    }
   ],
   "source": [
    "tsv_file = \"https://raw.githubusercontent.com/eamena-project/eamena-arches-dev/main/dev/data_quality/erms-template-readonly.tsv\"\n",
    "df = pd.read_csv(tsv_file, delimiter = '\\t')\n",
    "df = df[[\"level1\", \"level2\", \"level3\", \"uuid_sql\", \"Enhanced record minimum standard\"]]\n",
    "df_listed = df.dropna()\n",
    "df_listed.reset_index(drop=True, inplace=True)\n",
    "if verbose:\n",
    "    print(df_listed.to_markdown())"
   ]
  },
  {
   "cell_type": "markdown",
   "metadata": {},
   "source": [
    "ℹ️ pros/cons for TSV and XLSX structures:\n",
    "\t- TSV is automatically rendered on GitHub + search; it is a plain text format\n",
    "\t- XLSX is easy to edit (filter, sort, conditional formating)"
   ]
  },
  {
   "cell_type": "markdown",
   "metadata": {},
   "source": [
    "Select the level of aggregation (`level1`, `level2` or `level3`) on which the spider plot will be done"
   ]
  },
  {
   "cell_type": "code",
   "execution_count": 21,
   "metadata": {},
   "outputs": [
    {
     "data": {
      "application/vnd.jupyter.widget-view+json": {
       "model_id": "ece8355e429046568d81d57bc85f0b1a",
       "version_major": 2,
       "version_minor": 0
      },
      "text/plain": [
       "RadioButtons(description='Select an option:', options=('level1', 'level2', 'level3'), value='level1')"
      ]
     },
     "metadata": {},
     "output_type": "display_data"
    }
   ],
   "source": [
    "options=['level1', 'level2', 'level3']\n",
    "radio_button = widgets.RadioButtons(\n",
    "    options=options,\n",
    "    description='Select an option:'\n",
    ")\n",
    "display(radio_button)"
   ]
  },
  {
   "cell_type": "markdown",
   "metadata": {},
   "source": [
    "Plot the ERMS dataframe for this level"
   ]
  },
  {
   "cell_type": "code",
   "execution_count": null,
   "metadata": {},
   "outputs": [],
   "source": [
    "# mylevel = 'level3'\n",
    "mylevel = radio_button.value\n",
    "df_erms = df_listed.copy()\n",
    "df_erms['Enhanced record minimum standard'] = df_erms['Enhanced record minimum standard'].str.contains(r'Yes', case = False, na = False, regex = True).astype(int)\n",
    "df_erms = df_erms[[mylevel, \"Enhanced record minimum standard\"]]\n",
    "df_erms.columns.values[0] = \"field\"\n",
    "df_erms = df_erms.groupby(['field'])['Enhanced record minimum standard'].sum()\n",
    "print(f'You selected: {mylevel}')\n",
    "df_erms = pd.DataFrame({\n",
    "\t'field': df_erms.index,\n",
    "\t'value' : df_erms.values\n",
    "\t\t\t\t  })\n",
    "print(df_erms.to_markdown(index=False))"
   ]
  },
  {
   "cell_type": "markdown",
   "metadata": {},
   "source": [
    "Gather data from the HP and ERMS (creates an empty dataframe, loop over UUIDs to collect data from the selected HP {{selected_hp}}, and fill the empty dataframe)"
   ]
  },
  {
   "cell_type": "code",
   "execution_count": 25,
   "metadata": {},
   "outputs": [
    {
     "data": {
      "application/vnd.jupyter.widget-view+json": {
       "model_id": "9152e46306fd47c19bde0daedca158d7",
       "version_major": 2,
       "version_minor": 0
      },
      "text/plain": [
       "RadioButtons(description='Select a Grid Square:', options=('E61N30-34', 'E61N30-43', 'E61N30-44', 'E61N31-12',…"
      ]
     },
     "metadata": {},
     "output_type": "display_data"
    }
   ],
   "source": [
    "\n",
    "# Filter by GS\n",
    "l_GridIDs = []\n",
    "for i in range(len(selected_hp)):\n",
    "\tl_GridIDs.append(hps['features'][i]['properties']['Grid ID'])\n",
    "l_GridIDs = list(set(l_GridIDs))\n",
    "l_GridIDs.sort()\n",
    "radio_button_1 = widgets.RadioButtons(\n",
    "    options = l_GridIDs,\n",
    "    description = 'Select a Grid Square:'\n",
    ")\n",
    "display(radio_button_1)"
   ]
  },
  {
   "cell_type": "code",
   "execution_count": 64,
   "metadata": {},
   "outputs": [],
   "source": [
    "# subset on GS\n",
    "hps_to_keep = list()\n",
    "hps_gs = dict()\n",
    "hps_gs['features'] = []\n",
    "# len(selected_hp)\n",
    "if verbose:\n",
    "\tprint(\"Grid Square to keep: \" + radio_button_1.value)\n",
    "for i in range(len(selected_hp)):\n",
    "\tgs_current = hps['features'][i]['properties']['Grid ID']\n",
    "\tif gs_current ==  radio_button_1.value:\n",
    "\t\thps_to_keep.append(i)\n",
    "feat = [hps['features'][i] for i in hps_to_keep]\n",
    "for i in range(len(feat)):\n",
    "\thps_gs['features'].append(feat[i])"
   ]
  },
  {
   "cell_type": "code",
   "execution_count": 68,
   "metadata": {},
   "outputs": [
    {
     "name": "stdout",
     "output_type": "stream",
     "text": [
      "first HPs in a GS:\n",
      "['EAMENA-0192224', 'EAMENA-0192237', 'EAMENA-0192298', 'EAMENA-0192305', 'EAMENA-0192308']\n"
     ]
    }
   ],
   "source": [
    "# selected_hp[i]\n",
    "verbose = True\n",
    "selected_hp_gs = []\n",
    "for i in range(len(hps_gs['features'])):\n",
    "\tselected_hp_gs.append(hps_gs['features'][i]['properties']['EAMENA ID'])\n",
    "if verbose:\n",
    "\tprint(\"first HPs in the selected GS:\")\n",
    "\tprint(selected_hp_gs[:5])"
   ]
  },
  {
   "cell_type": "code",
   "execution_count": 71,
   "metadata": {},
   "outputs": [
    {
     "data": {
      "text/plain": [
       "9"
      ]
     },
     "execution_count": 71,
     "metadata": {},
     "output_type": "execute_result"
    }
   ],
   "source": [
    "len(selected_hp_gs)"
   ]
  },
  {
   "cell_type": "code",
   "execution_count": 73,
   "metadata": {},
   "outputs": [],
   "source": [
    "verbose = False\n",
    "level_values = df_listed[mylevel].unique()\n",
    "l_erms = []\n",
    "dict_hps = {} \n",
    "# len(selected_hp)\n",
    "for i in range(len(selected_hp_gs)):\n",
    "    a_hp = selected_hp_gs[i]\n",
    "    if verbose:\n",
    "        print(\"read: \" + a_hp)\n",
    "    # create an empty df\n",
    "    df_res = pd.DataFrame({'field': level_values, \n",
    "                        'recorded': np.repeat(0, len(level_values)).tolist()})\n",
    "    # len(df_res)\n",
    "    if mylevel == 'level3':\n",
    "        for j in range(len(df_res)):\n",
    "            a_field = df_res.iloc[j][\"field\"]\n",
    "            try:\n",
    "                a_value = hps_gs['features'][i]['properties'][a_field]\n",
    "                df_res.at[j, 'recorded'] = df_res.loc[j]['recorded'] + 1\n",
    "                if verbose:\n",
    "                    print(\"field: '\" + a_field + \"' has value :'\" + str(a_value) + \"'\")\n",
    "            # TODO: change to warning?\n",
    "            except:\n",
    "                if verbose:\n",
    "                    print(\" /!\\ '\" + a_field + \"' listed in the ERMS dataframe is a level1 or level2 value, but is not a field listed in the database\")\n",
    "            # if a_value is not None:\n",
    "            #     # row_num = df_res[df_res['field'] == df_field].index.tolist()\n",
    "            #     df_res.at[j, 'recorded'] = df_res.loc[j]['recorded'] + 1\n",
    "        l_erms.append(df_res)\n",
    "        dict_hps[a_hp] = df_res\n",
    "    else:\n",
    "        for j in range(len(df_res)):\n",
    "            a_field = df_res.iloc[j][\"field\"]\n",
    "            # a_field = 'ASSESSMENT SUMMARY'\n",
    "            dict_df_listed = dict(zip(df_listed.columns, range(len(df_listed.columns))))\n",
    "            s = df_listed.rename(columns = dict_df_listed).stack()\n",
    "            a = s[(s == a_field)].index.tolist()\n",
    "            # print (a)\n",
    "            l_fields = []\n",
    "            for r,c in a:\n",
    "                # look in level3\n",
    "                # print(r)\n",
    "                # print(df_listed.loc[r, \"level3\"])\n",
    "                l_fields.append(df_listed.loc[r, \"level3\"])\n",
    "            l_fields = list(set(l_fields))\n",
    "            # print(a_field + \" => \" + str(l_fields))\n",
    "            for a_field_level3 in l_fields:\n",
    "                    try:\n",
    "                        a_value = hps_gs['features'][i]['properties'][a_field_level3]\n",
    "                        df_res.at[j, 'recorded'] = df_res.loc[j]['recorded'] + 1\n",
    "                        if verbose:\n",
    "                            print(\"field: '\" + a_field_level3 + \"' has value :'\" + str(a_value) + \"'\")\n",
    "                    # TODO: change to warning?\n",
    "                    except:\n",
    "                        if verbose:\n",
    "                            print(\" /!\\ '\" + a_field_level3 + \"' listed in the ERMS dataframe is a level1 or level2 value, but is not a field listed in the database\")\n",
    "                    # if a_value is not None:\n",
    "                    #     # row_num = df_res[df_res['field'] == df_field].index.tolist()\n",
    "                    #     df_res.at[j, 'recorded'] = df_res.loc[j]['recorded'] + 1\n",
    "            l_erms.append(df_res)\n",
    "            dict_hps[a_hp] = df_res\n",
    "# dict_hps   "
   ]
  },
  {
   "cell_type": "markdown",
   "metadata": {},
   "source": [
    "## Spider diagram"
   ]
  },
  {
   "cell_type": "markdown",
   "metadata": {},
   "source": [
    "Show spider diagram with number of fields recorded. If `level3` has been selected, the spider plot will also plot the ERMS. "
   ]
  },
  {
   "cell_type": "code",
   "execution_count": 75,
   "metadata": {},
   "outputs": [
    {
     "data": {
      "application/vnd.plotly.v1+json": {
       "config": {
        "plotlyServerURL": "https://plot.ly"
       },
       "data": [
        {
         "fill": "toself",
         "fillcolor": "red",
         "hovertemplate": "value: %{r}<br>field: %{theta}",
         "line": {
          "color": "red"
         },
         "name": "  erms",
         "r": [
          0,
          1,
          0,
          0,
          0,
          0,
          0,
          1,
          1,
          0,
          0,
          0,
          1,
          1,
          0,
          1,
          0,
          1,
          0,
          0,
          0,
          0,
          0,
          1,
          0,
          0,
          1,
          1
         ],
         "showlegend": false,
         "subplot": "polar",
         "theta": [
          "Cadastral Reference",
          "Cultural Period Certainty",
          "Damage Extent Type",
          "Designation",
          "Designation From Date",
          "Designation To Date",
          "Disturbance Cause Assignment Assessor Name - Actor",
          "Disturbance Cause Category Type",
          "GE Imagery Acquisition Date",
          "General Description",
          "General Description Type",
          "Geometry Extent Certainty",
          "Grid ID",
          "Heritage Place Function",
          "Heritage Place Type",
          "Investigator Role Type",
          "Name Type",
          "Overall Site Morphology Type",
          "Related Detailed Condition Resource",
          "Resource Name",
          "Resource Orientation",
          "Site Feature Arrangement Type",
          "Site Feature Form Type",
          "Site Feature Interpretation Certainty",
          "Site Feature Number Type",
          "Site Feature Shape Type",
          "Threat Category",
          "Threat Cause Type"
         ],
         "type": "scatterpolar"
        },
        {
         "hovertemplate": "value: %{r}<br>field: %{theta}",
         "marker": {
          "color": "blue"
         },
         "mode": "markers",
         "name": "EAMENA-0192224",
         "r": [
          1,
          1,
          1,
          1,
          1,
          1,
          1,
          1,
          1,
          1,
          1,
          1,
          1,
          1,
          1,
          1,
          1,
          1,
          1,
          1,
          1,
          1,
          1,
          1,
          1,
          1,
          1,
          0
         ],
         "subplot": "polar",
         "theta": [
          "Investigator Role Type",
          "GE Imagery Acquisition Date",
          "Resource Name",
          "Name Type",
          "Heritage Place Type",
          "General Description Type",
          "General Description",
          "Heritage Place Function",
          "Designation",
          "Designation From Date",
          "Designation To Date",
          "Geometry Extent Certainty",
          "Grid ID",
          "Cadastral Reference",
          "Resource Orientation",
          "Overall Site Morphology Type",
          "Cultural Period Certainty",
          "Site Feature Form Type",
          "Site Feature Shape Type",
          "Site Feature Arrangement Type",
          "Site Feature Number Type",
          "Site Feature Interpretation Certainty",
          "Damage Extent Type",
          "Disturbance Cause Category Type",
          "Disturbance Cause Assignment Assessor Name - Actor",
          "Threat Category",
          "Threat Cause Type",
          "Related Detailed Condition Resource"
         ],
         "type": "scatterpolar"
        },
        {
         "fill": "toself",
         "fillcolor": "red",
         "hovertemplate": "value: %{r}<br>field: %{theta}",
         "line": {
          "color": "red"
         },
         "name": "  erms",
         "r": [
          0,
          1,
          0,
          0,
          0,
          0,
          0,
          1,
          1,
          0,
          0,
          0,
          1,
          1,
          0,
          1,
          0,
          1,
          0,
          0,
          0,
          0,
          0,
          1,
          0,
          0,
          1,
          1
         ],
         "showlegend": false,
         "subplot": "polar2",
         "theta": [
          "Cadastral Reference",
          "Cultural Period Certainty",
          "Damage Extent Type",
          "Designation",
          "Designation From Date",
          "Designation To Date",
          "Disturbance Cause Assignment Assessor Name - Actor",
          "Disturbance Cause Category Type",
          "GE Imagery Acquisition Date",
          "General Description",
          "General Description Type",
          "Geometry Extent Certainty",
          "Grid ID",
          "Heritage Place Function",
          "Heritage Place Type",
          "Investigator Role Type",
          "Name Type",
          "Overall Site Morphology Type",
          "Related Detailed Condition Resource",
          "Resource Name",
          "Resource Orientation",
          "Site Feature Arrangement Type",
          "Site Feature Form Type",
          "Site Feature Interpretation Certainty",
          "Site Feature Number Type",
          "Site Feature Shape Type",
          "Threat Category",
          "Threat Cause Type"
         ],
         "type": "scatterpolar"
        },
        {
         "hovertemplate": "value: %{r}<br>field: %{theta}",
         "marker": {
          "color": "blue"
         },
         "mode": "markers",
         "name": "EAMENA-0192237",
         "r": [
          1,
          1,
          1,
          1,
          1,
          1,
          1,
          1,
          1,
          1,
          1,
          1,
          1,
          1,
          1,
          1,
          1,
          1,
          1,
          1,
          1,
          1,
          1,
          1,
          1,
          1,
          1,
          0
         ],
         "subplot": "polar2",
         "theta": [
          "Investigator Role Type",
          "GE Imagery Acquisition Date",
          "Resource Name",
          "Name Type",
          "Heritage Place Type",
          "General Description Type",
          "General Description",
          "Heritage Place Function",
          "Designation",
          "Designation From Date",
          "Designation To Date",
          "Geometry Extent Certainty",
          "Grid ID",
          "Cadastral Reference",
          "Resource Orientation",
          "Overall Site Morphology Type",
          "Cultural Period Certainty",
          "Site Feature Form Type",
          "Site Feature Shape Type",
          "Site Feature Arrangement Type",
          "Site Feature Number Type",
          "Site Feature Interpretation Certainty",
          "Damage Extent Type",
          "Disturbance Cause Category Type",
          "Disturbance Cause Assignment Assessor Name - Actor",
          "Threat Category",
          "Threat Cause Type",
          "Related Detailed Condition Resource"
         ],
         "type": "scatterpolar"
        },
        {
         "fill": "toself",
         "fillcolor": "red",
         "hovertemplate": "value: %{r}<br>field: %{theta}",
         "line": {
          "color": "red"
         },
         "name": "  erms",
         "r": [
          0,
          1,
          0,
          0,
          0,
          0,
          0,
          1,
          1,
          0,
          0,
          0,
          1,
          1,
          0,
          1,
          0,
          1,
          0,
          0,
          0,
          0,
          0,
          1,
          0,
          0,
          1,
          1
         ],
         "showlegend": false,
         "subplot": "polar3",
         "theta": [
          "Cadastral Reference",
          "Cultural Period Certainty",
          "Damage Extent Type",
          "Designation",
          "Designation From Date",
          "Designation To Date",
          "Disturbance Cause Assignment Assessor Name - Actor",
          "Disturbance Cause Category Type",
          "GE Imagery Acquisition Date",
          "General Description",
          "General Description Type",
          "Geometry Extent Certainty",
          "Grid ID",
          "Heritage Place Function",
          "Heritage Place Type",
          "Investigator Role Type",
          "Name Type",
          "Overall Site Morphology Type",
          "Related Detailed Condition Resource",
          "Resource Name",
          "Resource Orientation",
          "Site Feature Arrangement Type",
          "Site Feature Form Type",
          "Site Feature Interpretation Certainty",
          "Site Feature Number Type",
          "Site Feature Shape Type",
          "Threat Category",
          "Threat Cause Type"
         ],
         "type": "scatterpolar"
        },
        {
         "hovertemplate": "value: %{r}<br>field: %{theta}",
         "marker": {
          "color": "blue"
         },
         "mode": "markers",
         "name": "EAMENA-0192298",
         "r": [
          1,
          1,
          1,
          1,
          1,
          1,
          1,
          1,
          1,
          1,
          1,
          1,
          1,
          1,
          1,
          1,
          1,
          1,
          1,
          1,
          1,
          1,
          1,
          1,
          1,
          1,
          1,
          0
         ],
         "subplot": "polar3",
         "theta": [
          "Investigator Role Type",
          "GE Imagery Acquisition Date",
          "Resource Name",
          "Name Type",
          "Heritage Place Type",
          "General Description Type",
          "General Description",
          "Heritage Place Function",
          "Designation",
          "Designation From Date",
          "Designation To Date",
          "Geometry Extent Certainty",
          "Grid ID",
          "Cadastral Reference",
          "Resource Orientation",
          "Overall Site Morphology Type",
          "Cultural Period Certainty",
          "Site Feature Form Type",
          "Site Feature Shape Type",
          "Site Feature Arrangement Type",
          "Site Feature Number Type",
          "Site Feature Interpretation Certainty",
          "Damage Extent Type",
          "Disturbance Cause Category Type",
          "Disturbance Cause Assignment Assessor Name - Actor",
          "Threat Category",
          "Threat Cause Type",
          "Related Detailed Condition Resource"
         ],
         "type": "scatterpolar"
        },
        {
         "fill": "toself",
         "fillcolor": "red",
         "hovertemplate": "value: %{r}<br>field: %{theta}",
         "line": {
          "color": "red"
         },
         "name": "  erms",
         "r": [
          0,
          1,
          0,
          0,
          0,
          0,
          0,
          1,
          1,
          0,
          0,
          0,
          1,
          1,
          0,
          1,
          0,
          1,
          0,
          0,
          0,
          0,
          0,
          1,
          0,
          0,
          1,
          1
         ],
         "showlegend": false,
         "subplot": "polar4",
         "theta": [
          "Cadastral Reference",
          "Cultural Period Certainty",
          "Damage Extent Type",
          "Designation",
          "Designation From Date",
          "Designation To Date",
          "Disturbance Cause Assignment Assessor Name - Actor",
          "Disturbance Cause Category Type",
          "GE Imagery Acquisition Date",
          "General Description",
          "General Description Type",
          "Geometry Extent Certainty",
          "Grid ID",
          "Heritage Place Function",
          "Heritage Place Type",
          "Investigator Role Type",
          "Name Type",
          "Overall Site Morphology Type",
          "Related Detailed Condition Resource",
          "Resource Name",
          "Resource Orientation",
          "Site Feature Arrangement Type",
          "Site Feature Form Type",
          "Site Feature Interpretation Certainty",
          "Site Feature Number Type",
          "Site Feature Shape Type",
          "Threat Category",
          "Threat Cause Type"
         ],
         "type": "scatterpolar"
        },
        {
         "hovertemplate": "value: %{r}<br>field: %{theta}",
         "marker": {
          "color": "blue"
         },
         "mode": "markers",
         "name": "EAMENA-0192305",
         "r": [
          1,
          1,
          1,
          1,
          1,
          1,
          1,
          1,
          1,
          1,
          1,
          1,
          1,
          1,
          1,
          1,
          1,
          1,
          1,
          1,
          1,
          1,
          1,
          1,
          1,
          1,
          1,
          0
         ],
         "subplot": "polar4",
         "theta": [
          "Investigator Role Type",
          "GE Imagery Acquisition Date",
          "Resource Name",
          "Name Type",
          "Heritage Place Type",
          "General Description Type",
          "General Description",
          "Heritage Place Function",
          "Designation",
          "Designation From Date",
          "Designation To Date",
          "Geometry Extent Certainty",
          "Grid ID",
          "Cadastral Reference",
          "Resource Orientation",
          "Overall Site Morphology Type",
          "Cultural Period Certainty",
          "Site Feature Form Type",
          "Site Feature Shape Type",
          "Site Feature Arrangement Type",
          "Site Feature Number Type",
          "Site Feature Interpretation Certainty",
          "Damage Extent Type",
          "Disturbance Cause Category Type",
          "Disturbance Cause Assignment Assessor Name - Actor",
          "Threat Category",
          "Threat Cause Type",
          "Related Detailed Condition Resource"
         ],
         "type": "scatterpolar"
        },
        {
         "fill": "toself",
         "fillcolor": "red",
         "hovertemplate": "value: %{r}<br>field: %{theta}",
         "line": {
          "color": "red"
         },
         "name": "  erms",
         "r": [
          0,
          1,
          0,
          0,
          0,
          0,
          0,
          1,
          1,
          0,
          0,
          0,
          1,
          1,
          0,
          1,
          0,
          1,
          0,
          0,
          0,
          0,
          0,
          1,
          0,
          0,
          1,
          1
         ],
         "showlegend": false,
         "subplot": "polar5",
         "theta": [
          "Cadastral Reference",
          "Cultural Period Certainty",
          "Damage Extent Type",
          "Designation",
          "Designation From Date",
          "Designation To Date",
          "Disturbance Cause Assignment Assessor Name - Actor",
          "Disturbance Cause Category Type",
          "GE Imagery Acquisition Date",
          "General Description",
          "General Description Type",
          "Geometry Extent Certainty",
          "Grid ID",
          "Heritage Place Function",
          "Heritage Place Type",
          "Investigator Role Type",
          "Name Type",
          "Overall Site Morphology Type",
          "Related Detailed Condition Resource",
          "Resource Name",
          "Resource Orientation",
          "Site Feature Arrangement Type",
          "Site Feature Form Type",
          "Site Feature Interpretation Certainty",
          "Site Feature Number Type",
          "Site Feature Shape Type",
          "Threat Category",
          "Threat Cause Type"
         ],
         "type": "scatterpolar"
        },
        {
         "hovertemplate": "value: %{r}<br>field: %{theta}",
         "marker": {
          "color": "blue"
         },
         "mode": "markers",
         "name": "EAMENA-0192308",
         "r": [
          1,
          1,
          1,
          1,
          1,
          1,
          1,
          1,
          1,
          1,
          1,
          1,
          1,
          1,
          1,
          1,
          1,
          1,
          1,
          1,
          1,
          1,
          1,
          1,
          1,
          1,
          1,
          0
         ],
         "subplot": "polar5",
         "theta": [
          "Investigator Role Type",
          "GE Imagery Acquisition Date",
          "Resource Name",
          "Name Type",
          "Heritage Place Type",
          "General Description Type",
          "General Description",
          "Heritage Place Function",
          "Designation",
          "Designation From Date",
          "Designation To Date",
          "Geometry Extent Certainty",
          "Grid ID",
          "Cadastral Reference",
          "Resource Orientation",
          "Overall Site Morphology Type",
          "Cultural Period Certainty",
          "Site Feature Form Type",
          "Site Feature Shape Type",
          "Site Feature Arrangement Type",
          "Site Feature Number Type",
          "Site Feature Interpretation Certainty",
          "Damage Extent Type",
          "Disturbance Cause Category Type",
          "Disturbance Cause Assignment Assessor Name - Actor",
          "Threat Category",
          "Threat Cause Type",
          "Related Detailed Condition Resource"
         ],
         "type": "scatterpolar"
        },
        {
         "fill": "toself",
         "fillcolor": "red",
         "hovertemplate": "value: %{r}<br>field: %{theta}",
         "line": {
          "color": "red"
         },
         "name": "  erms",
         "r": [
          0,
          1,
          0,
          0,
          0,
          0,
          0,
          1,
          1,
          0,
          0,
          0,
          1,
          1,
          0,
          1,
          0,
          1,
          0,
          0,
          0,
          0,
          0,
          1,
          0,
          0,
          1,
          1
         ],
         "showlegend": false,
         "subplot": "polar6",
         "theta": [
          "Cadastral Reference",
          "Cultural Period Certainty",
          "Damage Extent Type",
          "Designation",
          "Designation From Date",
          "Designation To Date",
          "Disturbance Cause Assignment Assessor Name - Actor",
          "Disturbance Cause Category Type",
          "GE Imagery Acquisition Date",
          "General Description",
          "General Description Type",
          "Geometry Extent Certainty",
          "Grid ID",
          "Heritage Place Function",
          "Heritage Place Type",
          "Investigator Role Type",
          "Name Type",
          "Overall Site Morphology Type",
          "Related Detailed Condition Resource",
          "Resource Name",
          "Resource Orientation",
          "Site Feature Arrangement Type",
          "Site Feature Form Type",
          "Site Feature Interpretation Certainty",
          "Site Feature Number Type",
          "Site Feature Shape Type",
          "Threat Category",
          "Threat Cause Type"
         ],
         "type": "scatterpolar"
        },
        {
         "hovertemplate": "value: %{r}<br>field: %{theta}",
         "marker": {
          "color": "blue"
         },
         "mode": "markers",
         "name": "EAMENA-0192238",
         "r": [
          1,
          1,
          1,
          1,
          1,
          1,
          1,
          1,
          1,
          1,
          1,
          1,
          1,
          1,
          1,
          1,
          1,
          1,
          1,
          1,
          1,
          1,
          1,
          1,
          1,
          1,
          1,
          0
         ],
         "subplot": "polar6",
         "theta": [
          "Investigator Role Type",
          "GE Imagery Acquisition Date",
          "Resource Name",
          "Name Type",
          "Heritage Place Type",
          "General Description Type",
          "General Description",
          "Heritage Place Function",
          "Designation",
          "Designation From Date",
          "Designation To Date",
          "Geometry Extent Certainty",
          "Grid ID",
          "Cadastral Reference",
          "Resource Orientation",
          "Overall Site Morphology Type",
          "Cultural Period Certainty",
          "Site Feature Form Type",
          "Site Feature Shape Type",
          "Site Feature Arrangement Type",
          "Site Feature Number Type",
          "Site Feature Interpretation Certainty",
          "Damage Extent Type",
          "Disturbance Cause Category Type",
          "Disturbance Cause Assignment Assessor Name - Actor",
          "Threat Category",
          "Threat Cause Type",
          "Related Detailed Condition Resource"
         ],
         "type": "scatterpolar"
        },
        {
         "fill": "toself",
         "fillcolor": "red",
         "hovertemplate": "value: %{r}<br>field: %{theta}",
         "line": {
          "color": "red"
         },
         "name": "  erms",
         "r": [
          0,
          1,
          0,
          0,
          0,
          0,
          0,
          1,
          1,
          0,
          0,
          0,
          1,
          1,
          0,
          1,
          0,
          1,
          0,
          0,
          0,
          0,
          0,
          1,
          0,
          0,
          1,
          1
         ],
         "showlegend": false,
         "subplot": "polar7",
         "theta": [
          "Cadastral Reference",
          "Cultural Period Certainty",
          "Damage Extent Type",
          "Designation",
          "Designation From Date",
          "Designation To Date",
          "Disturbance Cause Assignment Assessor Name - Actor",
          "Disturbance Cause Category Type",
          "GE Imagery Acquisition Date",
          "General Description",
          "General Description Type",
          "Geometry Extent Certainty",
          "Grid ID",
          "Heritage Place Function",
          "Heritage Place Type",
          "Investigator Role Type",
          "Name Type",
          "Overall Site Morphology Type",
          "Related Detailed Condition Resource",
          "Resource Name",
          "Resource Orientation",
          "Site Feature Arrangement Type",
          "Site Feature Form Type",
          "Site Feature Interpretation Certainty",
          "Site Feature Number Type",
          "Site Feature Shape Type",
          "Threat Category",
          "Threat Cause Type"
         ],
         "type": "scatterpolar"
        },
        {
         "hovertemplate": "value: %{r}<br>field: %{theta}",
         "marker": {
          "color": "blue"
         },
         "mode": "markers",
         "name": "EAMENA-0192306",
         "r": [
          1,
          1,
          1,
          1,
          1,
          1,
          1,
          1,
          1,
          1,
          1,
          1,
          1,
          1,
          1,
          1,
          1,
          1,
          1,
          1,
          1,
          1,
          1,
          1,
          1,
          1,
          1,
          0
         ],
         "subplot": "polar7",
         "theta": [
          "Investigator Role Type",
          "GE Imagery Acquisition Date",
          "Resource Name",
          "Name Type",
          "Heritage Place Type",
          "General Description Type",
          "General Description",
          "Heritage Place Function",
          "Designation",
          "Designation From Date",
          "Designation To Date",
          "Geometry Extent Certainty",
          "Grid ID",
          "Cadastral Reference",
          "Resource Orientation",
          "Overall Site Morphology Type",
          "Cultural Period Certainty",
          "Site Feature Form Type",
          "Site Feature Shape Type",
          "Site Feature Arrangement Type",
          "Site Feature Number Type",
          "Site Feature Interpretation Certainty",
          "Damage Extent Type",
          "Disturbance Cause Category Type",
          "Disturbance Cause Assignment Assessor Name - Actor",
          "Threat Category",
          "Threat Cause Type",
          "Related Detailed Condition Resource"
         ],
         "type": "scatterpolar"
        },
        {
         "fill": "toself",
         "fillcolor": "red",
         "hovertemplate": "value: %{r}<br>field: %{theta}",
         "line": {
          "color": "red"
         },
         "name": "  erms",
         "r": [
          0,
          1,
          0,
          0,
          0,
          0,
          0,
          1,
          1,
          0,
          0,
          0,
          1,
          1,
          0,
          1,
          0,
          1,
          0,
          0,
          0,
          0,
          0,
          1,
          0,
          0,
          1,
          1
         ],
         "showlegend": false,
         "subplot": "polar8",
         "theta": [
          "Cadastral Reference",
          "Cultural Period Certainty",
          "Damage Extent Type",
          "Designation",
          "Designation From Date",
          "Designation To Date",
          "Disturbance Cause Assignment Assessor Name - Actor",
          "Disturbance Cause Category Type",
          "GE Imagery Acquisition Date",
          "General Description",
          "General Description Type",
          "Geometry Extent Certainty",
          "Grid ID",
          "Heritage Place Function",
          "Heritage Place Type",
          "Investigator Role Type",
          "Name Type",
          "Overall Site Morphology Type",
          "Related Detailed Condition Resource",
          "Resource Name",
          "Resource Orientation",
          "Site Feature Arrangement Type",
          "Site Feature Form Type",
          "Site Feature Interpretation Certainty",
          "Site Feature Number Type",
          "Site Feature Shape Type",
          "Threat Category",
          "Threat Cause Type"
         ],
         "type": "scatterpolar"
        },
        {
         "hovertemplate": "value: %{r}<br>field: %{theta}",
         "marker": {
          "color": "blue"
         },
         "mode": "markers",
         "name": "EAMENA-0192226",
         "r": [
          1,
          1,
          1,
          1,
          1,
          1,
          1,
          1,
          1,
          1,
          1,
          1,
          1,
          1,
          1,
          1,
          1,
          1,
          1,
          1,
          1,
          1,
          1,
          1,
          1,
          1,
          1,
          0
         ],
         "subplot": "polar8",
         "theta": [
          "Investigator Role Type",
          "GE Imagery Acquisition Date",
          "Resource Name",
          "Name Type",
          "Heritage Place Type",
          "General Description Type",
          "General Description",
          "Heritage Place Function",
          "Designation",
          "Designation From Date",
          "Designation To Date",
          "Geometry Extent Certainty",
          "Grid ID",
          "Cadastral Reference",
          "Resource Orientation",
          "Overall Site Morphology Type",
          "Cultural Period Certainty",
          "Site Feature Form Type",
          "Site Feature Shape Type",
          "Site Feature Arrangement Type",
          "Site Feature Number Type",
          "Site Feature Interpretation Certainty",
          "Damage Extent Type",
          "Disturbance Cause Category Type",
          "Disturbance Cause Assignment Assessor Name - Actor",
          "Threat Category",
          "Threat Cause Type",
          "Related Detailed Condition Resource"
         ],
         "type": "scatterpolar"
        },
        {
         "fill": "toself",
         "fillcolor": "red",
         "hovertemplate": "value: %{r}<br>field: %{theta}",
         "line": {
          "color": "red"
         },
         "name": "  erms",
         "r": [
          0,
          1,
          0,
          0,
          0,
          0,
          0,
          1,
          1,
          0,
          0,
          0,
          1,
          1,
          0,
          1,
          0,
          1,
          0,
          0,
          0,
          0,
          0,
          1,
          0,
          0,
          1,
          1
         ],
         "showlegend": false,
         "subplot": "polar9",
         "theta": [
          "Cadastral Reference",
          "Cultural Period Certainty",
          "Damage Extent Type",
          "Designation",
          "Designation From Date",
          "Designation To Date",
          "Disturbance Cause Assignment Assessor Name - Actor",
          "Disturbance Cause Category Type",
          "GE Imagery Acquisition Date",
          "General Description",
          "General Description Type",
          "Geometry Extent Certainty",
          "Grid ID",
          "Heritage Place Function",
          "Heritage Place Type",
          "Investigator Role Type",
          "Name Type",
          "Overall Site Morphology Type",
          "Related Detailed Condition Resource",
          "Resource Name",
          "Resource Orientation",
          "Site Feature Arrangement Type",
          "Site Feature Form Type",
          "Site Feature Interpretation Certainty",
          "Site Feature Number Type",
          "Site Feature Shape Type",
          "Threat Category",
          "Threat Cause Type"
         ],
         "type": "scatterpolar"
        },
        {
         "hovertemplate": "value: %{r}<br>field: %{theta}",
         "marker": {
          "color": "blue"
         },
         "mode": "markers",
         "name": "EAMENA-0192307",
         "r": [
          1,
          1,
          1,
          1,
          1,
          1,
          1,
          1,
          1,
          1,
          1,
          1,
          1,
          1,
          1,
          1,
          1,
          1,
          1,
          1,
          1,
          1,
          1,
          1,
          1,
          1,
          1,
          0
         ],
         "subplot": "polar9",
         "theta": [
          "Investigator Role Type",
          "GE Imagery Acquisition Date",
          "Resource Name",
          "Name Type",
          "Heritage Place Type",
          "General Description Type",
          "General Description",
          "Heritage Place Function",
          "Designation",
          "Designation From Date",
          "Designation To Date",
          "Geometry Extent Certainty",
          "Grid ID",
          "Cadastral Reference",
          "Resource Orientation",
          "Overall Site Morphology Type",
          "Cultural Period Certainty",
          "Site Feature Form Type",
          "Site Feature Shape Type",
          "Site Feature Arrangement Type",
          "Site Feature Number Type",
          "Site Feature Interpretation Certainty",
          "Damage Extent Type",
          "Disturbance Cause Category Type",
          "Disturbance Cause Assignment Assessor Name - Actor",
          "Threat Category",
          "Threat Cause Type",
          "Related Detailed Condition Resource"
         ],
         "type": "scatterpolar"
        }
       ],
       "layout": {
        "annotations": [
         {
          "font": {
           "size": 16
          },
          "showarrow": false,
          "text": "EAMENA-0192224",
          "x": 0.14444444444444446,
          "xanchor": "center",
          "xref": "paper",
          "y": 1,
          "yanchor": "bottom",
          "yref": "paper"
         },
         {
          "font": {
           "size": 16
          },
          "showarrow": false,
          "text": "EAMENA-0192237",
          "x": 0.5,
          "xanchor": "center",
          "xref": "paper",
          "y": 1,
          "yanchor": "bottom",
          "yref": "paper"
         },
         {
          "font": {
           "size": 16
          },
          "showarrow": false,
          "text": "EAMENA-0192298",
          "x": 0.8555555555555556,
          "xanchor": "center",
          "xref": "paper",
          "y": 1,
          "yanchor": "bottom",
          "yref": "paper"
         },
         {
          "font": {
           "size": 16
          },
          "showarrow": false,
          "text": "EAMENA-0192305",
          "x": 0.14444444444444446,
          "xanchor": "center",
          "xref": "paper",
          "y": 0.6111111111111112,
          "yanchor": "bottom",
          "yref": "paper"
         },
         {
          "font": {
           "size": 16
          },
          "showarrow": false,
          "text": "EAMENA-0192308",
          "x": 0.5,
          "xanchor": "center",
          "xref": "paper",
          "y": 0.6111111111111112,
          "yanchor": "bottom",
          "yref": "paper"
         },
         {
          "font": {
           "size": 16
          },
          "showarrow": false,
          "text": "EAMENA-0192238",
          "x": 0.8555555555555556,
          "xanchor": "center",
          "xref": "paper",
          "y": 0.6111111111111112,
          "yanchor": "bottom",
          "yref": "paper"
         },
         {
          "font": {
           "size": 16
          },
          "showarrow": false,
          "text": "EAMENA-0192306",
          "x": 0.14444444444444446,
          "xanchor": "center",
          "xref": "paper",
          "y": 0.22222222222222224,
          "yanchor": "bottom",
          "yref": "paper"
         },
         {
          "font": {
           "size": 16
          },
          "showarrow": false,
          "text": "EAMENA-0192226",
          "x": 0.5,
          "xanchor": "center",
          "xref": "paper",
          "y": 0.22222222222222224,
          "yanchor": "bottom",
          "yref": "paper"
         },
         {
          "font": {
           "size": 16
          },
          "showarrow": false,
          "text": "EAMENA-0192307",
          "x": 0.8555555555555556,
          "xanchor": "center",
          "xref": "paper",
          "y": 0.22222222222222224,
          "yanchor": "bottom",
          "yref": "paper"
         }
        ],
        "autosize": false,
        "height": 900,
        "polar": {
         "domain": {
          "x": [
           0,
           0.2888888888888889
          ],
          "y": [
           0.7777777777777778,
           1
          ]
         }
        },
        "polar2": {
         "domain": {
          "x": [
           0.35555555555555557,
           0.6444444444444445
          ],
          "y": [
           0.7777777777777778,
           1
          ]
         }
        },
        "polar3": {
         "domain": {
          "x": [
           0.7111111111111111,
           1
          ],
          "y": [
           0.7777777777777778,
           1
          ]
         }
        },
        "polar4": {
         "domain": {
          "x": [
           0,
           0.2888888888888889
          ],
          "y": [
           0.3888888888888889,
           0.6111111111111112
          ]
         }
        },
        "polar5": {
         "domain": {
          "x": [
           0.35555555555555557,
           0.6444444444444445
          ],
          "y": [
           0.3888888888888889,
           0.6111111111111112
          ]
         }
        },
        "polar6": {
         "domain": {
          "x": [
           0.7111111111111111,
           1
          ],
          "y": [
           0.3888888888888889,
           0.6111111111111112
          ]
         }
        },
        "polar7": {
         "domain": {
          "x": [
           0,
           0.2888888888888889
          ],
          "y": [
           0,
           0.22222222222222224
          ]
         }
        },
        "polar8": {
         "domain": {
          "x": [
           0.35555555555555557,
           0.6444444444444445
          ],
          "y": [
           0,
           0.22222222222222224
          ]
         }
        },
        "polar9": {
         "domain": {
          "x": [
           0.7111111111111111,
           1
          ],
          "y": [
           0,
           0.22222222222222224
          ]
         }
        },
        "template": {
         "data": {
          "bar": [
           {
            "error_x": {
             "color": "#2a3f5f"
            },
            "error_y": {
             "color": "#2a3f5f"
            },
            "marker": {
             "line": {
              "color": "#E5ECF6",
              "width": 0.5
             },
             "pattern": {
              "fillmode": "overlay",
              "size": 10,
              "solidity": 0.2
             }
            },
            "type": "bar"
           }
          ],
          "barpolar": [
           {
            "marker": {
             "line": {
              "color": "#E5ECF6",
              "width": 0.5
             },
             "pattern": {
              "fillmode": "overlay",
              "size": 10,
              "solidity": 0.2
             }
            },
            "type": "barpolar"
           }
          ],
          "carpet": [
           {
            "aaxis": {
             "endlinecolor": "#2a3f5f",
             "gridcolor": "white",
             "linecolor": "white",
             "minorgridcolor": "white",
             "startlinecolor": "#2a3f5f"
            },
            "baxis": {
             "endlinecolor": "#2a3f5f",
             "gridcolor": "white",
             "linecolor": "white",
             "minorgridcolor": "white",
             "startlinecolor": "#2a3f5f"
            },
            "type": "carpet"
           }
          ],
          "choropleth": [
           {
            "colorbar": {
             "outlinewidth": 0,
             "ticks": ""
            },
            "type": "choropleth"
           }
          ],
          "contour": [
           {
            "colorbar": {
             "outlinewidth": 0,
             "ticks": ""
            },
            "colorscale": [
             [
              0,
              "#0d0887"
             ],
             [
              0.1111111111111111,
              "#46039f"
             ],
             [
              0.2222222222222222,
              "#7201a8"
             ],
             [
              0.3333333333333333,
              "#9c179e"
             ],
             [
              0.4444444444444444,
              "#bd3786"
             ],
             [
              0.5555555555555556,
              "#d8576b"
             ],
             [
              0.6666666666666666,
              "#ed7953"
             ],
             [
              0.7777777777777778,
              "#fb9f3a"
             ],
             [
              0.8888888888888888,
              "#fdca26"
             ],
             [
              1,
              "#f0f921"
             ]
            ],
            "type": "contour"
           }
          ],
          "contourcarpet": [
           {
            "colorbar": {
             "outlinewidth": 0,
             "ticks": ""
            },
            "type": "contourcarpet"
           }
          ],
          "heatmap": [
           {
            "colorbar": {
             "outlinewidth": 0,
             "ticks": ""
            },
            "colorscale": [
             [
              0,
              "#0d0887"
             ],
             [
              0.1111111111111111,
              "#46039f"
             ],
             [
              0.2222222222222222,
              "#7201a8"
             ],
             [
              0.3333333333333333,
              "#9c179e"
             ],
             [
              0.4444444444444444,
              "#bd3786"
             ],
             [
              0.5555555555555556,
              "#d8576b"
             ],
             [
              0.6666666666666666,
              "#ed7953"
             ],
             [
              0.7777777777777778,
              "#fb9f3a"
             ],
             [
              0.8888888888888888,
              "#fdca26"
             ],
             [
              1,
              "#f0f921"
             ]
            ],
            "type": "heatmap"
           }
          ],
          "heatmapgl": [
           {
            "colorbar": {
             "outlinewidth": 0,
             "ticks": ""
            },
            "colorscale": [
             [
              0,
              "#0d0887"
             ],
             [
              0.1111111111111111,
              "#46039f"
             ],
             [
              0.2222222222222222,
              "#7201a8"
             ],
             [
              0.3333333333333333,
              "#9c179e"
             ],
             [
              0.4444444444444444,
              "#bd3786"
             ],
             [
              0.5555555555555556,
              "#d8576b"
             ],
             [
              0.6666666666666666,
              "#ed7953"
             ],
             [
              0.7777777777777778,
              "#fb9f3a"
             ],
             [
              0.8888888888888888,
              "#fdca26"
             ],
             [
              1,
              "#f0f921"
             ]
            ],
            "type": "heatmapgl"
           }
          ],
          "histogram": [
           {
            "marker": {
             "pattern": {
              "fillmode": "overlay",
              "size": 10,
              "solidity": 0.2
             }
            },
            "type": "histogram"
           }
          ],
          "histogram2d": [
           {
            "colorbar": {
             "outlinewidth": 0,
             "ticks": ""
            },
            "colorscale": [
             [
              0,
              "#0d0887"
             ],
             [
              0.1111111111111111,
              "#46039f"
             ],
             [
              0.2222222222222222,
              "#7201a8"
             ],
             [
              0.3333333333333333,
              "#9c179e"
             ],
             [
              0.4444444444444444,
              "#bd3786"
             ],
             [
              0.5555555555555556,
              "#d8576b"
             ],
             [
              0.6666666666666666,
              "#ed7953"
             ],
             [
              0.7777777777777778,
              "#fb9f3a"
             ],
             [
              0.8888888888888888,
              "#fdca26"
             ],
             [
              1,
              "#f0f921"
             ]
            ],
            "type": "histogram2d"
           }
          ],
          "histogram2dcontour": [
           {
            "colorbar": {
             "outlinewidth": 0,
             "ticks": ""
            },
            "colorscale": [
             [
              0,
              "#0d0887"
             ],
             [
              0.1111111111111111,
              "#46039f"
             ],
             [
              0.2222222222222222,
              "#7201a8"
             ],
             [
              0.3333333333333333,
              "#9c179e"
             ],
             [
              0.4444444444444444,
              "#bd3786"
             ],
             [
              0.5555555555555556,
              "#d8576b"
             ],
             [
              0.6666666666666666,
              "#ed7953"
             ],
             [
              0.7777777777777778,
              "#fb9f3a"
             ],
             [
              0.8888888888888888,
              "#fdca26"
             ],
             [
              1,
              "#f0f921"
             ]
            ],
            "type": "histogram2dcontour"
           }
          ],
          "mesh3d": [
           {
            "colorbar": {
             "outlinewidth": 0,
             "ticks": ""
            },
            "type": "mesh3d"
           }
          ],
          "parcoords": [
           {
            "line": {
             "colorbar": {
              "outlinewidth": 0,
              "ticks": ""
             }
            },
            "type": "parcoords"
           }
          ],
          "pie": [
           {
            "automargin": true,
            "type": "pie"
           }
          ],
          "scatter": [
           {
            "fillpattern": {
             "fillmode": "overlay",
             "size": 10,
             "solidity": 0.2
            },
            "type": "scatter"
           }
          ],
          "scatter3d": [
           {
            "line": {
             "colorbar": {
              "outlinewidth": 0,
              "ticks": ""
             }
            },
            "marker": {
             "colorbar": {
              "outlinewidth": 0,
              "ticks": ""
             }
            },
            "type": "scatter3d"
           }
          ],
          "scattercarpet": [
           {
            "marker": {
             "colorbar": {
              "outlinewidth": 0,
              "ticks": ""
             }
            },
            "type": "scattercarpet"
           }
          ],
          "scattergeo": [
           {
            "marker": {
             "colorbar": {
              "outlinewidth": 0,
              "ticks": ""
             }
            },
            "type": "scattergeo"
           }
          ],
          "scattergl": [
           {
            "marker": {
             "colorbar": {
              "outlinewidth": 0,
              "ticks": ""
             }
            },
            "type": "scattergl"
           }
          ],
          "scattermapbox": [
           {
            "marker": {
             "colorbar": {
              "outlinewidth": 0,
              "ticks": ""
             }
            },
            "type": "scattermapbox"
           }
          ],
          "scatterpolar": [
           {
            "marker": {
             "colorbar": {
              "outlinewidth": 0,
              "ticks": ""
             }
            },
            "type": "scatterpolar"
           }
          ],
          "scatterpolargl": [
           {
            "marker": {
             "colorbar": {
              "outlinewidth": 0,
              "ticks": ""
             }
            },
            "type": "scatterpolargl"
           }
          ],
          "scatterternary": [
           {
            "marker": {
             "colorbar": {
              "outlinewidth": 0,
              "ticks": ""
             }
            },
            "type": "scatterternary"
           }
          ],
          "surface": [
           {
            "colorbar": {
             "outlinewidth": 0,
             "ticks": ""
            },
            "colorscale": [
             [
              0,
              "#0d0887"
             ],
             [
              0.1111111111111111,
              "#46039f"
             ],
             [
              0.2222222222222222,
              "#7201a8"
             ],
             [
              0.3333333333333333,
              "#9c179e"
             ],
             [
              0.4444444444444444,
              "#bd3786"
             ],
             [
              0.5555555555555556,
              "#d8576b"
             ],
             [
              0.6666666666666666,
              "#ed7953"
             ],
             [
              0.7777777777777778,
              "#fb9f3a"
             ],
             [
              0.8888888888888888,
              "#fdca26"
             ],
             [
              1,
              "#f0f921"
             ]
            ],
            "type": "surface"
           }
          ],
          "table": [
           {
            "cells": {
             "fill": {
              "color": "#EBF0F8"
             },
             "line": {
              "color": "white"
             }
            },
            "header": {
             "fill": {
              "color": "#C8D4E3"
             },
             "line": {
              "color": "white"
             }
            },
            "type": "table"
           }
          ]
         },
         "layout": {
          "annotationdefaults": {
           "arrowcolor": "#2a3f5f",
           "arrowhead": 0,
           "arrowwidth": 1
          },
          "autotypenumbers": "strict",
          "coloraxis": {
           "colorbar": {
            "outlinewidth": 0,
            "ticks": ""
           }
          },
          "colorscale": {
           "diverging": [
            [
             0,
             "#8e0152"
            ],
            [
             0.1,
             "#c51b7d"
            ],
            [
             0.2,
             "#de77ae"
            ],
            [
             0.3,
             "#f1b6da"
            ],
            [
             0.4,
             "#fde0ef"
            ],
            [
             0.5,
             "#f7f7f7"
            ],
            [
             0.6,
             "#e6f5d0"
            ],
            [
             0.7,
             "#b8e186"
            ],
            [
             0.8,
             "#7fbc41"
            ],
            [
             0.9,
             "#4d9221"
            ],
            [
             1,
             "#276419"
            ]
           ],
           "sequential": [
            [
             0,
             "#0d0887"
            ],
            [
             0.1111111111111111,
             "#46039f"
            ],
            [
             0.2222222222222222,
             "#7201a8"
            ],
            [
             0.3333333333333333,
             "#9c179e"
            ],
            [
             0.4444444444444444,
             "#bd3786"
            ],
            [
             0.5555555555555556,
             "#d8576b"
            ],
            [
             0.6666666666666666,
             "#ed7953"
            ],
            [
             0.7777777777777778,
             "#fb9f3a"
            ],
            [
             0.8888888888888888,
             "#fdca26"
            ],
            [
             1,
             "#f0f921"
            ]
           ],
           "sequentialminus": [
            [
             0,
             "#0d0887"
            ],
            [
             0.1111111111111111,
             "#46039f"
            ],
            [
             0.2222222222222222,
             "#7201a8"
            ],
            [
             0.3333333333333333,
             "#9c179e"
            ],
            [
             0.4444444444444444,
             "#bd3786"
            ],
            [
             0.5555555555555556,
             "#d8576b"
            ],
            [
             0.6666666666666666,
             "#ed7953"
            ],
            [
             0.7777777777777778,
             "#fb9f3a"
            ],
            [
             0.8888888888888888,
             "#fdca26"
            ],
            [
             1,
             "#f0f921"
            ]
           ]
          },
          "colorway": [
           "#636efa",
           "#EF553B",
           "#00cc96",
           "#ab63fa",
           "#FFA15A",
           "#19d3f3",
           "#FF6692",
           "#B6E880",
           "#FF97FF",
           "#FECB52"
          ],
          "font": {
           "color": "#2a3f5f"
          },
          "geo": {
           "bgcolor": "white",
           "lakecolor": "white",
           "landcolor": "#E5ECF6",
           "showlakes": true,
           "showland": true,
           "subunitcolor": "white"
          },
          "hoverlabel": {
           "align": "left"
          },
          "hovermode": "closest",
          "mapbox": {
           "style": "light"
          },
          "paper_bgcolor": "white",
          "plot_bgcolor": "#E5ECF6",
          "polar": {
           "angularaxis": {
            "gridcolor": "white",
            "linecolor": "white",
            "ticks": ""
           },
           "bgcolor": "#E5ECF6",
           "radialaxis": {
            "gridcolor": "white",
            "linecolor": "white",
            "ticks": ""
           }
          },
          "scene": {
           "xaxis": {
            "backgroundcolor": "#E5ECF6",
            "gridcolor": "white",
            "gridwidth": 2,
            "linecolor": "white",
            "showbackground": true,
            "ticks": "",
            "zerolinecolor": "white"
           },
           "yaxis": {
            "backgroundcolor": "#E5ECF6",
            "gridcolor": "white",
            "gridwidth": 2,
            "linecolor": "white",
            "showbackground": true,
            "ticks": "",
            "zerolinecolor": "white"
           },
           "zaxis": {
            "backgroundcolor": "#E5ECF6",
            "gridcolor": "white",
            "gridwidth": 2,
            "linecolor": "white",
            "showbackground": true,
            "ticks": "",
            "zerolinecolor": "white"
           }
          },
          "shapedefaults": {
           "line": {
            "color": "#2a3f5f"
           }
          },
          "ternary": {
           "aaxis": {
            "gridcolor": "white",
            "linecolor": "white",
            "ticks": ""
           },
           "baxis": {
            "gridcolor": "white",
            "linecolor": "white",
            "ticks": ""
           },
           "bgcolor": "#E5ECF6",
           "caxis": {
            "gridcolor": "white",
            "linecolor": "white",
            "ticks": ""
           }
          },
          "title": {
           "x": 0.05
          },
          "xaxis": {
           "automargin": true,
           "gridcolor": "white",
           "linecolor": "white",
           "ticks": "",
           "title": {
            "standoff": 15
           },
           "zerolinecolor": "white",
           "zerolinewidth": 2
          },
          "yaxis": {
           "automargin": true,
           "gridcolor": "white",
           "linecolor": "white",
           "ticks": "",
           "title": {
            "standoff": 15
           },
           "zerolinecolor": "white",
           "zerolinewidth": 2
          }
         }
        },
        "width": 2100
       }
      }
     },
     "metadata": {},
     "output_type": "display_data"
    }
   ],
   "source": [
    "ncol = 3\n",
    "nrow = math.ceil(len(dict_hps.keys()) / ncol)\n",
    "\n",
    "# fig = make_subplots(rows=nrow, cols=ncol)\n",
    "fig = make_subplots(rows=nrow, cols=ncol, specs=[[{'type': 'polar'}]*ncol]*nrow, subplot_titles=tuple(dict_hps.keys()))\n",
    "# fig = make_subplots(rows=nrow, cols=ncol, specs=[[{'type': 'polar'}]*nrow]*ncol)\n",
    "# fig = make_subplots(rows=nrow, cols=ncol, start_cell=\"top-left\")\n",
    "colors = {'recorded': 'blue', 'Enhanced record minimum standard': 'red'}\n",
    "\n",
    "current_column = 1\n",
    "current_row = 1\n",
    "# dict_hps.keys()\n",
    "for a_hp in dict_hps.keys():\n",
    "\tdf = dict_hps[a_hp]\n",
    "\tif verbose:\n",
    "\t\tprint(a_hp)\n",
    "\t\tprint(str(current_row) + \" \" + str(current_column))\n",
    "\tif mylevel == 'level3':\n",
    "\t\tfig.add_trace(go.Scatterpolar(\n",
    "\t\t\tname =  \"  erms\",\n",
    "\t\t\tr = df_erms['value'],\n",
    "\t\t\ttheta = df_erms['field'],\n",
    "\t\t\t# mode = 'markers',\n",
    "\t\t\t# marker=dict(color = melted_df_color),\n",
    "\t\t\t# marker_color = \"red\",\n",
    "\t\t\tfill='toself',\n",
    "\t\t\tfillcolor='red',\n",
    "\t\t\tline_color='red',\n",
    "\t\t\thovertemplate=\"<br>\".join([\n",
    "\t\t\t\"value: %{r}\",\n",
    "\t\t\t\"field: %{theta}\"]),\n",
    "\t\t\tshowlegend=False), \n",
    "\t\t\tcurrent_row, current_column)\t\t\n",
    "\t\tfig.add_trace(go.Scatterpolar(\n",
    "\t\t\tname = a_hp,\n",
    "\t\t\tr = df['recorded'],\n",
    "\t\t\ttheta = df['field'],\n",
    "\t\t\tmode = 'markers',\n",
    "\t\t\t# marker=dict(color = melted_df_color),\n",
    "\t\t\tmarker_color = \"blue\",\n",
    "\t\t\thovertemplate=\"<br>\".join([\n",
    "\t\t\t\"value: %{r}\",\n",
    "\t\t\t\"field: %{theta}\"])\n",
    "\t\t\t), \n",
    "\t\t\tcurrent_row, current_column)\n",
    "\telse:\n",
    "\t\tfig.add_trace(go.Scatterpolar(\n",
    "\t\t\tname = a_hp,\n",
    "\t\t\tr = df['recorded'],\n",
    "\t\t\ttheta = df['field'],\n",
    "\t\t\tmode = 'markers',\n",
    "\t\t\tmarker_color = \"blue\",\n",
    "\t\t\thovertemplate=\"<br>\".join([\n",
    "\t\t\t\"value: %{r}\",\n",
    "\t\t\t\"field: %{theta}\"]),\n",
    "\t\t\tshowlegend=False), \n",
    "\t\t\tcurrent_row, current_column)\n",
    "\tcurrent_column = current_column + 1\n",
    "\t# end of line..\n",
    "\tif current_column > ncol:\n",
    "\t\tcurrent_row = current_row + 1\n",
    "\t\tcurrent_column = 1\n",
    "fig.update_layout(\n",
    "    autosize=False,\n",
    "    width=ncol*700,\n",
    "    height=nrow*300,\n",
    ")\n",
    "fig.show()"
   ]
  }
 ],
 "metadata": {
  "kernelspec": {
   "display_name": "Python 3",
   "language": "python",
   "name": "python3"
  },
  "language_info": {
   "codemirror_mode": {
    "name": "ipython",
    "version": 3
   },
   "file_extension": ".py",
   "mimetype": "text/x-python",
   "name": "python",
   "nbconvert_exporter": "python",
   "pygments_lexer": "ipython3",
   "version": "3.11.2"
  },
  "orig_nbformat": 4
 },
 "nbformat": 4,
 "nbformat_minor": 2
}
