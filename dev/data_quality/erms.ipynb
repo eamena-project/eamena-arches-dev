{
 "cells": [
  {
   "cell_type": "markdown",
   "metadata": {},
   "source": [
    "**Forewords**\n",
    "\n",
    "- This script is a Jupyter notebook, mixing Markdown narratives with Python code chunks\n",
    "\t- Python is the most popular programming language in the world and the backbone of Arches\n",
    "- This script is hosted on GitHub, it is mirrored here on Google colab: each changes made on the GitHub script will appear here\n",
    "\t- the script can also be download as an independant copy\n",
    "- Google colab platform offer free space and computing time for online collaborative development of Jupyter scripts\n",
    "\t- another option could be MyBinder\n",
    "\n",
    "The purpose of this presentation is:\n",
    "1. show the join use of Jupyter/Python and GitHub to query the DB for users having intermediate skills in IT (or Arches)\n",
    "2. collect ideas on Enhanced record minimum standard (ERMS)"
   ]
  },
  {
   "cell_type": "markdown",
   "metadata": {},
   "source": [
    "# Enhanced record minimum standard compliance of Heritage Places"
   ]
  },
  {
   "cell_type": "markdown",
   "metadata": {},
   "source": [
    "Enhanced record minimum standard (ERMS) is the minimum standard of data enhancement for heritage places. The report of Heritage Places ERMS is done downstream, once the heritages places (HP) have been recorded in the database "
   ]
  },
  {
   "cell_type": "markdown",
   "metadata": {},
   "source": [
    "### Import libraries"
   ]
  },
  {
   "cell_type": "code",
   "execution_count": 26,
   "metadata": {},
   "outputs": [],
   "source": [
    "import psycopg2 as pg\n",
    "import pandas as pd\n",
    "import numpy as np\n",
    "import re\n",
    "import ipywidgets as widgets\n",
    "from IPython.display import display\n",
    "import matplotlib.pyplot as plt\n",
    "import plotly.express as px"
   ]
  },
  {
   "cell_type": "markdown",
   "metadata": {},
   "source": [
    "### Constants\n",
    "\n",
    "Load:\n",
    "- the UUID of HP in its resource model (RM)\n",
    "- the read-only user `eamenar` parameters (see: [creating-a-read-only-user](https://github.com/eamena-project/eamena-arches-dev/tree/main/dev/postgres#creating-a-read-only-user)) on the training EAMENA instance\n",
    "- ..."
   ]
  },
  {
   "cell_type": "code",
   "execution_count": 27,
   "metadata": {},
   "outputs": [],
   "source": [
    "# Heritage Place Resource Model UUID\n",
    "uuid_hp = '34cfe992-c2c0-11ea-9026-02e7594ce0a0'\n",
    "# connection parameters\n",
    "dbname = \"eamena\"\n",
    "user = \"eamenar\"\n",
    "password = \"eamenar\"\n",
    "host = \"52.50.27.140\"\n",
    "port = \"5432\"\n",
    "# verbose\n",
    "verbose = False"
   ]
  },
  {
   "cell_type": "markdown",
   "metadata": {},
   "source": [
    "### Connect the database"
   ]
  },
  {
   "cell_type": "code",
   "execution_count": 40,
   "metadata": {},
   "outputs": [
    {
     "name": "stdout",
     "output_type": "stream",
     "text": [
      "Connection established successfully!\n"
     ]
    }
   ],
   "source": [
    "try:\n",
    "    connection = pg.connect(\n",
    "        dbname = dbname,\n",
    "        user = user,\n",
    "        password = password,\n",
    "        host = host,\n",
    "        port = port\n",
    "    )\n",
    "    cur = connection.cursor()\n",
    "    if verbose:\n",
    "        print(\"Connection established successfully!\")\n",
    "except pg.Error as e:\n",
    "    print(f\"Error: {e}\")"
   ]
  },
  {
   "cell_type": "markdown",
   "metadata": {},
   "source": [
    "## Heritage place selection\n",
    "\n",
    "Select an HP and get its UUID (default: [EAMENA-0500002](http://52.50.27.140/search?paging-filter=1&tiles=true&format=tilecsv&reportlink=false&precision=6&total=3574&term-filter=%5B%7B%22context%22%3A%22%22%2C%22context_label%22%3A%22Heritage%20Place%20-%20EAMENA%20ID%22%2C%22id%22%3A0%2C%22text%22%3A%22EAMENA-0500002%22%2C%22type%22%3A%22term%22%2C%22value%22%3A%22EAMENA-0500002%22%2C%22inverted%22%3Afalse%7D%5D&language=*))"
   ]
  },
  {
   "cell_type": "code",
   "execution_count": 29,
   "metadata": {},
   "outputs": [],
   "source": [
    "selected_hp = 'EAMENA-0500002'\n",
    "sqll = \"\"\"\n",
    "SELECT\n",
    "      resourceinstanceid AS resourceid\n",
    "      FROM tiles\n",
    "      WHERE tiledata -> '%s' -> 'en' ->> 'value' LIKE '%s'\n",
    "\"\"\" % (uuid_hp, selected_hp)\n",
    "# print(sqll)\n",
    "cur.execute(sqll)\n",
    "hpid = cur.fetchone()[0]  \n",
    "if verbose: \n",
    "      print(\"the UUID of '\" + selected_hp + \"' is '\" + hpid + \"'\")"
   ]
  },
  {
   "cell_type": "markdown",
   "metadata": {},
   "source": [
    "## Heritage places field with their UUIDs\n",
    "\n",
    "Read the [erms-template-readonly.tsv](https://github.com/eamena-project/eamena-arches-dev/blob/main/dev/data_quality/erms-template-readonly.tsv) file (see: [README.md](https://github.com/eamena-project/eamena-arches-dev/tree/main/dev/data_quality#erms))."
   ]
  },
  {
   "cell_type": "code",
   "execution_count": 31,
   "metadata": {},
   "outputs": [
    {
     "name": "stdout",
     "output_type": "stream",
     "text": [
      "|    | level1                    | level2                            | level3                                     | uuid_sql                             | Enhanced record minimum standard                                                                                                                             |\n",
      "|---:|:--------------------------|:----------------------------------|:-------------------------------------------|:-------------------------------------|:-------------------------------------------------------------------------------------------------------------------------------------------------------------|\n",
      "|  1 | ASSESSMENT SUMMARY        | ASSESSMENT ACTIVITY               | Investigator Role Type                     | d2e1ab96-cc05-11ea-a292-02e7594ce0a0 | Yes                                                                                                                                                          |\n",
      "|  5 | ASSESSMENT SUMMARY        | ASSESSMENT ACTIVITY               | GE Imagery Acquisition Date                | b9643302-0407-11eb-a11c-0a5a9a4f6ef7 | Yes, if an acquisition date is available. If there are a range of images the earliest and most recent dates should be added.                                 |\n",
      "|  8 | RESOURCE SUMMARY          | RESOURCE NAME                     | Resource Name                              | 34cfe9dd-c2c0-11ea-9026-02e7594ce0a0 | No (a site identified via remote sensing may not have an identifiable name, and the EAMENA Database will automatically generate a UiD).                      |\n",
      "|  9 | RESOURCE SUMMARY          | RESOURCE NAME                     | Name Type                                  | 34cfea97-c2c0-11ea-9026-02e7594ce0a0 | No                                                                                                                                                           |\n",
      "| 10 | RESOURCE SUMMARY          | RESOURCE SUMMARY                  | Heritage Place Type                        | 34cfe9ef-c2c0-11ea-9026-02e7594ce0a0 | No                                                                                                                                                           |\n",
      "| 11 | RESOURCE SUMMARY          | RESOURCE DESCRIPTION              | General Description Type                   | 34cfea91-c2c0-11ea-9026-02e7594ce0a0 | No                                                                                                                                                           |\n",
      "| 12 | RESOURCE SUMMARY          | RESOURCE DESCRIPTION              | General Description                        | 34cfea77-c2c0-11ea-9026-02e7594ce0a0 | No                                                                                                                                                           |\n",
      "| 13 | RESOURCE SUMMARY          | HERITAGE RESOURCE CLASSIFICATION  | Heritage Place Function                    | 34cfea4a-c2c0-11ea-9026-02e7594ce0a0 | Yes (including â€˜Unknownâ€™)                                                                                                                                |\n",
      "| 15 | RESOURCE SUMMARY          | DESIGNATION                       | Designation                                | d9abdfdb-c6a3-11ea-a292-02e7594ce0a0 | No                                                                                                                                                           |\n",
      "| 16 | RESOURCE SUMMARY          | DESIGNATION                       | Designation From Date                      | d9abdfe0-c6a3-11ea-a292-02e7594ce0a0 | No                                                                                                                                                           |\n",
      "| 17 | RESOURCE SUMMARY          | DESIGNATION                       | Designation To Date                        | d9abdfdf-c6a3-11ea-a292-02e7594ce0a0 | No                                                                                                                                                           |\n",
      "| 21 | GEOMETRIES                | GEOMETRIES                        | Geometry Extent Certainty                  | 5348cf6c-c2c5-11ea-9026-02e7594ce0a0 | No                                                                                                                                                           |\n",
      "| 23 | GEOGRAPHY                 | GEOGRAPHY                         | Grid ID                                    | 34cfea5d-c2c0-11ea-9026-02e7594ce0a0 | Yes                                                                                                                                                          |\n",
      "| 25 | GEOGRAPHY                 | GEOGRAPHY                         | Cadastral Reference                        | 34cfea95-c2c0-11ea-9026-02e7594ce0a0 | No                                                                                                                                                           |\n",
      "| 26 | GEOGRAPHY                 | GEOGRAPHY                         | Resource Orientation                       | 34cfea73-c2c0-11ea-9026-02e7594ce0a0 | No                                                                                                                                                           |\n",
      "| 32 | ARCHAEOLOGICAL ASSESSMENT | ARCHAEOLOGICAL ASSESSMENT         | Overall Site Morphology Type               | 34cfe9e6-c2c0-11ea-9026-02e7594ce0a0 | Yes                                                                                                                                                          |\n",
      "| 34 | ARCHAEOLOGICAL ASSESSMENT | PERIODIZATION                     | Cultural Period Certainty                  | 38cff738-c77b-11ea-a292-02e7594ce0a0 | Yes                                                                                                                                                          |\n",
      "| 46 | ARCHAEOLOGICAL ASSESSMENT | SITE FEATURES and INTERPRETATIONS | Site Feature Form Type                     | 34cfea9a-c2c0-11ea-9026-02e7594ce0a0 | No, unless there is no Site Feature Interpretation Type (eg. If the interpretation field is listed â€˜Unknownâ€™ then the Feature field should be filled in) |\n",
      "| 48 | ARCHAEOLOGICAL ASSESSMENT | SITE FEATURES and INTERPRETATIONS | Site Feature Shape Type                    | 34cfea19-c2c0-11ea-9026-02e7594ce0a0 | No                                                                                                                                                           |\n",
      "| 49 | ARCHAEOLOGICAL ASSESSMENT | SITE FEATURES and INTERPRETATIONS | Site Feature Arrangement Type              | 34cfe9e9-c2c0-11ea-9026-02e7594ce0a0 | No                                                                                                                                                           |\n",
      "| 50 | ARCHAEOLOGICAL ASSESSMENT | SITE FEATURES and INTERPRETATIONS | Site Feature Number Type                   | 34cfe9f8-c2c0-11ea-9026-02e7594ce0a0 | No                                                                                                                                                           |\n",
      "| 53 | ARCHAEOLOGICAL ASSESSMENT | SITE FEATURES and INTERPRETATIONS | Site Feature Interpretation Certainty      | 34cfea44-c2c0-11ea-9026-02e7594ce0a0 | Yes                                                                                                                                                          |\n",
      "| 65 | CONDITION ASSESSMENT      | CONDITION ASSESSMENT              | Damage Extent Type                         | 34cfea8e-c2c0-11ea-9026-02e7594ce0a0 | No                                                                                                                                                           |\n",
      "| 66 | CONDITION ASSESSMENT      | DISTURBANCES                      | Disturbance Cause Category Type            | 34cfea68-c2c0-11ea-9026-02e7594ce0a0 | Yes                                                                                                                                                          |\n",
      "| 73 | CONDITION ASSESSMENT      | DISTURBANCES                      | Disturbance Cause Assignment Assessor Name | e3cc8c5a-c772-11ea-a292-02e7594ce0a0 | No                                                                                                                                                           |\n",
      "| 76 | CONDITION ASSESSMENT      | THREATS                           | Threat Category                            | 34cfea90-c2c0-11ea-9026-02e7594ce0a0 | Yes (including 'No Visible/Known')                                                                                                                           |\n",
      "| 77 | CONDITION ASSESSMENT      | THREATS                           | Threat Type                                | 34cfea5c-c2c0-11ea-9026-02e7594ce0a0 | Yes                                                                                                                                                          |\n",
      "| 83 | CONDITION ASSESSMENT      | CONDITION ASSESSMENT              | Related Detailed Condition Resource        | 34cfea64-c2c0-11ea-9026-02e7594ce0a0 | No                                                                                                                                                           |\n"
     ]
    }
   ],
   "source": [
    "tsv_file = \"https://raw.githubusercontent.com/eamena-project/eamena-arches-dev/main/dev/data_quality/erms-template-readonly.tsv\"\n",
    "df = pd.read_csv(tsv_file, delimiter='\\t')\n",
    "df = df[[\"level1\", \"level2\", \"level3\", \"uuid_sql\", \"Enhanced record minimum standard\"]]\n",
    "df_listed = df.dropna()\n",
    "if verbose:\n",
    "    print(df_listed.to_markdown())"
   ]
  },
  {
   "cell_type": "markdown",
   "metadata": {},
   "source": [
    "Select the level of aggregation (`level1`, `level2` or `level3`) on which the spider plot will be done"
   ]
  },
  {
   "cell_type": "code",
   "execution_count": 36,
   "metadata": {},
   "outputs": [
    {
     "data": {
      "application/vnd.jupyter.widget-view+json": {
       "model_id": "0f3bc27b87f3412e87c7235979181d54",
       "version_major": 2,
       "version_minor": 0
      },
      "text/plain": [
       "RadioButtons(description='Select an option:', options=('level1', 'level2', 'level3'), value='level1')"
      ]
     },
     "metadata": {},
     "output_type": "display_data"
    }
   ],
   "source": [
    "options=['level1', 'level2', 'level3']\n",
    "radio_button = widgets.RadioButtons(\n",
    "    options=options,\n",
    "    description='Select an option:'\n",
    ")\n",
    "display(radio_button)\n"
   ]
  },
  {
   "cell_type": "markdown",
   "metadata": {},
   "source": [
    "Plot the ERMS dataframe for this level"
   ]
  },
  {
   "cell_type": "code",
   "execution_count": 38,
   "metadata": {},
   "outputs": [
    {
     "name": "stdout",
     "output_type": "stream",
     "text": [
      "You selected: level2\n",
      "| field                             |   Enhanced record minimum standard |\n",
      "|:----------------------------------|-----------------------------------:|\n",
      "| ARCHAEOLOGICAL ASSESSMENT         |                                  1 |\n",
      "| ASSESSMENT ACTIVITY               |                                  2 |\n",
      "| CONDITION ASSESSMENT              |                                  0 |\n",
      "| DESIGNATION                       |                                  0 |\n",
      "| DISTURBANCES                      |                                  1 |\n",
      "| GEOGRAPHY                         |                                  1 |\n",
      "| GEOMETRIES                        |                                  0 |\n",
      "| HERITAGE RESOURCE CLASSIFICATION  |                                  1 |\n",
      "| PERIODIZATION                     |                                  1 |\n",
      "| RESOURCE DESCRIPTION              |                                  0 |\n",
      "| RESOURCE NAME                     |                                  0 |\n",
      "| RESOURCE SUMMARY                  |                                  0 |\n",
      "| SITE FEATURES and INTERPRETATIONS |                                  1 |\n",
      "| THREATS                           |                                  2 |\n"
     ]
    }
   ],
   "source": [
    "# mylevel = 'level3'\n",
    "mylevel = radio_button.value\n",
    "df_erms = df_listed.copy()\n",
    "df_erms['Enhanced record minimum standard'] = df_erms['Enhanced record minimum standard'].str.contains(r'Yes', case=False, na=False, regex=True).astype(int)\n",
    "df_erms = df_erms[[mylevel, \"Enhanced record minimum standard\"]]\n",
    "df_erms.columns.values[0] = \"field\"\n",
    "df_erms = df_erms.groupby(['field'])['Enhanced record minimum standard'].sum()\n",
    "print(f'You selected: {mylevel}')\n",
    "print(df_erms.to_markdown())"
   ]
  },
  {
   "cell_type": "markdown",
   "metadata": {},
   "source": [
    "Gather data from the HP and ERMS (creates an empty dataframe, loop over UUIDs to collect data from the selected HP {{selected_hp}}, and fill the empty dataframe)"
   ]
  },
  {
   "cell_type": "code",
   "execution_count": 41,
   "metadata": {},
   "outputs": [
    {
     "name": "stdout",
     "output_type": "stream",
     "text": [
      "read: ASSESSMENT ACTIVITY | d2e1ab96-cc05-11ea-a292-02e7594ce0a0\n",
      "\n",
      "    SELECT value FROM values \n",
      "    WHERE valueid::text IN\n",
      "    (\n",
      "    SELECT tiledata ->> 'd2e1ab96-cc05-11ea-a292-02e7594ce0a0' AS ASSESSMENT_ACTIVITY\n",
      "    FROM tiles \n",
      "    WHERE resourceinstanceid::text LIKE 'dbc95d2d-38fb-465e-a6cb-0545eaa7584f'\n",
      "    AND tiledata -> 'd2e1ab96-cc05-11ea-a292-02e7594ce0a0' IS NOT NULL\n",
      "    )\n",
      "    \n",
      "read: ASSESSMENT ACTIVITY | b9643302-0407-11eb-a11c-0a5a9a4f6ef7\n",
      "\n",
      "    SELECT value FROM values \n",
      "    WHERE valueid::text IN\n",
      "    (\n",
      "    SELECT tiledata ->> 'b9643302-0407-11eb-a11c-0a5a9a4f6ef7' AS ASSESSMENT_ACTIVITY\n",
      "    FROM tiles \n",
      "    WHERE resourceinstanceid::text LIKE 'dbc95d2d-38fb-465e-a6cb-0545eaa7584f'\n",
      "    AND tiledata -> 'b9643302-0407-11eb-a11c-0a5a9a4f6ef7' IS NOT NULL\n",
      "    )\n",
      "    \n",
      "read: RESOURCE NAME | 34cfe9dd-c2c0-11ea-9026-02e7594ce0a0\n",
      "\n",
      "    SELECT value FROM values \n",
      "    WHERE valueid::text IN\n",
      "    (\n",
      "    SELECT tiledata ->> '34cfe9dd-c2c0-11ea-9026-02e7594ce0a0' AS RESOURCE_NAME\n",
      "    FROM tiles \n",
      "    WHERE resourceinstanceid::text LIKE 'dbc95d2d-38fb-465e-a6cb-0545eaa7584f'\n",
      "    AND tiledata -> '34cfe9dd-c2c0-11ea-9026-02e7594ce0a0' IS NOT NULL\n",
      "    )\n",
      "    \n",
      "read: RESOURCE NAME | 34cfea97-c2c0-11ea-9026-02e7594ce0a0\n",
      "\n",
      "    SELECT value FROM values \n",
      "    WHERE valueid::text IN\n",
      "    (\n",
      "    SELECT tiledata ->> '34cfea97-c2c0-11ea-9026-02e7594ce0a0' AS RESOURCE_NAME\n",
      "    FROM tiles \n",
      "    WHERE resourceinstanceid::text LIKE 'dbc95d2d-38fb-465e-a6cb-0545eaa7584f'\n",
      "    AND tiledata -> '34cfea97-c2c0-11ea-9026-02e7594ce0a0' IS NOT NULL\n",
      "    )\n",
      "    \n",
      "recorded values: [('Toponym',)]\n",
      "read: RESOURCE SUMMARY | 34cfe9ef-c2c0-11ea-9026-02e7594ce0a0\n",
      "\n",
      "    SELECT value FROM values \n",
      "    WHERE valueid::text IN\n",
      "    (\n",
      "    SELECT tiledata ->> '34cfe9ef-c2c0-11ea-9026-02e7594ce0a0' AS RESOURCE_SUMMARY\n",
      "    FROM tiles \n",
      "    WHERE resourceinstanceid::text LIKE 'dbc95d2d-38fb-465e-a6cb-0545eaa7584f'\n",
      "    AND tiledata -> '34cfe9ef-c2c0-11ea-9026-02e7594ce0a0' IS NOT NULL\n",
      "    )\n",
      "    \n",
      "recorded values: [('Urban Heritage',)]\n",
      "read: RESOURCE DESCRIPTION | 34cfea91-c2c0-11ea-9026-02e7594ce0a0\n",
      "\n",
      "    SELECT value FROM values \n",
      "    WHERE valueid::text IN\n",
      "    (\n",
      "    SELECT tiledata ->> '34cfea91-c2c0-11ea-9026-02e7594ce0a0' AS RESOURCE_DESCRIPTION\n",
      "    FROM tiles \n",
      "    WHERE resourceinstanceid::text LIKE 'dbc95d2d-38fb-465e-a6cb-0545eaa7584f'\n",
      "    AND tiledata -> '34cfea91-c2c0-11ea-9026-02e7594ce0a0' IS NOT NULL\n",
      "    )\n",
      "    \n",
      "read: RESOURCE DESCRIPTION | 34cfea77-c2c0-11ea-9026-02e7594ce0a0\n",
      "\n",
      "    SELECT value FROM values \n",
      "    WHERE valueid::text IN\n",
      "    (\n",
      "    SELECT tiledata ->> '34cfea77-c2c0-11ea-9026-02e7594ce0a0' AS RESOURCE_DESCRIPTION\n",
      "    FROM tiles \n",
      "    WHERE resourceinstanceid::text LIKE 'dbc95d2d-38fb-465e-a6cb-0545eaa7584f'\n",
      "    AND tiledata -> '34cfea77-c2c0-11ea-9026-02e7594ce0a0' IS NOT NULL\n",
      "    )\n",
      "    \n",
      "read: HERITAGE RESOURCE CLASSIFICATION | 34cfea4a-c2c0-11ea-9026-02e7594ce0a0\n",
      "\n",
      "    SELECT value FROM values \n",
      "    WHERE valueid::text IN\n",
      "    (\n",
      "    SELECT tiledata ->> '34cfea4a-c2c0-11ea-9026-02e7594ce0a0' AS HERITAGE_RESOURCE_CLASSIFICATION\n",
      "    FROM tiles \n",
      "    WHERE resourceinstanceid::text LIKE 'dbc95d2d-38fb-465e-a6cb-0545eaa7584f'\n",
      "    AND tiledata -> '34cfea4a-c2c0-11ea-9026-02e7594ce0a0' IS NOT NULL\n",
      "    )\n",
      "    \n",
      "recorded values: [('Public/Institutional',)]\n",
      "read: DESIGNATION | d9abdfdb-c6a3-11ea-a292-02e7594ce0a0\n",
      "\n",
      "    SELECT value FROM values \n",
      "    WHERE valueid::text IN\n",
      "    (\n",
      "    SELECT tiledata ->> 'd9abdfdb-c6a3-11ea-a292-02e7594ce0a0' AS DESIGNATION\n",
      "    FROM tiles \n",
      "    WHERE resourceinstanceid::text LIKE 'dbc95d2d-38fb-465e-a6cb-0545eaa7584f'\n",
      "    AND tiledata -> 'd9abdfdb-c6a3-11ea-a292-02e7594ce0a0' IS NOT NULL\n",
      "    )\n",
      "    \n",
      "read: DESIGNATION | d9abdfe0-c6a3-11ea-a292-02e7594ce0a0\n",
      "\n",
      "    SELECT value FROM values \n",
      "    WHERE valueid::text IN\n",
      "    (\n",
      "    SELECT tiledata ->> 'd9abdfe0-c6a3-11ea-a292-02e7594ce0a0' AS DESIGNATION\n",
      "    FROM tiles \n",
      "    WHERE resourceinstanceid::text LIKE 'dbc95d2d-38fb-465e-a6cb-0545eaa7584f'\n",
      "    AND tiledata -> 'd9abdfe0-c6a3-11ea-a292-02e7594ce0a0' IS NOT NULL\n",
      "    )\n",
      "    \n",
      "read: DESIGNATION | d9abdfdf-c6a3-11ea-a292-02e7594ce0a0\n",
      "\n",
      "    SELECT value FROM values \n",
      "    WHERE valueid::text IN\n",
      "    (\n",
      "    SELECT tiledata ->> 'd9abdfdf-c6a3-11ea-a292-02e7594ce0a0' AS DESIGNATION\n",
      "    FROM tiles \n",
      "    WHERE resourceinstanceid::text LIKE 'dbc95d2d-38fb-465e-a6cb-0545eaa7584f'\n",
      "    AND tiledata -> 'd9abdfdf-c6a3-11ea-a292-02e7594ce0a0' IS NOT NULL\n",
      "    )\n",
      "    \n",
      "read: GEOMETRIES | 5348cf6c-c2c5-11ea-9026-02e7594ce0a0\n",
      "\n",
      "    SELECT value FROM values \n",
      "    WHERE valueid::text IN\n",
      "    (\n",
      "    SELECT tiledata ->> '5348cf6c-c2c5-11ea-9026-02e7594ce0a0' AS GEOMETRIES\n",
      "    FROM tiles \n",
      "    WHERE resourceinstanceid::text LIKE 'dbc95d2d-38fb-465e-a6cb-0545eaa7584f'\n",
      "    AND tiledata -> '5348cf6c-c2c5-11ea-9026-02e7594ce0a0' IS NOT NULL\n",
      "    )\n",
      "    \n",
      "recorded values: [('High',)]\n",
      "read: GEOGRAPHY | 34cfea5d-c2c0-11ea-9026-02e7594ce0a0\n",
      "\n",
      "    SELECT value FROM values \n",
      "    WHERE valueid::text IN\n",
      "    (\n",
      "    SELECT tiledata ->> '34cfea5d-c2c0-11ea-9026-02e7594ce0a0' AS GEOGRAPHY\n",
      "    FROM tiles \n",
      "    WHERE resourceinstanceid::text LIKE 'dbc95d2d-38fb-465e-a6cb-0545eaa7584f'\n",
      "    AND tiledata -> '34cfea5d-c2c0-11ea-9026-02e7594ce0a0' IS NOT NULL\n",
      "    )\n",
      "    \n",
      "read: GEOGRAPHY | 34cfea95-c2c0-11ea-9026-02e7594ce0a0\n",
      "\n",
      "    SELECT value FROM values \n",
      "    WHERE valueid::text IN\n",
      "    (\n",
      "    SELECT tiledata ->> '34cfea95-c2c0-11ea-9026-02e7594ce0a0' AS GEOGRAPHY\n",
      "    FROM tiles \n",
      "    WHERE resourceinstanceid::text LIKE 'dbc95d2d-38fb-465e-a6cb-0545eaa7584f'\n",
      "    AND tiledata -> '34cfea95-c2c0-11ea-9026-02e7594ce0a0' IS NOT NULL\n",
      "    )\n",
      "    \n",
      "read: GEOGRAPHY | 34cfea73-c2c0-11ea-9026-02e7594ce0a0\n",
      "\n",
      "    SELECT value FROM values \n",
      "    WHERE valueid::text IN\n",
      "    (\n",
      "    SELECT tiledata ->> '34cfea73-c2c0-11ea-9026-02e7594ce0a0' AS GEOGRAPHY\n",
      "    FROM tiles \n",
      "    WHERE resourceinstanceid::text LIKE 'dbc95d2d-38fb-465e-a6cb-0545eaa7584f'\n",
      "    AND tiledata -> '34cfea73-c2c0-11ea-9026-02e7594ce0a0' IS NOT NULL\n",
      "    )\n",
      "    \n",
      "read: ARCHAEOLOGICAL ASSESSMENT | 34cfe9e6-c2c0-11ea-9026-02e7594ce0a0\n",
      "\n",
      "    SELECT value FROM values \n",
      "    WHERE valueid::text IN\n",
      "    (\n",
      "    SELECT tiledata ->> '34cfe9e6-c2c0-11ea-9026-02e7594ce0a0' AS ARCHAEOLOGICAL_ASSESSMENT\n",
      "    FROM tiles \n",
      "    WHERE resourceinstanceid::text LIKE 'dbc95d2d-38fb-465e-a6cb-0545eaa7584f'\n",
      "    AND tiledata -> '34cfe9e6-c2c0-11ea-9026-02e7594ce0a0' IS NOT NULL\n",
      "    )\n",
      "    \n",
      "read: PERIODIZATION | 38cff738-c77b-11ea-a292-02e7594ce0a0\n",
      "\n",
      "    SELECT value FROM values \n",
      "    WHERE valueid::text IN\n",
      "    (\n",
      "    SELECT tiledata ->> '38cff738-c77b-11ea-a292-02e7594ce0a0' AS PERIODIZATION\n",
      "    FROM tiles \n",
      "    WHERE resourceinstanceid::text LIKE 'dbc95d2d-38fb-465e-a6cb-0545eaa7584f'\n",
      "    AND tiledata -> '38cff738-c77b-11ea-a292-02e7594ce0a0' IS NOT NULL\n",
      "    )\n",
      "    \n",
      "read: SITE FEATURES and INTERPRETATIONS | 34cfea9a-c2c0-11ea-9026-02e7594ce0a0\n",
      "\n",
      "    SELECT value FROM values \n",
      "    WHERE valueid::text IN\n",
      "    (\n",
      "    SELECT tiledata ->> '34cfea9a-c2c0-11ea-9026-02e7594ce0a0' AS SITE_FEATURES_and_INTERPRETATIONS\n",
      "    FROM tiles \n",
      "    WHERE resourceinstanceid::text LIKE 'dbc95d2d-38fb-465e-a6cb-0545eaa7584f'\n",
      "    AND tiledata -> '34cfea9a-c2c0-11ea-9026-02e7594ce0a0' IS NOT NULL\n",
      "    )\n",
      "    \n",
      "read: SITE FEATURES and INTERPRETATIONS | 34cfea19-c2c0-11ea-9026-02e7594ce0a0\n",
      "\n",
      "    SELECT value FROM values \n",
      "    WHERE valueid::text IN\n",
      "    (\n",
      "    SELECT tiledata ->> '34cfea19-c2c0-11ea-9026-02e7594ce0a0' AS SITE_FEATURES_and_INTERPRETATIONS\n",
      "    FROM tiles \n",
      "    WHERE resourceinstanceid::text LIKE 'dbc95d2d-38fb-465e-a6cb-0545eaa7584f'\n",
      "    AND tiledata -> '34cfea19-c2c0-11ea-9026-02e7594ce0a0' IS NOT NULL\n",
      "    )\n",
      "    \n",
      "read: SITE FEATURES and INTERPRETATIONS | 34cfe9e9-c2c0-11ea-9026-02e7594ce0a0\n",
      "\n",
      "    SELECT value FROM values \n",
      "    WHERE valueid::text IN\n",
      "    (\n",
      "    SELECT tiledata ->> '34cfe9e9-c2c0-11ea-9026-02e7594ce0a0' AS SITE_FEATURES_and_INTERPRETATIONS\n",
      "    FROM tiles \n",
      "    WHERE resourceinstanceid::text LIKE 'dbc95d2d-38fb-465e-a6cb-0545eaa7584f'\n",
      "    AND tiledata -> '34cfe9e9-c2c0-11ea-9026-02e7594ce0a0' IS NOT NULL\n",
      "    )\n",
      "    \n",
      "read: SITE FEATURES and INTERPRETATIONS | 34cfe9f8-c2c0-11ea-9026-02e7594ce0a0\n",
      "\n",
      "    SELECT value FROM values \n",
      "    WHERE valueid::text IN\n",
      "    (\n",
      "    SELECT tiledata ->> '34cfe9f8-c2c0-11ea-9026-02e7594ce0a0' AS SITE_FEATURES_and_INTERPRETATIONS\n",
      "    FROM tiles \n",
      "    WHERE resourceinstanceid::text LIKE 'dbc95d2d-38fb-465e-a6cb-0545eaa7584f'\n",
      "    AND tiledata -> '34cfe9f8-c2c0-11ea-9026-02e7594ce0a0' IS NOT NULL\n",
      "    )\n",
      "    \n",
      "read: SITE FEATURES and INTERPRETATIONS | 34cfea44-c2c0-11ea-9026-02e7594ce0a0\n",
      "\n",
      "    SELECT value FROM values \n",
      "    WHERE valueid::text IN\n",
      "    (\n",
      "    SELECT tiledata ->> '34cfea44-c2c0-11ea-9026-02e7594ce0a0' AS SITE_FEATURES_and_INTERPRETATIONS\n",
      "    FROM tiles \n",
      "    WHERE resourceinstanceid::text LIKE 'dbc95d2d-38fb-465e-a6cb-0545eaa7584f'\n",
      "    AND tiledata -> '34cfea44-c2c0-11ea-9026-02e7594ce0a0' IS NOT NULL\n",
      "    )\n",
      "    \n",
      "read: CONDITION ASSESSMENT | 34cfea8e-c2c0-11ea-9026-02e7594ce0a0\n",
      "\n",
      "    SELECT value FROM values \n",
      "    WHERE valueid::text IN\n",
      "    (\n",
      "    SELECT tiledata ->> '34cfea8e-c2c0-11ea-9026-02e7594ce0a0' AS CONDITION_ASSESSMENT\n",
      "    FROM tiles \n",
      "    WHERE resourceinstanceid::text LIKE 'dbc95d2d-38fb-465e-a6cb-0545eaa7584f'\n",
      "    AND tiledata -> '34cfea8e-c2c0-11ea-9026-02e7594ce0a0' IS NOT NULL\n",
      "    )\n",
      "    \n",
      "recorded values: [('31-60%',), ('61-90%',)]\n",
      "read: DISTURBANCES | 34cfea68-c2c0-11ea-9026-02e7594ce0a0\n",
      "\n",
      "    SELECT value FROM values \n",
      "    WHERE valueid::text IN\n",
      "    (\n",
      "    SELECT tiledata ->> '34cfea68-c2c0-11ea-9026-02e7594ce0a0' AS DISTURBANCES\n",
      "    FROM tiles \n",
      "    WHERE resourceinstanceid::text LIKE 'dbc95d2d-38fb-465e-a6cb-0545eaa7584f'\n",
      "    AND tiledata -> '34cfea68-c2c0-11ea-9026-02e7594ce0a0' IS NOT NULL\n",
      "    )\n",
      "    \n",
      "recorded values: [('Vandalism',)]\n",
      "read: DISTURBANCES | e3cc8c5a-c772-11ea-a292-02e7594ce0a0\n",
      "\n",
      "    SELECT value FROM values \n",
      "    WHERE valueid::text IN\n",
      "    (\n",
      "    SELECT tiledata ->> 'e3cc8c5a-c772-11ea-a292-02e7594ce0a0' AS DISTURBANCES\n",
      "    FROM tiles \n",
      "    WHERE resourceinstanceid::text LIKE 'dbc95d2d-38fb-465e-a6cb-0545eaa7584f'\n",
      "    AND tiledata -> 'e3cc8c5a-c772-11ea-a292-02e7594ce0a0' IS NOT NULL\n",
      "    )\n",
      "    \n",
      "read: THREATS | 34cfea90-c2c0-11ea-9026-02e7594ce0a0\n",
      "\n",
      "    SELECT value FROM values \n",
      "    WHERE valueid::text IN\n",
      "    (\n",
      "    SELECT tiledata ->> '34cfea90-c2c0-11ea-9026-02e7594ce0a0' AS THREATS\n",
      "    FROM tiles \n",
      "    WHERE resourceinstanceid::text LIKE 'dbc95d2d-38fb-465e-a6cb-0545eaa7584f'\n",
      "    AND tiledata -> '34cfea90-c2c0-11ea-9026-02e7594ce0a0' IS NOT NULL\n",
      "    )\n",
      "    \n",
      "recorded values: [('Loss/Removal of Archaeological Material',)]\n",
      "read: THREATS | 34cfea5c-c2c0-11ea-9026-02e7594ce0a0\n",
      "\n",
      "    SELECT value FROM values \n",
      "    WHERE valueid::text IN\n",
      "    (\n",
      "    SELECT tiledata ->> '34cfea5c-c2c0-11ea-9026-02e7594ce0a0' AS THREATS\n",
      "    FROM tiles \n",
      "    WHERE resourceinstanceid::text LIKE 'dbc95d2d-38fb-465e-a6cb-0545eaa7584f'\n",
      "    AND tiledata -> '34cfea5c-c2c0-11ea-9026-02e7594ce0a0' IS NOT NULL\n",
      "    )\n",
      "    \n",
      "recorded values: [('Definite',)]\n",
      "read: CONDITION ASSESSMENT | 34cfea64-c2c0-11ea-9026-02e7594ce0a0\n",
      "\n",
      "    SELECT value FROM values \n",
      "    WHERE valueid::text IN\n",
      "    (\n",
      "    SELECT tiledata ->> '34cfea64-c2c0-11ea-9026-02e7594ce0a0' AS CONDITION_ASSESSMENT\n",
      "    FROM tiles \n",
      "    WHERE resourceinstanceid::text LIKE 'dbc95d2d-38fb-465e-a6cb-0545eaa7584f'\n",
      "    AND tiledata -> '34cfea64-c2c0-11ea-9026-02e7594ce0a0' IS NOT NULL\n",
      "    )\n",
      "    \n",
      "|    | field                             |   recorded |\n",
      "|---:|:----------------------------------|-----------:|\n",
      "|  0 | ASSESSMENT ACTIVITY               |          0 |\n",
      "|  1 | RESOURCE NAME                     |          1 |\n",
      "|  2 | RESOURCE SUMMARY                  |          1 |\n",
      "|  3 | RESOURCE DESCRIPTION              |          0 |\n",
      "|  4 | HERITAGE RESOURCE CLASSIFICATION  |          1 |\n",
      "|  5 | DESIGNATION                       |          0 |\n",
      "|  6 | GEOMETRIES                        |          1 |\n",
      "|  7 | GEOGRAPHY                         |          0 |\n",
      "|  8 | ARCHAEOLOGICAL ASSESSMENT         |          0 |\n",
      "|  9 | PERIODIZATION                     |          0 |\n",
      "| 10 | SITE FEATURES and INTERPRETATIONS |          0 |\n",
      "| 11 | CONDITION ASSESSMENT              |          1 |\n",
      "| 12 | DISTURBANCES                      |          1 |\n",
      "| 13 | THREATS                           |          2 |\n"
     ]
    }
   ],
   "source": [
    "# empty dataframe\n",
    "level_values = df_listed[mylevel].unique()\n",
    "data = {'field': level_values,\n",
    "        'recorded': np.repeat(0, len(level_values)).tolist()}\n",
    "df_res = pd.DataFrame(data)\n",
    "# loop and fill it\n",
    "for i in df_listed.index:\n",
    "    if verbose:\n",
    "        print(\"read: \" + df_listed[mylevel][i] + ' | ' + df_listed['uuid_sql'][i])\n",
    "    df_field = df_listed[mylevel][i]\n",
    "    df_field_sql = re.sub(\" \", \"_\", df_field) # rm space\n",
    "    df_uuid = df_listed['uuid_sql'][i]\n",
    "    sqll = \"\"\"\n",
    "    SELECT value FROM values \n",
    "    WHERE valueid::text IN\n",
    "    (\n",
    "    SELECT tiledata ->> '%s' AS %s\n",
    "    FROM tiles \n",
    "    WHERE resourceinstanceid::text LIKE '%s'\n",
    "    AND tiledata -> '%s' IS NOT NULL\n",
    "    )\n",
    "    \"\"\" % (df_uuid, df_field_sql, hpid, df_uuid)\n",
    "    if verbose:\n",
    "        print(sqll)\n",
    "    cur.execute(sqll)\n",
    "    outvalue = cur.fetchall()\n",
    "    if len(outvalue) > 0:\n",
    "        row_num = df_res[df_res['field'] == df_field].index.tolist()\n",
    "        df_res.at[row_num[0], 'recorded'] = df_res.loc[row_num[0]]['recorded'] + 1\n",
    "        if verbose:\n",
    "            print(\"recorded values: \" + str(outvalue))\n",
    "if(verbose):\n",
    "    print(df_res.to_markdown())"
   ]
  },
  {
   "cell_type": "markdown",
   "metadata": {},
   "source": [
    "### Spider diagram"
   ]
  },
  {
   "cell_type": "markdown",
   "metadata": {},
   "source": [
    "Show spider diagram with number of fields recorded. If `level3` has been selected, the spider plot will also plot the ERMS. "
   ]
  },
  {
   "cell_type": "code",
   "execution_count": 46,
   "metadata": {},
   "outputs": [
    {
     "data": {
      "application/vnd.plotly.v1+json": {
       "config": {
        "plotlyServerURL": "https://plot.ly"
       },
       "data": [
        {
         "hovertemplate": "value=%{r}<br>variable=%{theta}<extra></extra>",
         "legendgroup": "",
         "line": {
          "color": "#636efa",
          "dash": "solid"
         },
         "marker": {
          "symbol": "circle"
         },
         "mode": "lines",
         "name": "",
         "r": [
          0,
          1,
          1,
          0,
          1,
          0,
          1,
          0,
          0,
          0,
          0,
          1,
          1,
          2,
          0
         ],
         "showlegend": false,
         "subplot": "polar",
         "theta": [
          "ASSESSMENT ACTIVITY",
          "RESOURCE NAME",
          "RESOURCE SUMMARY",
          "RESOURCE DESCRIPTION",
          "HERITAGE RESOURCE CLASSIFICATION",
          "DESIGNATION",
          "GEOMETRIES",
          "GEOGRAPHY",
          "ARCHAEOLOGICAL ASSESSMENT",
          "PERIODIZATION",
          "SITE FEATURES and INTERPRETATIONS",
          "CONDITION ASSESSMENT",
          "DISTURBANCES",
          "THREATS",
          "ASSESSMENT ACTIVITY"
         ],
         "type": "scatterpolar"
        }
       ],
       "layout": {
        "legend": {
         "tracegroupgap": 0
        },
        "polar": {
         "angularaxis": {
          "direction": "clockwise",
          "rotation": 90
         },
         "domain": {
          "x": [
           0,
           1
          ],
          "y": [
           0,
           1
          ]
         }
        },
        "template": {
         "data": {
          "bar": [
           {
            "error_x": {
             "color": "#2a3f5f"
            },
            "error_y": {
             "color": "#2a3f5f"
            },
            "marker": {
             "line": {
              "color": "#E5ECF6",
              "width": 0.5
             },
             "pattern": {
              "fillmode": "overlay",
              "size": 10,
              "solidity": 0.2
             }
            },
            "type": "bar"
           }
          ],
          "barpolar": [
           {
            "marker": {
             "line": {
              "color": "#E5ECF6",
              "width": 0.5
             },
             "pattern": {
              "fillmode": "overlay",
              "size": 10,
              "solidity": 0.2
             }
            },
            "type": "barpolar"
           }
          ],
          "carpet": [
           {
            "aaxis": {
             "endlinecolor": "#2a3f5f",
             "gridcolor": "white",
             "linecolor": "white",
             "minorgridcolor": "white",
             "startlinecolor": "#2a3f5f"
            },
            "baxis": {
             "endlinecolor": "#2a3f5f",
             "gridcolor": "white",
             "linecolor": "white",
             "minorgridcolor": "white",
             "startlinecolor": "#2a3f5f"
            },
            "type": "carpet"
           }
          ],
          "choropleth": [
           {
            "colorbar": {
             "outlinewidth": 0,
             "ticks": ""
            },
            "type": "choropleth"
           }
          ],
          "contour": [
           {
            "colorbar": {
             "outlinewidth": 0,
             "ticks": ""
            },
            "colorscale": [
             [
              0,
              "#0d0887"
             ],
             [
              0.1111111111111111,
              "#46039f"
             ],
             [
              0.2222222222222222,
              "#7201a8"
             ],
             [
              0.3333333333333333,
              "#9c179e"
             ],
             [
              0.4444444444444444,
              "#bd3786"
             ],
             [
              0.5555555555555556,
              "#d8576b"
             ],
             [
              0.6666666666666666,
              "#ed7953"
             ],
             [
              0.7777777777777778,
              "#fb9f3a"
             ],
             [
              0.8888888888888888,
              "#fdca26"
             ],
             [
              1,
              "#f0f921"
             ]
            ],
            "type": "contour"
           }
          ],
          "contourcarpet": [
           {
            "colorbar": {
             "outlinewidth": 0,
             "ticks": ""
            },
            "type": "contourcarpet"
           }
          ],
          "heatmap": [
           {
            "colorbar": {
             "outlinewidth": 0,
             "ticks": ""
            },
            "colorscale": [
             [
              0,
              "#0d0887"
             ],
             [
              0.1111111111111111,
              "#46039f"
             ],
             [
              0.2222222222222222,
              "#7201a8"
             ],
             [
              0.3333333333333333,
              "#9c179e"
             ],
             [
              0.4444444444444444,
              "#bd3786"
             ],
             [
              0.5555555555555556,
              "#d8576b"
             ],
             [
              0.6666666666666666,
              "#ed7953"
             ],
             [
              0.7777777777777778,
              "#fb9f3a"
             ],
             [
              0.8888888888888888,
              "#fdca26"
             ],
             [
              1,
              "#f0f921"
             ]
            ],
            "type": "heatmap"
           }
          ],
          "heatmapgl": [
           {
            "colorbar": {
             "outlinewidth": 0,
             "ticks": ""
            },
            "colorscale": [
             [
              0,
              "#0d0887"
             ],
             [
              0.1111111111111111,
              "#46039f"
             ],
             [
              0.2222222222222222,
              "#7201a8"
             ],
             [
              0.3333333333333333,
              "#9c179e"
             ],
             [
              0.4444444444444444,
              "#bd3786"
             ],
             [
              0.5555555555555556,
              "#d8576b"
             ],
             [
              0.6666666666666666,
              "#ed7953"
             ],
             [
              0.7777777777777778,
              "#fb9f3a"
             ],
             [
              0.8888888888888888,
              "#fdca26"
             ],
             [
              1,
              "#f0f921"
             ]
            ],
            "type": "heatmapgl"
           }
          ],
          "histogram": [
           {
            "marker": {
             "pattern": {
              "fillmode": "overlay",
              "size": 10,
              "solidity": 0.2
             }
            },
            "type": "histogram"
           }
          ],
          "histogram2d": [
           {
            "colorbar": {
             "outlinewidth": 0,
             "ticks": ""
            },
            "colorscale": [
             [
              0,
              "#0d0887"
             ],
             [
              0.1111111111111111,
              "#46039f"
             ],
             [
              0.2222222222222222,
              "#7201a8"
             ],
             [
              0.3333333333333333,
              "#9c179e"
             ],
             [
              0.4444444444444444,
              "#bd3786"
             ],
             [
              0.5555555555555556,
              "#d8576b"
             ],
             [
              0.6666666666666666,
              "#ed7953"
             ],
             [
              0.7777777777777778,
              "#fb9f3a"
             ],
             [
              0.8888888888888888,
              "#fdca26"
             ],
             [
              1,
              "#f0f921"
             ]
            ],
            "type": "histogram2d"
           }
          ],
          "histogram2dcontour": [
           {
            "colorbar": {
             "outlinewidth": 0,
             "ticks": ""
            },
            "colorscale": [
             [
              0,
              "#0d0887"
             ],
             [
              0.1111111111111111,
              "#46039f"
             ],
             [
              0.2222222222222222,
              "#7201a8"
             ],
             [
              0.3333333333333333,
              "#9c179e"
             ],
             [
              0.4444444444444444,
              "#bd3786"
             ],
             [
              0.5555555555555556,
              "#d8576b"
             ],
             [
              0.6666666666666666,
              "#ed7953"
             ],
             [
              0.7777777777777778,
              "#fb9f3a"
             ],
             [
              0.8888888888888888,
              "#fdca26"
             ],
             [
              1,
              "#f0f921"
             ]
            ],
            "type": "histogram2dcontour"
           }
          ],
          "mesh3d": [
           {
            "colorbar": {
             "outlinewidth": 0,
             "ticks": ""
            },
            "type": "mesh3d"
           }
          ],
          "parcoords": [
           {
            "line": {
             "colorbar": {
              "outlinewidth": 0,
              "ticks": ""
             }
            },
            "type": "parcoords"
           }
          ],
          "pie": [
           {
            "automargin": true,
            "type": "pie"
           }
          ],
          "scatter": [
           {
            "fillpattern": {
             "fillmode": "overlay",
             "size": 10,
             "solidity": 0.2
            },
            "type": "scatter"
           }
          ],
          "scatter3d": [
           {
            "line": {
             "colorbar": {
              "outlinewidth": 0,
              "ticks": ""
             }
            },
            "marker": {
             "colorbar": {
              "outlinewidth": 0,
              "ticks": ""
             }
            },
            "type": "scatter3d"
           }
          ],
          "scattercarpet": [
           {
            "marker": {
             "colorbar": {
              "outlinewidth": 0,
              "ticks": ""
             }
            },
            "type": "scattercarpet"
           }
          ],
          "scattergeo": [
           {
            "marker": {
             "colorbar": {
              "outlinewidth": 0,
              "ticks": ""
             }
            },
            "type": "scattergeo"
           }
          ],
          "scattergl": [
           {
            "marker": {
             "colorbar": {
              "outlinewidth": 0,
              "ticks": ""
             }
            },
            "type": "scattergl"
           }
          ],
          "scattermapbox": [
           {
            "marker": {
             "colorbar": {
              "outlinewidth": 0,
              "ticks": ""
             }
            },
            "type": "scattermapbox"
           }
          ],
          "scatterpolar": [
           {
            "marker": {
             "colorbar": {
              "outlinewidth": 0,
              "ticks": ""
             }
            },
            "type": "scatterpolar"
           }
          ],
          "scatterpolargl": [
           {
            "marker": {
             "colorbar": {
              "outlinewidth": 0,
              "ticks": ""
             }
            },
            "type": "scatterpolargl"
           }
          ],
          "scatterternary": [
           {
            "marker": {
             "colorbar": {
              "outlinewidth": 0,
              "ticks": ""
             }
            },
            "type": "scatterternary"
           }
          ],
          "surface": [
           {
            "colorbar": {
             "outlinewidth": 0,
             "ticks": ""
            },
            "colorscale": [
             [
              0,
              "#0d0887"
             ],
             [
              0.1111111111111111,
              "#46039f"
             ],
             [
              0.2222222222222222,
              "#7201a8"
             ],
             [
              0.3333333333333333,
              "#9c179e"
             ],
             [
              0.4444444444444444,
              "#bd3786"
             ],
             [
              0.5555555555555556,
              "#d8576b"
             ],
             [
              0.6666666666666666,
              "#ed7953"
             ],
             [
              0.7777777777777778,
              "#fb9f3a"
             ],
             [
              0.8888888888888888,
              "#fdca26"
             ],
             [
              1,
              "#f0f921"
             ]
            ],
            "type": "surface"
           }
          ],
          "table": [
           {
            "cells": {
             "fill": {
              "color": "#EBF0F8"
             },
             "line": {
              "color": "white"
             }
            },
            "header": {
             "fill": {
              "color": "#C8D4E3"
             },
             "line": {
              "color": "white"
             }
            },
            "type": "table"
           }
          ]
         },
         "layout": {
          "annotationdefaults": {
           "arrowcolor": "#2a3f5f",
           "arrowhead": 0,
           "arrowwidth": 1
          },
          "autotypenumbers": "strict",
          "coloraxis": {
           "colorbar": {
            "outlinewidth": 0,
            "ticks": ""
           }
          },
          "colorscale": {
           "diverging": [
            [
             0,
             "#8e0152"
            ],
            [
             0.1,
             "#c51b7d"
            ],
            [
             0.2,
             "#de77ae"
            ],
            [
             0.3,
             "#f1b6da"
            ],
            [
             0.4,
             "#fde0ef"
            ],
            [
             0.5,
             "#f7f7f7"
            ],
            [
             0.6,
             "#e6f5d0"
            ],
            [
             0.7,
             "#b8e186"
            ],
            [
             0.8,
             "#7fbc41"
            ],
            [
             0.9,
             "#4d9221"
            ],
            [
             1,
             "#276419"
            ]
           ],
           "sequential": [
            [
             0,
             "#0d0887"
            ],
            [
             0.1111111111111111,
             "#46039f"
            ],
            [
             0.2222222222222222,
             "#7201a8"
            ],
            [
             0.3333333333333333,
             "#9c179e"
            ],
            [
             0.4444444444444444,
             "#bd3786"
            ],
            [
             0.5555555555555556,
             "#d8576b"
            ],
            [
             0.6666666666666666,
             "#ed7953"
            ],
            [
             0.7777777777777778,
             "#fb9f3a"
            ],
            [
             0.8888888888888888,
             "#fdca26"
            ],
            [
             1,
             "#f0f921"
            ]
           ],
           "sequentialminus": [
            [
             0,
             "#0d0887"
            ],
            [
             0.1111111111111111,
             "#46039f"
            ],
            [
             0.2222222222222222,
             "#7201a8"
            ],
            [
             0.3333333333333333,
             "#9c179e"
            ],
            [
             0.4444444444444444,
             "#bd3786"
            ],
            [
             0.5555555555555556,
             "#d8576b"
            ],
            [
             0.6666666666666666,
             "#ed7953"
            ],
            [
             0.7777777777777778,
             "#fb9f3a"
            ],
            [
             0.8888888888888888,
             "#fdca26"
            ],
            [
             1,
             "#f0f921"
            ]
           ]
          },
          "colorway": [
           "#636efa",
           "#EF553B",
           "#00cc96",
           "#ab63fa",
           "#FFA15A",
           "#19d3f3",
           "#FF6692",
           "#B6E880",
           "#FF97FF",
           "#FECB52"
          ],
          "font": {
           "color": "#2a3f5f"
          },
          "geo": {
           "bgcolor": "white",
           "lakecolor": "white",
           "landcolor": "#E5ECF6",
           "showlakes": true,
           "showland": true,
           "subunitcolor": "white"
          },
          "hoverlabel": {
           "align": "left"
          },
          "hovermode": "closest",
          "mapbox": {
           "style": "light"
          },
          "paper_bgcolor": "white",
          "plot_bgcolor": "#E5ECF6",
          "polar": {
           "angularaxis": {
            "gridcolor": "white",
            "linecolor": "white",
            "ticks": ""
           },
           "bgcolor": "#E5ECF6",
           "radialaxis": {
            "gridcolor": "white",
            "linecolor": "white",
            "ticks": ""
           }
          },
          "scene": {
           "xaxis": {
            "backgroundcolor": "#E5ECF6",
            "gridcolor": "white",
            "gridwidth": 2,
            "linecolor": "white",
            "showbackground": true,
            "ticks": "",
            "zerolinecolor": "white"
           },
           "yaxis": {
            "backgroundcolor": "#E5ECF6",
            "gridcolor": "white",
            "gridwidth": 2,
            "linecolor": "white",
            "showbackground": true,
            "ticks": "",
            "zerolinecolor": "white"
           },
           "zaxis": {
            "backgroundcolor": "#E5ECF6",
            "gridcolor": "white",
            "gridwidth": 2,
            "linecolor": "white",
            "showbackground": true,
            "ticks": "",
            "zerolinecolor": "white"
           }
          },
          "shapedefaults": {
           "line": {
            "color": "#2a3f5f"
           }
          },
          "ternary": {
           "aaxis": {
            "gridcolor": "white",
            "linecolor": "white",
            "ticks": ""
           },
           "baxis": {
            "gridcolor": "white",
            "linecolor": "white",
            "ticks": ""
           },
           "bgcolor": "#E5ECF6",
           "caxis": {
            "gridcolor": "white",
            "linecolor": "white",
            "ticks": ""
           }
          },
          "title": {
           "x": 0.05
          },
          "xaxis": {
           "automargin": true,
           "gridcolor": "white",
           "linecolor": "white",
           "ticks": "",
           "title": {
            "standoff": 15
           },
           "zerolinecolor": "white",
           "zerolinewidth": 2
          },
          "yaxis": {
           "automargin": true,
           "gridcolor": "white",
           "linecolor": "white",
           "ticks": "",
           "title": {
            "standoff": 15
           },
           "zerolinecolor": "white",
           "zerolinewidth": 2
          }
         }
        },
        "title": {
         "text": "EAMENA-0500002 - level2"
        }
       }
      }
     },
     "metadata": {},
     "output_type": "display_data"
    }
   ],
   "source": [
    "tit = selected_hp + \" - \" + mylevel \n",
    "if mylevel == 'level3':\n",
    "    colors = {'recorded': 'blue', 'Enhanced record minimum standard': 'red'}\n",
    "    merged_df = pd.merge(df_res, df_erms, on='field')\n",
    "    melted_df = pd.melt(merged_df, id_vars=['field'], var_name='Value Set', value_name='Value')\n",
    "    melted_df.sort_values('Value Set', inplace=True)\n",
    "    if verbose:\n",
    "        print(melted_df.to_markdown())\n",
    "    fig = px.line_polar(melted_df, r='Value', theta='field', color = 'Value Set',\n",
    "                        line_close = False, color_discrete_map = colors, title = tit)\n",
    "    fig.show()\n",
    "else:\n",
    "    variable = df_res['field'].tolist()\n",
    "    value = df_res['recorded'].tolist()\n",
    "    df = pd.DataFrame(dict(\n",
    "        value = value,\n",
    "        variable = variable))\n",
    "    fig = px.line_polar(df, r = 'value', theta = 'variable', \n",
    "                        line_close = True, title = tit)\n",
    "    fig.show()"
   ]
  },
  {
   "cell_type": "markdown",
   "metadata": {},
   "source": [
    "## Development\n",
    "\n",
    "* add a loop to work with 1..n HP\n",
    "* improve the spider plot output (inetrvals, grid layout, etc.)\n",
    "* connect the main DB"
   ]
  },
  {
   "cell_type": "markdown",
   "metadata": {},
   "source": [
    "## Questions\n",
    "\n",
    "* What kind of structure should we select to provide a list of HP (dataframe, list, etc.)?\n",
    "* Do we want to have this ERMS assessement upstream (on the BU)?\n",
    "* Do the code chunk are useful is this document, if not they can be grouped in functions, and these functions called from the Jupyter notebook (ex: `!python myfunction.py`)?"
   ]
  }
 ],
 "metadata": {
  "kernelspec": {
   "display_name": "Python 3",
   "language": "python",
   "name": "python3"
  },
  "language_info": {
   "codemirror_mode": {
    "name": "ipython",
    "version": 3
   },
   "file_extension": ".py",
   "mimetype": "text/x-python",
   "name": "python",
   "nbconvert_exporter": "python",
   "pygments_lexer": "ipython3",
   "version": "3.11.2"
  },
  "orig_nbformat": 4
 },
 "nbformat": 4,
 "nbformat_minor": 2
}
