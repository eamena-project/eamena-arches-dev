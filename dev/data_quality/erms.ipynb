{
 "cells": [
  {
   "cell_type": "markdown",
   "metadata": {},
   "source": [
    "## Enhanced record minimum standard compliance of Heritage Places"
   ]
  },
  {
   "cell_type": "markdown",
   "metadata": {},
   "source": [
    "Enhanced record minimum standard (ERMS) is the minimum standard of data enhancement for heritage places. The report of Heritage Places ERMS is done downstream, once the heritages places (HP) have been recorded in the database "
   ]
  },
  {
   "cell_type": "markdown",
   "metadata": {},
   "source": [
    "Import libraries"
   ]
  },
  {
   "cell_type": "code",
   "execution_count": 26,
   "metadata": {},
   "outputs": [],
   "source": [
    "import psycopg2 as pg\n",
    "import pandas as pd\n",
    "import numpy as np\n",
    "import re\n",
    "import ipywidgets as widgets\n",
    "from IPython.display import display\n",
    "import matplotlib.pyplot as plt\n",
    "import plotly.express as px"
   ]
  },
  {
   "cell_type": "markdown",
   "metadata": {},
   "source": [
    "### Constants\n",
    "\n",
    "Load:\n",
    "- the UUID of HP in its resource model (RM)\n",
    "- the read-only user `eamenar` parameters (see: [creating-a-read-only-user](https://github.com/eamena-project/eamena-arches-dev/tree/main/dev/postgres#creating-a-read-only-user)) on the training EAMENA instance\n",
    "- ..."
   ]
  },
  {
   "cell_type": "code",
   "execution_count": 27,
   "metadata": {},
   "outputs": [],
   "source": [
    "# Heritage Place Resource Model UUID\n",
    "uuid_hp = '34cfe992-c2c0-11ea-9026-02e7594ce0a0'\n",
    "# connection parameters\n",
    "dbname = \"eamena\"\n",
    "user = \"eamenar\"\n",
    "password = \"eamenar\"\n",
    "host = \"52.50.27.140\"\n",
    "port = \"5432\"\n",
    "# verbose\n",
    "verbose = False"
   ]
  },
  {
   "cell_type": "markdown",
   "metadata": {},
   "source": [
    "Connect the database"
   ]
  },
  {
   "cell_type": "code",
   "execution_count": 28,
   "metadata": {},
   "outputs": [],
   "source": [
    "try:\n",
    "    connection = pg.connect(\n",
    "        dbname = dbname,\n",
    "        user = user,\n",
    "        password = password,\n",
    "        host = host,\n",
    "        port = port\n",
    "    )\n",
    "    cur = connection.cursor()\n",
    "    if verbose:\n",
    "        print(\"Connection established successfully!\")\n",
    "except pg.Error as e:\n",
    "    print(f\"Error: {e}\")"
   ]
  },
  {
   "cell_type": "markdown",
   "metadata": {},
   "source": [
    "## Heritage place selection\n",
    "\n",
    "Select an HP and get its UUID (default: [EAMENA-0500002](http://52.50.27.140/search?paging-filter=1&tiles=true&format=tilecsv&reportlink=false&precision=6&total=3574&term-filter=%5B%7B%22context%22%3A%22%22%2C%22context_label%22%3A%22Heritage%20Place%20-%20EAMENA%20ID%22%2C%22id%22%3A0%2C%22text%22%3A%22EAMENA-0500002%22%2C%22type%22%3A%22term%22%2C%22value%22%3A%22EAMENA-0500002%22%2C%22inverted%22%3Afalse%7D%5D&language=*))"
   ]
  },
  {
   "cell_type": "code",
   "execution_count": 29,
   "metadata": {},
   "outputs": [],
   "source": [
    "selected_hp = 'EAMENA-0500002'\n",
    "sqll = \"\"\"\n",
    "SELECT\n",
    "      resourceinstanceid AS resourceid\n",
    "      FROM tiles\n",
    "      WHERE tiledata -> '%s' -> 'en' ->> 'value' LIKE '%s'\n",
    "\"\"\" % (uuid_hp, selected_hp)\n",
    "# print(sqll)\n",
    "cur.execute(sqll)\n",
    "hpid = cur.fetchone()[0]  \n",
    "if verbose: \n",
    "      print(\"the UUID of '\" + selected_hp + \"' is '\" + hpid + \"'\")"
   ]
  },
  {
   "cell_type": "markdown",
   "metadata": {},
   "source": [
    "## Heritage places field with their UUIDs\n",
    "\n",
    "Read the [erms-template-readonly.tsv](https://github.com/eamena-project/eamena-arches-dev/blob/main/dev/data_quality/erms-template-readonly.tsv) file (see: [README.md](https://github.com/eamena-project/eamena-arches-dev/tree/main/dev/data_quality#erms))."
   ]
  },
  {
   "cell_type": "code",
   "execution_count": 31,
   "metadata": {},
   "outputs": [
    {
     "name": "stdout",
     "output_type": "stream",
     "text": [
      "|    | level1                    | level2                            | level3                                     | uuid_sql                             | Enhanced record minimum standard                                                                                                                             |\n",
      "|---:|:--------------------------|:----------------------------------|:-------------------------------------------|:-------------------------------------|:-------------------------------------------------------------------------------------------------------------------------------------------------------------|\n",
      "|  1 | ASSESSMENT SUMMARY        | ASSESSMENT ACTIVITY               | Investigator Role Type                     | d2e1ab96-cc05-11ea-a292-02e7594ce0a0 | Yes                                                                                                                                                          |\n",
      "|  5 | ASSESSMENT SUMMARY        | ASSESSMENT ACTIVITY               | GE Imagery Acquisition Date                | b9643302-0407-11eb-a11c-0a5a9a4f6ef7 | Yes, if an acquisition date is available. If there are a range of images the earliest and most recent dates should be added.                                 |\n",
      "|  8 | RESOURCE SUMMARY          | RESOURCE NAME                     | Resource Name                              | 34cfe9dd-c2c0-11ea-9026-02e7594ce0a0 | No (a site identified via remote sensing may not have an identifiable name, and the EAMENA Database will automatically generate a UiD).                      |\n",
      "|  9 | RESOURCE SUMMARY          | RESOURCE NAME                     | Name Type                                  | 34cfea97-c2c0-11ea-9026-02e7594ce0a0 | No                                                                                                                                                           |\n",
      "| 10 | RESOURCE SUMMARY          | RESOURCE SUMMARY                  | Heritage Place Type                        | 34cfe9ef-c2c0-11ea-9026-02e7594ce0a0 | No                                                                                                                                                           |\n",
      "| 11 | RESOURCE SUMMARY          | RESOURCE DESCRIPTION              | General Description Type                   | 34cfea91-c2c0-11ea-9026-02e7594ce0a0 | No                                                                                                                                                           |\n",
      "| 12 | RESOURCE SUMMARY          | RESOURCE DESCRIPTION              | General Description                        | 34cfea77-c2c0-11ea-9026-02e7594ce0a0 | No                                                                                                                                                           |\n",
      "| 13 | RESOURCE SUMMARY          | HERITAGE RESOURCE CLASSIFICATION  | Heritage Place Function                    | 34cfea4a-c2c0-11ea-9026-02e7594ce0a0 | Yes (including â€˜Unknownâ€™)                                                                                                                                |\n",
      "| 15 | RESOURCE SUMMARY          | DESIGNATION                       | Designation                                | d9abdfdb-c6a3-11ea-a292-02e7594ce0a0 | No                                                                                                                                                           |\n",
      "| 16 | RESOURCE SUMMARY          | DESIGNATION                       | Designation From Date                      | d9abdfe0-c6a3-11ea-a292-02e7594ce0a0 | No                                                                                                                                                           |\n",
      "| 17 | RESOURCE SUMMARY          | DESIGNATION                       | Designation To Date                        | d9abdfdf-c6a3-11ea-a292-02e7594ce0a0 | No                                                                                                                                                           |\n",
      "| 21 | GEOMETRIES                | GEOMETRIES                        | Geometry Extent Certainty                  | 5348cf6c-c2c5-11ea-9026-02e7594ce0a0 | No                                                                                                                                                           |\n",
      "| 23 | GEOGRAPHY                 | GEOGRAPHY                         | Grid ID                                    | 34cfea5d-c2c0-11ea-9026-02e7594ce0a0 | Yes                                                                                                                                                          |\n",
      "| 25 | GEOGRAPHY                 | GEOGRAPHY                         | Cadastral Reference                        | 34cfea95-c2c0-11ea-9026-02e7594ce0a0 | No                                                                                                                                                           |\n",
      "| 26 | GEOGRAPHY                 | GEOGRAPHY                         | Resource Orientation                       | 34cfea73-c2c0-11ea-9026-02e7594ce0a0 | No                                                                                                                                                           |\n",
      "| 32 | ARCHAEOLOGICAL ASSESSMENT | ARCHAEOLOGICAL ASSESSMENT         | Overall Site Morphology Type               | 34cfe9e6-c2c0-11ea-9026-02e7594ce0a0 | Yes                                                                                                                                                          |\n",
      "| 34 | ARCHAEOLOGICAL ASSESSMENT | PERIODIZATION                     | Cultural Period Certainty                  | 38cff738-c77b-11ea-a292-02e7594ce0a0 | Yes                                                                                                                                                          |\n",
      "| 46 | ARCHAEOLOGICAL ASSESSMENT | SITE FEATURES and INTERPRETATIONS | Site Feature Form Type                     | 34cfea9a-c2c0-11ea-9026-02e7594ce0a0 | No, unless there is no Site Feature Interpretation Type (eg. If the interpretation field is listed â€˜Unknownâ€™ then the Feature field should be filled in) |\n",
      "| 48 | ARCHAEOLOGICAL ASSESSMENT | SITE FEATURES and INTERPRETATIONS | Site Feature Shape Type                    | 34cfea19-c2c0-11ea-9026-02e7594ce0a0 | No                                                                                                                                                           |\n",
      "| 49 | ARCHAEOLOGICAL ASSESSMENT | SITE FEATURES and INTERPRETATIONS | Site Feature Arrangement Type              | 34cfe9e9-c2c0-11ea-9026-02e7594ce0a0 | No                                                                                                                                                           |\n",
      "| 50 | ARCHAEOLOGICAL ASSESSMENT | SITE FEATURES and INTERPRETATIONS | Site Feature Number Type                   | 34cfe9f8-c2c0-11ea-9026-02e7594ce0a0 | No                                                                                                                                                           |\n",
      "| 53 | ARCHAEOLOGICAL ASSESSMENT | SITE FEATURES and INTERPRETATIONS | Site Feature Interpretation Certainty      | 34cfea44-c2c0-11ea-9026-02e7594ce0a0 | Yes                                                                                                                                                          |\n",
      "| 65 | CONDITION ASSESSMENT      | CONDITION ASSESSMENT              | Damage Extent Type                         | 34cfea8e-c2c0-11ea-9026-02e7594ce0a0 | No                                                                                                                                                           |\n",
      "| 66 | CONDITION ASSESSMENT      | DISTURBANCES                      | Disturbance Cause Category Type            | 34cfea68-c2c0-11ea-9026-02e7594ce0a0 | Yes                                                                                                                                                          |\n",
      "| 73 | CONDITION ASSESSMENT      | DISTURBANCES                      | Disturbance Cause Assignment Assessor Name | e3cc8c5a-c772-11ea-a292-02e7594ce0a0 | No                                                                                                                                                           |\n",
      "| 76 | CONDITION ASSESSMENT      | THREATS                           | Threat Category                            | 34cfea90-c2c0-11ea-9026-02e7594ce0a0 | Yes (including 'No Visible/Known')                                                                                                                           |\n",
      "| 77 | CONDITION ASSESSMENT      | THREATS                           | Threat Type                                | 34cfea5c-c2c0-11ea-9026-02e7594ce0a0 | Yes                                                                                                                                                          |\n",
      "| 83 | CONDITION ASSESSMENT      | CONDITION ASSESSMENT              | Related Detailed Condition Resource        | 34cfea64-c2c0-11ea-9026-02e7594ce0a0 | No                                                                                                                                                           |\n"
     ]
    }
   ],
   "source": [
    "tsv_file = \"https://raw.githubusercontent.com/eamena-project/eamena-arches-dev/main/dev/data_quality/erms-template-readonly.tsv\"\n",
    "df = pd.read_csv(tsv_file, delimiter='\\t')\n",
    "df = df[[\"level1\", \"level2\", \"level3\", \"uuid_sql\", \"Enhanced record minimum standard\"]]\n",
    "df_listed = df.dropna()\n",
    "if verbose:\n",
    "    print(df_listed.to_markdown())"
   ]
  },
  {
   "cell_type": "markdown",
   "metadata": {},
   "source": [
    "Select the level of aggregation (`level1`, `level2` or `level3`) on which the spider plot will be done"
   ]
  },
  {
   "cell_type": "code",
   "execution_count": 32,
   "metadata": {},
   "outputs": [
    {
     "data": {
      "application/vnd.jupyter.widget-view+json": {
       "model_id": "14991fa495c54aadbbe80767c3254102",
       "version_major": 2,
       "version_minor": 0
      },
      "text/plain": [
       "RadioButtons(description='Select an option:', options=('level1', 'level2', 'level3'), value='level1')"
      ]
     },
     "metadata": {},
     "output_type": "display_data"
    }
   ],
   "source": [
    "options=['level1', 'level2', 'level3']\n",
    "radio_button = widgets.RadioButtons(\n",
    "    options=options,\n",
    "    description='Select an option:'\n",
    ")\n",
    "display(radio_button)\n"
   ]
  },
  {
   "cell_type": "markdown",
   "metadata": {},
   "source": [
    "Plot the ERMS dataframe for this level"
   ]
  },
  {
   "cell_type": "code",
   "execution_count": 33,
   "metadata": {},
   "outputs": [
    {
     "name": "stdout",
     "output_type": "stream",
     "text": [
      "You selected: level3\n",
      "| field                                      |   Enhanced record minimum standard |\n",
      "|:-------------------------------------------|-----------------------------------:|\n",
      "| Cadastral Reference                        |                                  0 |\n",
      "| Cultural Period Certainty                  |                                  1 |\n",
      "| Damage Extent Type                         |                                  0 |\n",
      "| Designation                                |                                  0 |\n",
      "| Designation From Date                      |                                  0 |\n",
      "| Designation To Date                        |                                  0 |\n",
      "| Disturbance Cause Assignment Assessor Name |                                  0 |\n",
      "| Disturbance Cause Category Type            |                                  1 |\n",
      "| GE Imagery Acquisition Date                |                                  1 |\n",
      "| General Description                        |                                  0 |\n",
      "| General Description Type                   |                                  0 |\n",
      "| Geometry Extent Certainty                  |                                  0 |\n",
      "| Grid ID                                    |                                  1 |\n",
      "| Heritage Place Function                    |                                  1 |\n",
      "| Heritage Place Type                        |                                  0 |\n",
      "| Investigator Role Type                     |                                  1 |\n",
      "| Name Type                                  |                                  0 |\n",
      "| Overall Site Morphology Type               |                                  1 |\n",
      "| Related Detailed Condition Resource        |                                  0 |\n",
      "| Resource Name                              |                                  0 |\n",
      "| Resource Orientation                       |                                  0 |\n",
      "| Site Feature Arrangement Type              |                                  0 |\n",
      "| Site Feature Form Type                     |                                  0 |\n",
      "| Site Feature Interpretation Certainty      |                                  1 |\n",
      "| Site Feature Number Type                   |                                  0 |\n",
      "| Site Feature Shape Type                    |                                  0 |\n",
      "| Threat Category                            |                                  1 |\n",
      "| Threat Type                                |                                  1 |\n"
     ]
    }
   ],
   "source": [
    "# mylevel = 'level3'\n",
    "df_erms = df_listed.copy()\n",
    "df_erms['Enhanced record minimum standard'] = df_erms['Enhanced record minimum standard'].str.contains(r'Yes', case=False, na=False, regex=True).astype(int)\n",
    "df_erms = df_erms[[mylevel, \"Enhanced record minimum standard\"]]\n",
    "df_erms.columns.values[0] = \"field\"\n",
    "df_erms = df_erms.groupby(['field'])['Enhanced record minimum standard'].sum()\n",
    "print(f'You selected: {mylevel}')\n",
    "print(df_erms.to_markdown())"
   ]
  },
  {
   "cell_type": "markdown",
   "metadata": {},
   "source": [
    "Create an empty dataframe, loop over UUIDs to collect data from the selected HP {{selected_hp}}, and fill the empty dataframe"
   ]
  },
  {
   "cell_type": "code",
   "execution_count": 34,
   "metadata": {},
   "outputs": [
    {
     "name": "stdout",
     "output_type": "stream",
     "text": [
      "read: Investigator Role Type | d2e1ab96-cc05-11ea-a292-02e7594ce0a0\n",
      "\n",
      "    SELECT value FROM values \n",
      "    WHERE valueid::text IN\n",
      "    (\n",
      "    SELECT tiledata ->> 'd2e1ab96-cc05-11ea-a292-02e7594ce0a0' AS Investigator_Role_Type\n",
      "    FROM tiles \n",
      "    WHERE resourceinstanceid::text LIKE 'dbc95d2d-38fb-465e-a6cb-0545eaa7584f'\n",
      "    AND tiledata -> 'd2e1ab96-cc05-11ea-a292-02e7594ce0a0' IS NOT NULL\n",
      "    )\n",
      "    \n",
      "read: GE Imagery Acquisition Date | b9643302-0407-11eb-a11c-0a5a9a4f6ef7\n",
      "\n",
      "    SELECT value FROM values \n",
      "    WHERE valueid::text IN\n",
      "    (\n",
      "    SELECT tiledata ->> 'b9643302-0407-11eb-a11c-0a5a9a4f6ef7' AS GE_Imagery_Acquisition_Date\n",
      "    FROM tiles \n",
      "    WHERE resourceinstanceid::text LIKE 'dbc95d2d-38fb-465e-a6cb-0545eaa7584f'\n",
      "    AND tiledata -> 'b9643302-0407-11eb-a11c-0a5a9a4f6ef7' IS NOT NULL\n",
      "    )\n",
      "    \n",
      "read: Resource Name | 34cfe9dd-c2c0-11ea-9026-02e7594ce0a0\n",
      "\n",
      "    SELECT value FROM values \n",
      "    WHERE valueid::text IN\n",
      "    (\n",
      "    SELECT tiledata ->> '34cfe9dd-c2c0-11ea-9026-02e7594ce0a0' AS Resource_Name\n",
      "    FROM tiles \n",
      "    WHERE resourceinstanceid::text LIKE 'dbc95d2d-38fb-465e-a6cb-0545eaa7584f'\n",
      "    AND tiledata -> '34cfe9dd-c2c0-11ea-9026-02e7594ce0a0' IS NOT NULL\n",
      "    )\n",
      "    \n",
      "read: Name Type | 34cfea97-c2c0-11ea-9026-02e7594ce0a0\n",
      "\n",
      "    SELECT value FROM values \n",
      "    WHERE valueid::text IN\n",
      "    (\n",
      "    SELECT tiledata ->> '34cfea97-c2c0-11ea-9026-02e7594ce0a0' AS Name_Type\n",
      "    FROM tiles \n",
      "    WHERE resourceinstanceid::text LIKE 'dbc95d2d-38fb-465e-a6cb-0545eaa7584f'\n",
      "    AND tiledata -> '34cfea97-c2c0-11ea-9026-02e7594ce0a0' IS NOT NULL\n",
      "    )\n",
      "    \n",
      "recorded values: [('Toponym',)]\n",
      "read: Heritage Place Type | 34cfe9ef-c2c0-11ea-9026-02e7594ce0a0\n",
      "\n",
      "    SELECT value FROM values \n",
      "    WHERE valueid::text IN\n",
      "    (\n",
      "    SELECT tiledata ->> '34cfe9ef-c2c0-11ea-9026-02e7594ce0a0' AS Heritage_Place_Type\n",
      "    FROM tiles \n",
      "    WHERE resourceinstanceid::text LIKE 'dbc95d2d-38fb-465e-a6cb-0545eaa7584f'\n",
      "    AND tiledata -> '34cfe9ef-c2c0-11ea-9026-02e7594ce0a0' IS NOT NULL\n",
      "    )\n",
      "    \n",
      "recorded values: [('Urban Heritage',)]\n",
      "read: General Description Type | 34cfea91-c2c0-11ea-9026-02e7594ce0a0\n",
      "\n",
      "    SELECT value FROM values \n",
      "    WHERE valueid::text IN\n",
      "    (\n",
      "    SELECT tiledata ->> '34cfea91-c2c0-11ea-9026-02e7594ce0a0' AS General_Description_Type\n",
      "    FROM tiles \n",
      "    WHERE resourceinstanceid::text LIKE 'dbc95d2d-38fb-465e-a6cb-0545eaa7584f'\n",
      "    AND tiledata -> '34cfea91-c2c0-11ea-9026-02e7594ce0a0' IS NOT NULL\n",
      "    )\n",
      "    \n",
      "read: General Description | 34cfea77-c2c0-11ea-9026-02e7594ce0a0\n",
      "\n",
      "    SELECT value FROM values \n",
      "    WHERE valueid::text IN\n",
      "    (\n",
      "    SELECT tiledata ->> '34cfea77-c2c0-11ea-9026-02e7594ce0a0' AS General_Description\n",
      "    FROM tiles \n",
      "    WHERE resourceinstanceid::text LIKE 'dbc95d2d-38fb-465e-a6cb-0545eaa7584f'\n",
      "    AND tiledata -> '34cfea77-c2c0-11ea-9026-02e7594ce0a0' IS NOT NULL\n",
      "    )\n",
      "    \n",
      "read: Heritage Place Function | 34cfea4a-c2c0-11ea-9026-02e7594ce0a0\n",
      "\n",
      "    SELECT value FROM values \n",
      "    WHERE valueid::text IN\n",
      "    (\n",
      "    SELECT tiledata ->> '34cfea4a-c2c0-11ea-9026-02e7594ce0a0' AS Heritage_Place_Function\n",
      "    FROM tiles \n",
      "    WHERE resourceinstanceid::text LIKE 'dbc95d2d-38fb-465e-a6cb-0545eaa7584f'\n",
      "    AND tiledata -> '34cfea4a-c2c0-11ea-9026-02e7594ce0a0' IS NOT NULL\n",
      "    )\n",
      "    \n",
      "recorded values: [('Public/Institutional',)]\n",
      "read: Designation | d9abdfdb-c6a3-11ea-a292-02e7594ce0a0\n",
      "\n",
      "    SELECT value FROM values \n",
      "    WHERE valueid::text IN\n",
      "    (\n",
      "    SELECT tiledata ->> 'd9abdfdb-c6a3-11ea-a292-02e7594ce0a0' AS Designation\n",
      "    FROM tiles \n",
      "    WHERE resourceinstanceid::text LIKE 'dbc95d2d-38fb-465e-a6cb-0545eaa7584f'\n",
      "    AND tiledata -> 'd9abdfdb-c6a3-11ea-a292-02e7594ce0a0' IS NOT NULL\n",
      "    )\n",
      "    \n",
      "read: Designation From Date | d9abdfe0-c6a3-11ea-a292-02e7594ce0a0\n",
      "\n",
      "    SELECT value FROM values \n",
      "    WHERE valueid::text IN\n",
      "    (\n",
      "    SELECT tiledata ->> 'd9abdfe0-c6a3-11ea-a292-02e7594ce0a0' AS Designation_From_Date\n",
      "    FROM tiles \n",
      "    WHERE resourceinstanceid::text LIKE 'dbc95d2d-38fb-465e-a6cb-0545eaa7584f'\n",
      "    AND tiledata -> 'd9abdfe0-c6a3-11ea-a292-02e7594ce0a0' IS NOT NULL\n",
      "    )\n",
      "    \n",
      "read: Designation To Date | d9abdfdf-c6a3-11ea-a292-02e7594ce0a0\n",
      "\n",
      "    SELECT value FROM values \n",
      "    WHERE valueid::text IN\n",
      "    (\n",
      "    SELECT tiledata ->> 'd9abdfdf-c6a3-11ea-a292-02e7594ce0a0' AS Designation_To_Date\n",
      "    FROM tiles \n",
      "    WHERE resourceinstanceid::text LIKE 'dbc95d2d-38fb-465e-a6cb-0545eaa7584f'\n",
      "    AND tiledata -> 'd9abdfdf-c6a3-11ea-a292-02e7594ce0a0' IS NOT NULL\n",
      "    )\n",
      "    \n",
      "read: Geometry Extent Certainty | 5348cf6c-c2c5-11ea-9026-02e7594ce0a0\n",
      "\n",
      "    SELECT value FROM values \n",
      "    WHERE valueid::text IN\n",
      "    (\n",
      "    SELECT tiledata ->> '5348cf6c-c2c5-11ea-9026-02e7594ce0a0' AS Geometry_Extent_Certainty\n",
      "    FROM tiles \n",
      "    WHERE resourceinstanceid::text LIKE 'dbc95d2d-38fb-465e-a6cb-0545eaa7584f'\n",
      "    AND tiledata -> '5348cf6c-c2c5-11ea-9026-02e7594ce0a0' IS NOT NULL\n",
      "    )\n",
      "    \n",
      "recorded values: [('High',)]\n",
      "read: Grid ID | 34cfea5d-c2c0-11ea-9026-02e7594ce0a0\n",
      "\n",
      "    SELECT value FROM values \n",
      "    WHERE valueid::text IN\n",
      "    (\n",
      "    SELECT tiledata ->> '34cfea5d-c2c0-11ea-9026-02e7594ce0a0' AS Grid_ID\n",
      "    FROM tiles \n",
      "    WHERE resourceinstanceid::text LIKE 'dbc95d2d-38fb-465e-a6cb-0545eaa7584f'\n",
      "    AND tiledata -> '34cfea5d-c2c0-11ea-9026-02e7594ce0a0' IS NOT NULL\n",
      "    )\n",
      "    \n",
      "read: Cadastral Reference | 34cfea95-c2c0-11ea-9026-02e7594ce0a0\n",
      "\n",
      "    SELECT value FROM values \n",
      "    WHERE valueid::text IN\n",
      "    (\n",
      "    SELECT tiledata ->> '34cfea95-c2c0-11ea-9026-02e7594ce0a0' AS Cadastral_Reference\n",
      "    FROM tiles \n",
      "    WHERE resourceinstanceid::text LIKE 'dbc95d2d-38fb-465e-a6cb-0545eaa7584f'\n",
      "    AND tiledata -> '34cfea95-c2c0-11ea-9026-02e7594ce0a0' IS NOT NULL\n",
      "    )\n",
      "    \n",
      "read: Resource Orientation | 34cfea73-c2c0-11ea-9026-02e7594ce0a0\n",
      "\n",
      "    SELECT value FROM values \n",
      "    WHERE valueid::text IN\n",
      "    (\n",
      "    SELECT tiledata ->> '34cfea73-c2c0-11ea-9026-02e7594ce0a0' AS Resource_Orientation\n",
      "    FROM tiles \n",
      "    WHERE resourceinstanceid::text LIKE 'dbc95d2d-38fb-465e-a6cb-0545eaa7584f'\n",
      "    AND tiledata -> '34cfea73-c2c0-11ea-9026-02e7594ce0a0' IS NOT NULL\n",
      "    )\n",
      "    \n",
      "read: Overall Site Morphology Type | 34cfe9e6-c2c0-11ea-9026-02e7594ce0a0\n",
      "\n",
      "    SELECT value FROM values \n",
      "    WHERE valueid::text IN\n",
      "    (\n",
      "    SELECT tiledata ->> '34cfe9e6-c2c0-11ea-9026-02e7594ce0a0' AS Overall_Site_Morphology_Type\n",
      "    FROM tiles \n",
      "    WHERE resourceinstanceid::text LIKE 'dbc95d2d-38fb-465e-a6cb-0545eaa7584f'\n",
      "    AND tiledata -> '34cfe9e6-c2c0-11ea-9026-02e7594ce0a0' IS NOT NULL\n",
      "    )\n",
      "    \n",
      "read: Cultural Period Certainty | 38cff738-c77b-11ea-a292-02e7594ce0a0\n",
      "\n",
      "    SELECT value FROM values \n",
      "    WHERE valueid::text IN\n",
      "    (\n",
      "    SELECT tiledata ->> '38cff738-c77b-11ea-a292-02e7594ce0a0' AS Cultural_Period_Certainty\n",
      "    FROM tiles \n",
      "    WHERE resourceinstanceid::text LIKE 'dbc95d2d-38fb-465e-a6cb-0545eaa7584f'\n",
      "    AND tiledata -> '38cff738-c77b-11ea-a292-02e7594ce0a0' IS NOT NULL\n",
      "    )\n",
      "    \n",
      "read: Site Feature Form Type | 34cfea9a-c2c0-11ea-9026-02e7594ce0a0\n",
      "\n",
      "    SELECT value FROM values \n",
      "    WHERE valueid::text IN\n",
      "    (\n",
      "    SELECT tiledata ->> '34cfea9a-c2c0-11ea-9026-02e7594ce0a0' AS Site_Feature_Form_Type\n",
      "    FROM tiles \n",
      "    WHERE resourceinstanceid::text LIKE 'dbc95d2d-38fb-465e-a6cb-0545eaa7584f'\n",
      "    AND tiledata -> '34cfea9a-c2c0-11ea-9026-02e7594ce0a0' IS NOT NULL\n",
      "    )\n",
      "    \n",
      "read: Site Feature Shape Type | 34cfea19-c2c0-11ea-9026-02e7594ce0a0\n",
      "\n",
      "    SELECT value FROM values \n",
      "    WHERE valueid::text IN\n",
      "    (\n",
      "    SELECT tiledata ->> '34cfea19-c2c0-11ea-9026-02e7594ce0a0' AS Site_Feature_Shape_Type\n",
      "    FROM tiles \n",
      "    WHERE resourceinstanceid::text LIKE 'dbc95d2d-38fb-465e-a6cb-0545eaa7584f'\n",
      "    AND tiledata -> '34cfea19-c2c0-11ea-9026-02e7594ce0a0' IS NOT NULL\n",
      "    )\n",
      "    \n",
      "read: Site Feature Arrangement Type | 34cfe9e9-c2c0-11ea-9026-02e7594ce0a0\n",
      "\n",
      "    SELECT value FROM values \n",
      "    WHERE valueid::text IN\n",
      "    (\n",
      "    SELECT tiledata ->> '34cfe9e9-c2c0-11ea-9026-02e7594ce0a0' AS Site_Feature_Arrangement_Type\n",
      "    FROM tiles \n",
      "    WHERE resourceinstanceid::text LIKE 'dbc95d2d-38fb-465e-a6cb-0545eaa7584f'\n",
      "    AND tiledata -> '34cfe9e9-c2c0-11ea-9026-02e7594ce0a0' IS NOT NULL\n",
      "    )\n",
      "    \n",
      "read: Site Feature Number Type | 34cfe9f8-c2c0-11ea-9026-02e7594ce0a0\n",
      "\n",
      "    SELECT value FROM values \n",
      "    WHERE valueid::text IN\n",
      "    (\n",
      "    SELECT tiledata ->> '34cfe9f8-c2c0-11ea-9026-02e7594ce0a0' AS Site_Feature_Number_Type\n",
      "    FROM tiles \n",
      "    WHERE resourceinstanceid::text LIKE 'dbc95d2d-38fb-465e-a6cb-0545eaa7584f'\n",
      "    AND tiledata -> '34cfe9f8-c2c0-11ea-9026-02e7594ce0a0' IS NOT NULL\n",
      "    )\n",
      "    \n",
      "read: Site Feature Interpretation Certainty | 34cfea44-c2c0-11ea-9026-02e7594ce0a0\n",
      "\n",
      "    SELECT value FROM values \n",
      "    WHERE valueid::text IN\n",
      "    (\n",
      "    SELECT tiledata ->> '34cfea44-c2c0-11ea-9026-02e7594ce0a0' AS Site_Feature_Interpretation_Certainty\n",
      "    FROM tiles \n",
      "    WHERE resourceinstanceid::text LIKE 'dbc95d2d-38fb-465e-a6cb-0545eaa7584f'\n",
      "    AND tiledata -> '34cfea44-c2c0-11ea-9026-02e7594ce0a0' IS NOT NULL\n",
      "    )\n",
      "    \n",
      "read: Damage Extent Type | 34cfea8e-c2c0-11ea-9026-02e7594ce0a0\n",
      "\n",
      "    SELECT value FROM values \n",
      "    WHERE valueid::text IN\n",
      "    (\n",
      "    SELECT tiledata ->> '34cfea8e-c2c0-11ea-9026-02e7594ce0a0' AS Damage_Extent_Type\n",
      "    FROM tiles \n",
      "    WHERE resourceinstanceid::text LIKE 'dbc95d2d-38fb-465e-a6cb-0545eaa7584f'\n",
      "    AND tiledata -> '34cfea8e-c2c0-11ea-9026-02e7594ce0a0' IS NOT NULL\n",
      "    )\n",
      "    \n",
      "recorded values: [('31-60%',), ('61-90%',)]\n",
      "read: Disturbance Cause Category Type | 34cfea68-c2c0-11ea-9026-02e7594ce0a0\n",
      "\n",
      "    SELECT value FROM values \n",
      "    WHERE valueid::text IN\n",
      "    (\n",
      "    SELECT tiledata ->> '34cfea68-c2c0-11ea-9026-02e7594ce0a0' AS Disturbance_Cause_Category_Type\n",
      "    FROM tiles \n",
      "    WHERE resourceinstanceid::text LIKE 'dbc95d2d-38fb-465e-a6cb-0545eaa7584f'\n",
      "    AND tiledata -> '34cfea68-c2c0-11ea-9026-02e7594ce0a0' IS NOT NULL\n",
      "    )\n",
      "    \n",
      "recorded values: [('Vandalism',)]\n",
      "read: Disturbance Cause Assignment Assessor Name | e3cc8c5a-c772-11ea-a292-02e7594ce0a0\n",
      "\n",
      "    SELECT value FROM values \n",
      "    WHERE valueid::text IN\n",
      "    (\n",
      "    SELECT tiledata ->> 'e3cc8c5a-c772-11ea-a292-02e7594ce0a0' AS Disturbance_Cause_Assignment_Assessor_Name\n",
      "    FROM tiles \n",
      "    WHERE resourceinstanceid::text LIKE 'dbc95d2d-38fb-465e-a6cb-0545eaa7584f'\n",
      "    AND tiledata -> 'e3cc8c5a-c772-11ea-a292-02e7594ce0a0' IS NOT NULL\n",
      "    )\n",
      "    \n",
      "read: Threat Category | 34cfea90-c2c0-11ea-9026-02e7594ce0a0\n",
      "\n",
      "    SELECT value FROM values \n",
      "    WHERE valueid::text IN\n",
      "    (\n",
      "    SELECT tiledata ->> '34cfea90-c2c0-11ea-9026-02e7594ce0a0' AS Threat_Category\n",
      "    FROM tiles \n",
      "    WHERE resourceinstanceid::text LIKE 'dbc95d2d-38fb-465e-a6cb-0545eaa7584f'\n",
      "    AND tiledata -> '34cfea90-c2c0-11ea-9026-02e7594ce0a0' IS NOT NULL\n",
      "    )\n",
      "    \n",
      "recorded values: [('Loss/Removal of Archaeological Material',)]\n",
      "read: Threat Type | 34cfea5c-c2c0-11ea-9026-02e7594ce0a0\n",
      "\n",
      "    SELECT value FROM values \n",
      "    WHERE valueid::text IN\n",
      "    (\n",
      "    SELECT tiledata ->> '34cfea5c-c2c0-11ea-9026-02e7594ce0a0' AS Threat_Type\n",
      "    FROM tiles \n",
      "    WHERE resourceinstanceid::text LIKE 'dbc95d2d-38fb-465e-a6cb-0545eaa7584f'\n",
      "    AND tiledata -> '34cfea5c-c2c0-11ea-9026-02e7594ce0a0' IS NOT NULL\n",
      "    )\n",
      "    \n",
      "recorded values: [('Definite',)]\n",
      "read: Related Detailed Condition Resource | 34cfea64-c2c0-11ea-9026-02e7594ce0a0\n",
      "\n",
      "    SELECT value FROM values \n",
      "    WHERE valueid::text IN\n",
      "    (\n",
      "    SELECT tiledata ->> '34cfea64-c2c0-11ea-9026-02e7594ce0a0' AS Related_Detailed_Condition_Resource\n",
      "    FROM tiles \n",
      "    WHERE resourceinstanceid::text LIKE 'dbc95d2d-38fb-465e-a6cb-0545eaa7584f'\n",
      "    AND tiledata -> '34cfea64-c2c0-11ea-9026-02e7594ce0a0' IS NOT NULL\n",
      "    )\n",
      "    \n",
      "|    | field                                      |   recorded |\n",
      "|---:|:-------------------------------------------|-----------:|\n",
      "|  0 | Investigator Role Type                     |          0 |\n",
      "|  1 | GE Imagery Acquisition Date                |          0 |\n",
      "|  2 | Resource Name                              |          0 |\n",
      "|  3 | Name Type                                  |          1 |\n",
      "|  4 | Heritage Place Type                        |          1 |\n",
      "|  5 | General Description Type                   |          0 |\n",
      "|  6 | General Description                        |          0 |\n",
      "|  7 | Heritage Place Function                    |          1 |\n",
      "|  8 | Designation                                |          0 |\n",
      "|  9 | Designation From Date                      |          0 |\n",
      "| 10 | Designation To Date                        |          0 |\n",
      "| 11 | Geometry Extent Certainty                  |          1 |\n",
      "| 12 | Grid ID                                    |          0 |\n",
      "| 13 | Cadastral Reference                        |          0 |\n",
      "| 14 | Resource Orientation                       |          0 |\n",
      "| 15 | Overall Site Morphology Type               |          0 |\n",
      "| 16 | Cultural Period Certainty                  |          0 |\n",
      "| 17 | Site Feature Form Type                     |          0 |\n",
      "| 18 | Site Feature Shape Type                    |          0 |\n",
      "| 19 | Site Feature Arrangement Type              |          0 |\n",
      "| 20 | Site Feature Number Type                   |          0 |\n",
      "| 21 | Site Feature Interpretation Certainty      |          0 |\n",
      "| 22 | Damage Extent Type                         |          1 |\n",
      "| 23 | Disturbance Cause Category Type            |          1 |\n",
      "| 24 | Disturbance Cause Assignment Assessor Name |          0 |\n",
      "| 25 | Threat Category                            |          1 |\n",
      "| 26 | Threat Type                                |          1 |\n",
      "| 27 | Related Detailed Condition Resource        |          0 |\n"
     ]
    }
   ],
   "source": [
    "# empty dataframe\n",
    "level_values = df_listed[mylevel].unique()\n",
    "data = {'field': level_values,\n",
    "        'recorded': np.repeat(0, len(level_values)).tolist()}\n",
    "df_res = pd.DataFrame(data)\n",
    "# loop and fill it\n",
    "for i in df_listed.index:\n",
    "    if verbose:\n",
    "        print(\"read: \" + df_listed[mylevel][i] + ' | ' + df_listed['uuid_sql'][i])\n",
    "    df_field = df_listed[mylevel][i]\n",
    "    df_field_sql = re.sub(\" \", \"_\", df_field) # rm space\n",
    "    df_uuid = df_listed['uuid_sql'][i]\n",
    "    sqll = \"\"\"\n",
    "    SELECT value FROM values \n",
    "    WHERE valueid::text IN\n",
    "    (\n",
    "    SELECT tiledata ->> '%s' AS %s\n",
    "    FROM tiles \n",
    "    WHERE resourceinstanceid::text LIKE '%s'\n",
    "    AND tiledata -> '%s' IS NOT NULL\n",
    "    )\n",
    "    \"\"\" % (df_uuid, df_field_sql, hpid, df_uuid)\n",
    "    if verbose:\n",
    "        print(sqll)\n",
    "    cur.execute(sqll)\n",
    "    outvalue = cur.fetchall()\n",
    "    if len(outvalue) > 0:\n",
    "        row_num = df_res[df_res['field'] == df_field].index.tolist()\n",
    "        df_res.at[row_num[0], 'recorded'] = df_res.loc[row_num[0]]['recorded'] + 1\n",
    "        if verbose:\n",
    "            print(\"recorded values: \" + str(outvalue))\n",
    "if(verbose):\n",
    "    print(df_res.to_markdown())"
   ]
  },
  {
   "cell_type": "markdown",
   "metadata": {},
   "source": [
    "## Spider diagram"
   ]
  },
  {
   "cell_type": "markdown",
   "metadata": {},
   "source": [
    "Show spider diagram with number of fields recorded. If `level3` has been selected, the spider plot will also plot the ERMS. "
   ]
  },
  {
   "cell_type": "code",
   "execution_count": 35,
   "metadata": {},
   "outputs": [
    {
     "name": "stdout",
     "output_type": "stream",
     "text": [
      "|    | field                                      | Value Set                        |   Value |\n",
      "|---:|:-------------------------------------------|:---------------------------------|--------:|\n",
      "| 55 | Related Detailed Condition Resource        | Enhanced record minimum standard |       0 |\n",
      "| 29 | GE Imagery Acquisition Date                | Enhanced record minimum standard |       1 |\n",
      "| 30 | Resource Name                              | Enhanced record minimum standard |       0 |\n",
      "| 31 | Name Type                                  | Enhanced record minimum standard |       0 |\n",
      "| 32 | Heritage Place Type                        | Enhanced record minimum standard |       0 |\n",
      "| 33 | General Description Type                   | Enhanced record minimum standard |       0 |\n",
      "| 34 | General Description                        | Enhanced record minimum standard |       0 |\n",
      "| 35 | Heritage Place Function                    | Enhanced record minimum standard |       1 |\n",
      "| 36 | Designation                                | Enhanced record minimum standard |       0 |\n",
      "| 37 | Designation From Date                      | Enhanced record minimum standard |       0 |\n",
      "| 38 | Designation To Date                        | Enhanced record minimum standard |       0 |\n",
      "| 39 | Geometry Extent Certainty                  | Enhanced record minimum standard |       0 |\n",
      "| 40 | Grid ID                                    | Enhanced record minimum standard |       1 |\n",
      "| 41 | Cadastral Reference                        | Enhanced record minimum standard |       0 |\n",
      "| 42 | Resource Orientation                       | Enhanced record minimum standard |       0 |\n",
      "| 43 | Overall Site Morphology Type               | Enhanced record minimum standard |       1 |\n",
      "| 44 | Cultural Period Certainty                  | Enhanced record minimum standard |       1 |\n",
      "| 45 | Site Feature Form Type                     | Enhanced record minimum standard |       0 |\n",
      "| 46 | Site Feature Shape Type                    | Enhanced record minimum standard |       0 |\n",
      "| 47 | Site Feature Arrangement Type              | Enhanced record minimum standard |       0 |\n",
      "| 48 | Site Feature Number Type                   | Enhanced record minimum standard |       0 |\n",
      "| 49 | Site Feature Interpretation Certainty      | Enhanced record minimum standard |       1 |\n",
      "| 50 | Damage Extent Type                         | Enhanced record minimum standard |       0 |\n",
      "| 51 | Disturbance Cause Category Type            | Enhanced record minimum standard |       1 |\n",
      "| 52 | Disturbance Cause Assignment Assessor Name | Enhanced record minimum standard |       0 |\n",
      "| 53 | Threat Category                            | Enhanced record minimum standard |       1 |\n",
      "| 28 | Investigator Role Type                     | Enhanced record minimum standard |       1 |\n",
      "| 54 | Threat Type                                | Enhanced record minimum standard |       1 |\n",
      "|  0 | Investigator Role Type                     | recorded                         |       0 |\n",
      "| 25 | Threat Category                            | recorded                         |       1 |\n",
      "|  1 | GE Imagery Acquisition Date                | recorded                         |       0 |\n",
      "|  2 | Resource Name                              | recorded                         |       0 |\n",
      "|  3 | Name Type                                  | recorded                         |       1 |\n",
      "|  4 | Heritage Place Type                        | recorded                         |       1 |\n",
      "|  5 | General Description Type                   | recorded                         |       0 |\n",
      "|  6 | General Description                        | recorded                         |       0 |\n",
      "|  7 | Heritage Place Function                    | recorded                         |       1 |\n",
      "|  8 | Designation                                | recorded                         |       0 |\n",
      "|  9 | Designation From Date                      | recorded                         |       0 |\n",
      "| 10 | Designation To Date                        | recorded                         |       0 |\n",
      "| 11 | Geometry Extent Certainty                  | recorded                         |       1 |\n",
      "| 26 | Threat Type                                | recorded                         |       1 |\n",
      "| 12 | Grid ID                                    | recorded                         |       0 |\n",
      "| 14 | Resource Orientation                       | recorded                         |       0 |\n",
      "| 15 | Overall Site Morphology Type               | recorded                         |       0 |\n",
      "| 16 | Cultural Period Certainty                  | recorded                         |       0 |\n",
      "| 17 | Site Feature Form Type                     | recorded                         |       0 |\n",
      "| 18 | Site Feature Shape Type                    | recorded                         |       0 |\n",
      "| 19 | Site Feature Arrangement Type              | recorded                         |       0 |\n",
      "| 20 | Site Feature Number Type                   | recorded                         |       0 |\n",
      "| 21 | Site Feature Interpretation Certainty      | recorded                         |       0 |\n",
      "| 22 | Damage Extent Type                         | recorded                         |       1 |\n",
      "| 23 | Disturbance Cause Category Type            | recorded                         |       1 |\n",
      "| 24 | Disturbance Cause Assignment Assessor Name | recorded                         |       0 |\n",
      "| 13 | Cadastral Reference                        | recorded                         |       0 |\n",
      "| 27 | Related Detailed Condition Resource        | recorded                         |       0 |\n"
     ]
    },
    {
     "data": {
      "application/vnd.plotly.v1+json": {
       "config": {
        "plotlyServerURL": "https://plot.ly"
       },
       "data": [
        {
         "hovertemplate": "Value Set=Enhanced record minimum standard<br>Value=%{r}<br>field=%{theta}<extra></extra>",
         "legendgroup": "Enhanced record minimum standard",
         "line": {
          "color": "red",
          "dash": "solid"
         },
         "marker": {
          "symbol": "circle"
         },
         "mode": "lines",
         "name": "Enhanced record minimum standard",
         "r": [
          0,
          1,
          0,
          0,
          0,
          0,
          0,
          1,
          0,
          0,
          0,
          0,
          1,
          0,
          0,
          1,
          1,
          0,
          0,
          0,
          0,
          1,
          0,
          1,
          0,
          1,
          1,
          1
         ],
         "showlegend": true,
         "subplot": "polar",
         "theta": [
          "Related Detailed Condition Resource",
          "GE Imagery Acquisition Date",
          "Resource Name",
          "Name Type",
          "Heritage Place Type",
          "General Description Type",
          "General Description",
          "Heritage Place Function",
          "Designation",
          "Designation From Date",
          "Designation To Date",
          "Geometry Extent Certainty",
          "Grid ID",
          "Cadastral Reference",
          "Resource Orientation",
          "Overall Site Morphology Type",
          "Cultural Period Certainty",
          "Site Feature Form Type",
          "Site Feature Shape Type",
          "Site Feature Arrangement Type",
          "Site Feature Number Type",
          "Site Feature Interpretation Certainty",
          "Damage Extent Type",
          "Disturbance Cause Category Type",
          "Disturbance Cause Assignment Assessor Name",
          "Threat Category",
          "Investigator Role Type",
          "Threat Type"
         ],
         "type": "scatterpolar"
        },
        {
         "hovertemplate": "Value Set=recorded<br>Value=%{r}<br>field=%{theta}<extra></extra>",
         "legendgroup": "recorded",
         "line": {
          "color": "blue",
          "dash": "solid"
         },
         "marker": {
          "symbol": "circle"
         },
         "mode": "lines",
         "name": "recorded",
         "r": [
          0,
          1,
          0,
          0,
          1,
          1,
          0,
          0,
          1,
          0,
          0,
          0,
          1,
          1,
          0,
          0,
          0,
          0,
          0,
          0,
          0,
          0,
          0,
          1,
          1,
          0,
          0,
          0
         ],
         "showlegend": true,
         "subplot": "polar",
         "theta": [
          "Investigator Role Type",
          "Threat Category",
          "GE Imagery Acquisition Date",
          "Resource Name",
          "Name Type",
          "Heritage Place Type",
          "General Description Type",
          "General Description",
          "Heritage Place Function",
          "Designation",
          "Designation From Date",
          "Designation To Date",
          "Geometry Extent Certainty",
          "Threat Type",
          "Grid ID",
          "Resource Orientation",
          "Overall Site Morphology Type",
          "Cultural Period Certainty",
          "Site Feature Form Type",
          "Site Feature Shape Type",
          "Site Feature Arrangement Type",
          "Site Feature Number Type",
          "Site Feature Interpretation Certainty",
          "Damage Extent Type",
          "Disturbance Cause Category Type",
          "Disturbance Cause Assignment Assessor Name",
          "Cadastral Reference",
          "Related Detailed Condition Resource"
         ],
         "type": "scatterpolar"
        }
       ],
       "layout": {
        "legend": {
         "title": {
          "text": "Value Set"
         },
         "tracegroupgap": 0
        },
        "polar": {
         "angularaxis": {
          "direction": "clockwise",
          "rotation": 90
         },
         "domain": {
          "x": [
           0,
           1
          ],
          "y": [
           0,
           1
          ]
         }
        },
        "template": {
         "data": {
          "bar": [
           {
            "error_x": {
             "color": "#2a3f5f"
            },
            "error_y": {
             "color": "#2a3f5f"
            },
            "marker": {
             "line": {
              "color": "#E5ECF6",
              "width": 0.5
             },
             "pattern": {
              "fillmode": "overlay",
              "size": 10,
              "solidity": 0.2
             }
            },
            "type": "bar"
           }
          ],
          "barpolar": [
           {
            "marker": {
             "line": {
              "color": "#E5ECF6",
              "width": 0.5
             },
             "pattern": {
              "fillmode": "overlay",
              "size": 10,
              "solidity": 0.2
             }
            },
            "type": "barpolar"
           }
          ],
          "carpet": [
           {
            "aaxis": {
             "endlinecolor": "#2a3f5f",
             "gridcolor": "white",
             "linecolor": "white",
             "minorgridcolor": "white",
             "startlinecolor": "#2a3f5f"
            },
            "baxis": {
             "endlinecolor": "#2a3f5f",
             "gridcolor": "white",
             "linecolor": "white",
             "minorgridcolor": "white",
             "startlinecolor": "#2a3f5f"
            },
            "type": "carpet"
           }
          ],
          "choropleth": [
           {
            "colorbar": {
             "outlinewidth": 0,
             "ticks": ""
            },
            "type": "choropleth"
           }
          ],
          "contour": [
           {
            "colorbar": {
             "outlinewidth": 0,
             "ticks": ""
            },
            "colorscale": [
             [
              0,
              "#0d0887"
             ],
             [
              0.1111111111111111,
              "#46039f"
             ],
             [
              0.2222222222222222,
              "#7201a8"
             ],
             [
              0.3333333333333333,
              "#9c179e"
             ],
             [
              0.4444444444444444,
              "#bd3786"
             ],
             [
              0.5555555555555556,
              "#d8576b"
             ],
             [
              0.6666666666666666,
              "#ed7953"
             ],
             [
              0.7777777777777778,
              "#fb9f3a"
             ],
             [
              0.8888888888888888,
              "#fdca26"
             ],
             [
              1,
              "#f0f921"
             ]
            ],
            "type": "contour"
           }
          ],
          "contourcarpet": [
           {
            "colorbar": {
             "outlinewidth": 0,
             "ticks": ""
            },
            "type": "contourcarpet"
           }
          ],
          "heatmap": [
           {
            "colorbar": {
             "outlinewidth": 0,
             "ticks": ""
            },
            "colorscale": [
             [
              0,
              "#0d0887"
             ],
             [
              0.1111111111111111,
              "#46039f"
             ],
             [
              0.2222222222222222,
              "#7201a8"
             ],
             [
              0.3333333333333333,
              "#9c179e"
             ],
             [
              0.4444444444444444,
              "#bd3786"
             ],
             [
              0.5555555555555556,
              "#d8576b"
             ],
             [
              0.6666666666666666,
              "#ed7953"
             ],
             [
              0.7777777777777778,
              "#fb9f3a"
             ],
             [
              0.8888888888888888,
              "#fdca26"
             ],
             [
              1,
              "#f0f921"
             ]
            ],
            "type": "heatmap"
           }
          ],
          "heatmapgl": [
           {
            "colorbar": {
             "outlinewidth": 0,
             "ticks": ""
            },
            "colorscale": [
             [
              0,
              "#0d0887"
             ],
             [
              0.1111111111111111,
              "#46039f"
             ],
             [
              0.2222222222222222,
              "#7201a8"
             ],
             [
              0.3333333333333333,
              "#9c179e"
             ],
             [
              0.4444444444444444,
              "#bd3786"
             ],
             [
              0.5555555555555556,
              "#d8576b"
             ],
             [
              0.6666666666666666,
              "#ed7953"
             ],
             [
              0.7777777777777778,
              "#fb9f3a"
             ],
             [
              0.8888888888888888,
              "#fdca26"
             ],
             [
              1,
              "#f0f921"
             ]
            ],
            "type": "heatmapgl"
           }
          ],
          "histogram": [
           {
            "marker": {
             "pattern": {
              "fillmode": "overlay",
              "size": 10,
              "solidity": 0.2
             }
            },
            "type": "histogram"
           }
          ],
          "histogram2d": [
           {
            "colorbar": {
             "outlinewidth": 0,
             "ticks": ""
            },
            "colorscale": [
             [
              0,
              "#0d0887"
             ],
             [
              0.1111111111111111,
              "#46039f"
             ],
             [
              0.2222222222222222,
              "#7201a8"
             ],
             [
              0.3333333333333333,
              "#9c179e"
             ],
             [
              0.4444444444444444,
              "#bd3786"
             ],
             [
              0.5555555555555556,
              "#d8576b"
             ],
             [
              0.6666666666666666,
              "#ed7953"
             ],
             [
              0.7777777777777778,
              "#fb9f3a"
             ],
             [
              0.8888888888888888,
              "#fdca26"
             ],
             [
              1,
              "#f0f921"
             ]
            ],
            "type": "histogram2d"
           }
          ],
          "histogram2dcontour": [
           {
            "colorbar": {
             "outlinewidth": 0,
             "ticks": ""
            },
            "colorscale": [
             [
              0,
              "#0d0887"
             ],
             [
              0.1111111111111111,
              "#46039f"
             ],
             [
              0.2222222222222222,
              "#7201a8"
             ],
             [
              0.3333333333333333,
              "#9c179e"
             ],
             [
              0.4444444444444444,
              "#bd3786"
             ],
             [
              0.5555555555555556,
              "#d8576b"
             ],
             [
              0.6666666666666666,
              "#ed7953"
             ],
             [
              0.7777777777777778,
              "#fb9f3a"
             ],
             [
              0.8888888888888888,
              "#fdca26"
             ],
             [
              1,
              "#f0f921"
             ]
            ],
            "type": "histogram2dcontour"
           }
          ],
          "mesh3d": [
           {
            "colorbar": {
             "outlinewidth": 0,
             "ticks": ""
            },
            "type": "mesh3d"
           }
          ],
          "parcoords": [
           {
            "line": {
             "colorbar": {
              "outlinewidth": 0,
              "ticks": ""
             }
            },
            "type": "parcoords"
           }
          ],
          "pie": [
           {
            "automargin": true,
            "type": "pie"
           }
          ],
          "scatter": [
           {
            "fillpattern": {
             "fillmode": "overlay",
             "size": 10,
             "solidity": 0.2
            },
            "type": "scatter"
           }
          ],
          "scatter3d": [
           {
            "line": {
             "colorbar": {
              "outlinewidth": 0,
              "ticks": ""
             }
            },
            "marker": {
             "colorbar": {
              "outlinewidth": 0,
              "ticks": ""
             }
            },
            "type": "scatter3d"
           }
          ],
          "scattercarpet": [
           {
            "marker": {
             "colorbar": {
              "outlinewidth": 0,
              "ticks": ""
             }
            },
            "type": "scattercarpet"
           }
          ],
          "scattergeo": [
           {
            "marker": {
             "colorbar": {
              "outlinewidth": 0,
              "ticks": ""
             }
            },
            "type": "scattergeo"
           }
          ],
          "scattergl": [
           {
            "marker": {
             "colorbar": {
              "outlinewidth": 0,
              "ticks": ""
             }
            },
            "type": "scattergl"
           }
          ],
          "scattermapbox": [
           {
            "marker": {
             "colorbar": {
              "outlinewidth": 0,
              "ticks": ""
             }
            },
            "type": "scattermapbox"
           }
          ],
          "scatterpolar": [
           {
            "marker": {
             "colorbar": {
              "outlinewidth": 0,
              "ticks": ""
             }
            },
            "type": "scatterpolar"
           }
          ],
          "scatterpolargl": [
           {
            "marker": {
             "colorbar": {
              "outlinewidth": 0,
              "ticks": ""
             }
            },
            "type": "scatterpolargl"
           }
          ],
          "scatterternary": [
           {
            "marker": {
             "colorbar": {
              "outlinewidth": 0,
              "ticks": ""
             }
            },
            "type": "scatterternary"
           }
          ],
          "surface": [
           {
            "colorbar": {
             "outlinewidth": 0,
             "ticks": ""
            },
            "colorscale": [
             [
              0,
              "#0d0887"
             ],
             [
              0.1111111111111111,
              "#46039f"
             ],
             [
              0.2222222222222222,
              "#7201a8"
             ],
             [
              0.3333333333333333,
              "#9c179e"
             ],
             [
              0.4444444444444444,
              "#bd3786"
             ],
             [
              0.5555555555555556,
              "#d8576b"
             ],
             [
              0.6666666666666666,
              "#ed7953"
             ],
             [
              0.7777777777777778,
              "#fb9f3a"
             ],
             [
              0.8888888888888888,
              "#fdca26"
             ],
             [
              1,
              "#f0f921"
             ]
            ],
            "type": "surface"
           }
          ],
          "table": [
           {
            "cells": {
             "fill": {
              "color": "#EBF0F8"
             },
             "line": {
              "color": "white"
             }
            },
            "header": {
             "fill": {
              "color": "#C8D4E3"
             },
             "line": {
              "color": "white"
             }
            },
            "type": "table"
           }
          ]
         },
         "layout": {
          "annotationdefaults": {
           "arrowcolor": "#2a3f5f",
           "arrowhead": 0,
           "arrowwidth": 1
          },
          "autotypenumbers": "strict",
          "coloraxis": {
           "colorbar": {
            "outlinewidth": 0,
            "ticks": ""
           }
          },
          "colorscale": {
           "diverging": [
            [
             0,
             "#8e0152"
            ],
            [
             0.1,
             "#c51b7d"
            ],
            [
             0.2,
             "#de77ae"
            ],
            [
             0.3,
             "#f1b6da"
            ],
            [
             0.4,
             "#fde0ef"
            ],
            [
             0.5,
             "#f7f7f7"
            ],
            [
             0.6,
             "#e6f5d0"
            ],
            [
             0.7,
             "#b8e186"
            ],
            [
             0.8,
             "#7fbc41"
            ],
            [
             0.9,
             "#4d9221"
            ],
            [
             1,
             "#276419"
            ]
           ],
           "sequential": [
            [
             0,
             "#0d0887"
            ],
            [
             0.1111111111111111,
             "#46039f"
            ],
            [
             0.2222222222222222,
             "#7201a8"
            ],
            [
             0.3333333333333333,
             "#9c179e"
            ],
            [
             0.4444444444444444,
             "#bd3786"
            ],
            [
             0.5555555555555556,
             "#d8576b"
            ],
            [
             0.6666666666666666,
             "#ed7953"
            ],
            [
             0.7777777777777778,
             "#fb9f3a"
            ],
            [
             0.8888888888888888,
             "#fdca26"
            ],
            [
             1,
             "#f0f921"
            ]
           ],
           "sequentialminus": [
            [
             0,
             "#0d0887"
            ],
            [
             0.1111111111111111,
             "#46039f"
            ],
            [
             0.2222222222222222,
             "#7201a8"
            ],
            [
             0.3333333333333333,
             "#9c179e"
            ],
            [
             0.4444444444444444,
             "#bd3786"
            ],
            [
             0.5555555555555556,
             "#d8576b"
            ],
            [
             0.6666666666666666,
             "#ed7953"
            ],
            [
             0.7777777777777778,
             "#fb9f3a"
            ],
            [
             0.8888888888888888,
             "#fdca26"
            ],
            [
             1,
             "#f0f921"
            ]
           ]
          },
          "colorway": [
           "#636efa",
           "#EF553B",
           "#00cc96",
           "#ab63fa",
           "#FFA15A",
           "#19d3f3",
           "#FF6692",
           "#B6E880",
           "#FF97FF",
           "#FECB52"
          ],
          "font": {
           "color": "#2a3f5f"
          },
          "geo": {
           "bgcolor": "white",
           "lakecolor": "white",
           "landcolor": "#E5ECF6",
           "showlakes": true,
           "showland": true,
           "subunitcolor": "white"
          },
          "hoverlabel": {
           "align": "left"
          },
          "hovermode": "closest",
          "mapbox": {
           "style": "light"
          },
          "paper_bgcolor": "white",
          "plot_bgcolor": "#E5ECF6",
          "polar": {
           "angularaxis": {
            "gridcolor": "white",
            "linecolor": "white",
            "ticks": ""
           },
           "bgcolor": "#E5ECF6",
           "radialaxis": {
            "gridcolor": "white",
            "linecolor": "white",
            "ticks": ""
           }
          },
          "scene": {
           "xaxis": {
            "backgroundcolor": "#E5ECF6",
            "gridcolor": "white",
            "gridwidth": 2,
            "linecolor": "white",
            "showbackground": true,
            "ticks": "",
            "zerolinecolor": "white"
           },
           "yaxis": {
            "backgroundcolor": "#E5ECF6",
            "gridcolor": "white",
            "gridwidth": 2,
            "linecolor": "white",
            "showbackground": true,
            "ticks": "",
            "zerolinecolor": "white"
           },
           "zaxis": {
            "backgroundcolor": "#E5ECF6",
            "gridcolor": "white",
            "gridwidth": 2,
            "linecolor": "white",
            "showbackground": true,
            "ticks": "",
            "zerolinecolor": "white"
           }
          },
          "shapedefaults": {
           "line": {
            "color": "#2a3f5f"
           }
          },
          "ternary": {
           "aaxis": {
            "gridcolor": "white",
            "linecolor": "white",
            "ticks": ""
           },
           "baxis": {
            "gridcolor": "white",
            "linecolor": "white",
            "ticks": ""
           },
           "bgcolor": "#E5ECF6",
           "caxis": {
            "gridcolor": "white",
            "linecolor": "white",
            "ticks": ""
           }
          },
          "title": {
           "x": 0.05
          },
          "xaxis": {
           "automargin": true,
           "gridcolor": "white",
           "linecolor": "white",
           "ticks": "",
           "title": {
            "standoff": 15
           },
           "zerolinecolor": "white",
           "zerolinewidth": 2
          },
          "yaxis": {
           "automargin": true,
           "gridcolor": "white",
           "linecolor": "white",
           "ticks": "",
           "title": {
            "standoff": 15
           },
           "zerolinecolor": "white",
           "zerolinewidth": 2
          }
         }
        },
        "title": {
         "text": "EAMENA-0500002"
        }
       }
      }
     },
     "metadata": {},
     "output_type": "display_data"
    }
   ],
   "source": [
    "if mylevel == 'level3':\n",
    "    colors = {'recorded': 'blue', 'Enhanced record minimum standard': 'red'}\n",
    "    merged_df = pd.merge(df_res, df_erms, on='field')\n",
    "    melted_df = pd.melt(merged_df, id_vars=['field'], var_name='Value Set', value_name='Value')\n",
    "    melted_df.sort_values('Value Set', inplace=True)\n",
    "    if verbose:\n",
    "        print(melted_df.to_markdown())\n",
    "    fig = px.line_polar(melted_df, r='Value', theta='field', color='Value Set',\n",
    "                        line_close = False, color_discrete_map=colors, title = selected_hp)\n",
    "    fig.show()\n",
    "else:\n",
    "    variable = df_res['field'].tolist()\n",
    "    value = df_res['recorded'].tolist()\n",
    "    df = pd.DataFrame(dict(\n",
    "        value = value,\n",
    "        variable = variable))\n",
    "    fig = px.line_polar(df, r = 'value', theta = 'variable', line_close = True)\n",
    "    fig.show()"
   ]
  }
 ],
 "metadata": {
  "kernelspec": {
   "display_name": "Python 3",
   "language": "python",
   "name": "python3"
  },
  "language_info": {
   "codemirror_mode": {
    "name": "ipython",
    "version": 3
   },
   "file_extension": ".py",
   "mimetype": "text/x-python",
   "name": "python",
   "nbconvert_exporter": "python",
   "pygments_lexer": "ipython3",
   "version": "3.11.2"
  },
  "orig_nbformat": 4
 },
 "nbformat": 4,
 "nbformat_minor": 2
}
