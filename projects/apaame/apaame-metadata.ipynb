{
 "cells": [
  {
   "cell_type": "code",
   "execution_count": null,
   "metadata": {},
   "outputs": [],
   "source": [
    "# Read metadata"
   ]
  },
  {
   "cell_type": "markdown",
   "metadata": {},
   "source": [
    "load libraries"
   ]
  },
  {
   "cell_type": "code",
   "execution_count": 9,
   "metadata": {},
   "outputs": [],
   "source": [
    "import os\n",
    "import re\n",
    "from pyavm import AVM\n",
    "import exifread\n",
    "import pandas as pd\n",
    "from PIL import Image #, ExifTags\n",
    "# from PIL.ExifTags import TAGS"
   ]
  },
  {
   "cell_type": "markdown",
   "metadata": {},
   "source": [
    "\n",
    "collect all metadata from the folder \"C:/Rprojects/eamena-arches-dev/projects/apaame/sample/\""
   ]
  },
  {
   "cell_type": "code",
   "execution_count": 13,
   "metadata": {},
   "outputs": [
    {
     "name": "stdout",
     "output_type": "stream",
     "text": [
      ".gitignore\n",
      "APAAME_19970527_DLK-0190-small\n",
      "APAAME_19970527_DLK-0190\n",
      "| Filename   | Tag Name   | Value   |\n",
      "|------------|------------|---------|\n"
     ]
    }
   ],
   "source": [
    "valid_extensions = ['.jpg', '.jpeg', '.tiff', '.tif', '.dng', '.png']\n",
    "\n",
    "pathIn = \"C:/Rprojects/eamena-arches-dev/projects/apaame/sample/\"\n",
    "pathOut = \"C:/Rprojects/eamena-arches-dev/projects/apaame/sample/metadata.csv\"\n",
    "dirIn = os.listdir(pathIn)\n",
    "all_metada = pd.DataFrame(columns=['Filename', 'Tag Name', 'Value'])\n",
    "for i in range(len(dirIn)):\n",
    "    photo, extension = os.path.splitext(dirIn[i])\n",
    "    extension = extension.lower()\n",
    "    print(photo)\n",
    "    # only images tagged \"small\"\n",
    "    match = re.search(\"-small\", photo)\n",
    "    if extension in valid_extensions and match:\n",
    "        photo_name = dirIn[i]\n",
    "        print(str(i) + \"- read \" + photo_name)\n",
    "        imagename = pathIn + photo_name\n",
    "        with open(imagename, 'rb') as f:\n",
    "            tags = exifread.process_file(f)\n",
    "        tag_names, tag_values = [], []\n",
    "        for tag, value in tags.items():\n",
    "            # avoid JPEGThumbnail for print purposes\n",
    "            if str(tag) != 'JPEGThumbnail':\n",
    "                # print(str(tag))\n",
    "                tag_names.append(str(tag))\n",
    "                tag_values.append(str(value))\n",
    "        # Create a Pandas DataFrame from the lists\n",
    "            metadata_df = pd.DataFrame({'Filename': photo, 'Tag Name': tag_names, 'Value': tag_values})\n",
    "        all_metada = pd.concat([all_metada, metadata_df], ignore_index = False)\n",
    "        # all_metada = all_metada.append(metadata_df)\n",
    "# Display the DataFrame\n",
    "# all_metada.drop_duplicates(keep=False, inplace=True)\n",
    "print(all_metada.to_markdown(index=False))"
   ]
  },
  {
   "cell_type": "markdown",
   "metadata": {},
   "source": [
    "Not run ..."
   ]
  },
  {
   "cell_type": "code",
   "execution_count": null,
   "metadata": {},
   "outputs": [],
   "source": [
    "\n",
    "\n",
    "# not run...\n",
    "# selected field and expected extensions, export (or not), ...\n",
    "\n",
    "df = pd.DataFrame(columns=[\"Name\", \"Creator\", \"Rights\", \"Title\", \"Description\", \"Credit\", \"Date\", \"Contact\", \"Subject\", \"Model\", \"Lens\"])\n",
    "export_df = False\n",
    "mtd_exif = True\n",
    "mtd_xml = False\n",
    "\n",
    "# not run ..\n",
    "for i in range(len(dirIn)):\n",
    "    _, extension = os.path.splitext(dirIn[i])\n",
    "    extension = extension.lower()\n",
    "    if extension in valid_extensions:\n",
    "        photo_name = dirIn[i]\n",
    "        print(str(i) + \"- read \" + photo_name)\n",
    "        imagename = pathIn + photo_name\n",
    "        # imagename = path + \"APAAME_20211026_RHB-0705.DNG\"\n",
    "        #img = Image.open(imagename) # for XMP\n",
    "        # exif = { ExifTags.TAGS[k]: v for k, v in img._getexif().items() if k in ExifTags.TAGS }\n",
    "        if mtd_xml:\n",
    "        # XMP\n",
    "            xmp = AVM.from_image(imagename)\n",
    "            xmp_creator = xmp.Creator\n",
    "            xmp_rights = xmp.Rights\n",
    "            xmp_title = xmp.Title\n",
    "            xmp_description = xmp.Description # coordinates\n",
    "            xmp_credits = xmp.Credit\n",
    "            xmp_date = xmp.Date\n",
    "            xmp_contact = xmp.Contact\n",
    "            xmp_subjects = xmp.Subject # key words\n",
    "        if mtd_exif:\n",
    "        # EXIF\n",
    "        # exif = image.getexif()\n",
    "        # exif_model = exif[272] # 272 is the Model key\n",
    "        # exif_lens = exif[42036] # 42036 is the LensModel key\n",
    "        # exif_lens = exif[37386] # xxx is the LensModel key\n",
    "        # exif = { ExifTags.TAGS[k]: v for k, v in img._getexif().items() if k in ExifTags.TAGS }\n",
    "        f = open(imagename, 'rb')\n",
    "        exifTags = exifread.process_file(f) # for EXIF\n",
    "        exif_model = exifTags['Image Model'].values\n",
    "        exif_lens = exifTags['FocalLength'].values\n",
    "        exif_lens = str(exif_lens)\n",
    "        df.loc[i] = [photo_name, xmp_creator, xmp_rights, xmp_title, xmp_description, xmp_credits, xmp_date, xmp_contact, xmp_subjects, exif_model, exif_lens]\n",
    "\n",
    "print(df.to_markdown(index=False))\n",
    "\n",
    "# export\n",
    "if export_df:\n",
    "    df.to_csv(pathOut, sep=',')\n",
    "    print(\"Done\")\n",
    "\n",
    "# exif = image.getexif()\n",
    "\n",
    "# for tag_id in exif:\n",
    "#     # get the tag name, instead of human unreadable tag id\n",
    "#     tag = TAGS.get(tag_id, tag_id)\n",
    "#     data = exif.get(tag_id)\n",
    "#     # decode bytes \n",
    "#     if isinstance(data, bytes):\n",
    "#         data = data.decode()\n",
    "#     print(f\"{tag:25}: {data}\")"
   ]
  }
 ],
 "metadata": {
  "kernelspec": {
   "display_name": "Python 3",
   "language": "python",
   "name": "python3"
  },
  "language_info": {
   "codemirror_mode": {
    "name": "ipython",
    "version": 3
   },
   "file_extension": ".py",
   "mimetype": "text/x-python",
   "name": "python",
   "nbconvert_exporter": "python",
   "pygments_lexer": "ipython3",
   "version": "3.11.2"
  }
 },
 "nbformat": 4,
 "nbformat_minor": 2
}
