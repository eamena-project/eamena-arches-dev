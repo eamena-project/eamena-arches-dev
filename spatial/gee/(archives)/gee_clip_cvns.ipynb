{
  "nbformat": 4,
  "nbformat_minor": 0,
  "metadata": {
    "colab": {
      "provenance": []
    },
    "kernelspec": {
      "name": "python3",
      "display_name": "Python 3"
    },
    "language_info": {
      "name": "python"
    }
  },
  "cells": [
    {
      "cell_type": "code",
      "source": [
        "#############################################################\n",
        "## script first created by Will Deadman, Durham University ##\n",
        "#############################################################"
      ],
      "metadata": {
        "id": "AODrs9t7ya2a"
      },
      "execution_count": null,
      "outputs": []
    },
    {
      "cell_type": "markdown",
      "source": [
        "## Satellite imagery and Heritage Place geometry"
      ],
      "metadata": {
        "id": "wTio4rMuNwc8"
      }
    },
    {
      "cell_type": "markdown",
      "source": [
        "Load libraries"
      ],
      "metadata": {
        "id": "TVxLgVuxyQyU"
      }
    },
    {
      "cell_type": "code",
      "source": [
        "import ee\n",
        "import requests\n",
        "import json\n",
        "import folium\n",
        "from IPython.core.display import display, HTML"
      ],
      "metadata": {
        "id": "CWdcd5X2yVz_"
      },
      "execution_count": 56,
      "outputs": []
    },
    {
      "cell_type": "markdown",
      "source": [
        "Google credentials to access GEE"
      ],
      "metadata": {
        "id": "ZCTx9Ry-ygin"
      }
    },
    {
      "cell_type": "code",
      "source": [
        "ee.Authenticate()\n",
        "ee.Initialize(project = \"ee-zoometh\")"
      ],
      "metadata": {
        "id": "hg34Uv9Rym0-"
      },
      "execution_count": null,
      "outputs": []
    },
    {
      "cell_type": "markdown",
      "source": [
        "Load the geomtries"
      ],
      "metadata": {
        "id": "_Dsn41QtAcT1"
      }
    },
    {
      "cell_type": "code",
      "source": [
        "url = \"https://raw.githubusercontent.com/eamena-project/eamena-arches-dev/main/projects/caravanserail/caravanserail.geojson\"\n",
        "response = requests.get(url)\n",
        "geojson = json.loads(response.text)"
      ],
      "metadata": {
        "id": "Rt6BphfOAeik"
      },
      "execution_count": null,
      "outputs": []
    },
    {
      "cell_type": "markdown",
      "source": [
        "Geometries used to clip"
      ],
      "metadata": {
        "id": "Ukoaktw6yyjZ"
      }
    },
    {
      "cell_type": "code",
      "source": [
        "my_geom = 3 # select a geometry (1, 3, etc.) /!\\ doesn't work with POINTS\n",
        "geom_type = geojson['features'][my_geom]['geometry']['type']\n",
        "\n",
        "if geom_type == 'Polygon':\n",
        "  EAMENA_ID = geojson['features'][my_geom]['properties']['EAMENA ID']\n",
        "\n",
        "  # coordinates\n",
        "  hp_coords = geojson['features'][my_geom]['geometry']['coordinates']\n",
        "  hp = ee.Geometry.Polygon(hp_coords)\n",
        "\n",
        "  # centroid\n",
        "  centroid = hp.centroid()\n",
        "  centroid_info = centroid.getInfo()\n",
        "  coord_x = centroid_info['coordinates'][0]\n",
        "  coord_y = centroid_info['coordinates'][1]\n",
        "\n",
        "  # aoi = bbox/mbr\n",
        "  flat_coords = [item for sublist in hp_coords for item in sublist]\n",
        "  min_lon, min_lat = min(flat_coords, key=lambda x: x[0])[0], min(flat_coords, key=lambda x: x[1])[1]\n",
        "  max_lon, max_lat = max(flat_coords, key=lambda x: x[0])[0], max(flat_coords, key=lambda x: x[1])[1]\n",
        "  AOI = ee.Geometry.BBox(min_lon, min_lat, max_lon, max_lat) # bbox\n",
        "\n",
        "  # date\n",
        "  Y1 = 2021\n",
        "  Y2 = 2021\n",
        "  M1 = 7\n",
        "  M2 = M1 + 3\n",
        "\n",
        "  # Sentinel-2 composite\n",
        "  collection = (\n",
        "      ee.ImageCollection(\"COPERNICUS/S2_SR\")\n",
        "      .filterBounds(AOI)\n",
        "      .filterMetadata(\"CLOUDY_PIXEL_PERCENTAGE\", \"less_than\", 10)\n",
        "      .filter(ee.Filter.calendarRange(Y1, Y2, \"year\"))\n",
        "      .filter(ee.Filter.calendarRange(M1, M2, \"month\"))\n",
        "      .select([\"B.*\"])\n",
        "  )\n",
        "\n",
        "  image = ee.Image(collection.median()).clip(AOI).divide(10000)\n",
        "  print(\"Done\")\n",
        "else:\n",
        "  print(\"The current geometry is \" + geom_type)"
      ],
      "metadata": {
        "colab": {
          "base_uri": "https://localhost:8080/"
        },
        "id": "VBA1f3ty2hXl",
        "outputId": "c4e5f981-85dd-4f05-d9ac-6a57983d6853"
      },
      "execution_count": 81,
      "outputs": [
        {
          "output_type": "stream",
          "name": "stdout",
          "text": [
            "Done\n"
          ]
        }
      ]
    },
    {
      "cell_type": "markdown",
      "source": [
        "Show Map"
      ],
      "metadata": {
        "id": "7E1dLUk5-XIm"
      }
    },
    {
      "cell_type": "code",
      "source": [
        "# Visualization parameters.\n",
        "vis_params = {\n",
        "    'min': 0.0,\n",
        "    'max': 0.3,\n",
        "    'bands': ['B4', 'B3', 'B2'],\n",
        "}\n",
        "\n",
        "# centered\n",
        "map = folium.Map(location=[coord_y, coord_x], zoom_start=18, tiles=None)  # Set tiles=None to start with a blank map\n",
        "# Google Satellite\n",
        "google_satellite = folium.TileLayer(\n",
        "    tiles='https://{s}.google.com/vt/lyrs=s&x={x}&y={y}&z={z}',\n",
        "    attr='Google',\n",
        "    name='Google Satellite',\n",
        "    max_zoom=20,\n",
        "    subdomains=['mt1', 'mt2', 'mt3'],\n",
        "    overlay=False,\n",
        "    control=True,\n",
        ").add_to(map)\n",
        "\n",
        "# clipped geometry\n",
        "map_id_dict = ee.Image(image).getMapId(vis_params)\n",
        "folium.TileLayer(\n",
        "    tiles=map_id_dict['tile_fetcher'].url_format,\n",
        "    attr='Map Data &copy; <a href=\"https://earthengine.google.com/\">Google Earth Engine</a>',\n",
        "    overlay=True,\n",
        "    control=True,\n",
        "    name='median composite',\n",
        ").add_to(map)\n",
        "\n",
        "# control panel\n",
        "map.add_child(folium.LayerControl())\n",
        "\n",
        "# Display the map.\n",
        "map_html = map._repr_html_()\n",
        "map_display = HTML(data=f'<div style=\"width: 800px; height: 800px;\">{map_html}</div>')\n",
        "display(map_display)\n"
      ],
      "metadata": {
        "colab": {
          "base_uri": "https://localhost:8080/",
          "height": 817
        },
        "id": "nmPff7Q1yBjf",
        "outputId": "1c4c9e18-0bc1-4d33-bcb0-2ef0e922ab91"
      },
      "execution_count": 82,
      "outputs": [
        {
          "output_type": "display_data",
          "data": {
            "text/plain": [
              "<IPython.core.display.HTML object>"
            ],
            "text/html": [
              "<div style=\"width: 800px; height: 800px;\"><div style=\"width:100%;\"><div style=\"position:relative;width:100%;height:0;padding-bottom:60%;\"><span style=\"color:#565656\">Make this Notebook Trusted to load map: File -> Trust Notebook</span><iframe srcdoc=\"&lt;!DOCTYPE html&gt;\n",
              "&lt;html&gt;\n",
              "&lt;head&gt;\n",
              "    \n",
              "    &lt;meta http-equiv=&quot;content-type&quot; content=&quot;text/html; charset=UTF-8&quot; /&gt;\n",
              "    \n",
              "        &lt;script&gt;\n",
              "            L_NO_TOUCH = false;\n",
              "            L_DISABLE_3D = false;\n",
              "        &lt;/script&gt;\n",
              "    \n",
              "    &lt;style&gt;html, body {width: 100%;height: 100%;margin: 0;padding: 0;}&lt;/style&gt;\n",
              "    &lt;style&gt;#map {position:absolute;top:0;bottom:0;right:0;left:0;}&lt;/style&gt;\n",
              "    &lt;script src=&quot;https://cdn.jsdelivr.net/npm/leaflet@1.9.3/dist/leaflet.js&quot;&gt;&lt;/script&gt;\n",
              "    &lt;script src=&quot;https://code.jquery.com/jquery-1.12.4.min.js&quot;&gt;&lt;/script&gt;\n",
              "    &lt;script src=&quot;https://cdn.jsdelivr.net/npm/bootstrap@5.2.2/dist/js/bootstrap.bundle.min.js&quot;&gt;&lt;/script&gt;\n",
              "    &lt;script src=&quot;https://cdnjs.cloudflare.com/ajax/libs/Leaflet.awesome-markers/2.0.2/leaflet.awesome-markers.js&quot;&gt;&lt;/script&gt;\n",
              "    &lt;link rel=&quot;stylesheet&quot; href=&quot;https://cdn.jsdelivr.net/npm/leaflet@1.9.3/dist/leaflet.css&quot;/&gt;\n",
              "    &lt;link rel=&quot;stylesheet&quot; href=&quot;https://cdn.jsdelivr.net/npm/bootstrap@5.2.2/dist/css/bootstrap.min.css&quot;/&gt;\n",
              "    &lt;link rel=&quot;stylesheet&quot; href=&quot;https://netdna.bootstrapcdn.com/bootstrap/3.0.0/css/bootstrap.min.css&quot;/&gt;\n",
              "    &lt;link rel=&quot;stylesheet&quot; href=&quot;https://cdn.jsdelivr.net/npm/@fortawesome/fontawesome-free@6.2.0/css/all.min.css&quot;/&gt;\n",
              "    &lt;link rel=&quot;stylesheet&quot; href=&quot;https://cdnjs.cloudflare.com/ajax/libs/Leaflet.awesome-markers/2.0.2/leaflet.awesome-markers.css&quot;/&gt;\n",
              "    &lt;link rel=&quot;stylesheet&quot; href=&quot;https://cdn.jsdelivr.net/gh/python-visualization/folium/folium/templates/leaflet.awesome.rotate.min.css&quot;/&gt;\n",
              "    \n",
              "            &lt;meta name=&quot;viewport&quot; content=&quot;width=device-width,\n",
              "                initial-scale=1.0, maximum-scale=1.0, user-scalable=no&quot; /&gt;\n",
              "            &lt;style&gt;\n",
              "                #map_01b22c9a9c5f493d750f39d2422d663a {\n",
              "                    position: relative;\n",
              "                    width: 100.0%;\n",
              "                    height: 100.0%;\n",
              "                    left: 0.0%;\n",
              "                    top: 0.0%;\n",
              "                }\n",
              "                .leaflet-container { font-size: 1rem; }\n",
              "            &lt;/style&gt;\n",
              "        \n",
              "&lt;/head&gt;\n",
              "&lt;body&gt;\n",
              "    \n",
              "    \n",
              "            &lt;div class=&quot;folium-map&quot; id=&quot;map_01b22c9a9c5f493d750f39d2422d663a&quot; &gt;&lt;/div&gt;\n",
              "        \n",
              "&lt;/body&gt;\n",
              "&lt;script&gt;\n",
              "    \n",
              "    \n",
              "            var map_01b22c9a9c5f493d750f39d2422d663a = L.map(\n",
              "                &quot;map_01b22c9a9c5f493d750f39d2422d663a&quot;,\n",
              "                {\n",
              "                    center: [34.75922308624482, 52.17941699809131],\n",
              "                    crs: L.CRS.EPSG3857,\n",
              "                    zoom: 18,\n",
              "                    zoomControl: true,\n",
              "                    preferCanvas: false,\n",
              "                }\n",
              "            );\n",
              "\n",
              "            \n",
              "\n",
              "        \n",
              "    \n",
              "            var tile_layer_3dbd3ec155b167a1ed173d9083731b83 = L.tileLayer(\n",
              "                &quot;https://{s}.google.com/vt/lyrs=s\\u0026x={x}\\u0026y={y}\\u0026z={z}&quot;,\n",
              "                {&quot;attribution&quot;: &quot;Google&quot;, &quot;detectRetina&quot;: false, &quot;maxNativeZoom&quot;: 20, &quot;maxZoom&quot;: 20, &quot;minZoom&quot;: 0, &quot;noWrap&quot;: false, &quot;opacity&quot;: 1, &quot;subdomains&quot;: [&quot;mt1&quot;, &quot;mt2&quot;, &quot;mt3&quot;], &quot;tms&quot;: false}\n",
              "            ).addTo(map_01b22c9a9c5f493d750f39d2422d663a);\n",
              "        \n",
              "    \n",
              "            var tile_layer_3b1e1a81e2d975f12854bbf1558c019e = L.tileLayer(\n",
              "                &quot;https://earthengine.googleapis.com/v1/projects/ee-zoometh/maps/ae36b6b2e16aaa21a3a2083d8f83ca73-28c64c117765a87e2e3962d6f5cb63a1/tiles/{z}/{x}/{y}&quot;,\n",
              "                {&quot;attribution&quot;: &quot;Map Data \\u0026copy; \\u003ca href=\\&quot;https://earthengine.google.com/\\&quot;\\u003eGoogle Earth Engine\\u003c/a\\u003e&quot;, &quot;detectRetina&quot;: false, &quot;maxNativeZoom&quot;: 18, &quot;maxZoom&quot;: 18, &quot;minZoom&quot;: 0, &quot;noWrap&quot;: false, &quot;opacity&quot;: 1, &quot;subdomains&quot;: &quot;abc&quot;, &quot;tms&quot;: false}\n",
              "            ).addTo(map_01b22c9a9c5f493d750f39d2422d663a);\n",
              "        \n",
              "    \n",
              "            var layer_control_4756cde030e83fbd806bba6efb2a597e = {\n",
              "                base_layers : {\n",
              "                    &quot;Google Satellite&quot; : tile_layer_3dbd3ec155b167a1ed173d9083731b83,\n",
              "                },\n",
              "                overlays :  {\n",
              "                    &quot;median composite&quot; : tile_layer_3b1e1a81e2d975f12854bbf1558c019e,\n",
              "                },\n",
              "            };\n",
              "            L.control.layers(\n",
              "                layer_control_4756cde030e83fbd806bba6efb2a597e.base_layers,\n",
              "                layer_control_4756cde030e83fbd806bba6efb2a597e.overlays,\n",
              "                {&quot;autoZIndex&quot;: true, &quot;collapsed&quot;: true, &quot;position&quot;: &quot;topright&quot;}\n",
              "            ).addTo(map_01b22c9a9c5f493d750f39d2422d663a);\n",
              "        \n",
              "&lt;/script&gt;\n",
              "&lt;/html&gt;\" style=\"position:absolute;width:100%;height:100%;left:0;top:0;border:none !important;\" allowfullscreen webkitallowfullscreen mozallowfullscreen></iframe></div></div></div>"
            ]
          },
          "metadata": {}
        }
      ]
    },
    {
      "cell_type": "markdown",
      "source": [
        "Export"
      ],
      "metadata": {
        "id": "I6bTUtpk93Wl"
      }
    },
    {
      "cell_type": "code",
      "source": [
        "# export\n",
        "task = ee.batch.Export.image.toDrive(\n",
        "    image=image,\n",
        "    description = EAMENA_ID,\n",
        "    folder=\"gee_python\",\n",
        "    region=AOI,\n",
        "    scale=100,\n",
        "    crs=\"EPSG:4326\",\n",
        ")\n",
        "\n",
        "task.start()"
      ],
      "metadata": {
        "id": "KmY-rVUA95D9"
      },
      "execution_count": 93,
      "outputs": []
    },
    {
      "cell_type": "code",
      "source": [
        "task.status()"
      ],
      "metadata": {
        "colab": {
          "base_uri": "https://localhost:8080/"
        },
        "id": "Zuizc5qENJG2",
        "outputId": "e98931cc-ce00-435e-ca8f-182e34ae30f9"
      },
      "execution_count": 103,
      "outputs": [
        {
          "output_type": "execute_result",
          "data": {
            "text/plain": [
              "{'state': 'COMPLETED',\n",
              " 'description': 'EAMENA-0164906',\n",
              " 'creation_timestamp_ms': 1710155457515,\n",
              " 'update_timestamp_ms': 1710155483587,\n",
              " 'start_timestamp_ms': 1710155463673,\n",
              " 'task_type': 'EXPORT_IMAGE',\n",
              " 'destination_uris': ['https://drive.google.com/#folders/1hxwSqjtmcAk2baSX0nvbW7ZT6OmuUEIn'],\n",
              " 'attempt': 1,\n",
              " 'batch_eecu_usage_seconds': 1.1529306173324585,\n",
              " 'id': 'N2ZUYMN3EEHOPXYAQFBDMAET',\n",
              " 'name': 'projects/ee-zoometh/operations/N2ZUYMN3EEHOPXYAQFBDMAET'}"
            ]
          },
          "metadata": {},
          "execution_count": 103
        }
      ]
    }
  ]
}