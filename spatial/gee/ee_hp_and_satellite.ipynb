{
  "nbformat": 4,
  "nbformat_minor": 0,
  "metadata": {
    "colab": {
      "name": "ee-api-colab-setup.ipynb",
      "provenance": [],
      "toc_visible": true
    },
    "kernelspec": {
      "name": "python3",
      "display_name": "Python 3"
    }
  },
  "cells": [
    {
      "cell_type": "code",
      "metadata": {
        "id": "krsLgVBYZw_A",
        "outputId": "3ea8d322-8d47-4ba8-8f9a-a804f75354f5",
        "colab": {
          "base_uri": "https://localhost:8080/",
          "height": 17
        }
      },
      "source": [
        "#@title Copyright 2019 Google LLC. { display-mode: \"form\" }\n",
        "# Licensed under the Apache License, Version 2.0 (the \"License\");\n",
        "# you may not use this file except in compliance with the License.\n",
        "# You may obtain a copy of the License at\n",
        "#\n",
        "# https://www.apache.org/licenses/LICENSE-2.0\n",
        "#\n",
        "# Unless required by applicable law or agreed to in writing, software\n",
        "# distributed under the License is distributed on an \"AS IS\" BASIS,\n",
        "# WITHOUT WARRANTIES OR CONDITIONS OF ANY KIND, either express or implied.\n",
        "# See the License for the specific language governing permissions and\n",
        "# limitations under the License."
      ],
      "execution_count": 11,
      "outputs": [
        {
          "output_type": "display_data",
          "data": {
            "text/plain": [
              "<IPython.core.display.HTML object>"
            ],
            "text/html": [
              "\n",
              "            <style>\n",
              "                .geemap-dark {\n",
              "                    --jp-widgets-color: white;\n",
              "                    --jp-widgets-label-color: white;\n",
              "                    --jp-ui-font-color1: white;\n",
              "                    --jp-layout-color2: #454545;\n",
              "                    background-color: #383838;\n",
              "                }\n",
              "                    \n",
              "                .geemap-dark .jupyter-button {\n",
              "                    --jp-layout-color3: #383838;\n",
              "                }\n",
              "                \n",
              "                .geemap-colab {\n",
              "                    background-color: var(--colab-primary-surface-color, white);\n",
              "                }\n",
              "                    \n",
              "                .geemap-colab .jupyter-button {\n",
              "                    --jp-layout-color3: var(--colab-primary-surface-color, white);\n",
              "                }\n",
              "            </style>\n",
              "            "
            ]
          },
          "metadata": {}
        }
      ]
    },
    {
      "cell_type": "markdown",
      "metadata": {
        "id": "aV1xZ1CPi3Nw"
      },
      "source": [
        "<table class=\"ee-notebook-buttons\" align=\"left\"><td>\n",
        "<a target=\"_blank\"  href=\"http://colab.research.google.com/github/google/earthengine-community/blob/master/guides/linked/ee-api-colab-setup.ipynb\">\n",
        "    <img src=\"https://www.tensorflow.org/images/colab_logo_32px.png\" /> Run in Google Colab</a>\n",
        "</td><td>\n",
        "<a target=\"_blank\"  href=\"https://github.com/google/earthengine-community/blob/master/guides/linked/ee-api-colab-setup.ipynb\"><img width=32px src=\"https://www.tensorflow.org/images/GitHub-Mark-32px.png\" /> View source on GitHub</a></td></table>"
      ]
    },
    {
      "cell_type": "markdown",
      "metadata": {
        "id": "LAZiVi13zTE7"
      },
      "source": [
        "# Setup\n",
        "\n",
        "Authentification, initialize and load libraries"
      ]
    },
    {
      "cell_type": "code",
      "metadata": {
        "id": "65RChERMzQHZ"
      },
      "source": [
        "import ee\n",
        "import requests\n",
        "import json\n",
        "import folium\n",
        "\n",
        "ee_project = 'ee-zoometh'\n",
        "\n",
        "ee.Authenticate()\n",
        "ee.Initialize(project = ee_project)"
      ],
      "execution_count": 1,
      "outputs": []
    },
    {
      "cell_type": "markdown",
      "source": [
        "# Satellite imagery and Heritage Place geometry"
      ],
      "metadata": {
        "id": "jEgWmdmVMd7r"
      }
    },
    {
      "cell_type": "code",
      "source": [
        "# URL to the raw GeoJSON file on GitHub\n",
        "url = \"https://raw.githubusercontent.com/eamena-project/eamena-arches-dev/main/projects/caravanserail/caravanserail.geojson\"\n",
        "response = requests.get(url)\n",
        "geojson = json.loads(response.text)\n",
        "# coordinates\n",
        "polygon_coords = geojson['features'][0]['geometry']['coordinates']\n",
        "polygon = ee.Geometry.Polygon(polygon_coords)\n",
        "\n",
        "# invert Lat Lon and flat list\n",
        "polygon_coords_i = [[lat, lon] for lon, lat in polygon_coords[0]]\n",
        "polygon = ee.Geometry.Polygon(polygon_coords)\n",
        "# polygon = ee.Geometry.Polygon(polygon_coords_i)\n",
        "\n",
        "# Select a Landsat 8 image.\n",
        "landsat_image = ee.ImageCollection('LANDSAT/LC08/C01/T1') \\\n",
        "    .filterDate('2020-01-01', '2020-12-31') \\\n",
        "    .filterBounds(polygon) \\\n",
        "    .sort('CLOUD_COVER') \\\n",
        "    .first() \\\n",
        "    .select('B4', 'B3', 'B2')\n",
        "# Set visualization parameters.\n",
        "vis_params = {\n",
        "    'min': 0,\n",
        "    'max': 30000,\n",
        "    'dimensions': 512,\n",
        "    'bands': ['B4', 'B3', 'B2'],\n",
        "}\n",
        "# Get the URL for the thumbnail of the image.\n",
        "thumbnail_url = landsat_image.getThumbURL(vis_params)\n",
        "\n",
        "# Create a folium map object.\n",
        "map_center = polygon.centroid().coordinates().getInfo()[::-1]\n",
        "m = folium.Map(location=map_center, zoom_start=17, height='50%')\n",
        "\n",
        "folium.raster_layers.TileLayer(\n",
        "    tiles='https://{s}.google.com/vt/lyrs=s,h&x={x}&y={y}&z={z}',\n",
        "    attr='Google',\n",
        "    name='Google Satellite',\n",
        "    max_zoom=20,\n",
        "    subdomains=['mt1', 'mt2', 'mt3'],\n",
        "    overlay=False,\n",
        "    control=True,\n",
        ").add_to(m)\n",
        "\n",
        "# Add the Landsat image to the map object.\n",
        "m.add_child(folium.raster_layers.ImageOverlay(name='Landsat 8 Image', image=thumbnail_url, bounds=[[29.87959, 59.974786], [29.880725, 59.9761]], opacity=1))\n",
        "# Add the polygon to the map object.\n",
        "folium.vector_layers.Polygon(locations=polygon_coords_i, color='blue', fill_color='blue').add_to(m)\n",
        "# Add layer control\n",
        "m.add_child(folium.LayerControl())\n",
        "m"
      ],
      "metadata": {
        "id": "D0VRWSGeeCcM",
        "outputId": "b0ca822c-161c-4e06-a76d-4c38d805f159",
        "colab": {
          "base_uri": "https://localhost:8080/",
          "height": 770
        }
      },
      "execution_count": 10,
      "outputs": [
        {
          "output_type": "display_data",
          "data": {
            "text/plain": [
              "<IPython.core.display.HTML object>"
            ],
            "text/html": [
              "\n",
              "            <style>\n",
              "                .geemap-dark {\n",
              "                    --jp-widgets-color: white;\n",
              "                    --jp-widgets-label-color: white;\n",
              "                    --jp-ui-font-color1: white;\n",
              "                    --jp-layout-color2: #454545;\n",
              "                    background-color: #383838;\n",
              "                }\n",
              "                    \n",
              "                .geemap-dark .jupyter-button {\n",
              "                    --jp-layout-color3: #383838;\n",
              "                }\n",
              "                \n",
              "                .geemap-colab {\n",
              "                    background-color: var(--colab-primary-surface-color, white);\n",
              "                }\n",
              "                    \n",
              "                .geemap-colab .jupyter-button {\n",
              "                    --jp-layout-color3: var(--colab-primary-surface-color, white);\n",
              "                }\n",
              "            </style>\n",
              "            "
            ]
          },
          "metadata": {}
        },
        {
          "output_type": "execute_result",
          "data": {
            "text/plain": [
              "<folium.folium.Map at 0x7d0c4efaa230>"
            ],
            "text/html": [
              "<div style=\"width:100%;\"><div style=\"position:relative;width:100%;height:0;padding-bottom:60%;\"><span style=\"color:#565656\">Make this Notebook Trusted to load map: File -> Trust Notebook</span><iframe srcdoc=\"&lt;!DOCTYPE html&gt;\n",
              "&lt;html&gt;\n",
              "&lt;head&gt;\n",
              "    \n",
              "    &lt;meta http-equiv=&quot;content-type&quot; content=&quot;text/html; charset=UTF-8&quot; /&gt;\n",
              "    \n",
              "        &lt;script&gt;\n",
              "            L_NO_TOUCH = false;\n",
              "            L_DISABLE_3D = false;\n",
              "        &lt;/script&gt;\n",
              "    \n",
              "    &lt;style&gt;html, body {width: 100%;height: 100%;margin: 0;padding: 0;}&lt;/style&gt;\n",
              "    &lt;style&gt;#map {position:absolute;top:0;bottom:0;right:0;left:0;}&lt;/style&gt;\n",
              "    &lt;script src=&quot;https://cdn.jsdelivr.net/npm/leaflet@1.9.3/dist/leaflet.js&quot;&gt;&lt;/script&gt;\n",
              "    &lt;script src=&quot;https://code.jquery.com/jquery-1.12.4.min.js&quot;&gt;&lt;/script&gt;\n",
              "    &lt;script src=&quot;https://cdn.jsdelivr.net/npm/bootstrap@5.2.2/dist/js/bootstrap.bundle.min.js&quot;&gt;&lt;/script&gt;\n",
              "    &lt;script src=&quot;https://cdnjs.cloudflare.com/ajax/libs/Leaflet.awesome-markers/2.0.2/leaflet.awesome-markers.js&quot;&gt;&lt;/script&gt;\n",
              "    &lt;link rel=&quot;stylesheet&quot; href=&quot;https://cdn.jsdelivr.net/npm/leaflet@1.9.3/dist/leaflet.css&quot;/&gt;\n",
              "    &lt;link rel=&quot;stylesheet&quot; href=&quot;https://cdn.jsdelivr.net/npm/bootstrap@5.2.2/dist/css/bootstrap.min.css&quot;/&gt;\n",
              "    &lt;link rel=&quot;stylesheet&quot; href=&quot;https://netdna.bootstrapcdn.com/bootstrap/3.0.0/css/bootstrap.min.css&quot;/&gt;\n",
              "    &lt;link rel=&quot;stylesheet&quot; href=&quot;https://cdn.jsdelivr.net/npm/@fortawesome/fontawesome-free@6.2.0/css/all.min.css&quot;/&gt;\n",
              "    &lt;link rel=&quot;stylesheet&quot; href=&quot;https://cdnjs.cloudflare.com/ajax/libs/Leaflet.awesome-markers/2.0.2/leaflet.awesome-markers.css&quot;/&gt;\n",
              "    &lt;link rel=&quot;stylesheet&quot; href=&quot;https://cdn.jsdelivr.net/gh/python-visualization/folium/folium/templates/leaflet.awesome.rotate.min.css&quot;/&gt;\n",
              "    \n",
              "            &lt;meta name=&quot;viewport&quot; content=&quot;width=device-width,\n",
              "                initial-scale=1.0, maximum-scale=1.0, user-scalable=no&quot; /&gt;\n",
              "            &lt;style&gt;\n",
              "                #map_e483b406158ba21d32a5a1b98196f95d {\n",
              "                    position: relative;\n",
              "                    width: 75.0%;\n",
              "                    height: 50.0%;\n",
              "                    left: 0.0%;\n",
              "                    top: 0.0%;\n",
              "                }\n",
              "                .leaflet-container { font-size: 1rem; }\n",
              "            &lt;/style&gt;\n",
              "        \n",
              "    \n",
              "                &lt;style&gt;\n",
              "                    .leaflet-image-layer {\n",
              "                        /* old android/safari*/\n",
              "                        image-rendering: -webkit-optimize-contrast;\n",
              "                        image-rendering: crisp-edges; /* safari */\n",
              "                        image-rendering: pixelated; /* chrome */\n",
              "                        image-rendering: -moz-crisp-edges; /* firefox */\n",
              "                        image-rendering: -o-crisp-edges; /* opera */\n",
              "                        -ms-interpolation-mode: nearest-neighbor; /* ie */\n",
              "                    }\n",
              "                &lt;/style&gt;\n",
              "            \n",
              "&lt;/head&gt;\n",
              "&lt;body&gt;\n",
              "    \n",
              "    \n",
              "            &lt;div class=&quot;folium-map&quot; id=&quot;map_e483b406158ba21d32a5a1b98196f95d&quot; &gt;&lt;/div&gt;\n",
              "        \n",
              "&lt;/body&gt;\n",
              "&lt;script&gt;\n",
              "    \n",
              "    \n",
              "            var map_e483b406158ba21d32a5a1b98196f95d = L.map(\n",
              "                &quot;map_e483b406158ba21d32a5a1b98196f95d&quot;,\n",
              "                {\n",
              "                    center: [29.880166529340784, 59.97542241590318],\n",
              "                    crs: L.CRS.EPSG3857,\n",
              "                    zoom: 17,\n",
              "                    zoomControl: true,\n",
              "                    preferCanvas: false,\n",
              "                }\n",
              "            );\n",
              "\n",
              "            \n",
              "\n",
              "        \n",
              "    \n",
              "            var tile_layer_d7e0f18108dc510ae4239a7e47dd29f6 = L.tileLayer(\n",
              "                &quot;https://{s}.tile.openstreetmap.org/{z}/{x}/{y}.png&quot;,\n",
              "                {&quot;attribution&quot;: &quot;Data by \\u0026copy; \\u003ca target=\\&quot;_blank\\&quot; href=\\&quot;http://openstreetmap.org\\&quot;\\u003eOpenStreetMap\\u003c/a\\u003e, under \\u003ca target=\\&quot;_blank\\&quot; href=\\&quot;http://www.openstreetmap.org/copyright\\&quot;\\u003eODbL\\u003c/a\\u003e.&quot;, &quot;detectRetina&quot;: false, &quot;maxNativeZoom&quot;: 18, &quot;maxZoom&quot;: 18, &quot;minZoom&quot;: 0, &quot;noWrap&quot;: false, &quot;opacity&quot;: 1, &quot;subdomains&quot;: &quot;abc&quot;, &quot;tms&quot;: false}\n",
              "            ).addTo(map_e483b406158ba21d32a5a1b98196f95d);\n",
              "        \n",
              "    \n",
              "            var tile_layer_561e65b3746ca1804327cc1864f66af5 = L.tileLayer(\n",
              "                &quot;https://{s}.google.com/vt/lyrs=s,h\\u0026x={x}\\u0026y={y}\\u0026z={z}&quot;,\n",
              "                {&quot;attribution&quot;: &quot;Google&quot;, &quot;detectRetina&quot;: false, &quot;maxNativeZoom&quot;: 20, &quot;maxZoom&quot;: 20, &quot;minZoom&quot;: 0, &quot;noWrap&quot;: false, &quot;opacity&quot;: 1, &quot;subdomains&quot;: [&quot;mt1&quot;, &quot;mt2&quot;, &quot;mt3&quot;], &quot;tms&quot;: false}\n",
              "            ).addTo(map_e483b406158ba21d32a5a1b98196f95d);\n",
              "        \n",
              "    \n",
              "            var image_overlay_c340151e492ce827c3b6f3bee2903583 = L.imageOverlay(\n",
              "                &quot;https://earthengine.googleapis.com/v1/projects/ee-zoometh/thumbnails/a26e714f36730415c217dd64b7f4bd14-c06aa319a4c7ddc97e134007a852174d:getPixels&quot;,\n",
              "                [[29.87959, 59.974786], [29.880725, 59.9761]],\n",
              "                {&quot;opacity&quot;: 1}\n",
              "            ).addTo(map_e483b406158ba21d32a5a1b98196f95d);\n",
              "        \n",
              "    \n",
              "            var polygon_41be0e0a2b5175e33466464690450d1a = L.polygon(\n",
              "                [[29.88018, 59.974807], [29.880725, 59.975204], [29.880255, 59.9761], [29.87959, 59.975601], [29.880087, 59.974786], [29.88018, 59.974807]],\n",
              "                {&quot;bubblingMouseEvents&quot;: true, &quot;color&quot;: &quot;blue&quot;, &quot;dashArray&quot;: null, &quot;dashOffset&quot;: null, &quot;fill&quot;: true, &quot;fillColor&quot;: &quot;blue&quot;, &quot;fillOpacity&quot;: 0.2, &quot;fillRule&quot;: &quot;evenodd&quot;, &quot;lineCap&quot;: &quot;round&quot;, &quot;lineJoin&quot;: &quot;round&quot;, &quot;noClip&quot;: false, &quot;opacity&quot;: 1.0, &quot;smoothFactor&quot;: 1.0, &quot;stroke&quot;: true, &quot;weight&quot;: 3}\n",
              "            ).addTo(map_e483b406158ba21d32a5a1b98196f95d);\n",
              "        \n",
              "    \n",
              "            var layer_control_a32feaba2371fd8c2b64205263e11733 = {\n",
              "                base_layers : {\n",
              "                    &quot;openstreetmap&quot; : tile_layer_d7e0f18108dc510ae4239a7e47dd29f6,\n",
              "                    &quot;Google Satellite&quot; : tile_layer_561e65b3746ca1804327cc1864f66af5,\n",
              "                },\n",
              "                overlays :  {\n",
              "                    &quot;Landsat 8 Image&quot; : image_overlay_c340151e492ce827c3b6f3bee2903583,\n",
              "                },\n",
              "            };\n",
              "            L.control.layers(\n",
              "                layer_control_a32feaba2371fd8c2b64205263e11733.base_layers,\n",
              "                layer_control_a32feaba2371fd8c2b64205263e11733.overlays,\n",
              "                {&quot;autoZIndex&quot;: true, &quot;collapsed&quot;: true, &quot;position&quot;: &quot;topright&quot;}\n",
              "            ).addTo(map_e483b406158ba21d32a5a1b98196f95d);\n",
              "            tile_layer_561e65b3746ca1804327cc1864f66af5.remove();\n",
              "        \n",
              "&lt;/script&gt;\n",
              "&lt;/html&gt;\" style=\"position:absolute;width:100%;height:100%;left:0;top:0;border:none !important;\" allowfullscreen webkitallowfullscreen mozallowfullscreen></iframe></div></div>"
            ]
          },
          "metadata": {},
          "execution_count": 10
        }
      ]
    }
  ]
}