{
  "cells": [
    {
      "cell_type": "markdown",
      "metadata": {
        "id": "AZAEeMCQortF"
      },
      "source": [
        "# Citation-Generator Plugin\n",
        "> <img src='https://raw.githubusercontent.com/eamena-project/eamena-arches-dev/master/www/inst-uni-eamena.png' width = \"250px\"> EAMENA Team in-person meeting, 02/05/2024, Durham, UK\n",
        "\n"
      ]
    },
    {
      "cell_type": "code",
      "execution_count": null,
      "metadata": {
        "cellView": "form",
        "id": "5FFWnGZUxFrW"
      },
      "outputs": [],
      "source": [
        "# @title\n",
        "!pip install sickle\n",
        "!pip install requests pandas tabulate\n",
        "\n",
        "import requests\n",
        "import pandas as pd\n",
        "from xml.etree import ElementTree as ET\n",
        "from tabulate import tabulate\n",
        "import sickle\n",
        "from sickle import Sickle\n",
        "from IPython.display import display, HTML, IFrame, Markdown"
      ]
    },
    {
      "cell_type": "markdown",
      "metadata": {
        "id": "VTrmJ43CPI3O"
      },
      "source": [
        "## Introduction"
      ]
    },
    {
      "cell_type": "markdown",
      "metadata": {
        "id": "3uXJVnK5PXbi"
      },
      "source": [
        "---\n",
        "> CARE principles <small>*Collective, Authority, Responsibility, Ethical*</small>\n",
        "---\n",
        "\n",
        "<img src='https://raw.githubusercontent.com/eamena-project/eamena-arches-dev/master/talks/2024-citation-generator/img/team-kurdistan.jpg' width = \"400px\"><br>\n",
        "<small> @https://slemani-antiquities.com/</small>\n",
        "\n",
        "\n",
        "Our EAMENA partners of the MENA region **produce data but do not publish it** as often as needed.\n",
        "\n",
        "---\n",
        "> FAIR principles <small>*Fibdable, Accessible, Interoperable, Reusable*</small>\n",
        "---\n",
        "\n",
        "<img src='https://raw.githubusercontent.com/eamena-project/eamena-arches-dev/master/talks/2024-citation-generator/img/ai-chatgpt-eamena.png' width = \"400px\"><br>\n",
        "<small> @ChatGPT</small>\n",
        "\n",
        "We need to insure the EAMENA DB sustainability by **helping contributors to publish data in a standardized way**\n"
      ]
    },
    {
      "cell_type": "markdown",
      "metadata": {
        "id": "bIg9LcRa8jQZ"
      },
      "source": [
        "### Publishers\n",
        "\n",
        "[PCI Archaeology](https://archaeo.peercommunityin.org/), is a free and open peer-review publishing platform supported by different universities (<img src=\"https://raw.githubusercontent.com/eamena-project/eamena-arches-dev/main/talks/2024-citation-generator/img/pci-archaeology-inst-support-oxford.png\" width=\"50px\">, <img src=\"https://raw.githubusercontent.com/eamena-project/eamena-arches-dev/main/talks/2024-citation-generator/img/pci-archaeology-inst-support-haifa.png\" width=\"60px\">, ...) and having privilege agreements with many journals (<img src=\"https://raw.githubusercontent.com/eamena-project/eamena-arches-dev/main/talks/2024-citation-generator/img/pci-archaeology-journal-friend-joad.png\" width=\"200px\">, <img src=\"https://raw.githubusercontent.com/eamena-project/eamena-arches-dev/main/talks/2024-citation-generator/img/pci-archaeology-journal-friend-iran-nm.png\" width=\"150px\">, ...)"
      ]
    },
    {
      "cell_type": "code",
      "execution_count": 43,
      "metadata": {
        "colab": {
          "base_uri": "https://localhost:8080/",
          "height": 421
        },
        "id": "ZLJQ6I9z8OmA",
        "outputId": "397255a5-cf0e-4a21-d959-f93a8152f04c"
      },
      "outputs": [
        {
          "data": {
            "text/html": [
              "\n",
              "        <iframe\n",
              "            width=\"100%\"\n",
              "            height=\"400\"\n",
              "            src=\"https://archaeo.peercommunityin.org/\"\n",
              "            frameborder=\"0\"\n",
              "            allowfullscreen\n",
              "            \n",
              "        ></iframe>\n",
              "        "
            ],
            "text/plain": [
              "<IPython.lib.display.IFrame at 0x7f2d8c1be050>"
            ]
          },
          "execution_count": 43,
          "metadata": {},
          "output_type": "execute_result"
        }
      ],
      "source": [
        "IFrame('https://archaeo.peercommunityin.org/', width=\"100%\", height=300)"
      ]
    },
    {
      "cell_type": "markdown",
      "metadata": {
        "id": "UWngZLJjLqNK"
      },
      "source": [
        "### Data\n",
        "\n",
        "Heritage Places exported from the EAMENA DB to a GeoJSON <img src='https://raw.githubusercontent.com/zoometh/thomashuet/master/img/app-js-format-geojson.png' width = \"40px\"> file hosted on GitHub <img src='https://raw.githubusercontent.com/zoometh/thomashuet/master/img/app-github.png' width = \"30px\"> <a href=\"#footnote1\">[1]</a>\n",
        "\n",
        "<img src=\"https://raw.githubusercontent.com/eamena-project/eamena-arches-dev/main/talks/2024-citation-generator/img/data-github-geojson.png\" width=\"1000px\">\n",
        "<br>\n",
        "\n",
        "\n",
        "---\n",
        "\n",
        "<small><a id=\"footnote1\">[1]</a> EAMENA DB search URL: https://database.eamena.org/search?paging-filter=1&tiles=true&format=tilecsv&reportlink=false&precision=6&total=21&term-filter=%5B%7B%22context%22%3A%22%22%2C%22context_label%22%3A%22Heritage%20Place%20-%20Resource%20Name%22%2C%22id%22%3A0%2C%22text%22%3A%22CVNS-Afghanistan%22%2C%22type%22%3A%22term%22%2C%22value%22%3A%22CVNS-Afghanistan%22%2C%22inverted%22%3Afalse%7D%5D&language=*&resource-type-filter=%5B%7B%22graphid%22%3A%2234cfe98e-c2c0-11ea-9026-02e7594ce0a0%22%2C%22name%22%3A%22Heritage%20Place%22%2C%22inverted%22%3Afalse%7D%5D.</small>\n",
        "\n",
        "\n",
        "\n",
        "\n"
      ]
    },
    {
      "cell_type": "markdown",
      "metadata": {
        "id": "SZOH5nZ8W3rZ"
      },
      "source": [
        "### Methods\n",
        "\n",
        "* The GeoJSON can be read and statistics done with the package <img src='https://raw.githubusercontent.com/eamena-project/eamena-arches-dev/master/www/eamenaR_logo.png' width = \"35px\">\n",
        "\n",
        "```R\n",
        "geojson_map_path(map.name = \"caravanserail_paths\", export.plot = T, fig.width = 11)\n",
        "```\n",
        "<img src='https://raw.githubusercontent.com/eamena-project/eamenaR/main/results/caravanserail_paths.png' width = \"700px\">\n",
        "\n",
        "* The GeoJSON can be read by a LLM (ex: **ChatGPT**) and mapped to a publication template (ex: [JOAD](https://openarchaeologydata.metajnl.com/about/submissions))\n",
        "\n",
        "<img src=\"https://raw.githubusercontent.com/eamena-project/eamena-arches-dev/main/talks/2024-citation-generator/img/ai-chatgpt-fill-template.png\" width=\"600px\">\n",
        "\n",
        "EAMENA contributors can share data and code using Python <img src='https://raw.githubusercontent.com/zoometh/thomashuet/master/img/app-prg-python-2.png' width = \"30px\"> code `>` hosted on GitHub <img src='https://raw.githubusercontent.com/zoometh/thomashuet/master/img/app-github.png' width = \"30px\"> `>` in a Jupyter Notebook <img src='https://raw.githubusercontent.com/zoometh/thomashuet/master/img/app-prg-python-jupyter.png' width = \"35px\"> and `>` mirrored on Google Colab <img src='https://raw.githubusercontent.com/zoometh/thomashuet/master/img/app-google-colab.png' width = \"50px\">"
      ]
    },
    {
      "cell_type": "markdown",
      "metadata": {
        "id": "kHEFh3FspLrP"
      },
      "source": [
        "## Publish your data with your research\n",
        "> Bijan"
      ]
    },
    {
      "cell_type": "markdown",
      "metadata": {
        "id": "_8TvOsc9o979"
      },
      "source": [
        "## Overview of the citation plugin and the EAMENA Zenodo community\n"
      ]
    },
    {
      "cell_type": "markdown",
      "metadata": {
        "id": "JRBna3oLkpMA"
      },
      "source": [
        "### Citation plugin"
      ]
    },
    {
      "cell_type": "markdown",
      "metadata": {
        "id": "hB_mSe_Rk13W"
      },
      "source": [
        "### Zenodo and the EAMENA community"
      ]
    },
    {
      "cell_type": "markdown",
      "metadata": {
        "id": "hgx0rkdRuZfN"
      },
      "source": [
        "#### Zenodo"
      ]
    },
    {
      "cell_type": "markdown",
      "metadata": {
        "id": "fn0t6lealy19"
      },
      "source": [
        "Zenodo is a DOI <img src='https://raw.githubusercontent.com/zoometh/thomashuet/master/img/lod-doi.png' width = \"30px\"> provider. It is OAI-PMH <img src='https://raw.githubusercontent.com/zoometh/thomashuet/master/img/lod-oai.png' width = \"30px\"> compliant<a href=\"#footnote2\">[2]</a>. GitHub <img src='https://raw.githubusercontent.com/zoometh/thomashuet/master/img/app-github.png' width = \"30px\"> enables the creation of releases, and Zenodo can then be used to generate a DOI for each release.\n",
        "\n",
        "| Description |  |\n",
        "|----------|----------|\n",
        "| <img src='https://raw.githubusercontent.com/zoometh/thomashuet/master/img/lod-doi.png' width = \"30px\">     |          |\n",
        "| Zenodo<br><img src='https://raw.githubusercontent.com/zoometh/thomashuet/master/img/lod-oai.png' width = \"30px\"> API | <a href=\"https://raw.githubusercontent.com/eamena-project/eamena-arches-dev/master/www/zenodo-metadata-eamena.png\"><img src='https://raw.githubusercontent.com/eamena-project/eamena-arches-dev/master/www/zenodo-metadata-eamena.png' width = \"850px\"></a>  |\n",
        "| <img src='https://raw.githubusercontent.com/zoometh/thomashuet/master/img/app-github.png' width = \"30px\"><br>Zenodo<br>release<br> | <a href=\"https://raw.githubusercontent.com/zoometh/thomashuet/master/img/app-zenodo-github-release.png\"> <img src='https://raw.githubusercontent.com/zoometh/thomashuet/master/img/app-zenodo-github-release.png' width = \"850px\"> </a> |\n",
        "\n",
        "---\n",
        "\n",
        "<small><a id=\"footnote2\">[2]</a> *Open Archives Initiative Protocol for Metadata Harvesting*. Semantic web standard which allows DW to be structured for the interoperability of their metadata\n",
        "\n"
      ]
    },
    {
      "cell_type": "markdown",
      "metadata": {
        "id": "JDztGFP6ul9o"
      },
      "source": [
        "#### EAMENA community\n",
        "\n",
        "To curate and manage EAMENA outputs (members management,  submissions reviewing, deposits management, etc.) EAMENA has a Zenodo community: <https://zenodo.org/communities/eamena>.\n",
        "\n",
        "| Description |  |\n",
        "|----------|----------|\n",
        "| Zenodo<br>community | <a href=\"https://zenodo.org/communities/eamena\"><img src='https://raw.githubusercontent.com/eamena-project/eamena-arches-dev/master/www/zenodo-communities-eamena.png' width = \"850px\"></a> |\n",
        "| Zenodo<br>community<br>members | <a href=\"https://zenodo.org/communities/eamena\"><img src='https://raw.githubusercontent.com/eamena-project/eamena-arches-dev/master/www/zenodo-communities-eamena_members.png' width = \"850px\"></a> |"
      ]
    },
    {
      "cell_type": "markdown",
      "metadata": {
        "id": "i6VqbGg24aJQ"
      },
      "source": [
        "Content (through the OAI API)"
      ]
    },
    {
      "cell_type": "code",
      "execution_count": 40,
      "metadata": {
        "cellView": "form",
        "colab": {
          "base_uri": "https://localhost:8080/",
          "height": 206
        },
        "id": "7soBTXCgybFx",
        "outputId": "dfd537aa-8ba0-4cb4-e50c-64cbbbc9b977"
      },
      "outputs": [
        {
          "data": {
            "application/vnd.google.colaboratory.intrinsic+json": {
              "summary": "{\n  \"name\": \"df\",\n  \"rows\": 5,\n  \"fields\": [\n    {\n      \"column\": \"Title\",\n      \"properties\": {\n        \"dtype\": \"string\",\n        \"num_unique_values\": 5,\n        \"samples\": [\n          \"Sistan: part 1. Grid Squares\",\n          \"A lost campaign\",\n          \"Reference data\"\n        ],\n        \"semantic_type\": \"\",\n        \"description\": \"\"\n      }\n    },\n    {\n      \"column\": \"Data Collector\",\n      \"properties\": {\n        \"dtype\": \"object\",\n        \"semantic_type\": \"\",\n        \"description\": \"\"\n      }\n    },\n    {\n      \"column\": \"Doi\",\n      \"properties\": {\n        \"dtype\": \"string\",\n        \"num_unique_values\": 5,\n        \"samples\": [\n          \"https://doi.org/10.5281/zenodo.10376132\",\n          \"https://doi.org/10.5281/zenodo.11067210\",\n          \"https://doi.org/10.5281/zenodo.10142707\"\n        ],\n        \"semantic_type\": \"\",\n        \"description\": \"\"\n      }\n    }\n  ]\n}",
              "type": "dataframe"
            },
            "text/html": [
              "\n",
              "  <div id=\"df-61bb9bc9-7314-4047-8987-341009f54a73\" class=\"colab-df-container\">\n",
              "    <div>\n",
              "<style scoped>\n",
              "    .dataframe tbody tr th:only-of-type {\n",
              "        vertical-align: middle;\n",
              "    }\n",
              "\n",
              "    .dataframe tbody tr th {\n",
              "        vertical-align: top;\n",
              "    }\n",
              "\n",
              "    .dataframe thead th {\n",
              "        text-align: right;\n",
              "    }\n",
              "</style>\n",
              "<table border=\"1\" class=\"dataframe\">\n",
              "  <thead>\n",
              "    <tr style=\"text-align: right;\">\n",
              "      <th></th>\n",
              "      <th>Title</th>\n",
              "      <th>Data Collector</th>\n",
              "      <th>Doi</th>\n",
              "    </tr>\n",
              "  </thead>\n",
              "  <tbody>\n",
              "    <tr>\n",
              "      <th>0</th>\n",
              "      <td>Sistan: part 1. Heritage Places</td>\n",
              "      <td>[Rouhani, Bijan, Zhou, Danlei, Nabati Mazloumi...</td>\n",
              "      <td>https://doi.org/10.5281/zenodo.10375902</td>\n",
              "    </tr>\n",
              "    <tr>\n",
              "      <th>1</th>\n",
              "      <td>Sistan: part 1. Grid Squares</td>\n",
              "      <td>[University of Oxford, University of Southampton]</td>\n",
              "      <td>https://doi.org/10.5281/zenodo.10376132</td>\n",
              "    </tr>\n",
              "    <tr>\n",
              "      <th>3</th>\n",
              "      <td>Reference data</td>\n",
              "      <td>[University of Oxford, University of Southampton]</td>\n",
              "      <td>https://doi.org/10.5281/zenodo.10142707</td>\n",
              "    </tr>\n",
              "    <tr>\n",
              "      <th>2</th>\n",
              "      <td>Grids</td>\n",
              "      <td>[University of Oxford, University of Southampton]</td>\n",
              "      <td>https://doi.org/10.5281/zenodo.10218176</td>\n",
              "    </tr>\n",
              "    <tr>\n",
              "      <th>4</th>\n",
              "      <td>A lost campaign</td>\n",
              "      <td>[Michael Fradley]</td>\n",
              "      <td>https://doi.org/10.5281/zenodo.11067210</td>\n",
              "    </tr>\n",
              "  </tbody>\n",
              "</table>\n",
              "</div>\n",
              "    <div class=\"colab-df-buttons\">\n",
              "\n",
              "  <div class=\"colab-df-container\">\n",
              "    <button class=\"colab-df-convert\" onclick=\"convertToInteractive('df-61bb9bc9-7314-4047-8987-341009f54a73')\"\n",
              "            title=\"Convert this dataframe to an interactive table.\"\n",
              "            style=\"display:none;\">\n",
              "\n",
              "  <svg xmlns=\"http://www.w3.org/2000/svg\" height=\"24px\" viewBox=\"0 -960 960 960\">\n",
              "    <path d=\"M120-120v-720h720v720H120Zm60-500h600v-160H180v160Zm220 220h160v-160H400v160Zm0 220h160v-160H400v160ZM180-400h160v-160H180v160Zm440 0h160v-160H620v160ZM180-180h160v-160H180v160Zm440 0h160v-160H620v160Z\"/>\n",
              "  </svg>\n",
              "    </button>\n",
              "\n",
              "  <style>\n",
              "    .colab-df-container {\n",
              "      display:flex;\n",
              "      gap: 12px;\n",
              "    }\n",
              "\n",
              "    .colab-df-convert {\n",
              "      background-color: #E8F0FE;\n",
              "      border: none;\n",
              "      border-radius: 50%;\n",
              "      cursor: pointer;\n",
              "      display: none;\n",
              "      fill: #1967D2;\n",
              "      height: 32px;\n",
              "      padding: 0 0 0 0;\n",
              "      width: 32px;\n",
              "    }\n",
              "\n",
              "    .colab-df-convert:hover {\n",
              "      background-color: #E2EBFA;\n",
              "      box-shadow: 0px 1px 2px rgba(60, 64, 67, 0.3), 0px 1px 3px 1px rgba(60, 64, 67, 0.15);\n",
              "      fill: #174EA6;\n",
              "    }\n",
              "\n",
              "    .colab-df-buttons div {\n",
              "      margin-bottom: 4px;\n",
              "    }\n",
              "\n",
              "    [theme=dark] .colab-df-convert {\n",
              "      background-color: #3B4455;\n",
              "      fill: #D2E3FC;\n",
              "    }\n",
              "\n",
              "    [theme=dark] .colab-df-convert:hover {\n",
              "      background-color: #434B5C;\n",
              "      box-shadow: 0px 1px 3px 1px rgba(0, 0, 0, 0.15);\n",
              "      filter: drop-shadow(0px 1px 2px rgba(0, 0, 0, 0.3));\n",
              "      fill: #FFFFFF;\n",
              "    }\n",
              "  </style>\n",
              "\n",
              "    <script>\n",
              "      const buttonEl =\n",
              "        document.querySelector('#df-61bb9bc9-7314-4047-8987-341009f54a73 button.colab-df-convert');\n",
              "      buttonEl.style.display =\n",
              "        google.colab.kernel.accessAllowed ? 'block' : 'none';\n",
              "\n",
              "      async function convertToInteractive(key) {\n",
              "        const element = document.querySelector('#df-61bb9bc9-7314-4047-8987-341009f54a73');\n",
              "        const dataTable =\n",
              "          await google.colab.kernel.invokeFunction('convertToInteractive',\n",
              "                                                    [key], {});\n",
              "        if (!dataTable) return;\n",
              "\n",
              "        const docLinkHtml = 'Like what you see? Visit the ' +\n",
              "          '<a target=\"_blank\" href=https://colab.research.google.com/notebooks/data_table.ipynb>data table notebook</a>'\n",
              "          + ' to learn more about interactive tables.';\n",
              "        element.innerHTML = '';\n",
              "        dataTable['output_type'] = 'display_data';\n",
              "        await google.colab.output.renderOutput(dataTable, element);\n",
              "        const docLink = document.createElement('div');\n",
              "        docLink.innerHTML = docLinkHtml;\n",
              "        element.appendChild(docLink);\n",
              "      }\n",
              "    </script>\n",
              "  </div>\n",
              "\n",
              "\n",
              "<div id=\"df-e0b26294-e201-4d53-bc8b-eec3ad1c93b6\">\n",
              "  <button class=\"colab-df-quickchart\" onclick=\"quickchart('df-e0b26294-e201-4d53-bc8b-eec3ad1c93b6')\"\n",
              "            title=\"Suggest charts\"\n",
              "            style=\"display:none;\">\n",
              "\n",
              "<svg xmlns=\"http://www.w3.org/2000/svg\" height=\"24px\"viewBox=\"0 0 24 24\"\n",
              "     width=\"24px\">\n",
              "    <g>\n",
              "        <path d=\"M19 3H5c-1.1 0-2 .9-2 2v14c0 1.1.9 2 2 2h14c1.1 0 2-.9 2-2V5c0-1.1-.9-2-2-2zM9 17H7v-7h2v7zm4 0h-2V7h2v10zm4 0h-2v-4h2v4z\"/>\n",
              "    </g>\n",
              "</svg>\n",
              "  </button>\n",
              "\n",
              "<style>\n",
              "  .colab-df-quickchart {\n",
              "      --bg-color: #E8F0FE;\n",
              "      --fill-color: #1967D2;\n",
              "      --hover-bg-color: #E2EBFA;\n",
              "      --hover-fill-color: #174EA6;\n",
              "      --disabled-fill-color: #AAA;\n",
              "      --disabled-bg-color: #DDD;\n",
              "  }\n",
              "\n",
              "  [theme=dark] .colab-df-quickchart {\n",
              "      --bg-color: #3B4455;\n",
              "      --fill-color: #D2E3FC;\n",
              "      --hover-bg-color: #434B5C;\n",
              "      --hover-fill-color: #FFFFFF;\n",
              "      --disabled-bg-color: #3B4455;\n",
              "      --disabled-fill-color: #666;\n",
              "  }\n",
              "\n",
              "  .colab-df-quickchart {\n",
              "    background-color: var(--bg-color);\n",
              "    border: none;\n",
              "    border-radius: 50%;\n",
              "    cursor: pointer;\n",
              "    display: none;\n",
              "    fill: var(--fill-color);\n",
              "    height: 32px;\n",
              "    padding: 0;\n",
              "    width: 32px;\n",
              "  }\n",
              "\n",
              "  .colab-df-quickchart:hover {\n",
              "    background-color: var(--hover-bg-color);\n",
              "    box-shadow: 0 1px 2px rgba(60, 64, 67, 0.3), 0 1px 3px 1px rgba(60, 64, 67, 0.15);\n",
              "    fill: var(--button-hover-fill-color);\n",
              "  }\n",
              "\n",
              "  .colab-df-quickchart-complete:disabled,\n",
              "  .colab-df-quickchart-complete:disabled:hover {\n",
              "    background-color: var(--disabled-bg-color);\n",
              "    fill: var(--disabled-fill-color);\n",
              "    box-shadow: none;\n",
              "  }\n",
              "\n",
              "  .colab-df-spinner {\n",
              "    border: 2px solid var(--fill-color);\n",
              "    border-color: transparent;\n",
              "    border-bottom-color: var(--fill-color);\n",
              "    animation:\n",
              "      spin 1s steps(1) infinite;\n",
              "  }\n",
              "\n",
              "  @keyframes spin {\n",
              "    0% {\n",
              "      border-color: transparent;\n",
              "      border-bottom-color: var(--fill-color);\n",
              "      border-left-color: var(--fill-color);\n",
              "    }\n",
              "    20% {\n",
              "      border-color: transparent;\n",
              "      border-left-color: var(--fill-color);\n",
              "      border-top-color: var(--fill-color);\n",
              "    }\n",
              "    30% {\n",
              "      border-color: transparent;\n",
              "      border-left-color: var(--fill-color);\n",
              "      border-top-color: var(--fill-color);\n",
              "      border-right-color: var(--fill-color);\n",
              "    }\n",
              "    40% {\n",
              "      border-color: transparent;\n",
              "      border-right-color: var(--fill-color);\n",
              "      border-top-color: var(--fill-color);\n",
              "    }\n",
              "    60% {\n",
              "      border-color: transparent;\n",
              "      border-right-color: var(--fill-color);\n",
              "    }\n",
              "    80% {\n",
              "      border-color: transparent;\n",
              "      border-right-color: var(--fill-color);\n",
              "      border-bottom-color: var(--fill-color);\n",
              "    }\n",
              "    90% {\n",
              "      border-color: transparent;\n",
              "      border-bottom-color: var(--fill-color);\n",
              "    }\n",
              "  }\n",
              "</style>\n",
              "\n",
              "  <script>\n",
              "    async function quickchart(key) {\n",
              "      const quickchartButtonEl =\n",
              "        document.querySelector('#' + key + ' button');\n",
              "      quickchartButtonEl.disabled = true;  // To prevent multiple clicks.\n",
              "      quickchartButtonEl.classList.add('colab-df-spinner');\n",
              "      try {\n",
              "        const charts = await google.colab.kernel.invokeFunction(\n",
              "            'suggestCharts', [key], {});\n",
              "      } catch (error) {\n",
              "        console.error('Error during call to suggestCharts:', error);\n",
              "      }\n",
              "      quickchartButtonEl.classList.remove('colab-df-spinner');\n",
              "      quickchartButtonEl.classList.add('colab-df-quickchart-complete');\n",
              "    }\n",
              "    (() => {\n",
              "      let quickchartButtonEl =\n",
              "        document.querySelector('#df-e0b26294-e201-4d53-bc8b-eec3ad1c93b6 button');\n",
              "      quickchartButtonEl.style.display =\n",
              "        google.colab.kernel.accessAllowed ? 'block' : 'none';\n",
              "    })();\n",
              "  </script>\n",
              "</div>\n",
              "    </div>\n",
              "  </div>\n"
            ],
            "text/plain": [
              "                             Title  \\\n",
              "0  Sistan: part 1. Heritage Places   \n",
              "1     Sistan: part 1. Grid Squares   \n",
              "3                   Reference data   \n",
              "2                            Grids   \n",
              "4                  A lost campaign   \n",
              "\n",
              "                                      Data Collector  \\\n",
              "0  [Rouhani, Bijan, Zhou, Danlei, Nabati Mazloumi...   \n",
              "1  [University of Oxford, University of Southampton]   \n",
              "3  [University of Oxford, University of Southampton]   \n",
              "2  [University of Oxford, University of Southampton]   \n",
              "4                                  [Michael Fradley]   \n",
              "\n",
              "                                       Doi  \n",
              "0  https://doi.org/10.5281/zenodo.10375902  \n",
              "1  https://doi.org/10.5281/zenodo.10376132  \n",
              "3  https://doi.org/10.5281/zenodo.10142707  \n",
              "2  https://doi.org/10.5281/zenodo.10218176  \n",
              "4  https://doi.org/10.5281/zenodo.11067210  "
            ]
          },
          "execution_count": 40,
          "metadata": {},
          "output_type": "execute_result"
        }
      ],
      "source": [
        "# @title\n",
        "sickle = Sickle('https://zenodo.org/oai2d')\n",
        "records = sickle.ListRecords(metadataPrefix='oai_dc', set='user-eamena')\n",
        "\n",
        "data = []\n",
        "for record in records:\n",
        "    metadata = record.metadata\n",
        "    title = metadata.get('title', ['No Title'])[0]\n",
        "    # collectors = metadata.get('creator', ['Unknown'])\n",
        "    collectors = metadata.get('contributor')\n",
        "    # badges = metadata.get('badge', ['No Badges'])\n",
        "    doi = metadata.get('identifier')\n",
        "\n",
        "    data.append({\n",
        "        'Title': title,\n",
        "        'Data Collector': collectors,\n",
        "        'Doi': doi[0]\n",
        "    })\n",
        "    # Safety break to avoid too long loops during testing\n",
        "    # Remove or modify this based on actual needs\n",
        "    if len(data) > 20:\n",
        "        break\n",
        "df = pd.DataFrame(data)\n",
        "df.sort_values(by='Title', ascending=False)"
      ]
    },
    {
      "cell_type": "markdown",
      "metadata": {
        "id": "km9D60Pqpj06"
      },
      "source": [
        "## Towards an RDFisation of EAMENA data\n",
        "> Ash"
      ]
    },
    {
      "cell_type": "markdown",
      "metadata": {
        "id": "3kyRGhT0PRg8"
      },
      "source": []
    },
    {
      "cell_type": "markdown",
      "metadata": {
        "id": "mo6WXgO5PY_a"
      },
      "source": [
        "## Documentation\n",
        "\n",
        "<img src='https://raw.githubusercontent.com/zoometh/thomashuet/master/img/app-github.png' width = \"30px\"> https://github.com/eamena-project/eamena-arches-dev/tree/main/dbs/database.eamena/citation#readme"
      ]
    }
  ],
  "metadata": {
    "colab": {
      "provenance": [],
      "toc_visible": true
    },
    "kernelspec": {
      "display_name": "Python 3",
      "name": "python3"
    },
    "language_info": {
      "name": "python"
    }
  },
  "nbformat": 4,
  "nbformat_minor": 0
}
